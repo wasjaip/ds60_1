{
 "cells": [
  {
   "cell_type": "markdown",
   "metadata": {},
   "source": [
    "# Прогноз оттока клиентов для оператора связи"
   ]
  },
  {
   "cell_type": "markdown",
   "metadata": {},
   "source": [
    "На основе информации о клиентах оператора связи, построить модель способную прогнозировать отток."
   ]
  },
  {
   "cell_type": "markdown",
   "metadata": {},
   "source": [
    "#### Описание услуг\n",
    "\n",
    "\n",
    "Оператор предоставляет два основных типа услуг:\n",
    "\n",
    "1. Стационарную телефонную связь. Возможно подключение телефонного аппарата к нескольким линиям одновременно.\n",
    "2. Интернет. Подключение может быть двух типов: через телефонную линию (DSL*,* от англ. *digital subscriber line*, «цифровая абонентская линия») или оптоволоконный кабель (*Fiber optic*).\n",
    "\n",
    "Также доступны такие услуги:\n",
    "\n",
    "- Интернет-безопасность: антивирус (*DeviceProtection*) и блокировка небезопасных сайтов (*OnlineSecurity*);\n",
    "- Выделенная линия технической поддержки (*TechSupport*);\n",
    "- Облачное хранилище файлов для резервного копирования данных (*OnlineBackup*);\n",
    "- Стриминговое телевидение (*StreamingTV*) и каталог фильмов (*StreamingMovies*).\n",
    "\n",
    "За услуги клиенты могут платить каждый месяц или заключить договор на 1–2 года. Доступны различные способы расчёта и возможность получения электронного чека.\n",
    "\n",
    "#### Описание данных\n",
    "\n",
    "Данные состоят из файлов, полученных из разных источников:\n",
    "\n",
    "- `contract.csv` — информация о договоре;\n",
    "- `personal.csv` — персональные данные клиента;\n",
    "- `internet.csv` — информация об интернет-услугах;\n",
    "- `phone.csv` — информация об услугах телефонии.\n",
    "\n",
    "Во всех файлах столбец `customerID` содержит код клиента.\n",
    "\n",
    "Информация о договорах актуальна на 1 февраля 2020."
   ]
  },
  {
   "cell_type": "markdown",
   "metadata": {},
   "source": [
    "#### Расшифровка колонок\n",
    "\n",
    "* customerID - идентификационный номер клиента\n",
    "* BeginDate - дата начала пользования услугами\n",
    "* EndDate - дата окончания пользования услугами\n",
    "* Type - тип оплаты: ежемесячный, годовой и тд\n",
    "* PaperlessBilling – безналичный расчет\n",
    "* PaymentMethod – способ оплаты\n",
    "* MonthlyCharges – ежемесячные траты на услуги\n",
    "* TotalCharges – всего потрачено денег на услуги\n",
    "* Dependents – наличие иждивенцев\n",
    "* Senior Citizen – наличие пенсионного статуса по возрасту\n",
    "* Partner – наличие супруга(и)\n",
    "* MultipleLines – наличие возможности ведения параллельных линий во время звонка"
   ]
  },
  {
   "cell_type": "markdown",
   "metadata": {},
   "source": [
    "#### План выполнения проекта"
   ]
  },
  {
   "cell_type": "markdown",
   "metadata": {},
   "source": [
    "1. Исследование данных\n",
    "    * визуальный осмотр\n",
    "    * вывод статистической информации\n",
    "    * поиск пропусков и проверка типов данных\n",
    "    * поиск дубликатов\n",
    "2. Подготовка данных\n",
    "    * объединение таблиц\n",
    "    * пред обработка пропусков, дубликатов (при наличии)\n",
    "    * изменение типов данных (при необходимости)\n",
    "    * подготовка признаков для модели(добавление синтетических, удаление малоинформативных)\n",
    "3. Подбор моделей\n",
    "    * обучить и сравнить несколько моделей на кросс валидации, и выбрать наиболее подходящую\n",
    "4. Подбор гиперпараметров и признакового пространства на кросс валидации\n",
    "    * выбрать информативные признаки\n",
    "    * подобрать гиперпараметры\n",
    "5. Тестирование\n",
    "    * проверка на тестовой выборке\n",
    "6. Вывод"
   ]
  },
  {
   "cell_type": "markdown",
   "metadata": {},
   "source": [
    "#### Импорт библиотек"
   ]
  },
  {
   "cell_type": "code",
   "execution_count": 1,
   "metadata": {},
   "outputs": [],
   "source": [
    "import pandas as pd\n",
    "import numpy as np\n",
    "from sklearn.preprocessing import StandardScaler, OrdinalEncoder\n",
    "from sklearn.model_selection import train_test_split, GridSearchCV\n",
    "from sklearn.metrics import roc_auc_score, accuracy_score, roc_curve\n",
    "from sklearn.ensemble import RandomForestClassifier\n",
    "from catboost import CatBoostClassifier\n",
    "from lightgbm import LGBMClassifier\n",
    "import matplotlib.pyplot as plt\n",
    "import seaborn as sns\n",
    "import warnings\n",
    "\n",
    "\n",
    "pd.set_option('display.max_columns', 30)\n",
    "warnings.filterwarnings(\"ignore\")"
   ]
  },
  {
   "cell_type": "code",
   "execution_count": 2,
   "metadata": {},
   "outputs": [],
   "source": [
    "contract = pd.read_csv('/datasets/final_provider/contract.csv', index_col='customerID')\n",
    "personal = pd.read_csv('/datasets/final_provider/personal.csv', index_col='customerID')\n",
    "internet = pd.read_csv('/datasets/final_provider/internet.csv', index_col='customerID')\n",
    "phone = pd.read_csv('/datasets/final_provider/phone.csv', index_col='customerID')\n",
    "\n",
    "datasets = [contract, personal, internet, phone]"
   ]
  },
  {
   "cell_type": "markdown",
   "metadata": {},
   "source": [
    "### Исследование данных"
   ]
  },
  {
   "cell_type": "code",
   "execution_count": 3,
   "metadata": {},
   "outputs": [],
   "source": [
    "def view(data):\n",
    "    print('Обзор данных', '\\n')\n",
    "    print(data.sample(10))\n",
    "    print('\\n')\n",
    "    print('Информация о формате, количестве строк и пропусках', '\\n')\n",
    "    print(data.info())\n",
    "    print('\\n')\n",
    "    print('Статистика', '\\n')\n",
    "    print(data.describe())\n",
    "    print('-' * 65)\n",
    "    print('\\n' * 3)"
   ]
  },
  {
   "cell_type": "code",
   "execution_count": 4,
   "metadata": {
    "scrolled": false
   },
   "outputs": [
    {
     "name": "stdout",
     "output_type": "stream",
     "text": [
      "Обзор данных \n",
      "\n",
      "             BeginDate              EndDate            Type PaperlessBilling  \\\n",
      "customerID                                                                     \n",
      "3638-DIMPH  2019-01-01                   No        One year               No   \n",
      "5914-DVBWJ  2018-05-01  2019-11-01 00:00:00  Month-to-month              Yes   \n",
      "5167-ZFFMM  2019-10-01  2019-11-01 00:00:00  Month-to-month              Yes   \n",
      "4232-JGKIY  2020-01-01                   No  Month-to-month               No   \n",
      "5543-QDCRY  2019-10-01                   No  Month-to-month              Yes   \n",
      "1062-LHZOD  2019-09-01  2019-10-01 00:00:00  Month-to-month              Yes   \n",
      "4433-JCGCG  2016-02-01  2019-12-01 00:00:00  Month-to-month              Yes   \n",
      "2972-YDYUW  2015-05-01                   No        One year               No   \n",
      "5136-GFPMB  2015-08-01                   No  Month-to-month               No   \n",
      "9769-TSBZE  2014-04-01                   No        Two year               No   \n",
      "\n",
      "                      PaymentMethod  MonthlyCharges TotalCharges  \n",
      "customerID                                                        \n",
      "3638-DIMPH         Electronic check           43.80       592.65  \n",
      "5914-DVBWJ         Electronic check           85.45      1505.85  \n",
      "5167-ZFFMM  Credit card (automatic)           90.85        90.85  \n",
      "4232-JGKIY         Electronic check           19.20         19.2  \n",
      "5543-QDCRY         Electronic check           56.40       234.85  \n",
      "1062-LHZOD             Mailed check           69.90         69.9  \n",
      "4433-JCGCG         Electronic check          101.00      4680.05  \n",
      "2972-YDYUW         Electronic check           94.70      5468.95  \n",
      "5136-GFPMB  Credit card (automatic)           89.40       4869.5  \n",
      "9769-TSBZE         Electronic check           66.00       4891.5  \n",
      "\n",
      "\n",
      "Информация о формате, количестве строк и пропусках \n",
      "\n",
      "<class 'pandas.core.frame.DataFrame'>\n",
      "Index: 7043 entries, 7590-VHVEG to 3186-AJIEK\n",
      "Data columns (total 7 columns):\n",
      "BeginDate           7043 non-null object\n",
      "EndDate             7043 non-null object\n",
      "Type                7043 non-null object\n",
      "PaperlessBilling    7043 non-null object\n",
      "PaymentMethod       7043 non-null object\n",
      "MonthlyCharges      7043 non-null float64\n",
      "TotalCharges        7043 non-null object\n",
      "dtypes: float64(1), object(6)\n",
      "memory usage: 440.2+ KB\n",
      "None\n",
      "\n",
      "\n",
      "Статистика \n",
      "\n",
      "       MonthlyCharges\n",
      "count     7043.000000\n",
      "mean        64.761692\n",
      "std         30.090047\n",
      "min         18.250000\n",
      "25%         35.500000\n",
      "50%         70.350000\n",
      "75%         89.850000\n",
      "max        118.750000\n",
      "-----------------------------------------------------------------\n",
      "\n",
      "\n",
      "\n",
      "\n",
      "Обзор данных \n",
      "\n",
      "            gender  SeniorCitizen Partner Dependents\n",
      "customerID                                          \n",
      "7519-JTWQH  Female              0      No         No\n",
      "4525-VZCZG    Male              0      No        Yes\n",
      "2535-PBCGC  Female              0     Yes         No\n",
      "9348-ROUAI  Female              0     Yes        Yes\n",
      "6575-SUVOI  Female              1     Yes         No\n",
      "4316-XCSLJ    Male              0      No        Yes\n",
      "8659-IOOPU  Female              0     Yes        Yes\n",
      "0788-DXBFY    Male              0     Yes        Yes\n",
      "0655-YDGFJ    Male              0      No         No\n",
      "7460-ITWWP  Female              1     Yes         No\n",
      "\n",
      "\n",
      "Информация о формате, количестве строк и пропусках \n",
      "\n",
      "<class 'pandas.core.frame.DataFrame'>\n",
      "Index: 7043 entries, 7590-VHVEG to 3186-AJIEK\n",
      "Data columns (total 4 columns):\n",
      "gender           7043 non-null object\n",
      "SeniorCitizen    7043 non-null int64\n",
      "Partner          7043 non-null object\n",
      "Dependents       7043 non-null object\n",
      "dtypes: int64(1), object(3)\n",
      "memory usage: 275.1+ KB\n",
      "None\n",
      "\n",
      "\n",
      "Статистика \n",
      "\n",
      "       SeniorCitizen\n",
      "count    7043.000000\n",
      "mean        0.162147\n",
      "std         0.368612\n",
      "min         0.000000\n",
      "25%         0.000000\n",
      "50%         0.000000\n",
      "75%         0.000000\n",
      "max         1.000000\n",
      "-----------------------------------------------------------------\n",
      "\n",
      "\n",
      "\n",
      "\n",
      "Обзор данных \n",
      "\n",
      "           InternetService OnlineSecurity OnlineBackup DeviceProtection  \\\n",
      "customerID                                                                \n",
      "8821-XNHVZ     Fiber optic             No           No               No   \n",
      "5130-IEKQT     Fiber optic             No          Yes              Yes   \n",
      "8189-XRIKE     Fiber optic             No           No               No   \n",
      "7748-UMTRK     Fiber optic             No           No               No   \n",
      "2865-TCHJW     Fiber optic             No           No              Yes   \n",
      "2054-PJOCK             DSL             No           No              Yes   \n",
      "6120-RJKLU             DSL            Yes           No              Yes   \n",
      "9878-TNQGW     Fiber optic             No           No               No   \n",
      "0463-ZSDNT             DSL             No           No               No   \n",
      "7750-EYXWZ             DSL             No          Yes              Yes   \n",
      "\n",
      "           TechSupport StreamingTV StreamingMovies  \n",
      "customerID                                          \n",
      "8821-XNHVZ          No         Yes              No  \n",
      "5130-IEKQT          No         Yes             Yes  \n",
      "8189-XRIKE          No         Yes             Yes  \n",
      "7748-UMTRK         Yes         Yes             Yes  \n",
      "2865-TCHJW          No         Yes              No  \n",
      "2054-PJOCK         Yes         Yes             Yes  \n",
      "6120-RJKLU         Yes         Yes             Yes  \n",
      "9878-TNQGW          No          No             Yes  \n",
      "0463-ZSDNT          No          No             Yes  \n",
      "7750-EYXWZ         Yes         Yes             Yes  \n",
      "\n",
      "\n",
      "Информация о формате, количестве строк и пропусках \n",
      "\n",
      "<class 'pandas.core.frame.DataFrame'>\n",
      "Index: 5517 entries, 7590-VHVEG to 3186-AJIEK\n",
      "Data columns (total 7 columns):\n",
      "InternetService     5517 non-null object\n",
      "OnlineSecurity      5517 non-null object\n",
      "OnlineBackup        5517 non-null object\n",
      "DeviceProtection    5517 non-null object\n",
      "TechSupport         5517 non-null object\n",
      "StreamingTV         5517 non-null object\n",
      "StreamingMovies     5517 non-null object\n",
      "dtypes: object(7)\n",
      "memory usage: 344.8+ KB\n",
      "None\n",
      "\n",
      "\n",
      "Статистика \n",
      "\n",
      "       InternetService OnlineSecurity OnlineBackup DeviceProtection  \\\n",
      "count             5517           5517         5517             5517   \n",
      "unique               2              2            2                2   \n",
      "top        Fiber optic             No           No               No   \n",
      "freq              3096           3498         3088             3095   \n",
      "\n",
      "       TechSupport StreamingTV StreamingMovies  \n",
      "count         5517        5517            5517  \n",
      "unique           2           2               2  \n",
      "top             No          No              No  \n",
      "freq          3473        2810            2785  \n",
      "-----------------------------------------------------------------\n",
      "\n",
      "\n",
      "\n",
      "\n",
      "Обзор данных \n",
      "\n",
      "           MultipleLines\n",
      "customerID              \n",
      "1898-JSNDC            No\n",
      "7994-XIRTR            No\n",
      "4475-NVTLU            No\n",
      "5940-AHUHD            No\n",
      "2599-CIPQE            No\n",
      "6145-NNPNO            No\n",
      "3557-HTYWR           Yes\n",
      "5447-VYTKW            No\n",
      "2823-LKABH           Yes\n",
      "1334-PDUKM           Yes\n",
      "\n",
      "\n",
      "Информация о формате, количестве строк и пропусках \n",
      "\n",
      "<class 'pandas.core.frame.DataFrame'>\n",
      "Index: 6361 entries, 5575-GNVDE to 3186-AJIEK\n",
      "Data columns (total 1 columns):\n",
      "MultipleLines    6361 non-null object\n",
      "dtypes: object(1)\n",
      "memory usage: 99.4+ KB\n",
      "None\n",
      "\n",
      "\n",
      "Статистика \n",
      "\n",
      "       MultipleLines\n",
      "count           6361\n",
      "unique             2\n",
      "top               No\n",
      "freq            3390\n",
      "-----------------------------------------------------------------\n",
      "\n",
      "\n",
      "\n",
      "\n"
     ]
    }
   ],
   "source": [
    "for data in datasets:\n",
    "    view(data)"
   ]
  },
  {
   "cell_type": "markdown",
   "metadata": {},
   "source": [
    "#### Вывод"
   ]
  },
  {
   "cell_type": "markdown",
   "metadata": {},
   "source": [
    "Пропусков в данных нет, колонку total charges следует привести к числовому формату. Следует создать бинарный целевой признак.\n",
    "От колонки с номером клиента следует избавиться, в связи с неинформативностью. Дата начала пользования услугами будет плохо масштабироваться в будущее, нужно попробовать на ее основе создать новый признак или исключить совсем."
   ]
  },
  {
   "cell_type": "markdown",
   "metadata": {},
   "source": [
    "### Подготовка данных"
   ]
  },
  {
   "cell_type": "code",
   "execution_count": 5,
   "metadata": {},
   "outputs": [],
   "source": [
    "datasets[2]['internet'] = 'Yes'\n",
    "datasets[3]['phone'] = 'Yes'"
   ]
  },
  {
   "cell_type": "markdown",
   "metadata": {},
   "source": [
    "Добавим признак пользуется ли клиент интернетом и пользуется ли телефоном"
   ]
  },
  {
   "cell_type": "code",
   "execution_count": 6,
   "metadata": {},
   "outputs": [],
   "source": [
    "df = contract.join(datasets[1:]).reset_index()"
   ]
  },
  {
   "cell_type": "markdown",
   "metadata": {},
   "source": [
    "Совместили таблицы по индексу"
   ]
  },
  {
   "cell_type": "code",
   "execution_count": 7,
   "metadata": {},
   "outputs": [
    {
     "data": {
      "text/plain": [
       "0"
      ]
     },
     "execution_count": 7,
     "metadata": {},
     "output_type": "execute_result"
    }
   ],
   "source": [
    "df.duplicated().sum()"
   ]
  },
  {
   "cell_type": "markdown",
   "metadata": {},
   "source": [
    "После совмещение дубликатов нет"
   ]
  },
  {
   "cell_type": "code",
   "execution_count": 8,
   "metadata": {},
   "outputs": [
    {
     "name": "stdout",
     "output_type": "stream",
     "text": [
      "<class 'pandas.core.frame.DataFrame'>\n",
      "RangeIndex: 7043 entries, 0 to 7042\n",
      "Data columns (total 22 columns):\n",
      "customerID          7043 non-null object\n",
      "BeginDate           7043 non-null object\n",
      "EndDate             7043 non-null object\n",
      "Type                7043 non-null object\n",
      "PaperlessBilling    7043 non-null object\n",
      "PaymentMethod       7043 non-null object\n",
      "MonthlyCharges      7043 non-null float64\n",
      "TotalCharges        7043 non-null object\n",
      "gender              7043 non-null object\n",
      "SeniorCitizen       7043 non-null int64\n",
      "Partner             7043 non-null object\n",
      "Dependents          7043 non-null object\n",
      "InternetService     5517 non-null object\n",
      "OnlineSecurity      5517 non-null object\n",
      "OnlineBackup        5517 non-null object\n",
      "DeviceProtection    5517 non-null object\n",
      "TechSupport         5517 non-null object\n",
      "StreamingTV         5517 non-null object\n",
      "StreamingMovies     5517 non-null object\n",
      "internet            5517 non-null object\n",
      "MultipleLines       6361 non-null object\n",
      "phone               6361 non-null object\n",
      "dtypes: float64(1), int64(1), object(20)\n",
      "memory usage: 1.2+ MB\n"
     ]
    }
   ],
   "source": [
    "df.info()"
   ]
  },
  {
   "cell_type": "code",
   "execution_count": 9,
   "metadata": {},
   "outputs": [],
   "source": [
    "df = df.fillna('No')"
   ]
  },
  {
   "cell_type": "markdown",
   "metadata": {},
   "source": [
    "Так как пропуски обусловленные тем что, клиенты не пользовались теми или иными видами услуг, смело заменяем на 'No'."
   ]
  },
  {
   "cell_type": "code",
   "execution_count": 10,
   "metadata": {},
   "outputs": [
    {
     "name": "stdout",
     "output_type": "stream",
     "text": [
      "<class 'pandas.core.frame.DataFrame'>\n",
      "RangeIndex: 7043 entries, 0 to 7042\n",
      "Data columns (total 22 columns):\n",
      "customerID          7043 non-null object\n",
      "BeginDate           7043 non-null object\n",
      "EndDate             7043 non-null object\n",
      "Type                7043 non-null object\n",
      "PaperlessBilling    7043 non-null object\n",
      "PaymentMethod       7043 non-null object\n",
      "MonthlyCharges      7043 non-null float64\n",
      "TotalCharges        7043 non-null object\n",
      "gender              7043 non-null object\n",
      "SeniorCitizen       7043 non-null int64\n",
      "Partner             7043 non-null object\n",
      "Dependents          7043 non-null object\n",
      "InternetService     7043 non-null object\n",
      "OnlineSecurity      7043 non-null object\n",
      "OnlineBackup        7043 non-null object\n",
      "DeviceProtection    7043 non-null object\n",
      "TechSupport         7043 non-null object\n",
      "StreamingTV         7043 non-null object\n",
      "StreamingMovies     7043 non-null object\n",
      "internet            7043 non-null object\n",
      "MultipleLines       7043 non-null object\n",
      "phone               7043 non-null object\n",
      "dtypes: float64(1), int64(1), object(20)\n",
      "memory usage: 1.2+ MB\n"
     ]
    }
   ],
   "source": [
    "df.info()"
   ]
  },
  {
   "cell_type": "code",
   "execution_count": 11,
   "metadata": {},
   "outputs": [
    {
     "data": {
      "text/html": [
       "<div>\n",
       "<style scoped>\n",
       "    .dataframe tbody tr th:only-of-type {\n",
       "        vertical-align: middle;\n",
       "    }\n",
       "\n",
       "    .dataframe tbody tr th {\n",
       "        vertical-align: top;\n",
       "    }\n",
       "\n",
       "    .dataframe thead th {\n",
       "        text-align: right;\n",
       "    }\n",
       "</style>\n",
       "<table border=\"1\" class=\"dataframe\">\n",
       "  <thead>\n",
       "    <tr style=\"text-align: right;\">\n",
       "      <th></th>\n",
       "      <th>customerID</th>\n",
       "      <th>BeginDate</th>\n",
       "      <th>EndDate</th>\n",
       "      <th>Type</th>\n",
       "      <th>PaperlessBilling</th>\n",
       "      <th>PaymentMethod</th>\n",
       "      <th>MonthlyCharges</th>\n",
       "      <th>TotalCharges</th>\n",
       "      <th>gender</th>\n",
       "      <th>SeniorCitizen</th>\n",
       "      <th>Partner</th>\n",
       "      <th>Dependents</th>\n",
       "      <th>InternetService</th>\n",
       "      <th>OnlineSecurity</th>\n",
       "      <th>OnlineBackup</th>\n",
       "      <th>DeviceProtection</th>\n",
       "      <th>TechSupport</th>\n",
       "      <th>StreamingTV</th>\n",
       "      <th>StreamingMovies</th>\n",
       "      <th>internet</th>\n",
       "      <th>MultipleLines</th>\n",
       "      <th>phone</th>\n",
       "    </tr>\n",
       "  </thead>\n",
       "  <tbody>\n",
       "    <tr>\n",
       "      <td>488</td>\n",
       "      <td>4472-LVYGI</td>\n",
       "      <td>2020-02-01</td>\n",
       "      <td>No</td>\n",
       "      <td>Two year</td>\n",
       "      <td>Yes</td>\n",
       "      <td>Bank transfer (automatic)</td>\n",
       "      <td>52.55</td>\n",
       "      <td></td>\n",
       "      <td>Female</td>\n",
       "      <td>0</td>\n",
       "      <td>Yes</td>\n",
       "      <td>Yes</td>\n",
       "      <td>DSL</td>\n",
       "      <td>Yes</td>\n",
       "      <td>No</td>\n",
       "      <td>Yes</td>\n",
       "      <td>Yes</td>\n",
       "      <td>Yes</td>\n",
       "      <td>No</td>\n",
       "      <td>Yes</td>\n",
       "      <td>No</td>\n",
       "      <td>No</td>\n",
       "    </tr>\n",
       "    <tr>\n",
       "      <td>753</td>\n",
       "      <td>3115-CZMZD</td>\n",
       "      <td>2020-02-01</td>\n",
       "      <td>No</td>\n",
       "      <td>Two year</td>\n",
       "      <td>No</td>\n",
       "      <td>Mailed check</td>\n",
       "      <td>20.25</td>\n",
       "      <td></td>\n",
       "      <td>Male</td>\n",
       "      <td>0</td>\n",
       "      <td>No</td>\n",
       "      <td>Yes</td>\n",
       "      <td>No</td>\n",
       "      <td>No</td>\n",
       "      <td>No</td>\n",
       "      <td>No</td>\n",
       "      <td>No</td>\n",
       "      <td>No</td>\n",
       "      <td>No</td>\n",
       "      <td>No</td>\n",
       "      <td>No</td>\n",
       "      <td>Yes</td>\n",
       "    </tr>\n",
       "    <tr>\n",
       "      <td>936</td>\n",
       "      <td>5709-LVOEQ</td>\n",
       "      <td>2020-02-01</td>\n",
       "      <td>No</td>\n",
       "      <td>Two year</td>\n",
       "      <td>No</td>\n",
       "      <td>Mailed check</td>\n",
       "      <td>80.85</td>\n",
       "      <td></td>\n",
       "      <td>Female</td>\n",
       "      <td>0</td>\n",
       "      <td>Yes</td>\n",
       "      <td>Yes</td>\n",
       "      <td>DSL</td>\n",
       "      <td>Yes</td>\n",
       "      <td>Yes</td>\n",
       "      <td>Yes</td>\n",
       "      <td>No</td>\n",
       "      <td>Yes</td>\n",
       "      <td>Yes</td>\n",
       "      <td>Yes</td>\n",
       "      <td>No</td>\n",
       "      <td>Yes</td>\n",
       "    </tr>\n",
       "    <tr>\n",
       "      <td>1082</td>\n",
       "      <td>4367-NUYAO</td>\n",
       "      <td>2020-02-01</td>\n",
       "      <td>No</td>\n",
       "      <td>Two year</td>\n",
       "      <td>No</td>\n",
       "      <td>Mailed check</td>\n",
       "      <td>25.75</td>\n",
       "      <td></td>\n",
       "      <td>Male</td>\n",
       "      <td>0</td>\n",
       "      <td>Yes</td>\n",
       "      <td>Yes</td>\n",
       "      <td>No</td>\n",
       "      <td>No</td>\n",
       "      <td>No</td>\n",
       "      <td>No</td>\n",
       "      <td>No</td>\n",
       "      <td>No</td>\n",
       "      <td>No</td>\n",
       "      <td>No</td>\n",
       "      <td>Yes</td>\n",
       "      <td>Yes</td>\n",
       "    </tr>\n",
       "    <tr>\n",
       "      <td>1340</td>\n",
       "      <td>1371-DWPAZ</td>\n",
       "      <td>2020-02-01</td>\n",
       "      <td>No</td>\n",
       "      <td>Two year</td>\n",
       "      <td>No</td>\n",
       "      <td>Credit card (automatic)</td>\n",
       "      <td>56.05</td>\n",
       "      <td></td>\n",
       "      <td>Female</td>\n",
       "      <td>0</td>\n",
       "      <td>Yes</td>\n",
       "      <td>Yes</td>\n",
       "      <td>DSL</td>\n",
       "      <td>Yes</td>\n",
       "      <td>Yes</td>\n",
       "      <td>Yes</td>\n",
       "      <td>Yes</td>\n",
       "      <td>Yes</td>\n",
       "      <td>No</td>\n",
       "      <td>Yes</td>\n",
       "      <td>No</td>\n",
       "      <td>No</td>\n",
       "    </tr>\n",
       "    <tr>\n",
       "      <td>3331</td>\n",
       "      <td>7644-OMVMY</td>\n",
       "      <td>2020-02-01</td>\n",
       "      <td>No</td>\n",
       "      <td>Two year</td>\n",
       "      <td>No</td>\n",
       "      <td>Mailed check</td>\n",
       "      <td>19.85</td>\n",
       "      <td></td>\n",
       "      <td>Male</td>\n",
       "      <td>0</td>\n",
       "      <td>Yes</td>\n",
       "      <td>Yes</td>\n",
       "      <td>No</td>\n",
       "      <td>No</td>\n",
       "      <td>No</td>\n",
       "      <td>No</td>\n",
       "      <td>No</td>\n",
       "      <td>No</td>\n",
       "      <td>No</td>\n",
       "      <td>No</td>\n",
       "      <td>No</td>\n",
       "      <td>Yes</td>\n",
       "    </tr>\n",
       "    <tr>\n",
       "      <td>3826</td>\n",
       "      <td>3213-VVOLG</td>\n",
       "      <td>2020-02-01</td>\n",
       "      <td>No</td>\n",
       "      <td>Two year</td>\n",
       "      <td>No</td>\n",
       "      <td>Mailed check</td>\n",
       "      <td>25.35</td>\n",
       "      <td></td>\n",
       "      <td>Male</td>\n",
       "      <td>0</td>\n",
       "      <td>Yes</td>\n",
       "      <td>Yes</td>\n",
       "      <td>No</td>\n",
       "      <td>No</td>\n",
       "      <td>No</td>\n",
       "      <td>No</td>\n",
       "      <td>No</td>\n",
       "      <td>No</td>\n",
       "      <td>No</td>\n",
       "      <td>No</td>\n",
       "      <td>Yes</td>\n",
       "      <td>Yes</td>\n",
       "    </tr>\n",
       "    <tr>\n",
       "      <td>4380</td>\n",
       "      <td>2520-SGTTA</td>\n",
       "      <td>2020-02-01</td>\n",
       "      <td>No</td>\n",
       "      <td>Two year</td>\n",
       "      <td>No</td>\n",
       "      <td>Mailed check</td>\n",
       "      <td>20.00</td>\n",
       "      <td></td>\n",
       "      <td>Female</td>\n",
       "      <td>0</td>\n",
       "      <td>Yes</td>\n",
       "      <td>Yes</td>\n",
       "      <td>No</td>\n",
       "      <td>No</td>\n",
       "      <td>No</td>\n",
       "      <td>No</td>\n",
       "      <td>No</td>\n",
       "      <td>No</td>\n",
       "      <td>No</td>\n",
       "      <td>No</td>\n",
       "      <td>No</td>\n",
       "      <td>Yes</td>\n",
       "    </tr>\n",
       "    <tr>\n",
       "      <td>5218</td>\n",
       "      <td>2923-ARZLG</td>\n",
       "      <td>2020-02-01</td>\n",
       "      <td>No</td>\n",
       "      <td>One year</td>\n",
       "      <td>Yes</td>\n",
       "      <td>Mailed check</td>\n",
       "      <td>19.70</td>\n",
       "      <td></td>\n",
       "      <td>Male</td>\n",
       "      <td>0</td>\n",
       "      <td>Yes</td>\n",
       "      <td>Yes</td>\n",
       "      <td>No</td>\n",
       "      <td>No</td>\n",
       "      <td>No</td>\n",
       "      <td>No</td>\n",
       "      <td>No</td>\n",
       "      <td>No</td>\n",
       "      <td>No</td>\n",
       "      <td>No</td>\n",
       "      <td>No</td>\n",
       "      <td>Yes</td>\n",
       "    </tr>\n",
       "    <tr>\n",
       "      <td>6670</td>\n",
       "      <td>4075-WKNIU</td>\n",
       "      <td>2020-02-01</td>\n",
       "      <td>No</td>\n",
       "      <td>Two year</td>\n",
       "      <td>No</td>\n",
       "      <td>Mailed check</td>\n",
       "      <td>73.35</td>\n",
       "      <td></td>\n",
       "      <td>Female</td>\n",
       "      <td>0</td>\n",
       "      <td>Yes</td>\n",
       "      <td>Yes</td>\n",
       "      <td>DSL</td>\n",
       "      <td>No</td>\n",
       "      <td>Yes</td>\n",
       "      <td>Yes</td>\n",
       "      <td>Yes</td>\n",
       "      <td>Yes</td>\n",
       "      <td>No</td>\n",
       "      <td>Yes</td>\n",
       "      <td>Yes</td>\n",
       "      <td>Yes</td>\n",
       "    </tr>\n",
       "    <tr>\n",
       "      <td>6754</td>\n",
       "      <td>2775-SEFEE</td>\n",
       "      <td>2020-02-01</td>\n",
       "      <td>No</td>\n",
       "      <td>Two year</td>\n",
       "      <td>Yes</td>\n",
       "      <td>Bank transfer (automatic)</td>\n",
       "      <td>61.90</td>\n",
       "      <td></td>\n",
       "      <td>Male</td>\n",
       "      <td>0</td>\n",
       "      <td>No</td>\n",
       "      <td>Yes</td>\n",
       "      <td>DSL</td>\n",
       "      <td>Yes</td>\n",
       "      <td>Yes</td>\n",
       "      <td>No</td>\n",
       "      <td>Yes</td>\n",
       "      <td>No</td>\n",
       "      <td>No</td>\n",
       "      <td>Yes</td>\n",
       "      <td>Yes</td>\n",
       "      <td>Yes</td>\n",
       "    </tr>\n",
       "  </tbody>\n",
       "</table>\n",
       "</div>"
      ],
      "text/plain": [
       "      customerID   BeginDate EndDate      Type PaperlessBilling  \\\n",
       "488   4472-LVYGI  2020-02-01      No  Two year              Yes   \n",
       "753   3115-CZMZD  2020-02-01      No  Two year               No   \n",
       "936   5709-LVOEQ  2020-02-01      No  Two year               No   \n",
       "1082  4367-NUYAO  2020-02-01      No  Two year               No   \n",
       "1340  1371-DWPAZ  2020-02-01      No  Two year               No   \n",
       "3331  7644-OMVMY  2020-02-01      No  Two year               No   \n",
       "3826  3213-VVOLG  2020-02-01      No  Two year               No   \n",
       "4380  2520-SGTTA  2020-02-01      No  Two year               No   \n",
       "5218  2923-ARZLG  2020-02-01      No  One year              Yes   \n",
       "6670  4075-WKNIU  2020-02-01      No  Two year               No   \n",
       "6754  2775-SEFEE  2020-02-01      No  Two year              Yes   \n",
       "\n",
       "                  PaymentMethod  MonthlyCharges TotalCharges  gender  \\\n",
       "488   Bank transfer (automatic)           52.55               Female   \n",
       "753                Mailed check           20.25                 Male   \n",
       "936                Mailed check           80.85               Female   \n",
       "1082               Mailed check           25.75                 Male   \n",
       "1340    Credit card (automatic)           56.05               Female   \n",
       "3331               Mailed check           19.85                 Male   \n",
       "3826               Mailed check           25.35                 Male   \n",
       "4380               Mailed check           20.00               Female   \n",
       "5218               Mailed check           19.70                 Male   \n",
       "6670               Mailed check           73.35               Female   \n",
       "6754  Bank transfer (automatic)           61.90                 Male   \n",
       "\n",
       "      SeniorCitizen Partner Dependents InternetService OnlineSecurity  \\\n",
       "488               0     Yes        Yes             DSL            Yes   \n",
       "753               0      No        Yes              No             No   \n",
       "936               0     Yes        Yes             DSL            Yes   \n",
       "1082              0     Yes        Yes              No             No   \n",
       "1340              0     Yes        Yes             DSL            Yes   \n",
       "3331              0     Yes        Yes              No             No   \n",
       "3826              0     Yes        Yes              No             No   \n",
       "4380              0     Yes        Yes              No             No   \n",
       "5218              0     Yes        Yes              No             No   \n",
       "6670              0     Yes        Yes             DSL             No   \n",
       "6754              0      No        Yes             DSL            Yes   \n",
       "\n",
       "     OnlineBackup DeviceProtection TechSupport StreamingTV StreamingMovies  \\\n",
       "488            No              Yes         Yes         Yes              No   \n",
       "753            No               No          No          No              No   \n",
       "936           Yes              Yes          No         Yes             Yes   \n",
       "1082           No               No          No          No              No   \n",
       "1340          Yes              Yes         Yes         Yes              No   \n",
       "3331           No               No          No          No              No   \n",
       "3826           No               No          No          No              No   \n",
       "4380           No               No          No          No              No   \n",
       "5218           No               No          No          No              No   \n",
       "6670          Yes              Yes         Yes         Yes              No   \n",
       "6754          Yes               No         Yes          No              No   \n",
       "\n",
       "     internet MultipleLines phone  \n",
       "488       Yes            No    No  \n",
       "753        No            No   Yes  \n",
       "936       Yes            No   Yes  \n",
       "1082       No           Yes   Yes  \n",
       "1340      Yes            No    No  \n",
       "3331       No            No   Yes  \n",
       "3826       No           Yes   Yes  \n",
       "4380       No            No   Yes  \n",
       "5218       No            No   Yes  \n",
       "6670      Yes           Yes   Yes  \n",
       "6754      Yes           Yes   Yes  "
      ]
     },
     "execution_count": 11,
     "metadata": {},
     "output_type": "execute_result"
    }
   ],
   "source": [
    "df.loc[df['TotalCharges']==' ']"
   ]
  },
  {
   "cell_type": "code",
   "execution_count": 12,
   "metadata": {},
   "outputs": [],
   "source": [
    "df = df.loc[df['TotalCharges']!=' ']"
   ]
  },
  {
   "cell_type": "markdown",
   "metadata": {},
   "source": [
    "11 клиентов подключились в день сбора данных и по ним еще нет данных об общих платежах, лучше удалить их. На этапе подготовки данных для модели, мы не можем  протестировать на них, ни собрать полезную информацию, они вносят только шум."
   ]
  },
  {
   "cell_type": "code",
   "execution_count": 13,
   "metadata": {},
   "outputs": [
    {
     "data": {
      "text/html": [
       "<div>\n",
       "<style scoped>\n",
       "    .dataframe tbody tr th:only-of-type {\n",
       "        vertical-align: middle;\n",
       "    }\n",
       "\n",
       "    .dataframe tbody tr th {\n",
       "        vertical-align: top;\n",
       "    }\n",
       "\n",
       "    .dataframe thead th {\n",
       "        text-align: right;\n",
       "    }\n",
       "</style>\n",
       "<table border=\"1\" class=\"dataframe\">\n",
       "  <thead>\n",
       "    <tr style=\"text-align: right;\">\n",
       "      <th></th>\n",
       "      <th>customerID</th>\n",
       "      <th>BeginDate</th>\n",
       "      <th>EndDate</th>\n",
       "      <th>Type</th>\n",
       "      <th>PaperlessBilling</th>\n",
       "      <th>PaymentMethod</th>\n",
       "      <th>MonthlyCharges</th>\n",
       "      <th>TotalCharges</th>\n",
       "      <th>gender</th>\n",
       "      <th>SeniorCitizen</th>\n",
       "      <th>Partner</th>\n",
       "      <th>Dependents</th>\n",
       "      <th>InternetService</th>\n",
       "      <th>OnlineSecurity</th>\n",
       "      <th>OnlineBackup</th>\n",
       "      <th>DeviceProtection</th>\n",
       "      <th>TechSupport</th>\n",
       "      <th>StreamingTV</th>\n",
       "      <th>StreamingMovies</th>\n",
       "      <th>internet</th>\n",
       "      <th>MultipleLines</th>\n",
       "      <th>phone</th>\n",
       "    </tr>\n",
       "  </thead>\n",
       "  <tbody>\n",
       "  </tbody>\n",
       "</table>\n",
       "</div>"
      ],
      "text/plain": [
       "Empty DataFrame\n",
       "Columns: [customerID, BeginDate, EndDate, Type, PaperlessBilling, PaymentMethod, MonthlyCharges, TotalCharges, gender, SeniorCitizen, Partner, Dependents, InternetService, OnlineSecurity, OnlineBackup, DeviceProtection, TechSupport, StreamingTV, StreamingMovies, internet, MultipleLines, phone]\n",
       "Index: []"
      ]
     },
     "execution_count": 13,
     "metadata": {},
     "output_type": "execute_result"
    }
   ],
   "source": [
    "df.loc[df['BeginDate'] >= '2020-02-01']"
   ]
  },
  {
   "cell_type": "markdown",
   "metadata": {},
   "source": [
    "Неразмеченных данных, больше нет"
   ]
  },
  {
   "cell_type": "code",
   "execution_count": 14,
   "metadata": {},
   "outputs": [],
   "source": [
    "df['TotalCharges'] = pd.to_numeric(df['TotalCharges'])"
   ]
  },
  {
   "cell_type": "code",
   "execution_count": 15,
   "metadata": {},
   "outputs": [],
   "source": [
    "df['BeginDate'] = pd.to_datetime(df['BeginDate'])\n",
    "#df['begin_month'] = df['BeginDate'].dt.month"
   ]
  },
  {
   "cell_type": "markdown",
   "metadata": {},
   "source": [
    "Извлекаем месяц, возможно есть сезонные подключения на короткий срок"
   ]
  },
  {
   "cell_type": "code",
   "execution_count": 16,
   "metadata": {},
   "outputs": [
    {
     "name": "stdout",
     "output_type": "stream",
     "text": [
      "<class 'pandas.core.frame.DataFrame'>\n",
      "Int64Index: 7032 entries, 0 to 7042\n",
      "Data columns (total 22 columns):\n",
      "customerID          7032 non-null object\n",
      "BeginDate           7032 non-null datetime64[ns]\n",
      "EndDate             7032 non-null object\n",
      "Type                7032 non-null object\n",
      "PaperlessBilling    7032 non-null object\n",
      "PaymentMethod       7032 non-null object\n",
      "MonthlyCharges      7032 non-null float64\n",
      "TotalCharges        7032 non-null float64\n",
      "gender              7032 non-null object\n",
      "SeniorCitizen       7032 non-null int64\n",
      "Partner             7032 non-null object\n",
      "Dependents          7032 non-null object\n",
      "InternetService     7032 non-null object\n",
      "OnlineSecurity      7032 non-null object\n",
      "OnlineBackup        7032 non-null object\n",
      "DeviceProtection    7032 non-null object\n",
      "TechSupport         7032 non-null object\n",
      "StreamingTV         7032 non-null object\n",
      "StreamingMovies     7032 non-null object\n",
      "internet            7032 non-null object\n",
      "MultipleLines       7032 non-null object\n",
      "phone               7032 non-null object\n",
      "dtypes: datetime64[ns](1), float64(2), int64(1), object(18)\n",
      "memory usage: 1.2+ MB\n"
     ]
    }
   ],
   "source": [
    "df.info()"
   ]
  },
  {
   "cell_type": "code",
   "execution_count": 17,
   "metadata": {},
   "outputs": [],
   "source": [
    "gone = df.loc[df['EndDate'] != 'No']"
   ]
  },
  {
   "cell_type": "code",
   "execution_count": 18,
   "metadata": {},
   "outputs": [],
   "source": [
    "stayed = df.loc[df['EndDate'] == 'No']"
   ]
  },
  {
   "cell_type": "code",
   "execution_count": 19,
   "metadata": {},
   "outputs": [],
   "source": [
    "gone['EndDate'] = pd.to_datetime(gone['EndDate'])"
   ]
  },
  {
   "cell_type": "code",
   "execution_count": 20,
   "metadata": {},
   "outputs": [],
   "source": [
    "gone['together'] = round((gone['EndDate'] - gone['BeginDate'])/np.timedelta64(1, 'D'))"
   ]
  },
  {
   "cell_type": "code",
   "execution_count": 21,
   "metadata": {},
   "outputs": [
    {
     "data": {
      "text/plain": [
       "count    1869.000000\n",
       "mean       74.441332\n",
       "std        24.666053\n",
       "min        18.850000\n",
       "25%        56.150000\n",
       "50%        79.650000\n",
       "75%        94.200000\n",
       "max       118.350000\n",
       "Name: MonthlyCharges, dtype: float64"
      ]
     },
     "execution_count": 21,
     "metadata": {},
     "output_type": "execute_result"
    }
   ],
   "source": [
    "gone['MonthlyCharges'].describe()"
   ]
  },
  {
   "cell_type": "code",
   "execution_count": 22,
   "metadata": {},
   "outputs": [
    {
     "data": {
      "text/plain": [
       "count    7032.000000\n",
       "mean       64.798208\n",
       "std        30.085974\n",
       "min        18.250000\n",
       "25%        35.587500\n",
       "50%        70.350000\n",
       "75%        89.862500\n",
       "max       118.750000\n",
       "Name: MonthlyCharges, dtype: float64"
      ]
     },
     "execution_count": 22,
     "metadata": {},
     "output_type": "execute_result"
    }
   ],
   "source": [
    "df['MonthlyCharges'].describe()"
   ]
  },
  {
   "cell_type": "code",
   "execution_count": 23,
   "metadata": {},
   "outputs": [
    {
     "data": {
      "image/png": "[encoded data removed]",
      "text/plain": [
       "<Figure size 1280x800 with 1 Axes>"
      ]
     },
     "metadata": {
      "needs_background": "light"
     },
     "output_type": "display_data"
    }
   ],
   "source": [
    "plt.figure(figsize=(16,10), dpi= 80)\n",
    "sns.distplot(gone['MonthlyCharges'], color=\"g\", label=\"Ушли\")\n",
    "sns.distplot(df['MonthlyCharges'], color=\"b\", label=\"Все\")\n",
    "\n",
    "plt.title('Сравнение распределений ежемесячных платежей ушедших и всех клиентов', fontsize=22)\n",
    "plt.legend()\n",
    "plt.xlabel('Сумма')\n",
    "plt.show()"
   ]
  },
  {
   "cell_type": "markdown",
   "metadata": {},
   "source": [
    "Мы видим что чаще уходят клиенты у которых ежемесячные траты выше. Полимодальное распределение с тремя модами позволяет предположить, что есть три базовых тарифа. Клиенты тратящие больше  уходят чаще."
   ]
  },
  {
   "cell_type": "code",
   "execution_count": 24,
   "metadata": {},
   "outputs": [
    {
     "data": {
      "text/plain": [
       "count    1869.000000\n",
       "mean      547.352060\n",
       "std       594.389607\n",
       "min        30.000000\n",
       "25%        61.000000\n",
       "50%       304.000000\n",
       "75%       883.000000\n",
       "max      2191.000000\n",
       "Name: together, dtype: float64"
      ]
     },
     "execution_count": 24,
     "metadata": {},
     "output_type": "execute_result"
    }
   ],
   "source": [
    "gone['together'].describe()"
   ]
  },
  {
   "cell_type": "markdown",
   "metadata": {},
   "source": [
    "Четверть уходящих клиентов, уходят в первый месяц, половина в первые 10 месяцев"
   ]
  },
  {
   "cell_type": "code",
   "execution_count": 25,
   "metadata": {},
   "outputs": [],
   "source": [
    "df = df.drop(columns='customerID')"
   ]
  },
  {
   "cell_type": "markdown",
   "metadata": {},
   "source": [
    "Удалили номера клиентов, в связи с не информативностью"
   ]
  },
  {
   "cell_type": "code",
   "execution_count": 26,
   "metadata": {},
   "outputs": [],
   "source": [
    "df.loc[df['EndDate'] != 'No', 'left'] = 1\n",
    "df.loc[df['EndDate'] == 'No', 'left'] = 0  \n",
    "df['left'] = df['left'].astype(int)"
   ]
  },
  {
   "cell_type": "markdown",
   "metadata": {},
   "source": [
    "Создали бинарный целевой признак"
   ]
  },
  {
   "cell_type": "code",
   "execution_count": 27,
   "metadata": {},
   "outputs": [],
   "source": [
    "df.loc[df['EndDate'] == 'No', 'EndDate'] = '2020-02-01'\n",
    "df['EndDate'] = pd.to_datetime(df['EndDate'])\n",
    "df['together'] = round((df['EndDate'] - df['BeginDate'])/np.timedelta64(1, 'D')).astype(int)\n",
    "df = df.drop(columns=['EndDate', 'BeginDate'])"
   ]
  },
  {
   "cell_type": "code",
   "execution_count": 50,
   "metadata": {},
   "outputs": [
    {
     "data": {
      "text/plain": [
       "2133      30\n",
       "6623      30\n",
       "3310      30\n",
       "6633      30\n",
       "248       30\n",
       "        ... \n",
       "850     2191\n",
       "6778    2191\n",
       "2941    2191\n",
       "4513    2191\n",
       "932     2191\n",
       "Name: together, Length: 7032, dtype: int64"
      ]
     },
     "execution_count": 50,
     "metadata": {},
     "output_type": "execute_result"
    }
   ],
   "source": [
    "df.together.sort_values()"
   ]
  },
  {
   "cell_type": "code",
   "execution_count": 51,
   "metadata": {},
   "outputs": [
    {
     "data": {
      "text/html": [
       "<div>\n",
       "<style scoped>\n",
       "    .dataframe tbody tr th:only-of-type {\n",
       "        vertical-align: middle;\n",
       "    }\n",
       "\n",
       "    .dataframe tbody tr th {\n",
       "        vertical-align: top;\n",
       "    }\n",
       "\n",
       "    .dataframe thead th {\n",
       "        text-align: right;\n",
       "    }\n",
       "</style>\n",
       "<table border=\"1\" class=\"dataframe\">\n",
       "  <thead>\n",
       "    <tr style=\"text-align: right;\">\n",
       "      <th></th>\n",
       "      <th>TotalCharges</th>\n",
       "      <th>SeniorCitizen</th>\n",
       "      <th>left</th>\n",
       "      <th>together</th>\n",
       "      <th>Type_One year</th>\n",
       "      <th>Type_Two year</th>\n",
       "      <th>PaperlessBilling_Yes</th>\n",
       "      <th>PaymentMethod_Electronic check</th>\n",
       "      <th>PaymentMethod_Mailed check</th>\n",
       "      <th>gender_Male</th>\n",
       "      <th>InternetService_Fiber optic</th>\n",
       "      <th>InternetService_No</th>\n",
       "      <th>OnlineSecurity_Yes</th>\n",
       "      <th>TechSupport_Yes</th>\n",
       "      <th>StreamingTV_Yes</th>\n",
       "      <th>StreamingMovies_Yes</th>\n",
       "      <th>MultipleLines_Yes</th>\n",
       "      <th>phone_Yes</th>\n",
       "    </tr>\n",
       "  </thead>\n",
       "  <tbody>\n",
       "    <tr>\n",
       "      <td>0</td>\n",
       "      <td>29</td>\n",
       "      <td>0</td>\n",
       "      <td>0</td>\n",
       "      <td>31</td>\n",
       "      <td>0</td>\n",
       "      <td>0</td>\n",
       "      <td>1</td>\n",
       "      <td>1</td>\n",
       "      <td>0</td>\n",
       "      <td>0</td>\n",
       "      <td>0</td>\n",
       "      <td>0</td>\n",
       "      <td>0</td>\n",
       "      <td>0</td>\n",
       "      <td>0</td>\n",
       "      <td>0</td>\n",
       "      <td>0</td>\n",
       "      <td>0</td>\n",
       "    </tr>\n",
       "    <tr>\n",
       "      <td>20</td>\n",
       "      <td>39</td>\n",
       "      <td>1</td>\n",
       "      <td>1</td>\n",
       "      <td>30</td>\n",
       "      <td>0</td>\n",
       "      <td>0</td>\n",
       "      <td>1</td>\n",
       "      <td>1</td>\n",
       "      <td>0</td>\n",
       "      <td>1</td>\n",
       "      <td>0</td>\n",
       "      <td>0</td>\n",
       "      <td>0</td>\n",
       "      <td>0</td>\n",
       "      <td>0</td>\n",
       "      <td>1</td>\n",
       "      <td>0</td>\n",
       "      <td>0</td>\n",
       "    </tr>\n",
       "    <tr>\n",
       "      <td>22</td>\n",
       "      <td>20</td>\n",
       "      <td>0</td>\n",
       "      <td>1</td>\n",
       "      <td>30</td>\n",
       "      <td>0</td>\n",
       "      <td>0</td>\n",
       "      <td>0</td>\n",
       "      <td>0</td>\n",
       "      <td>1</td>\n",
       "      <td>1</td>\n",
       "      <td>0</td>\n",
       "      <td>1</td>\n",
       "      <td>0</td>\n",
       "      <td>0</td>\n",
       "      <td>0</td>\n",
       "      <td>0</td>\n",
       "      <td>0</td>\n",
       "      <td>1</td>\n",
       "    </tr>\n",
       "    <tr>\n",
       "      <td>27</td>\n",
       "      <td>30</td>\n",
       "      <td>0</td>\n",
       "      <td>1</td>\n",
       "      <td>30</td>\n",
       "      <td>0</td>\n",
       "      <td>0</td>\n",
       "      <td>0</td>\n",
       "      <td>1</td>\n",
       "      <td>0</td>\n",
       "      <td>1</td>\n",
       "      <td>0</td>\n",
       "      <td>0</td>\n",
       "      <td>0</td>\n",
       "      <td>0</td>\n",
       "      <td>0</td>\n",
       "      <td>0</td>\n",
       "      <td>0</td>\n",
       "      <td>0</td>\n",
       "    </tr>\n",
       "    <tr>\n",
       "      <td>33</td>\n",
       "      <td>20</td>\n",
       "      <td>0</td>\n",
       "      <td>0</td>\n",
       "      <td>31</td>\n",
       "      <td>0</td>\n",
       "      <td>0</td>\n",
       "      <td>0</td>\n",
       "      <td>0</td>\n",
       "      <td>0</td>\n",
       "      <td>1</td>\n",
       "      <td>0</td>\n",
       "      <td>1</td>\n",
       "      <td>0</td>\n",
       "      <td>0</td>\n",
       "      <td>0</td>\n",
       "      <td>0</td>\n",
       "      <td>0</td>\n",
       "      <td>1</td>\n",
       "    </tr>\n",
       "    <tr>\n",
       "      <td>...</td>\n",
       "      <td>...</td>\n",
       "      <td>...</td>\n",
       "      <td>...</td>\n",
       "      <td>...</td>\n",
       "      <td>...</td>\n",
       "      <td>...</td>\n",
       "      <td>...</td>\n",
       "      <td>...</td>\n",
       "      <td>...</td>\n",
       "      <td>...</td>\n",
       "      <td>...</td>\n",
       "      <td>...</td>\n",
       "      <td>...</td>\n",
       "      <td>...</td>\n",
       "      <td>...</td>\n",
       "      <td>...</td>\n",
       "      <td>...</td>\n",
       "      <td>...</td>\n",
       "    </tr>\n",
       "    <tr>\n",
       "      <td>6979</td>\n",
       "      <td>24</td>\n",
       "      <td>0</td>\n",
       "      <td>0</td>\n",
       "      <td>31</td>\n",
       "      <td>0</td>\n",
       "      <td>0</td>\n",
       "      <td>0</td>\n",
       "      <td>0</td>\n",
       "      <td>1</td>\n",
       "      <td>1</td>\n",
       "      <td>0</td>\n",
       "      <td>0</td>\n",
       "      <td>0</td>\n",
       "      <td>0</td>\n",
       "      <td>0</td>\n",
       "      <td>0</td>\n",
       "      <td>0</td>\n",
       "      <td>0</td>\n",
       "    </tr>\n",
       "    <tr>\n",
       "      <td>7010</td>\n",
       "      <td>74</td>\n",
       "      <td>1</td>\n",
       "      <td>1</td>\n",
       "      <td>30</td>\n",
       "      <td>0</td>\n",
       "      <td>0</td>\n",
       "      <td>1</td>\n",
       "      <td>1</td>\n",
       "      <td>0</td>\n",
       "      <td>0</td>\n",
       "      <td>1</td>\n",
       "      <td>0</td>\n",
       "      <td>0</td>\n",
       "      <td>0</td>\n",
       "      <td>0</td>\n",
       "      <td>0</td>\n",
       "      <td>1</td>\n",
       "      <td>1</td>\n",
       "    </tr>\n",
       "    <tr>\n",
       "      <td>7016</td>\n",
       "      <td>49</td>\n",
       "      <td>0</td>\n",
       "      <td>0</td>\n",
       "      <td>31</td>\n",
       "      <td>0</td>\n",
       "      <td>0</td>\n",
       "      <td>0</td>\n",
       "      <td>1</td>\n",
       "      <td>0</td>\n",
       "      <td>0</td>\n",
       "      <td>0</td>\n",
       "      <td>0</td>\n",
       "      <td>0</td>\n",
       "      <td>0</td>\n",
       "      <td>0</td>\n",
       "      <td>0</td>\n",
       "      <td>0</td>\n",
       "      <td>1</td>\n",
       "    </tr>\n",
       "    <tr>\n",
       "      <td>7018</td>\n",
       "      <td>70</td>\n",
       "      <td>0</td>\n",
       "      <td>1</td>\n",
       "      <td>31</td>\n",
       "      <td>0</td>\n",
       "      <td>0</td>\n",
       "      <td>1</td>\n",
       "      <td>0</td>\n",
       "      <td>1</td>\n",
       "      <td>1</td>\n",
       "      <td>1</td>\n",
       "      <td>0</td>\n",
       "      <td>0</td>\n",
       "      <td>0</td>\n",
       "      <td>0</td>\n",
       "      <td>0</td>\n",
       "      <td>0</td>\n",
       "      <td>1</td>\n",
       "    </tr>\n",
       "    <tr>\n",
       "      <td>7032</td>\n",
       "      <td>75</td>\n",
       "      <td>1</td>\n",
       "      <td>1</td>\n",
       "      <td>31</td>\n",
       "      <td>0</td>\n",
       "      <td>0</td>\n",
       "      <td>1</td>\n",
       "      <td>1</td>\n",
       "      <td>0</td>\n",
       "      <td>1</td>\n",
       "      <td>1</td>\n",
       "      <td>0</td>\n",
       "      <td>0</td>\n",
       "      <td>0</td>\n",
       "      <td>0</td>\n",
       "      <td>0</td>\n",
       "      <td>1</td>\n",
       "      <td>1</td>\n",
       "    </tr>\n",
       "  </tbody>\n",
       "</table>\n",
       "<p>613 rows × 18 columns</p>\n",
       "</div>"
      ],
      "text/plain": [
       "      TotalCharges  SeniorCitizen  left  together  Type_One year  \\\n",
       "0               29              0     0        31              0   \n",
       "20              39              1     1        30              0   \n",
       "22              20              0     1        30              0   \n",
       "27              30              0     1        30              0   \n",
       "33              20              0     0        31              0   \n",
       "...            ...            ...   ...       ...            ...   \n",
       "6979            24              0     0        31              0   \n",
       "7010            74              1     1        30              0   \n",
       "7016            49              0     0        31              0   \n",
       "7018            70              0     1        31              0   \n",
       "7032            75              1     1        31              0   \n",
       "\n",
       "      Type_Two year  PaperlessBilling_Yes  PaymentMethod_Electronic check  \\\n",
       "0                 0                     1                               1   \n",
       "20                0                     1                               1   \n",
       "22                0                     0                               0   \n",
       "27                0                     0                               1   \n",
       "33                0                     0                               0   \n",
       "...             ...                   ...                             ...   \n",
       "6979              0                     0                               0   \n",
       "7010              0                     1                               1   \n",
       "7016              0                     0                               1   \n",
       "7018              0                     1                               0   \n",
       "7032              0                     1                               1   \n",
       "\n",
       "      PaymentMethod_Mailed check  gender_Male  InternetService_Fiber optic  \\\n",
       "0                              0            0                            0   \n",
       "20                             0            1                            0   \n",
       "22                             1            1                            0   \n",
       "27                             0            1                            0   \n",
       "33                             0            1                            0   \n",
       "...                          ...          ...                          ...   \n",
       "6979                           1            1                            0   \n",
       "7010                           0            0                            1   \n",
       "7016                           0            0                            0   \n",
       "7018                           1            1                            1   \n",
       "7032                           0            1                            1   \n",
       "\n",
       "      InternetService_No  OnlineSecurity_Yes  TechSupport_Yes  \\\n",
       "0                      0                   0                0   \n",
       "20                     0                   0                0   \n",
       "22                     1                   0                0   \n",
       "27                     0                   0                0   \n",
       "33                     1                   0                0   \n",
       "...                  ...                 ...              ...   \n",
       "6979                   0                   0                0   \n",
       "7010                   0                   0                0   \n",
       "7016                   0                   0                0   \n",
       "7018                   0                   0                0   \n",
       "7032                   0                   0                0   \n",
       "\n",
       "      StreamingTV_Yes  StreamingMovies_Yes  MultipleLines_Yes  phone_Yes  \n",
       "0                   0                    0                  0          0  \n",
       "20                  0                    1                  0          0  \n",
       "22                  0                    0                  0          1  \n",
       "27                  0                    0                  0          0  \n",
       "33                  0                    0                  0          1  \n",
       "...               ...                  ...                ...        ...  \n",
       "6979                0                    0                  0          0  \n",
       "7010                0                    0                  1          1  \n",
       "7016                0                    0                  0          1  \n",
       "7018                0                    0                  0          1  \n",
       "7032                0                    0                  1          1  \n",
       "\n",
       "[613 rows x 18 columns]"
      ]
     },
     "execution_count": 51,
     "metadata": {},
     "output_type": "execute_result"
    }
   ],
   "source": [
    "df[df.together < 50]"
   ]
  },
  {
   "cell_type": "markdown",
   "metadata": {},
   "source": [
    "Посчитали сколько клиент снами. BeginDate, EndDate нам больше не нужны мы извлекли из них всю полезную информацию."
   ]
  },
  {
   "cell_type": "code",
   "execution_count": 28,
   "metadata": {},
   "outputs": [
    {
     "data": {
      "text/html": [
       "<div>\n",
       "<style scoped>\n",
       "    .dataframe tbody tr th:only-of-type {\n",
       "        vertical-align: middle;\n",
       "    }\n",
       "\n",
       "    .dataframe tbody tr th {\n",
       "        vertical-align: top;\n",
       "    }\n",
       "\n",
       "    .dataframe thead th {\n",
       "        text-align: right;\n",
       "    }\n",
       "</style>\n",
       "<table border=\"1\" class=\"dataframe\">\n",
       "  <thead>\n",
       "    <tr style=\"text-align: right;\">\n",
       "      <th></th>\n",
       "      <th>Type</th>\n",
       "      <th>PaperlessBilling</th>\n",
       "      <th>PaymentMethod</th>\n",
       "      <th>MonthlyCharges</th>\n",
       "      <th>TotalCharges</th>\n",
       "      <th>gender</th>\n",
       "      <th>SeniorCitizen</th>\n",
       "      <th>Partner</th>\n",
       "      <th>Dependents</th>\n",
       "      <th>InternetService</th>\n",
       "      <th>OnlineSecurity</th>\n",
       "      <th>OnlineBackup</th>\n",
       "      <th>DeviceProtection</th>\n",
       "      <th>TechSupport</th>\n",
       "      <th>StreamingTV</th>\n",
       "      <th>StreamingMovies</th>\n",
       "      <th>internet</th>\n",
       "      <th>MultipleLines</th>\n",
       "      <th>phone</th>\n",
       "      <th>left</th>\n",
       "      <th>together</th>\n",
       "    </tr>\n",
       "  </thead>\n",
       "  <tbody>\n",
       "    <tr>\n",
       "      <td>count</td>\n",
       "      <td>7032</td>\n",
       "      <td>7032</td>\n",
       "      <td>7032</td>\n",
       "      <td>7032.000000</td>\n",
       "      <td>7032.000000</td>\n",
       "      <td>7032</td>\n",
       "      <td>7032.000000</td>\n",
       "      <td>7032</td>\n",
       "      <td>7032</td>\n",
       "      <td>7032</td>\n",
       "      <td>7032</td>\n",
       "      <td>7032</td>\n",
       "      <td>7032</td>\n",
       "      <td>7032</td>\n",
       "      <td>7032</td>\n",
       "      <td>7032</td>\n",
       "      <td>7032</td>\n",
       "      <td>7032</td>\n",
       "      <td>7032</td>\n",
       "      <td>7032.000000</td>\n",
       "      <td>7032.000000</td>\n",
       "    </tr>\n",
       "    <tr>\n",
       "      <td>unique</td>\n",
       "      <td>3</td>\n",
       "      <td>2</td>\n",
       "      <td>4</td>\n",
       "      <td>NaN</td>\n",
       "      <td>NaN</td>\n",
       "      <td>2</td>\n",
       "      <td>NaN</td>\n",
       "      <td>2</td>\n",
       "      <td>2</td>\n",
       "      <td>3</td>\n",
       "      <td>2</td>\n",
       "      <td>2</td>\n",
       "      <td>2</td>\n",
       "      <td>2</td>\n",
       "      <td>2</td>\n",
       "      <td>2</td>\n",
       "      <td>2</td>\n",
       "      <td>2</td>\n",
       "      <td>2</td>\n",
       "      <td>NaN</td>\n",
       "      <td>NaN</td>\n",
       "    </tr>\n",
       "    <tr>\n",
       "      <td>top</td>\n",
       "      <td>Month-to-month</td>\n",
       "      <td>Yes</td>\n",
       "      <td>Electronic check</td>\n",
       "      <td>NaN</td>\n",
       "      <td>NaN</td>\n",
       "      <td>Male</td>\n",
       "      <td>NaN</td>\n",
       "      <td>No</td>\n",
       "      <td>No</td>\n",
       "      <td>Fiber optic</td>\n",
       "      <td>No</td>\n",
       "      <td>No</td>\n",
       "      <td>No</td>\n",
       "      <td>No</td>\n",
       "      <td>No</td>\n",
       "      <td>No</td>\n",
       "      <td>Yes</td>\n",
       "      <td>No</td>\n",
       "      <td>Yes</td>\n",
       "      <td>NaN</td>\n",
       "      <td>NaN</td>\n",
       "    </tr>\n",
       "    <tr>\n",
       "      <td>freq</td>\n",
       "      <td>3875</td>\n",
       "      <td>4168</td>\n",
       "      <td>2365</td>\n",
       "      <td>NaN</td>\n",
       "      <td>NaN</td>\n",
       "      <td>3549</td>\n",
       "      <td>NaN</td>\n",
       "      <td>3639</td>\n",
       "      <td>4933</td>\n",
       "      <td>3096</td>\n",
       "      <td>5017</td>\n",
       "      <td>4607</td>\n",
       "      <td>4614</td>\n",
       "      <td>4992</td>\n",
       "      <td>4329</td>\n",
       "      <td>4301</td>\n",
       "      <td>5512</td>\n",
       "      <td>4065</td>\n",
       "      <td>6352</td>\n",
       "      <td>NaN</td>\n",
       "      <td>NaN</td>\n",
       "    </tr>\n",
       "    <tr>\n",
       "      <td>mean</td>\n",
       "      <td>NaN</td>\n",
       "      <td>NaN</td>\n",
       "      <td>NaN</td>\n",
       "      <td>64.798208</td>\n",
       "      <td>2283.300441</td>\n",
       "      <td>NaN</td>\n",
       "      <td>0.162400</td>\n",
       "      <td>NaN</td>\n",
       "      <td>NaN</td>\n",
       "      <td>NaN</td>\n",
       "      <td>NaN</td>\n",
       "      <td>NaN</td>\n",
       "      <td>NaN</td>\n",
       "      <td>NaN</td>\n",
       "      <td>NaN</td>\n",
       "      <td>NaN</td>\n",
       "      <td>NaN</td>\n",
       "      <td>NaN</td>\n",
       "      <td>NaN</td>\n",
       "      <td>0.265785</td>\n",
       "      <td>987.538538</td>\n",
       "    </tr>\n",
       "    <tr>\n",
       "      <td>std</td>\n",
       "      <td>NaN</td>\n",
       "      <td>NaN</td>\n",
       "      <td>NaN</td>\n",
       "      <td>30.085974</td>\n",
       "      <td>2266.771362</td>\n",
       "      <td>NaN</td>\n",
       "      <td>0.368844</td>\n",
       "      <td>NaN</td>\n",
       "      <td>NaN</td>\n",
       "      <td>NaN</td>\n",
       "      <td>NaN</td>\n",
       "      <td>NaN</td>\n",
       "      <td>NaN</td>\n",
       "      <td>NaN</td>\n",
       "      <td>NaN</td>\n",
       "      <td>NaN</td>\n",
       "      <td>NaN</td>\n",
       "      <td>NaN</td>\n",
       "      <td>NaN</td>\n",
       "      <td>0.441782</td>\n",
       "      <td>747.153663</td>\n",
       "    </tr>\n",
       "    <tr>\n",
       "      <td>min</td>\n",
       "      <td>NaN</td>\n",
       "      <td>NaN</td>\n",
       "      <td>NaN</td>\n",
       "      <td>18.250000</td>\n",
       "      <td>18.800000</td>\n",
       "      <td>NaN</td>\n",
       "      <td>0.000000</td>\n",
       "      <td>NaN</td>\n",
       "      <td>NaN</td>\n",
       "      <td>NaN</td>\n",
       "      <td>NaN</td>\n",
       "      <td>NaN</td>\n",
       "      <td>NaN</td>\n",
       "      <td>NaN</td>\n",
       "      <td>NaN</td>\n",
       "      <td>NaN</td>\n",
       "      <td>NaN</td>\n",
       "      <td>NaN</td>\n",
       "      <td>NaN</td>\n",
       "      <td>0.000000</td>\n",
       "      <td>30.000000</td>\n",
       "    </tr>\n",
       "    <tr>\n",
       "      <td>25%</td>\n",
       "      <td>NaN</td>\n",
       "      <td>NaN</td>\n",
       "      <td>NaN</td>\n",
       "      <td>35.587500</td>\n",
       "      <td>401.450000</td>\n",
       "      <td>NaN</td>\n",
       "      <td>0.000000</td>\n",
       "      <td>NaN</td>\n",
       "      <td>NaN</td>\n",
       "      <td>NaN</td>\n",
       "      <td>NaN</td>\n",
       "      <td>NaN</td>\n",
       "      <td>NaN</td>\n",
       "      <td>NaN</td>\n",
       "      <td>NaN</td>\n",
       "      <td>NaN</td>\n",
       "      <td>NaN</td>\n",
       "      <td>NaN</td>\n",
       "      <td>NaN</td>\n",
       "      <td>0.000000</td>\n",
       "      <td>275.000000</td>\n",
       "    </tr>\n",
       "    <tr>\n",
       "      <td>50%</td>\n",
       "      <td>NaN</td>\n",
       "      <td>NaN</td>\n",
       "      <td>NaN</td>\n",
       "      <td>70.350000</td>\n",
       "      <td>1397.475000</td>\n",
       "      <td>NaN</td>\n",
       "      <td>0.000000</td>\n",
       "      <td>NaN</td>\n",
       "      <td>NaN</td>\n",
       "      <td>NaN</td>\n",
       "      <td>NaN</td>\n",
       "      <td>NaN</td>\n",
       "      <td>NaN</td>\n",
       "      <td>NaN</td>\n",
       "      <td>NaN</td>\n",
       "      <td>NaN</td>\n",
       "      <td>NaN</td>\n",
       "      <td>NaN</td>\n",
       "      <td>NaN</td>\n",
       "      <td>0.000000</td>\n",
       "      <td>883.000000</td>\n",
       "    </tr>\n",
       "    <tr>\n",
       "      <td>75%</td>\n",
       "      <td>NaN</td>\n",
       "      <td>NaN</td>\n",
       "      <td>NaN</td>\n",
       "      <td>89.862500</td>\n",
       "      <td>3794.737500</td>\n",
       "      <td>NaN</td>\n",
       "      <td>0.000000</td>\n",
       "      <td>NaN</td>\n",
       "      <td>NaN</td>\n",
       "      <td>NaN</td>\n",
       "      <td>NaN</td>\n",
       "      <td>NaN</td>\n",
       "      <td>NaN</td>\n",
       "      <td>NaN</td>\n",
       "      <td>NaN</td>\n",
       "      <td>NaN</td>\n",
       "      <td>NaN</td>\n",
       "      <td>NaN</td>\n",
       "      <td>NaN</td>\n",
       "      <td>1.000000</td>\n",
       "      <td>1676.000000</td>\n",
       "    </tr>\n",
       "    <tr>\n",
       "      <td>max</td>\n",
       "      <td>NaN</td>\n",
       "      <td>NaN</td>\n",
       "      <td>NaN</td>\n",
       "      <td>118.750000</td>\n",
       "      <td>8684.800000</td>\n",
       "      <td>NaN</td>\n",
       "      <td>1.000000</td>\n",
       "      <td>NaN</td>\n",
       "      <td>NaN</td>\n",
       "      <td>NaN</td>\n",
       "      <td>NaN</td>\n",
       "      <td>NaN</td>\n",
       "      <td>NaN</td>\n",
       "      <td>NaN</td>\n",
       "      <td>NaN</td>\n",
       "      <td>NaN</td>\n",
       "      <td>NaN</td>\n",
       "      <td>NaN</td>\n",
       "      <td>NaN</td>\n",
       "      <td>1.000000</td>\n",
       "      <td>2191.000000</td>\n",
       "    </tr>\n",
       "  </tbody>\n",
       "</table>\n",
       "</div>"
      ],
      "text/plain": [
       "                  Type PaperlessBilling     PaymentMethod  MonthlyCharges  \\\n",
       "count             7032             7032              7032     7032.000000   \n",
       "unique               3                2                 4             NaN   \n",
       "top     Month-to-month              Yes  Electronic check             NaN   \n",
       "freq              3875             4168              2365             NaN   \n",
       "mean               NaN              NaN               NaN       64.798208   \n",
       "std                NaN              NaN               NaN       30.085974   \n",
       "min                NaN              NaN               NaN       18.250000   \n",
       "25%                NaN              NaN               NaN       35.587500   \n",
       "50%                NaN              NaN               NaN       70.350000   \n",
       "75%                NaN              NaN               NaN       89.862500   \n",
       "max                NaN              NaN               NaN      118.750000   \n",
       "\n",
       "        TotalCharges gender  SeniorCitizen Partner Dependents InternetService  \\\n",
       "count    7032.000000   7032    7032.000000    7032       7032            7032   \n",
       "unique           NaN      2            NaN       2          2               3   \n",
       "top              NaN   Male            NaN      No         No     Fiber optic   \n",
       "freq             NaN   3549            NaN    3639       4933            3096   \n",
       "mean     2283.300441    NaN       0.162400     NaN        NaN             NaN   \n",
       "std      2266.771362    NaN       0.368844     NaN        NaN             NaN   \n",
       "min        18.800000    NaN       0.000000     NaN        NaN             NaN   \n",
       "25%       401.450000    NaN       0.000000     NaN        NaN             NaN   \n",
       "50%      1397.475000    NaN       0.000000     NaN        NaN             NaN   \n",
       "75%      3794.737500    NaN       0.000000     NaN        NaN             NaN   \n",
       "max      8684.800000    NaN       1.000000     NaN        NaN             NaN   \n",
       "\n",
       "       OnlineSecurity OnlineBackup DeviceProtection TechSupport StreamingTV  \\\n",
       "count            7032         7032             7032        7032        7032   \n",
       "unique              2            2                2           2           2   \n",
       "top                No           No               No          No          No   \n",
       "freq             5017         4607             4614        4992        4329   \n",
       "mean              NaN          NaN              NaN         NaN         NaN   \n",
       "std               NaN          NaN              NaN         NaN         NaN   \n",
       "min               NaN          NaN              NaN         NaN         NaN   \n",
       "25%               NaN          NaN              NaN         NaN         NaN   \n",
       "50%               NaN          NaN              NaN         NaN         NaN   \n",
       "75%               NaN          NaN              NaN         NaN         NaN   \n",
       "max               NaN          NaN              NaN         NaN         NaN   \n",
       "\n",
       "       StreamingMovies internet MultipleLines phone         left     together  \n",
       "count             7032     7032          7032  7032  7032.000000  7032.000000  \n",
       "unique               2        2             2     2          NaN          NaN  \n",
       "top                 No      Yes            No   Yes          NaN          NaN  \n",
       "freq              4301     5512          4065  6352          NaN          NaN  \n",
       "mean               NaN      NaN           NaN   NaN     0.265785   987.538538  \n",
       "std                NaN      NaN           NaN   NaN     0.441782   747.153663  \n",
       "min                NaN      NaN           NaN   NaN     0.000000    30.000000  \n",
       "25%                NaN      NaN           NaN   NaN     0.000000   275.000000  \n",
       "50%                NaN      NaN           NaN   NaN     0.000000   883.000000  \n",
       "75%                NaN      NaN           NaN   NaN     1.000000  1676.000000  \n",
       "max                NaN      NaN           NaN   NaN     1.000000  2191.000000  "
      ]
     },
     "execution_count": 28,
     "metadata": {},
     "output_type": "execute_result"
    }
   ],
   "source": [
    "df.describe(include='all')"
   ]
  },
  {
   "cell_type": "code",
   "execution_count": 29,
   "metadata": {},
   "outputs": [],
   "source": [
    "def cat_type(df, col):\n",
    "    print(col)\n",
    "    print(df[col].unique())\n",
    "    print()\n",
    "    return df"
   ]
  },
  {
   "cell_type": "code",
   "execution_count": 30,
   "metadata": {},
   "outputs": [],
   "source": [
    "categorial = ['Type', 'InternetService', 'Partner', 'DeviceProtection', 'gender', 'OnlineBackup', 'Dependents',\n",
    "              'PaperlessBilling', 'StreamingTV','MultipleLines', 'SeniorCitizen', 'TechSupport','OnlineSecurity',\n",
    "              'StreamingMovies', 'PaymentMethod','phone', 'internet']"
   ]
  },
  {
   "cell_type": "code",
   "execution_count": 31,
   "metadata": {},
   "outputs": [
    {
     "name": "stdout",
     "output_type": "stream",
     "text": [
      "Type\n",
      "['Month-to-month' 'One year' 'Two year']\n",
      "\n",
      "InternetService\n",
      "['DSL' 'Fiber optic' 'No']\n",
      "\n",
      "Partner\n",
      "['Yes' 'No']\n",
      "\n",
      "DeviceProtection\n",
      "['No' 'Yes']\n",
      "\n",
      "gender\n",
      "['Female' 'Male']\n",
      "\n",
      "OnlineBackup\n",
      "['Yes' 'No']\n",
      "\n",
      "Dependents\n",
      "['No' 'Yes']\n",
      "\n",
      "PaperlessBilling\n",
      "['Yes' 'No']\n",
      "\n",
      "StreamingTV\n",
      "['No' 'Yes']\n",
      "\n",
      "MultipleLines\n",
      "['No' 'Yes']\n",
      "\n",
      "SeniorCitizen\n",
      "[0 1]\n",
      "\n",
      "TechSupport\n",
      "['No' 'Yes']\n",
      "\n",
      "OnlineSecurity\n",
      "['No' 'Yes']\n",
      "\n",
      "StreamingMovies\n",
      "['No' 'Yes']\n",
      "\n",
      "PaymentMethod\n",
      "['Electronic check' 'Mailed check' 'Bank transfer (automatic)'\n",
      " 'Credit card (automatic)']\n",
      "\n",
      "phone\n",
      "['No' 'Yes']\n",
      "\n",
      "internet\n",
      "['Yes' 'No']\n",
      "\n"
     ]
    }
   ],
   "source": [
    "for i in categorial:\n",
    "    cat_type(df, i)"
   ]
  },
  {
   "cell_type": "code",
   "execution_count": 32,
   "metadata": {},
   "outputs": [
    {
     "name": "stdout",
     "output_type": "stream",
     "text": [
      "<class 'pandas.core.frame.DataFrame'>\n",
      "Int64Index: 7032 entries, 0 to 7042\n",
      "Data columns (total 21 columns):\n",
      "Type                7032 non-null object\n",
      "PaperlessBilling    7032 non-null object\n",
      "PaymentMethod       7032 non-null object\n",
      "MonthlyCharges      7032 non-null float64\n",
      "TotalCharges        7032 non-null float64\n",
      "gender              7032 non-null object\n",
      "SeniorCitizen       7032 non-null int64\n",
      "Partner             7032 non-null object\n",
      "Dependents          7032 non-null object\n",
      "InternetService     7032 non-null object\n",
      "OnlineSecurity      7032 non-null object\n",
      "OnlineBackup        7032 non-null object\n",
      "DeviceProtection    7032 non-null object\n",
      "TechSupport         7032 non-null object\n",
      "StreamingTV         7032 non-null object\n",
      "StreamingMovies     7032 non-null object\n",
      "internet            7032 non-null object\n",
      "MultipleLines       7032 non-null object\n",
      "phone               7032 non-null object\n",
      "left                7032 non-null int64\n",
      "together            7032 non-null int64\n",
      "dtypes: float64(2), int64(3), object(16)\n",
      "memory usage: 1.2+ MB\n"
     ]
    }
   ],
   "source": [
    "df.info()"
   ]
  },
  {
   "cell_type": "code",
   "execution_count": 33,
   "metadata": {},
   "outputs": [],
   "source": [
    "df = pd.get_dummies(df, drop_first=True).astype(int)"
   ]
  },
  {
   "cell_type": "code",
   "execution_count": 34,
   "metadata": {},
   "outputs": [],
   "source": [
    "df = df.drop(columns=['Partner_Yes', 'DeviceProtection_Yes','PaymentMethod_Credit card (automatic)',\n",
    "                      'internet_Yes', 'OnlineBackup_Yes','Dependents_Yes'])"
   ]
  },
  {
   "cell_type": "markdown",
   "metadata": {},
   "source": [
    "Удалили лишние признаки"
   ]
  },
  {
   "cell_type": "code",
   "execution_count": 35,
   "metadata": {},
   "outputs": [
    {
     "data": {
      "text/plain": [
       "0.6511252380434778"
      ]
     },
     "execution_count": 35,
     "metadata": {},
     "output_type": "execute_result"
    }
   ],
   "source": [
    "df['MonthlyCharges'].corr(df['TotalCharges'])"
   ]
  },
  {
   "cell_type": "markdown",
   "metadata": {},
   "source": [
    "Есть небольшая корреляция между количественными признаками, буду эмпирически выяснять как лучше (убирая один признак, или используя оба)."
   ]
  },
  {
   "cell_type": "code",
   "execution_count": 38,
   "metadata": {},
   "outputs": [],
   "source": [
    "df = df.drop(columns=['MonthlyCharges']) # эмперическим путем оказалось лучшим. вариантом оставить \"TotalCharges\""
   ]
  },
  {
   "cell_type": "code",
   "execution_count": 39,
   "metadata": {},
   "outputs": [
    {
     "data": {
      "text/html": [
       "<div>\n",
       "<style scoped>\n",
       "    .dataframe tbody tr th:only-of-type {\n",
       "        vertical-align: middle;\n",
       "    }\n",
       "\n",
       "    .dataframe tbody tr th {\n",
       "        vertical-align: top;\n",
       "    }\n",
       "\n",
       "    .dataframe thead th {\n",
       "        text-align: right;\n",
       "    }\n",
       "</style>\n",
       "<table border=\"1\" class=\"dataframe\">\n",
       "  <thead>\n",
       "    <tr style=\"text-align: right;\">\n",
       "      <th></th>\n",
       "      <th>TotalCharges</th>\n",
       "      <th>SeniorCitizen</th>\n",
       "      <th>left</th>\n",
       "      <th>together</th>\n",
       "      <th>Type_One year</th>\n",
       "      <th>Type_Two year</th>\n",
       "      <th>PaperlessBilling_Yes</th>\n",
       "      <th>PaymentMethod_Electronic check</th>\n",
       "      <th>PaymentMethod_Mailed check</th>\n",
       "      <th>gender_Male</th>\n",
       "      <th>InternetService_Fiber optic</th>\n",
       "      <th>InternetService_No</th>\n",
       "      <th>OnlineSecurity_Yes</th>\n",
       "      <th>TechSupport_Yes</th>\n",
       "      <th>StreamingTV_Yes</th>\n",
       "      <th>StreamingMovies_Yes</th>\n",
       "      <th>MultipleLines_Yes</th>\n",
       "      <th>phone_Yes</th>\n",
       "    </tr>\n",
       "  </thead>\n",
       "  <tbody>\n",
       "    <tr>\n",
       "      <td>0</td>\n",
       "      <td>29</td>\n",
       "      <td>0</td>\n",
       "      <td>0</td>\n",
       "      <td>31</td>\n",
       "      <td>0</td>\n",
       "      <td>0</td>\n",
       "      <td>1</td>\n",
       "      <td>1</td>\n",
       "      <td>0</td>\n",
       "      <td>0</td>\n",
       "      <td>0</td>\n",
       "      <td>0</td>\n",
       "      <td>0</td>\n",
       "      <td>0</td>\n",
       "      <td>0</td>\n",
       "      <td>0</td>\n",
       "      <td>0</td>\n",
       "      <td>0</td>\n",
       "    </tr>\n",
       "    <tr>\n",
       "      <td>1</td>\n",
       "      <td>1889</td>\n",
       "      <td>0</td>\n",
       "      <td>0</td>\n",
       "      <td>1036</td>\n",
       "      <td>1</td>\n",
       "      <td>0</td>\n",
       "      <td>0</td>\n",
       "      <td>0</td>\n",
       "      <td>1</td>\n",
       "      <td>1</td>\n",
       "      <td>0</td>\n",
       "      <td>0</td>\n",
       "      <td>1</td>\n",
       "      <td>0</td>\n",
       "      <td>0</td>\n",
       "      <td>0</td>\n",
       "      <td>0</td>\n",
       "      <td>1</td>\n",
       "    </tr>\n",
       "    <tr>\n",
       "      <td>2</td>\n",
       "      <td>108</td>\n",
       "      <td>0</td>\n",
       "      <td>1</td>\n",
       "      <td>61</td>\n",
       "      <td>0</td>\n",
       "      <td>0</td>\n",
       "      <td>1</td>\n",
       "      <td>0</td>\n",
       "      <td>1</td>\n",
       "      <td>1</td>\n",
       "      <td>0</td>\n",
       "      <td>0</td>\n",
       "      <td>1</td>\n",
       "      <td>0</td>\n",
       "      <td>0</td>\n",
       "      <td>0</td>\n",
       "      <td>0</td>\n",
       "      <td>1</td>\n",
       "    </tr>\n",
       "    <tr>\n",
       "      <td>3</td>\n",
       "      <td>1840</td>\n",
       "      <td>0</td>\n",
       "      <td>0</td>\n",
       "      <td>1371</td>\n",
       "      <td>1</td>\n",
       "      <td>0</td>\n",
       "      <td>0</td>\n",
       "      <td>0</td>\n",
       "      <td>0</td>\n",
       "      <td>1</td>\n",
       "      <td>0</td>\n",
       "      <td>0</td>\n",
       "      <td>1</td>\n",
       "      <td>1</td>\n",
       "      <td>0</td>\n",
       "      <td>0</td>\n",
       "      <td>0</td>\n",
       "      <td>0</td>\n",
       "    </tr>\n",
       "    <tr>\n",
       "      <td>4</td>\n",
       "      <td>151</td>\n",
       "      <td>0</td>\n",
       "      <td>1</td>\n",
       "      <td>61</td>\n",
       "      <td>0</td>\n",
       "      <td>0</td>\n",
       "      <td>1</td>\n",
       "      <td>1</td>\n",
       "      <td>0</td>\n",
       "      <td>0</td>\n",
       "      <td>1</td>\n",
       "      <td>0</td>\n",
       "      <td>0</td>\n",
       "      <td>0</td>\n",
       "      <td>0</td>\n",
       "      <td>0</td>\n",
       "      <td>0</td>\n",
       "      <td>1</td>\n",
       "    </tr>\n",
       "    <tr>\n",
       "      <td>...</td>\n",
       "      <td>...</td>\n",
       "      <td>...</td>\n",
       "      <td>...</td>\n",
       "      <td>...</td>\n",
       "      <td>...</td>\n",
       "      <td>...</td>\n",
       "      <td>...</td>\n",
       "      <td>...</td>\n",
       "      <td>...</td>\n",
       "      <td>...</td>\n",
       "      <td>...</td>\n",
       "      <td>...</td>\n",
       "      <td>...</td>\n",
       "      <td>...</td>\n",
       "      <td>...</td>\n",
       "      <td>...</td>\n",
       "      <td>...</td>\n",
       "      <td>...</td>\n",
       "    </tr>\n",
       "    <tr>\n",
       "      <td>7038</td>\n",
       "      <td>1990</td>\n",
       "      <td>0</td>\n",
       "      <td>0</td>\n",
       "      <td>730</td>\n",
       "      <td>1</td>\n",
       "      <td>0</td>\n",
       "      <td>1</td>\n",
       "      <td>0</td>\n",
       "      <td>1</td>\n",
       "      <td>1</td>\n",
       "      <td>0</td>\n",
       "      <td>0</td>\n",
       "      <td>1</td>\n",
       "      <td>1</td>\n",
       "      <td>1</td>\n",
       "      <td>1</td>\n",
       "      <td>1</td>\n",
       "      <td>1</td>\n",
       "    </tr>\n",
       "    <tr>\n",
       "      <td>7039</td>\n",
       "      <td>7362</td>\n",
       "      <td>0</td>\n",
       "      <td>0</td>\n",
       "      <td>2191</td>\n",
       "      <td>1</td>\n",
       "      <td>0</td>\n",
       "      <td>1</td>\n",
       "      <td>0</td>\n",
       "      <td>0</td>\n",
       "      <td>0</td>\n",
       "      <td>1</td>\n",
       "      <td>0</td>\n",
       "      <td>0</td>\n",
       "      <td>0</td>\n",
       "      <td>1</td>\n",
       "      <td>1</td>\n",
       "      <td>1</td>\n",
       "      <td>1</td>\n",
       "    </tr>\n",
       "    <tr>\n",
       "      <td>7040</td>\n",
       "      <td>346</td>\n",
       "      <td>0</td>\n",
       "      <td>0</td>\n",
       "      <td>337</td>\n",
       "      <td>0</td>\n",
       "      <td>0</td>\n",
       "      <td>1</td>\n",
       "      <td>1</td>\n",
       "      <td>0</td>\n",
       "      <td>0</td>\n",
       "      <td>0</td>\n",
       "      <td>0</td>\n",
       "      <td>1</td>\n",
       "      <td>0</td>\n",
       "      <td>0</td>\n",
       "      <td>0</td>\n",
       "      <td>0</td>\n",
       "      <td>0</td>\n",
       "    </tr>\n",
       "    <tr>\n",
       "      <td>7041</td>\n",
       "      <td>306</td>\n",
       "      <td>1</td>\n",
       "      <td>1</td>\n",
       "      <td>123</td>\n",
       "      <td>0</td>\n",
       "      <td>0</td>\n",
       "      <td>1</td>\n",
       "      <td>0</td>\n",
       "      <td>1</td>\n",
       "      <td>1</td>\n",
       "      <td>1</td>\n",
       "      <td>0</td>\n",
       "      <td>0</td>\n",
       "      <td>0</td>\n",
       "      <td>0</td>\n",
       "      <td>0</td>\n",
       "      <td>1</td>\n",
       "      <td>1</td>\n",
       "    </tr>\n",
       "    <tr>\n",
       "      <td>7042</td>\n",
       "      <td>6844</td>\n",
       "      <td>0</td>\n",
       "      <td>0</td>\n",
       "      <td>2010</td>\n",
       "      <td>0</td>\n",
       "      <td>1</td>\n",
       "      <td>1</td>\n",
       "      <td>0</td>\n",
       "      <td>0</td>\n",
       "      <td>1</td>\n",
       "      <td>1</td>\n",
       "      <td>0</td>\n",
       "      <td>1</td>\n",
       "      <td>1</td>\n",
       "      <td>1</td>\n",
       "      <td>1</td>\n",
       "      <td>0</td>\n",
       "      <td>1</td>\n",
       "    </tr>\n",
       "  </tbody>\n",
       "</table>\n",
       "<p>7032 rows × 18 columns</p>\n",
       "</div>"
      ],
      "text/plain": [
       "      TotalCharges  SeniorCitizen  left  together  Type_One year  \\\n",
       "0               29              0     0        31              0   \n",
       "1             1889              0     0      1036              1   \n",
       "2              108              0     1        61              0   \n",
       "3             1840              0     0      1371              1   \n",
       "4              151              0     1        61              0   \n",
       "...            ...            ...   ...       ...            ...   \n",
       "7038          1990              0     0       730              1   \n",
       "7039          7362              0     0      2191              1   \n",
       "7040           346              0     0       337              0   \n",
       "7041           306              1     1       123              0   \n",
       "7042          6844              0     0      2010              0   \n",
       "\n",
       "      Type_Two year  PaperlessBilling_Yes  PaymentMethod_Electronic check  \\\n",
       "0                 0                     1                               1   \n",
       "1                 0                     0                               0   \n",
       "2                 0                     1                               0   \n",
       "3                 0                     0                               0   \n",
       "4                 0                     1                               1   \n",
       "...             ...                   ...                             ...   \n",
       "7038              0                     1                               0   \n",
       "7039              0                     1                               0   \n",
       "7040              0                     1                               1   \n",
       "7041              0                     1                               0   \n",
       "7042              1                     1                               0   \n",
       "\n",
       "      PaymentMethod_Mailed check  gender_Male  InternetService_Fiber optic  \\\n",
       "0                              0            0                            0   \n",
       "1                              1            1                            0   \n",
       "2                              1            1                            0   \n",
       "3                              0            1                            0   \n",
       "4                              0            0                            1   \n",
       "...                          ...          ...                          ...   \n",
       "7038                           1            1                            0   \n",
       "7039                           0            0                            1   \n",
       "7040                           0            0                            0   \n",
       "7041                           1            1                            1   \n",
       "7042                           0            1                            1   \n",
       "\n",
       "      InternetService_No  OnlineSecurity_Yes  TechSupport_Yes  \\\n",
       "0                      0                   0                0   \n",
       "1                      0                   1                0   \n",
       "2                      0                   1                0   \n",
       "3                      0                   1                1   \n",
       "4                      0                   0                0   \n",
       "...                  ...                 ...              ...   \n",
       "7038                   0                   1                1   \n",
       "7039                   0                   0                0   \n",
       "7040                   0                   1                0   \n",
       "7041                   0                   0                0   \n",
       "7042                   0                   1                1   \n",
       "\n",
       "      StreamingTV_Yes  StreamingMovies_Yes  MultipleLines_Yes  phone_Yes  \n",
       "0                   0                    0                  0          0  \n",
       "1                   0                    0                  0          1  \n",
       "2                   0                    0                  0          1  \n",
       "3                   0                    0                  0          0  \n",
       "4                   0                    0                  0          1  \n",
       "...               ...                  ...                ...        ...  \n",
       "7038                1                    1                  1          1  \n",
       "7039                1                    1                  1          1  \n",
       "7040                0                    0                  0          0  \n",
       "7041                0                    0                  1          1  \n",
       "7042                1                    1                  0          1  \n",
       "\n",
       "[7032 rows x 18 columns]"
      ]
     },
     "execution_count": 39,
     "metadata": {},
     "output_type": "execute_result"
    }
   ],
   "source": [
    "df"
   ]
  },
  {
   "cell_type": "code",
   "execution_count": 40,
   "metadata": {},
   "outputs": [
    {
     "data": {
      "text/plain": [
       "[0.26578498293515357, 0.7342150170648465]"
      ]
     },
     "execution_count": 40,
     "metadata": {},
     "output_type": "execute_result"
    }
   ],
   "source": [
    "one_class_waight = df.loc[df['left'] == 1].shape[0] / df['left'].shape[0]\n",
    "zero_class_waight = 1 - one_class_waight\n",
    "class_waights = [ one_class_waight, zero_class_waight]\n",
    "class_waights"
   ]
  },
  {
   "cell_type": "markdown",
   "metadata": {},
   "source": [
    "Есть существенный дисбаланс классов целевого признака. Создали список весов, для передачи в Catboost"
   ]
  },
  {
   "cell_type": "code",
   "execution_count": 41,
   "metadata": {},
   "outputs": [],
   "source": [
    "train,test = train_test_split(df, test_size=0.2, random_state = 42, stratify= df['left'])"
   ]
  },
  {
   "cell_type": "markdown",
   "metadata": {},
   "source": [
    "Разбили на трейн, тест "
   ]
  },
  {
   "cell_type": "code",
   "execution_count": 42,
   "metadata": {},
   "outputs": [],
   "source": [
    "def features_target_split(df,target):\n",
    "    features = df.drop(target, axis=1)\n",
    "    target = df[target]\n",
    "    return features, target"
   ]
  },
  {
   "cell_type": "code",
   "execution_count": 43,
   "metadata": {},
   "outputs": [],
   "source": [
    "features_test, target_test = features_target_split(test,'left')\n",
    "features_train, target_train = features_target_split(train,'left')"
   ]
  },
  {
   "cell_type": "markdown",
   "metadata": {},
   "source": [
    "Отделили целевой признак"
   ]
  },
  {
   "cell_type": "markdown",
   "metadata": {},
   "source": [
    "### Подбор моделей"
   ]
  },
  {
   "cell_type": "code",
   "execution_count": 44,
   "metadata": {},
   "outputs": [],
   "source": [
    "models_scors = pd.DataFrame(columns = ['model', 'roc_auc']) # таблица для сбора метрик"
   ]
  },
  {
   "cell_type": "markdown",
   "metadata": {},
   "source": [
    "#### RandomForrestClassifier"
   ]
  },
  {
   "cell_type": "code",
   "execution_count": 45,
   "metadata": {},
   "outputs": [
    {
     "name": "stdout",
     "output_type": "stream",
     "text": [
      "Fitting 3 folds for each of 1 candidates, totalling 3 fits\n"
     ]
    },
    {
     "name": "stderr",
     "output_type": "stream",
     "text": [
      "[Parallel(n_jobs=1)]: Using backend SequentialBackend with 1 concurrent workers.\n",
      "[Parallel(n_jobs=1)]: Done   3 out of   3 | elapsed:    3.1s finished\n"
     ]
    },
    {
     "name": "stdout",
     "output_type": "stream",
     "text": [
      "CPU times: user 4.29 s, sys: 0 ns, total: 4.29 s\n",
      "Wall time: 4.31 s\n"
     ]
    },
    {
     "data": {
      "text/plain": [
       "{'max_depth': 7, 'n_estimators': 270}"
      ]
     },
     "execution_count": 45,
     "metadata": {},
     "output_type": "execute_result"
    }
   ],
   "source": [
    "%%time\n",
    "RF_model = RandomForestClassifier(random_state=42, class_weight='balanced')\n",
    "\n",
    "parameters = [{'max_depth': [7],\n",
    "               'n_estimators': [270]}]\n",
    "\n",
    "RF_model_gscv = GridSearchCV(RF_model, param_grid=parameters, scoring='roc_auc', \n",
    "                   cv=3, verbose=True)\n",
    "RF_model_gscv.fit(features_train, target_train)\n",
    "\n",
    "models_scors = models_scors.append({'model' : 'RandomForest',\n",
    "                     'roc_auc' : RF_model_gscv.best_score_}, ignore_index=True)\n",
    "\n",
    "RF_model_gscv.best_params_"
   ]
  },
  {
   "cell_type": "markdown",
   "metadata": {},
   "source": [
    "#### CatBoostClassifier"
   ]
  },
  {
   "cell_type": "code",
   "execution_count": 46,
   "metadata": {},
   "outputs": [
    {
     "name": "stdout",
     "output_type": "stream",
     "text": [
      "Fitting 3 folds for each of 1 candidates, totalling 3 fits\n"
     ]
    },
    {
     "name": "stderr",
     "output_type": "stream",
     "text": [
      "[Parallel(n_jobs=-1)]: Using backend SequentialBackend with 1 concurrent workers.\n",
      "[Parallel(n_jobs=-1)]: Done   3 out of   3 | elapsed:   29.1s finished\n"
     ]
    },
    {
     "name": "stdout",
     "output_type": "stream",
     "text": [
      "CPU times: user 31.6 s, sys: 2.75 s, total: 34.4 s\n",
      "Wall time: 39.9 s\n"
     ]
    },
    {
     "data": {
      "text/plain": [
       "{'learning_rate': 0.3, 'max_depth': 2, 'n_estimators': 800}"
      ]
     },
     "execution_count": 46,
     "metadata": {},
     "output_type": "execute_result"
    }
   ],
   "source": [
    "%%time\n",
    "CBC_model = CatBoostClassifier(random_state=42, silent=True, class_weights=class_waights)\n",
    "\n",
    "parameters = [{'max_depth': [2],\n",
    "               'learning_rate': [0.3],\n",
    "               'n_estimators': [800]}]\n",
    "\n",
    "CBC_model_gscv = GridSearchCV(CBC_model, param_grid=parameters, scoring='roc_auc', \n",
    "                   cv=3, verbose=True, n_jobs=-1)\n",
    "CBC_model_gscv.fit(features_train, target_train)\n",
    "\n",
    "models_scors = models_scors.append({'model' : 'CatBoostClassifier',\n",
    "                     'roc_auc' : CBC_model_gscv.best_score_}, ignore_index=True)\n",
    "\n",
    "CBC_model_gscv.best_params_"
   ]
  },
  {
   "cell_type": "markdown",
   "metadata": {},
   "source": [
    "#### LGBMClassifier"
   ]
  },
  {
   "cell_type": "code",
   "execution_count": 47,
   "metadata": {
    "scrolled": true
   },
   "outputs": [
    {
     "name": "stdout",
     "output_type": "stream",
     "text": [
      "Fitting 3 folds for each of 1 candidates, totalling 3 fits\n"
     ]
    },
    {
     "name": "stderr",
     "output_type": "stream",
     "text": [
      "[Parallel(n_jobs=1)]: Using backend SequentialBackend with 1 concurrent workers.\n",
      "[Parallel(n_jobs=1)]: Done   3 out of   3 | elapsed:    6.4s finished\n"
     ]
    },
    {
     "name": "stdout",
     "output_type": "stream",
     "text": [
      "CPU times: user 8.5 s, sys: 29.5 ms, total: 8.53 s\n",
      "Wall time: 8.67 s\n"
     ]
    },
    {
     "data": {
      "text/plain": [
       "{'learning_rate': 0.1, 'max_depth': 2, 'n_estimators': 700}"
      ]
     },
     "execution_count": 47,
     "metadata": {},
     "output_type": "execute_result"
    }
   ],
   "source": [
    "%%time\n",
    "LGBMC_model = LGBMClassifier(random_state=42, class_weight='balanced')\n",
    "\n",
    "parameters = [{'max_depth': [2],\n",
    "               'learning_rate': [0.1],\n",
    "               'n_estimators': [700]}]\n",
    "\n",
    "LGBMC_model_gscv = GridSearchCV(LGBMC_model, param_grid=parameters, scoring='roc_auc', \n",
    "                   cv=3, verbose=True)\n",
    "LGBMC_model_gscv.fit(features_train, target_train)\n",
    "\n",
    "models_scors = models_scors.append({'model' : 'LGBMClassifier',\n",
    "                     'roc_auc' : LGBMC_model_gscv.best_score_ }, ignore_index=True)\n",
    "\n",
    "LGBMC_model_gscv.best_params_"
   ]
  },
  {
   "cell_type": "code",
   "execution_count": 48,
   "metadata": {},
   "outputs": [
    {
     "data": {
      "text/html": [
       "<div>\n",
       "<style scoped>\n",
       "    .dataframe tbody tr th:only-of-type {\n",
       "        vertical-align: middle;\n",
       "    }\n",
       "\n",
       "    .dataframe tbody tr th {\n",
       "        vertical-align: top;\n",
       "    }\n",
       "\n",
       "    .dataframe thead th {\n",
       "        text-align: right;\n",
       "    }\n",
       "</style>\n",
       "<table border=\"1\" class=\"dataframe\">\n",
       "  <thead>\n",
       "    <tr style=\"text-align: right;\">\n",
       "      <th></th>\n",
       "      <th>model</th>\n",
       "      <th>roc_auc</th>\n",
       "    </tr>\n",
       "  </thead>\n",
       "  <tbody>\n",
       "    <tr>\n",
       "      <td>0</td>\n",
       "      <td>RandomForest</td>\n",
       "      <td>0.862737</td>\n",
       "    </tr>\n",
       "    <tr>\n",
       "      <td>1</td>\n",
       "      <td>CatBoostClassifier</td>\n",
       "      <td>0.933095</td>\n",
       "    </tr>\n",
       "    <tr>\n",
       "      <td>2</td>\n",
       "      <td>LGBMClassifier</td>\n",
       "      <td>0.904604</td>\n",
       "    </tr>\n",
       "  </tbody>\n",
       "</table>\n",
       "</div>"
      ],
      "text/plain": [
       "                model   roc_auc\n",
       "0        RandomForest  0.862737\n",
       "1  CatBoostClassifier  0.933095\n",
       "2      LGBMClassifier  0.904604"
      ]
     },
     "execution_count": 48,
     "metadata": {},
     "output_type": "execute_result"
    }
   ],
   "source": [
    "models_scors"
   ]
  },
  {
   "cell_type": "markdown",
   "metadata": {},
   "source": [
    "Лучшие результаты продемонстрировал CatBoost, будем подбирать фичи для него"
   ]
  },
  {
   "cell_type": "markdown",
   "metadata": {},
   "source": [
    "### Подбор фичей и гиперпараметров"
   ]
  },
  {
   "cell_type": "code",
   "execution_count": 49,
   "metadata": {},
   "outputs": [
    {
     "name": "stdout",
     "output_type": "stream",
     "text": [
      "Fitting 3 folds for each of 1 candidates, totalling 3 fits\n"
     ]
    },
    {
     "name": "stderr",
     "output_type": "stream",
     "text": [
      "[Parallel(n_jobs=-1)]: Using backend SequentialBackend with 1 concurrent workers.\n",
      "[Parallel(n_jobs=-1)]: Done   3 out of   3 | elapsed:   29.1s finished\n"
     ]
    },
    {
     "name": "stdout",
     "output_type": "stream",
     "text": [
      "CPU times: user 32.4 s, sys: 3.01 s, total: 35.4 s\n",
      "Wall time: 40.2 s\n"
     ]
    },
    {
     "data": {
      "text/plain": [
       "{'learning_rate': 0.3, 'max_depth': 2, 'n_estimators': 800}"
      ]
     },
     "execution_count": 49,
     "metadata": {},
     "output_type": "execute_result"
    }
   ],
   "source": [
    "%%time\n",
    "CBC_model = CatBoostClassifier(random_state=42, silent=True, class_weights=class_waights)\n",
    "\n",
    "parameters = [{'max_depth': [2],\n",
    "               'learning_rate': [0.3],\n",
    "               'n_estimators': [800]}]\n",
    "\n",
    "CBC_model_gscv = GridSearchCV(CBC_model, param_grid=parameters, scoring='roc_auc', \n",
    "                   cv=3, verbose=True, n_jobs=-1)\n",
    "CBC_model_gscv.fit(features_train, target_train)\n",
    "\n",
    "\n",
    "CBC_model_gscv.best_params_"
   ]
  },
  {
   "cell_type": "code",
   "execution_count": 50,
   "metadata": {},
   "outputs": [
    {
     "data": {
      "text/plain": [
       "0.9330946863144465"
      ]
     },
     "execution_count": 50,
     "metadata": {},
     "output_type": "execute_result"
    }
   ],
   "source": [
    "CBC_model_gscv.best_score_"
   ]
  },
  {
   "cell_type": "code",
   "execution_count": 51,
   "metadata": {},
   "outputs": [
    {
     "data": {
      "text/html": [
       "<div>\n",
       "<style scoped>\n",
       "    .dataframe tbody tr th:only-of-type {\n",
       "        vertical-align: middle;\n",
       "    }\n",
       "\n",
       "    .dataframe tbody tr th {\n",
       "        vertical-align: top;\n",
       "    }\n",
       "\n",
       "    .dataframe thead th {\n",
       "        text-align: right;\n",
       "    }\n",
       "</style>\n",
       "<table border=\"1\" class=\"dataframe\">\n",
       "  <thead>\n",
       "    <tr style=\"text-align: right;\">\n",
       "      <th></th>\n",
       "      <th>name</th>\n",
       "      <th>importance</th>\n",
       "    </tr>\n",
       "  </thead>\n",
       "  <tbody>\n",
       "    <tr>\n",
       "      <td>2</td>\n",
       "      <td>together</td>\n",
       "      <td>76.834638</td>\n",
       "    </tr>\n",
       "    <tr>\n",
       "      <td>0</td>\n",
       "      <td>TotalCharges</td>\n",
       "      <td>7.580627</td>\n",
       "    </tr>\n",
       "    <tr>\n",
       "      <td>4</td>\n",
       "      <td>Type_Two year</td>\n",
       "      <td>4.965636</td>\n",
       "    </tr>\n",
       "    <tr>\n",
       "      <td>9</td>\n",
       "      <td>InternetService_Fiber optic</td>\n",
       "      <td>2.775612</td>\n",
       "    </tr>\n",
       "    <tr>\n",
       "      <td>3</td>\n",
       "      <td>Type_One year</td>\n",
       "      <td>1.764657</td>\n",
       "    </tr>\n",
       "    <tr>\n",
       "      <td>10</td>\n",
       "      <td>InternetService_No</td>\n",
       "      <td>1.664094</td>\n",
       "    </tr>\n",
       "    <tr>\n",
       "      <td>6</td>\n",
       "      <td>PaymentMethod_Electronic check</td>\n",
       "      <td>0.961378</td>\n",
       "    </tr>\n",
       "    <tr>\n",
       "      <td>13</td>\n",
       "      <td>StreamingTV_Yes</td>\n",
       "      <td>0.474337</td>\n",
       "    </tr>\n",
       "    <tr>\n",
       "      <td>14</td>\n",
       "      <td>StreamingMovies_Yes</td>\n",
       "      <td>0.473446</td>\n",
       "    </tr>\n",
       "    <tr>\n",
       "      <td>1</td>\n",
       "      <td>SeniorCitizen</td>\n",
       "      <td>0.416032</td>\n",
       "    </tr>\n",
       "    <tr>\n",
       "      <td>5</td>\n",
       "      <td>PaperlessBilling_Yes</td>\n",
       "      <td>0.375173</td>\n",
       "    </tr>\n",
       "    <tr>\n",
       "      <td>11</td>\n",
       "      <td>OnlineSecurity_Yes</td>\n",
       "      <td>0.342342</td>\n",
       "    </tr>\n",
       "    <tr>\n",
       "      <td>16</td>\n",
       "      <td>phone_Yes</td>\n",
       "      <td>0.335690</td>\n",
       "    </tr>\n",
       "    <tr>\n",
       "      <td>15</td>\n",
       "      <td>MultipleLines_Yes</td>\n",
       "      <td>0.273417</td>\n",
       "    </tr>\n",
       "    <tr>\n",
       "      <td>12</td>\n",
       "      <td>TechSupport_Yes</td>\n",
       "      <td>0.271047</td>\n",
       "    </tr>\n",
       "    <tr>\n",
       "      <td>7</td>\n",
       "      <td>PaymentMethod_Mailed check</td>\n",
       "      <td>0.252806</td>\n",
       "    </tr>\n",
       "    <tr>\n",
       "      <td>8</td>\n",
       "      <td>gender_Male</td>\n",
       "      <td>0.239067</td>\n",
       "    </tr>\n",
       "  </tbody>\n",
       "</table>\n",
       "</div>"
      ],
      "text/plain": [
       "                              name  importance\n",
       "2                         together   76.834638\n",
       "0                     TotalCharges    7.580627\n",
       "4                    Type_Two year    4.965636\n",
       "9      InternetService_Fiber optic    2.775612\n",
       "3                    Type_One year    1.764657\n",
       "10              InternetService_No    1.664094\n",
       "6   PaymentMethod_Electronic check    0.961378\n",
       "13                 StreamingTV_Yes    0.474337\n",
       "14             StreamingMovies_Yes    0.473446\n",
       "1                    SeniorCitizen    0.416032\n",
       "5             PaperlessBilling_Yes    0.375173\n",
       "11              OnlineSecurity_Yes    0.342342\n",
       "16                       phone_Yes    0.335690\n",
       "15               MultipleLines_Yes    0.273417\n",
       "12                 TechSupport_Yes    0.271047\n",
       "7       PaymentMethod_Mailed check    0.252806\n",
       "8                      gender_Male    0.239067"
      ]
     },
     "execution_count": 51,
     "metadata": {},
     "output_type": "execute_result"
    }
   ],
   "source": [
    "features_train_importance = pd.DataFrame({'name' : features_train.columns,\n",
    "                                          'importance' : CBC_model_gscv.best_estimator_.feature_importances_})\n",
    "features_train_importance = features_train_importance.sort_values('importance', ascending=False)\n",
    "features_train_importance"
   ]
  },
  {
   "cell_type": "markdown",
   "metadata": {},
   "source": [
    "### Тестирование"
   ]
  },
  {
   "cell_type": "code",
   "execution_count": 52,
   "metadata": {},
   "outputs": [
    {
     "name": "stdout",
     "output_type": "stream",
     "text": [
      "ROC-AUC : 0.94\n"
     ]
    }
   ],
   "source": [
    "print('ROC-AUC : {:.2f}'.format(roc_auc_score(target_test,\n",
    "                                        CBC_model_gscv.best_estimator_.predict_proba(features_test)[:, 1])))"
   ]
  },
  {
   "cell_type": "code",
   "execution_count": 53,
   "metadata": {},
   "outputs": [
    {
     "name": "stdout",
     "output_type": "stream",
     "text": [
      "Accuracy : 87.06%\n"
     ]
    }
   ],
   "source": [
    "print('Accuracy : {:.2%}'.format(accuracy_score(target_test,\n",
    "                                                CBC_model_gscv.best_estimator_.predict(features_test))))"
   ]
  },
  {
   "cell_type": "code",
   "execution_count": 54,
   "metadata": {},
   "outputs": [
    {
     "data": {
      "image/png": "[encoded data removed]",
      "text/plain": [
       "<Figure size 576x576 with 1 Axes>"
      ]
     },
     "metadata": {
      "needs_background": "light"
     },
     "output_type": "display_data"
    }
   ],
   "source": [
    "fpr, tpr, thresholds = roc_curve(target_test, CBC_model_gscv.best_estimator_.predict_proba(features_test)[:, 1])\n",
    "\n",
    "plt.figure(figsize=(8,8))\n",
    "plt.plot(fpr, tpr)\n",
    "plt.plot([0, 1], [0, 1], linestyle='--')\n",
    "plt.xlim([0.0,1.0])\n",
    "plt.ylim([0.0,1.0])\n",
    "plt.xlabel('False Positive Rate')\n",
    "plt.ylabel('True Positive Rate')\n",
    "plt.title('ROC-кривая')\n",
    "plt.show()"
   ]
  },
  {
   "cell_type": "markdown",
   "metadata": {},
   "source": [
    "### Вывод"
   ]
  },
  {
   "cell_type": "markdown",
   "metadata": {},
   "source": [
    "Наша модель добилась хороших результатов, площадь под ROC кривой на тестовой выборки составляет 0.94. Точность 87.06%.\n",
    "\n",
    "Самым важным признаком является продолжительность пользования услугами, чем дольше клиент с компанией, тем меньше вероятность, что он покинет её. Следующая по важности фича - сколько в общем клиент уже заплатил компании. Чаще всего уходят клиенты с большей платой в месяц. 25% клиентов уходит после первого месяца, 50% в течение 10 месяцев."
   ]
  },
  {
   "cell_type": "markdown",
   "metadata": {},
   "source": [
    "### Отчет"
   ]
  },
  {
   "cell_type": "markdown",
   "metadata": {
    "pycharm": {
     "name": "#%% md\n"
    }
   },
   "source": [
    "1. Исследовательский анализ данных.\n",
    " * Был произведен визуальный осмотр данных, статистической информации, проверка на пропуски и дубликаты.\n",
    "\n",
    "2. Подготовка данных.\n",
    " * Удалена дата подключения. Проанализирован период через который происходит прекращение пользования услугами.   Произведено объединение таблиц и добавление признаков \"пользование интернетом\" и \"пользование телефонией\". Образовавшиеся пропуски были заполнены значением \"No\", так как явно было указано, что если клиента нет в таблице, значит он не пользуется услугой. Удален признак \"ежемесячный платеж\" в связи с корреляцией с другим количественным признаком(эффективность эмпирически проверена). Построен график распределений всех клиентов, и тех кто ушел.\n",
    "\n",
    "3. Подбор модели.\n",
    " * На кросс валидации было произведено сравнение трех моделей.\n",
    "\n",
    "4. Подбор гиперпараметров.\n",
    " * Были отсеяны мало информативные признаки, после этого ещё раз были подобраны гиперпараметры.\n",
    "\n",
    "5. Тестирование.\n",
    " * Модель была протестирована на тестовой выборке выведены метрики ROC-AUC : 0.94, Accuracy : 87.06% и построена ROC-кривая.\n",
    " \n",
    "Изначально ошибочно добавил параметр месяц подключения, что вызвало сверх точность модели, в последствии отказался от него.  Заметил интересную особенность, при извлечении признака \"время которое клиент провел с компанией\", если округлять до месяца точность моделей существенно падает. Несмотря на то, что количество дней явно привязано к месяцам(30, 61 и т.д.). "
   ]
  }
 ],
 "metadata": {
  "ExecuteTimeLog": [
   {
    "duration": 3,
    "start_time": "2021-07-06T19:35:55.144Z"
   },
   {
    "duration": 2,
    "start_time": "2021-07-06T19:38:57.811Z"
   },
   {
    "duration": 2,
    "start_time": "2021-07-06T19:39:02.279Z"
   },
   {
    "duration": 207,
    "start_time": "2021-07-06T19:45:34.876Z"
   },
   {
    "duration": 1010,
    "start_time": "2021-07-06T19:45:45.873Z"
   },
   {
    "duration": 1471,
    "start_time": "2021-07-06T19:45:46.885Z"
   },
   {
    "duration": 273,
    "start_time": "2021-07-06T19:47:45.838Z"
   },
   {
    "duration": 90,
    "start_time": "2021-07-06T19:48:16.550Z"
   },
   {
    "duration": 3,
    "start_time": "2021-07-06T19:48:47.124Z"
   },
   {
    "duration": 5,
    "start_time": "2021-07-06T19:49:22.985Z"
   },
   {
    "duration": 93,
    "start_time": "2021-07-06T19:49:32.010Z"
   },
   {
    "duration": 4,
    "start_time": "2021-07-06T19:49:57.092Z"
   },
   {
    "duration": 311,
    "start_time": "2021-07-07T08:54:43.747Z"
   },
   {
    "duration": 1382,
    "start_time": "2021-07-07T08:54:53.074Z"
   },
   {
    "duration": 122,
    "start_time": "2021-07-07T08:54:54.459Z"
   },
   {
    "duration": 6,
    "start_time": "2021-07-07T08:54:54.584Z"
   },
   {
    "duration": 136,
    "start_time": "2021-07-07T08:54:54.593Z"
   },
   {
    "duration": 380,
    "start_time": "2021-07-07T09:00:21.324Z"
   },
   {
    "duration": 16,
    "start_time": "2021-07-07T09:00:30.328Z"
   },
   {
    "duration": 39,
    "start_time": "2021-07-07T09:00:35.884Z"
   },
   {
    "duration": 5,
    "start_time": "2021-07-07T09:04:46.081Z"
   },
   {
    "duration": 29,
    "start_time": "2021-07-07T09:04:51.471Z"
   },
   {
    "duration": 254,
    "start_time": "2021-07-07T09:06:32.438Z"
   },
   {
    "duration": 4,
    "start_time": "2021-07-07T09:08:15.927Z"
   },
   {
    "duration": 31,
    "start_time": "2021-07-07T09:08:20.400Z"
   },
   {
    "duration": 42,
    "start_time": "2021-07-07T09:08:30.750Z"
   },
   {
    "duration": 30,
    "start_time": "2021-07-07T09:08:45.454Z"
   },
   {
    "duration": 40,
    "start_time": "2021-07-07T09:08:46.480Z"
   },
   {
    "duration": 5,
    "start_time": "2021-07-07T09:08:59.908Z"
   },
   {
    "duration": 41,
    "start_time": "2021-07-07T09:09:03.661Z"
   },
   {
    "duration": 25,
    "start_time": "2021-07-07T09:09:28.649Z"
   },
   {
    "duration": 49,
    "start_time": "2021-07-07T09:12:20.077Z"
   },
   {
    "duration": 18,
    "start_time": "2021-07-07T09:12:30.625Z"
   },
   {
    "duration": 21,
    "start_time": "2021-07-07T09:12:37.015Z"
   },
   {
    "duration": 15,
    "start_time": "2021-07-07T09:12:45.258Z"
   },
   {
    "duration": 282,
    "start_time": "2021-07-07T09:17:47.990Z"
   },
   {
    "duration": 43,
    "start_time": "2021-07-07T09:18:18.173Z"
   },
   {
    "duration": 21,
    "start_time": "2021-07-07T09:18:48.549Z"
   },
   {
    "duration": 20,
    "start_time": "2021-07-07T09:18:52.631Z"
   },
   {
    "duration": 22,
    "start_time": "2021-07-07T09:19:00.057Z"
   },
   {
    "duration": 42,
    "start_time": "2021-07-07T09:19:01.470Z"
   },
   {
    "duration": 20,
    "start_time": "2021-07-07T09:19:11.420Z"
   },
   {
    "duration": 19,
    "start_time": "2021-07-07T09:19:13.139Z"
   },
   {
    "duration": 18,
    "start_time": "2021-07-07T09:19:14.182Z"
   },
   {
    "duration": 129,
    "start_time": "2021-07-07T09:21:12.068Z"
   },
   {
    "duration": 84,
    "start_time": "2021-07-07T09:44:17.932Z"
   },
   {
    "duration": 24,
    "start_time": "2021-07-07T09:44:20.968Z"
   },
   {
    "duration": 5,
    "start_time": "2021-07-07T09:45:14.013Z"
   },
   {
    "duration": 117,
    "start_time": "2021-07-07T09:45:14.508Z"
   },
   {
    "duration": 17,
    "start_time": "2021-07-07T09:47:26.692Z"
   },
   {
    "duration": 23,
    "start_time": "2021-07-07T09:47:27.318Z"
   },
   {
    "duration": 20,
    "start_time": "2021-07-07T09:47:46.326Z"
   },
   {
    "duration": 25,
    "start_time": "2021-07-07T09:47:46.597Z"
   },
   {
    "duration": 139,
    "start_time": "2021-07-07T10:06:31.084Z"
   },
   {
    "duration": 9,
    "start_time": "2021-07-07T10:10:23.388Z"
   },
   {
    "duration": 354,
    "start_time": "2021-07-07T10:10:45.250Z"
   },
   {
    "duration": 296,
    "start_time": "2021-07-07T10:11:02.912Z"
   },
   {
    "duration": 10,
    "start_time": "2021-07-07T10:11:19.664Z"
   },
   {
    "duration": 255,
    "start_time": "2021-07-07T10:14:42.822Z"
   },
   {
    "duration": 289,
    "start_time": "2021-07-07T10:15:04.183Z"
   },
   {
    "duration": 271,
    "start_time": "2021-07-07T10:15:07.652Z"
   },
   {
    "duration": 4,
    "start_time": "2021-07-07T10:15:13.461Z"
   },
   {
    "duration": 1435,
    "start_time": "2021-07-07T10:15:18.287Z"
   },
   {
    "duration": 1324,
    "start_time": "2021-07-07T10:15:58.313Z"
   },
   {
    "duration": 1424,
    "start_time": "2021-07-07T10:17:01.306Z"
   },
   {
    "duration": 1385,
    "start_time": "2021-07-07T10:17:51.344Z"
   },
   {
    "duration": 99,
    "start_time": "2021-07-07T10:18:37.756Z"
   },
   {
    "duration": 1532,
    "start_time": "2021-07-07T10:22:23.989Z"
   },
   {
    "duration": 306,
    "start_time": "2021-07-07T10:23:15.146Z"
   },
   {
    "duration": 269,
    "start_time": "2021-07-07T10:23:32.420Z"
   },
   {
    "duration": 276,
    "start_time": "2021-07-07T10:24:13.132Z"
   },
   {
    "duration": 743,
    "start_time": "2021-07-07T10:24:52.526Z"
   },
   {
    "duration": 261,
    "start_time": "2021-07-07T10:29:09.349Z"
   },
   {
    "duration": 2190,
    "start_time": "2021-07-07T10:29:26.050Z"
   },
   {
    "duration": 79,
    "start_time": "2021-07-07T10:31:39.201Z"
   },
   {
    "duration": 81,
    "start_time": "2021-07-07T10:31:46.196Z"
   },
   {
    "duration": 99,
    "start_time": "2021-07-07T10:31:52.142Z"
   },
   {
    "duration": 35,
    "start_time": "2021-07-07T10:32:12.354Z"
   },
   {
    "duration": 32,
    "start_time": "2021-07-07T10:33:58.048Z"
   },
   {
    "duration": 21,
    "start_time": "2021-07-07T10:34:23.959Z"
   },
   {
    "duration": 1380,
    "start_time": "2021-07-07T10:34:42.328Z"
   },
   {
    "duration": 114,
    "start_time": "2021-07-07T10:34:43.711Z"
   },
   {
    "duration": 4,
    "start_time": "2021-07-07T10:34:43.828Z"
   },
   {
    "duration": 141,
    "start_time": "2021-07-07T10:34:43.835Z"
   },
   {
    "duration": 25,
    "start_time": "2021-07-07T10:34:43.978Z"
   },
   {
    "duration": 32,
    "start_time": "2021-07-07T10:34:44.005Z"
   },
   {
    "duration": 23,
    "start_time": "2021-07-07T10:34:44.057Z"
   },
   {
    "duration": 29,
    "start_time": "2021-07-07T10:34:44.083Z"
   },
   {
    "duration": 20,
    "start_time": "2021-07-07T10:34:44.115Z"
   },
   {
    "duration": 49,
    "start_time": "2021-07-07T10:34:44.138Z"
   },
   {
    "duration": 16,
    "start_time": "2021-07-07T10:34:44.190Z"
   },
   {
    "duration": 12,
    "start_time": "2021-07-07T10:34:44.209Z"
   },
   {
    "duration": 655,
    "start_time": "2021-07-07T10:34:44.224Z"
   },
   {
    "duration": 1395,
    "start_time": "2021-07-07T10:35:27.555Z"
   },
   {
    "duration": 120,
    "start_time": "2021-07-07T10:35:28.953Z"
   },
   {
    "duration": 7,
    "start_time": "2021-07-07T10:35:29.077Z"
   },
   {
    "duration": 134,
    "start_time": "2021-07-07T10:35:29.086Z"
   },
   {
    "duration": 42,
    "start_time": "2021-07-07T10:35:29.223Z"
   },
   {
    "duration": 50,
    "start_time": "2021-07-07T10:35:29.269Z"
   },
   {
    "duration": 43,
    "start_time": "2021-07-07T10:35:29.322Z"
   },
   {
    "duration": 22,
    "start_time": "2021-07-07T10:35:29.370Z"
   },
   {
    "duration": 17,
    "start_time": "2021-07-07T10:35:29.395Z"
   },
   {
    "duration": 41,
    "start_time": "2021-07-07T10:35:29.415Z"
   },
   {
    "duration": 103,
    "start_time": "2021-07-07T10:35:29.459Z"
   },
   {
    "duration": 100,
    "start_time": "2021-07-07T10:35:29.466Z"
   },
   {
    "duration": 94,
    "start_time": "2021-07-07T10:35:29.474Z"
   },
   {
    "duration": 36,
    "start_time": "2021-07-07T10:36:08.791Z"
   },
   {
    "duration": 17,
    "start_time": "2021-07-07T10:36:22.421Z"
   },
   {
    "duration": 9,
    "start_time": "2021-07-07T10:36:24.462Z"
   },
   {
    "duration": 1975,
    "start_time": "2021-07-07T10:38:47.641Z"
   },
   {
    "duration": 1342,
    "start_time": "2021-07-07T10:38:57.701Z"
   },
   {
    "duration": 121,
    "start_time": "2021-07-07T10:38:59.046Z"
   },
   {
    "duration": 6,
    "start_time": "2021-07-07T10:38:59.171Z"
   },
   {
    "duration": 132,
    "start_time": "2021-07-07T10:38:59.180Z"
   },
   {
    "duration": 42,
    "start_time": "2021-07-07T10:38:59.314Z"
   },
   {
    "duration": 37,
    "start_time": "2021-07-07T10:38:59.358Z"
   },
   {
    "duration": 20,
    "start_time": "2021-07-07T10:38:59.397Z"
   },
   {
    "duration": 53,
    "start_time": "2021-07-07T10:38:59.422Z"
   },
   {
    "duration": 16,
    "start_time": "2021-07-07T10:38:59.478Z"
   },
   {
    "duration": 60,
    "start_time": "2021-07-07T10:38:59.496Z"
   },
   {
    "duration": 2679,
    "start_time": "2021-07-07T10:38:59.559Z"
   },
   {
    "duration": 21,
    "start_time": "2021-07-07T10:39:02.221Z"
   },
   {
    "duration": 21,
    "start_time": "2021-07-07T10:39:02.223Z"
   },
   {
    "duration": 10,
    "start_time": "2021-07-07T10:39:25.777Z"
   },
   {
    "duration": 10,
    "start_time": "2021-07-07T10:39:30.136Z"
   },
   {
    "duration": 1346,
    "start_time": "2021-07-07T10:40:14.601Z"
   },
   {
    "duration": 113,
    "start_time": "2021-07-07T10:40:15.949Z"
   },
   {
    "duration": 7,
    "start_time": "2021-07-07T10:40:16.065Z"
   },
   {
    "duration": 140,
    "start_time": "2021-07-07T10:40:16.076Z"
   },
   {
    "duration": 37,
    "start_time": "2021-07-07T10:40:16.219Z"
   },
   {
    "duration": 36,
    "start_time": "2021-07-07T10:40:16.259Z"
   },
   {
    "duration": 20,
    "start_time": "2021-07-07T10:40:16.297Z"
   },
   {
    "duration": 51,
    "start_time": "2021-07-07T10:40:16.320Z"
   },
   {
    "duration": 16,
    "start_time": "2021-07-07T10:40:16.375Z"
   },
   {
    "duration": 35,
    "start_time": "2021-07-07T10:40:16.393Z"
   },
   {
    "duration": 10,
    "start_time": "2021-07-07T10:40:16.457Z"
   },
   {
    "duration": 19,
    "start_time": "2021-07-07T10:40:16.469Z"
   },
   {
    "duration": 23,
    "start_time": "2021-07-07T10:40:16.490Z"
   },
   {
    "duration": 10,
    "start_time": "2021-07-07T10:40:37.007Z"
   },
   {
    "duration": 15,
    "start_time": "2021-07-07T10:40:38.232Z"
   },
   {
    "duration": 14,
    "start_time": "2021-07-07T10:41:24.780Z"
   },
   {
    "duration": 24,
    "start_time": "2021-07-07T10:41:26.564Z"
   },
   {
    "duration": 23,
    "start_time": "2021-07-07T10:42:50.877Z"
   },
   {
    "duration": 20,
    "start_time": "2021-07-07T10:43:02.245Z"
   },
   {
    "duration": 21,
    "start_time": "2021-07-07T10:43:15.138Z"
   },
   {
    "duration": 1463,
    "start_time": "2021-07-07T10:43:27.127Z"
   },
   {
    "duration": 117,
    "start_time": "2021-07-07T10:43:28.593Z"
   },
   {
    "duration": 5,
    "start_time": "2021-07-07T10:43:28.712Z"
   },
   {
    "duration": 122,
    "start_time": "2021-07-07T10:43:28.720Z"
   },
   {
    "duration": 37,
    "start_time": "2021-07-07T10:43:28.845Z"
   },
   {
    "duration": 32,
    "start_time": "2021-07-07T10:43:28.885Z"
   },
   {
    "duration": 53,
    "start_time": "2021-07-07T10:43:28.919Z"
   },
   {
    "duration": 18,
    "start_time": "2021-07-07T10:43:28.976Z"
   },
   {
    "duration": 18,
    "start_time": "2021-07-07T10:43:28.996Z"
   },
   {
    "duration": 47,
    "start_time": "2021-07-07T10:43:29.016Z"
   },
   {
    "duration": 13,
    "start_time": "2021-07-07T10:43:29.065Z"
   },
   {
    "duration": 10,
    "start_time": "2021-07-07T10:43:29.081Z"
   },
   {
    "duration": 20,
    "start_time": "2021-07-07T10:43:29.094Z"
   },
   {
    "duration": 21,
    "start_time": "2021-07-07T10:44:01.598Z"
   },
   {
    "duration": 1360,
    "start_time": "2021-07-07T10:44:07.259Z"
   },
   {
    "duration": 116,
    "start_time": "2021-07-07T10:44:08.621Z"
   },
   {
    "duration": 6,
    "start_time": "2021-07-07T10:44:08.740Z"
   },
   {
    "duration": 127,
    "start_time": "2021-07-07T10:44:08.749Z"
   },
   {
    "duration": 24,
    "start_time": "2021-07-07T10:44:08.878Z"
   },
   {
    "duration": 54,
    "start_time": "2021-07-07T10:44:08.904Z"
   },
   {
    "duration": 22,
    "start_time": "2021-07-07T10:44:08.961Z"
   },
   {
    "duration": 17,
    "start_time": "2021-07-07T10:44:08.986Z"
   },
   {
    "duration": 21,
    "start_time": "2021-07-07T10:44:09.005Z"
   },
   {
    "duration": 60,
    "start_time": "2021-07-07T10:44:09.028Z"
   },
   {
    "duration": 8,
    "start_time": "2021-07-07T10:44:09.090Z"
   },
   {
    "duration": 29,
    "start_time": "2021-07-07T10:44:09.101Z"
   },
   {
    "duration": 33,
    "start_time": "2021-07-07T10:44:09.133Z"
   },
   {
    "duration": 1558,
    "start_time": "2021-07-07T10:56:37.017Z"
   },
   {
    "duration": 118,
    "start_time": "2021-07-07T10:56:38.579Z"
   },
   {
    "duration": 5,
    "start_time": "2021-07-07T10:56:38.700Z"
   },
   {
    "duration": 170,
    "start_time": "2021-07-07T10:56:38.708Z"
   },
   {
    "duration": 31,
    "start_time": "2021-07-07T10:56:38.881Z"
   },
   {
    "duration": 61,
    "start_time": "2021-07-07T10:56:38.915Z"
   },
   {
    "duration": 27,
    "start_time": "2021-07-07T10:56:38.979Z"
   },
   {
    "duration": 46,
    "start_time": "2021-07-07T10:56:39.010Z"
   },
   {
    "duration": 20,
    "start_time": "2021-07-07T10:56:39.060Z"
   },
   {
    "duration": 78,
    "start_time": "2021-07-07T10:56:39.083Z"
   },
   {
    "duration": 3,
    "start_time": "2021-07-07T10:56:39.164Z"
   },
   {
    "duration": 12,
    "start_time": "2021-07-07T10:56:39.171Z"
   },
   {
    "duration": 17,
    "start_time": "2021-07-07T10:56:39.186Z"
   },
   {
    "duration": 68,
    "start_time": "2021-07-07T10:56:39.206Z"
   },
   {
    "duration": 448,
    "start_time": "2021-07-07T11:02:51.834Z"
   },
   {
    "duration": 11,
    "start_time": "2021-07-07T11:07:09.754Z"
   },
   {
    "duration": 16,
    "start_time": "2021-07-07T11:07:11.430Z"
   },
   {
    "duration": 5124,
    "start_time": "2021-07-07T11:07:27.078Z"
   },
   {
    "duration": 7,
    "start_time": "2021-07-07T11:08:09.506Z"
   },
   {
    "duration": 283,
    "start_time": "2021-07-07T11:08:14.714Z"
   },
   {
    "duration": 87,
    "start_time": "2021-07-07T11:08:49.239Z"
   },
   {
    "duration": 9,
    "start_time": "2021-07-07T11:09:23.528Z"
   },
   {
    "duration": 90,
    "start_time": "2021-07-07T11:11:17.268Z"
   },
   {
    "duration": 275,
    "start_time": "2021-07-07T11:11:24.190Z"
   },
   {
    "duration": 59,
    "start_time": "2021-07-07T11:12:03.970Z"
   },
   {
    "duration": 7,
    "start_time": "2021-07-07T11:13:26.337Z"
   },
   {
    "duration": 15,
    "start_time": "2021-07-07T11:13:42.561Z"
   },
   {
    "duration": 9,
    "start_time": "2021-07-07T11:14:30.332Z"
   },
   {
    "duration": 9,
    "start_time": "2021-07-07T11:15:31.560Z"
   },
   {
    "duration": 9,
    "start_time": "2021-07-07T11:16:19.237Z"
   },
   {
    "duration": 1306,
    "start_time": "2021-07-07T11:16:40.638Z"
   },
   {
    "duration": 11,
    "start_time": "2021-07-07T11:16:50.616Z"
   },
   {
    "duration": 319,
    "start_time": "2021-07-07T11:17:06.371Z"
   },
   {
    "duration": 9,
    "start_time": "2021-07-07T11:17:17.353Z"
   },
   {
    "duration": 258,
    "start_time": "2021-07-07T11:23:08.866Z"
   },
   {
    "duration": 133,
    "start_time": "2021-07-07T11:23:16.754Z"
   },
   {
    "duration": 292,
    "start_time": "2021-07-07T11:23:20.524Z"
   },
   {
    "duration": 269,
    "start_time": "2021-07-07T11:23:38.552Z"
   },
   {
    "duration": 525,
    "start_time": "2021-07-07T11:23:56.157Z"
   },
   {
    "duration": 538,
    "start_time": "2021-07-07T11:24:20.305Z"
   },
   {
    "duration": 261,
    "start_time": "2021-07-07T11:24:39.578Z"
   },
   {
    "duration": 293,
    "start_time": "2021-07-07T11:24:56.797Z"
   },
   {
    "duration": 536,
    "start_time": "2021-07-07T11:25:08.086Z"
   },
   {
    "duration": 766,
    "start_time": "2021-07-07T11:25:15.277Z"
   },
   {
    "duration": 316,
    "start_time": "2021-07-07T11:25:23.045Z"
   },
   {
    "duration": 702,
    "start_time": "2021-07-07T11:25:30.488Z"
   },
   {
    "duration": 569,
    "start_time": "2021-07-07T11:25:36.900Z"
   },
   {
    "duration": 81,
    "start_time": "2021-07-07T11:25:47.200Z"
   },
   {
    "duration": 267,
    "start_time": "2021-07-07T11:25:51.258Z"
   },
   {
    "duration": 293,
    "start_time": "2021-07-07T11:25:57.634Z"
   },
   {
    "duration": 9,
    "start_time": "2021-07-07T11:26:49.529Z"
   },
   {
    "duration": 613,
    "start_time": "2021-07-07T11:27:03.369Z"
   },
   {
    "duration": 1221,
    "start_time": "2021-07-07T11:29:38.798Z"
   },
   {
    "duration": 19,
    "start_time": "2021-07-07T11:30:10.824Z"
   },
   {
    "duration": 98,
    "start_time": "2021-07-07T11:30:22.546Z"
   },
   {
    "duration": 80,
    "start_time": "2021-07-07T11:30:32.523Z"
   },
   {
    "duration": 12,
    "start_time": "2021-07-07T11:30:37.779Z"
   },
   {
    "duration": 275,
    "start_time": "2021-07-07T11:31:03.977Z"
   },
   {
    "duration": 15,
    "start_time": "2021-07-07T11:31:15.208Z"
   },
   {
    "duration": 270,
    "start_time": "2021-07-07T11:32:20.030Z"
   },
   {
    "duration": 1006,
    "start_time": "2021-07-07T11:32:28.559Z"
   },
   {
    "duration": 93,
    "start_time": "2021-07-07T11:33:12.712Z"
   },
   {
    "duration": 11,
    "start_time": "2021-07-07T11:33:18.202Z"
   },
   {
    "duration": 300,
    "start_time": "2021-07-07T11:37:31.719Z"
   },
   {
    "duration": 7,
    "start_time": "2021-07-07T11:37:58.599Z"
   },
   {
    "duration": 96,
    "start_time": "2021-07-07T11:38:02.979Z"
   },
   {
    "duration": 51,
    "start_time": "2021-07-07T11:38:08.610Z"
   },
   {
    "duration": 8,
    "start_time": "2021-07-07T11:39:17.311Z"
   },
   {
    "duration": 253,
    "start_time": "2021-07-07T11:39:28.019Z"
   },
   {
    "duration": 33670,
    "start_time": "2021-07-07T11:40:05.542Z"
   },
   {
    "duration": 264,
    "start_time": "2021-07-07T11:41:13.153Z"
   },
   {
    "duration": 36827,
    "start_time": "2021-07-07T11:41:19.725Z"
   },
   {
    "duration": 13,
    "start_time": "2021-07-07T11:42:26.880Z"
   },
   {
    "duration": 9,
    "start_time": "2021-07-07T11:45:27.663Z"
   },
   {
    "duration": 9,
    "start_time": "2021-07-07T11:45:37.055Z"
   },
   {
    "duration": 14,
    "start_time": "2021-07-07T11:45:39.172Z"
   },
   {
    "duration": 343,
    "start_time": "2021-07-07T11:48:38.596Z"
   },
   {
    "duration": 154,
    "start_time": "2021-07-07T11:49:14.383Z"
   },
   {
    "duration": 322,
    "start_time": "2021-07-07T11:49:17.416Z"
   },
   {
    "duration": 327,
    "start_time": "2021-07-07T11:49:21.298Z"
   },
   {
    "duration": 1453,
    "start_time": "2021-07-07T11:49:36.614Z"
   },
   {
    "duration": 124,
    "start_time": "2021-07-07T11:49:38.070Z"
   },
   {
    "duration": 5,
    "start_time": "2021-07-07T11:49:38.198Z"
   },
   {
    "duration": 123,
    "start_time": "2021-07-07T11:49:38.207Z"
   },
   {
    "duration": 41,
    "start_time": "2021-07-07T11:49:38.333Z"
   },
   {
    "duration": 27,
    "start_time": "2021-07-07T11:49:38.376Z"
   },
   {
    "duration": 17,
    "start_time": "2021-07-07T11:49:38.406Z"
   },
   {
    "duration": 25,
    "start_time": "2021-07-07T11:49:38.458Z"
   },
   {
    "duration": 16,
    "start_time": "2021-07-07T11:49:38.487Z"
   },
   {
    "duration": 75,
    "start_time": "2021-07-07T11:49:38.506Z"
   },
   {
    "duration": 3,
    "start_time": "2021-07-07T11:49:38.583Z"
   },
   {
    "duration": 11,
    "start_time": "2021-07-07T11:49:38.589Z"
   },
   {
    "duration": 4,
    "start_time": "2021-07-07T11:49:38.603Z"
   },
   {
    "duration": 52,
    "start_time": "2021-07-07T11:49:38.611Z"
   },
   {
    "duration": 27,
    "start_time": "2021-07-07T11:49:38.666Z"
   },
   {
    "duration": 8,
    "start_time": "2021-07-07T11:49:38.696Z"
   },
   {
    "duration": 7,
    "start_time": "2021-07-07T11:49:38.707Z"
   },
   {
    "duration": 558,
    "start_time": "2021-07-07T11:49:38.716Z"
   },
   {
    "duration": 20,
    "start_time": "2021-07-07T11:49:39.258Z"
   },
   {
    "duration": 20,
    "start_time": "2021-07-07T11:49:39.259Z"
   },
   {
    "duration": 10,
    "start_time": "2021-07-07T11:50:42.514Z"
   },
   {
    "duration": 7,
    "start_time": "2021-07-07T11:50:45.747Z"
   },
   {
    "duration": 9,
    "start_time": "2021-07-07T11:50:58.491Z"
   },
   {
    "duration": 10,
    "start_time": "2021-07-07T11:51:00.063Z"
   },
   {
    "duration": 12,
    "start_time": "2021-07-07T11:51:05.824Z"
   },
   {
    "duration": 33186,
    "start_time": "2021-07-07T11:51:24.379Z"
   },
   {
    "duration": 11,
    "start_time": "2021-07-07T11:51:57.569Z"
   },
   {
    "duration": 11,
    "start_time": "2021-07-07T11:51:57.584Z"
   },
   {
    "duration": 7,
    "start_time": "2021-07-07T11:52:07.023Z"
   },
   {
    "duration": 9,
    "start_time": "2021-07-07T11:52:07.505Z"
   },
   {
    "duration": 10,
    "start_time": "2021-07-07T11:52:15.400Z"
   },
   {
    "duration": 13,
    "start_time": "2021-07-07T11:52:16.155Z"
   },
   {
    "duration": 8,
    "start_time": "2021-07-07T11:52:22.766Z"
   },
   {
    "duration": 9,
    "start_time": "2021-07-07T11:52:23.490Z"
   },
   {
    "duration": 9,
    "start_time": "2021-07-07T11:52:28.678Z"
   },
   {
    "duration": 15,
    "start_time": "2021-07-07T11:52:29.569Z"
   },
   {
    "duration": 285,
    "start_time": "2021-07-07T11:52:56.141Z"
   },
   {
    "duration": 443,
    "start_time": "2021-07-07T11:53:07.755Z"
   },
   {
    "duration": 296,
    "start_time": "2021-07-07T11:53:19.984Z"
   },
   {
    "duration": 514,
    "start_time": "2021-07-07T11:53:44.374Z"
   },
   {
    "duration": 375,
    "start_time": "2021-07-07T11:54:03.571Z"
   },
   {
    "duration": 12,
    "start_time": "2021-07-07T11:54:09.319Z"
   },
   {
    "duration": 8,
    "start_time": "2021-07-07T11:54:20.781Z"
   },
   {
    "duration": 14,
    "start_time": "2021-07-07T11:54:26.878Z"
   },
   {
    "duration": 671,
    "start_time": "2021-07-07T11:54:31.932Z"
   },
   {
    "duration": 338,
    "start_time": "2021-07-07T11:56:13.378Z"
   },
   {
    "duration": 323,
    "start_time": "2021-07-07T11:56:19.282Z"
   },
   {
    "duration": 430,
    "start_time": "2021-07-07T11:56:34.926Z"
   },
   {
    "duration": 353,
    "start_time": "2021-07-07T11:56:57.940Z"
   },
   {
    "duration": 324,
    "start_time": "2021-07-07T11:57:08.836Z"
   },
   {
    "duration": 291,
    "start_time": "2021-07-07T11:57:21.203Z"
   },
   {
    "duration": 120,
    "start_time": "2021-07-07T11:59:31.828Z"
   },
   {
    "duration": 239,
    "start_time": "2021-07-07T11:59:53.044Z"
   },
   {
    "duration": 116,
    "start_time": "2021-07-07T11:59:58.345Z"
   },
   {
    "duration": 5,
    "start_time": "2021-07-07T12:00:06.646Z"
   },
   {
    "duration": 88,
    "start_time": "2021-07-07T12:00:11.739Z"
   },
   {
    "duration": 285,
    "start_time": "2021-07-07T12:00:21.218Z"
   },
   {
    "duration": 465,
    "start_time": "2021-07-07T12:00:28.053Z"
   },
   {
    "duration": 422,
    "start_time": "2021-07-07T12:00:52.207Z"
   },
   {
    "duration": 577,
    "start_time": "2021-07-07T12:02:55.585Z"
   },
   {
    "duration": 578,
    "start_time": "2021-07-07T12:05:03.591Z"
   },
   {
    "duration": 467,
    "start_time": "2021-07-07T12:05:16.325Z"
   },
   {
    "duration": 639,
    "start_time": "2021-07-07T12:05:39.643Z"
   },
   {
    "duration": 475,
    "start_time": "2021-07-07T12:05:47.381Z"
   },
   {
    "duration": 500,
    "start_time": "2021-07-07T12:05:52.661Z"
   },
   {
    "duration": 474,
    "start_time": "2021-07-07T12:05:59.800Z"
   },
   {
    "duration": 447,
    "start_time": "2021-07-07T12:06:05.645Z"
   },
   {
    "duration": 470,
    "start_time": "2021-07-07T12:06:28.142Z"
   },
   {
    "duration": 547,
    "start_time": "2021-07-07T12:06:49.219Z"
   },
   {
    "duration": 448,
    "start_time": "2021-07-07T12:07:01.089Z"
   },
   {
    "duration": 441,
    "start_time": "2021-07-07T12:07:11.434Z"
   },
   {
    "duration": 693,
    "start_time": "2021-07-07T12:10:03.045Z"
   },
   {
    "duration": 792,
    "start_time": "2021-07-07T12:10:19.281Z"
   },
   {
    "duration": 811,
    "start_time": "2021-07-07T12:10:34.073Z"
   },
   {
    "duration": 1582,
    "start_time": "2021-07-07T12:10:53.263Z"
   },
   {
    "duration": 937,
    "start_time": "2021-07-07T12:11:00.413Z"
   },
   {
    "duration": 814,
    "start_time": "2021-07-07T12:11:06.574Z"
   },
   {
    "duration": 805,
    "start_time": "2021-07-07T12:11:16.654Z"
   },
   {
    "duration": 822,
    "start_time": "2021-07-07T12:11:28.447Z"
   },
   {
    "duration": 893,
    "start_time": "2021-07-07T12:11:58.308Z"
   },
   {
    "duration": 13,
    "start_time": "2021-07-07T12:13:01.414Z"
   },
   {
    "duration": 1743,
    "start_time": "2021-07-07T12:51:45.781Z"
   },
   {
    "duration": 2450,
    "start_time": "2021-07-07T12:51:47.526Z"
   },
   {
    "duration": 5,
    "start_time": "2021-07-07T12:51:49.979Z"
   },
   {
    "duration": 124,
    "start_time": "2021-07-07T12:51:49.987Z"
   },
   {
    "duration": 54,
    "start_time": "2021-07-07T12:51:50.114Z"
   },
   {
    "duration": 36,
    "start_time": "2021-07-07T12:51:50.172Z"
   },
   {
    "duration": 19,
    "start_time": "2021-07-07T12:51:50.211Z"
   },
   {
    "duration": 40,
    "start_time": "2021-07-07T12:51:50.233Z"
   },
   {
    "duration": 27,
    "start_time": "2021-07-07T12:51:50.277Z"
   },
   {
    "duration": 57,
    "start_time": "2021-07-07T12:51:50.307Z"
   },
   {
    "duration": 6,
    "start_time": "2021-07-07T12:51:50.367Z"
   },
   {
    "duration": 11,
    "start_time": "2021-07-07T12:51:50.375Z"
   },
   {
    "duration": 11,
    "start_time": "2021-07-07T12:51:50.391Z"
   },
   {
    "duration": 15,
    "start_time": "2021-07-07T12:51:50.404Z"
   },
   {
    "duration": 59,
    "start_time": "2021-07-07T12:51:50.422Z"
   },
   {
    "duration": 9,
    "start_time": "2021-07-07T12:51:50.484Z"
   },
   {
    "duration": 10,
    "start_time": "2021-07-07T12:51:50.496Z"
   },
   {
    "duration": 8,
    "start_time": "2021-07-07T12:51:50.509Z"
   },
   {
    "duration": 48,
    "start_time": "2021-07-07T12:51:50.521Z"
   },
   {
    "duration": 878,
    "start_time": "2021-07-07T12:51:50.572Z"
   },
   {
    "duration": 871,
    "start_time": "2021-07-07T12:54:23.079Z"
   },
   {
    "duration": 1589,
    "start_time": "2021-07-07T12:55:04.173Z"
   },
   {
    "duration": 1145,
    "start_time": "2021-07-07T12:55:26.338Z"
   },
   {
    "duration": 1418,
    "start_time": "2021-07-07T12:55:39.079Z"
   },
   {
    "duration": 840,
    "start_time": "2021-07-07T12:55:59.423Z"
   },
   {
    "duration": 892,
    "start_time": "2021-07-07T12:56:16.754Z"
   },
   {
    "duration": 256,
    "start_time": "2021-07-07T12:58:55.739Z"
   },
   {
    "duration": 869,
    "start_time": "2021-07-07T12:59:02.435Z"
   },
   {
    "duration": 295,
    "start_time": "2021-07-07T12:59:23.517Z"
   },
   {
    "duration": 55,
    "start_time": "2021-07-07T12:59:27.065Z"
   },
   {
    "duration": 285,
    "start_time": "2021-07-07T13:00:49.998Z"
   },
   {
    "duration": 7,
    "start_time": "2021-07-07T13:02:02.586Z"
   },
   {
    "duration": 47,
    "start_time": "2021-07-07T13:02:08.528Z"
   },
   {
    "duration": 98,
    "start_time": "2021-07-07T13:05:41.863Z"
   },
   {
    "duration": 93,
    "start_time": "2021-07-07T13:05:53.368Z"
   },
   {
    "duration": 106,
    "start_time": "2021-07-07T13:06:09.875Z"
   },
   {
    "duration": 18,
    "start_time": "2021-07-07T13:06:42.592Z"
   },
   {
    "duration": 212,
    "start_time": "2021-07-07T13:06:51.922Z"
   },
   {
    "duration": 28,
    "start_time": "2021-07-07T13:07:10.362Z"
   },
   {
    "duration": 21,
    "start_time": "2021-07-07T13:07:47.105Z"
   },
   {
    "duration": 12,
    "start_time": "2021-07-07T13:07:58.030Z"
   },
   {
    "duration": 22,
    "start_time": "2021-07-07T13:07:59.362Z"
   },
   {
    "duration": 100,
    "start_time": "2021-07-07T13:11:43.156Z"
   },
   {
    "duration": 8,
    "start_time": "2021-07-07T13:11:52.538Z"
   },
   {
    "duration": 19,
    "start_time": "2021-07-07T13:11:55.011Z"
   },
   {
    "duration": 17,
    "start_time": "2021-07-07T13:13:12.186Z"
   },
   {
    "duration": 17,
    "start_time": "2021-07-07T13:13:13.415Z"
   },
   {
    "duration": 55,
    "start_time": "2021-07-07T13:14:00.543Z"
   },
   {
    "duration": 28,
    "start_time": "2021-07-07T13:14:01.503Z"
   },
   {
    "duration": 53,
    "start_time": "2021-07-07T13:14:15.815Z"
   },
   {
    "duration": 17,
    "start_time": "2021-07-07T13:14:16.410Z"
   },
   {
    "duration": 73,
    "start_time": "2021-07-07T13:14:28.099Z"
   },
   {
    "duration": 54,
    "start_time": "2021-07-07T13:14:51.897Z"
   },
   {
    "duration": 16,
    "start_time": "2021-07-07T13:14:52.894Z"
   },
   {
    "duration": 48,
    "start_time": "2021-07-07T13:14:54.813Z"
   },
   {
    "duration": 57,
    "start_time": "2021-07-07T13:20:21.235Z"
   },
   {
    "duration": 18,
    "start_time": "2021-07-07T13:20:22.967Z"
   },
   {
    "duration": 36,
    "start_time": "2021-07-07T13:20:26.663Z"
   },
   {
    "duration": 32,
    "start_time": "2021-07-07T13:21:14.202Z"
   },
   {
    "duration": 104,
    "start_time": "2021-07-07T13:22:53.373Z"
   },
   {
    "duration": 303,
    "start_time": "2021-07-07T13:23:46.891Z"
   },
   {
    "duration": 7,
    "start_time": "2021-07-07T13:24:24.368Z"
   },
   {
    "duration": 256,
    "start_time": "2021-07-07T13:25:55.597Z"
   },
   {
    "duration": 276,
    "start_time": "2021-07-07T13:26:31.884Z"
   },
   {
    "duration": 11,
    "start_time": "2021-07-07T13:26:40.510Z"
   },
   {
    "duration": 7,
    "start_time": "2021-07-07T13:28:04.442Z"
   },
   {
    "duration": 14,
    "start_time": "2021-07-07T13:29:12.721Z"
   },
   {
    "duration": 9,
    "start_time": "2021-07-07T13:31:46.822Z"
   },
   {
    "duration": 19,
    "start_time": "2021-07-07T13:32:18.618Z"
   },
   {
    "duration": 6,
    "start_time": "2021-07-07T13:33:07.246Z"
   },
   {
    "duration": 14,
    "start_time": "2021-07-07T13:33:28.907Z"
   },
   {
    "duration": 1596,
    "start_time": "2021-07-07T13:33:41.952Z"
   },
   {
    "duration": 115,
    "start_time": "2021-07-07T13:33:43.550Z"
   },
   {
    "duration": 6,
    "start_time": "2021-07-07T13:33:43.668Z"
   },
   {
    "duration": 139,
    "start_time": "2021-07-07T13:33:43.677Z"
   },
   {
    "duration": 43,
    "start_time": "2021-07-07T13:33:43.819Z"
   },
   {
    "duration": 28,
    "start_time": "2021-07-07T13:33:43.864Z"
   },
   {
    "duration": 19,
    "start_time": "2021-07-07T13:33:43.895Z"
   },
   {
    "duration": 42,
    "start_time": "2021-07-07T13:33:43.917Z"
   },
   {
    "duration": 16,
    "start_time": "2021-07-07T13:33:43.963Z"
   },
   {
    "duration": 33,
    "start_time": "2021-07-07T13:33:43.983Z"
   },
   {
    "duration": 3,
    "start_time": "2021-07-07T13:33:44.019Z"
   },
   {
    "duration": 11,
    "start_time": "2021-07-07T13:33:44.057Z"
   },
   {
    "duration": 7,
    "start_time": "2021-07-07T13:33:44.071Z"
   },
   {
    "duration": 15,
    "start_time": "2021-07-07T13:33:44.080Z"
   },
   {
    "duration": 20,
    "start_time": "2021-07-07T13:33:44.098Z"
   },
   {
    "duration": 56,
    "start_time": "2021-07-07T13:33:44.120Z"
   },
   {
    "duration": 19,
    "start_time": "2021-07-07T13:33:44.178Z"
   },
   {
    "duration": 20,
    "start_time": "2021-07-07T13:33:44.200Z"
   },
   {
    "duration": 24,
    "start_time": "2021-07-07T13:33:44.223Z"
   },
   {
    "duration": 848,
    "start_time": "2021-07-07T13:33:44.249Z"
   },
   {
    "duration": 9,
    "start_time": "2021-07-07T13:33:45.100Z"
   },
   {
    "duration": 48,
    "start_time": "2021-07-07T13:33:45.112Z"
   },
   {
    "duration": 31,
    "start_time": "2021-07-07T13:33:45.163Z"
   },
   {
    "duration": 180,
    "start_time": "2021-07-07T13:33:45.197Z"
   },
   {
    "duration": 8,
    "start_time": "2021-07-07T13:33:45.380Z"
   },
   {
    "duration": 8,
    "start_time": "2021-07-07T13:33:45.391Z"
   },
   {
    "duration": 6,
    "start_time": "2021-07-07T13:33:45.406Z"
   },
   {
    "duration": 45,
    "start_time": "2021-07-07T13:33:45.415Z"
   },
   {
    "duration": 14,
    "start_time": "2021-07-07T13:33:45.463Z"
   },
   {
    "duration": 3,
    "start_time": "2021-07-07T13:33:45.480Z"
   },
   {
    "duration": 20,
    "start_time": "2021-07-07T13:33:45.485Z"
   },
   {
    "duration": 8,
    "start_time": "2021-07-07T13:34:03.906Z"
   },
   {
    "duration": 15,
    "start_time": "2021-07-07T13:34:10.568Z"
   },
   {
    "duration": 9,
    "start_time": "2021-07-07T13:34:32.383Z"
   },
   {
    "duration": 21394,
    "start_time": "2021-07-07T13:35:08.200Z"
   },
   {
    "duration": 20,
    "start_time": "2021-07-07T13:36:18.912Z"
   },
   {
    "duration": 6444,
    "start_time": "2021-07-07T13:36:49.442Z"
   },
   {
    "duration": 7,
    "start_time": "2021-07-07T13:36:57.375Z"
   },
   {
    "duration": 20,
    "start_time": "2021-07-07T13:37:11.775Z"
   },
   {
    "duration": 7,
    "start_time": "2021-07-07T13:37:52.520Z"
   },
   {
    "duration": 19,
    "start_time": "2021-07-07T13:38:04.910Z"
   },
   {
    "duration": 262,
    "start_time": "2021-07-07T13:38:49.827Z"
   },
   {
    "duration": 20,
    "start_time": "2021-07-07T13:39:51.234Z"
   },
   {
    "duration": 4,
    "start_time": "2021-07-07T13:39:55.528Z"
   },
   {
    "duration": 14,
    "start_time": "2021-07-07T13:39:56.042Z"
   },
   {
    "duration": 24,
    "start_time": "2021-07-07T13:40:44.810Z"
   },
   {
    "duration": 4,
    "start_time": "2021-07-07T13:44:41.838Z"
   },
   {
    "duration": 4,
    "start_time": "2021-07-07T13:45:39.038Z"
   },
   {
    "duration": 21,
    "start_time": "2021-07-07T13:46:22.327Z"
   },
   {
    "duration": 5,
    "start_time": "2021-07-07T13:46:35.210Z"
   },
   {
    "duration": 6,
    "start_time": "2021-07-07T13:46:39.368Z"
   },
   {
    "duration": 13,
    "start_time": "2021-07-07T13:46:39.714Z"
   },
   {
    "duration": 5,
    "start_time": "2021-07-07T13:46:40.426Z"
   },
   {
    "duration": 26,
    "start_time": "2021-07-07T13:46:41.059Z"
   },
   {
    "duration": 4,
    "start_time": "2021-07-07T13:49:48.692Z"
   },
   {
    "duration": 44,
    "start_time": "2021-07-07T13:49:55.823Z"
   },
   {
    "duration": 312,
    "start_time": "2021-07-07T13:51:01.117Z"
   },
   {
    "duration": 1499,
    "start_time": "2021-07-07T13:51:06.943Z"
   },
   {
    "duration": 117,
    "start_time": "2021-07-07T13:51:08.445Z"
   },
   {
    "duration": 5,
    "start_time": "2021-07-07T13:51:08.565Z"
   },
   {
    "duration": 138,
    "start_time": "2021-07-07T13:51:08.573Z"
   },
   {
    "duration": 25,
    "start_time": "2021-07-07T13:51:08.713Z"
   },
   {
    "duration": 28,
    "start_time": "2021-07-07T13:51:08.756Z"
   },
   {
    "duration": 20,
    "start_time": "2021-07-07T13:51:08.787Z"
   },
   {
    "duration": 59,
    "start_time": "2021-07-07T13:51:08.811Z"
   },
   {
    "duration": 23,
    "start_time": "2021-07-07T13:51:08.873Z"
   },
   {
    "duration": 47,
    "start_time": "2021-07-07T13:51:08.899Z"
   },
   {
    "duration": 13,
    "start_time": "2021-07-07T13:51:08.949Z"
   },
   {
    "duration": 16,
    "start_time": "2021-07-07T13:51:08.965Z"
   },
   {
    "duration": 22,
    "start_time": "2021-07-07T13:51:08.983Z"
   },
   {
    "duration": 28,
    "start_time": "2021-07-07T13:51:09.008Z"
   },
   {
    "duration": 18,
    "start_time": "2021-07-07T13:51:09.039Z"
   },
   {
    "duration": 25,
    "start_time": "2021-07-07T13:51:09.060Z"
   },
   {
    "duration": 23,
    "start_time": "2021-07-07T13:51:09.088Z"
   },
   {
    "duration": 26,
    "start_time": "2021-07-07T13:51:09.113Z"
   },
   {
    "duration": 845,
    "start_time": "2021-07-07T13:51:09.142Z"
   },
   {
    "duration": 6,
    "start_time": "2021-07-07T13:51:09.990Z"
   },
   {
    "duration": 32,
    "start_time": "2021-07-07T13:51:09.999Z"
   },
   {
    "duration": 34,
    "start_time": "2021-07-07T13:51:10.034Z"
   },
   {
    "duration": 108,
    "start_time": "2021-07-07T13:51:10.074Z"
   },
   {
    "duration": 6,
    "start_time": "2021-07-07T13:51:10.185Z"
   },
   {
    "duration": 26,
    "start_time": "2021-07-07T13:51:10.194Z"
   },
   {
    "duration": 62,
    "start_time": "2021-07-07T13:51:10.222Z"
   },
   {
    "duration": 15,
    "start_time": "2021-07-07T13:51:10.287Z"
   },
   {
    "duration": 88,
    "start_time": "2021-07-07T14:01:50.296Z"
   },
   {
    "duration": 14,
    "start_time": "2021-07-07T14:05:15.885Z"
   },
   {
    "duration": 5,
    "start_time": "2021-07-07T14:05:38.243Z"
   },
   {
    "duration": 415,
    "start_time": "2021-07-07T14:07:20.443Z"
   },
   {
    "duration": 18,
    "start_time": "2021-07-07T14:07:36.803Z"
   },
   {
    "duration": 4,
    "start_time": "2021-07-07T14:07:39.597Z"
   },
   {
    "duration": 12,
    "start_time": "2021-07-07T14:07:42.417Z"
   },
   {
    "duration": 10,
    "start_time": "2021-07-07T14:08:37.881Z"
   },
   {
    "duration": 254,
    "start_time": "2021-07-07T14:16:55.447Z"
   },
   {
    "duration": 229,
    "start_time": "2021-07-07T14:17:23.914Z"
   },
   {
    "duration": 6,
    "start_time": "2021-07-07T14:20:45.166Z"
   },
   {
    "duration": 4,
    "start_time": "2021-07-07T14:21:32.446Z"
   },
   {
    "duration": 4,
    "start_time": "2021-07-07T14:26:35.147Z"
   },
   {
    "duration": 113,
    "start_time": "2021-07-07T14:28:12.243Z"
   },
   {
    "duration": 57,
    "start_time": "2021-07-07T14:28:19.213Z"
   },
   {
    "duration": 112,
    "start_time": "2021-07-07T14:28:35.166Z"
   },
   {
    "duration": 32,
    "start_time": "2021-07-07T14:28:35.953Z"
   },
   {
    "duration": 60,
    "start_time": "2021-07-07T14:29:23.285Z"
   },
   {
    "duration": 27,
    "start_time": "2021-07-07T14:29:23.901Z"
   },
   {
    "duration": 29,
    "start_time": "2021-07-07T14:29:28.420Z"
   },
   {
    "duration": 13,
    "start_time": "2021-07-07T14:29:29.116Z"
   },
   {
    "duration": 5,
    "start_time": "2021-07-07T14:29:31.412Z"
   },
   {
    "duration": 8,
    "start_time": "2021-07-07T14:29:32.442Z"
   },
   {
    "duration": 7,
    "start_time": "2021-07-07T14:29:35.404Z"
   },
   {
    "duration": 3646,
    "start_time": "2021-07-07T14:29:35.715Z"
   },
   {
    "duration": 9,
    "start_time": "2021-07-07T14:29:50.147Z"
   },
   {
    "duration": 27,
    "start_time": "2021-07-07T14:30:40.129Z"
   },
   {
    "duration": 7,
    "start_time": "2021-07-07T14:32:14.221Z"
   },
   {
    "duration": 50,
    "start_time": "2021-07-07T14:33:08.629Z"
   },
   {
    "duration": 4166,
    "start_time": "2021-07-07T14:33:52.952Z"
   },
   {
    "duration": 12,
    "start_time": "2021-07-07T14:33:57.121Z"
   },
   {
    "duration": 46,
    "start_time": "2021-07-07T14:37:31.941Z"
   },
   {
    "duration": 63,
    "start_time": "2021-07-07T14:39:53.293Z"
   },
   {
    "duration": 74986,
    "start_time": "2021-07-07T14:40:31.885Z"
   },
   {
    "duration": 11,
    "start_time": "2021-07-07T14:41:46.873Z"
   },
   {
    "duration": 84,
    "start_time": "2021-07-07T14:41:46.887Z"
   },
   {
    "duration": 68524,
    "start_time": "2021-07-07T14:42:53.416Z"
   },
   {
    "duration": 18,
    "start_time": "2021-07-07T14:44:01.942Z"
   },
   {
    "duration": 60,
    "start_time": "2021-07-07T14:44:01.963Z"
   },
   {
    "duration": 58503,
    "start_time": "2021-07-07T14:45:25.025Z"
   },
   {
    "duration": 9,
    "start_time": "2021-07-07T14:46:23.531Z"
   },
   {
    "duration": 63,
    "start_time": "2021-07-07T14:46:23.555Z"
   },
   {
    "duration": 33944,
    "start_time": "2021-07-07T14:47:24.781Z"
   },
   {
    "duration": 28,
    "start_time": "2021-07-07T14:47:58.728Z"
   },
   {
    "duration": 81,
    "start_time": "2021-07-07T14:47:58.760Z"
   },
   {
    "duration": 46,
    "start_time": "2021-07-07T14:50:41.788Z"
   },
   {
    "duration": 45,
    "start_time": "2021-07-07T14:51:16.213Z"
   },
   {
    "duration": 285,
    "start_time": "2021-07-07T14:53:24.363Z"
   },
   {
    "duration": 5,
    "start_time": "2021-07-07T14:54:06.821Z"
   },
   {
    "duration": 8,
    "start_time": "2021-07-07T14:54:07.871Z"
   },
   {
    "duration": 32803,
    "start_time": "2021-07-07T14:54:08.372Z"
   },
   {
    "duration": 9,
    "start_time": "2021-07-07T14:54:41.178Z"
   },
   {
    "duration": 89,
    "start_time": "2021-07-07T14:54:41.190Z"
   },
   {
    "duration": 62,
    "start_time": "2021-07-07T14:54:41.220Z"
   },
   {
    "duration": 63,
    "start_time": "2021-07-07T14:54:41.220Z"
   },
   {
    "duration": 59,
    "start_time": "2021-07-07T14:55:24.487Z"
   },
   {
    "duration": 65,
    "start_time": "2021-07-07T14:55:25.817Z"
   },
   {
    "duration": 27,
    "start_time": "2021-07-07T14:56:35.617Z"
   },
   {
    "duration": 685,
    "start_time": "2021-07-07T14:56:35.801Z"
   },
   {
    "duration": 96,
    "start_time": "2021-07-07T14:56:36.393Z"
   },
   {
    "duration": 96,
    "start_time": "2021-07-07T14:56:36.395Z"
   },
   {
    "duration": 7,
    "start_time": "2021-07-07T14:56:36.679Z"
   },
   {
    "duration": 354,
    "start_time": "2021-07-07T14:56:36.908Z"
   },
   {
    "duration": 8,
    "start_time": "2021-07-07T14:56:37.356Z"
   },
   {
    "duration": 8,
    "start_time": "2021-07-07T14:57:10.572Z"
   },
   {
    "duration": 35968,
    "start_time": "2021-07-07T14:57:10.582Z"
   },
   {
    "duration": 9,
    "start_time": "2021-07-07T14:57:46.553Z"
   },
   {
    "duration": 71,
    "start_time": "2021-07-07T14:57:46.564Z"
   },
   {
    "duration": 45,
    "start_time": "2021-07-07T14:57:46.658Z"
   },
   {
    "duration": 261,
    "start_time": "2021-07-07T14:58:25.459Z"
   },
   {
    "duration": 1716,
    "start_time": "2021-07-07T14:58:33.836Z"
   },
   {
    "duration": 115,
    "start_time": "2021-07-07T14:58:35.557Z"
   },
   {
    "duration": 7,
    "start_time": "2021-07-07T14:58:35.676Z"
   },
   {
    "duration": 131,
    "start_time": "2021-07-07T14:58:35.686Z"
   },
   {
    "duration": 43,
    "start_time": "2021-07-07T14:58:35.820Z"
   },
   {
    "duration": 29,
    "start_time": "2021-07-07T14:58:35.865Z"
   },
   {
    "duration": 19,
    "start_time": "2021-07-07T14:58:35.896Z"
   },
   {
    "duration": 55,
    "start_time": "2021-07-07T14:58:35.917Z"
   },
   {
    "duration": 18,
    "start_time": "2021-07-07T14:58:35.977Z"
   },
   {
    "duration": 67,
    "start_time": "2021-07-07T14:58:35.998Z"
   },
   {
    "duration": 13,
    "start_time": "2021-07-07T14:58:36.068Z"
   },
   {
    "duration": 9,
    "start_time": "2021-07-07T14:58:36.084Z"
   },
   {
    "duration": 15,
    "start_time": "2021-07-07T14:58:36.095Z"
   },
   {
    "duration": 42,
    "start_time": "2021-07-07T14:58:36.113Z"
   },
   {
    "duration": 9,
    "start_time": "2021-07-07T14:58:36.158Z"
   },
   {
    "duration": 15,
    "start_time": "2021-07-07T14:58:36.169Z"
   },
   {
    "duration": 13,
    "start_time": "2021-07-07T14:58:36.186Z"
   },
   {
    "duration": 16,
    "start_time": "2021-07-07T14:58:36.203Z"
   },
   {
    "duration": 899,
    "start_time": "2021-07-07T14:58:36.257Z"
   },
   {
    "duration": 8,
    "start_time": "2021-07-07T14:58:37.158Z"
   },
   {
    "duration": 16,
    "start_time": "2021-07-07T14:58:37.169Z"
   },
   {
    "duration": 29,
    "start_time": "2021-07-07T14:58:37.189Z"
   },
   {
    "duration": 140,
    "start_time": "2021-07-07T14:58:37.221Z"
   },
   {
    "duration": 5,
    "start_time": "2021-07-07T14:58:37.364Z"
   },
   {
    "duration": 8,
    "start_time": "2021-07-07T14:58:37.371Z"
   },
   {
    "duration": 80,
    "start_time": "2021-07-07T14:58:37.381Z"
   },
   {
    "duration": 14,
    "start_time": "2021-07-07T14:58:37.468Z"
   },
   {
    "duration": 115,
    "start_time": "2021-07-07T14:58:37.486Z"
   },
   {
    "duration": 30,
    "start_time": "2021-07-07T14:58:37.604Z"
   },
   {
    "duration": 24,
    "start_time": "2021-07-07T14:58:37.637Z"
   },
   {
    "duration": 13,
    "start_time": "2021-07-07T14:58:37.663Z"
   },
   {
    "duration": 5,
    "start_time": "2021-07-07T14:58:37.678Z"
   },
   {
    "duration": 10,
    "start_time": "2021-07-07T14:58:37.685Z"
   },
   {
    "duration": 16,
    "start_time": "2021-07-07T14:58:37.697Z"
   },
   {
    "duration": 33567,
    "start_time": "2021-07-07T14:58:37.716Z"
   },
   {
    "duration": 10,
    "start_time": "2021-07-07T14:59:11.286Z"
   },
   {
    "duration": 96,
    "start_time": "2021-07-07T14:59:11.300Z"
   },
   {
    "duration": 70,
    "start_time": "2021-07-07T14:59:11.399Z"
   },
   {
    "duration": 430,
    "start_time": "2021-07-07T15:01:23.115Z"
   },
   {
    "duration": 1691,
    "start_time": "2021-07-07T15:01:31.779Z"
   },
   {
    "duration": 114,
    "start_time": "2021-07-07T15:01:33.473Z"
   },
   {
    "duration": 5,
    "start_time": "2021-07-07T15:01:33.594Z"
   },
   {
    "duration": 124,
    "start_time": "2021-07-07T15:01:33.602Z"
   },
   {
    "duration": 43,
    "start_time": "2021-07-07T15:01:33.729Z"
   },
   {
    "duration": 27,
    "start_time": "2021-07-07T15:01:33.775Z"
   },
   {
    "duration": 18,
    "start_time": "2021-07-07T15:01:33.804Z"
   },
   {
    "duration": 47,
    "start_time": "2021-07-07T15:01:33.826Z"
   },
   {
    "duration": 23,
    "start_time": "2021-07-07T15:01:33.876Z"
   },
   {
    "duration": 37,
    "start_time": "2021-07-07T15:01:33.901Z"
   },
   {
    "duration": 16,
    "start_time": "2021-07-07T15:01:33.955Z"
   },
   {
    "duration": 21,
    "start_time": "2021-07-07T15:01:33.973Z"
   },
   {
    "duration": 15,
    "start_time": "2021-07-07T15:01:33.997Z"
   },
   {
    "duration": 34,
    "start_time": "2021-07-07T15:01:34.014Z"
   },
   {
    "duration": 6,
    "start_time": "2021-07-07T15:01:34.050Z"
   },
   {
    "duration": 29,
    "start_time": "2021-07-07T15:01:34.058Z"
   },
   {
    "duration": 17,
    "start_time": "2021-07-07T15:01:34.089Z"
   },
   {
    "duration": 20,
    "start_time": "2021-07-07T15:01:34.108Z"
   },
   {
    "duration": 864,
    "start_time": "2021-07-07T15:01:34.130Z"
   },
   {
    "duration": 9,
    "start_time": "2021-07-07T15:01:34.997Z"
   },
   {
    "duration": 33,
    "start_time": "2021-07-07T15:01:35.008Z"
   },
   {
    "duration": 25,
    "start_time": "2021-07-07T15:01:35.043Z"
   },
   {
    "duration": 116,
    "start_time": "2021-07-07T15:01:35.070Z"
   },
   {
    "duration": 5,
    "start_time": "2021-07-07T15:01:35.190Z"
   },
   {
    "duration": 18,
    "start_time": "2021-07-07T15:01:35.198Z"
   },
   {
    "duration": 69,
    "start_time": "2021-07-07T15:01:35.222Z"
   },
   {
    "duration": 16,
    "start_time": "2021-07-07T15:01:35.294Z"
   },
   {
    "duration": 118,
    "start_time": "2021-07-07T15:01:35.313Z"
   },
   {
    "duration": 44,
    "start_time": "2021-07-07T15:01:35.434Z"
   },
   {
    "duration": 9,
    "start_time": "2021-07-07T15:01:35.481Z"
   },
   {
    "duration": 34,
    "start_time": "2021-07-07T15:01:35.492Z"
   },
   {
    "duration": 15,
    "start_time": "2021-07-07T15:01:35.528Z"
   },
   {
    "duration": 25,
    "start_time": "2021-07-07T15:01:35.546Z"
   },
   {
    "duration": 28,
    "start_time": "2021-07-07T15:01:35.573Z"
   },
   {
    "duration": 34189,
    "start_time": "2021-07-07T15:01:35.603Z"
   },
   {
    "duration": 10,
    "start_time": "2021-07-07T15:02:09.795Z"
   },
   {
    "duration": 83,
    "start_time": "2021-07-07T15:02:09.808Z"
   },
   {
    "duration": 64,
    "start_time": "2021-07-07T15:02:09.893Z"
   },
   {
    "duration": 1924,
    "start_time": "2021-07-07T15:03:57.852Z"
   },
   {
    "duration": 118,
    "start_time": "2021-07-07T15:03:59.779Z"
   },
   {
    "duration": 5,
    "start_time": "2021-07-07T15:03:59.901Z"
   },
   {
    "duration": 117,
    "start_time": "2021-07-07T15:03:59.909Z"
   },
   {
    "duration": 37,
    "start_time": "2021-07-07T15:04:00.029Z"
   },
   {
    "duration": 33,
    "start_time": "2021-07-07T15:04:00.069Z"
   },
   {
    "duration": 19,
    "start_time": "2021-07-07T15:04:00.105Z"
   },
   {
    "duration": 46,
    "start_time": "2021-07-07T15:04:00.126Z"
   },
   {
    "duration": 16,
    "start_time": "2021-07-07T15:04:00.177Z"
   },
   {
    "duration": 73,
    "start_time": "2021-07-07T15:04:00.196Z"
   },
   {
    "duration": 30,
    "start_time": "2021-07-07T15:04:00.271Z"
   },
   {
    "duration": 26,
    "start_time": "2021-07-07T15:04:00.303Z"
   },
   {
    "duration": 41,
    "start_time": "2021-07-07T15:04:00.332Z"
   },
   {
    "duration": 31,
    "start_time": "2021-07-07T15:04:00.376Z"
   },
   {
    "duration": 13,
    "start_time": "2021-07-07T15:04:00.410Z"
   },
   {
    "duration": 29,
    "start_time": "2021-07-07T15:04:00.426Z"
   },
   {
    "duration": 22,
    "start_time": "2021-07-07T15:04:00.458Z"
   },
   {
    "duration": 35,
    "start_time": "2021-07-07T15:04:00.483Z"
   },
   {
    "duration": 1139,
    "start_time": "2021-07-07T15:04:00.521Z"
   },
   {
    "duration": 8,
    "start_time": "2021-07-07T15:04:01.662Z"
   },
   {
    "duration": 32,
    "start_time": "2021-07-07T15:04:01.673Z"
   },
   {
    "duration": 36,
    "start_time": "2021-07-07T15:04:01.708Z"
   },
   {
    "duration": 129,
    "start_time": "2021-07-07T15:04:01.746Z"
   },
   {
    "duration": 5,
    "start_time": "2021-07-07T15:04:01.878Z"
   },
   {
    "duration": 23,
    "start_time": "2021-07-07T15:04:01.886Z"
   },
   {
    "duration": 78,
    "start_time": "2021-07-07T15:04:01.911Z"
   },
   {
    "duration": 15,
    "start_time": "2021-07-07T15:04:01.994Z"
   },
   {
    "duration": 111,
    "start_time": "2021-07-07T15:04:02.012Z"
   },
   {
    "duration": 43,
    "start_time": "2021-07-07T15:04:02.126Z"
   },
   {
    "duration": 49,
    "start_time": "2021-07-07T15:04:02.172Z"
   },
   {
    "duration": 26,
    "start_time": "2021-07-07T15:04:02.224Z"
   },
   {
    "duration": 8,
    "start_time": "2021-07-07T15:04:02.252Z"
   },
   {
    "duration": 26,
    "start_time": "2021-07-07T15:04:02.263Z"
   },
   {
    "duration": 21,
    "start_time": "2021-07-07T15:04:02.291Z"
   },
   {
    "duration": 31934,
    "start_time": "2021-07-07T15:04:02.314Z"
   },
   {
    "duration": 8,
    "start_time": "2021-07-07T15:04:34.250Z"
   },
   {
    "duration": 73,
    "start_time": "2021-07-07T15:04:34.261Z"
   },
   {
    "duration": 46,
    "start_time": "2021-07-07T15:04:34.355Z"
   },
   {
    "duration": 5,
    "start_time": "2021-07-07T15:07:29.361Z"
   },
   {
    "duration": 12,
    "start_time": "2021-07-07T15:07:30.152Z"
   },
   {
    "duration": 4,
    "start_time": "2021-07-07T15:07:30.617Z"
   },
   {
    "duration": 7,
    "start_time": "2021-07-07T15:07:31.005Z"
   },
   {
    "duration": 8,
    "start_time": "2021-07-07T15:07:31.861Z"
   },
   {
    "duration": 31416,
    "start_time": "2021-07-07T15:07:32.380Z"
   },
   {
    "duration": 9,
    "start_time": "2021-07-07T15:08:03.799Z"
   },
   {
    "duration": 86,
    "start_time": "2021-07-07T15:08:03.811Z"
   },
   {
    "duration": 59,
    "start_time": "2021-07-07T15:08:03.900Z"
   },
   {
    "duration": 6,
    "start_time": "2021-07-07T15:08:39.181Z"
   },
   {
    "duration": 12,
    "start_time": "2021-07-07T15:08:42.830Z"
   },
   {
    "duration": 4,
    "start_time": "2021-07-07T15:08:43.319Z"
   },
   {
    "duration": 7,
    "start_time": "2021-07-07T15:08:44.150Z"
   },
   {
    "duration": 8,
    "start_time": "2021-07-07T15:08:45.702Z"
   },
   {
    "duration": 34383,
    "start_time": "2021-07-07T15:08:49.784Z"
   },
   {
    "duration": 10,
    "start_time": "2021-07-07T15:09:24.466Z"
   },
   {
    "duration": 61,
    "start_time": "2021-07-07T15:09:28.577Z"
   },
   {
    "duration": 46,
    "start_time": "2021-07-07T15:09:32.152Z"
   },
   {
    "duration": 6,
    "start_time": "2021-07-07T15:09:54.661Z"
   },
   {
    "duration": 13,
    "start_time": "2021-07-07T15:09:55.569Z"
   },
   {
    "duration": 5,
    "start_time": "2021-07-07T15:09:55.757Z"
   },
   {
    "duration": 7,
    "start_time": "2021-07-07T15:09:55.926Z"
   },
   {
    "duration": 7,
    "start_time": "2021-07-07T15:09:56.307Z"
   },
   {
    "duration": 31479,
    "start_time": "2021-07-07T15:10:01.477Z"
   },
   {
    "duration": 11,
    "start_time": "2021-07-07T15:10:32.959Z"
   },
   {
    "duration": 81,
    "start_time": "2021-07-07T15:10:37.664Z"
   },
   {
    "duration": 62,
    "start_time": "2021-07-07T15:10:42.385Z"
   },
   {
    "duration": 5,
    "start_time": "2021-07-07T15:11:14.524Z"
   },
   {
    "duration": 11,
    "start_time": "2021-07-07T15:11:15.085Z"
   },
   {
    "duration": 4,
    "start_time": "2021-07-07T15:11:15.270Z"
   },
   {
    "duration": 7,
    "start_time": "2021-07-07T15:11:15.460Z"
   },
   {
    "duration": 7,
    "start_time": "2021-07-07T15:11:15.826Z"
   },
   {
    "duration": 35056,
    "start_time": "2021-07-07T15:11:16.520Z"
   },
   {
    "duration": 9,
    "start_time": "2021-07-07T15:11:51.578Z"
   },
   {
    "duration": 61,
    "start_time": "2021-07-07T15:11:55.493Z"
   },
   {
    "duration": 47,
    "start_time": "2021-07-07T15:12:01.871Z"
   },
   {
    "duration": 5,
    "start_time": "2021-07-07T15:13:14.954Z"
   },
   {
    "duration": 11,
    "start_time": "2021-07-07T15:13:15.422Z"
   },
   {
    "duration": 4,
    "start_time": "2021-07-07T15:13:15.602Z"
   },
   {
    "duration": 6,
    "start_time": "2021-07-07T15:13:15.773Z"
   },
   {
    "duration": 7,
    "start_time": "2021-07-07T15:13:16.412Z"
   },
   {
    "duration": 34362,
    "start_time": "2021-07-07T15:13:17.521Z"
   },
   {
    "duration": 10,
    "start_time": "2021-07-07T15:13:51.887Z"
   },
   {
    "duration": 90,
    "start_time": "2021-07-07T15:13:51.901Z"
   },
   {
    "duration": 42,
    "start_time": "2021-07-07T15:13:51.994Z"
   },
   {
    "duration": 7,
    "start_time": "2021-07-07T15:14:33.043Z"
   },
   {
    "duration": 11,
    "start_time": "2021-07-07T15:14:33.810Z"
   },
   {
    "duration": 4,
    "start_time": "2021-07-07T15:14:34.007Z"
   },
   {
    "duration": 7,
    "start_time": "2021-07-07T15:14:34.239Z"
   },
   {
    "duration": 7,
    "start_time": "2021-07-07T15:14:34.616Z"
   },
   {
    "duration": 36422,
    "start_time": "2021-07-07T15:14:35.868Z"
   },
   {
    "duration": 24,
    "start_time": "2021-07-07T15:15:12.294Z"
   },
   {
    "duration": 79,
    "start_time": "2021-07-07T15:15:12.322Z"
   },
   {
    "duration": 63,
    "start_time": "2021-07-07T15:15:12.404Z"
   },
   {
    "duration": 6,
    "start_time": "2021-07-07T15:16:48.457Z"
   },
   {
    "duration": 11,
    "start_time": "2021-07-07T15:16:48.663Z"
   },
   {
    "duration": 4,
    "start_time": "2021-07-07T15:16:48.817Z"
   },
   {
    "duration": 7,
    "start_time": "2021-07-07T15:16:48.999Z"
   },
   {
    "duration": 7,
    "start_time": "2021-07-07T15:16:49.359Z"
   },
   {
    "duration": 31351,
    "start_time": "2021-07-07T15:16:49.668Z"
   },
   {
    "duration": 10,
    "start_time": "2021-07-07T15:17:21.022Z"
   },
   {
    "duration": 60,
    "start_time": "2021-07-07T15:17:21.056Z"
   },
   {
    "duration": 63,
    "start_time": "2021-07-07T15:17:21.119Z"
   },
   {
    "duration": 5,
    "start_time": "2021-07-07T15:19:30.621Z"
   },
   {
    "duration": 11,
    "start_time": "2021-07-07T15:19:30.835Z"
   },
   {
    "duration": 4,
    "start_time": "2021-07-07T15:19:31.039Z"
   },
   {
    "duration": 7,
    "start_time": "2021-07-07T15:19:31.185Z"
   },
   {
    "duration": 10,
    "start_time": "2021-07-07T15:19:31.559Z"
   },
   {
    "duration": 30485,
    "start_time": "2021-07-07T15:19:32.298Z"
   },
   {
    "duration": 9,
    "start_time": "2021-07-07T15:20:02.785Z"
   },
   {
    "duration": 85,
    "start_time": "2021-07-07T15:20:02.797Z"
   },
   {
    "duration": 42,
    "start_time": "2021-07-07T15:20:02.885Z"
   },
   {
    "duration": 7,
    "start_time": "2021-07-07T15:27:08.041Z"
   },
   {
    "duration": 10,
    "start_time": "2021-07-07T15:27:09.083Z"
   },
   {
    "duration": 4,
    "start_time": "2021-07-07T15:27:09.276Z"
   },
   {
    "duration": 7,
    "start_time": "2021-07-07T15:27:09.462Z"
   },
   {
    "duration": 8,
    "start_time": "2021-07-07T15:27:10.113Z"
   },
   {
    "duration": 33238,
    "start_time": "2021-07-07T15:27:10.619Z"
   },
   {
    "duration": 8,
    "start_time": "2021-07-07T15:27:43.860Z"
   },
   {
    "duration": 84,
    "start_time": "2021-07-07T15:27:43.871Z"
   },
   {
    "duration": 47,
    "start_time": "2021-07-07T15:27:43.958Z"
   },
   {
    "duration": 56,
    "start_time": "2021-07-07T15:45:54.976Z"
   },
   {
    "duration": 43,
    "start_time": "2021-07-07T15:46:21.703Z"
   },
   {
    "duration": 9,
    "start_time": "2021-07-07T15:46:47.275Z"
   },
   {
    "duration": 12,
    "start_time": "2021-07-07T15:46:47.451Z"
   },
   {
    "duration": 5,
    "start_time": "2021-07-07T15:46:47.666Z"
   },
   {
    "duration": 7,
    "start_time": "2021-07-07T15:46:47.864Z"
   },
   {
    "duration": 8,
    "start_time": "2021-07-07T15:46:49.004Z"
   },
   {
    "duration": 35090,
    "start_time": "2021-07-07T15:46:53.125Z"
   },
   {
    "duration": 10,
    "start_time": "2021-07-07T15:47:28.219Z"
   },
   {
    "duration": 80,
    "start_time": "2021-07-07T15:47:28.231Z"
   },
   {
    "duration": 7,
    "start_time": "2021-07-07T15:47:42.615Z"
   },
   {
    "duration": 15,
    "start_time": "2021-07-07T15:47:42.993Z"
   },
   {
    "duration": 4,
    "start_time": "2021-07-07T15:47:43.199Z"
   },
   {
    "duration": 7,
    "start_time": "2021-07-07T15:47:43.613Z"
   },
   {
    "duration": 10,
    "start_time": "2021-07-07T15:47:44.491Z"
   },
   {
    "duration": 31197,
    "start_time": "2021-07-07T15:47:45.272Z"
   },
   {
    "duration": 9,
    "start_time": "2021-07-07T15:48:16.472Z"
   },
   {
    "duration": 84,
    "start_time": "2021-07-07T15:48:16.485Z"
   },
   {
    "duration": 41,
    "start_time": "2021-07-07T15:48:16.571Z"
   },
   {
    "duration": 1626,
    "start_time": "2021-07-07T15:49:57.250Z"
   },
   {
    "duration": 115,
    "start_time": "2021-07-07T15:49:58.878Z"
   },
   {
    "duration": 5,
    "start_time": "2021-07-07T15:49:58.996Z"
   },
   {
    "duration": 114,
    "start_time": "2021-07-07T15:49:59.004Z"
   },
   {
    "duration": 39,
    "start_time": "2021-07-07T15:49:59.120Z"
   },
   {
    "duration": 28,
    "start_time": "2021-07-07T15:49:59.162Z"
   },
   {
    "duration": 20,
    "start_time": "2021-07-07T15:49:59.192Z"
   },
   {
    "duration": 47,
    "start_time": "2021-07-07T15:49:59.216Z"
   },
   {
    "duration": 16,
    "start_time": "2021-07-07T15:49:59.266Z"
   },
   {
    "duration": 34,
    "start_time": "2021-07-07T15:49:59.284Z"
   },
   {
    "duration": 39,
    "start_time": "2021-07-07T15:49:59.321Z"
   },
   {
    "duration": 13,
    "start_time": "2021-07-07T15:49:59.362Z"
   },
   {
    "duration": 15,
    "start_time": "2021-07-07T15:49:59.377Z"
   },
   {
    "duration": 15,
    "start_time": "2021-07-07T15:49:59.395Z"
   },
   {
    "duration": 6,
    "start_time": "2021-07-07T15:49:59.413Z"
   },
   {
    "duration": 34,
    "start_time": "2021-07-07T15:49:59.422Z"
   },
   {
    "duration": 7,
    "start_time": "2021-07-07T15:49:59.459Z"
   },
   {
    "duration": 14,
    "start_time": "2021-07-07T15:49:59.468Z"
   },
   {
    "duration": 870,
    "start_time": "2021-07-07T15:49:59.485Z"
   },
   {
    "duration": 7,
    "start_time": "2021-07-07T15:50:00.358Z"
   },
   {
    "duration": 34,
    "start_time": "2021-07-07T15:50:00.368Z"
   },
   {
    "duration": 37,
    "start_time": "2021-07-07T15:50:00.405Z"
   },
   {
    "duration": 121,
    "start_time": "2021-07-07T15:50:00.449Z"
   },
   {
    "duration": 5,
    "start_time": "2021-07-07T15:50:00.574Z"
   },
   {
    "duration": 20,
    "start_time": "2021-07-07T15:50:00.581Z"
   },
   {
    "duration": 75,
    "start_time": "2021-07-07T15:50:00.604Z"
   },
   {
    "duration": 14,
    "start_time": "2021-07-07T15:50:00.681Z"
   },
   {
    "duration": 113,
    "start_time": "2021-07-07T15:50:00.698Z"
   },
   {
    "duration": 47,
    "start_time": "2021-07-07T15:50:00.814Z"
   },
   {
    "duration": 4,
    "start_time": "2021-07-07T15:50:00.864Z"
   },
   {
    "duration": 12,
    "start_time": "2021-07-07T15:50:00.871Z"
   },
   {
    "duration": 16,
    "start_time": "2021-07-07T15:50:00.885Z"
   },
   {
    "duration": 14,
    "start_time": "2021-07-07T15:50:00.904Z"
   },
   {
    "duration": 31,
    "start_time": "2021-07-07T15:50:00.920Z"
   },
   {
    "duration": 9,
    "start_time": "2021-07-07T15:50:00.953Z"
   },
   {
    "duration": 15,
    "start_time": "2021-07-07T15:50:00.965Z"
   },
   {
    "duration": 19,
    "start_time": "2021-07-07T15:50:00.983Z"
   },
   {
    "duration": 14,
    "start_time": "2021-07-07T15:50:01.006Z"
   },
   {
    "duration": 25,
    "start_time": "2021-07-07T15:50:01.023Z"
   },
   {
    "duration": 14,
    "start_time": "2021-07-07T15:50:01.051Z"
   },
   {
    "duration": 17,
    "start_time": "2021-07-07T15:50:01.069Z"
   },
   {
    "duration": 20,
    "start_time": "2021-07-07T15:50:01.089Z"
   },
   {
    "duration": 14,
    "start_time": "2021-07-07T15:50:01.112Z"
   },
   {
    "duration": 14,
    "start_time": "2021-07-07T15:50:01.129Z"
   },
   {
    "duration": 36,
    "start_time": "2021-07-07T15:50:01.147Z"
   },
   {
    "duration": 11,
    "start_time": "2021-07-07T15:50:01.186Z"
   },
   {
    "duration": 18,
    "start_time": "2021-07-07T15:50:01.199Z"
   },
   {
    "duration": 34,
    "start_time": "2021-07-07T15:50:01.220Z"
   },
   {
    "duration": 30609,
    "start_time": "2021-07-07T15:50:01.257Z"
   },
   {
    "duration": 11,
    "start_time": "2021-07-07T15:50:31.869Z"
   },
   {
    "duration": 107,
    "start_time": "2021-07-07T15:50:31.883Z"
   },
   {
    "duration": 42,
    "start_time": "2021-07-07T15:50:31.993Z"
   },
   {
    "duration": 1767,
    "start_time": "2021-07-07T15:51:06.268Z"
   },
   {
    "duration": 121,
    "start_time": "2021-07-07T15:51:08.039Z"
   },
   {
    "duration": 5,
    "start_time": "2021-07-07T15:51:08.163Z"
   },
   {
    "duration": 134,
    "start_time": "2021-07-07T15:51:08.171Z"
   },
   {
    "duration": 26,
    "start_time": "2021-07-07T15:51:08.307Z"
   },
   {
    "duration": 43,
    "start_time": "2021-07-07T15:51:08.335Z"
   },
   {
    "duration": 18,
    "start_time": "2021-07-07T15:51:08.381Z"
   },
   {
    "duration": 20,
    "start_time": "2021-07-07T15:51:08.401Z"
   },
   {
    "duration": 45,
    "start_time": "2021-07-07T15:51:08.425Z"
   },
   {
    "duration": 58,
    "start_time": "2021-07-07T15:51:08.474Z"
   },
   {
    "duration": 22,
    "start_time": "2021-07-07T15:51:08.535Z"
   },
   {
    "duration": 14,
    "start_time": "2021-07-07T15:51:08.560Z"
   },
   {
    "duration": 23,
    "start_time": "2021-07-07T15:51:08.577Z"
   },
   {
    "duration": 33,
    "start_time": "2021-07-07T15:51:08.603Z"
   },
   {
    "duration": 17,
    "start_time": "2021-07-07T15:51:08.639Z"
   },
   {
    "duration": 13,
    "start_time": "2021-07-07T15:51:08.659Z"
   },
   {
    "duration": 17,
    "start_time": "2021-07-07T15:51:08.675Z"
   },
   {
    "duration": 25,
    "start_time": "2021-07-07T15:51:08.695Z"
   },
   {
    "duration": 1011,
    "start_time": "2021-07-07T15:51:08.722Z"
   },
   {
    "duration": 7,
    "start_time": "2021-07-07T15:51:09.735Z"
   },
   {
    "duration": 14,
    "start_time": "2021-07-07T15:51:09.756Z"
   },
   {
    "duration": 20,
    "start_time": "2021-07-07T15:51:09.773Z"
   },
   {
    "duration": 137,
    "start_time": "2021-07-07T15:51:09.795Z"
   },
   {
    "duration": 4,
    "start_time": "2021-07-07T15:51:09.935Z"
   },
   {
    "duration": 16,
    "start_time": "2021-07-07T15:51:09.941Z"
   },
   {
    "duration": 54,
    "start_time": "2021-07-07T15:51:09.959Z"
   },
   {
    "duration": 46,
    "start_time": "2021-07-07T15:51:10.018Z"
   },
   {
    "duration": 162,
    "start_time": "2021-07-07T15:51:10.067Z"
   },
   {
    "duration": 53,
    "start_time": "2021-07-07T15:51:10.231Z"
   },
   {
    "duration": 3,
    "start_time": "2021-07-07T15:51:10.287Z"
   },
   {
    "duration": 8,
    "start_time": "2021-07-07T15:51:10.293Z"
   },
   {
    "duration": 5,
    "start_time": "2021-07-07T15:51:10.304Z"
   },
   {
    "duration": 6,
    "start_time": "2021-07-07T15:51:10.311Z"
   },
   {
    "duration": 38,
    "start_time": "2021-07-07T15:51:10.320Z"
   },
   {
    "duration": 9,
    "start_time": "2021-07-07T15:51:10.361Z"
   },
   {
    "duration": 10,
    "start_time": "2021-07-07T15:51:10.373Z"
   },
   {
    "duration": 25,
    "start_time": "2021-07-07T15:51:10.386Z"
   },
   {
    "duration": 24,
    "start_time": "2021-07-07T15:51:10.414Z"
   },
   {
    "duration": 12,
    "start_time": "2021-07-07T15:51:10.441Z"
   },
   {
    "duration": 23,
    "start_time": "2021-07-07T15:51:10.455Z"
   },
   {
    "duration": 11,
    "start_time": "2021-07-07T15:51:10.481Z"
   },
   {
    "duration": 19,
    "start_time": "2021-07-07T15:51:10.494Z"
   },
   {
    "duration": 24,
    "start_time": "2021-07-07T15:51:10.515Z"
   },
   {
    "duration": 10,
    "start_time": "2021-07-07T15:51:10.542Z"
   },
   {
    "duration": 24,
    "start_time": "2021-07-07T15:51:10.554Z"
   },
   {
    "duration": 8,
    "start_time": "2021-07-07T15:51:10.581Z"
   },
   {
    "duration": 25,
    "start_time": "2021-07-07T15:51:10.591Z"
   },
   {
    "duration": 24,
    "start_time": "2021-07-07T15:51:10.618Z"
   },
   {
    "duration": 29714,
    "start_time": "2021-07-07T15:51:10.645Z"
   },
   {
    "duration": 10,
    "start_time": "2021-07-07T15:51:40.362Z"
   },
   {
    "duration": 79,
    "start_time": "2021-07-07T15:51:40.378Z"
   },
   {
    "duration": 41,
    "start_time": "2021-07-07T15:51:40.460Z"
   },
   {
    "duration": 338,
    "start_time": "2021-07-07T15:53:18.812Z"
   },
   {
    "duration": 2198,
    "start_time": "2021-07-07T15:53:32.809Z"
   },
   {
    "duration": 216,
    "start_time": "2021-07-07T15:56:24.030Z"
   },
   {
    "duration": 184,
    "start_time": "2021-07-07T15:57:46.576Z"
   },
   {
    "duration": 7,
    "start_time": "2021-07-07T15:57:53.919Z"
   },
   {
    "duration": 178,
    "start_time": "2021-07-07T15:57:59.030Z"
   },
   {
    "duration": 219,
    "start_time": "2021-07-07T15:59:15.754Z"
   },
   {
    "duration": 176,
    "start_time": "2021-07-07T15:59:29.371Z"
   },
   {
    "duration": 176,
    "start_time": "2021-07-07T15:59:41.339Z"
   },
   {
    "duration": 2249,
    "start_time": "2021-07-07T16:00:08.363Z"
   },
   {
    "duration": 1765,
    "start_time": "2021-07-07T16:00:19.986Z"
   },
   {
    "duration": 1902,
    "start_time": "2021-07-07T16:01:05.747Z"
   },
   {
    "duration": 244,
    "start_time": "2021-07-07T16:01:31.220Z"
   },
   {
    "duration": 5,
    "start_time": "2021-07-07T16:01:53.258Z"
   },
   {
    "duration": 35,
    "start_time": "2021-07-07T16:01:54.011Z"
   },
   {
    "duration": 83051,
    "start_time": "2021-07-07T16:01:58.288Z"
   },
   {
    "duration": 10,
    "start_time": "2021-07-07T16:04:22.729Z"
   },
   {
    "duration": 898324,
    "start_time": "2021-07-07T16:05:22.953Z"
   },
   {
    "duration": 10,
    "start_time": "2021-07-07T16:20:21.280Z"
   },
   {
    "duration": 3771071,
    "start_time": "2021-07-07T16:32:16.546Z"
   },
   {
    "duration": 13,
    "start_time": "2021-07-07T17:35:07.620Z"
   },
   {
    "duration": 38,
    "start_time": "2021-07-07T17:35:07.636Z"
   },
   {
    "duration": 5,
    "start_time": "2021-07-07T17:37:14.409Z"
   },
   {
    "duration": 2389366,
    "start_time": "2021-07-07T17:38:37.464Z"
   },
   {
    "duration": 7,
    "start_time": "2021-07-07T18:18:34.101Z"
   },
   {
    "duration": 898973,
    "start_time": "2021-07-07T18:22:02.166Z"
   },
   {
    "duration": 5,
    "start_time": "2021-07-07T18:37:41.302Z"
   },
   {
    "duration": 11,
    "start_time": "2021-07-07T18:37:42.135Z"
   },
   {
    "duration": 29,
    "start_time": "2021-07-07T18:37:45.514Z"
   },
   {
    "duration": 14,
    "start_time": "2021-07-07T18:41:27.739Z"
   },
   {
    "duration": 7,
    "start_time": "2021-07-07T18:41:52.620Z"
   },
   {
    "duration": 699064,
    "start_time": "2021-07-07T18:42:00.587Z"
   },
   {
    "duration": 6,
    "start_time": "2021-07-07T18:53:39.653Z"
   },
   {
    "duration": 13,
    "start_time": "2021-07-07T18:53:39.663Z"
   },
   {
    "duration": 21,
    "start_time": "2021-07-07T18:53:39.679Z"
   },
   {
    "duration": 54,
    "start_time": "2021-07-07T18:53:39.704Z"
   },
   {
    "duration": 15,
    "start_time": "2021-07-07T18:53:55.062Z"
   },
   {
    "duration": 14,
    "start_time": "2021-07-07T18:53:57.357Z"
   },
   {
    "duration": 18,
    "start_time": "2021-07-07T18:54:24.274Z"
   },
   {
    "duration": 4,
    "start_time": "2021-07-07T18:54:24.739Z"
   },
   {
    "duration": 9,
    "start_time": "2021-07-07T18:54:25.280Z"
   },
   {
    "duration": 7,
    "start_time": "2021-07-07T18:54:26.106Z"
   },
   {
    "duration": 28817,
    "start_time": "2021-07-07T18:54:26.902Z"
   },
   {
    "duration": 9,
    "start_time": "2021-07-07T18:54:55.721Z"
   },
   {
    "duration": 97,
    "start_time": "2021-07-07T18:54:55.733Z"
   },
   {
    "duration": 64,
    "start_time": "2021-07-07T18:54:55.834Z"
   },
   {
    "duration": 291,
    "start_time": "2021-07-07T18:54:55.901Z"
   },
   {
    "duration": 279,
    "start_time": "2021-07-07T18:54:56.194Z"
   },
   {
    "duration": -74,
    "start_time": "2021-07-07T18:54:56.549Z"
   },
   {
    "duration": -75,
    "start_time": "2021-07-07T18:54:56.552Z"
   },
   {
    "duration": -77,
    "start_time": "2021-07-07T18:54:56.555Z"
   },
   {
    "duration": 4,
    "start_time": "2021-07-07T19:02:07.041Z"
   },
   {
    "duration": 29330,
    "start_time": "2021-07-07T19:02:15.120Z"
   },
   {
    "duration": 9,
    "start_time": "2021-07-07T19:02:44.457Z"
   },
   {
    "duration": 86,
    "start_time": "2021-07-07T19:02:44.471Z"
   },
   {
    "duration": 41,
    "start_time": "2021-07-07T19:02:44.560Z"
   },
   {
    "duration": 757555,
    "start_time": "2021-07-07T19:02:44.603Z"
   },
   {
    "duration": 5,
    "start_time": "2021-07-07T19:15:22.161Z"
   },
   {
    "duration": 13,
    "start_time": "2021-07-07T19:15:22.169Z"
   },
   {
    "duration": 21,
    "start_time": "2021-07-07T19:15:22.185Z"
   },
   {
    "duration": 57,
    "start_time": "2021-07-07T19:15:22.208Z"
   },
   {
    "duration": 4,
    "start_time": "2021-07-07T19:17:03.027Z"
   },
   {
    "duration": 6,
    "start_time": "2021-07-07T19:17:07.923Z"
   },
   {
    "duration": 18,
    "start_time": "2021-07-07T19:17:15.147Z"
   },
   {
    "duration": 4,
    "start_time": "2021-07-07T19:17:15.482Z"
   },
   {
    "duration": 11,
    "start_time": "2021-07-07T19:17:15.935Z"
   },
   {
    "duration": 8,
    "start_time": "2021-07-07T19:17:17.787Z"
   },
   {
    "duration": 26857,
    "start_time": "2021-07-07T19:17:18.480Z"
   },
   {
    "duration": 21,
    "start_time": "2021-07-07T19:17:45.340Z"
   },
   {
    "duration": 65,
    "start_time": "2021-07-07T19:17:45.365Z"
   },
   {
    "duration": 60,
    "start_time": "2021-07-07T19:17:45.433Z"
   },
   {
    "duration": 700180,
    "start_time": "2021-07-07T19:17:45.496Z"
   },
   {
    "duration": 9,
    "start_time": "2021-07-07T19:29:25.678Z"
   },
   {
    "duration": 22,
    "start_time": "2021-07-07T19:29:25.690Z"
   },
   {
    "duration": 40,
    "start_time": "2021-07-07T19:29:25.716Z"
   },
   {
    "duration": 7,
    "start_time": "2021-07-07T19:30:59.726Z"
   },
   {
    "duration": 16,
    "start_time": "2021-07-07T19:31:14.756Z"
   },
   {
    "duration": 4,
    "start_time": "2021-07-07T19:31:15.124Z"
   },
   {
    "duration": 10,
    "start_time": "2021-07-07T19:31:15.563Z"
   },
   {
    "duration": 7,
    "start_time": "2021-07-07T19:31:16.485Z"
   },
   {
    "duration": 27706,
    "start_time": "2021-07-07T19:31:17.056Z"
   },
   {
    "duration": 8,
    "start_time": "2021-07-07T19:31:44.765Z"
   },
   {
    "duration": 79,
    "start_time": "2021-07-07T19:31:44.776Z"
   },
   {
    "duration": 42,
    "start_time": "2021-07-07T19:31:44.858Z"
   },
   {
    "duration": 220,
    "start_time": "2021-07-07T19:31:44.902Z"
   },
   {
    "duration": 9,
    "start_time": "2021-07-07T19:31:45.125Z"
   },
   {
    "duration": 278,
    "start_time": "2021-07-07T19:31:45.136Z"
   },
   {
    "duration": 72,
    "start_time": "2021-07-07T19:31:45.344Z"
   },
   {
    "duration": 4,
    "start_time": "2021-07-07T19:32:03.558Z"
   },
   {
    "duration": 16,
    "start_time": "2021-07-07T19:32:12.725Z"
   },
   {
    "duration": 5,
    "start_time": "2021-07-07T19:32:13.151Z"
   },
   {
    "duration": 13,
    "start_time": "2021-07-07T19:32:13.598Z"
   },
   {
    "duration": 7,
    "start_time": "2021-07-07T19:32:14.549Z"
   },
   {
    "duration": 26305,
    "start_time": "2021-07-07T19:32:15.152Z"
   },
   {
    "duration": 8,
    "start_time": "2021-07-07T19:32:41.460Z"
   },
   {
    "duration": 62,
    "start_time": "2021-07-07T19:32:41.471Z"
   },
   {
    "duration": 39,
    "start_time": "2021-07-07T19:32:41.556Z"
   },
   {
    "duration": 717079,
    "start_time": "2021-07-07T19:32:41.598Z"
   },
   {
    "duration": 10,
    "start_time": "2021-07-07T19:44:38.680Z"
   },
   {
    "duration": 33,
    "start_time": "2021-07-07T19:44:38.692Z"
   },
   {
    "duration": 20,
    "start_time": "2021-07-07T19:44:38.728Z"
   },
   {
    "duration": 3,
    "start_time": "2021-07-07T19:46:09.340Z"
   },
   {
    "duration": 6,
    "start_time": "2021-07-07T19:46:20.626Z"
   },
   {
    "duration": 15,
    "start_time": "2021-07-07T19:46:30.636Z"
   },
   {
    "duration": 4,
    "start_time": "2021-07-07T19:46:30.990Z"
   },
   {
    "duration": 10,
    "start_time": "2021-07-07T19:46:31.414Z"
   },
   {
    "duration": 8,
    "start_time": "2021-07-07T19:46:32.721Z"
   },
   {
    "duration": 27531,
    "start_time": "2021-07-07T19:46:33.454Z"
   },
   {
    "duration": 10,
    "start_time": "2021-07-07T19:47:00.987Z"
   },
   {
    "duration": 90,
    "start_time": "2021-07-07T19:47:01.000Z"
   },
   {
    "duration": 40,
    "start_time": "2021-07-07T19:47:01.093Z"
   },
   {
    "duration": 721131,
    "start_time": "2021-07-07T19:47:01.136Z"
   },
   {
    "duration": 11,
    "start_time": "2021-07-07T19:59:02.270Z"
   },
   {
    "duration": 28,
    "start_time": "2021-07-07T19:59:02.283Z"
   },
   {
    "duration": 14,
    "start_time": "2021-07-07T19:59:02.315Z"
   },
   {
    "duration": 7,
    "start_time": "2021-07-07T20:01:13.566Z"
   },
   {
    "duration": 16,
    "start_time": "2021-07-07T20:01:19.473Z"
   },
   {
    "duration": 4,
    "start_time": "2021-07-07T20:01:19.925Z"
   },
   {
    "duration": 9,
    "start_time": "2021-07-07T20:01:20.516Z"
   },
   {
    "duration": 10,
    "start_time": "2021-07-07T20:01:39.965Z"
   },
   {
    "duration": 28872,
    "start_time": "2021-07-07T20:01:43.041Z"
   },
   {
    "duration": 9,
    "start_time": "2021-07-07T20:02:11.915Z"
   },
   {
    "duration": 85,
    "start_time": "2021-07-07T20:02:11.927Z"
   },
   {
    "duration": 63,
    "start_time": "2021-07-07T20:02:12.015Z"
   },
   {
    "duration": 232,
    "start_time": "2021-07-07T20:02:12.081Z"
   },
   {
    "duration": 9,
    "start_time": "2021-07-07T20:02:12.316Z"
   },
   {
    "duration": 267,
    "start_time": "2021-07-07T20:02:12.327Z"
   },
   {
    "duration": -75,
    "start_time": "2021-07-07T20:02:12.672Z"
   },
   {
    "duration": 94,
    "start_time": "2021-07-07T20:03:02.850Z"
   },
   {
    "duration": 4,
    "start_time": "2021-07-07T20:03:07.373Z"
   },
   {
    "duration": 4,
    "start_time": "2021-07-07T20:03:17.731Z"
   },
   {
    "duration": 13,
    "start_time": "2021-07-07T20:03:27.860Z"
   },
   {
    "duration": 43,
    "start_time": "2021-07-07T20:03:29.385Z"
   },
   {
    "duration": 26,
    "start_time": "2021-07-07T20:03:30.563Z"
   },
   {
    "duration": 264,
    "start_time": "2021-07-07T20:03:32.222Z"
   },
   {
    "duration": 12,
    "start_time": "2021-07-07T20:03:39.230Z"
   },
   {
    "duration": 4,
    "start_time": "2021-07-07T20:03:39.625Z"
   },
   {
    "duration": 8,
    "start_time": "2021-07-07T20:03:40.053Z"
   },
   {
    "duration": 10,
    "start_time": "2021-07-07T20:03:41.157Z"
   },
   {
    "duration": 27961,
    "start_time": "2021-07-07T20:03:41.806Z"
   },
   {
    "duration": 10,
    "start_time": "2021-07-07T20:04:09.771Z"
   },
   {
    "duration": 89,
    "start_time": "2021-07-07T20:04:09.785Z"
   },
   {
    "duration": 40,
    "start_time": "2021-07-07T20:04:09.877Z"
   },
   {
    "duration": 879293,
    "start_time": "2021-07-07T20:04:09.919Z"
   },
   {
    "duration": 9,
    "start_time": "2021-07-07T20:18:49.214Z"
   },
   {
    "duration": 17,
    "start_time": "2021-07-07T20:18:49.225Z"
   },
   {
    "duration": 17,
    "start_time": "2021-07-07T20:18:49.246Z"
   },
   {
    "duration": 4,
    "start_time": "2021-07-07T20:20:21.897Z"
   },
   {
    "duration": 12,
    "start_time": "2021-07-07T20:20:42.949Z"
   },
   {
    "duration": 5,
    "start_time": "2021-07-07T20:20:43.272Z"
   },
   {
    "duration": 6,
    "start_time": "2021-07-07T20:20:43.630Z"
   },
   {
    "duration": 8,
    "start_time": "2021-07-07T20:20:44.479Z"
   },
   {
    "duration": 29273,
    "start_time": "2021-07-07T20:20:45.309Z"
   },
   {
    "duration": 9,
    "start_time": "2021-07-07T20:21:14.585Z"
   },
   {
    "duration": 91,
    "start_time": "2021-07-07T20:21:14.597Z"
   },
   {
    "duration": 41,
    "start_time": "2021-07-07T20:21:14.691Z"
   },
   {
    "duration": 868621,
    "start_time": "2021-07-07T20:21:14.734Z"
   },
   {
    "duration": 14,
    "start_time": "2021-07-07T20:35:43.358Z"
   },
   {
    "duration": 21,
    "start_time": "2021-07-07T20:35:43.376Z"
   },
   {
    "duration": 15,
    "start_time": "2021-07-07T20:35:43.400Z"
   },
   {
    "duration": 9,
    "start_time": "2021-07-07T20:35:59.873Z"
   },
   {
    "duration": 12,
    "start_time": "2021-07-07T20:36:05.994Z"
   },
   {
    "duration": 4,
    "start_time": "2021-07-07T20:36:06.386Z"
   },
   {
    "duration": 11,
    "start_time": "2021-07-07T20:36:06.767Z"
   },
   {
    "duration": 14,
    "start_time": "2021-07-07T20:36:07.651Z"
   },
   {
    "duration": 30855,
    "start_time": "2021-07-07T20:36:10.555Z"
   },
   {
    "duration": 8,
    "start_time": "2021-07-07T20:36:41.413Z"
   },
   {
    "duration": 88,
    "start_time": "2021-07-07T20:36:41.424Z"
   },
   {
    "duration": 63,
    "start_time": "2021-07-07T20:36:41.515Z"
   },
   {
    "duration": 848575,
    "start_time": "2021-07-07T20:36:41.581Z"
   },
   {
    "duration": 12,
    "start_time": "2021-07-07T20:50:50.159Z"
   },
   {
    "duration": 25,
    "start_time": "2021-07-07T20:50:50.175Z"
   },
   {
    "duration": 51,
    "start_time": "2021-07-07T20:50:50.204Z"
   },
   {
    "duration": 13,
    "start_time": "2021-07-07T20:59:56.473Z"
   },
   {
    "duration": 3,
    "start_time": "2021-07-07T21:01:10.159Z"
   },
   {
    "duration": 6,
    "start_time": "2021-07-07T21:01:19.823Z"
   },
   {
    "duration": 10,
    "start_time": "2021-07-07T21:01:26.368Z"
   },
   {
    "duration": 4,
    "start_time": "2021-07-07T21:01:26.870Z"
   },
   {
    "duration": 7,
    "start_time": "2021-07-07T21:01:27.644Z"
   },
   {
    "duration": 8,
    "start_time": "2021-07-07T21:01:31.861Z"
   },
   {
    "duration": 27802,
    "start_time": "2021-07-07T21:01:33.121Z"
   },
   {
    "duration": 8,
    "start_time": "2021-07-07T21:02:00.926Z"
   },
   {
    "duration": 75,
    "start_time": "2021-07-07T21:02:00.936Z"
   },
   {
    "duration": 60,
    "start_time": "2021-07-07T21:02:01.013Z"
   },
   {
    "duration": 899051,
    "start_time": "2021-07-07T21:02:01.075Z"
   },
   {
    "duration": 12,
    "start_time": "2021-07-07T21:17:00.129Z"
   },
   {
    "duration": 34,
    "start_time": "2021-07-07T21:17:00.144Z"
   },
   {
    "duration": 15,
    "start_time": "2021-07-07T21:17:00.182Z"
   },
   {
    "duration": 11,
    "start_time": "2021-07-07T21:55:21.188Z"
   },
   {
    "duration": 4,
    "start_time": "2021-07-07T21:55:21.572Z"
   },
   {
    "duration": 8,
    "start_time": "2021-07-07T21:55:22.430Z"
   },
   {
    "duration": 8,
    "start_time": "2021-07-07T21:55:23.563Z"
   },
   {
    "duration": 35929,
    "start_time": "2021-07-07T21:55:26.402Z"
   },
   {
    "duration": 9,
    "start_time": "2021-07-07T21:56:02.333Z"
   },
   {
    "duration": 57,
    "start_time": "2021-07-07T21:56:02.357Z"
   },
   {
    "duration": 67,
    "start_time": "2021-07-07T21:56:02.417Z"
   },
   {
    "duration": 865149,
    "start_time": "2021-07-07T21:56:02.486Z"
   },
   {
    "duration": 9,
    "start_time": "2021-07-07T22:10:27.637Z"
   },
   {
    "duration": 23,
    "start_time": "2021-07-07T22:10:27.648Z"
   },
   {
    "duration": 13,
    "start_time": "2021-07-07T22:10:27.675Z"
   },
   {
    "duration": 6,
    "start_time": "2021-07-07T22:10:58.778Z"
   },
   {
    "duration": 1045,
    "start_time": "2021-07-08T05:44:58.799Z"
   },
   {
    "duration": 88,
    "start_time": "2021-07-08T05:44:59.846Z"
   },
   {
    "duration": 3,
    "start_time": "2021-07-08T05:44:59.936Z"
   },
   {
    "duration": 64,
    "start_time": "2021-07-08T05:44:59.940Z"
   },
   {
    "duration": 15,
    "start_time": "2021-07-08T05:45:00.005Z"
   },
   {
    "duration": 28,
    "start_time": "2021-07-08T05:45:00.022Z"
   },
   {
    "duration": 11,
    "start_time": "2021-07-08T05:45:00.052Z"
   },
   {
    "duration": 16,
    "start_time": "2021-07-08T05:45:00.064Z"
   },
   {
    "duration": 10,
    "start_time": "2021-07-08T05:45:00.082Z"
   },
   {
    "duration": 18,
    "start_time": "2021-07-08T05:45:00.094Z"
   },
   {
    "duration": 31,
    "start_time": "2021-07-08T05:45:00.113Z"
   },
   {
    "duration": 11,
    "start_time": "2021-07-08T05:45:00.145Z"
   },
   {
    "duration": 10,
    "start_time": "2021-07-08T05:45:00.157Z"
   },
   {
    "duration": 12,
    "start_time": "2021-07-08T05:45:00.168Z"
   },
   {
    "duration": 11,
    "start_time": "2021-07-08T05:45:00.182Z"
   },
   {
    "duration": 6,
    "start_time": "2021-07-08T05:45:00.194Z"
   },
   {
    "duration": 6,
    "start_time": "2021-07-08T05:45:00.201Z"
   },
   {
    "duration": 9,
    "start_time": "2021-07-08T05:45:00.209Z"
   },
   {
    "duration": 480,
    "start_time": "2021-07-08T05:45:00.219Z"
   },
   {
    "duration": 4,
    "start_time": "2021-07-08T05:45:00.701Z"
   },
   {
    "duration": 20,
    "start_time": "2021-07-08T05:45:00.707Z"
   },
   {
    "duration": 19,
    "start_time": "2021-07-08T05:45:00.728Z"
   },
   {
    "duration": 61,
    "start_time": "2021-07-08T05:45:00.748Z"
   },
   {
    "duration": 3,
    "start_time": "2021-07-08T05:45:00.810Z"
   },
   {
    "duration": 14,
    "start_time": "2021-07-08T05:45:00.815Z"
   },
   {
    "duration": 28,
    "start_time": "2021-07-08T05:45:00.830Z"
   },
   {
    "duration": 8,
    "start_time": "2021-07-08T05:45:00.862Z"
   },
   {
    "duration": 26,
    "start_time": "2021-07-08T05:45:00.872Z"
   },
   {
    "duration": 22,
    "start_time": "2021-07-08T05:45:00.899Z"
   },
   {
    "duration": 21,
    "start_time": "2021-07-08T05:45:00.923Z"
   },
   {
    "duration": 7,
    "start_time": "2021-07-08T05:45:00.945Z"
   },
   {
    "duration": 8,
    "start_time": "2021-07-08T05:45:00.954Z"
   },
   {
    "duration": 7,
    "start_time": "2021-07-08T05:45:00.963Z"
   },
   {
    "duration": 16,
    "start_time": "2021-07-08T05:45:00.972Z"
   },
   {
    "duration": 10,
    "start_time": "2021-07-08T05:45:00.989Z"
   },
   {
    "duration": 10,
    "start_time": "2021-07-08T05:45:01.001Z"
   },
   {
    "duration": 7,
    "start_time": "2021-07-08T05:45:01.012Z"
   },
   {
    "duration": 8,
    "start_time": "2021-07-08T05:45:01.020Z"
   },
   {
    "duration": 11,
    "start_time": "2021-07-08T05:45:01.029Z"
   },
   {
    "duration": 6,
    "start_time": "2021-07-08T05:45:01.041Z"
   },
   {
    "duration": 12,
    "start_time": "2021-07-08T05:45:01.048Z"
   },
   {
    "duration": 8,
    "start_time": "2021-07-08T05:45:01.061Z"
   },
   {
    "duration": 9,
    "start_time": "2021-07-08T05:45:01.070Z"
   },
   {
    "duration": 10,
    "start_time": "2021-07-08T05:45:01.081Z"
   },
   {
    "duration": 10,
    "start_time": "2021-07-08T05:45:01.093Z"
   },
   {
    "duration": 6,
    "start_time": "2021-07-08T05:45:01.104Z"
   },
   {
    "duration": 14,
    "start_time": "2021-07-08T05:45:01.111Z"
   },
   {
    "duration": 12,
    "start_time": "2021-07-08T05:45:01.126Z"
   },
   {
    "duration": 16389,
    "start_time": "2021-07-08T05:45:01.140Z"
   },
   {
    "duration": 11,
    "start_time": "2021-07-08T05:45:17.530Z"
   },
   {
    "duration": 33,
    "start_time": "2021-07-08T05:45:17.543Z"
   },
   {
    "duration": 19,
    "start_time": "2021-07-08T05:45:17.577Z"
   },
   {
    "duration": 467783,
    "start_time": "2021-07-08T05:45:17.598Z"
   },
   {
    "duration": 6,
    "start_time": "2021-07-08T05:53:05.382Z"
   },
   {
    "duration": 16,
    "start_time": "2021-07-08T05:53:05.389Z"
   },
   {
    "duration": 8,
    "start_time": "2021-07-08T05:53:05.406Z"
   },
   {
    "duration": 4,
    "start_time": "2021-07-08T05:59:59.053Z"
   },
   {
    "duration": 2,
    "start_time": "2021-07-08T06:00:21.044Z"
   },
   {
    "duration": 8,
    "start_time": "2021-07-08T06:01:17.349Z"
   },
   {
    "duration": 2,
    "start_time": "2021-07-08T06:01:17.867Z"
   },
   {
    "duration": 4,
    "start_time": "2021-07-08T06:01:18.090Z"
   },
   {
    "duration": 5,
    "start_time": "2021-07-08T06:01:19.202Z"
   },
   {
    "duration": 14661,
    "start_time": "2021-07-08T06:01:19.917Z"
   },
   {
    "duration": 5,
    "start_time": "2021-07-08T06:01:34.580Z"
   },
   {
    "duration": 34,
    "start_time": "2021-07-08T06:01:34.587Z"
   },
   {
    "duration": 34,
    "start_time": "2021-07-08T06:01:34.623Z"
   },
   {
    "duration": 472115,
    "start_time": "2021-07-08T06:01:34.658Z"
   },
   {
    "duration": 5,
    "start_time": "2021-07-08T06:09:26.775Z"
   },
   {
    "duration": 10,
    "start_time": "2021-07-08T06:09:26.781Z"
   },
   {
    "duration": 7,
    "start_time": "2021-07-08T06:09:26.793Z"
   },
   {
    "duration": 2,
    "start_time": "2021-07-08T06:17:50.369Z"
   },
   {
    "duration": 4,
    "start_time": "2021-07-08T06:18:15.947Z"
   },
   {
    "duration": 8,
    "start_time": "2021-07-08T06:18:22.973Z"
   },
   {
    "duration": 3,
    "start_time": "2021-07-08T06:18:23.943Z"
   },
   {
    "duration": 4,
    "start_time": "2021-07-08T06:18:24.491Z"
   },
   {
    "duration": 5,
    "start_time": "2021-07-08T06:18:28.670Z"
   },
   {
    "duration": 15094,
    "start_time": "2021-07-08T06:18:59.076Z"
   },
   {
    "duration": 6,
    "start_time": "2021-07-08T06:19:14.171Z"
   },
   {
    "duration": 38,
    "start_time": "2021-07-08T06:19:14.178Z"
   },
   {
    "duration": 25,
    "start_time": "2021-07-08T06:19:16.395Z"
   },
   {
    "duration": 275,
    "start_time": "2021-07-08T06:20:23.938Z"
   },
   {
    "duration": 2,
    "start_time": "2021-07-08T06:21:04.492Z"
   },
   {
    "duration": 7,
    "start_time": "2021-07-08T06:21:27.235Z"
   },
   {
    "duration": 5,
    "start_time": "2021-07-08T06:21:27.244Z"
   },
   {
    "duration": 5,
    "start_time": "2021-07-08T06:21:28.010Z"
   },
   {
    "duration": 5,
    "start_time": "2021-07-08T06:21:29.643Z"
   },
   {
    "duration": 15381,
    "start_time": "2021-07-08T06:21:31.712Z"
   },
   {
    "duration": 5,
    "start_time": "2021-07-08T06:21:47.095Z"
   },
   {
    "duration": 43,
    "start_time": "2021-07-08T06:21:47.102Z"
   },
   {
    "duration": 25,
    "start_time": "2021-07-08T06:21:47.146Z"
   },
   {
    "duration": 485745,
    "start_time": "2021-07-08T06:21:47.172Z"
   },
   {
    "duration": 7,
    "start_time": "2021-07-08T06:29:52.918Z"
   },
   {
    "duration": 10,
    "start_time": "2021-07-08T06:29:52.926Z"
   },
   {
    "duration": 8,
    "start_time": "2021-07-08T06:29:52.938Z"
   },
   {
    "duration": 3,
    "start_time": "2021-07-08T06:54:10.437Z"
   },
   {
    "duration": 4,
    "start_time": "2021-07-08T06:54:41.841Z"
   },
   {
    "duration": 8,
    "start_time": "2021-07-08T06:54:48.721Z"
   },
   {
    "duration": 3,
    "start_time": "2021-07-08T06:54:49.185Z"
   },
   {
    "duration": 4,
    "start_time": "2021-07-08T06:54:49.789Z"
   },
   {
    "duration": 5,
    "start_time": "2021-07-08T06:54:53.773Z"
   },
   {
    "duration": 15860,
    "start_time": "2021-07-08T06:54:54.336Z"
   },
   {
    "duration": 6,
    "start_time": "2021-07-08T06:55:10.198Z"
   },
   {
    "duration": 42,
    "start_time": "2021-07-08T06:55:10.206Z"
   },
   {
    "duration": 21,
    "start_time": "2021-07-08T06:55:10.249Z"
   },
   {
    "duration": 478014,
    "start_time": "2021-07-08T06:55:10.271Z"
   },
   {
    "duration": 6,
    "start_time": "2021-07-08T07:03:08.287Z"
   },
   {
    "duration": 11,
    "start_time": "2021-07-08T07:03:08.294Z"
   },
   {
    "duration": 8,
    "start_time": "2021-07-08T07:03:08.307Z"
   },
   {
    "duration": 3,
    "start_time": "2021-07-08T07:21:41.686Z"
   },
   {
    "duration": 7,
    "start_time": "2021-07-08T07:22:01.042Z"
   },
   {
    "duration": 3,
    "start_time": "2021-07-08T07:22:01.338Z"
   },
   {
    "duration": 5,
    "start_time": "2021-07-08T07:22:01.598Z"
   },
   {
    "duration": 5,
    "start_time": "2021-07-08T07:22:02.076Z"
   },
   {
    "duration": 15371,
    "start_time": "2021-07-08T07:22:02.310Z"
   },
   {
    "duration": 5,
    "start_time": "2021-07-08T07:22:17.683Z"
   },
   {
    "duration": 43,
    "start_time": "2021-07-08T07:22:17.690Z"
   },
   {
    "duration": 26,
    "start_time": "2021-07-08T07:22:17.734Z"
   },
   {
    "duration": 515305,
    "start_time": "2021-07-08T07:22:17.762Z"
   },
   {
    "duration": 6,
    "start_time": "2021-07-08T07:30:53.069Z"
   },
   {
    "duration": 11,
    "start_time": "2021-07-08T07:30:53.076Z"
   },
   {
    "duration": 8,
    "start_time": "2021-07-08T07:30:53.089Z"
   },
   {
    "duration": 4,
    "start_time": "2021-07-08T07:31:26.184Z"
   },
   {
    "duration": 7,
    "start_time": "2021-07-08T07:31:31.585Z"
   },
   {
    "duration": 3,
    "start_time": "2021-07-08T07:31:31.853Z"
   },
   {
    "duration": 5,
    "start_time": "2021-07-08T07:31:32.081Z"
   },
   {
    "duration": 5,
    "start_time": "2021-07-08T07:31:32.446Z"
   },
   {
    "duration": 16466,
    "start_time": "2021-07-08T07:31:32.639Z"
   },
   {
    "duration": 5,
    "start_time": "2021-07-08T07:31:49.107Z"
   },
   {
    "duration": 56,
    "start_time": "2021-07-08T07:31:49.114Z"
   },
   {
    "duration": 28,
    "start_time": "2021-07-08T07:31:49.172Z"
   },
   {
    "duration": 497815,
    "start_time": "2021-07-08T07:31:49.201Z"
   },
   {
    "duration": 5,
    "start_time": "2021-07-08T07:40:07.018Z"
   },
   {
    "duration": 10,
    "start_time": "2021-07-08T07:40:07.025Z"
   },
   {
    "duration": 8,
    "start_time": "2021-07-08T07:40:07.037Z"
   },
   {
    "duration": 8,
    "start_time": "2021-07-08T07:40:27.139Z"
   },
   {
    "duration": 10,
    "start_time": "2021-07-08T07:40:32.366Z"
   },
   {
    "duration": 1560,
    "start_time": "2021-07-08T11:24:51.415Z"
   },
   {
    "duration": 120,
    "start_time": "2021-07-08T11:24:52.979Z"
   },
   {
    "duration": 5,
    "start_time": "2021-07-08T11:24:53.102Z"
   },
   {
    "duration": 124,
    "start_time": "2021-07-08T11:24:53.111Z"
   },
   {
    "duration": 39,
    "start_time": "2021-07-08T11:24:53.238Z"
   },
   {
    "duration": 28,
    "start_time": "2021-07-08T11:24:53.280Z"
   },
   {
    "duration": 46,
    "start_time": "2021-07-08T11:24:53.310Z"
   },
   {
    "duration": 24,
    "start_time": "2021-07-08T11:24:53.360Z"
   },
   {
    "duration": 16,
    "start_time": "2021-07-08T11:24:53.387Z"
   },
   {
    "duration": 82,
    "start_time": "2021-07-08T11:24:53.406Z"
   },
   {
    "duration": 8,
    "start_time": "2021-07-08T11:24:53.491Z"
   },
   {
    "duration": 10,
    "start_time": "2021-07-08T11:24:53.502Z"
   },
   {
    "duration": 17,
    "start_time": "2021-07-08T11:24:53.514Z"
   },
   {
    "duration": 42,
    "start_time": "2021-07-08T11:24:53.533Z"
   },
   {
    "duration": 7,
    "start_time": "2021-07-08T11:24:53.578Z"
   },
   {
    "duration": 10,
    "start_time": "2021-07-08T11:24:53.589Z"
   },
   {
    "duration": 9,
    "start_time": "2021-07-08T11:24:53.602Z"
   },
   {
    "duration": 55,
    "start_time": "2021-07-08T11:24:53.614Z"
   },
   {
    "duration": 873,
    "start_time": "2021-07-08T11:24:53.672Z"
   },
   {
    "duration": 10,
    "start_time": "2021-07-08T11:24:54.556Z"
   },
   {
    "duration": 19,
    "start_time": "2021-07-08T11:24:54.568Z"
   },
   {
    "duration": 24,
    "start_time": "2021-07-08T11:24:54.590Z"
   },
   {
    "duration": 138,
    "start_time": "2021-07-08T11:24:54.617Z"
   },
   {
    "duration": 10,
    "start_time": "2021-07-08T11:24:54.758Z"
   },
   {
    "duration": 7,
    "start_time": "2021-07-08T11:24:54.771Z"
   },
   {
    "duration": 13,
    "start_time": "2021-07-08T11:24:54.787Z"
   },
   {
    "duration": 15,
    "start_time": "2021-07-08T11:24:54.803Z"
   },
   {
    "duration": 62,
    "start_time": "2021-07-08T11:24:54.821Z"
   },
   {
    "duration": 37,
    "start_time": "2021-07-08T11:24:54.886Z"
   },
   {
    "duration": 7,
    "start_time": "2021-07-08T11:24:54.926Z"
   },
   {
    "duration": 29,
    "start_time": "2021-07-08T11:24:54.935Z"
   },
   {
    "duration": 17,
    "start_time": "2021-07-08T11:24:54.967Z"
   },
   {
    "duration": 24,
    "start_time": "2021-07-08T11:24:54.986Z"
   },
   {
    "duration": 16,
    "start_time": "2021-07-08T11:24:55.012Z"
   },
   {
    "duration": 13,
    "start_time": "2021-07-08T11:24:55.031Z"
   },
   {
    "duration": 17,
    "start_time": "2021-07-08T11:24:55.047Z"
   },
   {
    "duration": 10,
    "start_time": "2021-07-08T11:24:55.067Z"
   },
   {
    "duration": 21,
    "start_time": "2021-07-08T11:24:55.080Z"
   },
   {
    "duration": 16,
    "start_time": "2021-07-08T11:24:55.103Z"
   },
   {
    "duration": 17,
    "start_time": "2021-07-08T11:24:55.122Z"
   },
   {
    "duration": 8,
    "start_time": "2021-07-08T11:24:55.141Z"
   },
   {
    "duration": 12,
    "start_time": "2021-07-08T11:24:55.151Z"
   },
   {
    "duration": 6,
    "start_time": "2021-07-08T11:24:55.167Z"
   },
   {
    "duration": 12,
    "start_time": "2021-07-08T11:24:55.175Z"
   },
   {
    "duration": 15,
    "start_time": "2021-07-08T11:24:55.189Z"
   },
   {
    "duration": 4,
    "start_time": "2021-07-08T11:24:55.206Z"
   },
   {
    "duration": 10,
    "start_time": "2021-07-08T11:24:55.212Z"
   },
   {
    "duration": 39,
    "start_time": "2021-07-08T11:24:55.224Z"
   },
   {
    "duration": 30739,
    "start_time": "2021-07-08T11:24:55.268Z"
   },
   {
    "duration": 9,
    "start_time": "2021-07-08T11:25:26.009Z"
   },
   {
    "duration": 83,
    "start_time": "2021-07-08T11:25:26.021Z"
   },
   {
    "duration": 77,
    "start_time": "2021-07-08T11:25:26.107Z"
   },
   {
    "duration": 838186,
    "start_time": "2021-07-08T11:25:26.187Z"
   },
   {
    "duration": 9,
    "start_time": "2021-07-08T11:39:24.375Z"
   },
   {
    "duration": 30,
    "start_time": "2021-07-08T11:39:24.387Z"
   },
   {
    "duration": 36,
    "start_time": "2021-07-08T11:39:24.420Z"
   },
   {
    "duration": 433,
    "start_time": "2021-07-08T12:41:31.965Z"
   },
   {
    "duration": 267,
    "start_time": "2021-07-08T12:41:39.016Z"
   },
   {
    "duration": 6,
    "start_time": "2021-07-08T12:41:43.664Z"
   },
   {
    "duration": 36,
    "start_time": "2021-07-08T12:42:02.549Z"
   },
   {
    "duration": 12,
    "start_time": "2021-07-08T12:42:36.304Z"
   },
   {
    "duration": 7,
    "start_time": "2021-07-08T12:42:39.065Z"
   },
   {
    "duration": 12,
    "start_time": "2021-07-08T12:42:39.532Z"
   },
   {
    "duration": 1575,
    "start_time": "2021-07-08T12:44:08.317Z"
   },
   {
    "duration": 120,
    "start_time": "2021-07-08T12:44:09.895Z"
   },
   {
    "duration": 4,
    "start_time": "2021-07-08T12:44:10.018Z"
   },
   {
    "duration": 136,
    "start_time": "2021-07-08T12:44:10.026Z"
   },
   {
    "duration": 6,
    "start_time": "2021-07-08T12:44:10.169Z"
   },
   {
    "duration": 34,
    "start_time": "2021-07-08T12:44:10.178Z"
   },
   {
    "duration": 51,
    "start_time": "2021-07-08T12:44:10.214Z"
   },
   {
    "duration": 27,
    "start_time": "2021-07-08T12:44:10.270Z"
   },
   {
    "duration": 24,
    "start_time": "2021-07-08T12:44:10.300Z"
   },
   {
    "duration": 39,
    "start_time": "2021-07-08T12:44:10.326Z"
   },
   {
    "duration": 53,
    "start_time": "2021-07-08T12:44:10.367Z"
   },
   {
    "duration": 48,
    "start_time": "2021-07-08T12:44:10.422Z"
   },
   {
    "duration": 18,
    "start_time": "2021-07-08T12:44:10.474Z"
   },
   {
    "duration": 9,
    "start_time": "2021-07-08T12:44:10.495Z"
   },
   {
    "duration": 17,
    "start_time": "2021-07-08T12:44:10.506Z"
   },
   {
    "duration": 33,
    "start_time": "2021-07-08T12:44:10.526Z"
   },
   {
    "duration": 16,
    "start_time": "2021-07-08T12:44:10.562Z"
   },
   {
    "duration": 10,
    "start_time": "2021-07-08T12:44:10.581Z"
   },
   {
    "duration": 21,
    "start_time": "2021-07-08T12:44:10.593Z"
   },
   {
    "duration": 1041,
    "start_time": "2021-07-08T12:44:10.617Z"
   },
   {
    "duration": 9,
    "start_time": "2021-07-08T12:44:11.662Z"
   },
   {
    "duration": 20,
    "start_time": "2021-07-08T12:44:11.674Z"
   },
   {
    "duration": 22,
    "start_time": "2021-07-08T12:44:11.701Z"
   },
   {
    "duration": 178,
    "start_time": "2021-07-08T12:44:11.726Z"
   },
   {
    "duration": 4,
    "start_time": "2021-07-08T12:44:11.906Z"
   },
   {
    "duration": 15,
    "start_time": "2021-07-08T12:44:11.912Z"
   },
   {
    "duration": 25,
    "start_time": "2021-07-08T12:44:11.929Z"
   },
   {
    "duration": 26,
    "start_time": "2021-07-08T12:44:11.960Z"
   },
   {
    "duration": 22,
    "start_time": "2021-07-08T12:44:11.991Z"
   },
   {
    "duration": 105,
    "start_time": "2021-07-08T12:44:12.016Z"
   },
   {
    "duration": 6,
    "start_time": "2021-07-08T12:44:12.124Z"
   },
   {
    "duration": 12,
    "start_time": "2021-07-08T12:44:12.133Z"
   },
   {
    "duration": 29,
    "start_time": "2021-07-08T12:44:12.148Z"
   },
   {
    "duration": 17,
    "start_time": "2021-07-08T12:44:12.180Z"
   },
   {
    "duration": 14,
    "start_time": "2021-07-08T12:44:12.201Z"
   },
   {
    "duration": 15,
    "start_time": "2021-07-08T12:44:12.217Z"
   },
   {
    "duration": 16,
    "start_time": "2021-07-08T12:44:12.235Z"
   },
   {
    "duration": 44,
    "start_time": "2021-07-08T12:44:12.254Z"
   },
   {
    "duration": 14,
    "start_time": "2021-07-08T12:44:12.301Z"
   },
   {
    "duration": 17,
    "start_time": "2021-07-08T12:44:12.317Z"
   },
   {
    "duration": 14,
    "start_time": "2021-07-08T12:44:12.337Z"
   },
   {
    "duration": 35,
    "start_time": "2021-07-08T12:44:12.354Z"
   },
   {
    "duration": 13,
    "start_time": "2021-07-08T12:44:12.392Z"
   },
   {
    "duration": 10,
    "start_time": "2021-07-08T12:44:12.408Z"
   },
   {
    "duration": 11,
    "start_time": "2021-07-08T12:44:12.420Z"
   },
   {
    "duration": 15,
    "start_time": "2021-07-08T12:44:12.433Z"
   },
   {
    "duration": 4,
    "start_time": "2021-07-08T12:44:12.450Z"
   },
   {
    "duration": 16,
    "start_time": "2021-07-08T12:44:12.456Z"
   },
   {
    "duration": 19,
    "start_time": "2021-07-08T12:44:12.476Z"
   },
   {
    "duration": 468,
    "start_time": "2021-07-08T12:44:12.498Z"
   },
   {
    "duration": 18,
    "start_time": "2021-07-08T12:44:12.969Z"
   },
   {
    "duration": 305,
    "start_time": "2021-07-08T12:44:12.990Z"
   },
   {
    "duration": -447,
    "start_time": "2021-07-08T12:44:13.744Z"
   },
   {
    "duration": -447,
    "start_time": "2021-07-08T12:44:13.745Z"
   },
   {
    "duration": -445,
    "start_time": "2021-07-08T12:44:13.745Z"
   },
   {
    "duration": -444,
    "start_time": "2021-07-08T12:44:13.746Z"
   },
   {
    "duration": -444,
    "start_time": "2021-07-08T12:44:13.747Z"
   },
   {
    "duration": 1829,
    "start_time": "2021-07-08T12:46:01.362Z"
   },
   {
    "duration": 2038,
    "start_time": "2021-07-08T12:46:03.194Z"
   },
   {
    "duration": 6,
    "start_time": "2021-07-08T12:46:05.236Z"
   },
   {
    "duration": 155,
    "start_time": "2021-07-08T12:46:05.246Z"
   },
   {
    "duration": 5,
    "start_time": "2021-07-08T12:46:05.404Z"
   },
   {
    "duration": 47,
    "start_time": "2021-07-08T12:46:05.411Z"
   },
   {
    "duration": 32,
    "start_time": "2021-07-08T12:46:05.464Z"
   },
   {
    "duration": 24,
    "start_time": "2021-07-08T12:46:05.499Z"
   },
   {
    "duration": 58,
    "start_time": "2021-07-08T12:46:05.527Z"
   },
   {
    "duration": 17,
    "start_time": "2021-07-08T12:46:05.588Z"
   },
   {
    "duration": 53,
    "start_time": "2021-07-08T12:46:05.607Z"
   },
   {
    "duration": 11,
    "start_time": "2021-07-08T12:46:05.663Z"
   },
   {
    "duration": 13,
    "start_time": "2021-07-08T12:46:05.676Z"
   },
   {
    "duration": 11,
    "start_time": "2021-07-08T12:46:05.692Z"
   },
   {
    "duration": 55,
    "start_time": "2021-07-08T12:46:05.706Z"
   },
   {
    "duration": 9,
    "start_time": "2021-07-08T12:46:05.764Z"
   },
   {
    "duration": 26,
    "start_time": "2021-07-08T12:46:05.776Z"
   },
   {
    "duration": 15,
    "start_time": "2021-07-08T12:46:05.804Z"
   },
   {
    "duration": 19,
    "start_time": "2021-07-08T12:46:05.822Z"
   },
   {
    "duration": 970,
    "start_time": "2021-07-08T12:46:05.844Z"
   },
   {
    "duration": 8,
    "start_time": "2021-07-08T12:46:06.816Z"
   },
   {
    "duration": 35,
    "start_time": "2021-07-08T12:46:06.827Z"
   },
   {
    "duration": 23,
    "start_time": "2021-07-08T12:46:06.869Z"
   },
   {
    "duration": 139,
    "start_time": "2021-07-08T12:46:06.896Z"
   },
   {
    "duration": 21,
    "start_time": "2021-07-08T12:46:07.038Z"
   },
   {
    "duration": 6,
    "start_time": "2021-07-08T12:46:07.061Z"
   },
   {
    "duration": 74,
    "start_time": "2021-07-08T12:46:07.070Z"
   },
   {
    "duration": 18,
    "start_time": "2021-07-08T12:46:07.156Z"
   },
   {
    "duration": 124,
    "start_time": "2021-07-08T12:46:07.176Z"
   },
   {
    "duration": 44,
    "start_time": "2021-07-08T12:46:07.303Z"
   },
   {
    "duration": 4,
    "start_time": "2021-07-08T12:46:07.356Z"
   },
   {
    "duration": 13,
    "start_time": "2021-07-08T12:46:07.363Z"
   },
   {
    "duration": 5,
    "start_time": "2021-07-08T12:46:07.379Z"
   },
   {
    "duration": 17,
    "start_time": "2021-07-08T12:46:07.386Z"
   },
   {
    "duration": 7,
    "start_time": "2021-07-08T12:46:07.406Z"
   },
   {
    "duration": 10,
    "start_time": "2021-07-08T12:46:07.415Z"
   },
   {
    "duration": 6,
    "start_time": "2021-07-08T12:46:07.427Z"
   },
   {
    "duration": 20,
    "start_time": "2021-07-08T12:46:07.436Z"
   },
   {
    "duration": 16,
    "start_time": "2021-07-08T12:46:07.459Z"
   },
   {
    "duration": 23,
    "start_time": "2021-07-08T12:46:07.477Z"
   },
   {
    "duration": 7,
    "start_time": "2021-07-08T12:46:07.502Z"
   },
   {
    "duration": 7,
    "start_time": "2021-07-08T12:46:07.512Z"
   },
   {
    "duration": 6,
    "start_time": "2021-07-08T12:46:07.521Z"
   },
   {
    "duration": 6,
    "start_time": "2021-07-08T12:46:07.530Z"
   },
   {
    "duration": 25,
    "start_time": "2021-07-08T12:46:07.538Z"
   },
   {
    "duration": 17,
    "start_time": "2021-07-08T12:46:07.566Z"
   },
   {
    "duration": 4,
    "start_time": "2021-07-08T12:46:07.585Z"
   },
   {
    "duration": 10,
    "start_time": "2021-07-08T12:46:07.592Z"
   },
   {
    "duration": 12,
    "start_time": "2021-07-08T12:46:07.604Z"
   },
   {
    "duration": 405,
    "start_time": "2021-07-08T12:46:07.618Z"
   },
   {
    "duration": 8,
    "start_time": "2021-07-08T12:46:08.025Z"
   },
   {
    "duration": 267,
    "start_time": "2021-07-08T12:46:08.035Z"
   },
   {
    "duration": 49,
    "start_time": "2021-07-08T12:46:08.256Z"
   },
   {
    "duration": 51,
    "start_time": "2021-07-08T12:46:08.256Z"
   },
   {
    "duration": 51,
    "start_time": "2021-07-08T12:46:08.257Z"
   },
   {
    "duration": 52,
    "start_time": "2021-07-08T12:46:08.258Z"
   },
   {
    "duration": 52,
    "start_time": "2021-07-08T12:46:08.259Z"
   },
   {
    "duration": 1605,
    "start_time": "2021-07-08T12:46:52.744Z"
   },
   {
    "duration": 119,
    "start_time": "2021-07-08T12:46:54.351Z"
   },
   {
    "duration": 6,
    "start_time": "2021-07-08T12:46:54.473Z"
   },
   {
    "duration": 127,
    "start_time": "2021-07-08T12:46:54.481Z"
   },
   {
    "duration": 7,
    "start_time": "2021-07-08T12:46:54.611Z"
   },
   {
    "duration": 52,
    "start_time": "2021-07-08T12:46:54.621Z"
   },
   {
    "duration": 30,
    "start_time": "2021-07-08T12:46:54.676Z"
   },
   {
    "duration": 55,
    "start_time": "2021-07-08T12:46:54.711Z"
   },
   {
    "duration": 23,
    "start_time": "2021-07-08T12:46:54.771Z"
   },
   {
    "duration": 15,
    "start_time": "2021-07-08T12:46:54.796Z"
   },
   {
    "duration": 66,
    "start_time": "2021-07-08T12:46:54.814Z"
   },
   {
    "duration": 9,
    "start_time": "2021-07-08T12:46:54.883Z"
   },
   {
    "duration": 10,
    "start_time": "2021-07-08T12:46:54.894Z"
   },
   {
    "duration": 19,
    "start_time": "2021-07-08T12:46:54.907Z"
   },
   {
    "duration": 45,
    "start_time": "2021-07-08T12:46:54.929Z"
   },
   {
    "duration": 6,
    "start_time": "2021-07-08T12:46:54.976Z"
   },
   {
    "duration": 9,
    "start_time": "2021-07-08T12:46:54.985Z"
   },
   {
    "duration": 7,
    "start_time": "2021-07-08T12:46:54.996Z"
   },
   {
    "duration": 14,
    "start_time": "2021-07-08T12:46:55.006Z"
   },
   {
    "duration": 966,
    "start_time": "2021-07-08T12:46:55.022Z"
   },
   {
    "duration": 7,
    "start_time": "2021-07-08T12:46:55.990Z"
   },
   {
    "duration": 16,
    "start_time": "2021-07-08T12:46:56.000Z"
   },
   {
    "duration": 51,
    "start_time": "2021-07-08T12:46:56.022Z"
   },
   {
    "duration": 130,
    "start_time": "2021-07-08T12:46:56.078Z"
   },
   {
    "duration": 4,
    "start_time": "2021-07-08T12:46:56.210Z"
   },
   {
    "duration": 9,
    "start_time": "2021-07-08T12:46:56.216Z"
   },
   {
    "duration": 7141,
    "start_time": "2021-07-08T12:46:56.227Z"
   },
   {
    "duration": -31,
    "start_time": "2021-07-08T12:47:03.404Z"
   },
   {
    "duration": -26,
    "start_time": "2021-07-08T12:47:03.406Z"
   },
   {
    "duration": -25,
    "start_time": "2021-07-08T12:47:03.407Z"
   },
   {
    "duration": -25,
    "start_time": "2021-07-08T12:47:03.408Z"
   },
   {
    "duration": -25,
    "start_time": "2021-07-08T12:47:03.409Z"
   },
   {
    "duration": -25,
    "start_time": "2021-07-08T12:47:03.410Z"
   },
   {
    "duration": -25,
    "start_time": "2021-07-08T12:47:03.411Z"
   },
   {
    "duration": -25,
    "start_time": "2021-07-08T12:47:03.412Z"
   },
   {
    "duration": -25,
    "start_time": "2021-07-08T12:47:03.413Z"
   },
   {
    "duration": -25,
    "start_time": "2021-07-08T12:47:03.414Z"
   },
   {
    "duration": -24,
    "start_time": "2021-07-08T12:47:03.414Z"
   },
   {
    "duration": -24,
    "start_time": "2021-07-08T12:47:03.415Z"
   },
   {
    "duration": -24,
    "start_time": "2021-07-08T12:47:03.416Z"
   },
   {
    "duration": -23,
    "start_time": "2021-07-08T12:47:03.417Z"
   },
   {
    "duration": -23,
    "start_time": "2021-07-08T12:47:03.418Z"
   },
   {
    "duration": -23,
    "start_time": "2021-07-08T12:47:03.419Z"
   },
   {
    "duration": -23,
    "start_time": "2021-07-08T12:47:03.420Z"
   },
   {
    "duration": -22,
    "start_time": "2021-07-08T12:47:03.421Z"
   },
   {
    "duration": -22,
    "start_time": "2021-07-08T12:47:03.422Z"
   },
   {
    "duration": -21,
    "start_time": "2021-07-08T12:47:03.423Z"
   },
   {
    "duration": -21,
    "start_time": "2021-07-08T12:47:03.424Z"
   },
   {
    "duration": -29,
    "start_time": "2021-07-08T12:47:03.434Z"
   },
   {
    "duration": -29,
    "start_time": "2021-07-08T12:47:03.435Z"
   },
   {
    "duration": -29,
    "start_time": "2021-07-08T12:47:03.436Z"
   },
   {
    "duration": -28,
    "start_time": "2021-07-08T12:47:03.437Z"
   },
   {
    "duration": -27,
    "start_time": "2021-07-08T12:47:03.437Z"
   },
   {
    "duration": -27,
    "start_time": "2021-07-08T12:47:03.438Z"
   },
   {
    "duration": -27,
    "start_time": "2021-07-08T12:47:03.439Z"
   },
   {
    "duration": -27,
    "start_time": "2021-07-08T12:47:03.440Z"
   },
   {
    "duration": -25,
    "start_time": "2021-07-08T12:47:03.440Z"
   },
   {
    "duration": 3,
    "start_time": "2021-07-08T12:47:44.477Z"
   },
   {
    "duration": 60,
    "start_time": "2021-07-08T12:47:45.138Z"
   },
   {
    "duration": 15,
    "start_time": "2021-07-08T12:47:46.342Z"
   },
   {
    "duration": 287,
    "start_time": "2021-07-08T12:47:47.502Z"
   },
   {
    "duration": 695,
    "start_time": "2021-07-08T12:48:09.454Z"
   },
   {
    "duration": 1641,
    "start_time": "2021-07-08T12:49:33.919Z"
   },
   {
    "duration": 118,
    "start_time": "2021-07-08T12:49:35.565Z"
   },
   {
    "duration": 5,
    "start_time": "2021-07-08T12:49:35.687Z"
   },
   {
    "duration": 124,
    "start_time": "2021-07-08T12:49:35.694Z"
   },
   {
    "duration": 7,
    "start_time": "2021-07-08T12:49:35.821Z"
   },
   {
    "duration": 57,
    "start_time": "2021-07-08T12:49:35.830Z"
   },
   {
    "duration": 29,
    "start_time": "2021-07-08T12:49:35.890Z"
   },
   {
    "duration": 42,
    "start_time": "2021-07-08T12:49:35.921Z"
   },
   {
    "duration": 25,
    "start_time": "2021-07-08T12:49:35.967Z"
   },
   {
    "duration": 24,
    "start_time": "2021-07-08T12:49:35.996Z"
   },
   {
    "duration": 69,
    "start_time": "2021-07-08T12:49:36.023Z"
   },
   {
    "duration": 7,
    "start_time": "2021-07-08T12:49:36.095Z"
   },
   {
    "duration": 10,
    "start_time": "2021-07-08T12:49:36.105Z"
   },
   {
    "duration": 40,
    "start_time": "2021-07-08T12:49:36.117Z"
   },
   {
    "duration": 19,
    "start_time": "2021-07-08T12:49:36.161Z"
   },
   {
    "duration": 9,
    "start_time": "2021-07-08T12:49:36.183Z"
   },
   {
    "duration": 16,
    "start_time": "2021-07-08T12:49:36.195Z"
   },
   {
    "duration": 12,
    "start_time": "2021-07-08T12:49:36.213Z"
   },
   {
    "duration": 37,
    "start_time": "2021-07-08T12:49:36.228Z"
   },
   {
    "duration": 857,
    "start_time": "2021-07-08T12:49:36.270Z"
   },
   {
    "duration": 9,
    "start_time": "2021-07-08T12:49:37.130Z"
   },
   {
    "duration": 23,
    "start_time": "2021-07-08T12:49:37.156Z"
   },
   {
    "duration": 21,
    "start_time": "2021-07-08T12:49:37.182Z"
   },
   {
    "duration": 139,
    "start_time": "2021-07-08T12:49:37.206Z"
   },
   {
    "duration": 10,
    "start_time": "2021-07-08T12:49:37.347Z"
   },
   {
    "duration": 10,
    "start_time": "2021-07-08T12:49:37.361Z"
   },
   {
    "duration": 86,
    "start_time": "2021-07-08T12:49:37.379Z"
   },
   {
    "duration": 16,
    "start_time": "2021-07-08T12:49:37.470Z"
   },
   {
    "duration": 131,
    "start_time": "2021-07-08T12:49:37.488Z"
   },
   {
    "duration": 56,
    "start_time": "2021-07-08T12:49:37.621Z"
   },
   {
    "duration": 3,
    "start_time": "2021-07-08T12:49:37.680Z"
   },
   {
    "duration": 5,
    "start_time": "2021-07-08T12:49:37.686Z"
   },
   {
    "duration": 11,
    "start_time": "2021-07-08T12:49:37.693Z"
   },
   {
    "duration": 9,
    "start_time": "2021-07-08T12:49:37.707Z"
   },
   {
    "duration": 9,
    "start_time": "2021-07-08T12:49:37.718Z"
   },
   {
    "duration": 8,
    "start_time": "2021-07-08T12:49:37.729Z"
   },
   {
    "duration": 4,
    "start_time": "2021-07-08T12:49:37.756Z"
   },
   {
    "duration": 11,
    "start_time": "2021-07-08T12:49:37.763Z"
   },
   {
    "duration": 18,
    "start_time": "2021-07-08T12:49:37.776Z"
   },
   {
    "duration": 10,
    "start_time": "2021-07-08T12:49:37.796Z"
   },
   {
    "duration": 9,
    "start_time": "2021-07-08T12:49:37.808Z"
   },
   {
    "duration": 16,
    "start_time": "2021-07-08T12:49:37.819Z"
   },
   {
    "duration": 13,
    "start_time": "2021-07-08T12:49:37.838Z"
   },
   {
    "duration": 16,
    "start_time": "2021-07-08T12:49:37.853Z"
   },
   {
    "duration": 17,
    "start_time": "2021-07-08T12:49:37.872Z"
   },
   {
    "duration": 21,
    "start_time": "2021-07-08T12:49:37.891Z"
   },
   {
    "duration": 4,
    "start_time": "2021-07-08T12:49:37.914Z"
   },
   {
    "duration": 14,
    "start_time": "2021-07-08T12:49:37.921Z"
   },
   {
    "duration": 14,
    "start_time": "2021-07-08T12:49:37.938Z"
   },
   {
    "duration": 30948,
    "start_time": "2021-07-08T12:49:37.965Z"
   },
   {
    "duration": 9,
    "start_time": "2021-07-08T12:50:08.915Z"
   },
   {
    "duration": 85,
    "start_time": "2021-07-08T12:50:08.927Z"
   },
   {
    "duration": 64,
    "start_time": "2021-07-08T12:50:09.014Z"
   },
   {
    "duration": 920894,
    "start_time": "2021-07-08T12:50:09.080Z"
   },
   {
    "duration": 8,
    "start_time": "2021-07-08T13:05:29.977Z"
   },
   {
    "duration": 22,
    "start_time": "2021-07-08T13:05:29.987Z"
   },
   {
    "duration": 65,
    "start_time": "2021-07-08T13:05:30.011Z"
   },
   {
    "duration": 6939,
    "start_time": "2021-07-08T13:05:30.082Z"
   },
   {
    "duration": 44,
    "start_time": "2021-07-08T13:05:36.980Z"
   },
   {
    "duration": 44,
    "start_time": "2021-07-08T13:05:36.981Z"
   },
   {
    "duration": 44,
    "start_time": "2021-07-08T13:05:36.982Z"
   },
   {
    "duration": 181,
    "start_time": "2021-07-08T13:05:41.927Z"
   },
   {
    "duration": 12,
    "start_time": "2021-07-08T13:05:42.240Z"
   },
   {
    "duration": 172,
    "start_time": "2021-07-08T13:06:51.076Z"
   },
   {
    "duration": 182,
    "start_time": "2021-07-08T13:07:42.486Z"
   },
   {
    "duration": 5345287,
    "start_time": "2021-07-08T13:07:49.980Z"
   },
   {
    "duration": 9,
    "start_time": "2021-07-08T14:36:55.270Z"
   },
   {
    "duration": 74,
    "start_time": "2021-07-08T14:36:55.282Z"
   },
   {
    "duration": 1450,
    "start_time": "2021-07-08T14:51:43.002Z"
   },
   {
    "duration": 128,
    "start_time": "2021-07-08T14:51:44.455Z"
   },
   {
    "duration": 5,
    "start_time": "2021-07-08T14:51:44.586Z"
   },
   {
    "duration": 120,
    "start_time": "2021-07-08T14:51:44.593Z"
   },
   {
    "duration": 5,
    "start_time": "2021-07-08T14:51:44.715Z"
   },
   {
    "duration": 46,
    "start_time": "2021-07-08T14:51:44.723Z"
   },
   {
    "duration": 28,
    "start_time": "2021-07-08T14:51:44.772Z"
   },
   {
    "duration": 21,
    "start_time": "2021-07-08T14:51:44.803Z"
   },
   {
    "duration": 53,
    "start_time": "2021-07-08T14:51:44.828Z"
   },
   {
    "duration": 16,
    "start_time": "2021-07-08T14:51:44.884Z"
   },
   {
    "duration": 67,
    "start_time": "2021-07-08T14:51:44.903Z"
   },
   {
    "duration": 10,
    "start_time": "2021-07-08T14:51:44.973Z"
   },
   {
    "duration": 12,
    "start_time": "2021-07-08T14:51:44.985Z"
   },
   {
    "duration": 415,
    "start_time": "2021-07-08T14:51:45.000Z"
   },
   {
    "duration": 92,
    "start_time": "2021-07-08T14:51:45.329Z"
   },
   {
    "duration": 83,
    "start_time": "2021-07-08T14:51:45.340Z"
   },
   {
    "duration": 83,
    "start_time": "2021-07-08T14:51:45.342Z"
   },
   {
    "duration": 84,
    "start_time": "2021-07-08T14:51:45.343Z"
   },
   {
    "duration": 85,
    "start_time": "2021-07-08T14:51:45.344Z"
   },
   {
    "duration": 87,
    "start_time": "2021-07-08T14:51:45.345Z"
   },
   {
    "duration": 82,
    "start_time": "2021-07-08T14:51:45.352Z"
   },
   {
    "duration": 83,
    "start_time": "2021-07-08T14:51:45.353Z"
   },
   {
    "duration": 83,
    "start_time": "2021-07-08T14:51:45.355Z"
   },
   {
    "duration": 84,
    "start_time": "2021-07-08T14:51:45.356Z"
   },
   {
    "duration": 85,
    "start_time": "2021-07-08T14:51:45.357Z"
   },
   {
    "duration": 78,
    "start_time": "2021-07-08T14:51:45.366Z"
   },
   {
    "duration": 78,
    "start_time": "2021-07-08T14:51:45.368Z"
   },
   {
    "duration": 79,
    "start_time": "2021-07-08T14:51:45.369Z"
   },
   {
    "duration": 77,
    "start_time": "2021-07-08T14:51:45.373Z"
   },
   {
    "duration": 74,
    "start_time": "2021-07-08T14:51:45.378Z"
   },
   {
    "duration": 75,
    "start_time": "2021-07-08T14:51:45.379Z"
   },
   {
    "duration": 76,
    "start_time": "2021-07-08T14:51:45.380Z"
   },
   {
    "duration": 75,
    "start_time": "2021-07-08T14:51:45.384Z"
   },
   {
    "duration": 74,
    "start_time": "2021-07-08T14:51:45.388Z"
   },
   {
    "duration": 71,
    "start_time": "2021-07-08T14:51:45.393Z"
   },
   {
    "duration": 69,
    "start_time": "2021-07-08T14:51:45.397Z"
   },
   {
    "duration": 69,
    "start_time": "2021-07-08T14:51:45.399Z"
   },
   {
    "duration": 67,
    "start_time": "2021-07-08T14:51:45.403Z"
   },
   {
    "duration": 13,
    "start_time": "2021-07-08T14:51:45.460Z"
   },
   {
    "duration": 10,
    "start_time": "2021-07-08T14:51:45.465Z"
   },
   {
    "duration": -25,
    "start_time": "2021-07-08T14:51:45.501Z"
   },
   {
    "duration": -25,
    "start_time": "2021-07-08T14:51:45.503Z"
   },
   {
    "duration": -24,
    "start_time": "2021-07-08T14:51:45.504Z"
   },
   {
    "duration": -23,
    "start_time": "2021-07-08T14:51:45.505Z"
   },
   {
    "duration": -22,
    "start_time": "2021-07-08T14:51:45.506Z"
   },
   {
    "duration": -30,
    "start_time": "2021-07-08T14:51:45.516Z"
   },
   {
    "duration": -29,
    "start_time": "2021-07-08T14:51:45.517Z"
   },
   {
    "duration": -28,
    "start_time": "2021-07-08T14:51:45.518Z"
   },
   {
    "duration": -26,
    "start_time": "2021-07-08T14:51:45.518Z"
   },
   {
    "duration": -24,
    "start_time": "2021-07-08T14:51:45.519Z"
   },
   {
    "duration": -24,
    "start_time": "2021-07-08T14:51:45.520Z"
   },
   {
    "duration": -22,
    "start_time": "2021-07-08T14:51:45.521Z"
   },
   {
    "duration": -22,
    "start_time": "2021-07-08T14:51:45.522Z"
   },
   {
    "duration": -21,
    "start_time": "2021-07-08T14:51:45.523Z"
   },
   {
    "duration": 33,
    "start_time": "2021-07-08T14:51:45.524Z"
   },
   {
    "duration": 35,
    "start_time": "2021-07-08T14:51:45.524Z"
   },
   {
    "duration": 36,
    "start_time": "2021-07-08T14:51:45.525Z"
   },
   {
    "duration": 36,
    "start_time": "2021-07-08T14:51:45.526Z"
   },
   {
    "duration": 37,
    "start_time": "2021-07-08T14:51:45.527Z"
   },
   {
    "duration": 37,
    "start_time": "2021-07-08T14:51:45.528Z"
   },
   {
    "duration": 38,
    "start_time": "2021-07-08T14:51:45.528Z"
   },
   {
    "duration": 41,
    "start_time": "2021-07-08T14:51:45.529Z"
   },
   {
    "duration": 41,
    "start_time": "2021-07-08T14:51:45.530Z"
   },
   {
    "duration": 37,
    "start_time": "2021-07-08T14:51:45.535Z"
   },
   {
    "duration": 269,
    "start_time": "2021-07-08T14:53:20.648Z"
   },
   {
    "duration": 11,
    "start_time": "2021-07-08T14:53:49.854Z"
   },
   {
    "duration": 19,
    "start_time": "2021-07-08T14:53:51.706Z"
   },
   {
    "duration": 7,
    "start_time": "2021-07-08T14:53:57.204Z"
   },
   {
    "duration": 8,
    "start_time": "2021-07-08T14:53:59.148Z"
   },
   {
    "duration": 7,
    "start_time": "2021-07-08T14:54:01.415Z"
   },
   {
    "duration": 11,
    "start_time": "2021-07-08T14:54:02.614Z"
   },
   {
    "duration": 882,
    "start_time": "2021-07-08T14:54:18.532Z"
   },
   {
    "duration": 7,
    "start_time": "2021-07-08T14:54:57.025Z"
   },
   {
    "duration": 15,
    "start_time": "2021-07-08T14:54:59.497Z"
   },
   {
    "duration": 26,
    "start_time": "2021-07-08T14:55:00.772Z"
   },
   {
    "duration": 128,
    "start_time": "2021-07-08T14:55:03.308Z"
   },
   {
    "duration": 5,
    "start_time": "2021-07-08T14:55:11.949Z"
   },
   {
    "duration": 4,
    "start_time": "2021-07-08T14:55:12.809Z"
   },
   {
    "duration": 61,
    "start_time": "2021-07-08T14:55:14.713Z"
   },
   {
    "duration": 17,
    "start_time": "2021-07-08T14:55:23.324Z"
   },
   {
    "duration": 106,
    "start_time": "2021-07-08T14:55:26.532Z"
   },
   {
    "duration": 11438,
    "start_time": "2021-07-08T14:55:27.359Z"
   },
   {
    "duration": 33,
    "start_time": "2021-07-08T14:55:38.767Z"
   },
   {
    "duration": 32,
    "start_time": "2021-07-08T14:55:38.769Z"
   },
   {
    "duration": 8,
    "start_time": "2021-07-08T14:56:11.332Z"
   },
   {
    "duration": 6306,
    "start_time": "2021-07-08T14:56:21.782Z"
   },
   {
    "duration": -39,
    "start_time": "2021-07-08T14:56:28.130Z"
   },
   {
    "duration": 6,
    "start_time": "2021-07-08T14:56:45.703Z"
   },
   {
    "duration": 3,
    "start_time": "2021-07-08T14:56:59.159Z"
   },
   {
    "duration": 42,
    "start_time": "2021-07-08T14:57:00.329Z"
   },
   {
    "duration": 7,
    "start_time": "2021-07-08T14:57:07.254Z"
   },
   {
    "duration": 35,
    "start_time": "2021-07-08T14:57:14.676Z"
   },
   {
    "duration": 3,
    "start_time": "2021-07-08T14:57:15.750Z"
   },
   {
    "duration": 14,
    "start_time": "2021-07-08T14:57:19.547Z"
   },
   {
    "duration": 4,
    "start_time": "2021-07-08T14:57:20.020Z"
   },
   {
    "duration": 7,
    "start_time": "2021-07-08T14:57:20.542Z"
   },
   {
    "duration": 609,
    "start_time": "2021-07-08T14:57:21.051Z"
   },
   {
    "duration": 10,
    "start_time": "2021-07-08T14:57:22.139Z"
   },
   {
    "duration": 237,
    "start_time": "2021-07-08T14:58:05.042Z"
   },
   {
    "duration": 30050,
    "start_time": "2021-07-08T14:58:33.468Z"
   },
   {
    "duration": 10,
    "start_time": "2021-07-08T14:59:22.058Z"
   },
   {
    "duration": 30663,
    "start_time": "2021-07-08T14:59:29.039Z"
   },
   {
    "duration": 32441,
    "start_time": "2021-07-08T15:00:08.355Z"
   },
   {
    "duration": 9,
    "start_time": "2021-07-08T15:00:40.799Z"
   },
   {
    "duration": 34126,
    "start_time": "2021-07-08T15:00:56.073Z"
   },
   {
    "duration": 10,
    "start_time": "2021-07-08T15:01:30.201Z"
   },
   {
    "duration": 36696,
    "start_time": "2021-07-08T15:01:49.070Z"
   },
   {
    "duration": 12,
    "start_time": "2021-07-08T15:02:25.769Z"
   },
   {
    "duration": 121,
    "start_time": "2021-07-08T15:02:25.784Z"
   },
   {
    "duration": 40156,
    "start_time": "2021-07-08T15:03:18.725Z"
   },
   {
    "duration": 10,
    "start_time": "2021-07-08T15:03:58.885Z"
   },
   {
    "duration": 105,
    "start_time": "2021-07-08T15:03:58.898Z"
   },
   {
    "duration": 60,
    "start_time": "2021-07-08T15:03:59.006Z"
   },
   {
    "duration": 215,
    "start_time": "2021-07-08T15:03:59.068Z"
   },
   {
    "duration": 8,
    "start_time": "2021-07-08T15:03:59.286Z"
   },
   {
    "duration": 271,
    "start_time": "2021-07-08T15:03:59.296Z"
   },
   {
    "duration": 98,
    "start_time": "2021-07-08T15:03:59.471Z"
   },
   {
    "duration": 1706,
    "start_time": "2021-07-08T15:16:27.674Z"
   },
   {
    "duration": 111,
    "start_time": "2021-07-08T15:18:39.579Z"
   },
   {
    "duration": 1826,
    "start_time": "2021-07-08T15:18:44.930Z"
   },
   {
    "duration": 2051,
    "start_time": "2021-07-08T15:19:34.881Z"
   },
   {
    "duration": 1697,
    "start_time": "2021-07-08T15:19:40.703Z"
   },
   {
    "duration": 208,
    "start_time": "2021-07-08T15:20:39.008Z"
   },
   {
    "duration": 1874,
    "start_time": "2021-07-08T15:20:52.509Z"
   },
   {
    "duration": 204,
    "start_time": "2021-07-08T15:21:00.414Z"
   },
   {
    "duration": 184,
    "start_time": "2021-07-08T15:27:13.807Z"
   },
   {
    "duration": 168,
    "start_time": "2021-07-08T15:27:52.407Z"
   },
   {
    "duration": 182,
    "start_time": "2021-07-08T15:28:30.250Z"
   },
   {
    "duration": 1672,
    "start_time": "2021-07-08T15:28:48.259Z"
   },
   {
    "duration": 6,
    "start_time": "2021-07-08T15:30:38.218Z"
   },
   {
    "duration": 253,
    "start_time": "2021-07-08T15:31:19.329Z"
   },
   {
    "duration": 264,
    "start_time": "2021-07-08T15:32:15.947Z"
   },
   {
    "duration": 296,
    "start_time": "2021-07-08T15:33:02.806Z"
   },
   {
    "duration": 271,
    "start_time": "2021-07-08T15:33:39.005Z"
   },
   {
    "duration": 257,
    "start_time": "2021-07-08T15:33:51.926Z"
   },
   {
    "duration": 670,
    "start_time": "2021-07-08T15:34:01.756Z"
   },
   {
    "duration": 41802,
    "start_time": "2021-07-08T15:34:48.856Z"
   },
   {
    "duration": 10,
    "start_time": "2021-07-08T15:35:30.661Z"
   },
   {
    "duration": 124,
    "start_time": "2021-07-08T15:35:30.674Z"
   },
   {
    "duration": 56,
    "start_time": "2021-07-08T15:35:30.801Z"
   },
   {
    "duration": 10,
    "start_time": "2021-07-08T15:40:23.670Z"
   },
   {
    "duration": 26,
    "start_time": "2021-07-08T15:41:28.810Z"
   },
   {
    "duration": 302,
    "start_time": "2021-07-08T15:42:16.495Z"
   },
   {
    "duration": 249,
    "start_time": "2021-07-08T15:42:26.028Z"
   },
   {
    "duration": 257,
    "start_time": "2021-07-08T15:42:56.523Z"
   },
   {
    "duration": 11,
    "start_time": "2021-07-08T15:43:04.684Z"
   },
   {
    "duration": 260,
    "start_time": "2021-07-08T15:43:38.061Z"
   },
   {
    "duration": 259,
    "start_time": "2021-07-08T15:43:44.831Z"
   },
   {
    "duration": 14,
    "start_time": "2021-07-08T15:43:54.945Z"
   },
   {
    "duration": 6866,
    "start_time": "2021-07-08T15:44:34.698Z"
   },
   {
    "duration": 11,
    "start_time": "2021-07-08T15:45:16.016Z"
   },
   {
    "duration": 318,
    "start_time": "2021-07-08T15:45:22.921Z"
   },
   {
    "duration": 253,
    "start_time": "2021-07-08T15:45:26.543Z"
   },
   {
    "duration": 130,
    "start_time": "2021-07-08T15:45:39.267Z"
   },
   {
    "duration": 12,
    "start_time": "2021-07-08T15:45:48.473Z"
   },
   {
    "duration": 10,
    "start_time": "2021-07-08T15:46:08.675Z"
   },
   {
    "duration": 8,
    "start_time": "2021-07-08T15:46:14.235Z"
   },
   {
    "duration": 8,
    "start_time": "2021-07-08T15:46:18.291Z"
   },
   {
    "duration": 8,
    "start_time": "2021-07-08T15:46:37.088Z"
   },
   {
    "duration": 6,
    "start_time": "2021-07-08T15:48:12.039Z"
   },
   {
    "duration": 8,
    "start_time": "2021-07-08T15:49:56.846Z"
   },
   {
    "duration": 1730,
    "start_time": "2021-07-08T15:50:38.009Z"
   },
   {
    "duration": 9,
    "start_time": "2021-07-08T15:51:13.124Z"
   },
   {
    "duration": 1957,
    "start_time": "2021-07-08T15:51:17.601Z"
   },
   {
    "duration": 9,
    "start_time": "2021-07-08T15:52:17.469Z"
   },
   {
    "duration": 857235,
    "start_time": "2021-07-08T15:52:21.593Z"
   },
   {
    "duration": 10,
    "start_time": "2021-07-08T16:07:34.041Z"
   },
   {
    "duration": 16,
    "start_time": "2021-07-08T16:07:39.044Z"
   },
   {
    "duration": 15,
    "start_time": "2021-07-08T16:07:58.201Z"
   },
   {
    "duration": 1530,
    "start_time": "2021-07-08T16:09:53.646Z"
   },
   {
    "duration": 108,
    "start_time": "2021-07-08T16:09:55.178Z"
   },
   {
    "duration": 5,
    "start_time": "2021-07-08T16:09:55.289Z"
   },
   {
    "duration": 113,
    "start_time": "2021-07-08T16:09:55.296Z"
   },
   {
    "duration": 5,
    "start_time": "2021-07-08T16:09:55.412Z"
   },
   {
    "duration": 48,
    "start_time": "2021-07-08T16:09:55.419Z"
   },
   {
    "duration": 26,
    "start_time": "2021-07-08T16:09:55.469Z"
   },
   {
    "duration": 18,
    "start_time": "2021-07-08T16:09:55.498Z"
   },
   {
    "duration": 46,
    "start_time": "2021-07-08T16:09:55.520Z"
   },
   {
    "duration": 15,
    "start_time": "2021-07-08T16:09:55.569Z"
   },
   {
    "duration": 37,
    "start_time": "2021-07-08T16:09:55.588Z"
   },
   {
    "duration": 10,
    "start_time": "2021-07-08T16:09:55.656Z"
   },
   {
    "duration": 14,
    "start_time": "2021-07-08T16:09:55.668Z"
   },
   {
    "duration": 25,
    "start_time": "2021-07-08T16:09:55.684Z"
   },
   {
    "duration": 22,
    "start_time": "2021-07-08T16:09:55.711Z"
   },
   {
    "duration": 25,
    "start_time": "2021-07-08T16:09:55.737Z"
   },
   {
    "duration": 20,
    "start_time": "2021-07-08T16:09:55.765Z"
   },
   {
    "duration": 8,
    "start_time": "2021-07-08T16:09:55.789Z"
   },
   {
    "duration": 21,
    "start_time": "2021-07-08T16:09:55.799Z"
   },
   {
    "duration": 928,
    "start_time": "2021-07-08T16:09:55.823Z"
   },
   {
    "duration": 9,
    "start_time": "2021-07-08T16:09:56.753Z"
   },
   {
    "duration": 18,
    "start_time": "2021-07-08T16:09:56.764Z"
   },
   {
    "duration": 21,
    "start_time": "2021-07-08T16:09:56.785Z"
   },
   {
    "duration": 146,
    "start_time": "2021-07-08T16:09:56.809Z"
   },
   {
    "duration": 4,
    "start_time": "2021-07-08T16:09:56.958Z"
   },
   {
    "duration": 7,
    "start_time": "2021-07-08T16:09:56.964Z"
   },
   {
    "duration": 90,
    "start_time": "2021-07-08T16:09:56.977Z"
   },
   {
    "duration": 14,
    "start_time": "2021-07-08T16:09:57.070Z"
   },
   {
    "duration": 125,
    "start_time": "2021-07-08T16:09:57.087Z"
   },
   {
    "duration": 8,
    "start_time": "2021-07-08T16:09:57.214Z"
   },
   {
    "duration": 11,
    "start_time": "2021-07-08T16:09:57.225Z"
   },
   {
    "duration": 8,
    "start_time": "2021-07-08T16:09:57.255Z"
   },
   {
    "duration": 42,
    "start_time": "2021-07-08T16:09:57.265Z"
   },
   {
    "duration": 3,
    "start_time": "2021-07-08T16:09:57.309Z"
   },
   {
    "duration": 7,
    "start_time": "2021-07-08T16:09:57.315Z"
   },
   {
    "duration": 32,
    "start_time": "2021-07-08T16:09:57.325Z"
   },
   {
    "duration": 8,
    "start_time": "2021-07-08T16:09:57.359Z"
   },
   {
    "duration": 7,
    "start_time": "2021-07-08T16:09:57.369Z"
   },
   {
    "duration": 6,
    "start_time": "2021-07-08T16:09:57.379Z"
   },
   {
    "duration": 6,
    "start_time": "2021-07-08T16:09:57.388Z"
   },
   {
    "duration": 7,
    "start_time": "2021-07-08T16:09:57.397Z"
   },
   {
    "duration": 10,
    "start_time": "2021-07-08T16:09:57.407Z"
   },
   {
    "duration": 8,
    "start_time": "2021-07-08T16:09:57.419Z"
   },
   {
    "duration": 4,
    "start_time": "2021-07-08T16:09:57.457Z"
   },
   {
    "duration": 9,
    "start_time": "2021-07-08T16:09:57.463Z"
   },
   {
    "duration": 9,
    "start_time": "2021-07-08T16:09:57.475Z"
   },
   {
    "duration": 6,
    "start_time": "2021-07-08T16:09:57.486Z"
   },
   {
    "duration": 6,
    "start_time": "2021-07-08T16:09:57.495Z"
   },
   {
    "duration": 108,
    "start_time": "2021-07-08T16:09:57.503Z"
   },
   {
    "duration": -50,
    "start_time": "2021-07-08T16:09:57.664Z"
   },
   {
    "duration": -48,
    "start_time": "2021-07-08T16:09:57.664Z"
   },
   {
    "duration": -48,
    "start_time": "2021-07-08T16:09:57.665Z"
   },
   {
    "duration": -48,
    "start_time": "2021-07-08T16:09:57.666Z"
   },
   {
    "duration": -48,
    "start_time": "2021-07-08T16:09:57.667Z"
   },
   {
    "duration": -47,
    "start_time": "2021-07-08T16:09:57.668Z"
   },
   {
    "duration": -47,
    "start_time": "2021-07-08T16:09:57.669Z"
   },
   {
    "duration": -46,
    "start_time": "2021-07-08T16:09:57.670Z"
   },
   {
    "duration": -45,
    "start_time": "2021-07-08T16:09:57.670Z"
   },
   {
    "duration": -44,
    "start_time": "2021-07-08T16:09:57.671Z"
   },
   {
    "duration": -44,
    "start_time": "2021-07-08T16:09:57.672Z"
   },
   {
    "duration": -52,
    "start_time": "2021-07-08T16:09:57.682Z"
   },
   {
    "duration": -52,
    "start_time": "2021-07-08T16:09:57.683Z"
   },
   {
    "duration": -51,
    "start_time": "2021-07-08T16:09:57.684Z"
   },
   {
    "duration": -51,
    "start_time": "2021-07-08T16:09:57.685Z"
   },
   {
    "duration": -50,
    "start_time": "2021-07-08T16:09:57.685Z"
   },
   {
    "duration": -49,
    "start_time": "2021-07-08T16:09:57.686Z"
   },
   {
    "duration": 414,
    "start_time": "2021-07-08T16:12:13.618Z"
   },
   {
    "duration": 9,
    "start_time": "2021-07-08T16:12:34.169Z"
   },
   {
    "duration": 11,
    "start_time": "2021-07-08T16:12:36.016Z"
   },
   {
    "duration": 4,
    "start_time": "2021-07-08T16:12:36.612Z"
   },
   {
    "duration": 7,
    "start_time": "2021-07-08T16:12:37.378Z"
   },
   {
    "duration": 384,
    "start_time": "2021-07-08T16:12:37.888Z"
   },
   {
    "duration": 9,
    "start_time": "2021-07-08T16:14:11.114Z"
   },
   {
    "duration": 12,
    "start_time": "2021-07-08T16:14:13.726Z"
   },
   {
    "duration": 12,
    "start_time": "2021-07-08T16:14:29.000Z"
   },
   {
    "duration": 4,
    "start_time": "2021-07-08T16:14:31.463Z"
   },
   {
    "duration": 7,
    "start_time": "2021-07-08T16:14:33.130Z"
   },
   {
    "duration": 8,
    "start_time": "2021-07-08T16:14:42.185Z"
   },
   {
    "duration": 48190,
    "start_time": "2021-07-08T16:14:42.940Z"
   },
   {
    "duration": 8,
    "start_time": "2021-07-08T16:15:31.133Z"
   },
   {
    "duration": 83,
    "start_time": "2021-07-08T16:15:31.161Z"
   },
   {
    "duration": 53,
    "start_time": "2021-07-08T16:15:31.256Z"
   },
   {
    "duration": 1119653,
    "start_time": "2021-07-08T16:15:31.311Z"
   },
   {
    "duration": 10,
    "start_time": "2021-07-08T16:34:10.967Z"
   },
   {
    "duration": 19,
    "start_time": "2021-07-08T16:34:10.979Z"
   },
   {
    "duration": 14,
    "start_time": "2021-07-08T16:34:11.001Z"
   },
   {
    "duration": 459707,
    "start_time": "2021-07-08T16:34:11.056Z"
   },
   {
    "duration": 9,
    "start_time": "2021-07-08T16:41:50.766Z"
   },
   {
    "duration": 85,
    "start_time": "2021-07-08T16:41:50.778Z"
   },
   {
    "duration": 5,
    "start_time": "2021-07-08T16:41:50.866Z"
   },
   {
    "duration": 78,
    "start_time": "2021-07-08T16:48:37.948Z"
   },
   {
    "duration": 1549,
    "start_time": "2021-07-08T16:51:54.907Z"
   },
   {
    "duration": 115,
    "start_time": "2021-07-08T16:51:56.458Z"
   },
   {
    "duration": 4,
    "start_time": "2021-07-08T16:51:56.576Z"
   },
   {
    "duration": 123,
    "start_time": "2021-07-08T16:51:56.583Z"
   },
   {
    "duration": 7,
    "start_time": "2021-07-08T16:51:56.708Z"
   },
   {
    "duration": 53,
    "start_time": "2021-07-08T16:51:56.717Z"
   },
   {
    "duration": 31,
    "start_time": "2021-07-08T16:51:56.773Z"
   },
   {
    "duration": 20,
    "start_time": "2021-07-08T16:51:56.807Z"
   },
   {
    "duration": 22,
    "start_time": "2021-07-08T16:51:56.855Z"
   },
   {
    "duration": 16,
    "start_time": "2021-07-08T16:51:56.880Z"
   },
   {
    "duration": 65,
    "start_time": "2021-07-08T16:51:56.899Z"
   },
   {
    "duration": 9,
    "start_time": "2021-07-08T16:51:56.966Z"
   },
   {
    "duration": 14,
    "start_time": "2021-07-08T16:51:56.977Z"
   },
   {
    "duration": 16,
    "start_time": "2021-07-08T16:51:56.994Z"
   },
   {
    "duration": 54,
    "start_time": "2021-07-08T16:51:57.013Z"
   },
   {
    "duration": 8,
    "start_time": "2021-07-08T16:51:57.070Z"
   },
   {
    "duration": 34,
    "start_time": "2021-07-08T16:51:57.081Z"
   },
   {
    "duration": 10,
    "start_time": "2021-07-08T16:51:57.117Z"
   },
   {
    "duration": 30,
    "start_time": "2021-07-08T16:51:57.131Z"
   },
   {
    "duration": 1298,
    "start_time": "2021-07-08T16:51:57.164Z"
   },
   {
    "duration": 9,
    "start_time": "2021-07-08T16:51:58.465Z"
   },
   {
    "duration": 20,
    "start_time": "2021-07-08T16:51:58.478Z"
   },
   {
    "duration": 64,
    "start_time": "2021-07-08T16:51:58.501Z"
   },
   {
    "duration": 187,
    "start_time": "2021-07-08T16:51:58.568Z"
   },
   {
    "duration": 5,
    "start_time": "2021-07-08T16:51:58.759Z"
   },
   {
    "duration": 10,
    "start_time": "2021-07-08T16:51:58.766Z"
   },
   {
    "duration": 22,
    "start_time": "2021-07-08T16:51:58.784Z"
   },
   {
    "duration": 47,
    "start_time": "2021-07-08T16:51:58.810Z"
   },
   {
    "duration": 169,
    "start_time": "2021-07-08T16:51:58.860Z"
   },
   {
    "duration": 8,
    "start_time": "2021-07-08T16:51:59.031Z"
   },
   {
    "duration": 7,
    "start_time": "2021-07-08T16:51:59.059Z"
   },
   {
    "duration": 6,
    "start_time": "2021-07-08T16:51:59.068Z"
   },
   {
    "duration": 30,
    "start_time": "2021-07-08T16:51:59.076Z"
   },
   {
    "duration": 3,
    "start_time": "2021-07-08T16:51:59.108Z"
   },
   {
    "duration": 6,
    "start_time": "2021-07-08T16:51:59.113Z"
   },
   {
    "duration": 3,
    "start_time": "2021-07-08T16:51:59.156Z"
   },
   {
    "duration": 6,
    "start_time": "2021-07-08T16:51:59.162Z"
   },
   {
    "duration": 5,
    "start_time": "2021-07-08T16:51:59.171Z"
   },
   {
    "duration": 7,
    "start_time": "2021-07-08T16:51:59.178Z"
   },
   {
    "duration": 9,
    "start_time": "2021-07-08T16:51:59.187Z"
   },
   {
    "duration": 6,
    "start_time": "2021-07-08T16:51:59.198Z"
   },
   {
    "duration": 6,
    "start_time": "2021-07-08T16:51:59.207Z"
   },
   {
    "duration": 40,
    "start_time": "2021-07-08T16:51:59.215Z"
   },
   {
    "duration": 4,
    "start_time": "2021-07-08T16:51:59.258Z"
   },
   {
    "duration": 18,
    "start_time": "2021-07-08T16:51:59.264Z"
   },
   {
    "duration": 7,
    "start_time": "2021-07-08T16:51:59.285Z"
   },
   {
    "duration": 10,
    "start_time": "2021-07-08T16:51:59.295Z"
   },
   {
    "duration": 7,
    "start_time": "2021-07-08T16:51:59.307Z"
   },
   {
    "duration": 13,
    "start_time": "2021-07-08T16:51:59.316Z"
   },
   {
    "duration": 26,
    "start_time": "2021-07-08T16:51:59.331Z"
   },
   {
    "duration": 4,
    "start_time": "2021-07-08T16:51:59.359Z"
   },
   {
    "duration": 9,
    "start_time": "2021-07-08T16:51:59.366Z"
   },
   {
    "duration": 10,
    "start_time": "2021-07-08T16:51:59.377Z"
   },
   {
    "duration": 44340,
    "start_time": "2021-07-08T16:51:59.389Z"
   },
   {
    "duration": 8,
    "start_time": "2021-07-08T16:52:43.731Z"
   },
   {
    "duration": 82,
    "start_time": "2021-07-08T16:52:43.756Z"
   },
   {
    "duration": 59,
    "start_time": "2021-07-08T16:52:43.841Z"
   },
   {
    "duration": 1275843,
    "start_time": "2021-07-08T16:52:43.902Z"
   },
   {
    "duration": 9,
    "start_time": "2021-07-08T17:13:59.747Z"
   },
   {
    "duration": 29,
    "start_time": "2021-07-08T17:13:59.758Z"
   },
   {
    "duration": 14,
    "start_time": "2021-07-08T17:13:59.789Z"
   },
   {
    "duration": 3805265,
    "start_time": "2021-07-08T17:13:59.806Z"
   },
   {
    "duration": 9,
    "start_time": "2021-07-08T18:17:25.073Z"
   },
   {
    "duration": 81,
    "start_time": "2021-07-08T18:17:25.084Z"
   },
   {
    "duration": 13,
    "start_time": "2021-07-08T18:17:25.170Z"
   },
   {
    "duration": 3,
    "start_time": "2021-07-08T18:17:25.257Z"
   },
   {
    "duration": 11,
    "start_time": "2021-07-08T18:17:25.262Z"
   },
   {
    "duration": 1527,
    "start_time": "2021-07-08T18:20:27.041Z"
   },
   {
    "duration": 111,
    "start_time": "2021-07-08T18:20:28.570Z"
   },
   {
    "duration": 4,
    "start_time": "2021-07-08T18:20:28.684Z"
   },
   {
    "duration": 120,
    "start_time": "2021-07-08T18:20:28.691Z"
   },
   {
    "duration": 6,
    "start_time": "2021-07-08T18:20:28.814Z"
   },
   {
    "duration": 47,
    "start_time": "2021-07-08T18:20:28.822Z"
   },
   {
    "duration": 27,
    "start_time": "2021-07-08T18:20:28.871Z"
   },
   {
    "duration": 19,
    "start_time": "2021-07-08T18:20:28.902Z"
   },
   {
    "duration": 43,
    "start_time": "2021-07-08T18:20:28.925Z"
   },
   {
    "duration": 16,
    "start_time": "2021-07-08T18:20:28.970Z"
   },
   {
    "duration": 36,
    "start_time": "2021-07-08T18:20:28.988Z"
   },
   {
    "duration": 37,
    "start_time": "2021-07-08T18:20:29.026Z"
   },
   {
    "duration": 14,
    "start_time": "2021-07-08T18:20:29.065Z"
   },
   {
    "duration": 20,
    "start_time": "2021-07-08T18:20:29.081Z"
   },
   {
    "duration": 16,
    "start_time": "2021-07-08T18:20:29.103Z"
   },
   {
    "duration": 35,
    "start_time": "2021-07-08T18:20:29.122Z"
   },
   {
    "duration": 9,
    "start_time": "2021-07-08T18:20:29.159Z"
   },
   {
    "duration": 8,
    "start_time": "2021-07-08T18:20:29.171Z"
   },
   {
    "duration": 14,
    "start_time": "2021-07-08T18:20:29.182Z"
   },
   {
    "duration": 957,
    "start_time": "2021-07-08T18:20:29.199Z"
   },
   {
    "duration": 8,
    "start_time": "2021-07-08T18:20:30.158Z"
   },
   {
    "duration": 30,
    "start_time": "2021-07-08T18:20:30.168Z"
   },
   {
    "duration": 31,
    "start_time": "2021-07-08T18:20:30.204Z"
   },
   {
    "duration": 134,
    "start_time": "2021-07-08T18:20:30.238Z"
   },
   {
    "duration": 4,
    "start_time": "2021-07-08T18:20:30.374Z"
   },
   {
    "duration": 20,
    "start_time": "2021-07-08T18:20:30.381Z"
   },
   {
    "duration": 33,
    "start_time": "2021-07-08T18:20:30.403Z"
   },
   {
    "duration": 23,
    "start_time": "2021-07-08T18:20:30.438Z"
   },
   {
    "duration": 125,
    "start_time": "2021-07-08T18:20:30.463Z"
   },
   {
    "duration": 8,
    "start_time": "2021-07-08T18:20:30.590Z"
   },
   {
    "duration": 24,
    "start_time": "2021-07-08T18:20:30.600Z"
   },
   {
    "duration": 25,
    "start_time": "2021-07-08T18:20:30.626Z"
   },
   {
    "duration": 42,
    "start_time": "2021-07-08T18:20:30.653Z"
   },
   {
    "duration": 3,
    "start_time": "2021-07-08T18:20:30.697Z"
   },
   {
    "duration": 15,
    "start_time": "2021-07-08T18:20:30.703Z"
   },
   {
    "duration": 17,
    "start_time": "2021-07-08T18:20:30.720Z"
   },
   {
    "duration": 25,
    "start_time": "2021-07-08T18:20:30.739Z"
   },
   {
    "duration": 26,
    "start_time": "2021-07-08T18:20:30.766Z"
   },
   {
    "duration": 31,
    "start_time": "2021-07-08T18:20:30.794Z"
   },
   {
    "duration": 21,
    "start_time": "2021-07-08T18:20:30.827Z"
   },
   {
    "duration": 29,
    "start_time": "2021-07-08T18:20:30.851Z"
   },
   {
    "duration": 18,
    "start_time": "2021-07-08T18:20:30.883Z"
   },
   {
    "duration": 12,
    "start_time": "2021-07-08T18:20:30.903Z"
   },
   {
    "duration": 14,
    "start_time": "2021-07-08T18:20:30.917Z"
   },
   {
    "duration": 24,
    "start_time": "2021-07-08T18:20:30.934Z"
   },
   {
    "duration": 24,
    "start_time": "2021-07-08T18:20:30.961Z"
   },
   {
    "duration": 22,
    "start_time": "2021-07-08T18:20:30.988Z"
   },
   {
    "duration": 15,
    "start_time": "2021-07-08T18:20:31.013Z"
   },
   {
    "duration": 24,
    "start_time": "2021-07-08T18:20:31.031Z"
   },
   {
    "duration": 30,
    "start_time": "2021-07-08T18:20:31.058Z"
   },
   {
    "duration": 14,
    "start_time": "2021-07-08T18:20:31.091Z"
   },
   {
    "duration": 22,
    "start_time": "2021-07-08T18:20:31.107Z"
   },
   {
    "duration": 25,
    "start_time": "2021-07-08T18:20:31.131Z"
   },
   {
    "duration": 43529,
    "start_time": "2021-07-08T18:20:31.159Z"
   },
   {
    "duration": 8,
    "start_time": "2021-07-08T18:21:14.691Z"
   },
   {
    "duration": 103,
    "start_time": "2021-07-08T18:21:14.702Z"
   },
   {
    "duration": 58,
    "start_time": "2021-07-08T18:21:14.807Z"
   },
   {
    "duration": 2782274,
    "start_time": "2021-07-08T18:21:14.867Z"
   },
   {
    "duration": 9,
    "start_time": "2021-07-08T19:07:37.143Z"
   },
   {
    "duration": 35,
    "start_time": "2021-07-08T19:07:37.162Z"
   },
   {
    "duration": 19,
    "start_time": "2021-07-08T19:07:37.200Z"
   },
   {
    "duration": 11129848,
    "start_time": "2021-07-08T19:07:37.222Z"
   },
   {
    "duration": 10,
    "start_time": "2021-07-08T22:13:07.072Z"
   },
   {
    "duration": 95,
    "start_time": "2021-07-08T22:13:07.085Z"
   },
   {
    "duration": 17,
    "start_time": "2021-07-08T22:13:07.256Z"
   },
   {
    "duration": 6,
    "start_time": "2021-07-08T23:09:39.837Z"
   },
   {
    "duration": 9,
    "start_time": "2021-07-08T23:09:44.397Z"
   },
   {
    "duration": 12,
    "start_time": "2021-07-08T23:09:45.565Z"
   },
   {
    "duration": 4,
    "start_time": "2021-07-08T23:09:46.694Z"
   },
   {
    "duration": 11,
    "start_time": "2021-07-08T23:09:47.356Z"
   },
   {
    "duration": 8,
    "start_time": "2021-07-08T23:09:48.901Z"
   },
   {
    "duration": 41237,
    "start_time": "2021-07-08T23:09:50.223Z"
   },
   {
    "duration": 2544487,
    "start_time": "2021-07-08T23:10:31.463Z"
   },
   {
    "duration": 691516,
    "start_time": "2021-07-08T23:52:55.953Z"
   },
   {
    "duration": 8,
    "start_time": "2021-07-09T00:04:27.472Z"
   },
   {
    "duration": 680883,
    "start_time": "2021-07-09T00:04:27.482Z"
   },
   {
    "duration": 13,
    "start_time": "2021-07-09T00:15:48.367Z"
   },
   {
    "duration": 5,
    "start_time": "2021-07-09T00:19:21.006Z"
   },
   {
    "duration": 6,
    "start_time": "2021-07-09T00:20:46.158Z"
   },
   {
    "duration": 4,
    "start_time": "2021-07-09T00:21:04.725Z"
   },
   {
    "duration": 11,
    "start_time": "2021-07-09T00:21:16.284Z"
   },
   {
    "duration": 4,
    "start_time": "2021-07-09T00:21:17.419Z"
   },
   {
    "duration": 7,
    "start_time": "2021-07-09T00:21:17.860Z"
   },
   {
    "duration": 629104,
    "start_time": "2021-07-09T00:21:47.766Z"
   },
   {
    "duration": 5,
    "start_time": "2021-07-09T00:32:16.872Z"
   },
   {
    "duration": 83,
    "start_time": "2021-07-09T00:32:16.880Z"
   },
   {
    "duration": 92,
    "start_time": "2021-07-09T00:32:16.966Z"
   },
   {
    "duration": 412,
    "start_time": "2021-07-09T00:32:17.061Z"
   },
   {
    "duration": -5,
    "start_time": "2021-07-09T00:32:17.482Z"
   },
   {
    "duration": 281,
    "start_time": "2021-07-09T00:33:52.681Z"
   },
   {
    "duration": 11,
    "start_time": "2021-07-09T00:34:02.859Z"
   },
   {
    "duration": 4,
    "start_time": "2021-07-09T00:34:05.806Z"
   },
   {
    "duration": 13,
    "start_time": "2021-07-09T00:34:05.812Z"
   },
   {
    "duration": 1478,
    "start_time": "2021-07-09T00:37:27.480Z"
   },
   {
    "duration": 109,
    "start_time": "2021-07-09T00:37:28.960Z"
   },
   {
    "duration": 5,
    "start_time": "2021-07-09T00:37:29.072Z"
   },
   {
    "duration": 117,
    "start_time": "2021-07-09T00:37:29.079Z"
   },
   {
    "duration": 5,
    "start_time": "2021-07-09T00:37:29.199Z"
   },
   {
    "duration": 30,
    "start_time": "2021-07-09T00:37:29.206Z"
   },
   {
    "duration": 30,
    "start_time": "2021-07-09T00:37:29.255Z"
   },
   {
    "duration": 19,
    "start_time": "2021-07-09T00:37:29.289Z"
   },
   {
    "duration": 48,
    "start_time": "2021-07-09T00:37:29.311Z"
   },
   {
    "duration": 16,
    "start_time": "2021-07-09T00:37:29.362Z"
   },
   {
    "duration": 35,
    "start_time": "2021-07-09T00:37:29.380Z"
   },
   {
    "duration": 39,
    "start_time": "2021-07-09T00:37:29.417Z"
   },
   {
    "duration": 16,
    "start_time": "2021-07-09T00:37:29.458Z"
   },
   {
    "duration": 12,
    "start_time": "2021-07-09T00:37:29.476Z"
   },
   {
    "duration": 16,
    "start_time": "2021-07-09T00:37:29.490Z"
   },
   {
    "duration": 22,
    "start_time": "2021-07-09T00:37:29.508Z"
   },
   {
    "duration": 26,
    "start_time": "2021-07-09T00:37:29.532Z"
   },
   {
    "duration": 8,
    "start_time": "2021-07-09T00:37:29.560Z"
   },
   {
    "duration": 12,
    "start_time": "2021-07-09T00:37:29.570Z"
   },
   {
    "duration": 13,
    "start_time": "2021-07-09T00:37:29.585Z"
   },
   {
    "duration": 827,
    "start_time": "2021-07-09T00:37:29.600Z"
   },
   {
    "duration": 7,
    "start_time": "2021-07-09T00:37:30.430Z"
   },
   {
    "duration": 38,
    "start_time": "2021-07-09T00:37:30.442Z"
   },
   {
    "duration": 40,
    "start_time": "2021-07-09T00:37:30.483Z"
   },
   {
    "duration": 128,
    "start_time": "2021-07-09T00:37:30.525Z"
   },
   {
    "duration": 3,
    "start_time": "2021-07-09T00:37:30.655Z"
   },
   {
    "duration": 23,
    "start_time": "2021-07-09T00:37:30.661Z"
   },
   {
    "duration": 40,
    "start_time": "2021-07-09T00:37:30.686Z"
   },
   {
    "duration": 14,
    "start_time": "2021-07-09T00:37:30.729Z"
   },
   {
    "duration": 102,
    "start_time": "2021-07-09T00:37:30.745Z"
   },
   {
    "duration": 8,
    "start_time": "2021-07-09T00:37:30.849Z"
   },
   {
    "duration": 14,
    "start_time": "2021-07-09T00:37:30.859Z"
   },
   {
    "duration": 28,
    "start_time": "2021-07-09T00:37:30.876Z"
   },
   {
    "duration": 49,
    "start_time": "2021-07-09T00:37:30.906Z"
   },
   {
    "duration": 5,
    "start_time": "2021-07-09T00:37:30.957Z"
   },
   {
    "duration": 15,
    "start_time": "2021-07-09T00:37:30.964Z"
   },
   {
    "duration": 25,
    "start_time": "2021-07-09T00:37:30.981Z"
   },
   {
    "duration": 20,
    "start_time": "2021-07-09T00:37:31.009Z"
   },
   {
    "duration": 15,
    "start_time": "2021-07-09T00:37:31.032Z"
   },
   {
    "duration": 28,
    "start_time": "2021-07-09T00:37:31.049Z"
   },
   {
    "duration": 26,
    "start_time": "2021-07-09T00:37:31.079Z"
   },
   {
    "duration": 16,
    "start_time": "2021-07-09T00:37:31.107Z"
   },
   {
    "duration": 22,
    "start_time": "2021-07-09T00:37:31.125Z"
   },
   {
    "duration": 24,
    "start_time": "2021-07-09T00:37:31.149Z"
   },
   {
    "duration": 12,
    "start_time": "2021-07-09T00:37:31.175Z"
   },
   {
    "duration": 27,
    "start_time": "2021-07-09T00:37:31.189Z"
   },
   {
    "duration": 41,
    "start_time": "2021-07-09T00:37:31.218Z"
   },
   {
    "duration": 64,
    "start_time": "2021-07-09T00:37:31.262Z"
   },
   {
    "duration": 18,
    "start_time": "2021-07-09T00:37:31.328Z"
   },
   {
    "duration": 19,
    "start_time": "2021-07-09T00:37:31.348Z"
   },
   {
    "duration": 36,
    "start_time": "2021-07-09T00:37:31.369Z"
   },
   {
    "duration": 53,
    "start_time": "2021-07-09T00:37:31.407Z"
   },
   {
    "duration": 4,
    "start_time": "2021-07-09T00:37:31.462Z"
   },
   {
    "duration": 30,
    "start_time": "2021-07-09T00:37:31.469Z"
   },
   {
    "duration": 16,
    "start_time": "2021-07-09T00:37:31.501Z"
   },
   {
    "duration": 56876,
    "start_time": "2021-07-09T00:37:31.519Z"
   },
   {
    "duration": 1561,
    "start_time": "2021-07-09T05:02:02.817Z"
   },
   {
    "duration": 127,
    "start_time": "2021-07-09T05:02:04.381Z"
   },
   {
    "duration": 5,
    "start_time": "2021-07-09T05:02:04.510Z"
   },
   {
    "duration": 131,
    "start_time": "2021-07-09T05:02:04.518Z"
   },
   {
    "duration": 6,
    "start_time": "2021-07-09T05:02:04.651Z"
   },
   {
    "duration": 49,
    "start_time": "2021-07-09T05:02:04.659Z"
   },
   {
    "duration": 29,
    "start_time": "2021-07-09T05:02:04.710Z"
   },
   {
    "duration": 21,
    "start_time": "2021-07-09T05:02:04.743Z"
   },
   {
    "duration": 50,
    "start_time": "2021-07-09T05:02:04.767Z"
   },
   {
    "duration": 22,
    "start_time": "2021-07-09T05:02:04.820Z"
   },
   {
    "duration": 43,
    "start_time": "2021-07-09T05:02:04.844Z"
   },
   {
    "duration": 17,
    "start_time": "2021-07-09T05:02:04.890Z"
   },
   {
    "duration": 25,
    "start_time": "2021-07-09T05:02:04.909Z"
   },
   {
    "duration": 17,
    "start_time": "2021-07-09T05:02:04.937Z"
   },
   {
    "duration": 24,
    "start_time": "2021-07-09T05:02:04.956Z"
   },
   {
    "duration": 28,
    "start_time": "2021-07-09T05:02:04.982Z"
   },
   {
    "duration": 8,
    "start_time": "2021-07-09T05:02:05.013Z"
   },
   {
    "duration": 23,
    "start_time": "2021-07-09T05:02:05.023Z"
   },
   {
    "duration": 20,
    "start_time": "2021-07-09T05:02:05.049Z"
   },
   {
    "duration": 23,
    "start_time": "2021-07-09T05:02:05.072Z"
   },
   {
    "duration": 837,
    "start_time": "2021-07-09T05:02:05.097Z"
   },
   {
    "duration": 7,
    "start_time": "2021-07-09T05:02:05.937Z"
   },
   {
    "duration": 18,
    "start_time": "2021-07-09T05:02:05.946Z"
   },
   {
    "duration": 40,
    "start_time": "2021-07-09T05:02:05.967Z"
   },
   {
    "duration": 132,
    "start_time": "2021-07-09T05:02:06.009Z"
   },
   {
    "duration": 4,
    "start_time": "2021-07-09T05:02:06.147Z"
   },
   {
    "duration": 9,
    "start_time": "2021-07-09T05:02:06.154Z"
   },
   {
    "duration": 44,
    "start_time": "2021-07-09T05:02:06.165Z"
   },
   {
    "duration": 15,
    "start_time": "2021-07-09T05:02:06.211Z"
   },
   {
    "duration": 117,
    "start_time": "2021-07-09T05:02:06.228Z"
   },
   {
    "duration": 7,
    "start_time": "2021-07-09T05:02:06.348Z"
   },
   {
    "duration": 24,
    "start_time": "2021-07-09T05:02:06.358Z"
   },
   {
    "duration": 19,
    "start_time": "2021-07-09T05:02:06.385Z"
   },
   {
    "duration": 34,
    "start_time": "2021-07-09T05:02:06.406Z"
   },
   {
    "duration": 3,
    "start_time": "2021-07-09T05:02:06.443Z"
   },
   {
    "duration": 12,
    "start_time": "2021-07-09T05:02:06.448Z"
   },
   {
    "duration": 9,
    "start_time": "2021-07-09T05:02:06.462Z"
   },
   {
    "duration": 31,
    "start_time": "2021-07-09T05:02:06.473Z"
   },
   {
    "duration": 12,
    "start_time": "2021-07-09T05:02:06.506Z"
   },
   {
    "duration": 14,
    "start_time": "2021-07-09T05:02:06.520Z"
   },
   {
    "duration": 14,
    "start_time": "2021-07-09T05:02:06.536Z"
   },
   {
    "duration": 23,
    "start_time": "2021-07-09T05:02:06.552Z"
   },
   {
    "duration": 26,
    "start_time": "2021-07-09T05:02:06.577Z"
   },
   {
    "duration": 14,
    "start_time": "2021-07-09T05:02:06.605Z"
   },
   {
    "duration": 12,
    "start_time": "2021-07-09T05:02:06.621Z"
   },
   {
    "duration": 21,
    "start_time": "2021-07-09T05:02:06.635Z"
   },
   {
    "duration": 23,
    "start_time": "2021-07-09T05:02:06.658Z"
   },
   {
    "duration": 16,
    "start_time": "2021-07-09T05:02:06.684Z"
   },
   {
    "duration": 12,
    "start_time": "2021-07-09T05:02:06.703Z"
   },
   {
    "duration": 11,
    "start_time": "2021-07-09T05:02:06.718Z"
   },
   {
    "duration": 11,
    "start_time": "2021-07-09T05:02:06.732Z"
   },
   {
    "duration": 16,
    "start_time": "2021-07-09T05:02:06.746Z"
   },
   {
    "duration": 8,
    "start_time": "2021-07-09T05:02:06.765Z"
   },
   {
    "duration": 27,
    "start_time": "2021-07-09T05:02:06.775Z"
   },
   {
    "duration": 14,
    "start_time": "2021-07-09T05:02:06.805Z"
   },
   {
    "duration": 40613,
    "start_time": "2021-07-09T05:02:06.821Z"
   },
   {
    "duration": 111395,
    "start_time": "2021-07-09T05:02:47.437Z"
   },
   {
    "duration": 40772,
    "start_time": "2021-07-09T05:04:38.834Z"
   },
   {
    "duration": 8,
    "start_time": "2021-07-09T05:05:19.609Z"
   },
   {
    "duration": 659892,
    "start_time": "2021-07-09T05:05:19.620Z"
   },
   {
    "duration": 6,
    "start_time": "2021-07-09T05:16:19.516Z"
   },
   {
    "duration": 16,
    "start_time": "2021-07-09T05:16:19.525Z"
   },
   {
    "duration": 110,
    "start_time": "2021-07-09T05:16:19.601Z"
   },
   {
    "duration": 407,
    "start_time": "2021-07-09T05:16:19.713Z"
   },
   {
    "duration": -42,
    "start_time": "2021-07-09T05:16:20.165Z"
   },
   {
    "duration": 25,
    "start_time": "2021-07-09T05:59:57.872Z"
   },
   {
    "duration": 252,
    "start_time": "2021-07-09T06:01:44.713Z"
   },
   {
    "duration": 6,
    "start_time": "2021-07-09T06:02:45.745Z"
   },
   {
    "duration": 291,
    "start_time": "2021-07-09T06:02:56.360Z"
   },
   {
    "duration": 274,
    "start_time": "2021-07-09T06:07:40.125Z"
   },
   {
    "duration": 446,
    "start_time": "2021-07-09T06:08:43.793Z"
   },
   {
    "duration": 292,
    "start_time": "2021-07-09T06:17:41.312Z"
   },
   {
    "duration": 260,
    "start_time": "2021-07-09T06:18:29.361Z"
   },
   {
    "duration": 259,
    "start_time": "2021-07-09T06:19:00.874Z"
   },
   {
    "duration": 6,
    "start_time": "2021-07-09T06:19:12.965Z"
   },
   {
    "duration": 6,
    "start_time": "2021-07-09T06:20:48.052Z"
   },
   {
    "duration": 4,
    "start_time": "2021-07-09T06:20:59.327Z"
   },
   {
    "duration": 11,
    "start_time": "2021-07-09T06:21:07.150Z"
   },
   {
    "duration": 5,
    "start_time": "2021-07-09T06:21:08.396Z"
   },
   {
    "duration": 8,
    "start_time": "2021-07-09T06:21:09.809Z"
   },
   {
    "duration": 946513,
    "start_time": "2021-07-09T06:21:15.302Z"
   },
   {
    "duration": 6,
    "start_time": "2021-07-09T06:37:01.818Z"
   },
   {
    "duration": 13,
    "start_time": "2021-07-09T06:37:01.903Z"
   },
   {
    "duration": 87,
    "start_time": "2021-07-09T06:37:01.919Z"
   },
   {
    "duration": 115,
    "start_time": "2021-07-09T06:37:02.009Z"
   },
   {
    "duration": 506,
    "start_time": "2021-07-09T06:37:02.127Z"
   },
   {
    "duration": 733011,
    "start_time": "2021-07-09T06:38:58.999Z"
   },
   {
    "duration": 1577,
    "start_time": "2021-07-09T06:55:20.333Z"
   },
   {
    "duration": 115,
    "start_time": "2021-07-09T06:55:21.913Z"
   },
   {
    "duration": 5,
    "start_time": "2021-07-09T06:55:22.031Z"
   },
   {
    "duration": 120,
    "start_time": "2021-07-09T06:55:22.039Z"
   },
   {
    "duration": 5,
    "start_time": "2021-07-09T06:55:22.161Z"
   },
   {
    "duration": 51,
    "start_time": "2021-07-09T06:55:22.169Z"
   },
   {
    "duration": 30,
    "start_time": "2021-07-09T06:55:22.222Z"
   },
   {
    "duration": 45,
    "start_time": "2021-07-09T06:55:22.258Z"
   },
   {
    "duration": 22,
    "start_time": "2021-07-09T06:55:22.307Z"
   },
   {
    "duration": 19,
    "start_time": "2021-07-09T06:55:22.332Z"
   },
   {
    "duration": 65,
    "start_time": "2021-07-09T06:55:22.354Z"
   },
   {
    "duration": 13,
    "start_time": "2021-07-09T06:55:22.423Z"
   },
   {
    "duration": 22,
    "start_time": "2021-07-09T06:55:22.439Z"
   },
   {
    "duration": 41,
    "start_time": "2021-07-09T06:55:22.464Z"
   },
   {
    "duration": 15,
    "start_time": "2021-07-09T06:55:22.508Z"
   },
   {
    "duration": 22,
    "start_time": "2021-07-09T06:55:22.525Z"
   },
   {
    "duration": 6,
    "start_time": "2021-07-09T06:55:22.550Z"
   },
   {
    "duration": 8,
    "start_time": "2021-07-09T06:55:22.558Z"
   },
   {
    "duration": 35,
    "start_time": "2021-07-09T06:55:22.568Z"
   },
   {
    "duration": 10,
    "start_time": "2021-07-09T06:55:22.606Z"
   },
   {
    "duration": 977,
    "start_time": "2021-07-09T06:55:22.618Z"
   },
   {
    "duration": 7,
    "start_time": "2021-07-09T06:55:23.598Z"
   },
   {
    "duration": 13,
    "start_time": "2021-07-09T06:55:23.612Z"
   },
   {
    "duration": 21,
    "start_time": "2021-07-09T06:55:23.629Z"
   },
   {
    "duration": 155,
    "start_time": "2021-07-09T06:55:23.652Z"
   },
   {
    "duration": 4,
    "start_time": "2021-07-09T06:55:23.809Z"
   },
   {
    "duration": 8,
    "start_time": "2021-07-09T06:55:23.816Z"
   },
   {
    "duration": 31,
    "start_time": "2021-07-09T06:55:23.827Z"
   },
   {
    "duration": 43,
    "start_time": "2021-07-09T06:55:23.860Z"
   },
   {
    "duration": 112,
    "start_time": "2021-07-09T06:55:23.906Z"
   },
   {
    "duration": 7,
    "start_time": "2021-07-09T06:55:24.020Z"
   },
   {
    "duration": 7,
    "start_time": "2021-07-09T06:55:24.030Z"
   },
   {
    "duration": 7,
    "start_time": "2021-07-09T06:55:24.039Z"
   },
   {
    "duration": 73,
    "start_time": "2021-07-09T06:55:24.048Z"
   },
   {
    "duration": 3,
    "start_time": "2021-07-09T06:55:24.124Z"
   },
   {
    "duration": 12,
    "start_time": "2021-07-09T06:55:24.129Z"
   },
   {
    "duration": 8,
    "start_time": "2021-07-09T06:55:24.143Z"
   },
   {
    "duration": 8,
    "start_time": "2021-07-09T06:55:24.153Z"
   },
   {
    "duration": 6,
    "start_time": "2021-07-09T06:55:24.163Z"
   },
   {
    "duration": 6,
    "start_time": "2021-07-09T06:55:24.172Z"
   },
   {
    "duration": 20,
    "start_time": "2021-07-09T06:55:24.180Z"
   },
   {
    "duration": 8,
    "start_time": "2021-07-09T06:55:24.203Z"
   },
   {
    "duration": 7,
    "start_time": "2021-07-09T06:55:24.213Z"
   },
   {
    "duration": 7,
    "start_time": "2021-07-09T06:55:24.222Z"
   },
   {
    "duration": 6,
    "start_time": "2021-07-09T06:55:24.232Z"
   },
   {
    "duration": 9,
    "start_time": "2021-07-09T06:55:24.241Z"
   },
   {
    "duration": 6,
    "start_time": "2021-07-09T06:55:24.252Z"
   },
   {
    "duration": 39,
    "start_time": "2021-07-09T06:55:24.261Z"
   },
   {
    "duration": 5,
    "start_time": "2021-07-09T06:55:24.303Z"
   },
   {
    "duration": 9,
    "start_time": "2021-07-09T06:55:24.311Z"
   },
   {
    "duration": 6,
    "start_time": "2021-07-09T06:55:24.322Z"
   },
   {
    "duration": 10,
    "start_time": "2021-07-09T06:55:24.331Z"
   },
   {
    "duration": 11,
    "start_time": "2021-07-09T06:55:24.344Z"
   },
   {
    "duration": 4,
    "start_time": "2021-07-09T06:55:24.357Z"
   },
   {
    "duration": 46,
    "start_time": "2021-07-09T06:55:24.364Z"
   },
   {
    "duration": 11,
    "start_time": "2021-07-09T06:55:24.412Z"
   },
   {
    "duration": 41185,
    "start_time": "2021-07-09T06:55:24.425Z"
   },
   {
    "duration": 112801,
    "start_time": "2021-07-09T06:56:05.613Z"
   },
   {
    "duration": 40190,
    "start_time": "2021-07-09T06:57:58.417Z"
   },
   {
    "duration": 9,
    "start_time": "2021-07-09T06:58:38.609Z"
   },
   {
    "duration": 515179,
    "start_time": "2021-07-09T06:58:38.621Z"
   },
   {
    "duration": 5,
    "start_time": "2021-07-09T07:07:13.803Z"
   },
   {
    "duration": 15,
    "start_time": "2021-07-09T07:07:13.811Z"
   },
   {
    "duration": 80,
    "start_time": "2021-07-09T07:07:13.828Z"
   },
   {
    "duration": 97,
    "start_time": "2021-07-09T07:07:13.911Z"
   },
   {
    "duration": 455,
    "start_time": "2021-07-09T07:07:14.011Z"
   },
   {
    "duration": 5,
    "start_time": "2021-07-09T07:59:49.873Z"
   },
   {
    "duration": 1677,
    "start_time": "2021-07-09T08:01:24.496Z"
   },
   {
    "duration": 116,
    "start_time": "2021-07-09T08:01:26.177Z"
   },
   {
    "duration": 4,
    "start_time": "2021-07-09T08:01:26.296Z"
   },
   {
    "duration": 128,
    "start_time": "2021-07-09T08:01:26.303Z"
   },
   {
    "duration": 5,
    "start_time": "2021-07-09T08:01:26.434Z"
   },
   {
    "duration": 37,
    "start_time": "2021-07-09T08:01:26.441Z"
   },
   {
    "duration": 44,
    "start_time": "2021-07-09T08:01:26.481Z"
   },
   {
    "duration": 19,
    "start_time": "2021-07-09T08:01:26.527Z"
   },
   {
    "duration": 19,
    "start_time": "2021-07-09T08:01:26.550Z"
   },
   {
    "duration": 42,
    "start_time": "2021-07-09T08:01:26.572Z"
   },
   {
    "duration": 47,
    "start_time": "2021-07-09T08:01:26.616Z"
   },
   {
    "duration": 13,
    "start_time": "2021-07-09T08:01:26.666Z"
   },
   {
    "duration": 33,
    "start_time": "2021-07-09T08:01:26.682Z"
   },
   {
    "duration": 13,
    "start_time": "2021-07-09T08:01:26.717Z"
   },
   {
    "duration": 29,
    "start_time": "2021-07-09T08:01:26.733Z"
   },
   {
    "duration": 19,
    "start_time": "2021-07-09T08:01:26.765Z"
   },
   {
    "duration": 8,
    "start_time": "2021-07-09T08:01:26.800Z"
   },
   {
    "duration": 13,
    "start_time": "2021-07-09T08:01:26.810Z"
   },
   {
    "duration": 31,
    "start_time": "2021-07-09T08:01:26.826Z"
   },
   {
    "duration": 35,
    "start_time": "2021-07-09T08:01:26.860Z"
   },
   {
    "duration": 907,
    "start_time": "2021-07-09T08:01:26.897Z"
   },
   {
    "duration": 8,
    "start_time": "2021-07-09T08:01:27.806Z"
   },
   {
    "duration": 35,
    "start_time": "2021-07-09T08:01:27.816Z"
   },
   {
    "duration": 26,
    "start_time": "2021-07-09T08:01:27.854Z"
   },
   {
    "duration": 125,
    "start_time": "2021-07-09T08:01:27.883Z"
   },
   {
    "duration": 4,
    "start_time": "2021-07-09T08:01:28.011Z"
   },
   {
    "duration": 11,
    "start_time": "2021-07-09T08:01:28.020Z"
   },
   {
    "duration": 31,
    "start_time": "2021-07-09T08:01:28.034Z"
   },
   {
    "duration": 39,
    "start_time": "2021-07-09T08:01:28.068Z"
   },
   {
    "duration": 115,
    "start_time": "2021-07-09T08:01:28.109Z"
   },
   {
    "duration": 6,
    "start_time": "2021-07-09T08:01:28.227Z"
   },
   {
    "duration": 8,
    "start_time": "2021-07-09T08:01:28.235Z"
   },
   {
    "duration": 8,
    "start_time": "2021-07-09T08:01:28.245Z"
   },
   {
    "duration": 11,
    "start_time": "2021-07-09T08:01:28.255Z"
   },
   {
    "duration": 55,
    "start_time": "2021-07-09T08:01:28.268Z"
   },
   {
    "duration": 14,
    "start_time": "2021-07-09T08:01:28.325Z"
   },
   {
    "duration": 15,
    "start_time": "2021-07-09T08:01:28.342Z"
   },
   {
    "duration": 4,
    "start_time": "2021-07-09T08:01:28.359Z"
   },
   {
    "duration": 37,
    "start_time": "2021-07-09T08:01:28.366Z"
   },
   {
    "duration": 26,
    "start_time": "2021-07-09T08:01:28.405Z"
   },
   {
    "duration": 44242,
    "start_time": "2021-07-09T08:01:28.434Z"
   },
   {
    "duration": 110370,
    "start_time": "2021-07-09T08:02:12.679Z"
   },
   {
    "duration": 35274,
    "start_time": "2021-07-09T08:04:03.051Z"
   },
   {
    "duration": 79,
    "start_time": "2021-07-09T08:04:38.327Z"
   },
   {
    "duration": 517812,
    "start_time": "2021-07-09T08:04:38.409Z"
   },
   {
    "duration": 79,
    "start_time": "2021-07-09T08:13:16.224Z"
   },
   {
    "duration": 16,
    "start_time": "2021-07-09T08:13:16.305Z"
   },
   {
    "duration": 93,
    "start_time": "2021-07-09T08:13:16.323Z"
   },
   {
    "duration": 93,
    "start_time": "2021-07-09T08:13:16.419Z"
   },
   {
    "duration": 528,
    "start_time": "2021-07-09T08:13:16.514Z"
   },
   {
    "duration": 4067479,
    "start_time": "2021-07-09T08:18:14.524Z"
   },
   {
    "duration": 502,
    "start_time": "2021-07-09T09:26:02.005Z"
   },
   {
    "duration": -98,
    "start_time": "2021-07-09T09:26:02.610Z"
   },
   {
    "duration": -101,
    "start_time": "2021-07-09T09:26:02.614Z"
   },
   {
    "duration": -102,
    "start_time": "2021-07-09T09:26:02.617Z"
   },
   {
    "duration": 5,
    "start_time": "2021-07-09T09:32:29.127Z"
   },
   {
    "duration": 15,
    "start_time": "2021-07-09T09:32:38.250Z"
   },
   {
    "duration": 97,
    "start_time": "2021-07-09T09:32:40.851Z"
   },
   {
    "duration": 41,
    "start_time": "2021-07-09T09:32:57.766Z"
   },
   {
    "duration": 95,
    "start_time": "2021-07-09T09:33:00.944Z"
   },
   {
    "duration": 52,
    "start_time": "2021-07-09T09:33:12.356Z"
   },
   {
    "duration": 113,
    "start_time": "2021-07-09T09:33:13.491Z"
   },
   {
    "duration": 110,
    "start_time": "2021-07-09T09:33:22.781Z"
   },
   {
    "duration": 62,
    "start_time": "2021-07-09T09:33:35.743Z"
   },
   {
    "duration": 1607,
    "start_time": "2021-07-09T09:34:58.902Z"
   },
   {
    "duration": 116,
    "start_time": "2021-07-09T09:35:00.512Z"
   },
   {
    "duration": 6,
    "start_time": "2021-07-09T09:35:01.792Z"
   },
   {
    "duration": 111,
    "start_time": "2021-07-09T09:35:02.730Z"
   },
   {
    "duration": 4,
    "start_time": "2021-07-09T09:35:05.928Z"
   },
   {
    "duration": 26,
    "start_time": "2021-07-09T09:35:07.015Z"
   },
   {
    "duration": 28,
    "start_time": "2021-07-09T09:35:07.899Z"
   },
   {
    "duration": 19,
    "start_time": "2021-07-09T09:35:09.137Z"
   },
   {
    "duration": 20,
    "start_time": "2021-07-09T09:35:09.769Z"
   },
   {
    "duration": 18,
    "start_time": "2021-07-09T09:35:11.143Z"
   },
   {
    "duration": 37,
    "start_time": "2021-07-09T09:35:12.598Z"
   },
   {
    "duration": 10,
    "start_time": "2021-07-09T09:35:13.712Z"
   },
   {
    "duration": 18,
    "start_time": "2021-07-09T09:35:15.866Z"
   },
   {
    "duration": 10,
    "start_time": "2021-07-09T09:35:17.750Z"
   },
   {
    "duration": 11,
    "start_time": "2021-07-09T09:35:19.028Z"
   },
   {
    "duration": 18,
    "start_time": "2021-07-09T09:35:20.549Z"
   },
   {
    "duration": 7,
    "start_time": "2021-07-09T09:35:21.291Z"
   },
   {
    "duration": 8,
    "start_time": "2021-07-09T09:35:21.952Z"
   },
   {
    "duration": 7,
    "start_time": "2021-07-09T09:35:24.127Z"
   },
   {
    "duration": 7,
    "start_time": "2021-07-09T09:35:24.643Z"
   },
   {
    "duration": 12,
    "start_time": "2021-07-09T09:35:25.248Z"
   },
   {
    "duration": 813,
    "start_time": "2021-07-09T09:35:26.228Z"
   },
   {
    "duration": 7420,
    "start_time": "2021-07-09T09:35:29.528Z"
   },
   {
    "duration": 7262,
    "start_time": "2021-07-09T09:35:43.744Z"
   },
   {
    "duration": 686,
    "start_time": "2021-07-09T09:35:53.288Z"
   },
   {
    "duration": 930,
    "start_time": "2021-07-09T09:37:11.399Z"
   },
   {
    "duration": 604,
    "start_time": "2021-07-09T09:37:16.389Z"
   },
   {
    "duration": 282,
    "start_time": "2021-07-09T09:40:33.906Z"
   },
   {
    "duration": 287,
    "start_time": "2021-07-09T09:40:43.150Z"
   },
   {
    "duration": 272,
    "start_time": "2021-07-09T09:40:49.691Z"
   },
   {
    "duration": 679,
    "start_time": "2021-07-09T09:40:54.751Z"
   },
   {
    "duration": 726,
    "start_time": "2021-07-09T09:41:33.909Z"
   },
   {
    "duration": 752,
    "start_time": "2021-07-09T09:41:44.037Z"
   },
   {
    "duration": 750,
    "start_time": "2021-07-09T09:42:33.852Z"
   },
   {
    "duration": 713,
    "start_time": "2021-07-09T09:43:03.134Z"
   },
   {
    "duration": 7,
    "start_time": "2021-07-09T10:00:40.564Z"
   },
   {
    "duration": 14,
    "start_time": "2021-07-09T10:00:41.324Z"
   },
   {
    "duration": 21,
    "start_time": "2021-07-09T10:00:42.076Z"
   },
   {
    "duration": 118,
    "start_time": "2021-07-09T10:00:43.300Z"
   },
   {
    "duration": 4,
    "start_time": "2021-07-09T10:00:44.305Z"
   },
   {
    "duration": 5,
    "start_time": "2021-07-09T10:00:45.910Z"
   },
   {
    "duration": 21,
    "start_time": "2021-07-09T10:00:46.727Z"
   },
   {
    "duration": 14,
    "start_time": "2021-07-09T10:00:47.751Z"
   },
   {
    "duration": 96,
    "start_time": "2021-07-09T10:00:52.484Z"
   },
   {
    "duration": 7,
    "start_time": "2021-07-09T10:00:54.541Z"
   },
   {
    "duration": 7,
    "start_time": "2021-07-09T10:00:55.736Z"
   },
   {
    "duration": 6,
    "start_time": "2021-07-09T10:00:56.341Z"
   },
   {
    "duration": 9,
    "start_time": "2021-07-09T10:00:57.653Z"
   },
   {
    "duration": 27,
    "start_time": "2021-07-09T10:00:58.997Z"
   },
   {
    "duration": 9,
    "start_time": "2021-07-09T10:01:00.412Z"
   },
   {
    "duration": 11,
    "start_time": "2021-07-09T10:01:03.791Z"
   },
   {
    "duration": 4,
    "start_time": "2021-07-09T10:01:05.939Z"
   },
   {
    "duration": 8,
    "start_time": "2021-07-09T10:01:06.547Z"
   },
   {
    "duration": 8,
    "start_time": "2021-07-09T10:01:08.686Z"
   },
   {
    "duration": 6806,
    "start_time": "2021-07-09T10:01:10.102Z"
   },
   {
    "duration": 110698,
    "start_time": "2021-07-09T10:01:16.911Z"
   },
   {
    "duration": 37696,
    "start_time": "2021-07-09T10:03:07.612Z"
   },
   {
    "duration": 10,
    "start_time": "2021-07-09T10:03:45.312Z"
   },
   {
    "duration": 1557,
    "start_time": "2021-07-09T10:09:21.175Z"
   },
   {
    "duration": 109,
    "start_time": "2021-07-09T10:09:22.735Z"
   },
   {
    "duration": 5,
    "start_time": "2021-07-09T10:09:22.847Z"
   },
   {
    "duration": 113,
    "start_time": "2021-07-09T10:09:22.854Z"
   },
   {
    "duration": 4,
    "start_time": "2021-07-09T10:09:22.969Z"
   },
   {
    "duration": 48,
    "start_time": "2021-07-09T10:09:22.975Z"
   },
   {
    "duration": 28,
    "start_time": "2021-07-09T10:09:23.025Z"
   },
   {
    "duration": 21,
    "start_time": "2021-07-09T10:09:23.055Z"
   },
   {
    "duration": 20,
    "start_time": "2021-07-09T10:09:23.100Z"
   },
   {
    "duration": 16,
    "start_time": "2021-07-09T10:09:23.123Z"
   },
   {
    "duration": 64,
    "start_time": "2021-07-09T10:09:23.141Z"
   },
   {
    "duration": 9,
    "start_time": "2021-07-09T10:09:23.207Z"
   },
   {
    "duration": 18,
    "start_time": "2021-07-09T10:09:23.218Z"
   },
   {
    "duration": 15,
    "start_time": "2021-07-09T10:09:23.238Z"
   },
   {
    "duration": 18,
    "start_time": "2021-07-09T10:09:23.255Z"
   },
   {
    "duration": 37,
    "start_time": "2021-07-09T10:09:23.275Z"
   },
   {
    "duration": 6,
    "start_time": "2021-07-09T10:09:23.315Z"
   },
   {
    "duration": 11,
    "start_time": "2021-07-09T10:09:23.324Z"
   },
   {
    "duration": 11,
    "start_time": "2021-07-09T10:09:23.338Z"
   },
   {
    "duration": 10,
    "start_time": "2021-07-09T10:09:23.352Z"
   },
   {
    "duration": 42,
    "start_time": "2021-07-09T10:09:23.364Z"
   },
   {
    "duration": 819,
    "start_time": "2021-07-09T10:09:23.409Z"
   },
   {
    "duration": 725,
    "start_time": "2021-07-09T10:09:24.231Z"
   },
   {
    "duration": 7,
    "start_time": "2021-07-09T10:09:24.958Z"
   },
   {
    "duration": 34,
    "start_time": "2021-07-09T10:09:24.968Z"
   },
   {
    "duration": 21,
    "start_time": "2021-07-09T10:09:25.004Z"
   },
   {
    "duration": 198,
    "start_time": "2021-07-09T10:09:25.030Z"
   },
   {
    "duration": 4,
    "start_time": "2021-07-09T10:09:25.231Z"
   },
   {
    "duration": 7,
    "start_time": "2021-07-09T10:09:25.238Z"
   },
   {
    "duration": 23,
    "start_time": "2021-07-09T10:09:25.248Z"
   },
   {
    "duration": 16,
    "start_time": "2021-07-09T10:09:25.301Z"
   },
   {
    "duration": 115,
    "start_time": "2021-07-09T10:09:25.320Z"
   },
   {
    "duration": 7,
    "start_time": "2021-07-09T10:09:25.438Z"
   },
   {
    "duration": 8,
    "start_time": "2021-07-09T10:09:25.447Z"
   },
   {
    "duration": 7,
    "start_time": "2021-07-09T10:09:25.458Z"
   },
   {
    "duration": 9,
    "start_time": "2021-07-09T10:09:25.501Z"
   },
   {
    "duration": 28,
    "start_time": "2021-07-09T10:09:25.513Z"
   },
   {
    "duration": 10,
    "start_time": "2021-07-09T10:09:25.544Z"
   },
   {
    "duration": 53,
    "start_time": "2021-07-09T10:09:25.557Z"
   },
   {
    "duration": 5,
    "start_time": "2021-07-09T10:09:25.613Z"
   },
   {
    "duration": 9,
    "start_time": "2021-07-09T10:09:25.621Z"
   },
   {
    "duration": 10,
    "start_time": "2021-07-09T10:09:25.633Z"
   },
   {
    "duration": 6907,
    "start_time": "2021-07-09T10:09:25.646Z"
   },
   {
    "duration": 111594,
    "start_time": "2021-07-09T10:09:32.556Z"
   },
   {
    "duration": 40153,
    "start_time": "2021-07-09T10:11:24.152Z"
   },
   {
    "duration": 9,
    "start_time": "2021-07-09T10:12:04.308Z"
   },
   {
    "duration": 592391,
    "start_time": "2021-07-09T10:12:04.319Z"
   },
   {
    "duration": 6,
    "start_time": "2021-07-09T10:21:56.712Z"
   },
   {
    "duration": 20,
    "start_time": "2021-07-09T10:21:56.720Z"
   },
   {
    "duration": 164,
    "start_time": "2021-07-09T10:21:56.742Z"
   },
   {
    "duration": 103,
    "start_time": "2021-07-09T10:21:56.908Z"
   },
   {
    "duration": 565,
    "start_time": "2021-07-09T10:21:57.013Z"
   },
   {
    "duration": 113,
    "start_time": "2021-07-09T10:22:21.695Z"
   },
   {
    "duration": 1142,
    "start_time": "2021-07-10T06:58:01.110Z"
   },
   {
    "duration": 95,
    "start_time": "2021-07-10T06:58:02.254Z"
   },
   {
    "duration": 4,
    "start_time": "2021-07-10T06:59:05.470Z"
   },
   {
    "duration": 68,
    "start_time": "2021-07-10T06:59:05.846Z"
   },
   {
    "duration": 4,
    "start_time": "2021-07-10T06:59:10.400Z"
   },
   {
    "duration": 18,
    "start_time": "2021-07-10T06:59:10.805Z"
   },
   {
    "duration": 18,
    "start_time": "2021-07-10T06:59:11.123Z"
   },
   {
    "duration": 15,
    "start_time": "2021-07-10T06:59:11.747Z"
   },
   {
    "duration": 14,
    "start_time": "2021-07-10T06:59:11.971Z"
   },
   {
    "duration": 13,
    "start_time": "2021-07-10T06:59:12.330Z"
   },
   {
    "duration": 23,
    "start_time": "2021-07-10T06:59:12.536Z"
   },
   {
    "duration": 7,
    "start_time": "2021-07-10T06:59:12.762Z"
   },
   {
    "duration": 11,
    "start_time": "2021-07-10T06:59:13.152Z"
   },
   {
    "duration": 8,
    "start_time": "2021-07-10T06:59:13.564Z"
   },
   {
    "duration": 9,
    "start_time": "2021-07-10T06:59:13.798Z"
   },
   {
    "duration": 14,
    "start_time": "2021-07-10T06:59:14.192Z"
   },
   {
    "duration": 6,
    "start_time": "2021-07-10T06:59:14.392Z"
   },
   {
    "duration": 6,
    "start_time": "2021-07-10T06:59:14.786Z"
   },
   {
    "duration": 6,
    "start_time": "2021-07-10T06:59:14.988Z"
   },
   {
    "duration": 6,
    "start_time": "2021-07-10T06:59:15.184Z"
   },
   {
    "duration": 9,
    "start_time": "2021-07-10T06:59:15.338Z"
   },
   {
    "duration": 516,
    "start_time": "2021-07-10T06:59:15.550Z"
   },
   {
    "duration": 445,
    "start_time": "2021-07-10T06:59:16.410Z"
   },
   {
    "duration": 6,
    "start_time": "2021-07-10T06:59:17.420Z"
   },
   {
    "duration": 11,
    "start_time": "2021-07-10T06:59:18.169Z"
   },
   {
    "duration": 14,
    "start_time": "2021-07-10T06:59:18.509Z"
   },
   {
    "duration": 129,
    "start_time": "2021-07-10T06:59:18.841Z"
   },
   {
    "duration": 3,
    "start_time": "2021-07-10T06:59:19.245Z"
   },
   {
    "duration": 2,
    "start_time": "2021-07-10T06:59:19.399Z"
   },
   {
    "duration": 14,
    "start_time": "2021-07-10T06:59:19.554Z"
   },
   {
    "duration": 11,
    "start_time": "2021-07-10T06:59:20.194Z"
   },
   {
    "duration": 61,
    "start_time": "2021-07-10T06:59:21.019Z"
   },
   {
    "duration": 5,
    "start_time": "2021-07-10T06:59:21.527Z"
   },
   {
    "duration": 4,
    "start_time": "2021-07-10T06:59:21.918Z"
   },
   {
    "duration": 6,
    "start_time": "2021-07-10T06:59:22.273Z"
   },
   {
    "duration": 6,
    "start_time": "2021-07-10T06:59:22.955Z"
   },
   {
    "duration": 16,
    "start_time": "2021-07-10T06:59:23.756Z"
   },
   {
    "duration": 7,
    "start_time": "2021-07-10T06:59:24.645Z"
   },
   {
    "duration": 9,
    "start_time": "2021-07-10T06:59:25.053Z"
   },
   {
    "duration": 3,
    "start_time": "2021-07-10T06:59:25.684Z"
   },
   {
    "duration": 5,
    "start_time": "2021-07-10T06:59:25.933Z"
   },
   {
    "duration": 5,
    "start_time": "2021-07-10T06:59:33.854Z"
   },
   {
    "duration": 1593,
    "start_time": "2021-07-10T08:35:57.560Z"
   },
   {
    "duration": 114,
    "start_time": "2021-07-10T08:35:59.156Z"
   },
   {
    "duration": 5,
    "start_time": "2021-07-10T08:35:59.272Z"
   },
   {
    "duration": 116,
    "start_time": "2021-07-10T08:35:59.280Z"
   },
   {
    "duration": 4,
    "start_time": "2021-07-10T08:35:59.399Z"
   },
   {
    "duration": 43,
    "start_time": "2021-07-10T08:35:59.405Z"
   },
   {
    "duration": 28,
    "start_time": "2021-07-10T08:35:59.450Z"
   },
   {
    "duration": 32,
    "start_time": "2021-07-10T08:35:59.481Z"
   },
   {
    "duration": 21,
    "start_time": "2021-07-10T08:35:59.516Z"
   },
   {
    "duration": 19,
    "start_time": "2021-07-10T08:35:59.539Z"
   },
   {
    "duration": 64,
    "start_time": "2021-07-10T08:35:59.561Z"
   },
   {
    "duration": 11,
    "start_time": "2021-07-10T08:35:59.627Z"
   },
   {
    "duration": 28,
    "start_time": "2021-07-10T08:35:59.641Z"
   },
   {
    "duration": 17,
    "start_time": "2021-07-10T08:35:59.672Z"
   },
   {
    "duration": 23,
    "start_time": "2021-07-10T08:35:59.692Z"
   },
   {
    "duration": 18,
    "start_time": "2021-07-10T08:35:59.717Z"
   },
   {
    "duration": 15,
    "start_time": "2021-07-10T08:35:59.737Z"
   },
   {
    "duration": 22,
    "start_time": "2021-07-10T08:35:59.754Z"
   },
   {
    "duration": 14,
    "start_time": "2021-07-10T08:35:59.778Z"
   },
   {
    "duration": 22,
    "start_time": "2021-07-10T08:35:59.794Z"
   },
   {
    "duration": 28,
    "start_time": "2021-07-10T08:35:59.818Z"
   },
   {
    "duration": 855,
    "start_time": "2021-07-10T08:35:59.849Z"
   },
   {
    "duration": 7430,
    "start_time": "2021-07-10T08:36:00.710Z"
   },
   {
    "duration": -26,
    "start_time": "2021-07-10T08:36:08.170Z"
   },
   {
    "duration": -26,
    "start_time": "2021-07-10T08:36:08.172Z"
   },
   {
    "duration": -27,
    "start_time": "2021-07-10T08:36:08.174Z"
   },
   {
    "duration": -26,
    "start_time": "2021-07-10T08:36:08.175Z"
   },
   {
    "duration": -26,
    "start_time": "2021-07-10T08:36:08.177Z"
   },
   {
    "duration": -26,
    "start_time": "2021-07-10T08:36:08.178Z"
   },
   {
    "duration": -27,
    "start_time": "2021-07-10T08:36:08.180Z"
   },
   {
    "duration": -26,
    "start_time": "2021-07-10T08:36:08.181Z"
   },
   {
    "duration": -25,
    "start_time": "2021-07-10T08:36:08.182Z"
   },
   {
    "duration": -26,
    "start_time": "2021-07-10T08:36:08.184Z"
   },
   {
    "duration": -25,
    "start_time": "2021-07-10T08:36:08.185Z"
   },
   {
    "duration": -26,
    "start_time": "2021-07-10T08:36:08.187Z"
   },
   {
    "duration": -25,
    "start_time": "2021-07-10T08:36:08.188Z"
   },
   {
    "duration": -25,
    "start_time": "2021-07-10T08:36:08.189Z"
   },
   {
    "duration": -25,
    "start_time": "2021-07-10T08:36:08.191Z"
   },
   {
    "duration": -24,
    "start_time": "2021-07-10T08:36:08.192Z"
   },
   {
    "duration": -39,
    "start_time": "2021-07-10T08:36:08.208Z"
   },
   {
    "duration": -44,
    "start_time": "2021-07-10T08:36:08.214Z"
   },
   {
    "duration": -44,
    "start_time": "2021-07-10T08:36:08.215Z"
   },
   {
    "duration": -43,
    "start_time": "2021-07-10T08:36:08.216Z"
   },
   {
    "duration": -42,
    "start_time": "2021-07-10T08:36:08.217Z"
   },
   {
    "duration": -42,
    "start_time": "2021-07-10T08:36:08.218Z"
   },
   {
    "duration": -42,
    "start_time": "2021-07-10T08:36:08.219Z"
   },
   {
    "duration": -42,
    "start_time": "2021-07-10T08:36:08.220Z"
   },
   {
    "duration": -40,
    "start_time": "2021-07-10T08:36:08.220Z"
   },
   {
    "duration": -21,
    "start_time": "2021-07-10T08:36:08.221Z"
   },
   {
    "duration": -20,
    "start_time": "2021-07-10T08:36:08.222Z"
   },
   {
    "duration": -20,
    "start_time": "2021-07-10T08:36:08.223Z"
   },
   {
    "duration": -18,
    "start_time": "2021-07-10T08:36:08.223Z"
   },
   {
    "duration": 1587,
    "start_time": "2021-07-10T08:38:13.500Z"
   },
   {
    "duration": 114,
    "start_time": "2021-07-10T08:38:15.089Z"
   },
   {
    "duration": 6,
    "start_time": "2021-07-10T08:38:15.207Z"
   },
   {
    "duration": 140,
    "start_time": "2021-07-10T08:38:15.217Z"
   },
   {
    "duration": 5,
    "start_time": "2021-07-10T08:38:15.359Z"
   },
   {
    "duration": 44,
    "start_time": "2021-07-10T08:38:15.366Z"
   },
   {
    "duration": 29,
    "start_time": "2021-07-10T08:38:15.412Z"
   },
   {
    "duration": 20,
    "start_time": "2021-07-10T08:38:15.444Z"
   },
   {
    "duration": 47,
    "start_time": "2021-07-10T08:38:15.468Z"
   },
   {
    "duration": 17,
    "start_time": "2021-07-10T08:38:15.519Z"
   },
   {
    "duration": 67,
    "start_time": "2021-07-10T08:38:15.539Z"
   },
   {
    "duration": 11,
    "start_time": "2021-07-10T08:38:15.608Z"
   },
   {
    "duration": 18,
    "start_time": "2021-07-10T08:38:15.621Z"
   },
   {
    "duration": 13,
    "start_time": "2021-07-10T08:38:15.642Z"
   },
   {
    "duration": 47,
    "start_time": "2021-07-10T08:38:15.658Z"
   },
   {
    "duration": 21,
    "start_time": "2021-07-10T08:38:15.707Z"
   },
   {
    "duration": 8,
    "start_time": "2021-07-10T08:38:15.731Z"
   },
   {
    "duration": 12,
    "start_time": "2021-07-10T08:38:15.742Z"
   },
   {
    "duration": 10,
    "start_time": "2021-07-10T08:38:15.756Z"
   },
   {
    "duration": 37,
    "start_time": "2021-07-10T08:38:15.769Z"
   },
   {
    "duration": 15,
    "start_time": "2021-07-10T08:38:15.808Z"
   },
   {
    "duration": 1314,
    "start_time": "2021-07-10T08:38:15.826Z"
   },
   {
    "duration": 9,
    "start_time": "2021-07-10T08:38:17.143Z"
   },
   {
    "duration": 17,
    "start_time": "2021-07-10T08:38:17.155Z"
   },
   {
    "duration": 40,
    "start_time": "2021-07-10T08:38:17.175Z"
   },
   {
    "duration": 123,
    "start_time": "2021-07-10T08:38:17.219Z"
   },
   {
    "duration": 4,
    "start_time": "2021-07-10T08:38:17.348Z"
   },
   {
    "duration": 8,
    "start_time": "2021-07-10T08:38:17.356Z"
   },
   {
    "duration": 7311,
    "start_time": "2021-07-10T08:38:17.366Z"
   },
   {
    "duration": 0,
    "start_time": "2021-07-10T08:38:24.680Z"
   },
   {
    "duration": -1,
    "start_time": "2021-07-10T08:38:24.682Z"
   },
   {
    "duration": -1,
    "start_time": "2021-07-10T08:38:24.684Z"
   },
   {
    "duration": -1,
    "start_time": "2021-07-10T08:38:24.686Z"
   },
   {
    "duration": -1,
    "start_time": "2021-07-10T08:38:24.687Z"
   },
   {
    "duration": -1,
    "start_time": "2021-07-10T08:38:24.689Z"
   },
   {
    "duration": -2,
    "start_time": "2021-07-10T08:38:24.691Z"
   },
   {
    "duration": -1,
    "start_time": "2021-07-10T08:38:24.692Z"
   },
   {
    "duration": -1,
    "start_time": "2021-07-10T08:38:24.694Z"
   },
   {
    "duration": -1,
    "start_time": "2021-07-10T08:38:24.695Z"
   },
   {
    "duration": -1,
    "start_time": "2021-07-10T08:38:24.697Z"
   },
   {
    "duration": -2,
    "start_time": "2021-07-10T08:38:24.699Z"
   },
   {
    "duration": -16,
    "start_time": "2021-07-10T08:38:24.715Z"
   },
   {
    "duration": -16,
    "start_time": "2021-07-10T08:38:24.716Z"
   },
   {
    "duration": -16,
    "start_time": "2021-07-10T08:38:24.718Z"
   },
   {
    "duration": -16,
    "start_time": "2021-07-10T08:38:24.719Z"
   },
   {
    "duration": -15,
    "start_time": "2021-07-10T08:38:24.720Z"
   },
   {
    "duration": -14,
    "start_time": "2021-07-10T08:38:24.721Z"
   },
   {
    "duration": -14,
    "start_time": "2021-07-10T08:38:24.722Z"
   },
   {
    "duration": -15,
    "start_time": "2021-07-10T08:38:24.724Z"
   },
   {
    "duration": -14,
    "start_time": "2021-07-10T08:38:24.725Z"
   },
   {
    "duration": -14,
    "start_time": "2021-07-10T08:38:24.726Z"
   },
   {
    "duration": 1572,
    "start_time": "2021-07-10T08:39:48.573Z"
   },
   {
    "duration": 114,
    "start_time": "2021-07-10T08:39:50.148Z"
   },
   {
    "duration": 6,
    "start_time": "2021-07-10T08:39:50.265Z"
   },
   {
    "duration": 128,
    "start_time": "2021-07-10T08:39:50.273Z"
   },
   {
    "duration": 5,
    "start_time": "2021-07-10T08:39:50.404Z"
   },
   {
    "duration": 31,
    "start_time": "2021-07-10T08:39:50.411Z"
   },
   {
    "duration": 54,
    "start_time": "2021-07-10T08:39:50.445Z"
   },
   {
    "duration": 20,
    "start_time": "2021-07-10T08:39:50.504Z"
   },
   {
    "duration": 21,
    "start_time": "2021-07-10T08:39:50.527Z"
   },
   {
    "duration": 16,
    "start_time": "2021-07-10T08:39:50.551Z"
   },
   {
    "duration": 36,
    "start_time": "2021-07-10T08:39:50.602Z"
   },
   {
    "duration": 20,
    "start_time": "2021-07-10T08:39:50.641Z"
   },
   {
    "duration": 44,
    "start_time": "2021-07-10T08:39:50.664Z"
   },
   {
    "duration": 12,
    "start_time": "2021-07-10T08:39:50.711Z"
   },
   {
    "duration": 11,
    "start_time": "2021-07-10T08:39:50.726Z"
   },
   {
    "duration": 17,
    "start_time": "2021-07-10T08:39:50.740Z"
   },
   {
    "duration": 43,
    "start_time": "2021-07-10T08:39:50.760Z"
   },
   {
    "duration": 8,
    "start_time": "2021-07-10T08:39:50.805Z"
   },
   {
    "duration": 12,
    "start_time": "2021-07-10T08:39:50.815Z"
   },
   {
    "duration": 9,
    "start_time": "2021-07-10T08:39:50.829Z"
   },
   {
    "duration": 15,
    "start_time": "2021-07-10T08:39:50.841Z"
   },
   {
    "duration": 879,
    "start_time": "2021-07-10T08:39:50.859Z"
   },
   {
    "duration": 7,
    "start_time": "2021-07-10T08:39:51.743Z"
   },
   {
    "duration": 14,
    "start_time": "2021-07-10T08:39:51.753Z"
   },
   {
    "duration": 40,
    "start_time": "2021-07-10T08:39:51.769Z"
   },
   {
    "duration": 119,
    "start_time": "2021-07-10T08:39:51.812Z"
   },
   {
    "duration": 4,
    "start_time": "2021-07-10T08:39:51.934Z"
   },
   {
    "duration": 8,
    "start_time": "2021-07-10T08:39:51.940Z"
   },
   {
    "duration": 52,
    "start_time": "2021-07-10T08:39:51.951Z"
   },
   {
    "duration": 15,
    "start_time": "2021-07-10T08:39:52.005Z"
   },
   {
    "duration": 113,
    "start_time": "2021-07-10T08:39:52.023Z"
   },
   {
    "duration": 6,
    "start_time": "2021-07-10T08:39:52.139Z"
   },
   {
    "duration": 9,
    "start_time": "2021-07-10T08:39:52.148Z"
   },
   {
    "duration": 7,
    "start_time": "2021-07-10T08:39:52.159Z"
   },
   {
    "duration": 37,
    "start_time": "2021-07-10T08:39:52.168Z"
   },
   {
    "duration": 31,
    "start_time": "2021-07-10T08:39:52.208Z"
   },
   {
    "duration": 8,
    "start_time": "2021-07-10T08:39:52.241Z"
   },
   {
    "duration": 10,
    "start_time": "2021-07-10T08:39:52.252Z"
   },
   {
    "duration": 5,
    "start_time": "2021-07-10T08:39:52.301Z"
   },
   {
    "duration": 12,
    "start_time": "2021-07-10T08:39:52.308Z"
   },
   {
    "duration": 10,
    "start_time": "2021-07-10T08:39:52.322Z"
   },
   {
    "duration": 6446,
    "start_time": "2021-07-10T08:39:52.334Z"
   },
   {
    "duration": 137621,
    "start_time": "2021-07-10T08:39:58.783Z"
   },
   {
    "duration": 2620113,
    "start_time": "2021-07-10T08:42:16.406Z"
   },
   {
    "duration": 10,
    "start_time": "2021-07-10T09:25:56.521Z"
   },
   {
    "duration": 1168675,
    "start_time": "2021-07-10T09:25:56.534Z"
   },
   {
    "duration": 5,
    "start_time": "2021-07-10T09:45:25.211Z"
   },
   {
    "duration": 15,
    "start_time": "2021-07-10T09:45:25.219Z"
   },
   {
    "duration": 175,
    "start_time": "2021-07-10T09:45:25.237Z"
   },
   {
    "duration": 193,
    "start_time": "2021-07-10T09:45:25.415Z"
   },
   {
    "duration": 569,
    "start_time": "2021-07-10T09:45:25.611Z"
   },
   {
    "duration": 1669,
    "start_time": "2021-07-10T15:00:39.010Z"
   },
   {
    "duration": 114,
    "start_time": "2021-07-10T15:00:40.682Z"
   },
   {
    "duration": 6,
    "start_time": "2021-07-10T15:00:40.799Z"
   },
   {
    "duration": 134,
    "start_time": "2021-07-10T15:00:40.810Z"
   },
   {
    "duration": 7,
    "start_time": "2021-07-10T15:00:40.947Z"
   },
   {
    "duration": 52,
    "start_time": "2021-07-10T15:00:40.957Z"
   },
   {
    "duration": 29,
    "start_time": "2021-07-10T15:00:41.011Z"
   },
   {
    "duration": 19,
    "start_time": "2021-07-10T15:00:41.043Z"
   },
   {
    "duration": 44,
    "start_time": "2021-07-10T15:00:41.066Z"
   },
   {
    "duration": 17,
    "start_time": "2021-07-10T15:00:41.112Z"
   },
   {
    "duration": 35,
    "start_time": "2021-07-10T15:00:41.132Z"
   },
   {
    "duration": 37,
    "start_time": "2021-07-10T15:00:41.169Z"
   },
   {
    "duration": 23,
    "start_time": "2021-07-10T15:00:41.209Z"
   },
   {
    "duration": 20,
    "start_time": "2021-07-10T15:00:41.235Z"
   },
   {
    "duration": 17,
    "start_time": "2021-07-10T15:00:41.258Z"
   },
   {
    "duration": 18,
    "start_time": "2021-07-10T15:00:41.299Z"
   },
   {
    "duration": 8,
    "start_time": "2021-07-10T15:00:41.319Z"
   },
   {
    "duration": 10,
    "start_time": "2021-07-10T15:00:41.329Z"
   },
   {
    "duration": 8,
    "start_time": "2021-07-10T15:00:41.341Z"
   },
   {
    "duration": 48,
    "start_time": "2021-07-10T15:00:41.352Z"
   },
   {
    "duration": 13,
    "start_time": "2021-07-10T15:00:41.403Z"
   },
   {
    "duration": 864,
    "start_time": "2021-07-10T15:00:41.419Z"
   },
   {
    "duration": 16,
    "start_time": "2021-07-10T15:00:42.289Z"
   },
   {
    "duration": 15,
    "start_time": "2021-07-10T15:00:42.308Z"
   },
   {
    "duration": 23,
    "start_time": "2021-07-10T15:00:42.326Z"
   },
   {
    "duration": 144,
    "start_time": "2021-07-10T15:00:42.351Z"
   },
   {
    "duration": 4,
    "start_time": "2021-07-10T15:00:42.501Z"
   },
   {
    "duration": 9,
    "start_time": "2021-07-10T15:00:42.507Z"
   },
   {
    "duration": 34,
    "start_time": "2021-07-10T15:00:42.518Z"
   },
   {
    "duration": 15,
    "start_time": "2021-07-10T15:00:42.555Z"
   },
   {
    "duration": 442,
    "start_time": "2021-07-10T15:00:42.601Z"
   },
   {
    "duration": -15,
    "start_time": "2021-07-10T15:00:43.061Z"
   },
   {
    "duration": -15,
    "start_time": "2021-07-10T15:00:43.062Z"
   },
   {
    "duration": -14,
    "start_time": "2021-07-10T15:00:43.063Z"
   },
   {
    "duration": -15,
    "start_time": "2021-07-10T15:00:43.065Z"
   },
   {
    "duration": -15,
    "start_time": "2021-07-10T15:00:43.066Z"
   },
   {
    "duration": -14,
    "start_time": "2021-07-10T15:00:43.067Z"
   },
   {
    "duration": -45,
    "start_time": "2021-07-10T15:00:43.099Z"
   },
   {
    "duration": -44,
    "start_time": "2021-07-10T15:00:43.100Z"
   },
   {
    "duration": -44,
    "start_time": "2021-07-10T15:00:43.101Z"
   },
   {
    "duration": -43,
    "start_time": "2021-07-10T15:00:43.102Z"
   },
   {
    "duration": -43,
    "start_time": "2021-07-10T15:00:43.103Z"
   },
   {
    "duration": -41,
    "start_time": "2021-07-10T15:00:43.103Z"
   },
   {
    "duration": -41,
    "start_time": "2021-07-10T15:00:43.104Z"
   },
   {
    "duration": -41,
    "start_time": "2021-07-10T15:00:43.105Z"
   },
   {
    "duration": -40,
    "start_time": "2021-07-10T15:00:43.106Z"
   },
   {
    "duration": -40,
    "start_time": "2021-07-10T15:00:43.107Z"
   },
   {
    "duration": -39,
    "start_time": "2021-07-10T15:00:43.108Z"
   },
   {
    "duration": -39,
    "start_time": "2021-07-10T15:00:43.109Z"
   },
   {
    "duration": -39,
    "start_time": "2021-07-10T15:00:43.110Z"
   },
   {
    "duration": -38,
    "start_time": "2021-07-10T15:00:43.111Z"
   },
   {
    "duration": 51,
    "start_time": "2021-07-10T15:02:28.342Z"
   },
   {
    "duration": 26,
    "start_time": "2021-07-10T15:02:36.984Z"
   },
   {
    "duration": 39,
    "start_time": "2021-07-10T15:04:09.221Z"
   },
   {
    "duration": 290,
    "start_time": "2021-07-10T15:05:17.045Z"
   },
   {
    "duration": 9,
    "start_time": "2021-07-10T15:06:01.361Z"
   },
   {
    "duration": 1563,
    "start_time": "2021-07-10T15:07:18.072Z"
   },
   {
    "duration": 113,
    "start_time": "2021-07-10T15:07:19.637Z"
   },
   {
    "duration": 5,
    "start_time": "2021-07-10T15:07:19.753Z"
   },
   {
    "duration": 119,
    "start_time": "2021-07-10T15:07:19.761Z"
   },
   {
    "duration": 6,
    "start_time": "2021-07-10T15:07:19.883Z"
   },
   {
    "duration": 26,
    "start_time": "2021-07-10T15:07:19.902Z"
   },
   {
    "duration": 29,
    "start_time": "2021-07-10T15:07:19.931Z"
   },
   {
    "duration": 43,
    "start_time": "2021-07-10T15:07:19.964Z"
   },
   {
    "duration": 20,
    "start_time": "2021-07-10T15:07:20.010Z"
   },
   {
    "duration": 16,
    "start_time": "2021-07-10T15:07:20.033Z"
   },
   {
    "duration": 64,
    "start_time": "2021-07-10T15:07:20.052Z"
   },
   {
    "duration": 9,
    "start_time": "2021-07-10T15:07:20.118Z"
   },
   {
    "duration": 16,
    "start_time": "2021-07-10T15:07:20.129Z"
   },
   {
    "duration": 12,
    "start_time": "2021-07-10T15:07:20.148Z"
   },
   {
    "duration": 45,
    "start_time": "2021-07-10T15:07:20.163Z"
   },
   {
    "duration": 17,
    "start_time": "2021-07-10T15:07:20.211Z"
   },
   {
    "duration": 7,
    "start_time": "2021-07-10T15:07:20.231Z"
   },
   {
    "duration": 13,
    "start_time": "2021-07-10T15:07:20.240Z"
   },
   {
    "duration": 10,
    "start_time": "2021-07-10T15:07:20.256Z"
   },
   {
    "duration": 9,
    "start_time": "2021-07-10T15:07:20.300Z"
   },
   {
    "duration": 13,
    "start_time": "2021-07-10T15:07:20.311Z"
   },
   {
    "duration": 843,
    "start_time": "2021-07-10T15:07:20.327Z"
   },
   {
    "duration": 7,
    "start_time": "2021-07-10T15:07:21.176Z"
   },
   {
    "duration": 12,
    "start_time": "2021-07-10T15:07:21.201Z"
   },
   {
    "duration": 21,
    "start_time": "2021-07-10T15:07:21.215Z"
   },
   {
    "duration": 136,
    "start_time": "2021-07-10T15:07:21.238Z"
   },
   {
    "duration": 4,
    "start_time": "2021-07-10T15:07:21.376Z"
   },
   {
    "duration": 17,
    "start_time": "2021-07-10T15:07:21.383Z"
   },
   {
    "duration": 24,
    "start_time": "2021-07-10T15:07:21.403Z"
   },
   {
    "duration": 13,
    "start_time": "2021-07-10T15:07:21.430Z"
   },
   {
    "duration": 87,
    "start_time": "2021-07-10T15:07:21.446Z"
   },
   {
    "duration": 25,
    "start_time": "2021-07-10T15:07:21.535Z"
   },
   {
    "duration": 51,
    "start_time": "2021-07-10T15:07:21.563Z"
   },
   {
    "duration": 7,
    "start_time": "2021-07-10T15:07:21.617Z"
   },
   {
    "duration": 7,
    "start_time": "2021-07-10T15:07:21.626Z"
   },
   {
    "duration": 6,
    "start_time": "2021-07-10T15:07:21.636Z"
   },
   {
    "duration": 15,
    "start_time": "2021-07-10T15:07:21.644Z"
   },
   {
    "duration": 59,
    "start_time": "2021-07-10T15:07:21.662Z"
   },
   {
    "duration": 17,
    "start_time": "2021-07-10T15:07:21.723Z"
   },
   {
    "duration": 12,
    "start_time": "2021-07-10T15:07:21.742Z"
   },
   {
    "duration": 8,
    "start_time": "2021-07-10T15:07:21.756Z"
   },
   {
    "duration": 15,
    "start_time": "2021-07-10T15:07:21.766Z"
   },
   {
    "duration": 20,
    "start_time": "2021-07-10T15:07:21.783Z"
   },
   {
    "duration": 39810,
    "start_time": "2021-07-10T15:07:21.806Z"
   },
   {
    "duration": 383,
    "start_time": "2021-07-10T15:08:01.620Z"
   },
   {
    "duration": 31413,
    "start_time": "2021-07-10T15:08:02.006Z"
   },
   {
    "duration": 81,
    "start_time": "2021-07-10T15:08:33.421Z"
   },
   {
    "duration": 1561,
    "start_time": "2021-07-10T15:09:39.906Z"
   },
   {
    "duration": 140,
    "start_time": "2021-07-10T15:09:41.470Z"
   },
   {
    "duration": 5,
    "start_time": "2021-07-10T15:09:41.613Z"
   },
   {
    "duration": 136,
    "start_time": "2021-07-10T15:09:41.621Z"
   },
   {
    "duration": 6,
    "start_time": "2021-07-10T15:09:41.759Z"
   },
   {
    "duration": 45,
    "start_time": "2021-07-10T15:09:41.767Z"
   },
   {
    "duration": 28,
    "start_time": "2021-07-10T15:09:41.815Z"
   },
   {
    "duration": 19,
    "start_time": "2021-07-10T15:09:41.847Z"
   },
   {
    "duration": 48,
    "start_time": "2021-07-10T15:09:41.869Z"
   },
   {
    "duration": 23,
    "start_time": "2021-07-10T15:09:41.920Z"
   },
   {
    "duration": 75,
    "start_time": "2021-07-10T15:09:41.946Z"
   },
   {
    "duration": 11,
    "start_time": "2021-07-10T15:09:42.024Z"
   },
   {
    "duration": 23,
    "start_time": "2021-07-10T15:09:42.038Z"
   },
   {
    "duration": 43,
    "start_time": "2021-07-10T15:09:42.064Z"
   },
   {
    "duration": 13,
    "start_time": "2021-07-10T15:09:42.110Z"
   },
   {
    "duration": 24,
    "start_time": "2021-07-10T15:09:42.126Z"
   },
   {
    "duration": 9,
    "start_time": "2021-07-10T15:09:42.153Z"
   },
   {
    "duration": 43,
    "start_time": "2021-07-10T15:09:42.165Z"
   },
   {
    "duration": 9,
    "start_time": "2021-07-10T15:09:42.211Z"
   },
   {
    "duration": 9,
    "start_time": "2021-07-10T15:09:42.223Z"
   },
   {
    "duration": 16,
    "start_time": "2021-07-10T15:09:42.235Z"
   },
   {
    "duration": 897,
    "start_time": "2021-07-10T15:09:42.255Z"
   },
   {
    "duration": 8,
    "start_time": "2021-07-10T15:09:43.158Z"
   },
   {
    "duration": 31,
    "start_time": "2021-07-10T15:09:43.169Z"
   },
   {
    "duration": 21,
    "start_time": "2021-07-10T15:09:43.203Z"
   },
   {
    "duration": 125,
    "start_time": "2021-07-10T15:09:43.227Z"
   },
   {
    "duration": 4,
    "start_time": "2021-07-10T15:09:43.354Z"
   },
   {
    "duration": 8,
    "start_time": "2021-07-10T15:09:43.360Z"
   },
   {
    "duration": 43,
    "start_time": "2021-07-10T15:09:43.370Z"
   },
   {
    "duration": 14,
    "start_time": "2021-07-10T15:09:43.416Z"
   },
   {
    "duration": 73,
    "start_time": "2021-07-10T15:09:43.433Z"
   },
   {
    "duration": 25,
    "start_time": "2021-07-10T15:09:43.509Z"
   },
   {
    "duration": 31,
    "start_time": "2021-07-10T15:09:43.537Z"
   },
   {
    "duration": 34,
    "start_time": "2021-07-10T15:09:43.571Z"
   },
   {
    "duration": 95,
    "start_time": "2021-07-10T15:09:43.608Z"
   },
   {
    "duration": 77,
    "start_time": "2021-07-10T15:09:43.628Z"
   },
   {
    "duration": 78,
    "start_time": "2021-07-10T15:09:43.629Z"
   },
   {
    "duration": 71,
    "start_time": "2021-07-10T15:09:43.637Z"
   },
   {
    "duration": 72,
    "start_time": "2021-07-10T15:09:43.638Z"
   },
   {
    "duration": 72,
    "start_time": "2021-07-10T15:09:43.639Z"
   },
   {
    "duration": 73,
    "start_time": "2021-07-10T15:09:43.640Z"
   },
   {
    "duration": 74,
    "start_time": "2021-07-10T15:09:43.641Z"
   },
   {
    "duration": 70,
    "start_time": "2021-07-10T15:09:43.646Z"
   },
   {
    "duration": 69,
    "start_time": "2021-07-10T15:09:43.648Z"
   },
   {
    "duration": 71,
    "start_time": "2021-07-10T15:09:43.648Z"
   },
   {
    "duration": 67,
    "start_time": "2021-07-10T15:09:43.654Z"
   },
   {
    "duration": 67,
    "start_time": "2021-07-10T15:09:43.655Z"
   },
   {
    "duration": 68,
    "start_time": "2021-07-10T15:09:43.656Z"
   },
   {
    "duration": 65,
    "start_time": "2021-07-10T15:09:43.660Z"
   },
   {
    "duration": 66,
    "start_time": "2021-07-10T15:09:43.661Z"
   },
   {
    "duration": 66,
    "start_time": "2021-07-10T15:09:43.662Z"
   },
   {
    "duration": 66,
    "start_time": "2021-07-10T15:09:43.663Z"
   },
   {
    "duration": 66,
    "start_time": "2021-07-10T15:09:43.664Z"
   },
   {
    "duration": 67,
    "start_time": "2021-07-10T15:09:43.665Z"
   },
   {
    "duration": 64,
    "start_time": "2021-07-10T15:09:43.669Z"
   },
   {
    "duration": 5,
    "start_time": "2021-07-10T15:10:53.711Z"
   },
   {
    "duration": 7,
    "start_time": "2021-07-10T15:10:58.672Z"
   },
   {
    "duration": 7,
    "start_time": "2021-07-10T15:10:59.816Z"
   },
   {
    "duration": 8,
    "start_time": "2021-07-10T15:11:02.021Z"
   },
   {
    "duration": 9,
    "start_time": "2021-07-10T15:11:03.180Z"
   },
   {
    "duration": 30,
    "start_time": "2021-07-10T15:11:03.419Z"
   },
   {
    "duration": 9,
    "start_time": "2021-07-10T15:11:04.679Z"
   },
   {
    "duration": 11,
    "start_time": "2021-07-10T15:11:05.825Z"
   },
   {
    "duration": 5,
    "start_time": "2021-07-10T15:11:06.512Z"
   },
   {
    "duration": 8,
    "start_time": "2021-07-10T15:11:07.022Z"
   },
   {
    "duration": 7,
    "start_time": "2021-07-10T15:11:09.785Z"
   },
   {
    "duration": 39319,
    "start_time": "2021-07-10T15:11:11.333Z"
   },
   {
    "duration": 85084,
    "start_time": "2021-07-10T15:11:50.655Z"
   },
   {
    "duration": 38175,
    "start_time": "2021-07-10T15:13:15.742Z"
   },
   {
    "duration": 82,
    "start_time": "2021-07-10T15:13:53.919Z"
   },
   {
    "duration": 740415,
    "start_time": "2021-07-10T15:13:54.004Z"
   },
   {
    "duration": 81,
    "start_time": "2021-07-10T15:26:14.422Z"
   },
   {
    "duration": 17,
    "start_time": "2021-07-10T15:26:14.505Z"
   },
   {
    "duration": 177,
    "start_time": "2021-07-10T15:26:14.525Z"
   },
   {
    "duration": 111,
    "start_time": "2021-07-10T15:26:14.704Z"
   },
   {
    "duration": 541,
    "start_time": "2021-07-10T15:26:14.818Z"
   },
   {
    "duration": 4224,
    "start_time": "2021-07-10T15:26:15.361Z"
   },
   {
    "duration": 26357,
    "start_time": "2021-07-10T15:26:19.587Z"
   },
   {
    "duration": 1561,
    "start_time": "2021-07-10T15:43:33.580Z"
   },
   {
    "duration": 119,
    "start_time": "2021-07-10T15:43:35.144Z"
   },
   {
    "duration": 6,
    "start_time": "2021-07-10T15:43:35.267Z"
   },
   {
    "duration": 111,
    "start_time": "2021-07-10T15:43:35.277Z"
   },
   {
    "duration": 11,
    "start_time": "2021-07-10T15:43:35.390Z"
   },
   {
    "duration": 29,
    "start_time": "2021-07-10T15:43:35.404Z"
   },
   {
    "duration": 29,
    "start_time": "2021-07-10T15:43:35.435Z"
   },
   {
    "duration": 22,
    "start_time": "2021-07-10T15:43:35.501Z"
   },
   {
    "duration": 21,
    "start_time": "2021-07-10T15:43:35.526Z"
   },
   {
    "duration": 17,
    "start_time": "2021-07-10T15:43:35.549Z"
   },
   {
    "duration": 65,
    "start_time": "2021-07-10T15:43:35.569Z"
   },
   {
    "duration": 9,
    "start_time": "2021-07-10T15:43:35.637Z"
   },
   {
    "duration": 52,
    "start_time": "2021-07-10T15:43:35.649Z"
   },
   {
    "duration": 11,
    "start_time": "2021-07-10T15:43:35.703Z"
   },
   {
    "duration": 13,
    "start_time": "2021-07-10T15:43:35.716Z"
   },
   {
    "duration": 18,
    "start_time": "2021-07-10T15:43:35.732Z"
   },
   {
    "duration": 7,
    "start_time": "2021-07-10T15:43:35.753Z"
   },
   {
    "duration": 8,
    "start_time": "2021-07-10T15:43:35.801Z"
   },
   {
    "duration": 8,
    "start_time": "2021-07-10T15:43:35.812Z"
   },
   {
    "duration": 11,
    "start_time": "2021-07-10T15:43:35.822Z"
   },
   {
    "duration": 16,
    "start_time": "2021-07-10T15:43:35.835Z"
   },
   {
    "duration": 886,
    "start_time": "2021-07-10T15:43:35.853Z"
   },
   {
    "duration": 7,
    "start_time": "2021-07-10T15:43:36.746Z"
   },
   {
    "duration": 18,
    "start_time": "2021-07-10T15:43:36.757Z"
   },
   {
    "duration": 41,
    "start_time": "2021-07-10T15:43:36.777Z"
   },
   {
    "duration": 121,
    "start_time": "2021-07-10T15:43:36.821Z"
   },
   {
    "duration": 4,
    "start_time": "2021-07-10T15:43:36.945Z"
   },
   {
    "duration": 8,
    "start_time": "2021-07-10T15:43:36.952Z"
   },
   {
    "duration": 50,
    "start_time": "2021-07-10T15:43:36.962Z"
   },
   {
    "duration": 14,
    "start_time": "2021-07-10T15:43:37.015Z"
   },
   {
    "duration": 73,
    "start_time": "2021-07-10T15:43:37.031Z"
   },
   {
    "duration": 25,
    "start_time": "2021-07-10T15:43:37.106Z"
   },
   {
    "duration": 34,
    "start_time": "2021-07-10T15:43:37.133Z"
   },
   {
    "duration": 34,
    "start_time": "2021-07-10T15:43:37.169Z"
   },
   {
    "duration": 5,
    "start_time": "2021-07-10T15:43:37.205Z"
   },
   {
    "duration": 8,
    "start_time": "2021-07-10T15:43:37.213Z"
   },
   {
    "duration": 12,
    "start_time": "2021-07-10T15:43:37.223Z"
   },
   {
    "duration": 6,
    "start_time": "2021-07-10T15:43:37.238Z"
   },
   {
    "duration": 10,
    "start_time": "2021-07-10T15:43:37.246Z"
   },
   {
    "duration": 64,
    "start_time": "2021-07-10T15:43:37.258Z"
   },
   {
    "duration": 12,
    "start_time": "2021-07-10T15:43:37.325Z"
   },
   {
    "duration": 17,
    "start_time": "2021-07-10T15:43:37.339Z"
   },
   {
    "duration": 4,
    "start_time": "2021-07-10T15:43:37.359Z"
   },
   {
    "duration": 37,
    "start_time": "2021-07-10T15:43:37.365Z"
   },
   {
    "duration": 16,
    "start_time": "2021-07-10T15:43:37.405Z"
   },
   {
    "duration": 4289,
    "start_time": "2021-07-10T15:43:37.424Z"
   },
   {
    "duration": 25986,
    "start_time": "2021-07-10T15:43:41.716Z"
   },
   {
    "duration": 6900,
    "start_time": "2021-07-10T15:44:07.705Z"
   },
   {
    "duration": 10,
    "start_time": "2021-07-10T15:44:14.607Z"
   },
   {
    "duration": 708697,
    "start_time": "2021-07-10T15:44:14.620Z"
   },
   {
    "duration": 5,
    "start_time": "2021-07-10T15:56:03.319Z"
   },
   {
    "duration": 83,
    "start_time": "2021-07-10T15:56:03.326Z"
   },
   {
    "duration": 100,
    "start_time": "2021-07-10T15:56:03.412Z"
   },
   {
    "duration": 113,
    "start_time": "2021-07-10T15:56:03.602Z"
   },
   {
    "duration": 575,
    "start_time": "2021-07-10T15:56:03.718Z"
   },
   {
    "duration": 1710,
    "start_time": "2021-07-10T16:50:30.113Z"
   },
   {
    "duration": 117,
    "start_time": "2021-07-10T16:50:31.826Z"
   },
   {
    "duration": 6,
    "start_time": "2021-07-10T16:50:31.946Z"
   },
   {
    "duration": 159,
    "start_time": "2021-07-10T16:50:31.957Z"
   },
   {
    "duration": 6,
    "start_time": "2021-07-10T16:50:32.119Z"
   },
   {
    "duration": 34,
    "start_time": "2021-07-10T16:50:32.127Z"
   },
   {
    "duration": 54,
    "start_time": "2021-07-10T16:50:32.164Z"
   },
   {
    "duration": 23,
    "start_time": "2021-07-10T16:50:32.221Z"
   },
   {
    "duration": 20,
    "start_time": "2021-07-10T16:50:32.247Z"
   },
   {
    "duration": 41,
    "start_time": "2021-07-10T16:50:32.270Z"
   },
   {
    "duration": 38,
    "start_time": "2021-07-10T16:50:32.314Z"
   },
   {
    "duration": 47,
    "start_time": "2021-07-10T16:50:32.354Z"
   },
   {
    "duration": 17,
    "start_time": "2021-07-10T16:50:32.403Z"
   },
   {
    "duration": 15,
    "start_time": "2021-07-10T16:50:32.424Z"
   },
   {
    "duration": 13,
    "start_time": "2021-07-10T16:50:32.443Z"
   },
   {
    "duration": 60,
    "start_time": "2021-07-10T16:50:32.460Z"
   },
   {
    "duration": 8,
    "start_time": "2021-07-10T16:50:32.524Z"
   },
   {
    "duration": 11,
    "start_time": "2021-07-10T16:50:32.536Z"
   },
   {
    "duration": 10,
    "start_time": "2021-07-10T16:50:32.550Z"
   },
   {
    "duration": 10,
    "start_time": "2021-07-10T16:50:32.599Z"
   },
   {
    "duration": 16,
    "start_time": "2021-07-10T16:50:32.613Z"
   },
   {
    "duration": 1412,
    "start_time": "2021-07-10T16:50:32.632Z"
   },
   {
    "duration": 10,
    "start_time": "2021-07-10T16:50:34.054Z"
   },
   {
    "duration": 43,
    "start_time": "2021-07-10T16:50:34.068Z"
   },
   {
    "duration": 30,
    "start_time": "2021-07-10T16:50:34.114Z"
   },
   {
    "duration": 200,
    "start_time": "2021-07-10T16:50:34.147Z"
   },
   {
    "duration": 5,
    "start_time": "2021-07-10T16:50:34.350Z"
   },
   {
    "duration": 7,
    "start_time": "2021-07-10T16:50:34.358Z"
   },
   {
    "duration": 55,
    "start_time": "2021-07-10T16:50:34.368Z"
   },
   {
    "duration": 22,
    "start_time": "2021-07-10T16:50:34.426Z"
   },
   {
    "duration": 103,
    "start_time": "2021-07-10T16:50:34.451Z"
   },
   {
    "duration": 47,
    "start_time": "2021-07-10T16:50:34.557Z"
   },
   {
    "duration": 34,
    "start_time": "2021-07-10T16:50:34.607Z"
   },
   {
    "duration": 7,
    "start_time": "2021-07-10T16:50:34.643Z"
   },
   {
    "duration": 8,
    "start_time": "2021-07-10T16:50:34.652Z"
   },
   {
    "duration": 45,
    "start_time": "2021-07-10T16:50:34.662Z"
   },
   {
    "duration": 8,
    "start_time": "2021-07-10T16:50:34.709Z"
   },
   {
    "duration": 7,
    "start_time": "2021-07-10T16:50:34.720Z"
   },
   {
    "duration": 11,
    "start_time": "2021-07-10T16:50:34.730Z"
   },
   {
    "duration": 81,
    "start_time": "2021-07-10T16:50:34.743Z"
   },
   {
    "duration": 21,
    "start_time": "2021-07-10T16:50:34.827Z"
   },
   {
    "duration": 25,
    "start_time": "2021-07-10T16:50:34.850Z"
   },
   {
    "duration": 4,
    "start_time": "2021-07-10T16:50:34.877Z"
   },
   {
    "duration": 18,
    "start_time": "2021-07-10T16:50:34.883Z"
   },
   {
    "duration": 21,
    "start_time": "2021-07-10T16:50:34.903Z"
   },
   {
    "duration": 4483,
    "start_time": "2021-07-10T16:50:34.926Z"
   },
   {
    "duration": 33963,
    "start_time": "2021-07-10T16:50:39.412Z"
   },
   {
    "duration": 9934,
    "start_time": "2021-07-10T16:51:13.378Z"
   },
   {
    "duration": 10,
    "start_time": "2021-07-10T16:51:23.315Z"
   },
   {
    "duration": 49075,
    "start_time": "2021-07-10T16:51:23.328Z"
   },
   {
    "duration": 6,
    "start_time": "2021-07-10T16:52:12.405Z"
   },
   {
    "duration": 17,
    "start_time": "2021-07-10T16:52:12.413Z"
   },
   {
    "duration": 71,
    "start_time": "2021-07-10T16:52:12.433Z"
   },
   {
    "duration": 97,
    "start_time": "2021-07-10T16:52:12.507Z"
   },
   {
    "duration": 463,
    "start_time": "2021-07-10T16:52:12.607Z"
   },
   {
    "duration": 1573,
    "start_time": "2021-07-10T16:56:05.172Z"
   },
   {
    "duration": 114,
    "start_time": "2021-07-10T16:56:06.748Z"
   },
   {
    "duration": 5,
    "start_time": "2021-07-10T16:56:06.866Z"
   },
   {
    "duration": 119,
    "start_time": "2021-07-10T16:56:06.874Z"
   },
   {
    "duration": 6,
    "start_time": "2021-07-10T16:56:07.000Z"
   },
   {
    "duration": 31,
    "start_time": "2021-07-10T16:56:07.008Z"
   },
   {
    "duration": 28,
    "start_time": "2021-07-10T16:56:07.042Z"
   },
   {
    "duration": 46,
    "start_time": "2021-07-10T16:56:07.072Z"
   },
   {
    "duration": 21,
    "start_time": "2021-07-10T16:56:07.122Z"
   },
   {
    "duration": 16,
    "start_time": "2021-07-10T16:56:07.146Z"
   },
   {
    "duration": 69,
    "start_time": "2021-07-10T16:56:07.165Z"
   },
   {
    "duration": 9,
    "start_time": "2021-07-10T16:56:07.236Z"
   },
   {
    "duration": 17,
    "start_time": "2021-07-10T16:56:07.248Z"
   },
   {
    "duration": 39,
    "start_time": "2021-07-10T16:56:07.267Z"
   },
   {
    "duration": 14,
    "start_time": "2021-07-10T16:56:07.309Z"
   },
   {
    "duration": 17,
    "start_time": "2021-07-10T16:56:07.325Z"
   },
   {
    "duration": 6,
    "start_time": "2021-07-10T16:56:07.345Z"
   },
   {
    "duration": 10,
    "start_time": "2021-07-10T16:56:07.353Z"
   },
   {
    "duration": 41,
    "start_time": "2021-07-10T16:56:07.365Z"
   },
   {
    "duration": 8,
    "start_time": "2021-07-10T16:56:07.409Z"
   },
   {
    "duration": 19,
    "start_time": "2021-07-10T16:56:07.419Z"
   },
   {
    "duration": 828,
    "start_time": "2021-07-10T16:56:07.440Z"
   },
   {
    "duration": 8,
    "start_time": "2021-07-10T16:56:08.270Z"
   },
   {
    "duration": 32,
    "start_time": "2021-07-10T16:56:08.280Z"
   },
   {
    "duration": 25,
    "start_time": "2021-07-10T16:56:08.315Z"
   },
   {
    "duration": 124,
    "start_time": "2021-07-10T16:56:08.342Z"
   },
   {
    "duration": 4,
    "start_time": "2021-07-10T16:56:08.472Z"
   },
   {
    "duration": 20,
    "start_time": "2021-07-10T16:56:08.480Z"
   },
   {
    "duration": 26,
    "start_time": "2021-07-10T16:56:08.503Z"
   },
   {
    "duration": 15,
    "start_time": "2021-07-10T16:56:08.531Z"
   },
   {
    "duration": 85,
    "start_time": "2021-07-10T16:56:08.549Z"
   },
   {
    "duration": 25,
    "start_time": "2021-07-10T16:56:08.637Z"
   },
   {
    "duration": 57,
    "start_time": "2021-07-10T16:56:08.664Z"
   },
   {
    "duration": 6,
    "start_time": "2021-07-10T16:56:08.724Z"
   },
   {
    "duration": 5,
    "start_time": "2021-07-10T16:56:08.732Z"
   },
   {
    "duration": 9,
    "start_time": "2021-07-10T16:56:08.740Z"
   },
   {
    "duration": 13,
    "start_time": "2021-07-10T16:56:08.751Z"
   },
   {
    "duration": 8,
    "start_time": "2021-07-10T16:56:08.801Z"
   },
   {
    "duration": 8,
    "start_time": "2021-07-10T16:56:08.811Z"
   },
   {
    "duration": 30,
    "start_time": "2021-07-10T16:56:08.822Z"
   },
   {
    "duration": 45,
    "start_time": "2021-07-10T16:56:08.855Z"
   },
   {
    "duration": 10,
    "start_time": "2021-07-10T16:56:08.903Z"
   },
   {
    "duration": 4,
    "start_time": "2021-07-10T16:56:08.916Z"
   },
   {
    "duration": 9,
    "start_time": "2021-07-10T16:56:08.922Z"
   },
   {
    "duration": 12,
    "start_time": "2021-07-10T16:56:08.933Z"
   },
   {
    "duration": 4253,
    "start_time": "2021-07-10T16:56:08.947Z"
   },
   {
    "duration": 22228,
    "start_time": "2021-07-10T16:56:13.203Z"
   },
   {
    "duration": 6183,
    "start_time": "2021-07-10T16:56:35.434Z"
   },
   {
    "duration": 88,
    "start_time": "2021-07-10T16:56:41.620Z"
   },
   {
    "duration": 13201,
    "start_time": "2021-07-10T16:56:41.711Z"
   },
   {
    "duration": 6,
    "start_time": "2021-07-10T16:56:54.915Z"
   },
   {
    "duration": 17,
    "start_time": "2021-07-10T16:56:54.924Z"
   },
   {
    "duration": 64,
    "start_time": "2021-07-10T16:56:54.944Z"
   },
   {
    "duration": 97,
    "start_time": "2021-07-10T16:56:55.011Z"
   },
   {
    "duration": 481,
    "start_time": "2021-07-10T16:56:55.111Z"
   },
   {
    "duration": 1560,
    "start_time": "2021-07-10T16:59:02.266Z"
   },
   {
    "duration": 177,
    "start_time": "2021-07-10T16:59:03.829Z"
   },
   {
    "duration": 12,
    "start_time": "2021-07-10T16:59:04.014Z"
   },
   {
    "duration": 204,
    "start_time": "2021-07-10T16:59:04.030Z"
   },
   {
    "duration": 6,
    "start_time": "2021-07-10T16:59:04.237Z"
   },
   {
    "duration": 33,
    "start_time": "2021-07-10T16:59:04.246Z"
   },
   {
    "duration": 46,
    "start_time": "2021-07-10T16:59:04.281Z"
   },
   {
    "duration": 19,
    "start_time": "2021-07-10T16:59:04.330Z"
   },
   {
    "duration": 49,
    "start_time": "2021-07-10T16:59:04.352Z"
   },
   {
    "duration": 18,
    "start_time": "2021-07-10T16:59:04.403Z"
   },
   {
    "duration": 37,
    "start_time": "2021-07-10T16:59:04.423Z"
   },
   {
    "duration": 8,
    "start_time": "2021-07-10T16:59:04.462Z"
   },
   {
    "duration": 17,
    "start_time": "2021-07-10T16:59:04.500Z"
   },
   {
    "duration": 15,
    "start_time": "2021-07-10T16:59:04.520Z"
   },
   {
    "duration": 12,
    "start_time": "2021-07-10T16:59:04.537Z"
   },
   {
    "duration": 18,
    "start_time": "2021-07-10T16:59:04.552Z"
   },
   {
    "duration": 7,
    "start_time": "2021-07-10T16:59:04.601Z"
   },
   {
    "duration": 11,
    "start_time": "2021-07-10T16:59:04.611Z"
   },
   {
    "duration": 9,
    "start_time": "2021-07-10T16:59:04.624Z"
   },
   {
    "duration": 9,
    "start_time": "2021-07-10T16:59:04.636Z"
   },
   {
    "duration": 15,
    "start_time": "2021-07-10T16:59:04.647Z"
   },
   {
    "duration": 850,
    "start_time": "2021-07-10T16:59:04.664Z"
   },
   {
    "duration": 7,
    "start_time": "2021-07-10T16:59:05.520Z"
   },
   {
    "duration": 18,
    "start_time": "2021-07-10T16:59:05.530Z"
   },
   {
    "duration": 21,
    "start_time": "2021-07-10T16:59:05.551Z"
   },
   {
    "duration": 126,
    "start_time": "2021-07-10T16:59:05.602Z"
   },
   {
    "duration": 3,
    "start_time": "2021-07-10T16:59:05.731Z"
   },
   {
    "duration": 11,
    "start_time": "2021-07-10T16:59:05.737Z"
   },
   {
    "duration": 34,
    "start_time": "2021-07-10T16:59:05.751Z"
   },
   {
    "duration": 26,
    "start_time": "2021-07-10T16:59:05.787Z"
   },
   {
    "duration": 49,
    "start_time": "2021-07-10T16:59:05.816Z"
   },
   {
    "duration": 50,
    "start_time": "2021-07-10T16:59:05.867Z"
   },
   {
    "duration": 34,
    "start_time": "2021-07-10T16:59:05.919Z"
   },
   {
    "duration": 5,
    "start_time": "2021-07-10T16:59:05.956Z"
   },
   {
    "duration": 38,
    "start_time": "2021-07-10T16:59:05.963Z"
   },
   {
    "duration": 12,
    "start_time": "2021-07-10T16:59:06.004Z"
   },
   {
    "duration": 8,
    "start_time": "2021-07-10T16:59:06.018Z"
   },
   {
    "duration": 9,
    "start_time": "2021-07-10T16:59:06.029Z"
   },
   {
    "duration": 15,
    "start_time": "2021-07-10T16:59:06.041Z"
   },
   {
    "duration": 59,
    "start_time": "2021-07-10T16:59:06.058Z"
   },
   {
    "duration": 9,
    "start_time": "2021-07-10T16:59:06.119Z"
   },
   {
    "duration": 12,
    "start_time": "2021-07-10T16:59:06.130Z"
   },
   {
    "duration": 5,
    "start_time": "2021-07-10T16:59:06.144Z"
   },
   {
    "duration": 12,
    "start_time": "2021-07-10T16:59:06.152Z"
   },
   {
    "duration": 49,
    "start_time": "2021-07-10T16:59:06.166Z"
   },
   {
    "duration": 4160,
    "start_time": "2021-07-10T16:59:06.218Z"
   },
   {
    "duration": 26189,
    "start_time": "2021-07-10T16:59:10.380Z"
   },
   {
    "duration": 9136,
    "start_time": "2021-07-10T16:59:36.572Z"
   },
   {
    "duration": 9,
    "start_time": "2021-07-10T16:59:45.710Z"
   },
   {
    "duration": 23698,
    "start_time": "2021-07-10T16:59:45.722Z"
   },
   {
    "duration": 5,
    "start_time": "2021-07-10T17:00:09.423Z"
   },
   {
    "duration": 16,
    "start_time": "2021-07-10T17:00:09.430Z"
   },
   {
    "duration": 24,
    "start_time": "2021-07-10T17:00:09.449Z"
   },
   {
    "duration": 43,
    "start_time": "2021-07-10T17:00:09.475Z"
   },
   {
    "duration": 373,
    "start_time": "2021-07-10T17:00:09.521Z"
   },
   {
    "duration": 1710,
    "start_time": "2021-07-10T17:16:39.762Z"
   },
   {
    "duration": 117,
    "start_time": "2021-07-10T17:16:41.475Z"
   },
   {
    "duration": 5,
    "start_time": "2021-07-10T17:16:41.595Z"
   },
   {
    "duration": 125,
    "start_time": "2021-07-10T17:16:41.602Z"
   },
   {
    "duration": 5,
    "start_time": "2021-07-10T17:16:41.729Z"
   },
   {
    "duration": 37,
    "start_time": "2021-07-10T17:16:41.736Z"
   },
   {
    "duration": 46,
    "start_time": "2021-07-10T17:16:41.776Z"
   },
   {
    "duration": 22,
    "start_time": "2021-07-10T17:16:41.827Z"
   },
   {
    "duration": 53,
    "start_time": "2021-07-10T17:16:41.853Z"
   },
   {
    "duration": 18,
    "start_time": "2021-07-10T17:16:41.909Z"
   },
   {
    "duration": 41,
    "start_time": "2021-07-10T17:16:41.929Z"
   },
   {
    "duration": 34,
    "start_time": "2021-07-10T17:16:41.973Z"
   },
   {
    "duration": 22,
    "start_time": "2021-07-10T17:16:42.010Z"
   },
   {
    "duration": 13,
    "start_time": "2021-07-10T17:16:42.035Z"
   },
   {
    "duration": 11,
    "start_time": "2021-07-10T17:16:42.051Z"
   },
   {
    "duration": 48,
    "start_time": "2021-07-10T17:16:42.065Z"
   },
   {
    "duration": 6,
    "start_time": "2021-07-10T17:16:42.116Z"
   },
   {
    "duration": 10,
    "start_time": "2021-07-10T17:16:42.124Z"
   },
   {
    "duration": 12,
    "start_time": "2021-07-10T17:16:42.137Z"
   },
   {
    "duration": 12,
    "start_time": "2021-07-10T17:16:42.152Z"
   },
   {
    "duration": 796,
    "start_time": "2021-07-10T17:16:42.167Z"
   },
   {
    "duration": 13,
    "start_time": "2021-07-10T17:16:42.966Z"
   },
   {
    "duration": 897,
    "start_time": "2021-07-10T17:16:43.003Z"
   },
   {
    "duration": 7,
    "start_time": "2021-07-10T17:16:43.903Z"
   },
   {
    "duration": 18,
    "start_time": "2021-07-10T17:16:43.912Z"
   },
   {
    "duration": 20,
    "start_time": "2021-07-10T17:16:43.933Z"
   },
   {
    "duration": 212,
    "start_time": "2021-07-10T17:16:43.956Z"
   },
   {
    "duration": 4,
    "start_time": "2021-07-10T17:16:44.171Z"
   },
   {
    "duration": 22,
    "start_time": "2021-07-10T17:16:44.178Z"
   },
   {
    "duration": 25,
    "start_time": "2021-07-10T17:16:44.203Z"
   },
   {
    "duration": 14,
    "start_time": "2021-07-10T17:16:44.230Z"
   },
   {
    "duration": 90,
    "start_time": "2021-07-10T17:16:44.247Z"
   },
   {
    "duration": 26,
    "start_time": "2021-07-10T17:16:44.340Z"
   },
   {
    "duration": 59,
    "start_time": "2021-07-10T17:16:44.370Z"
   },
   {
    "duration": 6,
    "start_time": "2021-07-10T17:16:44.432Z"
   },
   {
    "duration": 16,
    "start_time": "2021-07-10T17:16:44.441Z"
   },
   {
    "duration": 30,
    "start_time": "2021-07-10T17:16:44.460Z"
   },
   {
    "duration": 23,
    "start_time": "2021-07-10T17:16:44.493Z"
   },
   {
    "duration": 14,
    "start_time": "2021-07-10T17:16:44.519Z"
   },
   {
    "duration": 26,
    "start_time": "2021-07-10T17:16:44.536Z"
   },
   {
    "duration": 37,
    "start_time": "2021-07-10T17:16:44.565Z"
   },
   {
    "duration": 17,
    "start_time": "2021-07-10T17:16:44.605Z"
   },
   {
    "duration": 19,
    "start_time": "2021-07-10T17:16:44.624Z"
   },
   {
    "duration": 13,
    "start_time": "2021-07-10T17:16:44.646Z"
   },
   {
    "duration": 18,
    "start_time": "2021-07-10T17:16:44.662Z"
   },
   {
    "duration": 14,
    "start_time": "2021-07-10T17:16:44.682Z"
   },
   {
    "duration": 4361,
    "start_time": "2021-07-10T17:16:44.699Z"
   },
   {
    "duration": 23086,
    "start_time": "2021-07-10T17:16:49.062Z"
   },
   {
    "duration": 5761,
    "start_time": "2021-07-10T17:17:12.151Z"
   },
   {
    "duration": 9,
    "start_time": "2021-07-10T17:17:17.914Z"
   },
   {
    "duration": 22991,
    "start_time": "2021-07-10T17:17:17.925Z"
   },
   {
    "duration": 7,
    "start_time": "2021-07-10T17:17:40.919Z"
   },
   {
    "duration": 24,
    "start_time": "2021-07-10T17:17:40.929Z"
   },
   {
    "duration": 51,
    "start_time": "2021-07-10T17:17:40.956Z"
   },
   {
    "duration": 18,
    "start_time": "2021-07-10T17:17:41.009Z"
   },
   {
    "duration": 385,
    "start_time": "2021-07-10T17:17:41.030Z"
   },
   {
    "duration": 1491,
    "start_time": "2021-07-10T17:18:43.155Z"
   },
   {
    "duration": 113,
    "start_time": "2021-07-10T17:18:44.649Z"
   },
   {
    "duration": 5,
    "start_time": "2021-07-10T17:18:44.765Z"
   },
   {
    "duration": 109,
    "start_time": "2021-07-10T17:18:44.772Z"
   },
   {
    "duration": 5,
    "start_time": "2021-07-10T17:18:44.884Z"
   },
   {
    "duration": 43,
    "start_time": "2021-07-10T17:18:44.891Z"
   },
   {
    "duration": 29,
    "start_time": "2021-07-10T17:18:44.937Z"
   },
   {
    "duration": 38,
    "start_time": "2021-07-10T17:18:44.970Z"
   },
   {
    "duration": 23,
    "start_time": "2021-07-10T17:18:45.011Z"
   },
   {
    "duration": 32,
    "start_time": "2021-07-10T17:18:45.036Z"
   },
   {
    "duration": 52,
    "start_time": "2021-07-10T17:18:45.071Z"
   },
   {
    "duration": 20,
    "start_time": "2021-07-10T17:18:45.127Z"
   },
   {
    "duration": 23,
    "start_time": "2021-07-10T17:18:45.150Z"
   },
   {
    "duration": 28,
    "start_time": "2021-07-10T17:18:45.176Z"
   },
   {
    "duration": 13,
    "start_time": "2021-07-10T17:18:45.207Z"
   },
   {
    "duration": 19,
    "start_time": "2021-07-10T17:18:45.223Z"
   },
   {
    "duration": 9,
    "start_time": "2021-07-10T17:18:45.245Z"
   },
   {
    "duration": 53,
    "start_time": "2021-07-10T17:18:45.257Z"
   },
   {
    "duration": 12,
    "start_time": "2021-07-10T17:18:45.312Z"
   },
   {
    "duration": 14,
    "start_time": "2021-07-10T17:18:45.326Z"
   },
   {
    "duration": 440,
    "start_time": "2021-07-10T17:18:45.343Z"
   },
   {
    "duration": -30,
    "start_time": "2021-07-10T17:18:45.819Z"
   },
   {
    "duration": -29,
    "start_time": "2021-07-10T17:18:45.820Z"
   },
   {
    "duration": -28,
    "start_time": "2021-07-10T17:18:45.822Z"
   },
   {
    "duration": -27,
    "start_time": "2021-07-10T17:18:45.823Z"
   },
   {
    "duration": -26,
    "start_time": "2021-07-10T17:18:45.824Z"
   },
   {
    "duration": -24,
    "start_time": "2021-07-10T17:18:45.825Z"
   },
   {
    "duration": -24,
    "start_time": "2021-07-10T17:18:45.827Z"
   },
   {
    "duration": -49,
    "start_time": "2021-07-10T17:18:45.855Z"
   },
   {
    "duration": -48,
    "start_time": "2021-07-10T17:18:45.856Z"
   },
   {
    "duration": -47,
    "start_time": "2021-07-10T17:18:45.857Z"
   },
   {
    "duration": -50,
    "start_time": "2021-07-10T17:18:45.862Z"
   },
   {
    "duration": -48,
    "start_time": "2021-07-10T17:18:45.863Z"
   },
   {
    "duration": -47,
    "start_time": "2021-07-10T17:18:45.864Z"
   },
   {
    "duration": -45,
    "start_time": "2021-07-10T17:18:45.865Z"
   },
   {
    "duration": -44,
    "start_time": "2021-07-10T17:18:45.866Z"
   },
   {
    "duration": -43,
    "start_time": "2021-07-10T17:18:45.867Z"
   },
   {
    "duration": -56,
    "start_time": "2021-07-10T17:18:45.882Z"
   },
   {
    "duration": -54,
    "start_time": "2021-07-10T17:18:45.883Z"
   },
   {
    "duration": -53,
    "start_time": "2021-07-10T17:18:45.884Z"
   },
   {
    "duration": -52,
    "start_time": "2021-07-10T17:18:45.885Z"
   },
   {
    "duration": -65,
    "start_time": "2021-07-10T17:18:45.901Z"
   },
   {
    "duration": -65,
    "start_time": "2021-07-10T17:18:45.903Z"
   },
   {
    "duration": -5,
    "start_time": "2021-07-10T17:18:45.904Z"
   },
   {
    "duration": -3,
    "start_time": "2021-07-10T17:18:45.905Z"
   },
   {
    "duration": -2,
    "start_time": "2021-07-10T17:18:45.906Z"
   },
   {
    "duration": 0,
    "start_time": "2021-07-10T17:18:45.907Z"
   },
   {
    "duration": 1,
    "start_time": "2021-07-10T17:18:45.908Z"
   },
   {
    "duration": 2,
    "start_time": "2021-07-10T17:18:45.909Z"
   },
   {
    "duration": 3,
    "start_time": "2021-07-10T17:18:45.910Z"
   },
   {
    "duration": -3,
    "start_time": "2021-07-10T17:18:45.919Z"
   },
   {
    "duration": -49,
    "start_time": "2021-07-10T17:18:45.967Z"
   },
   {
    "duration": -49,
    "start_time": "2021-07-10T17:18:45.969Z"
   },
   {
    "duration": -48,
    "start_time": "2021-07-10T17:18:45.970Z"
   },
   {
    "duration": -54,
    "start_time": "2021-07-10T17:18:45.979Z"
   },
   {
    "duration": -53,
    "start_time": "2021-07-10T17:18:45.980Z"
   },
   {
    "duration": -52,
    "start_time": "2021-07-10T17:18:45.981Z"
   },
   {
    "duration": -51,
    "start_time": "2021-07-10T17:18:45.982Z"
   },
   {
    "duration": -50,
    "start_time": "2021-07-10T17:18:45.983Z"
   },
   {
    "duration": 10,
    "start_time": "2021-07-10T17:18:58.918Z"
   },
   {
    "duration": 12,
    "start_time": "2021-07-10T17:19:05.738Z"
   },
   {
    "duration": 11,
    "start_time": "2021-07-10T17:19:22.184Z"
   },
   {
    "duration": 719,
    "start_time": "2021-07-10T17:19:41.800Z"
   },
   {
    "duration": 684,
    "start_time": "2021-07-10T17:20:10.024Z"
   },
   {
    "duration": 592,
    "start_time": "2021-07-10T17:24:53.361Z"
   },
   {
    "duration": 282,
    "start_time": "2021-07-10T17:25:48.500Z"
   },
   {
    "duration": 819,
    "start_time": "2021-07-10T17:26:11.163Z"
   },
   {
    "duration": 733,
    "start_time": "2021-07-10T17:28:09.561Z"
   },
   {
    "duration": 750,
    "start_time": "2021-07-10T17:28:34.758Z"
   },
   {
    "duration": 737,
    "start_time": "2021-07-10T17:29:38.033Z"
   },
   {
    "duration": 830,
    "start_time": "2021-07-10T18:07:35.746Z"
   },
   {
    "duration": 10,
    "start_time": "2021-07-10T19:14:11.291Z"
   },
   {
    "duration": 1516,
    "start_time": "2021-07-10T19:14:29.538Z"
   },
   {
    "duration": 115,
    "start_time": "2021-07-10T19:14:31.057Z"
   },
   {
    "duration": 5,
    "start_time": "2021-07-10T19:14:31.175Z"
   },
   {
    "duration": 140,
    "start_time": "2021-07-10T19:14:31.182Z"
   },
   {
    "duration": 7,
    "start_time": "2021-07-10T19:14:31.325Z"
   },
   {
    "duration": 38,
    "start_time": "2021-07-10T19:14:31.334Z"
   },
   {
    "duration": 45,
    "start_time": "2021-07-10T19:14:31.374Z"
   },
   {
    "duration": 19,
    "start_time": "2021-07-10T19:14:31.424Z"
   },
   {
    "duration": 22,
    "start_time": "2021-07-10T19:14:31.446Z"
   },
   {
    "duration": 47,
    "start_time": "2021-07-10T19:14:31.470Z"
   },
   {
    "duration": 36,
    "start_time": "2021-07-10T19:14:31.519Z"
   },
   {
    "duration": 9,
    "start_time": "2021-07-10T19:14:31.557Z"
   },
   {
    "duration": 46,
    "start_time": "2021-07-10T19:14:31.568Z"
   },
   {
    "duration": 12,
    "start_time": "2021-07-10T19:14:31.617Z"
   },
   {
    "duration": 23,
    "start_time": "2021-07-10T19:14:31.632Z"
   },
   {
    "duration": 26,
    "start_time": "2021-07-10T19:14:31.657Z"
   },
   {
    "duration": 18,
    "start_time": "2021-07-10T19:14:31.685Z"
   },
   {
    "duration": 22,
    "start_time": "2021-07-10T19:14:31.705Z"
   },
   {
    "duration": 17,
    "start_time": "2021-07-10T19:14:31.730Z"
   },
   {
    "duration": 26,
    "start_time": "2021-07-10T19:14:31.749Z"
   },
   {
    "duration": 14,
    "start_time": "2021-07-10T19:14:31.777Z"
   },
   {
    "duration": 13,
    "start_time": "2021-07-10T19:14:31.795Z"
   },
   {
    "duration": 789,
    "start_time": "2021-07-10T19:14:31.816Z"
   },
   {
    "duration": 10,
    "start_time": "2021-07-10T19:14:32.608Z"
   },
   {
    "duration": 406,
    "start_time": "2021-07-10T19:14:32.620Z"
   },
   {
    "duration": 87,
    "start_time": "2021-07-10T19:14:32.943Z"
   },
   {
    "duration": 88,
    "start_time": "2021-07-10T19:14:32.944Z"
   },
   {
    "duration": 88,
    "start_time": "2021-07-10T19:14:32.945Z"
   },
   {
    "duration": 89,
    "start_time": "2021-07-10T19:14:32.946Z"
   },
   {
    "duration": 89,
    "start_time": "2021-07-10T19:14:32.947Z"
   },
   {
    "duration": 90,
    "start_time": "2021-07-10T19:14:32.948Z"
   },
   {
    "duration": 90,
    "start_time": "2021-07-10T19:14:32.949Z"
   },
   {
    "duration": 91,
    "start_time": "2021-07-10T19:14:32.950Z"
   },
   {
    "duration": 91,
    "start_time": "2021-07-10T19:14:32.951Z"
   },
   {
    "duration": 92,
    "start_time": "2021-07-10T19:14:32.952Z"
   },
   {
    "duration": 93,
    "start_time": "2021-07-10T19:14:32.953Z"
   },
   {
    "duration": 93,
    "start_time": "2021-07-10T19:14:32.954Z"
   },
   {
    "duration": 94,
    "start_time": "2021-07-10T19:14:32.955Z"
   },
   {
    "duration": 94,
    "start_time": "2021-07-10T19:14:32.956Z"
   },
   {
    "duration": 76,
    "start_time": "2021-07-10T19:14:32.976Z"
   },
   {
    "duration": 76,
    "start_time": "2021-07-10T19:14:32.977Z"
   },
   {
    "duration": 74,
    "start_time": "2021-07-10T19:14:32.981Z"
   },
   {
    "duration": 74,
    "start_time": "2021-07-10T19:14:32.982Z"
   },
   {
    "duration": 74,
    "start_time": "2021-07-10T19:14:32.983Z"
   },
   {
    "duration": 72,
    "start_time": "2021-07-10T19:14:32.987Z"
   },
   {
    "duration": 73,
    "start_time": "2021-07-10T19:14:32.987Z"
   },
   {
    "duration": 64,
    "start_time": "2021-07-10T19:14:32.998Z"
   },
   {
    "duration": 64,
    "start_time": "2021-07-10T19:14:32.999Z"
   },
   {
    "duration": 64,
    "start_time": "2021-07-10T19:14:33.000Z"
   },
   {
    "duration": 65,
    "start_time": "2021-07-10T19:14:33.001Z"
   },
   {
    "duration": 65,
    "start_time": "2021-07-10T19:14:33.002Z"
   },
   {
    "duration": 65,
    "start_time": "2021-07-10T19:14:33.003Z"
   },
   {
    "duration": 66,
    "start_time": "2021-07-10T19:14:33.003Z"
   },
   {
    "duration": 66,
    "start_time": "2021-07-10T19:14:33.004Z"
   },
   {
    "duration": 80,
    "start_time": "2021-07-10T19:14:33.020Z"
   },
   {
    "duration": 80,
    "start_time": "2021-07-10T19:14:33.022Z"
   },
   {
    "duration": 80,
    "start_time": "2021-07-10T19:14:33.023Z"
   },
   {
    "duration": 80,
    "start_time": "2021-07-10T19:14:33.024Z"
   },
   {
    "duration": 82,
    "start_time": "2021-07-10T19:14:33.024Z"
   },
   {
    "duration": 83,
    "start_time": "2021-07-10T19:14:33.025Z"
   },
   {
    "duration": 46,
    "start_time": "2021-07-10T19:14:47.368Z"
   },
   {
    "duration": 1551,
    "start_time": "2021-07-10T19:15:52.784Z"
   },
   {
    "duration": 114,
    "start_time": "2021-07-10T19:15:54.338Z"
   },
   {
    "duration": 5,
    "start_time": "2021-07-10T19:15:54.454Z"
   },
   {
    "duration": 112,
    "start_time": "2021-07-10T19:15:54.462Z"
   },
   {
    "duration": 6,
    "start_time": "2021-07-10T19:15:54.577Z"
   },
   {
    "duration": 45,
    "start_time": "2021-07-10T19:15:54.585Z"
   },
   {
    "duration": 28,
    "start_time": "2021-07-10T19:15:54.633Z"
   },
   {
    "duration": 44,
    "start_time": "2021-07-10T19:15:54.666Z"
   },
   {
    "duration": 21,
    "start_time": "2021-07-10T19:15:54.713Z"
   },
   {
    "duration": 16,
    "start_time": "2021-07-10T19:15:54.736Z"
   },
   {
    "duration": 68,
    "start_time": "2021-07-10T19:15:54.755Z"
   },
   {
    "duration": 9,
    "start_time": "2021-07-10T19:15:54.825Z"
   },
   {
    "duration": 23,
    "start_time": "2021-07-10T19:15:54.836Z"
   },
   {
    "duration": 10,
    "start_time": "2021-07-10T19:15:54.861Z"
   },
   {
    "duration": 33,
    "start_time": "2021-07-10T19:15:54.874Z"
   },
   {
    "duration": 23,
    "start_time": "2021-07-10T19:15:54.910Z"
   },
   {
    "duration": 7,
    "start_time": "2021-07-10T19:15:54.936Z"
   },
   {
    "duration": 11,
    "start_time": "2021-07-10T19:15:54.945Z"
   },
   {
    "duration": 41,
    "start_time": "2021-07-10T19:15:54.959Z"
   },
   {
    "duration": 8,
    "start_time": "2021-07-10T19:15:55.003Z"
   },
   {
    "duration": 21,
    "start_time": "2021-07-10T19:15:55.014Z"
   },
   {
    "duration": 11,
    "start_time": "2021-07-10T19:15:55.038Z"
   },
   {
    "duration": 764,
    "start_time": "2021-07-10T19:15:55.055Z"
   },
   {
    "duration": 93,
    "start_time": "2021-07-10T19:15:55.824Z"
   },
   {
    "duration": 113,
    "start_time": "2021-07-10T19:15:55.808Z"
   },
   {
    "duration": 114,
    "start_time": "2021-07-10T19:15:55.809Z"
   },
   {
    "duration": 97,
    "start_time": "2021-07-10T19:15:55.828Z"
   },
   {
    "duration": 99,
    "start_time": "2021-07-10T19:15:55.829Z"
   },
   {
    "duration": 100,
    "start_time": "2021-07-10T19:15:55.830Z"
   },
   {
    "duration": 101,
    "start_time": "2021-07-10T19:15:55.831Z"
   },
   {
    "duration": 103,
    "start_time": "2021-07-10T19:15:55.832Z"
   },
   {
    "duration": 92,
    "start_time": "2021-07-10T19:15:55.845Z"
   },
   {
    "duration": 93,
    "start_time": "2021-07-10T19:15:55.846Z"
   },
   {
    "duration": 95,
    "start_time": "2021-07-10T19:15:55.847Z"
   },
   {
    "duration": 96,
    "start_time": "2021-07-10T19:15:55.848Z"
   },
   {
    "duration": 97,
    "start_time": "2021-07-10T19:15:55.849Z"
   },
   {
    "duration": 70,
    "start_time": "2021-07-10T19:15:55.878Z"
   },
   {
    "duration": 72,
    "start_time": "2021-07-10T19:15:55.879Z"
   },
   {
    "duration": 70,
    "start_time": "2021-07-10T19:15:55.883Z"
   },
   {
    "duration": 68,
    "start_time": "2021-07-10T19:15:55.887Z"
   },
   {
    "duration": 111,
    "start_time": "2021-07-10T19:15:55.888Z"
   },
   {
    "duration": 100,
    "start_time": "2021-07-10T19:15:55.902Z"
   },
   {
    "duration": 101,
    "start_time": "2021-07-10T19:15:55.903Z"
   },
   {
    "duration": 103,
    "start_time": "2021-07-10T19:15:55.904Z"
   },
   {
    "duration": 104,
    "start_time": "2021-07-10T19:15:55.905Z"
   },
   {
    "duration": 105,
    "start_time": "2021-07-10T19:15:55.906Z"
   },
   {
    "duration": 106,
    "start_time": "2021-07-10T19:15:55.907Z"
   },
   {
    "duration": 106,
    "start_time": "2021-07-10T19:15:55.908Z"
   },
   {
    "duration": 93,
    "start_time": "2021-07-10T19:15:55.922Z"
   },
   {
    "duration": 93,
    "start_time": "2021-07-10T19:15:55.923Z"
   },
   {
    "duration": 93,
    "start_time": "2021-07-10T19:15:55.925Z"
   },
   {
    "duration": 94,
    "start_time": "2021-07-10T19:15:55.925Z"
   },
   {
    "duration": 94,
    "start_time": "2021-07-10T19:15:55.926Z"
   },
   {
    "duration": 94,
    "start_time": "2021-07-10T19:15:55.927Z"
   },
   {
    "duration": 95,
    "start_time": "2021-07-10T19:15:55.928Z"
   },
   {
    "duration": 95,
    "start_time": "2021-07-10T19:15:55.929Z"
   },
   {
    "duration": 46,
    "start_time": "2021-07-10T19:15:55.980Z"
   },
   {
    "duration": 46,
    "start_time": "2021-07-10T19:15:55.982Z"
   },
   {
    "duration": 42,
    "start_time": "2021-07-10T19:15:55.987Z"
   },
   {
    "duration": 43,
    "start_time": "2021-07-10T19:15:55.988Z"
   },
   {
    "duration": 43,
    "start_time": "2021-07-10T19:15:55.989Z"
   },
   {
    "duration": 93,
    "start_time": "2021-07-10T19:16:13.335Z"
   },
   {
    "duration": 84,
    "start_time": "2021-07-10T19:17:12.789Z"
   },
   {
    "duration": 14,
    "start_time": "2021-07-10T19:17:59.739Z"
   },
   {
    "duration": 9,
    "start_time": "2021-07-10T19:18:16.027Z"
   },
   {
    "duration": 42,
    "start_time": "2021-07-10T19:18:17.131Z"
   },
   {
    "duration": 9,
    "start_time": "2021-07-10T19:18:43.505Z"
   },
   {
    "duration": 45,
    "start_time": "2021-07-10T19:18:44.443Z"
   },
   {
    "duration": 1687,
    "start_time": "2021-07-10T19:19:02.342Z"
   },
   {
    "duration": 193,
    "start_time": "2021-07-10T19:19:04.032Z"
   },
   {
    "duration": 5,
    "start_time": "2021-07-10T19:19:04.228Z"
   },
   {
    "duration": 176,
    "start_time": "2021-07-10T19:19:04.235Z"
   },
   {
    "duration": 5,
    "start_time": "2021-07-10T19:19:04.414Z"
   },
   {
    "duration": 33,
    "start_time": "2021-07-10T19:19:04.421Z"
   },
   {
    "duration": 67,
    "start_time": "2021-07-10T19:19:04.456Z"
   },
   {
    "duration": 21,
    "start_time": "2021-07-10T19:19:04.527Z"
   },
   {
    "duration": 70,
    "start_time": "2021-07-10T19:19:04.551Z"
   },
   {
    "duration": 17,
    "start_time": "2021-07-10T19:19:04.623Z"
   },
   {
    "duration": 66,
    "start_time": "2021-07-10T19:19:04.642Z"
   },
   {
    "duration": 11,
    "start_time": "2021-07-10T19:19:04.710Z"
   },
   {
    "duration": 18,
    "start_time": "2021-07-10T19:19:04.723Z"
   },
   {
    "duration": 12,
    "start_time": "2021-07-10T19:19:04.743Z"
   },
   {
    "duration": 42,
    "start_time": "2021-07-10T19:19:04.758Z"
   },
   {
    "duration": 19,
    "start_time": "2021-07-10T19:19:04.803Z"
   },
   {
    "duration": 7,
    "start_time": "2021-07-10T19:19:04.824Z"
   },
   {
    "duration": 9,
    "start_time": "2021-07-10T19:19:04.834Z"
   },
   {
    "duration": 7,
    "start_time": "2021-07-10T19:19:04.846Z"
   },
   {
    "duration": 47,
    "start_time": "2021-07-10T19:19:04.856Z"
   },
   {
    "duration": 12,
    "start_time": "2021-07-10T19:19:04.906Z"
   },
   {
    "duration": 22,
    "start_time": "2021-07-10T19:19:04.920Z"
   },
   {
    "duration": 747,
    "start_time": "2021-07-10T19:19:04.948Z"
   },
   {
    "duration": 11,
    "start_time": "2021-07-10T19:19:05.697Z"
   },
   {
    "duration": 59,
    "start_time": "2021-07-10T19:19:05.710Z"
   },
   {
    "duration": 34,
    "start_time": "2021-07-10T19:19:05.772Z"
   },
   {
    "duration": 910,
    "start_time": "2021-07-10T19:19:05.809Z"
   },
   {
    "duration": 8,
    "start_time": "2021-07-10T19:19:06.722Z"
   },
   {
    "duration": 23,
    "start_time": "2021-07-10T19:19:06.733Z"
   },
   {
    "duration": 48,
    "start_time": "2021-07-10T19:19:06.758Z"
   },
   {
    "duration": 215,
    "start_time": "2021-07-10T19:19:06.808Z"
   },
   {
    "duration": 5,
    "start_time": "2021-07-10T19:19:07.026Z"
   },
   {
    "duration": 13,
    "start_time": "2021-07-10T19:19:07.034Z"
   },
   {
    "duration": 50,
    "start_time": "2021-07-10T19:19:07.050Z"
   },
   {
    "duration": 15,
    "start_time": "2021-07-10T19:19:07.103Z"
   },
   {
    "duration": 51,
    "start_time": "2021-07-10T19:19:07.120Z"
   },
   {
    "duration": 45,
    "start_time": "2021-07-10T19:19:07.173Z"
   },
   {
    "duration": 40,
    "start_time": "2021-07-10T19:19:07.220Z"
   },
   {
    "duration": 7,
    "start_time": "2021-07-10T19:19:07.262Z"
   },
   {
    "duration": 5,
    "start_time": "2021-07-10T19:19:07.299Z"
   },
   {
    "duration": 13,
    "start_time": "2021-07-10T19:19:07.307Z"
   },
   {
    "duration": 7,
    "start_time": "2021-07-10T19:19:07.323Z"
   },
   {
    "duration": 17,
    "start_time": "2021-07-10T19:19:07.333Z"
   },
   {
    "duration": 16,
    "start_time": "2021-07-10T19:19:07.353Z"
   },
   {
    "duration": 49,
    "start_time": "2021-07-10T19:19:07.371Z"
   },
   {
    "duration": 10,
    "start_time": "2021-07-10T19:19:07.422Z"
   },
   {
    "duration": 17,
    "start_time": "2021-07-10T19:19:07.434Z"
   },
   {
    "duration": 6,
    "start_time": "2021-07-10T19:19:07.453Z"
   },
   {
    "duration": 42,
    "start_time": "2021-07-10T19:19:07.461Z"
   },
   {
    "duration": 13,
    "start_time": "2021-07-10T19:19:07.506Z"
   },
   {
    "duration": 4283,
    "start_time": "2021-07-10T19:19:07.522Z"
   },
   {
    "duration": 23067,
    "start_time": "2021-07-10T19:19:11.807Z"
   },
   {
    "duration": 6040,
    "start_time": "2021-07-10T19:19:34.876Z"
   },
   {
    "duration": 10,
    "start_time": "2021-07-10T19:19:41.000Z"
   },
   {
    "duration": 23235,
    "start_time": "2021-07-10T19:19:41.013Z"
   },
   {
    "duration": 6,
    "start_time": "2021-07-10T19:20:04.250Z"
   },
   {
    "duration": 17,
    "start_time": "2021-07-10T19:20:04.258Z"
   },
   {
    "duration": 27,
    "start_time": "2021-07-10T19:20:04.277Z"
   },
   {
    "duration": 21,
    "start_time": "2021-07-10T19:20:04.307Z"
   },
   {
    "duration": 377,
    "start_time": "2021-07-10T19:20:04.331Z"
   },
   {
    "duration": 1624,
    "start_time": "2021-07-10T19:20:24.970Z"
   },
   {
    "duration": 119,
    "start_time": "2021-07-10T19:20:26.597Z"
   },
   {
    "duration": 4,
    "start_time": "2021-07-10T19:20:26.719Z"
   },
   {
    "duration": 127,
    "start_time": "2021-07-10T19:20:26.726Z"
   },
   {
    "duration": 6,
    "start_time": "2021-07-10T19:20:26.855Z"
   },
   {
    "duration": 48,
    "start_time": "2021-07-10T19:20:26.863Z"
   },
   {
    "duration": 27,
    "start_time": "2021-07-10T19:20:26.913Z"
   },
   {
    "duration": 20,
    "start_time": "2021-07-10T19:20:26.944Z"
   },
   {
    "duration": 45,
    "start_time": "2021-07-10T19:20:26.967Z"
   },
   {
    "duration": 17,
    "start_time": "2021-07-10T19:20:27.014Z"
   },
   {
    "duration": 66,
    "start_time": "2021-07-10T19:20:27.034Z"
   },
   {
    "duration": 8,
    "start_time": "2021-07-10T19:20:27.103Z"
   },
   {
    "duration": 16,
    "start_time": "2021-07-10T19:20:27.114Z"
   },
   {
    "duration": 14,
    "start_time": "2021-07-10T19:20:27.133Z"
   },
   {
    "duration": 14,
    "start_time": "2021-07-10T19:20:27.149Z"
   },
   {
    "duration": 57,
    "start_time": "2021-07-10T19:20:27.166Z"
   },
   {
    "duration": 9,
    "start_time": "2021-07-10T19:20:27.226Z"
   },
   {
    "duration": 9,
    "start_time": "2021-07-10T19:20:27.238Z"
   },
   {
    "duration": 9,
    "start_time": "2021-07-10T19:20:27.250Z"
   },
   {
    "duration": 44,
    "start_time": "2021-07-10T19:20:27.262Z"
   },
   {
    "duration": 17,
    "start_time": "2021-07-10T19:20:27.308Z"
   },
   {
    "duration": 17,
    "start_time": "2021-07-10T19:20:27.328Z"
   },
   {
    "duration": 768,
    "start_time": "2021-07-10T19:20:27.352Z"
   },
   {
    "duration": 11,
    "start_time": "2021-07-10T19:20:28.124Z"
   },
   {
    "duration": 72,
    "start_time": "2021-07-10T19:20:28.138Z"
   },
   {
    "duration": 13,
    "start_time": "2021-07-10T19:20:28.213Z"
   },
   {
    "duration": 845,
    "start_time": "2021-07-10T19:20:28.229Z"
   },
   {
    "duration": 6,
    "start_time": "2021-07-10T19:20:29.077Z"
   },
   {
    "duration": 13,
    "start_time": "2021-07-10T19:20:29.101Z"
   },
   {
    "duration": 20,
    "start_time": "2021-07-10T19:20:29.116Z"
   },
   {
    "duration": 195,
    "start_time": "2021-07-10T19:20:29.138Z"
   },
   {
    "duration": 4,
    "start_time": "2021-07-10T19:20:29.335Z"
   },
   {
    "duration": 6,
    "start_time": "2021-07-10T19:20:29.342Z"
   },
   {
    "duration": 51,
    "start_time": "2021-07-10T19:20:29.351Z"
   },
   {
    "duration": 14,
    "start_time": "2021-07-10T19:20:29.404Z"
   },
   {
    "duration": 47,
    "start_time": "2021-07-10T19:20:29.420Z"
   },
   {
    "duration": 48,
    "start_time": "2021-07-10T19:20:29.469Z"
   },
   {
    "duration": 41,
    "start_time": "2021-07-10T19:20:29.520Z"
   },
   {
    "duration": 6,
    "start_time": "2021-07-10T19:20:29.563Z"
   },
   {
    "duration": 11,
    "start_time": "2021-07-10T19:20:29.571Z"
   },
   {
    "duration": 12,
    "start_time": "2021-07-10T19:20:29.602Z"
   },
   {
    "duration": 9,
    "start_time": "2021-07-10T19:20:29.616Z"
   },
   {
    "duration": 10,
    "start_time": "2021-07-10T19:20:29.627Z"
   },
   {
    "duration": 11,
    "start_time": "2021-07-10T19:20:29.640Z"
   },
   {
    "duration": 53,
    "start_time": "2021-07-10T19:20:29.653Z"
   },
   {
    "duration": 9,
    "start_time": "2021-07-10T19:20:29.708Z"
   },
   {
    "duration": 12,
    "start_time": "2021-07-10T19:20:29.719Z"
   },
   {
    "duration": 4,
    "start_time": "2021-07-10T19:20:29.733Z"
   },
   {
    "duration": 10,
    "start_time": "2021-07-10T19:20:29.739Z"
   },
   {
    "duration": 10,
    "start_time": "2021-07-10T19:20:29.751Z"
   },
   {
    "duration": 4199,
    "start_time": "2021-07-10T19:20:29.801Z"
   },
   {
    "duration": 383,
    "start_time": "2021-07-10T19:20:34.002Z"
   },
   {
    "duration": 5227,
    "start_time": "2021-07-10T19:20:34.387Z"
   },
   {
    "duration": 9,
    "start_time": "2021-07-10T19:20:39.617Z"
   },
   {
    "duration": 322,
    "start_time": "2021-07-10T19:20:39.628Z"
   },
   {
    "duration": 291,
    "start_time": "2021-07-10T19:20:39.952Z"
   },
   {
    "duration": 54,
    "start_time": "2021-07-10T19:20:40.191Z"
   },
   {
    "duration": 54,
    "start_time": "2021-07-10T19:20:40.193Z"
   },
   {
    "duration": 54,
    "start_time": "2021-07-10T19:20:40.195Z"
   },
   {
    "duration": 54,
    "start_time": "2021-07-10T19:20:40.196Z"
   },
   {
    "duration": 1522,
    "start_time": "2021-07-10T19:20:57.126Z"
   },
   {
    "duration": 115,
    "start_time": "2021-07-10T19:20:58.651Z"
   },
   {
    "duration": 4,
    "start_time": "2021-07-10T19:20:58.769Z"
   },
   {
    "duration": 113,
    "start_time": "2021-07-10T19:20:58.776Z"
   },
   {
    "duration": 10,
    "start_time": "2021-07-10T19:20:58.892Z"
   },
   {
    "duration": 38,
    "start_time": "2021-07-10T19:20:58.906Z"
   },
   {
    "duration": 30,
    "start_time": "2021-07-10T19:20:58.947Z"
   },
   {
    "duration": 20,
    "start_time": "2021-07-10T19:20:59.003Z"
   },
   {
    "duration": 21,
    "start_time": "2021-07-10T19:20:59.028Z"
   },
   {
    "duration": 54,
    "start_time": "2021-07-10T19:20:59.052Z"
   },
   {
    "duration": 39,
    "start_time": "2021-07-10T19:20:59.109Z"
   },
   {
    "duration": 11,
    "start_time": "2021-07-10T19:20:59.150Z"
   },
   {
    "duration": 45,
    "start_time": "2021-07-10T19:20:59.163Z"
   },
   {
    "duration": 12,
    "start_time": "2021-07-10T19:20:59.211Z"
   },
   {
    "duration": 9,
    "start_time": "2021-07-10T19:20:59.225Z"
   },
   {
    "duration": 15,
    "start_time": "2021-07-10T19:20:59.237Z"
   },
   {
    "duration": 6,
    "start_time": "2021-07-10T19:20:59.255Z"
   },
   {
    "duration": 42,
    "start_time": "2021-07-10T19:20:59.263Z"
   },
   {
    "duration": 7,
    "start_time": "2021-07-10T19:20:59.308Z"
   },
   {
    "duration": 10,
    "start_time": "2021-07-10T19:20:59.317Z"
   },
   {
    "duration": 12,
    "start_time": "2021-07-10T19:20:59.330Z"
   },
   {
    "duration": 10,
    "start_time": "2021-07-10T19:20:59.344Z"
   },
   {
    "duration": 742,
    "start_time": "2021-07-10T19:20:59.401Z"
   },
   {
    "duration": 11,
    "start_time": "2021-07-10T19:21:00.146Z"
   },
   {
    "duration": 70,
    "start_time": "2021-07-10T19:21:00.160Z"
   },
   {
    "duration": 11,
    "start_time": "2021-07-10T19:21:00.233Z"
   },
   {
    "duration": 853,
    "start_time": "2021-07-10T19:21:00.247Z"
   },
   {
    "duration": 8,
    "start_time": "2021-07-10T19:21:01.102Z"
   },
   {
    "duration": 26,
    "start_time": "2021-07-10T19:21:01.112Z"
   },
   {
    "duration": 23,
    "start_time": "2021-07-10T19:21:01.140Z"
   },
   {
    "duration": 271,
    "start_time": "2021-07-10T19:21:01.165Z"
   },
   {
    "duration": 4,
    "start_time": "2021-07-10T19:21:01.439Z"
   },
   {
    "duration": 11,
    "start_time": "2021-07-10T19:21:01.447Z"
   },
   {
    "duration": 48,
    "start_time": "2021-07-10T19:21:01.461Z"
   },
   {
    "duration": 14,
    "start_time": "2021-07-10T19:21:01.511Z"
   },
   {
    "duration": 73,
    "start_time": "2021-07-10T19:21:01.527Z"
   },
   {
    "duration": 24,
    "start_time": "2021-07-10T19:21:01.603Z"
   },
   {
    "duration": 48,
    "start_time": "2021-07-10T19:21:01.630Z"
   },
   {
    "duration": 6,
    "start_time": "2021-07-10T19:21:01.680Z"
   },
   {
    "duration": 6,
    "start_time": "2021-07-10T19:21:01.700Z"
   },
   {
    "duration": 25,
    "start_time": "2021-07-10T19:21:01.710Z"
   },
   {
    "duration": 18,
    "start_time": "2021-07-10T19:21:01.738Z"
   },
   {
    "duration": 27,
    "start_time": "2021-07-10T19:21:01.758Z"
   },
   {
    "duration": 17,
    "start_time": "2021-07-10T19:21:01.787Z"
   },
   {
    "duration": 36,
    "start_time": "2021-07-10T19:21:01.806Z"
   },
   {
    "duration": 14,
    "start_time": "2021-07-10T19:21:01.845Z"
   },
   {
    "duration": 28,
    "start_time": "2021-07-10T19:21:01.861Z"
   },
   {
    "duration": 16,
    "start_time": "2021-07-10T19:21:01.891Z"
   },
   {
    "duration": 20,
    "start_time": "2021-07-10T19:21:01.909Z"
   },
   {
    "duration": 28,
    "start_time": "2021-07-10T19:21:01.932Z"
   },
   {
    "duration": 4562,
    "start_time": "2021-07-10T19:21:01.962Z"
   },
   {
    "duration": 6647,
    "start_time": "2021-07-10T19:21:06.527Z"
   },
   {
    "duration": 5837,
    "start_time": "2021-07-10T19:21:13.177Z"
   },
   {
    "duration": 84,
    "start_time": "2021-07-10T19:21:19.016Z"
   },
   {
    "duration": 5755,
    "start_time": "2021-07-10T19:21:19.103Z"
   },
   {
    "duration": 261,
    "start_time": "2021-07-10T19:21:24.861Z"
   },
   {
    "duration": 82,
    "start_time": "2021-07-10T19:21:25.042Z"
   },
   {
    "duration": 74,
    "start_time": "2021-07-10T19:21:25.052Z"
   },
   {
    "duration": 74,
    "start_time": "2021-07-10T19:21:25.053Z"
   },
   {
    "duration": 74,
    "start_time": "2021-07-10T19:21:25.054Z"
   },
   {
    "duration": 1585,
    "start_time": "2021-07-10T19:23:09.703Z"
   },
   {
    "duration": 119,
    "start_time": "2021-07-10T19:23:11.292Z"
   },
   {
    "duration": 5,
    "start_time": "2021-07-10T19:23:11.414Z"
   },
   {
    "duration": 134,
    "start_time": "2021-07-10T19:23:11.422Z"
   },
   {
    "duration": 6,
    "start_time": "2021-07-10T19:23:11.558Z"
   },
   {
    "duration": 51,
    "start_time": "2021-07-10T19:23:11.566Z"
   },
   {
    "duration": 29,
    "start_time": "2021-07-10T19:23:11.619Z"
   },
   {
    "duration": 20,
    "start_time": "2021-07-10T19:23:11.652Z"
   },
   {
    "duration": 24,
    "start_time": "2021-07-10T19:23:11.700Z"
   },
   {
    "duration": 18,
    "start_time": "2021-07-10T19:23:11.726Z"
   },
   {
    "duration": 66,
    "start_time": "2021-07-10T19:23:11.747Z"
   },
   {
    "duration": 9,
    "start_time": "2021-07-10T19:23:11.816Z"
   },
   {
    "duration": 29,
    "start_time": "2021-07-10T19:23:11.827Z"
   },
   {
    "duration": 24,
    "start_time": "2021-07-10T19:23:11.859Z"
   },
   {
    "duration": 24,
    "start_time": "2021-07-10T19:23:11.886Z"
   },
   {
    "duration": 21,
    "start_time": "2021-07-10T19:23:11.912Z"
   },
   {
    "duration": 16,
    "start_time": "2021-07-10T19:23:11.935Z"
   },
   {
    "duration": 21,
    "start_time": "2021-07-10T19:23:11.954Z"
   },
   {
    "duration": 20,
    "start_time": "2021-07-10T19:23:11.978Z"
   },
   {
    "duration": 17,
    "start_time": "2021-07-10T19:23:12.000Z"
   },
   {
    "duration": 18,
    "start_time": "2021-07-10T19:23:12.019Z"
   },
   {
    "duration": 21,
    "start_time": "2021-07-10T19:23:12.040Z"
   },
   {
    "duration": 768,
    "start_time": "2021-07-10T19:23:12.067Z"
   },
   {
    "duration": 418,
    "start_time": "2021-07-10T19:23:12.838Z"
   },
   {
    "duration": -18,
    "start_time": "2021-07-10T19:23:13.277Z"
   },
   {
    "duration": -19,
    "start_time": "2021-07-10T19:23:13.279Z"
   },
   {
    "duration": -19,
    "start_time": "2021-07-10T19:23:13.280Z"
   },
   {
    "duration": -17,
    "start_time": "2021-07-10T19:23:13.280Z"
   },
   {
    "duration": -17,
    "start_time": "2021-07-10T19:23:13.281Z"
   },
   {
    "duration": -16,
    "start_time": "2021-07-10T19:23:13.282Z"
   },
   {
    "duration": -16,
    "start_time": "2021-07-10T19:23:13.283Z"
   },
   {
    "duration": -15,
    "start_time": "2021-07-10T19:23:13.284Z"
   },
   {
    "duration": -15,
    "start_time": "2021-07-10T19:23:13.285Z"
   },
   {
    "duration": -14,
    "start_time": "2021-07-10T19:23:13.286Z"
   },
   {
    "duration": -14,
    "start_time": "2021-07-10T19:23:13.287Z"
   },
   {
    "duration": -13,
    "start_time": "2021-07-10T19:23:13.288Z"
   },
   {
    "duration": -13,
    "start_time": "2021-07-10T19:23:13.289Z"
   },
   {
    "duration": -11,
    "start_time": "2021-07-10T19:23:13.289Z"
   },
   {
    "duration": -11,
    "start_time": "2021-07-10T19:23:13.290Z"
   },
   {
    "duration": -10,
    "start_time": "2021-07-10T19:23:13.291Z"
   },
   {
    "duration": -9,
    "start_time": "2021-07-10T19:23:13.292Z"
   },
   {
    "duration": -9,
    "start_time": "2021-07-10T19:23:13.293Z"
   },
   {
    "duration": -16,
    "start_time": "2021-07-10T19:23:13.301Z"
   },
   {
    "duration": -15,
    "start_time": "2021-07-10T19:23:13.302Z"
   },
   {
    "duration": -15,
    "start_time": "2021-07-10T19:23:13.303Z"
   },
   {
    "duration": -15,
    "start_time": "2021-07-10T19:23:13.304Z"
   },
   {
    "duration": -15,
    "start_time": "2021-07-10T19:23:13.305Z"
   },
   {
    "duration": -14,
    "start_time": "2021-07-10T19:23:13.306Z"
   },
   {
    "duration": -14,
    "start_time": "2021-07-10T19:23:13.307Z"
   },
   {
    "duration": -13,
    "start_time": "2021-07-10T19:23:13.307Z"
   },
   {
    "duration": -13,
    "start_time": "2021-07-10T19:23:13.308Z"
   },
   {
    "duration": -26,
    "start_time": "2021-07-10T19:23:13.326Z"
   },
   {
    "duration": -27,
    "start_time": "2021-07-10T19:23:13.328Z"
   },
   {
    "duration": -26,
    "start_time": "2021-07-10T19:23:13.329Z"
   },
   {
    "duration": -26,
    "start_time": "2021-07-10T19:23:13.330Z"
   },
   {
    "duration": -24,
    "start_time": "2021-07-10T19:23:13.330Z"
   },
   {
    "duration": -23,
    "start_time": "2021-07-10T19:23:13.331Z"
   },
   {
    "duration": -22,
    "start_time": "2021-07-10T19:23:13.332Z"
   },
   {
    "duration": -21,
    "start_time": "2021-07-10T19:23:13.333Z"
   },
   {
    "duration": -19,
    "start_time": "2021-07-10T19:23:13.334Z"
   },
   {
    "duration": 11,
    "start_time": "2021-07-10T19:23:37.935Z"
   },
   {
    "duration": 1485,
    "start_time": "2021-07-10T19:23:44.348Z"
   },
   {
    "duration": 113,
    "start_time": "2021-07-10T19:23:45.835Z"
   },
   {
    "duration": 5,
    "start_time": "2021-07-10T19:23:45.951Z"
   },
   {
    "duration": 112,
    "start_time": "2021-07-10T19:23:45.958Z"
   },
   {
    "duration": 6,
    "start_time": "2021-07-10T19:23:46.079Z"
   },
   {
    "duration": 38,
    "start_time": "2021-07-10T19:23:46.088Z"
   },
   {
    "duration": 28,
    "start_time": "2021-07-10T19:23:46.128Z"
   },
   {
    "duration": 45,
    "start_time": "2021-07-10T19:23:46.160Z"
   },
   {
    "duration": 20,
    "start_time": "2021-07-10T19:23:46.209Z"
   },
   {
    "duration": 18,
    "start_time": "2021-07-10T19:23:46.232Z"
   },
   {
    "duration": 68,
    "start_time": "2021-07-10T19:23:46.252Z"
   },
   {
    "duration": 10,
    "start_time": "2021-07-10T19:23:46.323Z"
   },
   {
    "duration": 30,
    "start_time": "2021-07-10T19:23:46.336Z"
   },
   {
    "duration": 34,
    "start_time": "2021-07-10T19:23:46.368Z"
   },
   {
    "duration": 17,
    "start_time": "2021-07-10T19:23:46.404Z"
   },
   {
    "duration": 28,
    "start_time": "2021-07-10T19:23:46.423Z"
   },
   {
    "duration": 9,
    "start_time": "2021-07-10T19:23:46.453Z"
   },
   {
    "duration": 11,
    "start_time": "2021-07-10T19:23:46.465Z"
   },
   {
    "duration": 10,
    "start_time": "2021-07-10T19:23:46.479Z"
   },
   {
    "duration": 6,
    "start_time": "2021-07-10T19:23:46.501Z"
   },
   {
    "duration": 14,
    "start_time": "2021-07-10T19:23:46.510Z"
   },
   {
    "duration": 14,
    "start_time": "2021-07-10T19:23:46.527Z"
   },
   {
    "duration": 864,
    "start_time": "2021-07-10T19:23:46.547Z"
   },
   {
    "duration": 10,
    "start_time": "2021-07-10T19:23:47.415Z"
   },
   {
    "duration": 54,
    "start_time": "2021-07-10T19:23:47.428Z"
   },
   {
    "duration": 13,
    "start_time": "2021-07-10T19:23:47.500Z"
   },
   {
    "duration": 833,
    "start_time": "2021-07-10T19:23:47.515Z"
   },
   {
    "duration": 7,
    "start_time": "2021-07-10T19:23:48.351Z"
   },
   {
    "duration": 15,
    "start_time": "2021-07-10T19:23:48.360Z"
   },
   {
    "duration": 41,
    "start_time": "2021-07-10T19:23:48.377Z"
   },
   {
    "duration": 196,
    "start_time": "2021-07-10T19:23:48.420Z"
   },
   {
    "duration": 3,
    "start_time": "2021-07-10T19:23:48.619Z"
   },
   {
    "duration": 13,
    "start_time": "2021-07-10T19:23:48.624Z"
   },
   {
    "duration": 24,
    "start_time": "2021-07-10T19:23:48.639Z"
   },
   {
    "duration": 48,
    "start_time": "2021-07-10T19:23:48.665Z"
   },
   {
    "duration": 49,
    "start_time": "2021-07-10T19:23:48.715Z"
   },
   {
    "duration": 45,
    "start_time": "2021-07-10T19:23:48.766Z"
   },
   {
    "duration": 35,
    "start_time": "2021-07-10T19:23:48.814Z"
   },
   {
    "duration": 7,
    "start_time": "2021-07-10T19:23:48.851Z"
   },
   {
    "duration": 40,
    "start_time": "2021-07-10T19:23:48.860Z"
   },
   {
    "duration": 12,
    "start_time": "2021-07-10T19:23:48.903Z"
   },
   {
    "duration": 7,
    "start_time": "2021-07-10T19:23:48.917Z"
   },
   {
    "duration": 6,
    "start_time": "2021-07-10T19:23:48.926Z"
   },
   {
    "duration": 9,
    "start_time": "2021-07-10T19:23:48.935Z"
   },
   {
    "duration": 71,
    "start_time": "2021-07-10T19:23:48.946Z"
   },
   {
    "duration": 11,
    "start_time": "2021-07-10T19:23:49.019Z"
   },
   {
    "duration": 18,
    "start_time": "2021-07-10T19:23:49.033Z"
   },
   {
    "duration": 4,
    "start_time": "2021-07-10T19:23:49.053Z"
   },
   {
    "duration": 41,
    "start_time": "2021-07-10T19:23:49.060Z"
   },
   {
    "duration": 12,
    "start_time": "2021-07-10T19:23:49.104Z"
   },
   {
    "duration": 4226,
    "start_time": "2021-07-10T19:23:49.119Z"
   },
   {
    "duration": 23173,
    "start_time": "2021-07-10T19:23:53.348Z"
   },
   {
    "duration": 5193,
    "start_time": "2021-07-10T19:24:16.524Z"
   },
   {
    "duration": 9,
    "start_time": "2021-07-10T19:24:21.801Z"
   },
   {
    "duration": 24551,
    "start_time": "2021-07-10T19:24:21.813Z"
   },
   {
    "duration": 6,
    "start_time": "2021-07-10T19:24:46.366Z"
   },
   {
    "duration": 20,
    "start_time": "2021-07-10T19:24:46.375Z"
   },
   {
    "duration": 30,
    "start_time": "2021-07-10T19:24:46.398Z"
   },
   {
    "duration": 21,
    "start_time": "2021-07-10T19:24:46.431Z"
   },
   {
    "duration": 393,
    "start_time": "2021-07-10T19:24:46.454Z"
   },
   {
    "duration": 1649,
    "start_time": "2021-07-10T21:05:29.310Z"
   },
   {
    "duration": 122,
    "start_time": "2021-07-10T21:05:30.962Z"
   },
   {
    "duration": 5,
    "start_time": "2021-07-10T21:05:31.087Z"
   },
   {
    "duration": 160,
    "start_time": "2021-07-10T21:05:31.094Z"
   },
   {
    "duration": 7,
    "start_time": "2021-07-10T21:05:31.256Z"
   },
   {
    "duration": 51,
    "start_time": "2021-07-10T21:05:31.265Z"
   },
   {
    "duration": 31,
    "start_time": "2021-07-10T21:05:31.319Z"
   },
   {
    "duration": 46,
    "start_time": "2021-07-10T21:05:31.355Z"
   },
   {
    "duration": 22,
    "start_time": "2021-07-10T21:05:31.404Z"
   },
   {
    "duration": 41,
    "start_time": "2021-07-10T21:05:31.429Z"
   },
   {
    "duration": 41,
    "start_time": "2021-07-10T21:05:31.472Z"
   },
   {
    "duration": 17,
    "start_time": "2021-07-10T21:05:31.515Z"
   },
   {
    "duration": 28,
    "start_time": "2021-07-10T21:05:31.535Z"
   },
   {
    "duration": 16,
    "start_time": "2021-07-10T21:05:31.565Z"
   },
   {
    "duration": 23,
    "start_time": "2021-07-10T21:05:31.583Z"
   },
   {
    "duration": 24,
    "start_time": "2021-07-10T21:05:31.608Z"
   },
   {
    "duration": 6,
    "start_time": "2021-07-10T21:05:31.634Z"
   },
   {
    "duration": 19,
    "start_time": "2021-07-10T21:05:31.642Z"
   },
   {
    "duration": 26,
    "start_time": "2021-07-10T21:05:31.663Z"
   },
   {
    "duration": 13,
    "start_time": "2021-07-10T21:05:31.692Z"
   },
   {
    "duration": 22,
    "start_time": "2021-07-10T21:05:31.707Z"
   },
   {
    "duration": 18,
    "start_time": "2021-07-10T21:05:31.731Z"
   },
   {
    "duration": 767,
    "start_time": "2021-07-10T21:05:31.755Z"
   },
   {
    "duration": 44,
    "start_time": "2021-07-10T21:05:32.525Z"
   },
   {
    "duration": 38,
    "start_time": "2021-07-10T21:05:32.572Z"
   },
   {
    "duration": 794,
    "start_time": "2021-07-10T21:05:32.613Z"
   },
   {
    "duration": 7,
    "start_time": "2021-07-10T21:05:33.410Z"
   },
   {
    "duration": 17,
    "start_time": "2021-07-10T21:05:33.420Z"
   },
   {
    "duration": 22,
    "start_time": "2021-07-10T21:05:33.440Z"
   },
   {
    "duration": 218,
    "start_time": "2021-07-10T21:05:33.465Z"
   },
   {
    "duration": 16,
    "start_time": "2021-07-10T21:05:33.685Z"
   },
   {
    "duration": 7,
    "start_time": "2021-07-10T21:05:33.703Z"
   },
   {
    "duration": 29,
    "start_time": "2021-07-10T21:05:33.713Z"
   },
   {
    "duration": 14,
    "start_time": "2021-07-10T21:05:33.744Z"
   },
   {
    "duration": 77,
    "start_time": "2021-07-10T21:05:33.760Z"
   },
   {
    "duration": 24,
    "start_time": "2021-07-10T21:05:33.839Z"
   },
   {
    "duration": 55,
    "start_time": "2021-07-10T21:05:33.866Z"
   },
   {
    "duration": 6,
    "start_time": "2021-07-10T21:05:33.923Z"
   },
   {
    "duration": 7,
    "start_time": "2021-07-10T21:05:33.931Z"
   },
   {
    "duration": 18,
    "start_time": "2021-07-10T21:05:33.941Z"
   },
   {
    "duration": 22,
    "start_time": "2021-07-10T21:05:33.961Z"
   },
   {
    "duration": 26,
    "start_time": "2021-07-10T21:05:33.985Z"
   },
   {
    "duration": 28,
    "start_time": "2021-07-10T21:05:34.014Z"
   },
   {
    "duration": 40,
    "start_time": "2021-07-10T21:05:34.044Z"
   },
   {
    "duration": 19,
    "start_time": "2021-07-10T21:05:34.086Z"
   },
   {
    "duration": 21,
    "start_time": "2021-07-10T21:05:34.108Z"
   },
   {
    "duration": 21,
    "start_time": "2021-07-10T21:05:34.131Z"
   },
   {
    "duration": 28,
    "start_time": "2021-07-10T21:05:34.154Z"
   },
   {
    "duration": 23,
    "start_time": "2021-07-10T21:05:34.185Z"
   },
   {
    "duration": 4486,
    "start_time": "2021-07-10T21:05:34.210Z"
   },
   {
    "duration": 363,
    "start_time": "2021-07-10T21:05:38.702Z"
   },
   {
    "duration": 6349,
    "start_time": "2021-07-10T21:05:39.067Z"
   },
   {
    "duration": 87,
    "start_time": "2021-07-10T21:05:45.419Z"
   },
   {
    "duration": 263,
    "start_time": "2021-07-10T21:05:45.509Z"
   },
   {
    "duration": 266,
    "start_time": "2021-07-10T21:05:45.775Z"
   },
   {
    "duration": -30,
    "start_time": "2021-07-10T21:05:46.074Z"
   },
   {
    "duration": -37,
    "start_time": "2021-07-10T21:05:46.082Z"
   },
   {
    "duration": -42,
    "start_time": "2021-07-10T21:05:46.089Z"
   },
   {
    "duration": -46,
    "start_time": "2021-07-10T21:05:46.095Z"
   },
   {
    "duration": 1618,
    "start_time": "2021-07-10T21:07:42.112Z"
   },
   {
    "duration": 116,
    "start_time": "2021-07-10T21:07:43.732Z"
   },
   {
    "duration": 5,
    "start_time": "2021-07-10T21:07:43.851Z"
   },
   {
    "duration": 113,
    "start_time": "2021-07-10T21:07:43.859Z"
   },
   {
    "duration": 5,
    "start_time": "2021-07-10T21:07:43.974Z"
   },
   {
    "duration": 44,
    "start_time": "2021-07-10T21:07:43.982Z"
   },
   {
    "duration": 28,
    "start_time": "2021-07-10T21:07:44.029Z"
   },
   {
    "duration": 45,
    "start_time": "2021-07-10T21:07:44.060Z"
   },
   {
    "duration": 21,
    "start_time": "2021-07-10T21:07:44.108Z"
   },
   {
    "duration": 21,
    "start_time": "2021-07-10T21:07:44.132Z"
   },
   {
    "duration": 61,
    "start_time": "2021-07-10T21:07:44.156Z"
   },
   {
    "duration": 11,
    "start_time": "2021-07-10T21:07:44.220Z"
   },
   {
    "duration": 19,
    "start_time": "2021-07-10T21:07:44.234Z"
   },
   {
    "duration": 47,
    "start_time": "2021-07-10T21:07:44.256Z"
   },
   {
    "duration": 13,
    "start_time": "2021-07-10T21:07:44.305Z"
   },
   {
    "duration": 22,
    "start_time": "2021-07-10T21:07:44.321Z"
   },
   {
    "duration": 10,
    "start_time": "2021-07-10T21:07:44.346Z"
   },
   {
    "duration": 43,
    "start_time": "2021-07-10T21:07:44.359Z"
   },
   {
    "duration": 9,
    "start_time": "2021-07-10T21:07:44.406Z"
   },
   {
    "duration": 11,
    "start_time": "2021-07-10T21:07:44.418Z"
   },
   {
    "duration": 14,
    "start_time": "2021-07-10T21:07:44.432Z"
   },
   {
    "duration": 13,
    "start_time": "2021-07-10T21:07:44.450Z"
   },
   {
    "duration": 757,
    "start_time": "2021-07-10T21:07:44.506Z"
   },
   {
    "duration": 60,
    "start_time": "2021-07-10T21:07:45.266Z"
   },
   {
    "duration": 11,
    "start_time": "2021-07-10T21:07:45.329Z"
   },
   {
    "duration": 952,
    "start_time": "2021-07-10T21:07:45.342Z"
   },
   {
    "duration": 9,
    "start_time": "2021-07-10T21:07:46.301Z"
   },
   {
    "duration": 23,
    "start_time": "2021-07-10T21:07:46.314Z"
   },
   {
    "duration": 32,
    "start_time": "2021-07-10T21:07:46.341Z"
   },
   {
    "duration": 315,
    "start_time": "2021-07-10T21:07:46.376Z"
   },
   {
    "duration": 5,
    "start_time": "2021-07-10T21:07:46.702Z"
   },
   {
    "duration": 17,
    "start_time": "2021-07-10T21:07:46.710Z"
   },
   {
    "duration": 29,
    "start_time": "2021-07-10T21:07:46.730Z"
   },
   {
    "duration": 39,
    "start_time": "2021-07-10T21:07:46.762Z"
   },
   {
    "duration": 52,
    "start_time": "2021-07-10T21:07:46.804Z"
   },
   {
    "duration": 50,
    "start_time": "2021-07-10T21:07:46.858Z"
   },
   {
    "duration": 36,
    "start_time": "2021-07-10T21:07:46.911Z"
   },
   {
    "duration": 5,
    "start_time": "2021-07-10T21:07:46.949Z"
   },
   {
    "duration": 7,
    "start_time": "2021-07-10T21:07:46.957Z"
   },
   {
    "duration": 38,
    "start_time": "2021-07-10T21:07:46.966Z"
   },
   {
    "duration": 7,
    "start_time": "2021-07-10T21:07:47.007Z"
   },
   {
    "duration": 6,
    "start_time": "2021-07-10T21:07:47.017Z"
   },
   {
    "duration": 9,
    "start_time": "2021-07-10T21:07:47.027Z"
   },
   {
    "duration": 75,
    "start_time": "2021-07-10T21:07:47.039Z"
   },
   {
    "duration": 11,
    "start_time": "2021-07-10T21:07:47.117Z"
   },
   {
    "duration": 12,
    "start_time": "2021-07-10T21:07:47.131Z"
   },
   {
    "duration": 4,
    "start_time": "2021-07-10T21:07:47.145Z"
   },
   {
    "duration": 11,
    "start_time": "2021-07-10T21:07:47.152Z"
   },
   {
    "duration": 39,
    "start_time": "2021-07-10T21:07:47.166Z"
   },
   {
    "duration": 4241,
    "start_time": "2021-07-10T21:07:47.208Z"
   },
   {
    "duration": 23769,
    "start_time": "2021-07-10T21:07:51.452Z"
   },
   {
    "duration": 6384,
    "start_time": "2021-07-10T21:08:15.223Z"
   },
   {
    "duration": 10,
    "start_time": "2021-07-10T21:08:21.610Z"
   },
   {
    "duration": 23442,
    "start_time": "2021-07-10T21:08:21.622Z"
   },
   {
    "duration": 5,
    "start_time": "2021-07-10T21:08:45.067Z"
   },
   {
    "duration": 19,
    "start_time": "2021-07-10T21:08:45.074Z"
   },
   {
    "duration": 29,
    "start_time": "2021-07-10T21:08:45.095Z"
   },
   {
    "duration": 18,
    "start_time": "2021-07-10T21:08:45.127Z"
   },
   {
    "duration": 368,
    "start_time": "2021-07-10T21:08:45.148Z"
   },
   {
    "duration": 1628,
    "start_time": "2021-07-10T21:10:11.300Z"
   },
   {
    "duration": 113,
    "start_time": "2021-07-10T21:10:12.931Z"
   },
   {
    "duration": 5,
    "start_time": "2021-07-10T21:10:13.046Z"
   },
   {
    "duration": 111,
    "start_time": "2021-07-10T21:10:13.055Z"
   },
   {
    "duration": 5,
    "start_time": "2021-07-10T21:10:13.168Z"
   },
   {
    "duration": 50,
    "start_time": "2021-07-10T21:10:13.175Z"
   },
   {
    "duration": 30,
    "start_time": "2021-07-10T21:10:13.227Z"
   },
   {
    "duration": 19,
    "start_time": "2021-07-10T21:10:13.259Z"
   },
   {
    "duration": 20,
    "start_time": "2021-07-10T21:10:13.302Z"
   },
   {
    "duration": 16,
    "start_time": "2021-07-10T21:10:13.325Z"
   },
   {
    "duration": 62,
    "start_time": "2021-07-10T21:10:13.344Z"
   },
   {
    "duration": 12,
    "start_time": "2021-07-10T21:10:13.408Z"
   },
   {
    "duration": 15,
    "start_time": "2021-07-10T21:10:13.423Z"
   },
   {
    "duration": 13,
    "start_time": "2021-07-10T21:10:13.441Z"
   },
   {
    "duration": 12,
    "start_time": "2021-07-10T21:10:13.456Z"
   },
   {
    "duration": 45,
    "start_time": "2021-07-10T21:10:13.470Z"
   },
   {
    "duration": 6,
    "start_time": "2021-07-10T21:10:13.518Z"
   },
   {
    "duration": 9,
    "start_time": "2021-07-10T21:10:13.527Z"
   },
   {
    "duration": 7,
    "start_time": "2021-07-10T21:10:13.539Z"
   },
   {
    "duration": 7,
    "start_time": "2021-07-10T21:10:13.549Z"
   },
   {
    "duration": 48,
    "start_time": "2021-07-10T21:10:13.559Z"
   },
   {
    "duration": 10,
    "start_time": "2021-07-10T21:10:13.610Z"
   },
   {
    "duration": 785,
    "start_time": "2021-07-10T21:10:13.622Z"
   },
   {
    "duration": 42,
    "start_time": "2021-07-10T21:10:14.409Z"
   },
   {
    "duration": 12,
    "start_time": "2021-07-10T21:10:14.454Z"
   },
   {
    "duration": 838,
    "start_time": "2021-07-10T21:10:14.468Z"
   },
   {
    "duration": 6,
    "start_time": "2021-07-10T21:10:15.313Z"
   },
   {
    "duration": 14,
    "start_time": "2021-07-10T21:10:15.323Z"
   },
   {
    "duration": 19,
    "start_time": "2021-07-10T21:10:15.340Z"
   },
   {
    "duration": 213,
    "start_time": "2021-07-10T21:10:15.361Z"
   },
   {
    "duration": 4,
    "start_time": "2021-07-10T21:10:15.577Z"
   },
   {
    "duration": 18,
    "start_time": "2021-07-10T21:10:15.584Z"
   },
   {
    "duration": 27,
    "start_time": "2021-07-10T21:10:15.605Z"
   },
   {
    "duration": 14,
    "start_time": "2021-07-10T21:10:15.634Z"
   },
   {
    "duration": 82,
    "start_time": "2021-07-10T21:10:15.650Z"
   },
   {
    "duration": 24,
    "start_time": "2021-07-10T21:10:15.735Z"
   },
   {
    "duration": 61,
    "start_time": "2021-07-10T21:10:15.761Z"
   },
   {
    "duration": 5,
    "start_time": "2021-07-10T21:10:15.825Z"
   },
   {
    "duration": 6,
    "start_time": "2021-07-10T21:10:15.832Z"
   },
   {
    "duration": 14,
    "start_time": "2021-07-10T21:10:15.840Z"
   },
   {
    "duration": 9,
    "start_time": "2021-07-10T21:10:15.856Z"
   },
   {
    "duration": 35,
    "start_time": "2021-07-10T21:10:15.867Z"
   },
   {
    "duration": 8,
    "start_time": "2021-07-10T21:10:15.905Z"
   },
   {
    "duration": 27,
    "start_time": "2021-07-10T21:10:15.915Z"
   },
   {
    "duration": 13,
    "start_time": "2021-07-10T21:10:15.944Z"
   },
   {
    "duration": 48,
    "start_time": "2021-07-10T21:10:15.959Z"
   },
   {
    "duration": 3,
    "start_time": "2021-07-10T21:10:16.010Z"
   },
   {
    "duration": 12,
    "start_time": "2021-07-10T21:10:16.016Z"
   },
   {
    "duration": 20,
    "start_time": "2021-07-10T21:10:16.031Z"
   },
   {
    "duration": 4178,
    "start_time": "2021-07-10T21:10:16.053Z"
   },
   {
    "duration": 25736,
    "start_time": "2021-07-10T21:10:20.234Z"
   },
   {
    "duration": 5345,
    "start_time": "2021-07-10T21:10:45.973Z"
   },
   {
    "duration": 82,
    "start_time": "2021-07-10T21:10:51.320Z"
   },
   {
    "duration": 22592,
    "start_time": "2021-07-10T21:10:51.404Z"
   },
   {
    "duration": 5,
    "start_time": "2021-07-10T21:11:13.998Z"
   },
   {
    "duration": 17,
    "start_time": "2021-07-10T21:11:14.005Z"
   },
   {
    "duration": 11,
    "start_time": "2021-07-10T21:11:14.025Z"
   },
   {
    "duration": 8,
    "start_time": "2021-07-10T21:11:14.039Z"
   },
   {
    "duration": 376,
    "start_time": "2021-07-10T21:11:14.050Z"
   },
   {
    "duration": 1536,
    "start_time": "2021-07-10T21:57:44.606Z"
   },
   {
    "duration": 115,
    "start_time": "2021-07-10T21:57:46.145Z"
   },
   {
    "duration": 6,
    "start_time": "2021-07-10T21:57:46.263Z"
   },
   {
    "duration": 121,
    "start_time": "2021-07-10T21:57:46.272Z"
   },
   {
    "duration": 6,
    "start_time": "2021-07-10T21:57:46.401Z"
   },
   {
    "duration": 30,
    "start_time": "2021-07-10T21:57:46.409Z"
   },
   {
    "duration": 28,
    "start_time": "2021-07-10T21:57:46.441Z"
   },
   {
    "duration": 48,
    "start_time": "2021-07-10T21:57:46.471Z"
   },
   {
    "duration": 22,
    "start_time": "2021-07-10T21:57:46.523Z"
   },
   {
    "duration": 16,
    "start_time": "2021-07-10T21:57:46.548Z"
   },
   {
    "duration": 71,
    "start_time": "2021-07-10T21:57:46.566Z"
   },
   {
    "duration": 11,
    "start_time": "2021-07-10T21:57:46.640Z"
   },
   {
    "duration": 47,
    "start_time": "2021-07-10T21:57:46.654Z"
   },
   {
    "duration": 10,
    "start_time": "2021-07-10T21:57:46.704Z"
   },
   {
    "duration": 17,
    "start_time": "2021-07-10T21:57:46.717Z"
   },
   {
    "duration": 16,
    "start_time": "2021-07-10T21:57:46.737Z"
   },
   {
    "duration": 6,
    "start_time": "2021-07-10T21:57:46.756Z"
   },
   {
    "duration": 37,
    "start_time": "2021-07-10T21:57:46.764Z"
   },
   {
    "duration": 7,
    "start_time": "2021-07-10T21:57:46.804Z"
   },
   {
    "duration": 10,
    "start_time": "2021-07-10T21:57:46.813Z"
   },
   {
    "duration": 12,
    "start_time": "2021-07-10T21:57:46.826Z"
   },
   {
    "duration": 10,
    "start_time": "2021-07-10T21:57:46.840Z"
   },
   {
    "duration": 781,
    "start_time": "2021-07-10T21:57:46.853Z"
   },
   {
    "duration": 40,
    "start_time": "2021-07-10T21:57:47.637Z"
   },
   {
    "duration": 30,
    "start_time": "2021-07-10T21:57:47.680Z"
   },
   {
    "duration": 12,
    "start_time": "2021-07-10T21:57:47.712Z"
   },
   {
    "duration": 13,
    "start_time": "2021-07-10T21:57:47.730Z"
   },
   {
    "duration": 58,
    "start_time": "2021-07-10T21:57:47.745Z"
   },
   {
    "duration": 116,
    "start_time": "2021-07-10T21:57:47.806Z"
   },
   {
    "duration": 4,
    "start_time": "2021-07-10T21:57:47.925Z"
   },
   {
    "duration": 8,
    "start_time": "2021-07-10T21:57:47.931Z"
   },
   {
    "duration": 25,
    "start_time": "2021-07-10T21:57:47.942Z"
   },
   {
    "duration": 37,
    "start_time": "2021-07-10T21:57:47.969Z"
   },
   {
    "duration": 50,
    "start_time": "2021-07-10T21:57:48.009Z"
   },
   {
    "duration": 5,
    "start_time": "2021-07-10T21:57:48.062Z"
   },
   {
    "duration": 37,
    "start_time": "2021-07-10T21:57:48.069Z"
   },
   {
    "duration": 7,
    "start_time": "2021-07-10T21:57:48.109Z"
   },
   {
    "duration": 10,
    "start_time": "2021-07-10T21:57:48.119Z"
   },
   {
    "duration": 6,
    "start_time": "2021-07-10T21:57:48.132Z"
   },
   {
    "duration": 69,
    "start_time": "2021-07-10T21:57:48.141Z"
   },
   {
    "duration": 10,
    "start_time": "2021-07-10T21:57:48.213Z"
   },
   {
    "duration": 11,
    "start_time": "2021-07-10T21:57:48.226Z"
   },
   {
    "duration": 6,
    "start_time": "2021-07-10T21:57:48.239Z"
   },
   {
    "duration": 8,
    "start_time": "2021-07-10T21:57:48.247Z"
   },
   {
    "duration": 46,
    "start_time": "2021-07-10T21:57:48.257Z"
   },
   {
    "duration": 4246,
    "start_time": "2021-07-10T21:57:48.305Z"
   },
   {
    "duration": 360,
    "start_time": "2021-07-10T21:57:52.554Z"
   },
   {
    "duration": 5590,
    "start_time": "2021-07-10T21:57:52.917Z"
   },
   {
    "duration": 9,
    "start_time": "2021-07-10T21:57:58.509Z"
   },
   {
    "duration": 25936,
    "start_time": "2021-07-10T21:57:58.520Z"
   },
   {
    "duration": 6,
    "start_time": "2021-07-10T21:58:24.458Z"
   },
   {
    "duration": 17,
    "start_time": "2021-07-10T21:58:24.466Z"
   },
   {
    "duration": 12,
    "start_time": "2021-07-10T21:58:24.486Z"
   },
   {
    "duration": 10,
    "start_time": "2021-07-10T21:58:24.502Z"
   },
   {
    "duration": 360,
    "start_time": "2021-07-10T21:58:24.514Z"
   },
   {
    "duration": 23836,
    "start_time": "2021-07-10T21:58:24.879Z"
   },
   {
    "duration": 1560,
    "start_time": "2021-07-10T21:59:54.455Z"
   },
   {
    "duration": 114,
    "start_time": "2021-07-10T21:59:56.017Z"
   },
   {
    "duration": 5,
    "start_time": "2021-07-10T21:59:56.135Z"
   },
   {
    "duration": 128,
    "start_time": "2021-07-10T21:59:56.144Z"
   },
   {
    "duration": 6,
    "start_time": "2021-07-10T21:59:56.275Z"
   },
   {
    "duration": 31,
    "start_time": "2021-07-10T21:59:56.301Z"
   },
   {
    "duration": 29,
    "start_time": "2021-07-10T21:59:56.335Z"
   },
   {
    "duration": 49,
    "start_time": "2021-07-10T21:59:56.367Z"
   },
   {
    "duration": 24,
    "start_time": "2021-07-10T21:59:56.422Z"
   },
   {
    "duration": 56,
    "start_time": "2021-07-10T21:59:56.450Z"
   },
   {
    "duration": 39,
    "start_time": "2021-07-10T21:59:56.510Z"
   },
   {
    "duration": 16,
    "start_time": "2021-07-10T21:59:56.552Z"
   },
   {
    "duration": 45,
    "start_time": "2021-07-10T21:59:56.571Z"
   },
   {
    "duration": 17,
    "start_time": "2021-07-10T21:59:56.619Z"
   },
   {
    "duration": 15,
    "start_time": "2021-07-10T21:59:56.639Z"
   },
   {
    "duration": 16,
    "start_time": "2021-07-10T21:59:56.657Z"
   },
   {
    "duration": 7,
    "start_time": "2021-07-10T21:59:56.699Z"
   },
   {
    "duration": 9,
    "start_time": "2021-07-10T21:59:56.709Z"
   },
   {
    "duration": 7,
    "start_time": "2021-07-10T21:59:56.721Z"
   },
   {
    "duration": 9,
    "start_time": "2021-07-10T21:59:56.730Z"
   },
   {
    "duration": 12,
    "start_time": "2021-07-10T21:59:56.741Z"
   },
   {
    "duration": 52,
    "start_time": "2021-07-10T21:59:56.756Z"
   },
   {
    "duration": 794,
    "start_time": "2021-07-10T21:59:56.811Z"
   },
   {
    "duration": 40,
    "start_time": "2021-07-10T21:59:57.608Z"
   },
   {
    "duration": 14,
    "start_time": "2021-07-10T21:59:57.650Z"
   },
   {
    "duration": 39,
    "start_time": "2021-07-10T21:59:57.667Z"
   },
   {
    "duration": 13,
    "start_time": "2021-07-10T21:59:57.712Z"
   },
   {
    "duration": 20,
    "start_time": "2021-07-10T21:59:57.728Z"
   },
   {
    "duration": 143,
    "start_time": "2021-07-10T21:59:57.750Z"
   },
   {
    "duration": 4,
    "start_time": "2021-07-10T21:59:57.901Z"
   },
   {
    "duration": 8,
    "start_time": "2021-07-10T21:59:57.907Z"
   },
   {
    "duration": 23,
    "start_time": "2021-07-10T21:59:57.918Z"
   },
   {
    "duration": 15,
    "start_time": "2021-07-10T21:59:57.944Z"
   },
   {
    "duration": 86,
    "start_time": "2021-07-10T21:59:57.961Z"
   },
   {
    "duration": 5,
    "start_time": "2021-07-10T21:59:58.049Z"
   },
   {
    "duration": 9,
    "start_time": "2021-07-10T21:59:58.056Z"
   },
   {
    "duration": 37,
    "start_time": "2021-07-10T21:59:58.067Z"
   },
   {
    "duration": 7,
    "start_time": "2021-07-10T21:59:58.106Z"
   },
   {
    "duration": 5,
    "start_time": "2021-07-10T21:59:58.115Z"
   },
   {
    "duration": 29,
    "start_time": "2021-07-10T21:59:58.123Z"
   },
   {
    "duration": 10,
    "start_time": "2021-07-10T21:59:58.155Z"
   },
   {
    "duration": 44,
    "start_time": "2021-07-10T21:59:58.167Z"
   },
   {
    "duration": 5,
    "start_time": "2021-07-10T21:59:58.213Z"
   },
   {
    "duration": 10,
    "start_time": "2021-07-10T21:59:58.220Z"
   },
   {
    "duration": 13,
    "start_time": "2021-07-10T21:59:58.232Z"
   },
   {
    "duration": 4671,
    "start_time": "2021-07-10T21:59:58.247Z"
   },
   {
    "duration": 23215,
    "start_time": "2021-07-10T22:00:02.920Z"
   },
   {
    "duration": 11578,
    "start_time": "2021-07-10T22:00:26.137Z"
   },
   {
    "duration": 10,
    "start_time": "2021-07-10T22:00:37.717Z"
   },
   {
    "duration": 43226,
    "start_time": "2021-07-10T22:00:37.729Z"
   },
   {
    "duration": 5,
    "start_time": "2021-07-10T22:01:20.958Z"
   },
   {
    "duration": 15,
    "start_time": "2021-07-10T22:01:20.965Z"
   },
   {
    "duration": 12,
    "start_time": "2021-07-10T22:01:20.982Z"
   },
   {
    "duration": 10,
    "start_time": "2021-07-10T22:01:20.997Z"
   },
   {
    "duration": 366,
    "start_time": "2021-07-10T22:01:21.010Z"
   },
   {
    "duration": 1585,
    "start_time": "2021-07-10T22:16:05.543Z"
   },
   {
    "duration": 114,
    "start_time": "2021-07-10T22:16:07.131Z"
   },
   {
    "duration": 5,
    "start_time": "2021-07-10T22:16:07.248Z"
   },
   {
    "duration": 117,
    "start_time": "2021-07-10T22:16:07.255Z"
   },
   {
    "duration": 5,
    "start_time": "2021-07-10T22:16:07.375Z"
   },
   {
    "duration": 49,
    "start_time": "2021-07-10T22:16:07.383Z"
   },
   {
    "duration": 28,
    "start_time": "2021-07-10T22:16:07.435Z"
   },
   {
    "duration": 41,
    "start_time": "2021-07-10T22:16:07.467Z"
   },
   {
    "duration": 19,
    "start_time": "2021-07-10T22:16:07.511Z"
   },
   {
    "duration": 16,
    "start_time": "2021-07-10T22:16:07.533Z"
   },
   {
    "duration": 65,
    "start_time": "2021-07-10T22:16:07.551Z"
   },
   {
    "duration": 9,
    "start_time": "2021-07-10T22:16:07.618Z"
   },
   {
    "duration": 25,
    "start_time": "2021-07-10T22:16:07.629Z"
   },
   {
    "duration": 12,
    "start_time": "2021-07-10T22:16:07.657Z"
   },
   {
    "duration": 33,
    "start_time": "2021-07-10T22:16:07.672Z"
   },
   {
    "duration": 17,
    "start_time": "2021-07-10T22:16:07.707Z"
   },
   {
    "duration": 7,
    "start_time": "2021-07-10T22:16:07.727Z"
   },
   {
    "duration": 11,
    "start_time": "2021-07-10T22:16:07.737Z"
   },
   {
    "duration": 7,
    "start_time": "2021-07-10T22:16:07.750Z"
   },
   {
    "duration": 43,
    "start_time": "2021-07-10T22:16:07.760Z"
   },
   {
    "duration": 11,
    "start_time": "2021-07-10T22:16:07.806Z"
   },
   {
    "duration": 11,
    "start_time": "2021-07-10T22:16:07.819Z"
   },
   {
    "duration": 750,
    "start_time": "2021-07-10T22:16:07.836Z"
   },
   {
    "duration": 52,
    "start_time": "2021-07-10T22:16:08.589Z"
   },
   {
    "duration": 15,
    "start_time": "2021-07-10T22:16:08.643Z"
   },
   {
    "duration": 7,
    "start_time": "2021-07-10T22:16:08.660Z"
   },
   {
    "duration": 40,
    "start_time": "2021-07-10T22:16:08.670Z"
   },
   {
    "duration": 22,
    "start_time": "2021-07-10T22:16:08.713Z"
   },
   {
    "duration": 130,
    "start_time": "2021-07-10T22:16:08.737Z"
   },
   {
    "duration": 4,
    "start_time": "2021-07-10T22:16:08.870Z"
   },
   {
    "duration": 24,
    "start_time": "2021-07-10T22:16:08.877Z"
   },
   {
    "duration": 32,
    "start_time": "2021-07-10T22:16:08.904Z"
   },
   {
    "duration": 16,
    "start_time": "2021-07-10T22:16:08.939Z"
   },
   {
    "duration": 80,
    "start_time": "2021-07-10T22:16:08.958Z"
   },
   {
    "duration": 7,
    "start_time": "2021-07-10T22:16:09.040Z"
   },
   {
    "duration": 18,
    "start_time": "2021-07-10T22:16:09.050Z"
   },
   {
    "duration": 31,
    "start_time": "2021-07-10T22:16:09.071Z"
   },
   {
    "duration": 8,
    "start_time": "2021-07-10T22:16:09.105Z"
   },
   {
    "duration": 7,
    "start_time": "2021-07-10T22:16:09.116Z"
   },
   {
    "duration": 26,
    "start_time": "2021-07-10T22:16:09.126Z"
   },
   {
    "duration": 9,
    "start_time": "2021-07-10T22:16:09.199Z"
   },
   {
    "duration": 13,
    "start_time": "2021-07-10T22:16:09.211Z"
   },
   {
    "duration": 4,
    "start_time": "2021-07-10T22:16:09.227Z"
   },
   {
    "duration": 9,
    "start_time": "2021-07-10T22:16:09.233Z"
   },
   {
    "duration": 10,
    "start_time": "2021-07-10T22:16:09.244Z"
   },
   {
    "duration": 4244,
    "start_time": "2021-07-10T22:16:09.257Z"
   },
   {
    "duration": 22506,
    "start_time": "2021-07-10T22:16:13.503Z"
   },
   {
    "duration": 6098,
    "start_time": "2021-07-10T22:16:36.011Z"
   },
   {
    "duration": 9,
    "start_time": "2021-07-10T22:16:42.112Z"
   },
   {
    "duration": 40406,
    "start_time": "2021-07-10T22:16:42.123Z"
   },
   {
    "duration": 4,
    "start_time": "2021-07-10T22:17:22.532Z"
   },
   {
    "duration": 18,
    "start_time": "2021-07-10T22:17:22.539Z"
   },
   {
    "duration": 12,
    "start_time": "2021-07-10T22:17:22.559Z"
   },
   {
    "duration": 29,
    "start_time": "2021-07-10T22:17:22.574Z"
   },
   {
    "duration": 345,
    "start_time": "2021-07-10T22:17:22.606Z"
   },
   {
    "duration": 1547,
    "start_time": "2021-07-10T22:33:06.383Z"
   },
   {
    "duration": 114,
    "start_time": "2021-07-10T22:33:07.933Z"
   },
   {
    "duration": 4,
    "start_time": "2021-07-10T22:33:08.051Z"
   },
   {
    "duration": 114,
    "start_time": "2021-07-10T22:33:08.058Z"
   },
   {
    "duration": 5,
    "start_time": "2021-07-10T22:33:08.174Z"
   },
   {
    "duration": 46,
    "start_time": "2021-07-10T22:33:08.182Z"
   },
   {
    "duration": 27,
    "start_time": "2021-07-10T22:33:08.231Z"
   },
   {
    "duration": 49,
    "start_time": "2021-07-10T22:33:08.261Z"
   },
   {
    "duration": 21,
    "start_time": "2021-07-10T22:33:08.314Z"
   },
   {
    "duration": 16,
    "start_time": "2021-07-10T22:33:08.338Z"
   },
   {
    "duration": 65,
    "start_time": "2021-07-10T22:33:08.357Z"
   },
   {
    "duration": 11,
    "start_time": "2021-07-10T22:33:08.425Z"
   },
   {
    "duration": 20,
    "start_time": "2021-07-10T22:33:08.438Z"
   },
   {
    "duration": 45,
    "start_time": "2021-07-10T22:33:08.461Z"
   },
   {
    "duration": 16,
    "start_time": "2021-07-10T22:33:08.509Z"
   },
   {
    "duration": 19,
    "start_time": "2021-07-10T22:33:08.528Z"
   },
   {
    "duration": 8,
    "start_time": "2021-07-10T22:33:08.550Z"
   },
   {
    "duration": 43,
    "start_time": "2021-07-10T22:33:08.561Z"
   },
   {
    "duration": 9,
    "start_time": "2021-07-10T22:33:08.607Z"
   },
   {
    "duration": 9,
    "start_time": "2021-07-10T22:33:08.619Z"
   },
   {
    "duration": 16,
    "start_time": "2021-07-10T22:33:08.631Z"
   },
   {
    "duration": 13,
    "start_time": "2021-07-10T22:33:08.650Z"
   },
   {
    "duration": 762,
    "start_time": "2021-07-10T22:33:08.701Z"
   },
   {
    "duration": 58,
    "start_time": "2021-07-10T22:33:09.466Z"
   },
   {
    "duration": 18,
    "start_time": "2021-07-10T22:33:09.527Z"
   },
   {
    "duration": 14,
    "start_time": "2021-07-10T22:33:09.547Z"
   },
   {
    "duration": 34,
    "start_time": "2021-07-10T22:33:09.566Z"
   },
   {
    "duration": 21,
    "start_time": "2021-07-10T22:33:09.604Z"
   },
   {
    "duration": 116,
    "start_time": "2021-07-10T22:33:09.628Z"
   },
   {
    "duration": 4,
    "start_time": "2021-07-10T22:33:09.746Z"
   },
   {
    "duration": 17,
    "start_time": "2021-07-10T22:33:09.753Z"
   },
   {
    "duration": 40,
    "start_time": "2021-07-10T22:33:09.772Z"
   },
   {
    "duration": 16,
    "start_time": "2021-07-10T22:33:09.815Z"
   },
   {
    "duration": 74,
    "start_time": "2021-07-10T22:33:09.834Z"
   },
   {
    "duration": 6,
    "start_time": "2021-07-10T22:33:09.911Z"
   },
   {
    "duration": 16,
    "start_time": "2021-07-10T22:33:09.919Z"
   },
   {
    "duration": 10,
    "start_time": "2021-07-10T22:33:09.937Z"
   },
   {
    "duration": 13,
    "start_time": "2021-07-10T22:33:09.949Z"
   },
   {
    "duration": 11,
    "start_time": "2021-07-10T22:33:09.964Z"
   },
   {
    "duration": 42,
    "start_time": "2021-07-10T22:33:09.977Z"
   },
   {
    "duration": 13,
    "start_time": "2021-07-10T22:33:10.021Z"
   },
   {
    "duration": 14,
    "start_time": "2021-07-10T22:33:10.036Z"
   },
   {
    "duration": 6,
    "start_time": "2021-07-10T22:33:10.052Z"
   },
   {
    "duration": 15,
    "start_time": "2021-07-10T22:33:10.060Z"
   },
   {
    "duration": 30,
    "start_time": "2021-07-10T22:33:10.078Z"
   },
   {
    "duration": 4281,
    "start_time": "2021-07-10T22:33:10.110Z"
   },
   {
    "duration": 22356,
    "start_time": "2021-07-10T22:33:14.400Z"
   },
   {
    "duration": 8249,
    "start_time": "2021-07-10T22:33:36.759Z"
   },
   {
    "duration": 10,
    "start_time": "2021-07-10T22:33:45.010Z"
   },
   {
    "duration": 39519,
    "start_time": "2021-07-10T22:33:45.023Z"
   },
   {
    "duration": 5,
    "start_time": "2021-07-10T22:34:24.544Z"
   },
   {
    "duration": 18,
    "start_time": "2021-07-10T22:34:24.552Z"
   },
   {
    "duration": 13,
    "start_time": "2021-07-10T22:34:24.572Z"
   },
   {
    "duration": 17,
    "start_time": "2021-07-10T22:34:24.588Z"
   },
   {
    "duration": 355,
    "start_time": "2021-07-10T22:34:24.608Z"
   },
   {
    "duration": 1532,
    "start_time": "2021-07-10T22:36:00.548Z"
   },
   {
    "duration": 114,
    "start_time": "2021-07-10T22:36:02.083Z"
   },
   {
    "duration": 5,
    "start_time": "2021-07-10T22:36:02.200Z"
   },
   {
    "duration": 129,
    "start_time": "2021-07-10T22:36:02.207Z"
   },
   {
    "duration": 5,
    "start_time": "2021-07-10T22:36:02.339Z"
   },
   {
    "duration": 38,
    "start_time": "2021-07-10T22:36:02.346Z"
   },
   {
    "duration": 41,
    "start_time": "2021-07-10T22:36:02.387Z"
   },
   {
    "duration": 19,
    "start_time": "2021-07-10T22:36:02.430Z"
   },
   {
    "duration": 51,
    "start_time": "2021-07-10T22:36:02.454Z"
   },
   {
    "duration": 16,
    "start_time": "2021-07-10T22:36:02.508Z"
   },
   {
    "duration": 36,
    "start_time": "2021-07-10T22:36:02.526Z"
   },
   {
    "duration": 40,
    "start_time": "2021-07-10T22:36:02.564Z"
   },
   {
    "duration": 15,
    "start_time": "2021-07-10T22:36:02.607Z"
   },
   {
    "duration": 11,
    "start_time": "2021-07-10T22:36:02.625Z"
   },
   {
    "duration": 16,
    "start_time": "2021-07-10T22:36:02.638Z"
   },
   {
    "duration": 52,
    "start_time": "2021-07-10T22:36:02.656Z"
   },
   {
    "duration": 9,
    "start_time": "2021-07-10T22:36:02.711Z"
   },
   {
    "duration": 13,
    "start_time": "2021-07-10T22:36:02.723Z"
   },
   {
    "duration": 7,
    "start_time": "2021-07-10T22:36:02.738Z"
   },
   {
    "duration": 13,
    "start_time": "2021-07-10T22:36:02.748Z"
   },
   {
    "duration": 43,
    "start_time": "2021-07-10T22:36:02.763Z"
   },
   {
    "duration": 12,
    "start_time": "2021-07-10T22:36:02.809Z"
   },
   {
    "duration": 762,
    "start_time": "2021-07-10T22:36:02.824Z"
   },
   {
    "duration": 52,
    "start_time": "2021-07-10T22:36:03.589Z"
   },
   {
    "duration": 17,
    "start_time": "2021-07-10T22:36:03.644Z"
   },
   {
    "duration": 14,
    "start_time": "2021-07-10T22:36:03.663Z"
   },
   {
    "duration": 30,
    "start_time": "2021-07-10T22:36:03.683Z"
   },
   {
    "duration": 21,
    "start_time": "2021-07-10T22:36:03.716Z"
   },
   {
    "duration": 135,
    "start_time": "2021-07-10T22:36:03.740Z"
   },
   {
    "duration": 4,
    "start_time": "2021-07-10T22:36:03.877Z"
   },
   {
    "duration": 17,
    "start_time": "2021-07-10T22:36:03.883Z"
   },
   {
    "duration": 23,
    "start_time": "2021-07-10T22:36:03.903Z"
   },
   {
    "duration": 14,
    "start_time": "2021-07-10T22:36:03.928Z"
   },
   {
    "duration": 86,
    "start_time": "2021-07-10T22:36:03.944Z"
   },
   {
    "duration": 6,
    "start_time": "2021-07-10T22:36:04.032Z"
   },
   {
    "duration": 12,
    "start_time": "2021-07-10T22:36:04.040Z"
   },
   {
    "duration": 7,
    "start_time": "2021-07-10T22:36:04.054Z"
   },
   {
    "duration": 10,
    "start_time": "2021-07-10T22:36:04.063Z"
   },
   {
    "duration": 28,
    "start_time": "2021-07-10T22:36:04.075Z"
   },
   {
    "duration": 29,
    "start_time": "2021-07-10T22:36:04.106Z"
   },
   {
    "duration": 11,
    "start_time": "2021-07-10T22:36:04.138Z"
   },
   {
    "duration": 16,
    "start_time": "2021-07-10T22:36:04.151Z"
   },
   {
    "duration": 33,
    "start_time": "2021-07-10T22:36:04.169Z"
   },
   {
    "duration": 16,
    "start_time": "2021-07-10T22:36:04.205Z"
   },
   {
    "duration": 18,
    "start_time": "2021-07-10T22:36:04.223Z"
   },
   {
    "duration": 1548,
    "start_time": "2021-07-10T22:36:14.776Z"
   },
   {
    "duration": 118,
    "start_time": "2021-07-10T22:36:16.327Z"
   },
   {
    "duration": 6,
    "start_time": "2021-07-10T22:36:16.449Z"
   },
   {
    "duration": 109,
    "start_time": "2021-07-10T22:36:16.459Z"
   },
   {
    "duration": 6,
    "start_time": "2021-07-10T22:36:16.571Z"
   },
   {
    "duration": 29,
    "start_time": "2021-07-10T22:36:16.600Z"
   },
   {
    "duration": 30,
    "start_time": "2021-07-10T22:36:16.631Z"
   },
   {
    "duration": 51,
    "start_time": "2021-07-10T22:36:16.664Z"
   },
   {
    "duration": 22,
    "start_time": "2021-07-10T22:36:16.719Z"
   },
   {
    "duration": 20,
    "start_time": "2021-07-10T22:36:16.745Z"
   },
   {
    "duration": 66,
    "start_time": "2021-07-10T22:36:16.768Z"
   },
   {
    "duration": 8,
    "start_time": "2021-07-10T22:36:16.836Z"
   },
   {
    "duration": 17,
    "start_time": "2021-07-10T22:36:16.846Z"
   },
   {
    "duration": 9,
    "start_time": "2021-07-10T22:36:16.902Z"
   },
   {
    "duration": 10,
    "start_time": "2021-07-10T22:36:16.914Z"
   },
   {
    "duration": 19,
    "start_time": "2021-07-10T22:36:16.927Z"
   },
   {
    "duration": 8,
    "start_time": "2021-07-10T22:36:16.948Z"
   },
   {
    "duration": 9,
    "start_time": "2021-07-10T22:36:16.958Z"
   },
   {
    "duration": 35,
    "start_time": "2021-07-10T22:36:16.970Z"
   },
   {
    "duration": 12,
    "start_time": "2021-07-10T22:36:17.008Z"
   },
   {
    "duration": 14,
    "start_time": "2021-07-10T22:36:17.023Z"
   },
   {
    "duration": 11,
    "start_time": "2021-07-10T22:36:17.039Z"
   },
   {
    "duration": 768,
    "start_time": "2021-07-10T22:36:17.052Z"
   },
   {
    "duration": 40,
    "start_time": "2021-07-10T22:36:17.822Z"
   },
   {
    "duration": 38,
    "start_time": "2021-07-10T22:36:17.864Z"
   },
   {
    "duration": 7,
    "start_time": "2021-07-10T22:36:17.904Z"
   },
   {
    "duration": 13,
    "start_time": "2021-07-10T22:36:17.916Z"
   },
   {
    "duration": 19,
    "start_time": "2021-07-10T22:36:17.931Z"
   },
   {
    "duration": 136,
    "start_time": "2021-07-10T22:36:17.952Z"
   },
   {
    "duration": 4,
    "start_time": "2021-07-10T22:36:18.101Z"
   },
   {
    "duration": 10,
    "start_time": "2021-07-10T22:36:18.107Z"
   },
   {
    "duration": 23,
    "start_time": "2021-07-10T22:36:18.120Z"
   },
   {
    "duration": 14,
    "start_time": "2021-07-10T22:36:18.145Z"
   },
   {
    "duration": 82,
    "start_time": "2021-07-10T22:36:18.161Z"
   },
   {
    "duration": 5,
    "start_time": "2021-07-10T22:36:18.245Z"
   },
   {
    "duration": 10,
    "start_time": "2021-07-10T22:36:18.252Z"
   },
   {
    "duration": 35,
    "start_time": "2021-07-10T22:36:18.265Z"
   },
   {
    "duration": 8,
    "start_time": "2021-07-10T22:36:18.302Z"
   },
   {
    "duration": 8,
    "start_time": "2021-07-10T22:36:18.313Z"
   },
   {
    "duration": 25,
    "start_time": "2021-07-10T22:36:18.324Z"
   },
   {
    "duration": 8,
    "start_time": "2021-07-10T22:36:18.353Z"
   },
   {
    "duration": 13,
    "start_time": "2021-07-10T22:36:18.401Z"
   },
   {
    "duration": 5,
    "start_time": "2021-07-10T22:36:18.417Z"
   },
   {
    "duration": 11,
    "start_time": "2021-07-10T22:36:18.425Z"
   },
   {
    "duration": 13,
    "start_time": "2021-07-10T22:36:18.439Z"
   },
   {
    "duration": 4286,
    "start_time": "2021-07-10T22:36:18.455Z"
   },
   {
    "duration": 22210,
    "start_time": "2021-07-10T22:36:22.744Z"
   },
   {
    "duration": 5559,
    "start_time": "2021-07-10T22:36:44.956Z"
   },
   {
    "duration": 9,
    "start_time": "2021-07-10T22:36:50.517Z"
   },
   {
    "duration": 42827,
    "start_time": "2021-07-10T22:36:50.602Z"
   },
   {
    "duration": 6,
    "start_time": "2021-07-10T22:37:33.431Z"
   },
   {
    "duration": 19,
    "start_time": "2021-07-10T22:37:33.439Z"
   },
   {
    "duration": 14,
    "start_time": "2021-07-10T22:37:33.461Z"
   },
   {
    "duration": 29,
    "start_time": "2021-07-10T22:37:33.478Z"
   },
   {
    "duration": 339,
    "start_time": "2021-07-10T22:37:33.509Z"
   },
   {
    "duration": 415,
    "start_time": "2021-07-10T23:03:17.456Z"
   },
   {
    "duration": 1492,
    "start_time": "2021-07-10T23:03:33.923Z"
   },
   {
    "duration": 117,
    "start_time": "2021-07-10T23:03:35.418Z"
   },
   {
    "duration": 5,
    "start_time": "2021-07-10T23:03:35.538Z"
   },
   {
    "duration": 126,
    "start_time": "2021-07-10T23:03:35.546Z"
   },
   {
    "duration": 6,
    "start_time": "2021-07-10T23:03:35.674Z"
   },
   {
    "duration": 40,
    "start_time": "2021-07-10T23:03:35.682Z"
   },
   {
    "duration": 27,
    "start_time": "2021-07-10T23:03:35.724Z"
   },
   {
    "duration": 45,
    "start_time": "2021-07-10T23:03:35.755Z"
   },
   {
    "duration": 22,
    "start_time": "2021-07-10T23:03:35.804Z"
   },
   {
    "duration": 18,
    "start_time": "2021-07-10T23:03:35.829Z"
   },
   {
    "duration": 71,
    "start_time": "2021-07-10T23:03:35.850Z"
   },
   {
    "duration": 10,
    "start_time": "2021-07-10T23:03:35.924Z"
   },
   {
    "duration": 16,
    "start_time": "2021-07-10T23:03:35.936Z"
   },
   {
    "duration": 45,
    "start_time": "2021-07-10T23:03:35.955Z"
   },
   {
    "duration": 13,
    "start_time": "2021-07-10T23:03:36.004Z"
   },
   {
    "duration": 19,
    "start_time": "2021-07-10T23:03:36.020Z"
   },
   {
    "duration": 8,
    "start_time": "2021-07-10T23:03:36.042Z"
   },
   {
    "duration": 47,
    "start_time": "2021-07-10T23:03:36.053Z"
   },
   {
    "duration": 8,
    "start_time": "2021-07-10T23:03:36.103Z"
   },
   {
    "duration": 14,
    "start_time": "2021-07-10T23:03:36.113Z"
   },
   {
    "duration": 26,
    "start_time": "2021-07-10T23:03:36.129Z"
   },
   {
    "duration": 10,
    "start_time": "2021-07-10T23:03:36.157Z"
   },
   {
    "duration": 429,
    "start_time": "2021-07-10T23:03:36.173Z"
   },
   {
    "duration": 154,
    "start_time": "2021-07-10T23:03:36.453Z"
   },
   {
    "duration": 154,
    "start_time": "2021-07-10T23:03:36.455Z"
   },
   {
    "duration": 154,
    "start_time": "2021-07-10T23:03:36.457Z"
   },
   {
    "duration": 155,
    "start_time": "2021-07-10T23:03:36.459Z"
   },
   {
    "duration": 133,
    "start_time": "2021-07-10T23:03:36.483Z"
   },
   {
    "duration": 133,
    "start_time": "2021-07-10T23:03:36.485Z"
   },
   {
    "duration": 135,
    "start_time": "2021-07-10T23:03:36.486Z"
   },
   {
    "duration": 135,
    "start_time": "2021-07-10T23:03:36.488Z"
   },
   {
    "duration": 136,
    "start_time": "2021-07-10T23:03:36.489Z"
   },
   {
    "duration": 137,
    "start_time": "2021-07-10T23:03:36.491Z"
   },
   {
    "duration": 110,
    "start_time": "2021-07-10T23:03:36.520Z"
   },
   {
    "duration": 107,
    "start_time": "2021-07-10T23:03:36.525Z"
   },
   {
    "duration": 108,
    "start_time": "2021-07-10T23:03:36.527Z"
   },
   {
    "duration": 106,
    "start_time": "2021-07-10T23:03:36.531Z"
   },
   {
    "duration": 104,
    "start_time": "2021-07-10T23:03:36.535Z"
   },
   {
    "duration": 100,
    "start_time": "2021-07-10T23:03:36.541Z"
   },
   {
    "duration": 101,
    "start_time": "2021-07-10T23:03:36.542Z"
   },
   {
    "duration": 98,
    "start_time": "2021-07-10T23:03:36.547Z"
   },
   {
    "duration": 98,
    "start_time": "2021-07-10T23:03:36.548Z"
   },
   {
    "duration": 151,
    "start_time": "2021-07-10T23:03:36.549Z"
   },
   {
    "duration": 142,
    "start_time": "2021-07-10T23:03:36.560Z"
   },
   {
    "duration": 144,
    "start_time": "2021-07-10T23:03:36.561Z"
   },
   {
    "duration": 145,
    "start_time": "2021-07-10T23:03:36.562Z"
   },
   {
    "duration": 146,
    "start_time": "2021-07-10T23:03:36.563Z"
   },
   {
    "duration": 147,
    "start_time": "2021-07-10T23:03:36.564Z"
   },
   {
    "duration": 150,
    "start_time": "2021-07-10T23:03:36.564Z"
   },
   {
    "duration": 146,
    "start_time": "2021-07-10T23:03:36.570Z"
   },
   {
    "duration": 149,
    "start_time": "2021-07-10T23:03:36.571Z"
   },
   {
    "duration": 103,
    "start_time": "2021-07-10T23:03:36.619Z"
   },
   {
    "duration": 98,
    "start_time": "2021-07-10T23:03:36.626Z"
   },
   {
    "duration": 99,
    "start_time": "2021-07-10T23:03:36.627Z"
   },
   {
    "duration": 101,
    "start_time": "2021-07-10T23:03:36.628Z"
   },
   {
    "duration": 98,
    "start_time": "2021-07-10T23:03:36.633Z"
   },
   {
    "duration": 421,
    "start_time": "2021-07-10T23:03:50.419Z"
   },
   {
    "duration": 422,
    "start_time": "2021-07-10T23:04:19.455Z"
   },
   {
    "duration": 423,
    "start_time": "2021-07-10T23:04:27.188Z"
   },
   {
    "duration": 878,
    "start_time": "2021-07-10T23:09:33.581Z"
   },
   {
    "duration": 283,
    "start_time": "2021-07-10T23:10:09.559Z"
   },
   {
    "duration": 289,
    "start_time": "2021-07-10T23:10:46.998Z"
   },
   {
    "duration": 272,
    "start_time": "2021-07-10T23:10:51.896Z"
   },
   {
    "duration": 267,
    "start_time": "2021-07-10T23:11:05.247Z"
   },
   {
    "duration": 302,
    "start_time": "2021-07-10T23:11:18.030Z"
   },
   {
    "duration": 212,
    "start_time": "2021-07-10T23:11:24.056Z"
   },
   {
    "duration": 93,
    "start_time": "2021-07-10T23:11:44.012Z"
   },
   {
    "duration": 542,
    "start_time": "2021-07-10T23:11:52.470Z"
   },
   {
    "duration": 1525,
    "start_time": "2021-07-10T23:16:33.488Z"
   },
   {
    "duration": 116,
    "start_time": "2021-07-10T23:16:35.016Z"
   },
   {
    "duration": 6,
    "start_time": "2021-07-10T23:16:35.135Z"
   },
   {
    "duration": 115,
    "start_time": "2021-07-10T23:16:35.144Z"
   },
   {
    "duration": 6,
    "start_time": "2021-07-10T23:16:35.261Z"
   },
   {
    "duration": 48,
    "start_time": "2021-07-10T23:16:35.270Z"
   },
   {
    "duration": 28,
    "start_time": "2021-07-10T23:16:35.321Z"
   },
   {
    "duration": 19,
    "start_time": "2021-07-10T23:16:35.352Z"
   },
   {
    "duration": 41,
    "start_time": "2021-07-10T23:16:35.374Z"
   },
   {
    "duration": 16,
    "start_time": "2021-07-10T23:16:35.418Z"
   },
   {
    "duration": 67,
    "start_time": "2021-07-10T23:16:35.437Z"
   },
   {
    "duration": 9,
    "start_time": "2021-07-10T23:16:35.507Z"
   },
   {
    "duration": 16,
    "start_time": "2021-07-10T23:16:35.518Z"
   },
   {
    "duration": 12,
    "start_time": "2021-07-10T23:16:35.536Z"
   },
   {
    "duration": 12,
    "start_time": "2021-07-10T23:16:35.550Z"
   },
   {
    "duration": 40,
    "start_time": "2021-07-10T23:16:35.564Z"
   },
   {
    "duration": 7,
    "start_time": "2021-07-10T23:16:35.606Z"
   },
   {
    "duration": 13,
    "start_time": "2021-07-10T23:16:35.615Z"
   },
   {
    "duration": 15,
    "start_time": "2021-07-10T23:16:35.630Z"
   },
   {
    "duration": 12,
    "start_time": "2021-07-10T23:16:35.647Z"
   },
   {
    "duration": 15,
    "start_time": "2021-07-10T23:16:35.662Z"
   },
   {
    "duration": 10,
    "start_time": "2021-07-10T23:16:35.701Z"
   },
   {
    "duration": 816,
    "start_time": "2021-07-10T23:16:35.717Z"
   },
   {
    "duration": 10,
    "start_time": "2021-07-10T23:16:36.537Z"
   },
   {
    "duration": 15,
    "start_time": "2021-07-10T23:16:36.549Z"
   },
   {
    "duration": 34,
    "start_time": "2021-07-10T23:16:36.566Z"
   },
   {
    "duration": 19,
    "start_time": "2021-07-10T23:16:36.603Z"
   },
   {
    "duration": 126,
    "start_time": "2021-07-10T23:16:36.625Z"
   },
   {
    "duration": 4,
    "start_time": "2021-07-10T23:16:36.753Z"
   },
   {
    "duration": 9,
    "start_time": "2021-07-10T23:16:36.760Z"
   },
   {
    "duration": 45,
    "start_time": "2021-07-10T23:16:36.772Z"
   },
   {
    "duration": 14,
    "start_time": "2021-07-10T23:16:36.820Z"
   },
   {
    "duration": 69,
    "start_time": "2021-07-10T23:16:36.836Z"
   },
   {
    "duration": 5,
    "start_time": "2021-07-10T23:16:36.907Z"
   },
   {
    "duration": 12,
    "start_time": "2021-07-10T23:16:36.915Z"
   },
   {
    "duration": 8,
    "start_time": "2021-07-10T23:16:36.930Z"
   },
   {
    "duration": 7,
    "start_time": "2021-07-10T23:16:36.941Z"
   },
   {
    "duration": 6,
    "start_time": "2021-07-10T23:16:36.950Z"
   },
   {
    "duration": 66,
    "start_time": "2021-07-10T23:16:36.958Z"
   },
   {
    "duration": 10,
    "start_time": "2021-07-10T23:16:37.026Z"
   },
   {
    "duration": 13,
    "start_time": "2021-07-10T23:16:37.038Z"
   },
   {
    "duration": 5,
    "start_time": "2021-07-10T23:16:37.054Z"
   },
   {
    "duration": 40,
    "start_time": "2021-07-10T23:16:37.061Z"
   },
   {
    "duration": 12,
    "start_time": "2021-07-10T23:16:37.104Z"
   },
   {
    "duration": 4289,
    "start_time": "2021-07-10T23:16:37.118Z"
   },
   {
    "duration": 39902,
    "start_time": "2021-07-10T23:16:41.410Z"
   },
   {
    "duration": 8504,
    "start_time": "2021-07-10T23:17:21.314Z"
   },
   {
    "duration": 9,
    "start_time": "2021-07-10T23:17:29.901Z"
   },
   {
    "duration": 39706,
    "start_time": "2021-07-10T23:17:29.913Z"
   },
   {
    "duration": 6,
    "start_time": "2021-07-10T23:18:09.621Z"
   },
   {
    "duration": 14,
    "start_time": "2021-07-10T23:18:09.629Z"
   },
   {
    "duration": 21,
    "start_time": "2021-07-10T23:18:09.646Z"
   },
   {
    "duration": 35,
    "start_time": "2021-07-10T23:18:09.670Z"
   },
   {
    "duration": 338,
    "start_time": "2021-07-10T23:18:09.708Z"
   },
   {
    "duration": 16,
    "start_time": "2021-07-10T23:18:45.001Z"
   },
   {
    "duration": 416,
    "start_time": "2021-07-10T23:20:37.484Z"
   },
   {
    "duration": 1502,
    "start_time": "2021-07-10T23:21:59.025Z"
   },
   {
    "duration": 113,
    "start_time": "2021-07-10T23:22:00.530Z"
   },
   {
    "duration": 399,
    "start_time": "2021-07-10T23:22:00.646Z"
   },
   {
    "duration": 141,
    "start_time": "2021-07-10T23:22:00.910Z"
   },
   {
    "duration": 141,
    "start_time": "2021-07-10T23:22:00.911Z"
   },
   {
    "duration": 141,
    "start_time": "2021-07-10T23:22:00.912Z"
   },
   {
    "duration": 142,
    "start_time": "2021-07-10T23:22:00.913Z"
   },
   {
    "duration": 126,
    "start_time": "2021-07-10T23:22:00.930Z"
   },
   {
    "duration": 126,
    "start_time": "2021-07-10T23:22:00.932Z"
   },
   {
    "duration": 126,
    "start_time": "2021-07-10T23:22:00.933Z"
   },
   {
    "duration": 126,
    "start_time": "2021-07-10T23:22:00.934Z"
   },
   {
    "duration": 126,
    "start_time": "2021-07-10T23:22:00.935Z"
   },
   {
    "duration": 127,
    "start_time": "2021-07-10T23:22:00.936Z"
   },
   {
    "duration": 127,
    "start_time": "2021-07-10T23:22:00.937Z"
   },
   {
    "duration": 124,
    "start_time": "2021-07-10T23:22:00.941Z"
   },
   {
    "duration": 124,
    "start_time": "2021-07-10T23:22:00.942Z"
   },
   {
    "duration": 125,
    "start_time": "2021-07-10T23:22:00.943Z"
   },
   {
    "duration": 125,
    "start_time": "2021-07-10T23:22:00.944Z"
   },
   {
    "duration": 125,
    "start_time": "2021-07-10T23:22:00.945Z"
   },
   {
    "duration": 123,
    "start_time": "2021-07-10T23:22:00.949Z"
   },
   {
    "duration": 122,
    "start_time": "2021-07-10T23:22:00.951Z"
   },
   {
    "duration": 123,
    "start_time": "2021-07-10T23:22:00.951Z"
   },
   {
    "duration": 123,
    "start_time": "2021-07-10T23:22:00.952Z"
   },
   {
    "duration": 104,
    "start_time": "2021-07-10T23:22:00.972Z"
   },
   {
    "duration": 105,
    "start_time": "2021-07-10T23:22:00.973Z"
   },
   {
    "duration": 105,
    "start_time": "2021-07-10T23:22:00.974Z"
   },
   {
    "duration": 105,
    "start_time": "2021-07-10T23:22:00.975Z"
   },
   {
    "duration": 106,
    "start_time": "2021-07-10T23:22:00.976Z"
   },
   {
    "duration": 106,
    "start_time": "2021-07-10T23:22:00.977Z"
   },
   {
    "duration": 106,
    "start_time": "2021-07-10T23:22:00.978Z"
   },
   {
    "duration": 106,
    "start_time": "2021-07-10T23:22:00.979Z"
   },
   {
    "duration": 107,
    "start_time": "2021-07-10T23:22:00.980Z"
   },
   {
    "duration": 107,
    "start_time": "2021-07-10T23:22:00.981Z"
   },
   {
    "duration": 103,
    "start_time": "2021-07-10T23:22:00.986Z"
   },
   {
    "duration": 114,
    "start_time": "2021-07-10T23:22:00.987Z"
   },
   {
    "duration": 115,
    "start_time": "2021-07-10T23:22:00.988Z"
   },
   {
    "duration": 115,
    "start_time": "2021-07-10T23:22:00.989Z"
   },
   {
    "duration": 115,
    "start_time": "2021-07-10T23:22:00.990Z"
   },
   {
    "duration": 116,
    "start_time": "2021-07-10T23:22:00.991Z"
   },
   {
    "duration": 117,
    "start_time": "2021-07-10T23:22:00.991Z"
   },
   {
    "duration": 62,
    "start_time": "2021-07-10T23:22:01.047Z"
   },
   {
    "duration": 63,
    "start_time": "2021-07-10T23:22:01.048Z"
   },
   {
    "duration": 50,
    "start_time": "2021-07-10T23:22:01.062Z"
   },
   {
    "duration": 51,
    "start_time": "2021-07-10T23:22:01.063Z"
   },
   {
    "duration": 51,
    "start_time": "2021-07-10T23:22:01.064Z"
   },
   {
    "duration": 52,
    "start_time": "2021-07-10T23:22:01.065Z"
   },
   {
    "duration": 52,
    "start_time": "2021-07-10T23:22:01.066Z"
   },
   {
    "duration": 50,
    "start_time": "2021-07-10T23:22:01.070Z"
   },
   {
    "duration": 50,
    "start_time": "2021-07-10T23:22:01.071Z"
   },
   {
    "duration": 51,
    "start_time": "2021-07-10T23:22:01.071Z"
   },
   {
    "duration": 51,
    "start_time": "2021-07-10T23:22:01.072Z"
   },
   {
    "duration": 52,
    "start_time": "2021-07-10T23:22:01.073Z"
   },
   {
    "duration": 47,
    "start_time": "2021-07-10T23:22:01.079Z"
   },
   {
    "duration": 48,
    "start_time": "2021-07-10T23:22:01.079Z"
   },
   {
    "duration": 44,
    "start_time": "2021-07-10T23:22:01.085Z"
   },
   {
    "duration": 276,
    "start_time": "2021-07-10T23:22:53.176Z"
   },
   {
    "duration": 119,
    "start_time": "2021-07-10T23:23:02.911Z"
   },
   {
    "duration": 279,
    "start_time": "2021-07-10T23:23:03.875Z"
   },
   {
    "duration": 25,
    "start_time": "2021-07-10T23:23:17.113Z"
   },
   {
    "duration": 1544,
    "start_time": "2021-07-10T23:24:10.012Z"
   },
   {
    "duration": 113,
    "start_time": "2021-07-10T23:24:11.559Z"
   },
   {
    "duration": 5,
    "start_time": "2021-07-10T23:24:11.675Z"
   },
   {
    "duration": 108,
    "start_time": "2021-07-10T23:24:11.683Z"
   },
   {
    "duration": 9,
    "start_time": "2021-07-10T23:24:11.794Z"
   },
   {
    "duration": 32,
    "start_time": "2021-07-10T23:24:11.805Z"
   },
   {
    "duration": 27,
    "start_time": "2021-07-10T23:24:11.840Z"
   },
   {
    "duration": 45,
    "start_time": "2021-07-10T23:24:11.869Z"
   },
   {
    "duration": 20,
    "start_time": "2021-07-10T23:24:11.918Z"
   },
   {
    "duration": 16,
    "start_time": "2021-07-10T23:24:11.941Z"
   },
   {
    "duration": 61,
    "start_time": "2021-07-10T23:24:11.959Z"
   },
   {
    "duration": 11,
    "start_time": "2021-07-10T23:24:12.022Z"
   },
   {
    "duration": 15,
    "start_time": "2021-07-10T23:24:12.036Z"
   },
   {
    "duration": 12,
    "start_time": "2021-07-10T23:24:12.053Z"
   },
   {
    "duration": 9,
    "start_time": "2021-07-10T23:24:12.099Z"
   },
   {
    "duration": 19,
    "start_time": "2021-07-10T23:24:12.111Z"
   },
   {
    "duration": 8,
    "start_time": "2021-07-10T23:24:12.132Z"
   },
   {
    "duration": 11,
    "start_time": "2021-07-10T23:24:12.143Z"
   },
   {
    "duration": 44,
    "start_time": "2021-07-10T23:24:12.157Z"
   },
   {
    "duration": 15,
    "start_time": "2021-07-10T23:24:12.204Z"
   },
   {
    "duration": 15,
    "start_time": "2021-07-10T23:24:12.222Z"
   },
   {
    "duration": 10,
    "start_time": "2021-07-10T23:24:12.240Z"
   },
   {
    "duration": 775,
    "start_time": "2021-07-10T23:24:12.253Z"
   },
   {
    "duration": 11,
    "start_time": "2021-07-10T23:24:13.031Z"
   },
   {
    "duration": 7,
    "start_time": "2021-07-10T23:24:13.045Z"
   },
   {
    "duration": 50,
    "start_time": "2021-07-10T23:24:13.055Z"
   },
   {
    "duration": 21,
    "start_time": "2021-07-10T23:24:13.110Z"
   },
   {
    "duration": 136,
    "start_time": "2021-07-10T23:24:13.134Z"
   },
   {
    "duration": 4,
    "start_time": "2021-07-10T23:24:13.272Z"
   },
   {
    "duration": 22,
    "start_time": "2021-07-10T23:24:13.278Z"
   },
   {
    "duration": 26,
    "start_time": "2021-07-10T23:24:13.302Z"
   },
   {
    "duration": 14,
    "start_time": "2021-07-10T23:24:13.331Z"
   },
   {
    "duration": 71,
    "start_time": "2021-07-10T23:24:13.348Z"
   },
   {
    "duration": 6,
    "start_time": "2021-07-10T23:24:13.422Z"
   },
   {
    "duration": 10,
    "start_time": "2021-07-10T23:24:13.430Z"
   },
   {
    "duration": 7,
    "start_time": "2021-07-10T23:24:13.443Z"
   },
   {
    "duration": 6,
    "start_time": "2021-07-10T23:24:13.452Z"
   },
   {
    "duration": 42,
    "start_time": "2021-07-10T23:24:13.461Z"
   },
   {
    "duration": 24,
    "start_time": "2021-07-10T23:24:13.505Z"
   },
   {
    "duration": 13,
    "start_time": "2021-07-10T23:24:13.532Z"
   },
   {
    "duration": 14,
    "start_time": "2021-07-10T23:24:13.548Z"
   },
   {
    "duration": 36,
    "start_time": "2021-07-10T23:24:13.564Z"
   },
   {
    "duration": 6,
    "start_time": "2021-07-10T23:24:13.603Z"
   },
   {
    "duration": 21,
    "start_time": "2021-07-10T23:24:13.612Z"
   },
   {
    "duration": 4205,
    "start_time": "2021-07-10T23:24:13.636Z"
   },
   {
    "duration": 39694,
    "start_time": "2021-07-10T23:24:17.843Z"
   },
   {
    "duration": 4980,
    "start_time": "2021-07-10T23:24:57.539Z"
   },
   {
    "duration": 9,
    "start_time": "2021-07-10T23:25:02.602Z"
   },
   {
    "duration": 40572,
    "start_time": "2021-07-10T23:25:02.614Z"
   },
   {
    "duration": 5,
    "start_time": "2021-07-10T23:25:43.189Z"
   },
   {
    "duration": 15,
    "start_time": "2021-07-10T23:25:43.197Z"
   },
   {
    "duration": 19,
    "start_time": "2021-07-10T23:25:43.215Z"
   },
   {
    "duration": 8,
    "start_time": "2021-07-10T23:25:43.236Z"
   },
   {
    "duration": 357,
    "start_time": "2021-07-10T23:25:43.246Z"
   },
   {
    "duration": 1512,
    "start_time": "2021-07-10T23:27:44.939Z"
   },
   {
    "duration": 116,
    "start_time": "2021-07-10T23:27:46.455Z"
   },
   {
    "duration": 6,
    "start_time": "2021-07-10T23:27:46.574Z"
   },
   {
    "duration": 114,
    "start_time": "2021-07-10T23:27:46.583Z"
   },
   {
    "duration": 7,
    "start_time": "2021-07-10T23:27:46.700Z"
   },
   {
    "duration": 31,
    "start_time": "2021-07-10T23:27:46.710Z"
   },
   {
    "duration": 62,
    "start_time": "2021-07-10T23:27:46.747Z"
   },
   {
    "duration": 21,
    "start_time": "2021-07-10T23:27:46.813Z"
   },
   {
    "duration": 21,
    "start_time": "2021-07-10T23:27:46.837Z"
   },
   {
    "duration": 48,
    "start_time": "2021-07-10T23:27:46.861Z"
   },
   {
    "duration": 36,
    "start_time": "2021-07-10T23:27:46.912Z"
   },
   {
    "duration": 11,
    "start_time": "2021-07-10T23:27:46.950Z"
   },
   {
    "duration": 18,
    "start_time": "2021-07-10T23:27:46.999Z"
   },
   {
    "duration": 12,
    "start_time": "2021-07-10T23:27:47.020Z"
   },
   {
    "duration": 10,
    "start_time": "2021-07-10T23:27:47.035Z"
   },
   {
    "duration": 56,
    "start_time": "2021-07-10T23:27:47.048Z"
   },
   {
    "duration": 7,
    "start_time": "2021-07-10T23:27:47.107Z"
   },
   {
    "duration": 10,
    "start_time": "2021-07-10T23:27:47.117Z"
   },
   {
    "duration": 7,
    "start_time": "2021-07-10T23:27:47.129Z"
   },
   {
    "duration": 10,
    "start_time": "2021-07-10T23:27:47.139Z"
   },
   {
    "duration": 11,
    "start_time": "2021-07-10T23:27:47.152Z"
   },
   {
    "duration": 11,
    "start_time": "2021-07-10T23:27:47.205Z"
   },
   {
    "duration": 735,
    "start_time": "2021-07-10T23:27:47.219Z"
   },
   {
    "duration": 11,
    "start_time": "2021-07-10T23:27:47.956Z"
   },
   {
    "duration": 13,
    "start_time": "2021-07-10T23:27:47.969Z"
   },
   {
    "duration": 18,
    "start_time": "2021-07-10T23:27:48.001Z"
   },
   {
    "duration": 20,
    "start_time": "2021-07-10T23:27:48.021Z"
   },
   {
    "duration": 127,
    "start_time": "2021-07-10T23:27:48.044Z"
   },
   {
    "duration": 4,
    "start_time": "2021-07-10T23:27:48.173Z"
   },
   {
    "duration": 20,
    "start_time": "2021-07-10T23:27:48.179Z"
   },
   {
    "duration": 24,
    "start_time": "2021-07-10T23:27:48.202Z"
   },
   {
    "duration": 13,
    "start_time": "2021-07-10T23:27:48.229Z"
   },
   {
    "duration": 80,
    "start_time": "2021-07-10T23:27:48.245Z"
   },
   {
    "duration": 5,
    "start_time": "2021-07-10T23:27:48.327Z"
   },
   {
    "duration": 12,
    "start_time": "2021-07-10T23:27:48.334Z"
   },
   {
    "duration": 19,
    "start_time": "2021-07-10T23:27:48.348Z"
   },
   {
    "duration": 22,
    "start_time": "2021-07-10T23:27:48.369Z"
   },
   {
    "duration": 6,
    "start_time": "2021-07-10T23:27:48.394Z"
   },
   {
    "duration": 24,
    "start_time": "2021-07-10T23:27:48.403Z"
   },
   {
    "duration": 11,
    "start_time": "2021-07-10T23:27:48.429Z"
   },
   {
    "duration": 17,
    "start_time": "2021-07-10T23:27:48.442Z"
   },
   {
    "duration": 4,
    "start_time": "2021-07-10T23:27:48.461Z"
   },
   {
    "duration": 40,
    "start_time": "2021-07-10T23:27:48.468Z"
   },
   {
    "duration": 15,
    "start_time": "2021-07-10T23:27:48.510Z"
   },
   {
    "duration": 4289,
    "start_time": "2021-07-10T23:27:48.527Z"
   },
   {
    "duration": 40111,
    "start_time": "2021-07-10T23:27:52.818Z"
   },
   {
    "duration": 1722,
    "start_time": "2021-07-10T23:28:43.206Z"
   },
   {
    "duration": 115,
    "start_time": "2021-07-10T23:28:44.930Z"
   },
   {
    "duration": 4,
    "start_time": "2021-07-10T23:28:45.049Z"
   },
   {
    "duration": 111,
    "start_time": "2021-07-10T23:28:45.056Z"
   },
   {
    "duration": 6,
    "start_time": "2021-07-10T23:28:45.169Z"
   },
   {
    "duration": 48,
    "start_time": "2021-07-10T23:28:45.178Z"
   },
   {
    "duration": 28,
    "start_time": "2021-07-10T23:28:45.228Z"
   },
   {
    "duration": 42,
    "start_time": "2021-07-10T23:28:45.258Z"
   },
   {
    "duration": 21,
    "start_time": "2021-07-10T23:28:45.305Z"
   },
   {
    "duration": 16,
    "start_time": "2021-07-10T23:28:45.329Z"
   },
   {
    "duration": 64,
    "start_time": "2021-07-10T23:28:45.348Z"
   },
   {
    "duration": 9,
    "start_time": "2021-07-10T23:28:45.415Z"
   },
   {
    "duration": 18,
    "start_time": "2021-07-10T23:28:45.426Z"
   },
   {
    "duration": 12,
    "start_time": "2021-07-10T23:28:45.446Z"
   },
   {
    "duration": 45,
    "start_time": "2021-07-10T23:28:45.460Z"
   },
   {
    "duration": 17,
    "start_time": "2021-07-10T23:28:45.507Z"
   },
   {
    "duration": 5,
    "start_time": "2021-07-10T23:28:45.527Z"
   },
   {
    "duration": 9,
    "start_time": "2021-07-10T23:28:45.534Z"
   },
   {
    "duration": 8,
    "start_time": "2021-07-10T23:28:45.545Z"
   },
   {
    "duration": 46,
    "start_time": "2021-07-10T23:28:45.555Z"
   },
   {
    "duration": 10,
    "start_time": "2021-07-10T23:28:45.603Z"
   },
   {
    "duration": 10,
    "start_time": "2021-07-10T23:28:45.616Z"
   },
   {
    "duration": 797,
    "start_time": "2021-07-10T23:28:45.629Z"
   },
   {
    "duration": 12,
    "start_time": "2021-07-10T23:28:46.428Z"
   },
   {
    "duration": 9,
    "start_time": "2021-07-10T23:28:46.442Z"
   },
   {
    "duration": 15,
    "start_time": "2021-07-10T23:28:46.453Z"
   },
   {
    "duration": 21,
    "start_time": "2021-07-10T23:28:46.502Z"
   },
   {
    "duration": 127,
    "start_time": "2021-07-10T23:28:46.526Z"
   },
   {
    "duration": 4,
    "start_time": "2021-07-10T23:28:46.656Z"
   },
   {
    "duration": 6,
    "start_time": "2021-07-10T23:28:46.662Z"
   },
   {
    "duration": 42,
    "start_time": "2021-07-10T23:28:46.671Z"
   },
   {
    "duration": 14,
    "start_time": "2021-07-10T23:28:46.716Z"
   },
   {
    "duration": 73,
    "start_time": "2021-07-10T23:28:46.732Z"
   },
   {
    "duration": 4,
    "start_time": "2021-07-10T23:28:46.808Z"
   },
   {
    "duration": 11,
    "start_time": "2021-07-10T23:28:46.816Z"
   },
   {
    "duration": 8,
    "start_time": "2021-07-10T23:28:46.830Z"
   },
   {
    "duration": 7,
    "start_time": "2021-07-10T23:28:46.841Z"
   },
   {
    "duration": 50,
    "start_time": "2021-07-10T23:28:46.851Z"
   },
   {
    "duration": 28,
    "start_time": "2021-07-10T23:28:46.904Z"
   },
   {
    "duration": 10,
    "start_time": "2021-07-10T23:28:46.935Z"
   },
   {
    "duration": 12,
    "start_time": "2021-07-10T23:28:46.948Z"
   },
   {
    "duration": 40,
    "start_time": "2021-07-10T23:28:46.962Z"
   },
   {
    "duration": 9,
    "start_time": "2021-07-10T23:28:47.005Z"
   },
   {
    "duration": 10,
    "start_time": "2021-07-10T23:28:47.017Z"
   },
   {
    "duration": 4307,
    "start_time": "2021-07-10T23:28:47.029Z"
   },
   {
    "duration": 39514,
    "start_time": "2021-07-10T23:28:51.339Z"
   },
   {
    "duration": 5060,
    "start_time": "2021-07-10T23:29:30.855Z"
   },
   {
    "duration": 86,
    "start_time": "2021-07-10T23:29:35.917Z"
   },
   {
    "duration": 39635,
    "start_time": "2021-07-10T23:29:36.005Z"
   },
   {
    "duration": 4,
    "start_time": "2021-07-10T23:30:15.643Z"
   },
   {
    "duration": 14,
    "start_time": "2021-07-10T23:30:15.650Z"
   },
   {
    "duration": 14,
    "start_time": "2021-07-10T23:30:15.666Z"
   },
   {
    "duration": 21,
    "start_time": "2021-07-10T23:30:15.682Z"
   },
   {
    "duration": 345,
    "start_time": "2021-07-10T23:30:15.705Z"
   },
   {
    "duration": 1520,
    "start_time": "2021-07-10T23:40:52.105Z"
   },
   {
    "duration": 111,
    "start_time": "2021-07-10T23:40:53.628Z"
   },
   {
    "duration": 5,
    "start_time": "2021-07-10T23:40:53.742Z"
   },
   {
    "duration": 106,
    "start_time": "2021-07-10T23:40:53.749Z"
   },
   {
    "duration": 5,
    "start_time": "2021-07-10T23:40:53.858Z"
   },
   {
    "duration": 42,
    "start_time": "2021-07-10T23:40:53.865Z"
   },
   {
    "duration": 29,
    "start_time": "2021-07-10T23:40:53.909Z"
   },
   {
    "duration": 19,
    "start_time": "2021-07-10T23:40:53.942Z"
   },
   {
    "duration": 47,
    "start_time": "2021-07-10T23:40:53.965Z"
   },
   {
    "duration": 17,
    "start_time": "2021-07-10T23:40:54.014Z"
   },
   {
    "duration": 39,
    "start_time": "2021-07-10T23:40:54.033Z"
   },
   {
    "duration": 9,
    "start_time": "2021-07-10T23:40:54.101Z"
   },
   {
    "duration": 18,
    "start_time": "2021-07-10T23:40:54.113Z"
   },
   {
    "duration": 11,
    "start_time": "2021-07-10T23:40:54.133Z"
   },
   {
    "duration": 12,
    "start_time": "2021-07-10T23:40:54.146Z"
   },
   {
    "duration": 49,
    "start_time": "2021-07-10T23:40:54.161Z"
   },
   {
    "duration": 6,
    "start_time": "2021-07-10T23:40:54.213Z"
   },
   {
    "duration": 7,
    "start_time": "2021-07-10T23:40:54.221Z"
   },
   {
    "duration": 7,
    "start_time": "2021-07-10T23:40:54.230Z"
   },
   {
    "duration": 8,
    "start_time": "2021-07-10T23:40:54.239Z"
   },
   {
    "duration": 13,
    "start_time": "2021-07-10T23:40:54.249Z"
   },
   {
    "duration": 41,
    "start_time": "2021-07-10T23:40:54.269Z"
   },
   {
    "duration": 758,
    "start_time": "2021-07-10T23:40:54.315Z"
   },
   {
    "duration": 26,
    "start_time": "2021-07-10T23:40:55.076Z"
   },
   {
    "duration": 7,
    "start_time": "2021-07-10T23:40:55.104Z"
   },
   {
    "duration": 15,
    "start_time": "2021-07-10T23:40:55.113Z"
   },
   {
    "duration": 19,
    "start_time": "2021-07-10T23:40:55.130Z"
   },
   {
    "duration": 137,
    "start_time": "2021-07-10T23:40:55.152Z"
   },
   {
    "duration": 8,
    "start_time": "2021-07-10T23:40:55.292Z"
   },
   {
    "duration": 11,
    "start_time": "2021-07-10T23:40:55.303Z"
   },
   {
    "duration": 31,
    "start_time": "2021-07-10T23:40:55.316Z"
   },
   {
    "duration": 14,
    "start_time": "2021-07-10T23:40:55.349Z"
   },
   {
    "duration": 84,
    "start_time": "2021-07-10T23:40:55.366Z"
   },
   {
    "duration": 6,
    "start_time": "2021-07-10T23:40:55.452Z"
   },
   {
    "duration": 11,
    "start_time": "2021-07-10T23:40:55.461Z"
   },
   {
    "duration": 32,
    "start_time": "2021-07-10T23:40:55.474Z"
   },
   {
    "duration": 8,
    "start_time": "2021-07-10T23:40:55.509Z"
   },
   {
    "duration": 10,
    "start_time": "2021-07-10T23:40:55.519Z"
   },
   {
    "duration": 26,
    "start_time": "2021-07-10T23:40:55.531Z"
   },
   {
    "duration": 10,
    "start_time": "2021-07-10T23:40:55.560Z"
   },
   {
    "duration": 11,
    "start_time": "2021-07-10T23:40:55.601Z"
   },
   {
    "duration": 4,
    "start_time": "2021-07-10T23:40:55.615Z"
   },
   {
    "duration": 10,
    "start_time": "2021-07-10T23:40:55.621Z"
   },
   {
    "duration": 14,
    "start_time": "2021-07-10T23:40:55.634Z"
   },
   {
    "duration": 4271,
    "start_time": "2021-07-10T23:40:55.651Z"
   },
   {
    "duration": 40849,
    "start_time": "2021-07-10T23:40:59.924Z"
   },
   {
    "duration": 9537,
    "start_time": "2021-07-10T23:41:40.776Z"
   },
   {
    "duration": 9,
    "start_time": "2021-07-10T23:41:50.315Z"
   },
   {
    "duration": 42283,
    "start_time": "2021-07-10T23:41:50.326Z"
   },
   {
    "duration": 6,
    "start_time": "2021-07-10T23:42:32.612Z"
   },
   {
    "duration": 15,
    "start_time": "2021-07-10T23:42:32.621Z"
   },
   {
    "duration": 17,
    "start_time": "2021-07-10T23:42:32.639Z"
   },
   {
    "duration": 48,
    "start_time": "2021-07-10T23:42:32.659Z"
   },
   {
    "duration": 356,
    "start_time": "2021-07-10T23:42:32.710Z"
   },
   {
    "duration": 101,
    "start_time": "2021-07-10T23:45:03.076Z"
   },
   {
    "duration": 1555,
    "start_time": "2021-07-11T00:01:52.666Z"
   },
   {
    "duration": 117,
    "start_time": "2021-07-11T00:01:54.224Z"
   },
   {
    "duration": 4,
    "start_time": "2021-07-11T00:01:54.344Z"
   },
   {
    "duration": 112,
    "start_time": "2021-07-11T00:01:54.351Z"
   },
   {
    "duration": 6,
    "start_time": "2021-07-11T00:01:54.467Z"
   },
   {
    "duration": 51,
    "start_time": "2021-07-11T00:01:54.476Z"
   },
   {
    "duration": 37,
    "start_time": "2021-07-11T00:01:54.530Z"
   },
   {
    "duration": 45,
    "start_time": "2021-07-11T00:01:54.570Z"
   },
   {
    "duration": 21,
    "start_time": "2021-07-11T00:01:54.621Z"
   },
   {
    "duration": 18,
    "start_time": "2021-07-11T00:01:54.645Z"
   },
   {
    "duration": 61,
    "start_time": "2021-07-11T00:01:54.665Z"
   },
   {
    "duration": 11,
    "start_time": "2021-07-11T00:01:54.729Z"
   },
   {
    "duration": 17,
    "start_time": "2021-07-11T00:01:54.742Z"
   },
   {
    "duration": 40,
    "start_time": "2021-07-11T00:01:54.761Z"
   },
   {
    "duration": 14,
    "start_time": "2021-07-11T00:01:54.803Z"
   },
   {
    "duration": 17,
    "start_time": "2021-07-11T00:01:54.819Z"
   },
   {
    "duration": 6,
    "start_time": "2021-07-11T00:01:54.838Z"
   },
   {
    "duration": 8,
    "start_time": "2021-07-11T00:01:54.847Z"
   },
   {
    "duration": 43,
    "start_time": "2021-07-11T00:01:54.857Z"
   },
   {
    "duration": 8,
    "start_time": "2021-07-11T00:01:54.902Z"
   },
   {
    "duration": 17,
    "start_time": "2021-07-11T00:01:54.912Z"
   },
   {
    "duration": 10,
    "start_time": "2021-07-11T00:01:54.931Z"
   },
   {
    "duration": 765,
    "start_time": "2021-07-11T00:01:54.943Z"
   },
   {
    "duration": 12,
    "start_time": "2021-07-11T00:01:55.710Z"
   },
   {
    "duration": 8,
    "start_time": "2021-07-11T00:01:55.724Z"
   },
   {
    "duration": 14,
    "start_time": "2021-07-11T00:01:55.735Z"
   },
   {
    "duration": 56,
    "start_time": "2021-07-11T00:01:55.755Z"
   },
   {
    "duration": 120,
    "start_time": "2021-07-11T00:01:55.814Z"
   },
   {
    "duration": 5,
    "start_time": "2021-07-11T00:01:55.937Z"
   },
   {
    "duration": 12,
    "start_time": "2021-07-11T00:01:55.945Z"
   },
   {
    "duration": 51,
    "start_time": "2021-07-11T00:01:55.960Z"
   },
   {
    "duration": 15,
    "start_time": "2021-07-11T00:01:56.013Z"
   },
   {
    "duration": 70,
    "start_time": "2021-07-11T00:01:56.030Z"
   },
   {
    "duration": 6,
    "start_time": "2021-07-11T00:01:56.103Z"
   },
   {
    "duration": 24,
    "start_time": "2021-07-11T00:01:56.111Z"
   },
   {
    "duration": 8,
    "start_time": "2021-07-11T00:01:56.137Z"
   },
   {
    "duration": 7,
    "start_time": "2021-07-11T00:01:56.148Z"
   },
   {
    "duration": 16,
    "start_time": "2021-07-11T00:01:56.157Z"
   },
   {
    "duration": 40,
    "start_time": "2021-07-11T00:01:56.175Z"
   },
   {
    "duration": 30,
    "start_time": "2021-07-11T00:01:56.218Z"
   },
   {
    "duration": 16,
    "start_time": "2021-07-11T00:01:56.251Z"
   },
   {
    "duration": 4,
    "start_time": "2021-07-11T00:01:56.269Z"
   },
   {
    "duration": 25,
    "start_time": "2021-07-11T00:01:56.276Z"
   },
   {
    "duration": 9,
    "start_time": "2021-07-11T00:01:56.304Z"
   },
   {
    "duration": 4316,
    "start_time": "2021-07-11T00:01:56.316Z"
   },
   {
    "duration": 39893,
    "start_time": "2021-07-11T00:02:00.635Z"
   },
   {
    "duration": 8677,
    "start_time": "2021-07-11T00:02:40.530Z"
   },
   {
    "duration": 9,
    "start_time": "2021-07-11T00:02:49.209Z"
   },
   {
    "duration": 40219,
    "start_time": "2021-07-11T00:02:49.220Z"
   },
   {
    "duration": 5,
    "start_time": "2021-07-11T00:03:29.441Z"
   },
   {
    "duration": 22,
    "start_time": "2021-07-11T00:03:29.448Z"
   },
   {
    "duration": 27,
    "start_time": "2021-07-11T00:03:29.472Z"
   },
   {
    "duration": 11,
    "start_time": "2021-07-11T00:03:29.502Z"
   },
   {
    "duration": 342,
    "start_time": "2021-07-11T00:03:29.515Z"
   },
   {
    "duration": 1503,
    "start_time": "2021-07-11T20:13:08.015Z"
   },
   {
    "duration": 113,
    "start_time": "2021-07-11T20:13:09.520Z"
   },
   {
    "duration": 5,
    "start_time": "2021-07-11T20:13:10.086Z"
   },
   {
    "duration": 122,
    "start_time": "2021-07-11T20:13:10.777Z"
   },
   {
    "duration": 6,
    "start_time": "2021-07-11T20:13:12.420Z"
   },
   {
    "duration": 29,
    "start_time": "2021-07-11T20:13:12.884Z"
   },
   {
    "duration": 28,
    "start_time": "2021-07-11T20:13:13.461Z"
   },
   {
    "duration": 20,
    "start_time": "2021-07-11T20:13:14.844Z"
   },
   {
    "duration": 22,
    "start_time": "2021-07-11T20:13:15.272Z"
   },
   {
    "duration": 16,
    "start_time": "2021-07-11T20:13:16.690Z"
   },
   {
    "duration": 37,
    "start_time": "2021-07-11T20:13:17.384Z"
   },
   {
    "duration": 9,
    "start_time": "2021-07-11T20:13:17.848Z"
   },
   {
    "duration": 17,
    "start_time": "2021-07-11T20:13:20.082Z"
   },
   {
    "duration": 9,
    "start_time": "2021-07-11T20:13:20.969Z"
   },
   {
    "duration": 9,
    "start_time": "2021-07-11T20:13:21.317Z"
   },
   {
    "duration": 17,
    "start_time": "2021-07-11T20:13:24.004Z"
   },
   {
    "duration": 7,
    "start_time": "2021-07-11T20:13:24.667Z"
   },
   {
    "duration": 7,
    "start_time": "2021-07-11T20:13:25.082Z"
   },
   {
    "duration": 7,
    "start_time": "2021-07-11T20:13:25.555Z"
   },
   {
    "duration": 8,
    "start_time": "2021-07-11T20:13:26.151Z"
   },
   {
    "duration": 12,
    "start_time": "2021-07-11T20:14:54.303Z"
   },
   {
    "duration": 12,
    "start_time": "2021-07-11T20:14:55.367Z"
   },
   {
    "duration": 724,
    "start_time": "2021-07-11T20:14:58.301Z"
   },
   {
    "duration": 11,
    "start_time": "2021-07-11T20:14:59.759Z"
   },
   {
    "duration": 8,
    "start_time": "2021-07-11T20:15:06.066Z"
   },
   {
    "duration": 14,
    "start_time": "2021-07-11T20:15:07.039Z"
   },
   {
    "duration": 21,
    "start_time": "2021-07-11T20:15:15.038Z"
   },
   {
    "duration": 107,
    "start_time": "2021-07-11T20:15:17.021Z"
   },
   {
    "duration": 4,
    "start_time": "2021-07-11T20:15:17.868Z"
   },
   {
    "duration": 4,
    "start_time": "2021-07-11T20:15:18.946Z"
   },
   {
    "duration": 22,
    "start_time": "2021-07-11T20:15:19.614Z"
   },
   {
    "duration": 15,
    "start_time": "2021-07-11T20:15:20.414Z"
   },
   {
    "duration": 48,
    "start_time": "2021-07-11T20:15:21.100Z"
   },
   {
    "duration": 6,
    "start_time": "2021-07-11T20:15:24.608Z"
   },
   {
    "duration": 7,
    "start_time": "2021-07-11T20:15:25.432Z"
   },
   {
    "duration": 7,
    "start_time": "2021-07-11T20:15:25.962Z"
   },
   {
    "duration": 7,
    "start_time": "2021-07-11T20:15:26.191Z"
   },
   {
    "duration": 6,
    "start_time": "2021-07-11T20:15:27.732Z"
   },
   {
    "duration": 22,
    "start_time": "2021-07-11T20:15:27.977Z"
   },
   {
    "duration": 385,
    "start_time": "2021-07-11T20:16:42.704Z"
   },
   {
    "duration": 22,
    "start_time": "2021-07-11T20:16:44.823Z"
   },
   {
    "duration": 8,
    "start_time": "2021-07-11T20:17:01.869Z"
   },
   {
    "duration": 6,
    "start_time": "2021-07-11T20:17:04.317Z"
   },
   {
    "duration": 23,
    "start_time": "2021-07-11T20:17:09.131Z"
   },
   {
    "duration": 10,
    "start_time": "2021-07-11T20:17:26.232Z"
   },
   {
    "duration": 11,
    "start_time": "2021-07-11T20:17:45.647Z"
   },
   {
    "duration": 12,
    "start_time": "2021-07-11T20:17:53.061Z"
   },
   {
    "duration": 266,
    "start_time": "2021-07-11T20:18:01.279Z"
   },
   {
    "duration": 10,
    "start_time": "2021-07-11T20:18:05.233Z"
   },
   {
    "duration": 8,
    "start_time": "2021-07-11T20:18:20.283Z"
   },
   {
    "duration": 23,
    "start_time": "2021-07-11T20:18:27.459Z"
   },
   {
    "duration": 91,
    "start_time": "2021-07-11T20:33:01.828Z"
   },
   {
    "duration": 82,
    "start_time": "2021-07-11T20:33:08.518Z"
   },
   {
    "duration": 88,
    "start_time": "2021-07-11T20:33:13.878Z"
   }
  ],
  "kernelspec": {
   "display_name": "Python 3",
   "language": "python",
   "name": "python3"
  },
  "language_info": {
   "codemirror_mode": {
    "name": "ipython",
    "version": 3
   },
   "file_extension": ".py",
   "mimetype": "text/x-python",
   "name": "python",
   "nbconvert_exporter": "python",
   "pygments_lexer": "ipython3",
   "version": "3.7.8"
  },
  "toc": {
   "base_numbering": 1,
   "nav_menu": {},
   "number_sections": true,
   "sideBar": true,
   "skip_h1_title": true,
   "title_cell": "Table of Contents",
   "title_sidebar": "Contents",
   "toc_cell": false,
   "toc_position": {},
   "toc_section_display": true,
   "toc_window_display": false
  }
 },
 "nbformat": 4,
 "nbformat_minor": 2
}