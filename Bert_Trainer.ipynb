{
 "cells": [
  {
   "cell_type": "markdown",
   "metadata": {
    "id": "Bu5ZbNVITBY7"
   },
   "source": [
    "## Описание проекта\n",
    "\n",
    "Интернет-сервис запускает функционал общения с клиентами у себя на сайте. Необходимо построить модель детектирования негативных сообщений для дальнейшей обработки сервисной службой.\n",
    "\n",
    "### Цели\n",
    "- Обучить модель классифицировать комментарии на позитивные и негативные. В распоряжении набор данных с разметкой о токсичности сообщений.\n",
    "- Построить модель со значением метрики качества *F1* не меньше 0.75.\n",
    "\n",
    "\n",
    "### Инструкция по выполнению проекта\n",
    "1. Загрузить и подготовить данные.\n",
    "2. Обучить разные модели.\n",
    "3. Сделать выводы.\n",
    "\n",
    "\n",
    "### Описание данных\n",
    "Данные находятся в файле `toxic_comments.csv`.\n",
    "- **text** - текст комментария,\n",
    "- **toxic** - целевой признак."
   ]
  },
  {
   "cell_type": "code",
   "execution_count": 27,
   "outputs": [],
   "source": [
    "# !pip install transformers\n",
    "# !pip install accelerate -U\n",
    "# !pip install -q -U watermark\n",
    "# !pip install time\n",
    "# !pip install torchsummary\n",
    "# !pip re"
   ],
   "metadata": {
    "collapsed": false,
    "ExecuteTime": {
     "end_time": "2023-06-15T22:25:11.022356600Z",
     "start_time": "2023-06-15T22:25:10.673612900Z"
    }
   }
  },
  {
   "cell_type": "code",
   "execution_count": 28,
   "outputs": [
    {
     "name": "stdout",
     "output_type": "stream",
     "text": [
      "Python implementation: CPython\n",
      "Python version       : 3.11.3\n",
      "IPython version      : 8.7.0\n",
      "\n",
      "numpy       : 1.23.5\n",
      "pandas      : 1.5.2\n",
      "torch       : 2.0.1+cu117\n",
      "transformers: 4.25.1\n",
      "\n"
     ]
    }
   ],
   "source": [
    "%reload_ext watermark\n",
    "%watermark -v -p numpy,pandas,torch,transformers"
   ],
   "metadata": {
    "collapsed": false,
    "ExecuteTime": {
     "end_time": "2023-06-15T22:25:11.241352700Z",
     "start_time": "2023-06-15T22:25:10.679142400Z"
    }
   }
  },
  {
   "cell_type": "code",
   "execution_count": 29,
   "outputs": [
    {
     "name": "stdout",
     "output_type": "stream",
     "text": [
      "библиотеки ок\n"
     ]
    }
   ],
   "source": [
    "try:\n",
    "    import numpy as np\n",
    "    import pandas as pd\n",
    "    import torch\n",
    "    import transformers\n",
    "    import seaborn as sns\n",
    "    import matplotlib.pyplot as plt\n",
    "\n",
    "\n",
    "    from sklearn.model_selection import train_test_split\n",
    "    from sklearn.metrics import accuracy_score,f1_score\n",
    "    from transformers import BertTokenizer, BertModel,BertConfig\n",
    "    import time\n",
    "    import re\n",
    "\n",
    "    from torch.utils.data import DataLoader, TensorDataset\n",
    "    from transformers import AutoTokenizer, AutoModelForSequenceClassification,AutoModelForMaskedLM,AutoModel\n",
    "    from torch.utils.data import DataLoader, Dataset\n",
    "    from transformers import  BertForSequenceClassification, Trainer, TrainingArguments\n",
    "    from torchsummary import summary\n",
    "\n",
    "    print('библиотеки ок')\n",
    "except:\n",
    "    print('Грузим pip')"
   ],
   "metadata": {
    "collapsed": false,
    "ExecuteTime": {
     "end_time": "2023-06-15T22:25:11.242355200Z",
     "start_time": "2023-06-15T22:25:10.700648600Z"
    }
   }
  },
  {
   "cell_type": "code",
   "execution_count": 30,
   "metadata": {
    "id": "t6Uhb4zMTBY-",
    "ExecuteTime": {
     "end_time": "2023-06-15T22:25:11.269354200Z",
     "start_time": "2023-06-15T22:25:10.707344100Z"
    }
   },
   "outputs": [],
   "source": [
    "# посчитаем общее времечко, чтобы ревью прошло быстренько=)\n",
    "start_time_all = time.time()\n",
    "rn=1977\n",
    "# размер семпла\n",
    "sam=1500"
   ]
  },
  {
   "cell_type": "markdown",
   "metadata": {
    "id": "GFuXyKPDScQ1"
   },
   "source": [
    "## Загрузка датасета"
   ]
  },
  {
   "cell_type": "code",
   "execution_count": 31,
   "metadata": {
    "id": "o9CynISfZ3pS",
    "ExecuteTime": {
     "end_time": "2023-06-15T22:25:17.379565700Z",
     "start_time": "2023-06-15T22:25:10.715352800Z"
    }
   },
   "outputs": [],
   "source": [
    "try:\n",
    "    data = pd.read_csv('/datasets/toxic_comments.csv',index_col=0)\n",
    "except:\n",
    "    data = pd.read_csv('https://code.s3.yandex.net/datasets/toxic_comments.csv',index_col=0)"
   ]
  },
  {
   "cell_type": "code",
   "execution_count": 32,
   "outputs": [
    {
     "name": "stdout",
     "output_type": "stream",
     "text": [
      "<class 'pandas.core.frame.DataFrame'>\n",
      "Int64Index: 159292 entries, 0 to 159450\n",
      "Data columns (total 2 columns):\n",
      " #   Column  Non-Null Count   Dtype \n",
      "---  ------  --------------   ----- \n",
      " 0   text    159292 non-null  object\n",
      " 1   toxic   159292 non-null  int64 \n",
      "dtypes: int64(1), object(1)\n",
      "memory usage: 3.6+ MB\n"
     ]
    }
   ],
   "source": [
    "data.info()"
   ],
   "metadata": {
    "collapsed": false,
    "ExecuteTime": {
     "end_time": "2023-06-15T22:25:17.442408300Z",
     "start_time": "2023-06-15T22:25:17.380529300Z"
    }
   }
  },
  {
   "cell_type": "code",
   "execution_count": 33,
   "outputs": [
    {
     "data": {
      "text/plain": "<Figure size 640x480 with 1 Axes>",
      "image/png": "[encoded data removed]"
     },
     "metadata": {},
     "output_type": "display_data"
    },
    {
     "name": "stdout",
     "output_type": "stream",
     "text": [
      "баланс классов [143106  16186]\n"
     ]
    }
   ],
   "source": [
    "\n",
    "# Подсчет количества значений\n",
    "value_counts = data['toxic'].value_counts()\n",
    "\n",
    "# Построение графика countplot\n",
    "sns.countplot(x='toxic', data=data, order=value_counts.index)\n",
    "\n",
    "plt.xlabel('review toxic')\n",
    "plt.ylabel('Count')\n",
    "\n",
    "plt.show()\n",
    "\n",
    "class_counts = np.bincount(data['toxic'])\n",
    "print('баланс классов',class_counts)"
   ],
   "metadata": {
    "collapsed": false,
    "ExecuteTime": {
     "end_time": "2023-06-15T22:25:17.589502800Z",
     "start_time": "2023-06-15T22:25:17.430370800Z"
    }
   }
  },
  {
   "cell_type": "markdown",
   "source": [
    "ВИдим большой дисбаланс классов"
   ],
   "metadata": {
    "collapsed": false
   }
  },
  {
   "cell_type": "code",
   "execution_count": 34,
   "outputs": [
    {
     "name": "stdout",
     "output_type": "stream",
     "text": [
      "cuda\n",
      "GPU доступна\n",
      "Устройство: NVIDIA GeForce RTX 3070\n",
      "Всего памяти:  8.0 GB\n",
      "Используется памяти:  1.28 GB\n",
      "Зарезервировано памяти:  7.14 GB\n",
      "Свободной памяти:  0.86 GB\n"
     ]
    }
   ],
   "source": [
    "# Проверяю, доступна ли видеокарта\n",
    "device = torch.device('cuda') if torch.cuda.is_available() else torch.device('cpu')\n",
    "print(device)\n",
    "\n",
    "if torch.cuda.is_available():\n",
    "    device = torch.device('cuda')\n",
    "    print('GPU доступна')\n",
    "    print('Устройство:', torch.cuda.get_device_name())\n",
    "\n",
    "    # Выводим информацию о видеопамяти\n",
    "    total_mem = torch.cuda.get_device_properties(device).total_memory\n",
    "    reserved_mem = torch.cuda.memory_reserved(device)\n",
    "    allocated_mem = torch.cuda.memory_allocated(device)\n",
    "    free_mem = total_mem - reserved_mem\n",
    "\n",
    "    print('Всего памяти: ', round(total_mem / 1024**3, 2), 'GB')\n",
    "    print('Используется памяти: ', round(allocated_mem / 1024**3, 2), 'GB')\n",
    "    print('Зарезервировано памяти: ', round(reserved_mem / 1024**3, 2), 'GB')\n",
    "    print('Свободной памяти: ', round(free_mem / 1024**3, 2), 'GB')\n",
    "else:\n",
    "    device = torch.device('cpu')\n",
    "    print('GPU не доступна, используется CPU')"
   ],
   "metadata": {
    "collapsed": false,
    "ExecuteTime": {
     "end_time": "2023-06-15T22:25:17.600948500Z",
     "start_time": "2023-06-15T22:25:17.596421100Z"
    }
   }
  },
  {
   "cell_type": "markdown",
   "source": [
    "## Trainer"
   ],
   "metadata": {
    "collapsed": false
   }
  },
  {
   "cell_type": "code",
   "execution_count": 35,
   "outputs": [
    {
     "data": {
      "text/plain": "                                                   text  toxic\n0     Sometime back, I just happened to log on to ww...      0\n1     \"\\n\\nThe latest edit is much better, don't mak...      0\n2     \" October 2007 (UTC)\\n\\nI would think you'd be...      0\n3     Thanks for the tip on the currency translation...      0\n4     I would argue that if content on the Con in co...      0\n...                                                 ...    ...\n1495       Sounds perfect! I'm going to work on it now.      0\n1496  \"\\n\\nFirst of all the albanian migration in th...      0\n1497  Hamboards \\n\\nI have removed the speedy deleti...      0\n1498  If you are a scholar, it would seem that you w...      0\n1499  Another one \\n\\nDo you people create these pag...      0\n\n[1500 rows x 2 columns]",
      "text/html": "<div>\n<style scoped>\n    .dataframe tbody tr th:only-of-type {\n        vertical-align: middle;\n    }\n\n    .dataframe tbody tr th {\n        vertical-align: top;\n    }\n\n    .dataframe thead th {\n        text-align: right;\n    }\n</style>\n<table border=\"1\" class=\"dataframe\">\n  <thead>\n    <tr style=\"text-align: right;\">\n      <th></th>\n      <th>text</th>\n      <th>toxic</th>\n    </tr>\n  </thead>\n  <tbody>\n    <tr>\n      <th>0</th>\n      <td>Sometime back, I just happened to log on to ww...</td>\n      <td>0</td>\n    </tr>\n    <tr>\n      <th>1</th>\n      <td>\"\\n\\nThe latest edit is much better, don't mak...</td>\n      <td>0</td>\n    </tr>\n    <tr>\n      <th>2</th>\n      <td>\" October 2007 (UTC)\\n\\nI would think you'd be...</td>\n      <td>0</td>\n    </tr>\n    <tr>\n      <th>3</th>\n      <td>Thanks for the tip on the currency translation...</td>\n      <td>0</td>\n    </tr>\n    <tr>\n      <th>4</th>\n      <td>I would argue that if content on the Con in co...</td>\n      <td>0</td>\n    </tr>\n    <tr>\n      <th>...</th>\n      <td>...</td>\n      <td>...</td>\n    </tr>\n    <tr>\n      <th>1495</th>\n      <td>Sounds perfect! I'm going to work on it now.</td>\n      <td>0</td>\n    </tr>\n    <tr>\n      <th>1496</th>\n      <td>\"\\n\\nFirst of all the albanian migration in th...</td>\n      <td>0</td>\n    </tr>\n    <tr>\n      <th>1497</th>\n      <td>Hamboards \\n\\nI have removed the speedy deleti...</td>\n      <td>0</td>\n    </tr>\n    <tr>\n      <th>1498</th>\n      <td>If you are a scholar, it would seem that you w...</td>\n      <td>0</td>\n    </tr>\n    <tr>\n      <th>1499</th>\n      <td>Another one \\n\\nDo you people create these pag...</td>\n      <td>0</td>\n    </tr>\n  </tbody>\n</table>\n<p>1500 rows × 2 columns</p>\n</div>"
     },
     "execution_count": 35,
     "metadata": {},
     "output_type": "execute_result"
    }
   ],
   "source": [
    "#обрежем\n",
    "data = data.sample(sam).reset_index(drop=True)\n",
    "data"
   ],
   "metadata": {
    "collapsed": false,
    "ExecuteTime": {
     "end_time": "2023-06-15T22:25:17.706686400Z",
     "start_time": "2023-06-15T22:25:17.602948800Z"
    }
   }
  },
  {
   "cell_type": "code",
   "execution_count": 36,
   "outputs": [],
   "source": [
    "# tokenizer = AutoTokenizer.from_pretrained('bert-base-uncased')\n",
    "# model = BertForSequenceClassification.from_pretrained('bert-base-uncased')\n",
    "\n",
    "# model =AutoModelForMaskedLM.from_pretrained('unitary/toxic-bert')\n",
    "# tokenizer = AutoTokenizer.from_pretrained('unitary/toxic-bert')\n",
    "# model = AutoModelForSequenceClassification.from_pretrained('unitary/toxic-bert',num_labels=2)\n",
    "# model = BertForSequenceClassification.from_pretrained('unitary/toxic-bert')\n",
    "# tokenizer = AutoTokenizer.from_pretrained('bert-base-uncased')\n",
    "\n"
   ],
   "metadata": {
    "colab": {
     "base_uri": "https://localhost:8080/"
    },
    "id": "wW9bpLtqTBZB",
    "outputId": "060a65c9-3497-46a5-bf84-c235a989c538",
    "ExecuteTime": {
     "end_time": "2023-06-15T22:25:17.707686300Z",
     "start_time": "2023-06-15T22:25:17.634098700Z"
    }
   }
  },
  {
   "cell_type": "code",
   "execution_count": 37,
   "outputs": [
    {
     "name": "stderr",
     "output_type": "stream",
     "text": [
      "loading configuration file config.json from cache at C:\\Users\\admin/.cache\\huggingface\\hub\\models--unitary--toxic-bert\\snapshots\\5cc53435803a6e6f1ac8e4b243910d3bf26803ff\\config.json\n",
      "Model config BertConfig {\n",
      "  \"_name_or_path\": \"unitary/toxic-bert\",\n",
      "  \"architectures\": [\n",
      "    \"BertForSequenceClassification\"\n",
      "  ],\n",
      "  \"attention_probs_dropout_prob\": 0.1,\n",
      "  \"classifier_dropout\": null,\n",
      "  \"gradient_checkpointing\": false,\n",
      "  \"hidden_act\": \"gelu\",\n",
      "  \"hidden_dropout_prob\": 0.1,\n",
      "  \"hidden_size\": 768,\n",
      "  \"id2label\": {\n",
      "    \"0\": \"toxic\",\n",
      "    \"1\": \"severe_toxic\",\n",
      "    \"2\": \"obscene\",\n",
      "    \"3\": \"threat\",\n",
      "    \"4\": \"insult\",\n",
      "    \"5\": \"identity_hate\"\n",
      "  },\n",
      "  \"initializer_range\": 0.02,\n",
      "  \"intermediate_size\": 3072,\n",
      "  \"label2id\": {\n",
      "    \"identity_hate\": 5,\n",
      "    \"insult\": 4,\n",
      "    \"obscene\": 2,\n",
      "    \"severe_toxic\": 1,\n",
      "    \"threat\": 3,\n",
      "    \"toxic\": 0\n",
      "  },\n",
      "  \"layer_norm_eps\": 1e-12,\n",
      "  \"max_position_embeddings\": 512,\n",
      "  \"model_type\": \"bert\",\n",
      "  \"num_attention_heads\": 12,\n",
      "  \"num_hidden_layers\": 12,\n",
      "  \"pad_token_id\": 0,\n",
      "  \"position_embedding_type\": \"absolute\",\n",
      "  \"problem_type\": \"multi_label_classification\",\n",
      "  \"transformers_version\": \"4.25.1\",\n",
      "  \"type_vocab_size\": 2,\n",
      "  \"use_cache\": true,\n",
      "  \"vocab_size\": 30522\n",
      "}\n",
      "\n",
      "loading weights file pytorch_model.bin from cache at C:\\Users\\admin/.cache\\huggingface\\hub\\models--unitary--toxic-bert\\snapshots\\5cc53435803a6e6f1ac8e4b243910d3bf26803ff\\pytorch_model.bin\n",
      "Some weights of the model checkpoint at unitary/toxic-bert were not used when initializing BertModel: ['classifier.weight', 'classifier.bias']\n",
      "- This IS expected if you are initializing BertModel from the checkpoint of a model trained on another task or with another architecture (e.g. initializing a BertForSequenceClassification model from a BertForPreTraining model).\n",
      "- This IS NOT expected if you are initializing BertModel from the checkpoint of a model that you expect to be exactly identical (initializing a BertForSequenceClassification model from a BertForSequenceClassification model).\n",
      "All the weights of BertModel were initialized from the model checkpoint at unitary/toxic-bert.\n",
      "If your task is similar to the task the model of the checkpoint was trained on, you can already use BertModel for predictions without further training.\n",
      "loading configuration file config.json from cache at C:\\Users\\admin/.cache\\huggingface\\hub\\models--unitary--toxic-bert\\snapshots\\5cc53435803a6e6f1ac8e4b243910d3bf26803ff\\config.json\n",
      "Model config BertConfig {\n",
      "  \"_name_or_path\": \"unitary/toxic-bert\",\n",
      "  \"architectures\": [\n",
      "    \"BertForSequenceClassification\"\n",
      "  ],\n",
      "  \"attention_probs_dropout_prob\": 0.1,\n",
      "  \"classifier_dropout\": null,\n",
      "  \"gradient_checkpointing\": false,\n",
      "  \"hidden_act\": \"gelu\",\n",
      "  \"hidden_dropout_prob\": 0.1,\n",
      "  \"hidden_size\": 768,\n",
      "  \"id2label\": {\n",
      "    \"0\": \"toxic\",\n",
      "    \"1\": \"severe_toxic\",\n",
      "    \"2\": \"obscene\",\n",
      "    \"3\": \"threat\",\n",
      "    \"4\": \"insult\",\n",
      "    \"5\": \"identity_hate\"\n",
      "  },\n",
      "  \"initializer_range\": 0.02,\n",
      "  \"intermediate_size\": 3072,\n",
      "  \"label2id\": {\n",
      "    \"identity_hate\": 5,\n",
      "    \"insult\": 4,\n",
      "    \"obscene\": 2,\n",
      "    \"severe_toxic\": 1,\n",
      "    \"threat\": 3,\n",
      "    \"toxic\": 0\n",
      "  },\n",
      "  \"layer_norm_eps\": 1e-12,\n",
      "  \"max_position_embeddings\": 512,\n",
      "  \"model_type\": \"bert\",\n",
      "  \"num_attention_heads\": 12,\n",
      "  \"num_hidden_layers\": 12,\n",
      "  \"pad_token_id\": 0,\n",
      "  \"position_embedding_type\": \"absolute\",\n",
      "  \"problem_type\": \"multi_label_classification\",\n",
      "  \"transformers_version\": \"4.25.1\",\n",
      "  \"type_vocab_size\": 2,\n",
      "  \"use_cache\": true,\n",
      "  \"vocab_size\": 30522\n",
      "}\n",
      "\n",
      "loading file vocab.txt from cache at C:\\Users\\admin/.cache\\huggingface\\hub\\models--unitary--toxic-bert\\snapshots\\5cc53435803a6e6f1ac8e4b243910d3bf26803ff\\vocab.txt\n",
      "loading file tokenizer.json from cache at None\n",
      "loading file added_tokens.json from cache at None\n",
      "loading file special_tokens_map.json from cache at C:\\Users\\admin/.cache\\huggingface\\hub\\models--unitary--toxic-bert\\snapshots\\5cc53435803a6e6f1ac8e4b243910d3bf26803ff\\special_tokens_map.json\n",
      "loading file tokenizer_config.json from cache at C:\\Users\\admin/.cache\\huggingface\\hub\\models--unitary--toxic-bert\\snapshots\\5cc53435803a6e6f1ac8e4b243910d3bf26803ff\\tokenizer_config.json\n",
      "loading configuration file config.json from cache at C:\\Users\\admin/.cache\\huggingface\\hub\\models--unitary--toxic-bert\\snapshots\\5cc53435803a6e6f1ac8e4b243910d3bf26803ff\\config.json\n",
      "Model config BertConfig {\n",
      "  \"_name_or_path\": \"unitary/toxic-bert\",\n",
      "  \"architectures\": [\n",
      "    \"BertForSequenceClassification\"\n",
      "  ],\n",
      "  \"attention_probs_dropout_prob\": 0.1,\n",
      "  \"classifier_dropout\": null,\n",
      "  \"gradient_checkpointing\": false,\n",
      "  \"hidden_act\": \"gelu\",\n",
      "  \"hidden_dropout_prob\": 0.1,\n",
      "  \"hidden_size\": 768,\n",
      "  \"id2label\": {\n",
      "    \"0\": \"toxic\",\n",
      "    \"1\": \"severe_toxic\",\n",
      "    \"2\": \"obscene\",\n",
      "    \"3\": \"threat\",\n",
      "    \"4\": \"insult\",\n",
      "    \"5\": \"identity_hate\"\n",
      "  },\n",
      "  \"initializer_range\": 0.02,\n",
      "  \"intermediate_size\": 3072,\n",
      "  \"label2id\": {\n",
      "    \"identity_hate\": 5,\n",
      "    \"insult\": 4,\n",
      "    \"obscene\": 2,\n",
      "    \"severe_toxic\": 1,\n",
      "    \"threat\": 3,\n",
      "    \"toxic\": 0\n",
      "  },\n",
      "  \"layer_norm_eps\": 1e-12,\n",
      "  \"max_position_embeddings\": 512,\n",
      "  \"model_type\": \"bert\",\n",
      "  \"num_attention_heads\": 12,\n",
      "  \"num_hidden_layers\": 12,\n",
      "  \"pad_token_id\": 0,\n",
      "  \"position_embedding_type\": \"absolute\",\n",
      "  \"problem_type\": \"multi_label_classification\",\n",
      "  \"transformers_version\": \"4.25.1\",\n",
      "  \"type_vocab_size\": 2,\n",
      "  \"use_cache\": true,\n",
      "  \"vocab_size\": 30522\n",
      "}\n",
      "\n",
      "loading configuration file config.json from cache at C:\\Users\\admin/.cache\\huggingface\\hub\\models--unitary--toxic-bert\\snapshots\\5cc53435803a6e6f1ac8e4b243910d3bf26803ff\\config.json\n",
      "Model config BertConfig {\n",
      "  \"_name_or_path\": \"unitary/toxic-bert\",\n",
      "  \"architectures\": [\n",
      "    \"BertForSequenceClassification\"\n",
      "  ],\n",
      "  \"attention_probs_dropout_prob\": 0.1,\n",
      "  \"classifier_dropout\": null,\n",
      "  \"gradient_checkpointing\": false,\n",
      "  \"hidden_act\": \"gelu\",\n",
      "  \"hidden_dropout_prob\": 0.1,\n",
      "  \"hidden_size\": 768,\n",
      "  \"id2label\": {\n",
      "    \"0\": \"toxic\",\n",
      "    \"1\": \"severe_toxic\",\n",
      "    \"2\": \"obscene\",\n",
      "    \"3\": \"threat\",\n",
      "    \"4\": \"insult\",\n",
      "    \"5\": \"identity_hate\"\n",
      "  },\n",
      "  \"initializer_range\": 0.02,\n",
      "  \"intermediate_size\": 3072,\n",
      "  \"label2id\": {\n",
      "    \"identity_hate\": 5,\n",
      "    \"insult\": 4,\n",
      "    \"obscene\": 2,\n",
      "    \"severe_toxic\": 1,\n",
      "    \"threat\": 3,\n",
      "    \"toxic\": 0\n",
      "  },\n",
      "  \"layer_norm_eps\": 1e-12,\n",
      "  \"max_position_embeddings\": 512,\n",
      "  \"model_type\": \"bert\",\n",
      "  \"num_attention_heads\": 12,\n",
      "  \"num_hidden_layers\": 12,\n",
      "  \"pad_token_id\": 0,\n",
      "  \"position_embedding_type\": \"absolute\",\n",
      "  \"problem_type\": \"multi_label_classification\",\n",
      "  \"transformers_version\": \"4.25.1\",\n",
      "  \"type_vocab_size\": 2,\n",
      "  \"use_cache\": true,\n",
      "  \"vocab_size\": 30522\n",
      "}\n",
      "\n"
     ]
    }
   ],
   "source": [
    "# pretrained_path = \"DeepPavlov/rubert-base-cased\"\n",
    "\n",
    "\n",
    "# Загрузите модель и токенизатор\n",
    "model = transformers.AutoModel.from_pretrained('unitary/toxic-bert')\n",
    "tokenizer = transformers.AutoTokenizer.from_pretrained('unitary/toxic-bert')\n",
    "# tokenizer = transformers.AutoTokenizer.from_pretrained('bert-base-uncased')\n",
    "# model = transformers.AutoModel.from_pretrained('bert-base-uncased')\n",
    "\n",
    "\n",
    "\n",
    "# Создаем классификатор на основе модели BERT\n",
    "class BertForSequenceClassification(transformers.BertPreTrainedModel):\n",
    "    # Конструктор класса\n",
    "    def __init__(self, config):\n",
    "        # Вызов конструктора родительского класса и инициализация с конфигурацией BERT\n",
    "        super().__init__(config)\n",
    "        # Число классов задается из конфигурации BERT\n",
    "        self.num_labels = config.num_labels\n",
    "\n",
    "        self.bert = model  # используйте загруженную модель BERT\n",
    "        # Создание слоя dropout с заданной в конфигурации вероятностью\n",
    "        self.dropout = torch.nn.Dropout(config.hidden_dropout_prob)\n",
    "        # Создание классификатора как полносвязного слоя\n",
    "        self.classifier = torch.nn.Linear(config.hidden_size, config.num_labels)\n",
    "\n",
    "     # Определение прямого прохода модели\n",
    "    def forward(\n",
    "        self,\n",
    "        input_ids=None,            # Идентификаторы токенов входных данных\n",
    "        attention_mask=None,       # Маска внимания для входных данных\n",
    "        token_type_ids=None,       # Идентификаторы типов токенов для входных данных\n",
    "        position_ids=None,         # Идентификаторы позиций для входных данных\n",
    "        head_mask=None,            # Маска для скрытия некоторых голов внимания\n",
    "        inputs_embeds=None,        # Предварительно встроенные представления входных данных\n",
    "        labels=None,               # Метки для вычисления функции потерь\n",
    "        output_attentions=None,    # Флаг, определяющий, следует ли возвращать внимание\n",
    "        output_hidden_states=None, # Флаг, определяющий, следует ли возвращать скрытое состояние\n",
    "        return_dict=None,          # Флаг, определяющий, следует ли возвращать данные в виде словаря\n",
    "    ):\n",
    "        # Если return_dict не предоставлен, используется значение из конфигурации\n",
    "        return_dict = return_dict if return_dict is not None else self.config.use_return_dict\n",
    "        # Прямой проход через модель BERT\n",
    "        outputs = self.bert(\n",
    "\n",
    "            input_ids,                      # Идентификаторы токенов входных данных\n",
    "            attention_mask=attention_mask,  # Маска внимания для входных данных\n",
    "            token_type_ids=token_type_ids,  # Идентификаторы типов токенов для входных данных\n",
    "            position_ids=position_ids,      # Идентификаторы позиций для входных данных\n",
    "            head_mask=head_mask,            # Маска для скрытия некоторых голов внимания\n",
    "            inputs_embeds=inputs_embeds,    # Предварительно встроенные представления входных данных\n",
    "            output_attentions=output_attentions,        # Флаг, определяющий, следует ли возвращать внимание\n",
    "            output_hidden_states=output_hidden_states,  # Флаг, определяющий, следует ли возвращать скрытое состояние\n",
    "            return_dict=return_dict,        # Флаг, определяющий, следует ли возвращать данные в виде словаряattention_mask=attention_mask,\n",
    "\n",
    "        )\n",
    "        # Извлечение выхода пула из выходов BERT\n",
    "        pooled_output = outputs[1]\n",
    "        # Применение dropout к выходу пула\n",
    "        pooled_output = self.dropout(pooled_output)\n",
    "        # Пропускание выхода пула через классификатор\n",
    "        logits = self.classifier(pooled_output)\n",
    "\n",
    "         # Если предоставлены метки, вычисление потерь\n",
    "        if labels is not None:\n",
    "            # Если число меток равно 1, то задача регрессии\n",
    "            if self.num_labels == 1:\n",
    "                # задача регрессии\n",
    "                loss_fct = torch.nn.MSELoss()\n",
    "                loss = loss_fct(logits.view(-1), labels.view(-1))\n",
    "            else:\n",
    "                # Используем кросс-энтропию для вычисления потери в задаче классификации\n",
    "                loss_fct = torch.nn.CrossEntropyLoss()\n",
    "                loss = loss_fct(logits.view(-1, self.num_labels), labels.view(-1))\n",
    "\n",
    "            # Если не нужно возвращать словарь, то возвращаем кортеж из потерь, логитов и других выходных данных\n",
    "            if not return_dict:\n",
    "                output = (logits,) + outputs[2:]\n",
    "                return ((loss,) + output) if loss is not None else output\n",
    "\n",
    "            # Иначе возвращаем выходные данные в виде объекта SequenceClassifierOutput\n",
    "            return transformers.modeling_outputs.SequenceClassifierOutput(\n",
    "                loss=loss,\n",
    "                logits=logits,\n",
    "                hidden_states=outputs.hidden_states,\n",
    "                attentions=outputs.attentions,\n",
    "            )\n",
    "        # Если метки не предоставлены, то просто возвращаем логиты и другие выходные данные\n",
    "        if not return_dict:\n",
    "            output = (logits,) + outputs[2:]\n",
    "            return output\n",
    "        # Иначе возвращаем выходные данные в виде объекта SequenceClassifierOutput\n",
    "        return transformers.modeling_outputs.SequenceClassifierOutput(\n",
    "            logits=logits,\n",
    "            hidden_states=outputs.hidden_states,\n",
    "            attentions=outputs.attentions,\n",
    "        )\n",
    "\n",
    "# Используйте классификатор\n",
    "model = BertForSequenceClassification(model.config)\n",
    "\n",
    "# Теперь вы можете использовать свой классификатор в процессе обучен"
   ],
   "metadata": {
    "collapsed": false,
    "ExecuteTime": {
     "end_time": "2023-06-15T22:25:20.079421Z",
     "start_time": "2023-06-15T22:25:17.637689500Z"
    }
   }
  },
  {
   "cell_type": "markdown",
   "source": [
    "Это дает более детальный обзор модели, включая размеры входов и выходов для каждого слоя и количество параметров."
   ],
   "metadata": {
    "collapsed": false
   }
  },
  {
   "cell_type": "code",
   "execution_count": null,
   "outputs": [],
   "source": [
    "model.config"
   ],
   "metadata": {
    "collapsed": false
   }
  },
  {
   "cell_type": "code",
   "execution_count": 38,
   "outputs": [
    {
     "name": "stdout",
     "output_type": "stream",
     "text": [
      "bert.embeddings.word_embeddings.weight torch.Size([30522, 768])\n",
      "bert.embeddings.position_embeddings.weight torch.Size([512, 768])\n",
      "bert.embeddings.token_type_embeddings.weight torch.Size([2, 768])\n",
      "bert.embeddings.LayerNorm.weight torch.Size([768])\n",
      "bert.embeddings.LayerNorm.bias torch.Size([768])\n",
      "bert.encoder.layer.0.attention.self.query.weight torch.Size([768, 768])\n",
      "bert.encoder.layer.0.attention.self.query.bias torch.Size([768])\n",
      "bert.encoder.layer.0.attention.self.key.weight torch.Size([768, 768])\n",
      "bert.encoder.layer.0.attention.self.key.bias torch.Size([768])\n",
      "bert.encoder.layer.0.attention.self.value.weight torch.Size([768, 768])\n",
      "bert.encoder.layer.0.attention.self.value.bias torch.Size([768])\n",
      "bert.encoder.layer.0.attention.output.dense.weight torch.Size([768, 768])\n",
      "bert.encoder.layer.0.attention.output.dense.bias torch.Size([768])\n",
      "bert.encoder.layer.0.attention.output.LayerNorm.weight torch.Size([768])\n",
      "bert.encoder.layer.0.attention.output.LayerNorm.bias torch.Size([768])\n",
      "bert.encoder.layer.0.intermediate.dense.weight torch.Size([3072, 768])\n",
      "bert.encoder.layer.0.intermediate.dense.bias torch.Size([3072])\n",
      "bert.encoder.layer.0.output.dense.weight torch.Size([768, 3072])\n",
      "bert.encoder.layer.0.output.dense.bias torch.Size([768])\n",
      "bert.encoder.layer.0.output.LayerNorm.weight torch.Size([768])\n",
      "bert.encoder.layer.0.output.LayerNorm.bias torch.Size([768])\n",
      "bert.encoder.layer.1.attention.self.query.weight torch.Size([768, 768])\n",
      "bert.encoder.layer.1.attention.self.query.bias torch.Size([768])\n",
      "bert.encoder.layer.1.attention.self.key.weight torch.Size([768, 768])\n",
      "bert.encoder.layer.1.attention.self.key.bias torch.Size([768])\n",
      "bert.encoder.layer.1.attention.self.value.weight torch.Size([768, 768])\n",
      "bert.encoder.layer.1.attention.self.value.bias torch.Size([768])\n",
      "bert.encoder.layer.1.attention.output.dense.weight torch.Size([768, 768])\n",
      "bert.encoder.layer.1.attention.output.dense.bias torch.Size([768])\n",
      "bert.encoder.layer.1.attention.output.LayerNorm.weight torch.Size([768])\n",
      "bert.encoder.layer.1.attention.output.LayerNorm.bias torch.Size([768])\n",
      "bert.encoder.layer.1.intermediate.dense.weight torch.Size([3072, 768])\n",
      "bert.encoder.layer.1.intermediate.dense.bias torch.Size([3072])\n",
      "bert.encoder.layer.1.output.dense.weight torch.Size([768, 3072])\n",
      "bert.encoder.layer.1.output.dense.bias torch.Size([768])\n",
      "bert.encoder.layer.1.output.LayerNorm.weight torch.Size([768])\n",
      "bert.encoder.layer.1.output.LayerNorm.bias torch.Size([768])\n",
      "bert.encoder.layer.2.attention.self.query.weight torch.Size([768, 768])\n",
      "bert.encoder.layer.2.attention.self.query.bias torch.Size([768])\n",
      "bert.encoder.layer.2.attention.self.key.weight torch.Size([768, 768])\n",
      "bert.encoder.layer.2.attention.self.key.bias torch.Size([768])\n",
      "bert.encoder.layer.2.attention.self.value.weight torch.Size([768, 768])\n",
      "bert.encoder.layer.2.attention.self.value.bias torch.Size([768])\n",
      "bert.encoder.layer.2.attention.output.dense.weight torch.Size([768, 768])\n",
      "bert.encoder.layer.2.attention.output.dense.bias torch.Size([768])\n",
      "bert.encoder.layer.2.attention.output.LayerNorm.weight torch.Size([768])\n",
      "bert.encoder.layer.2.attention.output.LayerNorm.bias torch.Size([768])\n",
      "bert.encoder.layer.2.intermediate.dense.weight torch.Size([3072, 768])\n",
      "bert.encoder.layer.2.intermediate.dense.bias torch.Size([3072])\n",
      "bert.encoder.layer.2.output.dense.weight torch.Size([768, 3072])\n",
      "bert.encoder.layer.2.output.dense.bias torch.Size([768])\n",
      "bert.encoder.layer.2.output.LayerNorm.weight torch.Size([768])\n",
      "bert.encoder.layer.2.output.LayerNorm.bias torch.Size([768])\n",
      "bert.encoder.layer.3.attention.self.query.weight torch.Size([768, 768])\n",
      "bert.encoder.layer.3.attention.self.query.bias torch.Size([768])\n",
      "bert.encoder.layer.3.attention.self.key.weight torch.Size([768, 768])\n",
      "bert.encoder.layer.3.attention.self.key.bias torch.Size([768])\n",
      "bert.encoder.layer.3.attention.self.value.weight torch.Size([768, 768])\n",
      "bert.encoder.layer.3.attention.self.value.bias torch.Size([768])\n",
      "bert.encoder.layer.3.attention.output.dense.weight torch.Size([768, 768])\n",
      "bert.encoder.layer.3.attention.output.dense.bias torch.Size([768])\n",
      "bert.encoder.layer.3.attention.output.LayerNorm.weight torch.Size([768])\n",
      "bert.encoder.layer.3.attention.output.LayerNorm.bias torch.Size([768])\n",
      "bert.encoder.layer.3.intermediate.dense.weight torch.Size([3072, 768])\n",
      "bert.encoder.layer.3.intermediate.dense.bias torch.Size([3072])\n",
      "bert.encoder.layer.3.output.dense.weight torch.Size([768, 3072])\n",
      "bert.encoder.layer.3.output.dense.bias torch.Size([768])\n",
      "bert.encoder.layer.3.output.LayerNorm.weight torch.Size([768])\n",
      "bert.encoder.layer.3.output.LayerNorm.bias torch.Size([768])\n",
      "bert.encoder.layer.4.attention.self.query.weight torch.Size([768, 768])\n",
      "bert.encoder.layer.4.attention.self.query.bias torch.Size([768])\n",
      "bert.encoder.layer.4.attention.self.key.weight torch.Size([768, 768])\n",
      "bert.encoder.layer.4.attention.self.key.bias torch.Size([768])\n",
      "bert.encoder.layer.4.attention.self.value.weight torch.Size([768, 768])\n",
      "bert.encoder.layer.4.attention.self.value.bias torch.Size([768])\n",
      "bert.encoder.layer.4.attention.output.dense.weight torch.Size([768, 768])\n",
      "bert.encoder.layer.4.attention.output.dense.bias torch.Size([768])\n",
      "bert.encoder.layer.4.attention.output.LayerNorm.weight torch.Size([768])\n",
      "bert.encoder.layer.4.attention.output.LayerNorm.bias torch.Size([768])\n",
      "bert.encoder.layer.4.intermediate.dense.weight torch.Size([3072, 768])\n",
      "bert.encoder.layer.4.intermediate.dense.bias torch.Size([3072])\n",
      "bert.encoder.layer.4.output.dense.weight torch.Size([768, 3072])\n",
      "bert.encoder.layer.4.output.dense.bias torch.Size([768])\n",
      "bert.encoder.layer.4.output.LayerNorm.weight torch.Size([768])\n",
      "bert.encoder.layer.4.output.LayerNorm.bias torch.Size([768])\n",
      "bert.encoder.layer.5.attention.self.query.weight torch.Size([768, 768])\n",
      "bert.encoder.layer.5.attention.self.query.bias torch.Size([768])\n",
      "bert.encoder.layer.5.attention.self.key.weight torch.Size([768, 768])\n",
      "bert.encoder.layer.5.attention.self.key.bias torch.Size([768])\n",
      "bert.encoder.layer.5.attention.self.value.weight torch.Size([768, 768])\n",
      "bert.encoder.layer.5.attention.self.value.bias torch.Size([768])\n",
      "bert.encoder.layer.5.attention.output.dense.weight torch.Size([768, 768])\n",
      "bert.encoder.layer.5.attention.output.dense.bias torch.Size([768])\n",
      "bert.encoder.layer.5.attention.output.LayerNorm.weight torch.Size([768])\n",
      "bert.encoder.layer.5.attention.output.LayerNorm.bias torch.Size([768])\n",
      "bert.encoder.layer.5.intermediate.dense.weight torch.Size([3072, 768])\n",
      "bert.encoder.layer.5.intermediate.dense.bias torch.Size([3072])\n",
      "bert.encoder.layer.5.output.dense.weight torch.Size([768, 3072])\n",
      "bert.encoder.layer.5.output.dense.bias torch.Size([768])\n",
      "bert.encoder.layer.5.output.LayerNorm.weight torch.Size([768])\n",
      "bert.encoder.layer.5.output.LayerNorm.bias torch.Size([768])\n",
      "bert.encoder.layer.6.attention.self.query.weight torch.Size([768, 768])\n",
      "bert.encoder.layer.6.attention.self.query.bias torch.Size([768])\n",
      "bert.encoder.layer.6.attention.self.key.weight torch.Size([768, 768])\n",
      "bert.encoder.layer.6.attention.self.key.bias torch.Size([768])\n",
      "bert.encoder.layer.6.attention.self.value.weight torch.Size([768, 768])\n",
      "bert.encoder.layer.6.attention.self.value.bias torch.Size([768])\n",
      "bert.encoder.layer.6.attention.output.dense.weight torch.Size([768, 768])\n",
      "bert.encoder.layer.6.attention.output.dense.bias torch.Size([768])\n",
      "bert.encoder.layer.6.attention.output.LayerNorm.weight torch.Size([768])\n",
      "bert.encoder.layer.6.attention.output.LayerNorm.bias torch.Size([768])\n",
      "bert.encoder.layer.6.intermediate.dense.weight torch.Size([3072, 768])\n",
      "bert.encoder.layer.6.intermediate.dense.bias torch.Size([3072])\n",
      "bert.encoder.layer.6.output.dense.weight torch.Size([768, 3072])\n",
      "bert.encoder.layer.6.output.dense.bias torch.Size([768])\n",
      "bert.encoder.layer.6.output.LayerNorm.weight torch.Size([768])\n",
      "bert.encoder.layer.6.output.LayerNorm.bias torch.Size([768])\n",
      "bert.encoder.layer.7.attention.self.query.weight torch.Size([768, 768])\n",
      "bert.encoder.layer.7.attention.self.query.bias torch.Size([768])\n",
      "bert.encoder.layer.7.attention.self.key.weight torch.Size([768, 768])\n",
      "bert.encoder.layer.7.attention.self.key.bias torch.Size([768])\n",
      "bert.encoder.layer.7.attention.self.value.weight torch.Size([768, 768])\n",
      "bert.encoder.layer.7.attention.self.value.bias torch.Size([768])\n",
      "bert.encoder.layer.7.attention.output.dense.weight torch.Size([768, 768])\n",
      "bert.encoder.layer.7.attention.output.dense.bias torch.Size([768])\n",
      "bert.encoder.layer.7.attention.output.LayerNorm.weight torch.Size([768])\n",
      "bert.encoder.layer.7.attention.output.LayerNorm.bias torch.Size([768])\n",
      "bert.encoder.layer.7.intermediate.dense.weight torch.Size([3072, 768])\n",
      "bert.encoder.layer.7.intermediate.dense.bias torch.Size([3072])\n",
      "bert.encoder.layer.7.output.dense.weight torch.Size([768, 3072])\n",
      "bert.encoder.layer.7.output.dense.bias torch.Size([768])\n",
      "bert.encoder.layer.7.output.LayerNorm.weight torch.Size([768])\n",
      "bert.encoder.layer.7.output.LayerNorm.bias torch.Size([768])\n",
      "bert.encoder.layer.8.attention.self.query.weight torch.Size([768, 768])\n",
      "bert.encoder.layer.8.attention.self.query.bias torch.Size([768])\n",
      "bert.encoder.layer.8.attention.self.key.weight torch.Size([768, 768])\n",
      "bert.encoder.layer.8.attention.self.key.bias torch.Size([768])\n",
      "bert.encoder.layer.8.attention.self.value.weight torch.Size([768, 768])\n",
      "bert.encoder.layer.8.attention.self.value.bias torch.Size([768])\n",
      "bert.encoder.layer.8.attention.output.dense.weight torch.Size([768, 768])\n",
      "bert.encoder.layer.8.attention.output.dense.bias torch.Size([768])\n",
      "bert.encoder.layer.8.attention.output.LayerNorm.weight torch.Size([768])\n",
      "bert.encoder.layer.8.attention.output.LayerNorm.bias torch.Size([768])\n",
      "bert.encoder.layer.8.intermediate.dense.weight torch.Size([3072, 768])\n",
      "bert.encoder.layer.8.intermediate.dense.bias torch.Size([3072])\n",
      "bert.encoder.layer.8.output.dense.weight torch.Size([768, 3072])\n",
      "bert.encoder.layer.8.output.dense.bias torch.Size([768])\n",
      "bert.encoder.layer.8.output.LayerNorm.weight torch.Size([768])\n",
      "bert.encoder.layer.8.output.LayerNorm.bias torch.Size([768])\n",
      "bert.encoder.layer.9.attention.self.query.weight torch.Size([768, 768])\n",
      "bert.encoder.layer.9.attention.self.query.bias torch.Size([768])\n",
      "bert.encoder.layer.9.attention.self.key.weight torch.Size([768, 768])\n",
      "bert.encoder.layer.9.attention.self.key.bias torch.Size([768])\n",
      "bert.encoder.layer.9.attention.self.value.weight torch.Size([768, 768])\n",
      "bert.encoder.layer.9.attention.self.value.bias torch.Size([768])\n",
      "bert.encoder.layer.9.attention.output.dense.weight torch.Size([768, 768])\n",
      "bert.encoder.layer.9.attention.output.dense.bias torch.Size([768])\n",
      "bert.encoder.layer.9.attention.output.LayerNorm.weight torch.Size([768])\n",
      "bert.encoder.layer.9.attention.output.LayerNorm.bias torch.Size([768])\n",
      "bert.encoder.layer.9.intermediate.dense.weight torch.Size([3072, 768])\n",
      "bert.encoder.layer.9.intermediate.dense.bias torch.Size([3072])\n",
      "bert.encoder.layer.9.output.dense.weight torch.Size([768, 3072])\n",
      "bert.encoder.layer.9.output.dense.bias torch.Size([768])\n",
      "bert.encoder.layer.9.output.LayerNorm.weight torch.Size([768])\n",
      "bert.encoder.layer.9.output.LayerNorm.bias torch.Size([768])\n",
      "bert.encoder.layer.10.attention.self.query.weight torch.Size([768, 768])\n",
      "bert.encoder.layer.10.attention.self.query.bias torch.Size([768])\n",
      "bert.encoder.layer.10.attention.self.key.weight torch.Size([768, 768])\n",
      "bert.encoder.layer.10.attention.self.key.bias torch.Size([768])\n",
      "bert.encoder.layer.10.attention.self.value.weight torch.Size([768, 768])\n",
      "bert.encoder.layer.10.attention.self.value.bias torch.Size([768])\n",
      "bert.encoder.layer.10.attention.output.dense.weight torch.Size([768, 768])\n",
      "bert.encoder.layer.10.attention.output.dense.bias torch.Size([768])\n",
      "bert.encoder.layer.10.attention.output.LayerNorm.weight torch.Size([768])\n",
      "bert.encoder.layer.10.attention.output.LayerNorm.bias torch.Size([768])\n",
      "bert.encoder.layer.10.intermediate.dense.weight torch.Size([3072, 768])\n",
      "bert.encoder.layer.10.intermediate.dense.bias torch.Size([3072])\n",
      "bert.encoder.layer.10.output.dense.weight torch.Size([768, 3072])\n",
      "bert.encoder.layer.10.output.dense.bias torch.Size([768])\n",
      "bert.encoder.layer.10.output.LayerNorm.weight torch.Size([768])\n",
      "bert.encoder.layer.10.output.LayerNorm.bias torch.Size([768])\n",
      "bert.encoder.layer.11.attention.self.query.weight torch.Size([768, 768])\n",
      "bert.encoder.layer.11.attention.self.query.bias torch.Size([768])\n",
      "bert.encoder.layer.11.attention.self.key.weight torch.Size([768, 768])\n",
      "bert.encoder.layer.11.attention.self.key.bias torch.Size([768])\n",
      "bert.encoder.layer.11.attention.self.value.weight torch.Size([768, 768])\n",
      "bert.encoder.layer.11.attention.self.value.bias torch.Size([768])\n",
      "bert.encoder.layer.11.attention.output.dense.weight torch.Size([768, 768])\n",
      "bert.encoder.layer.11.attention.output.dense.bias torch.Size([768])\n",
      "bert.encoder.layer.11.attention.output.LayerNorm.weight torch.Size([768])\n",
      "bert.encoder.layer.11.attention.output.LayerNorm.bias torch.Size([768])\n",
      "bert.encoder.layer.11.intermediate.dense.weight torch.Size([3072, 768])\n",
      "bert.encoder.layer.11.intermediate.dense.bias torch.Size([3072])\n",
      "bert.encoder.layer.11.output.dense.weight torch.Size([768, 3072])\n",
      "bert.encoder.layer.11.output.dense.bias torch.Size([768])\n",
      "bert.encoder.layer.11.output.LayerNorm.weight torch.Size([768])\n",
      "bert.encoder.layer.11.output.LayerNorm.bias torch.Size([768])\n",
      "bert.pooler.dense.weight torch.Size([768, 768])\n",
      "bert.pooler.dense.bias torch.Size([768])\n",
      "classifier.weight torch.Size([6, 768])\n",
      "classifier.bias torch.Size([6])\n"
     ]
    }
   ],
   "source": [
    "# Параметры и слои\n",
    "for name, param in model.named_parameters():\n",
    "    print(name, param.size())"
   ],
   "metadata": {
    "collapsed": false,
    "ExecuteTime": {
     "end_time": "2023-06-15T22:25:20.083421100Z",
     "start_time": "2023-06-15T22:25:20.047183Z"
    }
   }
  },
  {
   "cell_type": "code",
   "execution_count": 39,
   "metadata": {
    "id": "NmGop4GoTBZC",
    "ExecuteTime": {
     "end_time": "2023-06-15T22:25:20.084420400Z",
     "start_time": "2023-06-15T22:25:20.057249100Z"
    }
   },
   "outputs": [],
   "source": [
    " # Определение класса CustomDataset, который наследуется от класса Dataset в PyTorch\n",
    "class CustomDataset(Dataset):\n",
    "\n",
    "    # Определение функции __init__, которая выполняется при создании объекта CustomDataset\n",
    "    # Эта функция принимает два аргумента: encodings и labels\n",
    "    def __init__(self, encodings, labels):\n",
    "        # Сохранение данных кодирования и меток в переменных экземпляра класса\n",
    "        self.encodings = encodings\n",
    "        self.labels = labels\n",
    "\n",
    "    # Определение функции __getitem__, которая выполняется при получении элемента датасета по индексу\n",
    "    def __getitem__(self, idx):\n",
    "        # Формирование элемента датасета, преобразовывая все значения в тензоры PyTorch\n",
    "        item = {key: torch.tensor(val[idx]) for key, val in self.encodings.items()}\n",
    "        # Добавление метки для данного элемента\n",
    "        item['labels'] = torch.tensor(self.labels[idx])\n",
    "        # Возвращение сформированного элемента\n",
    "        return item\n",
    "\n",
    "    # Определение функции __len__, которая возвращает количество элементов в датасете\n",
    "    def __len__(self):\n",
    "        return len(self.labels)"
   ]
  },
  {
   "cell_type": "code",
   "execution_count": 40,
   "outputs": [],
   "source": [
    "# Разделение данных на обучающую, валидационную и тестовую выборки\n",
    "train_data, remaining = train_test_split(data, test_size=0.2, random_state=42)\n",
    "valid_data, test_data = train_test_split(remaining, test_size=0.5, random_state=42)\n"
   ],
   "metadata": {
    "id": "1sHdNb8MTBZC",
    "ExecuteTime": {
     "end_time": "2023-06-15T22:25:20.084420400Z",
     "start_time": "2023-06-15T22:25:20.064239600Z"
    }
   }
  },
  {
   "cell_type": "code",
   "execution_count": 41,
   "outputs": [
    {
     "data": {
      "text/plain": "((1200, 2), (150, 2), (150, 2))"
     },
     "execution_count": 41,
     "metadata": {},
     "output_type": "execute_result"
    }
   ],
   "source": [
    "train_data.shape,valid_data.shape,test_data.shape"
   ],
   "metadata": {
    "colab": {
     "base_uri": "https://localhost:8080/"
    },
    "id": "LP_RzGZ4TBZC",
    "outputId": "d6f33e7e-9e47-4f88-c6d3-001e41beea88",
    "ExecuteTime": {
     "end_time": "2023-06-15T22:25:20.094419800Z",
     "start_time": "2023-06-15T22:25:20.073939600Z"
    }
   }
  },
  {
   "cell_type": "code",
   "execution_count": 42,
   "outputs": [],
   "source": [
    "# ТОкинезация длинна 512 и все возвращаем в вектора pyTorch\n",
    "train_encodings = tokenizer(train_data['text'].to_list(), truncation=True, padding='max_length', max_length=512, return_tensors='pt')\n",
    "valid_encodings = tokenizer(valid_data['text'].to_list(), truncation=True, padding='max_length', max_length=512, return_tensors='pt')\n",
    "test_encodings = tokenizer(test_data['text'].to_list(), truncation=True, padding='max_length', max_length=512, return_tensors='pt')\n",
    "\n",
    "\n"
   ],
   "metadata": {
    "id": "Ooo7Xi9BTBZD",
    "ExecuteTime": {
     "end_time": "2023-06-15T22:25:20.554424600Z",
     "start_time": "2023-06-15T22:25:20.080426200Z"
    }
   }
  },
  {
   "cell_type": "code",
   "execution_count": 43,
   "outputs": [],
   "source": [
    "train_labels = train_data['toxic'].to_list()\n",
    "valid_labels = valid_data['toxic'].to_list()\n",
    "test_labels = test_data['toxic'].to_list()"
   ],
   "metadata": {
    "id": "rzyV2UIcTBZD",
    "ExecuteTime": {
     "end_time": "2023-06-15T22:25:20.559895600Z",
     "start_time": "2023-06-15T22:25:20.554424600Z"
    }
   }
  },
  {
   "cell_type": "code",
   "execution_count": 44,
   "metadata": {
    "id": "NRirncUfTBZD",
    "ExecuteTime": {
     "end_time": "2023-06-15T22:25:20.566926100Z",
     "start_time": "2023-06-15T22:25:20.560919500Z"
    }
   },
   "outputs": [],
   "source": [
    "# дата сеты для тренера\n",
    "train_dataset = CustomDataset(train_encodings, train_labels)\n",
    "valid_dataset = CustomDataset(valid_encodings, valid_labels)\n",
    "test_dataset = CustomDataset(test_encodings, test_labels)"
   ]
  },
  {
   "cell_type": "code",
   "execution_count": 45,
   "outputs": [
    {
     "name": "stderr",
     "output_type": "stream",
     "text": [
      "using `logging_steps` to initialize `eval_steps` to 10\n",
      "PyTorch: setting up devices\n",
      "The default value for the training argument `--report_to` will change in v5 (from all installed integrations to none). In v5, you will need to use `--report_to all` to get the same behavior as now. You should start updating your code and make this info disappear :-).\n"
     ]
    }
   ],
   "source": [
    "#чуть переделел чтобы логи и график сходимости сделать\n",
    "training_args = TrainingArguments(\n",
    "    output_dir='./results',                  # директория для вывода результатов\n",
    "    num_train_epochs=3,                      # общее количество эпох обучения\n",
    "    per_device_train_batch_size=8,          # размер пакета данных на каждом устройстве во время обучения\n",
    "    per_device_eval_batch_size=32,           # размер пакета данных на каждом устройстве во время оценки\n",
    "    warmup_steps=500,                        # количество шагов разогрева для планировщика скорости обучения\n",
    "    weight_decay=0.01,                       # сила убывания веса\n",
    "    logging_dir='./logs',                    # директория для хранения журналов\n",
    "    load_best_model_at_end=True,             # загрузка тренировочной модели для теста\n",
    "    logging_steps=10,                        # журнал и сохранение весов каждые `logging_steps`\n",
    "    evaluation_strategy='steps',             # оценка  регистрируется при каждом  `logging_steps`\n",
    "    save_strategy='steps',                   # контрольные точки модели сохраняются  `logging_steps`\n",
    "    save_steps=500,                          # контрольные точки модели сохраняются каждые `save_steps`\n",
    ")\n"
   ],
   "metadata": {
    "id": "swsZ-VXHTBZE",
    "ExecuteTime": {
     "end_time": "2023-06-15T22:25:20.629413700Z",
     "start_time": "2023-06-15T22:25:20.567914200Z"
    }
   }
  },
  {
   "cell_type": "code",
   "execution_count": 46,
   "outputs": [],
   "source": [
    "# # Функция метрики\n",
    "def compute_metrics(eval_pred):\n",
    "    predictions, labels = eval_pred\n",
    "    predictions = np.argmax(predictions, axis=1)\n",
    "    return {'f1_score': f1_score(y_true=labels, y_pred=predictions, average='weighted')}"
   ],
   "metadata": {
    "id": "5jJ1v_XmTBZE",
    "ExecuteTime": {
     "end_time": "2023-06-15T22:25:20.652428Z",
     "start_time": "2023-06-15T22:25:20.588920900Z"
    }
   }
  },
  {
   "cell_type": "code",
   "execution_count": 47,
   "metadata": {
    "id": "LAKlM0KKTBZE",
    "ExecuteTime": {
     "end_time": "2023-06-15T22:25:20.933117500Z",
     "start_time": "2023-06-15T22:25:20.593385800Z"
    }
   },
   "outputs": [],
   "source": [
    "# тренер\n",
    "trainer = Trainer(\n",
    "    model=model,                         # инициированная модель  Transformers, которую требуется обучить\n",
    "    args=training_args,                   # определенные выше аргументы обучения\n",
    "    train_dataset=train_dataset,         # обучающий датасет\n",
    "    eval_dataset=valid_dataset,          # датасет для оценки(валидации)\n",
    "    compute_metrics=compute_metrics,    # функция обратного вызова, которая вычисляет интересующие нас метрики\n",
    ")"
   ]
  },
  {
   "cell_type": "code",
   "execution_count": 48,
   "outputs": [
    {
     "name": "stderr",
     "output_type": "stream",
     "text": [
      "C:\\Users\\admin\\PycharmProjects\\venv\\Lib\\site-packages\\transformers\\optimization.py:306: FutureWarning: This implementation of AdamW is deprecated and will be removed in a future version. Use the PyTorch implementation torch.optim.AdamW instead, or set `no_deprecation_warning=True` to disable this warning\n",
      "  warnings.warn(\n",
      "***** Running training *****\n",
      "  Num examples = 1200\n",
      "  Num Epochs = 3\n",
      "  Instantaneous batch size per device = 8\n",
      "  Total train batch size (w. parallel, distributed & accumulation) = 8\n",
      "  Gradient Accumulation steps = 1\n",
      "  Total optimization steps = 450\n",
      "  Number of trainable parameters = 109486854\n",
      "C:\\Temp\\ipykernel_7132\\817352437.py:14: UserWarning: To copy construct from a tensor, it is recommended to use sourceTensor.clone().detach() or sourceTensor.clone().detach().requires_grad_(True), rather than torch.tensor(sourceTensor).\n",
      "  item = {key: torch.tensor(val[idx]) for key, val in self.encodings.items()}\n"
     ]
    },
    {
     "data": {
      "text/plain": "<IPython.core.display.HTML object>",
      "text/html": "\n    <div>\n      \n      <progress value='2' max='450' style='width:300px; height:20px; vertical-align: middle;'></progress>\n      [  2/450 : < :, Epoch 0.01/3]\n    </div>\n    <table border=\"1\" class=\"dataframe\">\n  <thead>\n <tr style=\"text-align: left;\">\n      <th>Step</th>\n      <th>Training Loss</th>\n      <th>Validation Loss</th>\n    </tr>\n  </thead>\n  <tbody>\n  </tbody>\n</table><p>"
     },
     "metadata": {},
     "output_type": "display_data"
    },
    {
     "name": "stderr",
     "output_type": "stream",
     "text": [
      "***** Running Evaluation *****\n",
      "  Num examples = 150\n",
      "  Batch size = 32\n",
      "C:\\Temp\\ipykernel_7132\\817352437.py:14: UserWarning: To copy construct from a tensor, it is recommended to use sourceTensor.clone().detach() or sourceTensor.clone().detach().requires_grad_(True), rather than torch.tensor(sourceTensor).\n",
      "  item = {key: torch.tensor(val[idx]) for key, val in self.encodings.items()}\n",
      "***** Running Evaluation *****\n",
      "  Num examples = 150\n",
      "  Batch size = 32\n",
      "C:\\Temp\\ipykernel_7132\\817352437.py:14: UserWarning: To copy construct from a tensor, it is recommended to use sourceTensor.clone().detach() or sourceTensor.clone().detach().requires_grad_(True), rather than torch.tensor(sourceTensor).\n",
      "  item = {key: torch.tensor(val[idx]) for key, val in self.encodings.items()}\n",
      "***** Running Evaluation *****\n",
      "  Num examples = 150\n",
      "  Batch size = 32\n",
      "C:\\Temp\\ipykernel_7132\\817352437.py:14: UserWarning: To copy construct from a tensor, it is recommended to use sourceTensor.clone().detach() or sourceTensor.clone().detach().requires_grad_(True), rather than torch.tensor(sourceTensor).\n",
      "  item = {key: torch.tensor(val[idx]) for key, val in self.encodings.items()}\n",
      "***** Running Evaluation *****\n",
      "  Num examples = 150\n",
      "  Batch size = 32\n",
      "C:\\Temp\\ipykernel_7132\\817352437.py:14: UserWarning: To copy construct from a tensor, it is recommended to use sourceTensor.clone().detach() or sourceTensor.clone().detach().requires_grad_(True), rather than torch.tensor(sourceTensor).\n",
      "  item = {key: torch.tensor(val[idx]) for key, val in self.encodings.items()}\n",
      "***** Running Evaluation *****\n",
      "  Num examples = 150\n",
      "  Batch size = 32\n",
      "C:\\Temp\\ipykernel_7132\\817352437.py:14: UserWarning: To copy construct from a tensor, it is recommended to use sourceTensor.clone().detach() or sourceTensor.clone().detach().requires_grad_(True), rather than torch.tensor(sourceTensor).\n",
      "  item = {key: torch.tensor(val[idx]) for key, val in self.encodings.items()}\n",
      "***** Running Evaluation *****\n",
      "  Num examples = 150\n",
      "  Batch size = 32\n",
      "C:\\Temp\\ipykernel_7132\\817352437.py:14: UserWarning: To copy construct from a tensor, it is recommended to use sourceTensor.clone().detach() or sourceTensor.clone().detach().requires_grad_(True), rather than torch.tensor(sourceTensor).\n",
      "  item = {key: torch.tensor(val[idx]) for key, val in self.encodings.items()}\n",
      "***** Running Evaluation *****\n",
      "  Num examples = 150\n",
      "  Batch size = 32\n",
      "C:\\Temp\\ipykernel_7132\\817352437.py:14: UserWarning: To copy construct from a tensor, it is recommended to use sourceTensor.clone().detach() or sourceTensor.clone().detach().requires_grad_(True), rather than torch.tensor(sourceTensor).\n",
      "  item = {key: torch.tensor(val[idx]) for key, val in self.encodings.items()}\n",
      "***** Running Evaluation *****\n",
      "  Num examples = 150\n",
      "  Batch size = 32\n",
      "C:\\Temp\\ipykernel_7132\\817352437.py:14: UserWarning: To copy construct from a tensor, it is recommended to use sourceTensor.clone().detach() or sourceTensor.clone().detach().requires_grad_(True), rather than torch.tensor(sourceTensor).\n",
      "  item = {key: torch.tensor(val[idx]) for key, val in self.encodings.items()}\n",
      "***** Running Evaluation *****\n",
      "  Num examples = 150\n",
      "  Batch size = 32\n",
      "C:\\Temp\\ipykernel_7132\\817352437.py:14: UserWarning: To copy construct from a tensor, it is recommended to use sourceTensor.clone().detach() or sourceTensor.clone().detach().requires_grad_(True), rather than torch.tensor(sourceTensor).\n",
      "  item = {key: torch.tensor(val[idx]) for key, val in self.encodings.items()}\n",
      "***** Running Evaluation *****\n",
      "  Num examples = 150\n",
      "  Batch size = 32\n",
      "C:\\Temp\\ipykernel_7132\\817352437.py:14: UserWarning: To copy construct from a tensor, it is recommended to use sourceTensor.clone().detach() or sourceTensor.clone().detach().requires_grad_(True), rather than torch.tensor(sourceTensor).\n",
      "  item = {key: torch.tensor(val[idx]) for key, val in self.encodings.items()}\n",
      "***** Running Evaluation *****\n",
      "  Num examples = 150\n",
      "  Batch size = 32\n",
      "C:\\Temp\\ipykernel_7132\\817352437.py:14: UserWarning: To copy construct from a tensor, it is recommended to use sourceTensor.clone().detach() or sourceTensor.clone().detach().requires_grad_(True), rather than torch.tensor(sourceTensor).\n",
      "  item = {key: torch.tensor(val[idx]) for key, val in self.encodings.items()}\n",
      "***** Running Evaluation *****\n",
      "  Num examples = 150\n",
      "  Batch size = 32\n",
      "C:\\Temp\\ipykernel_7132\\817352437.py:14: UserWarning: To copy construct from a tensor, it is recommended to use sourceTensor.clone().detach() or sourceTensor.clone().detach().requires_grad_(True), rather than torch.tensor(sourceTensor).\n",
      "  item = {key: torch.tensor(val[idx]) for key, val in self.encodings.items()}\n",
      "***** Running Evaluation *****\n",
      "  Num examples = 150\n",
      "  Batch size = 32\n",
      "C:\\Temp\\ipykernel_7132\\817352437.py:14: UserWarning: To copy construct from a tensor, it is recommended to use sourceTensor.clone().detach() or sourceTensor.clone().detach().requires_grad_(True), rather than torch.tensor(sourceTensor).\n",
      "  item = {key: torch.tensor(val[idx]) for key, val in self.encodings.items()}\n",
      "***** Running Evaluation *****\n",
      "  Num examples = 150\n",
      "  Batch size = 32\n",
      "C:\\Temp\\ipykernel_7132\\817352437.py:14: UserWarning: To copy construct from a tensor, it is recommended to use sourceTensor.clone().detach() or sourceTensor.clone().detach().requires_grad_(True), rather than torch.tensor(sourceTensor).\n",
      "  item = {key: torch.tensor(val[idx]) for key, val in self.encodings.items()}\n",
      "***** Running Evaluation *****\n",
      "  Num examples = 150\n",
      "  Batch size = 32\n",
      "C:\\Temp\\ipykernel_7132\\817352437.py:14: UserWarning: To copy construct from a tensor, it is recommended to use sourceTensor.clone().detach() or sourceTensor.clone().detach().requires_grad_(True), rather than torch.tensor(sourceTensor).\n",
      "  item = {key: torch.tensor(val[idx]) for key, val in self.encodings.items()}\n",
      "***** Running Evaluation *****\n",
      "  Num examples = 150\n",
      "  Batch size = 32\n",
      "C:\\Temp\\ipykernel_7132\\817352437.py:14: UserWarning: To copy construct from a tensor, it is recommended to use sourceTensor.clone().detach() or sourceTensor.clone().detach().requires_grad_(True), rather than torch.tensor(sourceTensor).\n",
      "  item = {key: torch.tensor(val[idx]) for key, val in self.encodings.items()}\n",
      "***** Running Evaluation *****\n",
      "  Num examples = 150\n",
      "  Batch size = 32\n",
      "C:\\Temp\\ipykernel_7132\\817352437.py:14: UserWarning: To copy construct from a tensor, it is recommended to use sourceTensor.clone().detach() or sourceTensor.clone().detach().requires_grad_(True), rather than torch.tensor(sourceTensor).\n",
      "  item = {key: torch.tensor(val[idx]) for key, val in self.encodings.items()}\n",
      "***** Running Evaluation *****\n",
      "  Num examples = 150\n",
      "  Batch size = 32\n",
      "C:\\Temp\\ipykernel_7132\\817352437.py:14: UserWarning: To copy construct from a tensor, it is recommended to use sourceTensor.clone().detach() or sourceTensor.clone().detach().requires_grad_(True), rather than torch.tensor(sourceTensor).\n",
      "  item = {key: torch.tensor(val[idx]) for key, val in self.encodings.items()}\n",
      "***** Running Evaluation *****\n",
      "  Num examples = 150\n",
      "  Batch size = 32\n",
      "C:\\Temp\\ipykernel_7132\\817352437.py:14: UserWarning: To copy construct from a tensor, it is recommended to use sourceTensor.clone().detach() or sourceTensor.clone().detach().requires_grad_(True), rather than torch.tensor(sourceTensor).\n",
      "  item = {key: torch.tensor(val[idx]) for key, val in self.encodings.items()}\n",
      "***** Running Evaluation *****\n",
      "  Num examples = 150\n",
      "  Batch size = 32\n",
      "C:\\Temp\\ipykernel_7132\\817352437.py:14: UserWarning: To copy construct from a tensor, it is recommended to use sourceTensor.clone().detach() or sourceTensor.clone().detach().requires_grad_(True), rather than torch.tensor(sourceTensor).\n",
      "  item = {key: torch.tensor(val[idx]) for key, val in self.encodings.items()}\n",
      "***** Running Evaluation *****\n",
      "  Num examples = 150\n",
      "  Batch size = 32\n",
      "C:\\Temp\\ipykernel_7132\\817352437.py:14: UserWarning: To copy construct from a tensor, it is recommended to use sourceTensor.clone().detach() or sourceTensor.clone().detach().requires_grad_(True), rather than torch.tensor(sourceTensor).\n",
      "  item = {key: torch.tensor(val[idx]) for key, val in self.encodings.items()}\n",
      "***** Running Evaluation *****\n",
      "  Num examples = 150\n",
      "  Batch size = 32\n",
      "C:\\Temp\\ipykernel_7132\\817352437.py:14: UserWarning: To copy construct from a tensor, it is recommended to use sourceTensor.clone().detach() or sourceTensor.clone().detach().requires_grad_(True), rather than torch.tensor(sourceTensor).\n",
      "  item = {key: torch.tensor(val[idx]) for key, val in self.encodings.items()}\n",
      "***** Running Evaluation *****\n",
      "  Num examples = 150\n",
      "  Batch size = 32\n",
      "C:\\Temp\\ipykernel_7132\\817352437.py:14: UserWarning: To copy construct from a tensor, it is recommended to use sourceTensor.clone().detach() or sourceTensor.clone().detach().requires_grad_(True), rather than torch.tensor(sourceTensor).\n",
      "  item = {key: torch.tensor(val[idx]) for key, val in self.encodings.items()}\n",
      "***** Running Evaluation *****\n",
      "  Num examples = 150\n",
      "  Batch size = 32\n",
      "C:\\Temp\\ipykernel_7132\\817352437.py:14: UserWarning: To copy construct from a tensor, it is recommended to use sourceTensor.clone().detach() or sourceTensor.clone().detach().requires_grad_(True), rather than torch.tensor(sourceTensor).\n",
      "  item = {key: torch.tensor(val[idx]) for key, val in self.encodings.items()}\n",
      "***** Running Evaluation *****\n",
      "  Num examples = 150\n",
      "  Batch size = 32\n",
      "C:\\Temp\\ipykernel_7132\\817352437.py:14: UserWarning: To copy construct from a tensor, it is recommended to use sourceTensor.clone().detach() or sourceTensor.clone().detach().requires_grad_(True), rather than torch.tensor(sourceTensor).\n",
      "  item = {key: torch.tensor(val[idx]) for key, val in self.encodings.items()}\n",
      "***** Running Evaluation *****\n",
      "  Num examples = 150\n",
      "  Batch size = 32\n",
      "C:\\Temp\\ipykernel_7132\\817352437.py:14: UserWarning: To copy construct from a tensor, it is recommended to use sourceTensor.clone().detach() or sourceTensor.clone().detach().requires_grad_(True), rather than torch.tensor(sourceTensor).\n",
      "  item = {key: torch.tensor(val[idx]) for key, val in self.encodings.items()}\n",
      "***** Running Evaluation *****\n",
      "  Num examples = 150\n",
      "  Batch size = 32\n",
      "C:\\Temp\\ipykernel_7132\\817352437.py:14: UserWarning: To copy construct from a tensor, it is recommended to use sourceTensor.clone().detach() or sourceTensor.clone().detach().requires_grad_(True), rather than torch.tensor(sourceTensor).\n",
      "  item = {key: torch.tensor(val[idx]) for key, val in self.encodings.items()}\n",
      "***** Running Evaluation *****\n",
      "  Num examples = 150\n",
      "  Batch size = 32\n",
      "C:\\Temp\\ipykernel_7132\\817352437.py:14: UserWarning: To copy construct from a tensor, it is recommended to use sourceTensor.clone().detach() or sourceTensor.clone().detach().requires_grad_(True), rather than torch.tensor(sourceTensor).\n",
      "  item = {key: torch.tensor(val[idx]) for key, val in self.encodings.items()}\n",
      "***** Running Evaluation *****\n",
      "  Num examples = 150\n",
      "  Batch size = 32\n",
      "C:\\Temp\\ipykernel_7132\\817352437.py:14: UserWarning: To copy construct from a tensor, it is recommended to use sourceTensor.clone().detach() or sourceTensor.clone().detach().requires_grad_(True), rather than torch.tensor(sourceTensor).\n",
      "  item = {key: torch.tensor(val[idx]) for key, val in self.encodings.items()}\n",
      "***** Running Evaluation *****\n",
      "  Num examples = 150\n",
      "  Batch size = 32\n",
      "C:\\Temp\\ipykernel_7132\\817352437.py:14: UserWarning: To copy construct from a tensor, it is recommended to use sourceTensor.clone().detach() or sourceTensor.clone().detach().requires_grad_(True), rather than torch.tensor(sourceTensor).\n",
      "  item = {key: torch.tensor(val[idx]) for key, val in self.encodings.items()}\n",
      "***** Running Evaluation *****\n",
      "  Num examples = 150\n",
      "  Batch size = 32\n",
      "C:\\Temp\\ipykernel_7132\\817352437.py:14: UserWarning: To copy construct from a tensor, it is recommended to use sourceTensor.clone().detach() or sourceTensor.clone().detach().requires_grad_(True), rather than torch.tensor(sourceTensor).\n",
      "  item = {key: torch.tensor(val[idx]) for key, val in self.encodings.items()}\n",
      "***** Running Evaluation *****\n",
      "  Num examples = 150\n",
      "  Batch size = 32\n",
      "C:\\Temp\\ipykernel_7132\\817352437.py:14: UserWarning: To copy construct from a tensor, it is recommended to use sourceTensor.clone().detach() or sourceTensor.clone().detach().requires_grad_(True), rather than torch.tensor(sourceTensor).\n",
      "  item = {key: torch.tensor(val[idx]) for key, val in self.encodings.items()}\n",
      "***** Running Evaluation *****\n",
      "  Num examples = 150\n",
      "  Batch size = 32\n",
      "C:\\Temp\\ipykernel_7132\\817352437.py:14: UserWarning: To copy construct from a tensor, it is recommended to use sourceTensor.clone().detach() or sourceTensor.clone().detach().requires_grad_(True), rather than torch.tensor(sourceTensor).\n",
      "  item = {key: torch.tensor(val[idx]) for key, val in self.encodings.items()}\n",
      "***** Running Evaluation *****\n",
      "  Num examples = 150\n",
      "  Batch size = 32\n",
      "C:\\Temp\\ipykernel_7132\\817352437.py:14: UserWarning: To copy construct from a tensor, it is recommended to use sourceTensor.clone().detach() or sourceTensor.clone().detach().requires_grad_(True), rather than torch.tensor(sourceTensor).\n",
      "  item = {key: torch.tensor(val[idx]) for key, val in self.encodings.items()}\n",
      "***** Running Evaluation *****\n",
      "  Num examples = 150\n",
      "  Batch size = 32\n",
      "C:\\Temp\\ipykernel_7132\\817352437.py:14: UserWarning: To copy construct from a tensor, it is recommended to use sourceTensor.clone().detach() or sourceTensor.clone().detach().requires_grad_(True), rather than torch.tensor(sourceTensor).\n",
      "  item = {key: torch.tensor(val[idx]) for key, val in self.encodings.items()}\n",
      "***** Running Evaluation *****\n",
      "  Num examples = 150\n",
      "  Batch size = 32\n",
      "C:\\Temp\\ipykernel_7132\\817352437.py:14: UserWarning: To copy construct from a tensor, it is recommended to use sourceTensor.clone().detach() or sourceTensor.clone().detach().requires_grad_(True), rather than torch.tensor(sourceTensor).\n",
      "  item = {key: torch.tensor(val[idx]) for key, val in self.encodings.items()}\n",
      "***** Running Evaluation *****\n",
      "  Num examples = 150\n",
      "  Batch size = 32\n",
      "C:\\Temp\\ipykernel_7132\\817352437.py:14: UserWarning: To copy construct from a tensor, it is recommended to use sourceTensor.clone().detach() or sourceTensor.clone().detach().requires_grad_(True), rather than torch.tensor(sourceTensor).\n",
      "  item = {key: torch.tensor(val[idx]) for key, val in self.encodings.items()}\n",
      "***** Running Evaluation *****\n",
      "  Num examples = 150\n",
      "  Batch size = 32\n",
      "C:\\Temp\\ipykernel_7132\\817352437.py:14: UserWarning: To copy construct from a tensor, it is recommended to use sourceTensor.clone().detach() or sourceTensor.clone().detach().requires_grad_(True), rather than torch.tensor(sourceTensor).\n",
      "  item = {key: torch.tensor(val[idx]) for key, val in self.encodings.items()}\n",
      "***** Running Evaluation *****\n",
      "  Num examples = 150\n",
      "  Batch size = 32\n",
      "C:\\Temp\\ipykernel_7132\\817352437.py:14: UserWarning: To copy construct from a tensor, it is recommended to use sourceTensor.clone().detach() or sourceTensor.clone().detach().requires_grad_(True), rather than torch.tensor(sourceTensor).\n",
      "  item = {key: torch.tensor(val[idx]) for key, val in self.encodings.items()}\n",
      "***** Running Evaluation *****\n",
      "  Num examples = 150\n",
      "  Batch size = 32\n",
      "C:\\Temp\\ipykernel_7132\\817352437.py:14: UserWarning: To copy construct from a tensor, it is recommended to use sourceTensor.clone().detach() or sourceTensor.clone().detach().requires_grad_(True), rather than torch.tensor(sourceTensor).\n",
      "  item = {key: torch.tensor(val[idx]) for key, val in self.encodings.items()}\n",
      "***** Running Evaluation *****\n",
      "  Num examples = 150\n",
      "  Batch size = 32\n",
      "C:\\Temp\\ipykernel_7132\\817352437.py:14: UserWarning: To copy construct from a tensor, it is recommended to use sourceTensor.clone().detach() or sourceTensor.clone().detach().requires_grad_(True), rather than torch.tensor(sourceTensor).\n",
      "  item = {key: torch.tensor(val[idx]) for key, val in self.encodings.items()}\n",
      "***** Running Evaluation *****\n",
      "  Num examples = 150\n",
      "  Batch size = 32\n",
      "C:\\Temp\\ipykernel_7132\\817352437.py:14: UserWarning: To copy construct from a tensor, it is recommended to use sourceTensor.clone().detach() or sourceTensor.clone().detach().requires_grad_(True), rather than torch.tensor(sourceTensor).\n",
      "  item = {key: torch.tensor(val[idx]) for key, val in self.encodings.items()}\n",
      "***** Running Evaluation *****\n",
      "  Num examples = 150\n",
      "  Batch size = 32\n",
      "C:\\Temp\\ipykernel_7132\\817352437.py:14: UserWarning: To copy construct from a tensor, it is recommended to use sourceTensor.clone().detach() or sourceTensor.clone().detach().requires_grad_(True), rather than torch.tensor(sourceTensor).\n",
      "  item = {key: torch.tensor(val[idx]) for key, val in self.encodings.items()}\n",
      "***** Running Evaluation *****\n",
      "  Num examples = 150\n",
      "  Batch size = 32\n",
      "C:\\Temp\\ipykernel_7132\\817352437.py:14: UserWarning: To copy construct from a tensor, it is recommended to use sourceTensor.clone().detach() or sourceTensor.clone().detach().requires_grad_(True), rather than torch.tensor(sourceTensor).\n",
      "  item = {key: torch.tensor(val[idx]) for key, val in self.encodings.items()}\n",
      "***** Running Evaluation *****\n",
      "  Num examples = 150\n",
      "  Batch size = 32\n",
      "\n",
      "\n",
      "Training completed. Do not forget to share your model on huggingface.co/models =)\n",
      "\n",
      "\n"
     ]
    },
    {
     "name": "stdout",
     "output_type": "stream",
     "text": [
      "CPU times: total: 5min 7s\n",
      "Wall time: 5min 7s\n"
     ]
    },
    {
     "data": {
      "text/plain": "TrainOutput(global_step=450, training_loss=0.2428837798991137, metrics={'train_runtime': 307.4883, 'train_samples_per_second': 11.708, 'train_steps_per_second': 1.463, 'total_flos': 947233817395200.0, 'train_loss': 0.2428837798991137, 'epoch': 3.0})"
     },
     "execution_count": 48,
     "metadata": {},
     "output_type": "execute_result"
    }
   ],
   "source": [
    "%%time\n",
    "# тренеруем модель\n",
    "trainer.train()"
   ],
   "metadata": {
    "colab": {
     "base_uri": "https://localhost:8080/",
     "height": 1000
    },
    "id": "zhoI7QF3TBZF",
    "outputId": "69b3b4e6-12f7-4fba-df5b-99616d49fa2f",
    "ExecuteTime": {
     "end_time": "2023-06-15T22:30:28.449561500Z",
     "start_time": "2023-06-15T22:25:20.934115800Z"
    }
   }
  },
  {
   "cell_type": "code",
   "execution_count": 49,
   "metadata": {
    "id": "0JicHhHeTBZF",
    "outputId": "f782399d-ba4b-49e2-abfb-620bf3b36c82",
    "colab": {
     "base_uri": "https://localhost:8080/",
     "height": 196
    },
    "ExecuteTime": {
     "end_time": "2023-06-15T22:30:30.890743100Z",
     "start_time": "2023-06-15T22:30:28.450561200Z"
    }
   },
   "outputs": [
    {
     "name": "stderr",
     "output_type": "stream",
     "text": [
      "***** Running Evaluation *****\n",
      "  Num examples = 150\n",
      "  Batch size = 32\n",
      "C:\\Temp\\ipykernel_7132\\817352437.py:14: UserWarning: To copy construct from a tensor, it is recommended to use sourceTensor.clone().detach() or sourceTensor.clone().detach().requires_grad_(True), rather than torch.tensor(sourceTensor).\n",
      "  item = {key: torch.tensor(val[idx]) for key, val in self.encodings.items()}\n"
     ]
    },
    {
     "data": {
      "text/plain": "<IPython.core.display.HTML object>",
      "text/html": "\n    <div>\n      \n      <progress value='1' max='5' style='width:300px; height:20px; vertical-align: middle;'></progress>\n      [1/5 : < :]\n    </div>\n    "
     },
     "metadata": {},
     "output_type": "display_data"
    },
    {
     "data": {
      "text/plain": "{'eval_loss': 0.03336578980088234,\n 'eval_f1_score': 0.9866666666666667,\n 'eval_runtime': 2.4251,\n 'eval_samples_per_second': 61.854,\n 'eval_steps_per_second': 2.062,\n 'epoch': 3.0}"
     },
     "execution_count": 49,
     "metadata": {},
     "output_type": "execute_result"
    }
   ],
   "source": [
    "# валидируем\n",
    "trainer.evaluate()"
   ]
  },
  {
   "cell_type": "code",
   "execution_count": 50,
   "outputs": [
    {
     "data": {
      "text/plain": "<Figure size 640x480 with 1 Axes>",
      "image/png": "[encoded data removed]"
     },
     "metadata": {},
     "output_type": "display_data"
    },
    {
     "name": "stdout",
     "output_type": "stream",
     "text": [
      "CPU times: total: 266 ms\n",
      "Wall time: 273 ms\n"
     ]
    }
   ],
   "source": [
    "%%time\n",
    "# Отображение графика сходимости\n",
    "log_df = pd.DataFrame(trainer.state.log_history)\n",
    "# Исключение строк с NaN значениями\n",
    "# Замена NaN значениями ближайших соседей\n",
    "df = pd.DataFrame()\n",
    "df['loss'] = log_df['loss'].fillna(method='ffill').fillna(method='bfill')\n",
    "df['eval_loss'] = log_df['eval_loss'].fillna(method='ffill').fillna(method='bfill')\n",
    "# Построение графиков\n",
    "plt.plot(log_df['epoch'], df['loss'], label='loss')\n",
    "plt.plot(log_df['epoch'], df['eval_loss'], label='eval_loss')\n",
    "\n",
    "# Настройки осей и легенды\n",
    "plt.title('Train, Valid Loss')\n",
    "plt.xlabel('epoch')\n",
    "plt.ylabel('loss')\n",
    "plt.legend()\n",
    "\n",
    "# Отображение графика\n",
    "plt.show()"
   ],
   "metadata": {
    "collapsed": false,
    "ExecuteTime": {
     "end_time": "2023-06-15T22:30:31.174585900Z",
     "start_time": "2023-06-15T22:30:30.889719800Z"
    }
   }
  },
  {
   "cell_type": "markdown",
   "source": [
    "### Тест"
   ],
   "metadata": {
    "collapsed": false,
    "id": "RKhcygvuTBZG"
   }
  },
  {
   "cell_type": "code",
   "execution_count": 51,
   "metadata": {
    "id": "PPrwGrOFTBZG",
    "outputId": "e38a1da9-13ab-48af-a5ae-e92fe29ac73f",
    "colab": {
     "base_uri": "https://localhost:8080/",
     "height": 231
    },
    "ExecuteTime": {
     "end_time": "2023-06-15T22:30:33.321443800Z",
     "start_time": "2023-06-15T22:30:31.172552100Z"
    }
   },
   "outputs": [
    {
     "name": "stderr",
     "output_type": "stream",
     "text": [
      "***** Running Evaluation *****\n",
      "  Num examples = 150\n",
      "  Batch size = 32\n",
      "C:\\Temp\\ipykernel_7132\\817352437.py:14: UserWarning: To copy construct from a tensor, it is recommended to use sourceTensor.clone().detach() or sourceTensor.clone().detach().requires_grad_(True), rather than torch.tensor(sourceTensor).\n",
      "  item = {key: torch.tensor(val[idx]) for key, val in self.encodings.items()}\n"
     ]
    },
    {
     "name": "stdout",
     "output_type": "stream",
     "text": [
      "CPU times: total: 2.14 s\n",
      "Wall time: 2.14 s\n"
     ]
    },
    {
     "data": {
      "text/plain": "{'eval_loss': 0.04960707202553749,\n 'eval_f1_score': 0.9809237816516098,\n 'eval_runtime': 2.139,\n 'eval_samples_per_second': 70.126,\n 'eval_steps_per_second': 2.338,\n 'epoch': 3.0}"
     },
     "execution_count": 51,
     "metadata": {},
     "output_type": "execute_result"
    }
   ],
   "source": [
    "%%time\n",
    "trainer.evaluate(test_dataset)"
   ]
  },
  {
   "cell_type": "markdown",
   "metadata": {
    "id": "n1Mg9lkRTBZH"
   },
   "source": []
  },
  {
   "cell_type": "code",
   "execution_count": 52,
   "metadata": {
    "id": "-CwtYsI2TBZH",
    "outputId": "ec7a83b4-8c64-4708-e12d-c7b41397cff3",
    "colab": {
     "base_uri": "https://localhost:8080/"
    },
    "ExecuteTime": {
     "end_time": "2023-06-15T22:30:33.326646400Z",
     "start_time": "2023-06-15T22:30:33.322440600Z"
    }
   },
   "outputs": [
    {
     "name": "stdout",
     "output_type": "stream",
     "text": [
      "код завершен, общее время 5 мин\n"
     ]
    }
   ],
   "source": [
    "# общее время выполения кода(для комфорта проверки и заботы о ревьювере=)))....код завершен, общее время 6 мин\n",
    "time_all=time.time()-start_time_all\n",
    "print('код завершен, общее время',int(time_all/60),'мин')"
   ]
  },
  {
   "cell_type": "markdown",
   "metadata": {
    "id": "caqW8R_Vmgd-"
   },
   "source": [
    "# Вывод"
   ]
  },
  {
   "cell_type": "markdown",
   "metadata": {
    "id": "Ug0JpSWZmo16"
   },
   "source": [
    "о итогу выполнения проекта, были получены эмбеддинги от BERT, на основе которых были созданы модели обучения предсказания токсичности комментариев.( итог на большой выборке)\n",
    "\n",
    "\n",
    "\n",
    "\n",
    "\n"
   ]
  },
  {
   "cell_type": "code",
   "execution_count": 52,
   "metadata": {
    "id": "PIdtwIOETBZX",
    "ExecuteTime": {
     "end_time": "2023-06-15T22:30:33.332916800Z",
     "start_time": "2023-06-15T22:30:33.327644200Z"
    }
   },
   "outputs": [],
   "source": []
  }
 ],
 "metadata": {
  "ExecuteTimeLog": [
   {
    "duration": 3,
    "start_time": "2023-06-08T01:49:10.239Z"
   },
   {
    "duration": 2,
    "start_time": "2023-06-08T01:51:06.824Z"
   },
   {
    "duration": 4050,
    "start_time": "2023-06-08T02:09:25.051Z"
   },
   {
    "duration": 4,
    "start_time": "2023-06-08T02:11:18.850Z"
   },
   {
    "duration": 3,
    "start_time": "2023-06-08T02:12:34.248Z"
   },
   {
    "duration": 2186,
    "start_time": "2023-06-08T02:12:35.677Z"
   },
   {
    "duration": 314,
    "start_time": "2023-06-08T02:12:57.445Z"
   },
   {
    "duration": 783,
    "start_time": "2023-06-08T02:13:18.858Z"
   },
   {
    "duration": 3,
    "start_time": "2023-06-08T02:13:20.332Z"
   },
   {
    "duration": 13,
    "start_time": "2023-06-08T02:14:02.322Z"
   },
   {
    "duration": 139,
    "start_time": "2023-06-08T02:15:45.277Z"
   },
   {
    "duration": 4,
    "start_time": "2023-06-08T02:15:46.030Z"
   },
   {
    "duration": 4,
    "start_time": "2023-06-08T02:15:55.293Z"
   },
   {
    "duration": 14,
    "start_time": "2023-06-08T02:15:57.053Z"
   },
   {
    "duration": 2870,
    "start_time": "2023-06-08T02:16:17.357Z"
   },
   {
    "duration": 8987,
    "start_time": "2023-06-08T02:16:21.613Z"
   },
   {
    "duration": 3,
    "start_time": "2023-06-08T02:16:30.602Z"
   },
   {
    "duration": 339,
    "start_time": "2023-06-08T02:16:30.606Z"
   },
   {
    "duration": 14,
    "start_time": "2023-06-08T02:16:30.947Z"
   },
   {
    "duration": 14,
    "start_time": "2023-06-08T02:16:44.779Z"
   },
   {
    "duration": 5,
    "start_time": "2023-06-08T18:58:25.795Z"
   },
   {
    "duration": 9,
    "start_time": "2023-06-08T18:58:26.001Z"
   },
   {
    "duration": 1477,
    "start_time": "2023-06-08T18:58:26.381Z"
   },
   {
    "duration": 9,
    "start_time": "2023-06-08T18:58:27.861Z"
   },
   {
    "duration": 16,
    "start_time": "2023-06-08T18:58:28.382Z"
   },
   {
    "duration": 254,
    "start_time": "2023-06-08T18:58:31.165Z"
   },
   {
    "duration": 5,
    "start_time": "2023-06-08T18:58:48.963Z"
   },
   {
    "duration": 12,
    "start_time": "2023-06-08T18:58:49.556Z"
   },
   {
    "duration": 587,
    "start_time": "2023-06-08T19:02:39.111Z"
   },
   {
    "duration": 7,
    "start_time": "2023-06-08T19:02:39.812Z"
   },
   {
    "duration": 8,
    "start_time": "2023-06-08T19:02:46.509Z"
   },
   {
    "duration": 2,
    "start_time": "2023-06-08T19:02:46.834Z"
   },
   {
    "duration": 1085,
    "start_time": "2023-06-08T19:02:47.673Z"
   },
   {
    "duration": 9,
    "start_time": "2023-06-08T19:02:48.760Z"
   },
   {
    "duration": 5,
    "start_time": "2023-06-08T19:02:49.256Z"
   },
   {
    "duration": 304,
    "start_time": "2023-06-08T19:02:50.477Z"
   },
   {
    "duration": 4,
    "start_time": "2023-06-08T19:02:51.465Z"
   },
   {
    "duration": 10,
    "start_time": "2023-06-08T19:02:52.432Z"
   },
   {
    "duration": 17,
    "start_time": "2023-06-08T19:02:53.142Z"
   },
   {
    "duration": 3419,
    "start_time": "2023-06-08T19:02:57.273Z"
   },
   {
    "duration": 2981,
    "start_time": "2023-06-08T19:03:00.697Z"
   },
   {
    "duration": 4,
    "start_time": "2023-06-08T19:03:03.680Z"
   },
   {
    "duration": 511,
    "start_time": "2023-06-08T19:03:03.691Z"
   },
   {
    "duration": 19,
    "start_time": "2023-06-08T19:03:04.610Z"
   },
   {
    "duration": 894039,
    "start_time": "2023-06-08T19:03:07.430Z"
   },
   {
    "duration": 3,
    "start_time": "2023-06-08T19:18:01.471Z"
   },
   {
    "duration": 262,
    "start_time": "2023-06-08T19:18:01.476Z"
   },
   {
    "duration": 84,
    "start_time": "2023-06-08T19:18:01.742Z"
   },
   {
    "duration": 160,
    "start_time": "2023-06-08T19:18:01.831Z"
   },
   {
    "duration": 7142,
    "start_time": "2023-06-08T19:18:02.000Z"
   },
   {
    "duration": 2017,
    "start_time": "2023-06-08T19:18:09.198Z"
   },
   {
    "duration": 108,
    "start_time": "2023-06-08T19:18:11.227Z"
   },
   {
    "duration": 104,
    "start_time": "2023-06-08T19:18:11.340Z"
   },
   {
    "duration": 9,
    "start_time": "2023-06-08T19:18:11.447Z"
   },
   {
    "duration": 952403,
    "start_time": "2023-06-08T19:18:11.459Z"
   },
   {
    "duration": 143146,
    "start_time": "2023-06-08T19:34:03.864Z"
   },
   {
    "duration": 64,
    "start_time": "2023-06-08T19:36:27.019Z"
   },
   {
    "duration": 45,
    "start_time": "2023-06-08T19:36:27.084Z"
   },
   {
    "duration": 12,
    "start_time": "2023-06-08T19:36:27.140Z"
   },
   {
    "duration": 11,
    "start_time": "2023-06-08T19:36:27.153Z"
   },
   {
    "duration": 674,
    "start_time": "2023-06-08T19:36:27.166Z"
   },
   {
    "duration": 26953,
    "start_time": "2023-06-08T19:36:27.843Z"
   },
   {
    "duration": 884,
    "start_time": "2023-06-08T19:36:54.797Z"
   },
   {
    "duration": 47,
    "start_time": "2023-06-08T19:36:55.690Z"
   },
   {
    "duration": 15,
    "start_time": "2023-06-08T19:36:55.740Z"
   },
   {
    "duration": 6,
    "start_time": "2023-06-08T19:36:55.758Z"
   },
   {
    "duration": 12,
    "start_time": "2023-06-08T19:36:55.765Z"
   },
   {
    "duration": 53,
    "start_time": "2023-06-08T19:36:55.779Z"
   },
   {
    "duration": 18,
    "start_time": "2023-06-08T19:36:55.834Z"
   },
   {
    "duration": 7,
    "start_time": "2023-06-08T19:36:55.854Z"
   },
   {
    "duration": 17,
    "start_time": "2023-06-08T19:36:55.863Z"
   },
   {
    "duration": 80,
    "start_time": "2023-06-08T19:36:55.884Z"
   },
   {
    "duration": 67,
    "start_time": "2023-06-08T19:36:55.967Z"
   },
   {
    "duration": 18,
    "start_time": "2023-06-08T19:36:56.036Z"
   },
   {
    "duration": 64,
    "start_time": "2023-06-08T19:36:56.056Z"
   },
   {
    "duration": 5,
    "start_time": "2023-06-09T14:09:31.136Z"
   },
   {
    "duration": 3,
    "start_time": "2023-06-09T14:09:31.781Z"
   },
   {
    "duration": 2188,
    "start_time": "2023-06-09T14:09:33.312Z"
   },
   {
    "duration": 24,
    "start_time": "2023-06-09T14:09:36.390Z"
   },
   {
    "duration": 4775,
    "start_time": "2023-06-11T16:48:34.680Z"
   },
   {
    "duration": 316,
    "start_time": "2023-06-11T16:48:39.457Z"
   },
   {
    "duration": 0,
    "start_time": "2023-06-11T16:48:39.775Z"
   },
   {
    "duration": 16,
    "start_time": "2023-06-11T16:48:40.325Z"
   },
   {
    "duration": 5,
    "start_time": "2023-06-11T16:49:10.568Z"
   },
   {
    "duration": 3,
    "start_time": "2023-06-11T16:49:11.838Z"
   },
   {
    "duration": 2438,
    "start_time": "2023-06-11T16:49:13.617Z"
   },
   {
    "duration": 34,
    "start_time": "2023-06-11T16:49:16.058Z"
   },
   {
    "duration": 4,
    "start_time": "2023-06-11T16:49:16.225Z"
   },
   {
    "duration": 5,
    "start_time": "2023-06-11T16:49:51.656Z"
   },
   {
    "duration": 6,
    "start_time": "2023-06-11T16:50:15.554Z"
   },
   {
    "duration": 819,
    "start_time": "2023-06-11T16:50:17.441Z"
   },
   {
    "duration": 5,
    "start_time": "2023-06-11T16:50:37.620Z"
   },
   {
    "duration": 10,
    "start_time": "2023-06-11T16:50:38.237Z"
   },
   {
    "duration": 840,
    "start_time": "2023-06-11T16:50:39.240Z"
   },
   {
    "duration": 35,
    "start_time": "2023-06-11T16:50:40.082Z"
   },
   {
    "duration": 4,
    "start_time": "2023-06-11T16:50:41.031Z"
   },
   {
    "duration": 4110,
    "start_time": "2023-06-11T16:50:42.016Z"
   },
   {
    "duration": 241,
    "start_time": "2023-06-11T16:50:49.213Z"
   },
   {
    "duration": 4,
    "start_time": "2023-06-11T16:51:05.583Z"
   },
   {
    "duration": 5,
    "start_time": "2023-06-11T16:51:10.407Z"
   },
   {
    "duration": 17,
    "start_time": "2023-06-11T16:51:11.757Z"
   },
   {
    "duration": 2826,
    "start_time": "2023-06-11T16:51:16.021Z"
   },
   {
    "duration": 9160,
    "start_time": "2023-06-11T16:51:18.853Z"
   },
   {
    "duration": 4,
    "start_time": "2023-06-11T16:51:28.015Z"
   },
   {
    "duration": 4786,
    "start_time": "2023-06-11T16:51:42.773Z"
   },
   {
    "duration": 2,
    "start_time": "2023-06-11T16:51:47.561Z"
   },
   {
    "duration": 827,
    "start_time": "2023-06-11T16:51:47.564Z"
   },
   {
    "duration": 40,
    "start_time": "2023-06-11T16:51:48.394Z"
   },
   {
    "duration": 6,
    "start_time": "2023-06-11T16:51:48.443Z"
   },
   {
    "duration": 4380,
    "start_time": "2023-06-11T16:51:48.450Z"
   },
   {
    "duration": 261,
    "start_time": "2023-06-11T16:51:52.833Z"
   },
   {
    "duration": 4,
    "start_time": "2023-06-11T16:51:53.096Z"
   },
   {
    "duration": 9,
    "start_time": "2023-06-11T16:51:53.103Z"
   },
   {
    "duration": 39,
    "start_time": "2023-06-11T16:51:53.115Z"
   },
   {
    "duration": 6296,
    "start_time": "2023-06-11T16:51:53.156Z"
   },
   {
    "duration": 2674,
    "start_time": "2023-06-11T16:51:59.458Z"
   },
   {
    "duration": 13,
    "start_time": "2023-06-11T16:52:02.134Z"
   },
   {
    "duration": 18585,
    "start_time": "2023-06-11T16:52:02.155Z"
   },
   {
    "duration": 33,
    "start_time": "2023-06-11T16:52:20.744Z"
   },
   {
    "duration": 4748,
    "start_time": "2023-06-11T21:51:12.791Z"
   },
   {
    "duration": 15,
    "start_time": "2023-06-11T21:51:17.540Z"
   },
   {
    "duration": 2425,
    "start_time": "2023-06-11T21:51:17.557Z"
   },
   {
    "duration": 37,
    "start_time": "2023-06-11T21:51:19.983Z"
   },
   {
    "duration": 5,
    "start_time": "2023-06-11T21:51:20.023Z"
   },
   {
    "duration": 4060,
    "start_time": "2023-06-11T21:51:20.030Z"
   },
   {
    "duration": 229,
    "start_time": "2023-06-11T21:51:24.092Z"
   },
   {
    "duration": 4,
    "start_time": "2023-06-11T21:51:24.323Z"
   },
   {
    "duration": 21,
    "start_time": "2023-06-11T21:51:24.328Z"
   },
   {
    "duration": 15,
    "start_time": "2023-06-11T21:51:24.353Z"
   },
   {
    "duration": 3716,
    "start_time": "2023-06-11T21:51:24.369Z"
   },
   {
    "duration": 9225,
    "start_time": "2023-06-11T21:51:28.087Z"
   },
   {
    "duration": 4,
    "start_time": "2023-06-11T21:51:37.313Z"
   },
   {
    "duration": 320,
    "start_time": "2023-06-11T21:51:37.320Z"
   },
   {
    "duration": 17,
    "start_time": "2023-06-11T21:51:37.652Z"
   },
   {
    "duration": 259813,
    "start_time": "2023-06-11T21:51:37.671Z"
   },
   {
    "duration": 7,
    "start_time": "2023-06-11T21:55:57.541Z"
   },
   {
    "duration": 35,
    "start_time": "2023-06-11T21:55:57.551Z"
   },
   {
    "duration": 6,
    "start_time": "2023-06-11T21:55:57.588Z"
   },
   {
    "duration": 7,
    "start_time": "2023-06-11T21:55:57.596Z"
   },
   {
    "duration": 1753,
    "start_time": "2023-06-11T21:55:57.604Z"
   },
   {
    "duration": 385,
    "start_time": "2023-06-11T21:55:59.360Z"
   },
   {
    "duration": 94,
    "start_time": "2023-06-11T21:55:59.752Z"
   },
   {
    "duration": 103,
    "start_time": "2023-06-11T21:55:59.856Z"
   },
   {
    "duration": 11,
    "start_time": "2023-06-11T21:55:59.961Z"
   },
   {
    "duration": 402046,
    "start_time": "2023-06-11T21:55:59.974Z"
   },
   {
    "duration": 0,
    "start_time": "2023-06-11T22:02:42.022Z"
   },
   {
    "duration": 0,
    "start_time": "2023-06-11T22:02:42.023Z"
   },
   {
    "duration": 0,
    "start_time": "2023-06-11T22:02:42.024Z"
   },
   {
    "duration": 0,
    "start_time": "2023-06-11T22:02:42.025Z"
   },
   {
    "duration": 0,
    "start_time": "2023-06-11T22:02:42.027Z"
   },
   {
    "duration": 0,
    "start_time": "2023-06-11T22:02:42.027Z"
   },
   {
    "duration": 0,
    "start_time": "2023-06-11T22:02:42.029Z"
   },
   {
    "duration": 0,
    "start_time": "2023-06-11T22:02:42.029Z"
   },
   {
    "duration": 0,
    "start_time": "2023-06-11T22:02:42.030Z"
   },
   {
    "duration": 0,
    "start_time": "2023-06-11T22:02:42.031Z"
   },
   {
    "duration": 0,
    "start_time": "2023-06-11T22:02:42.032Z"
   },
   {
    "duration": 0,
    "start_time": "2023-06-11T22:02:42.033Z"
   },
   {
    "duration": 0,
    "start_time": "2023-06-11T22:02:42.035Z"
   },
   {
    "duration": 0,
    "start_time": "2023-06-11T22:02:42.037Z"
   },
   {
    "duration": 0,
    "start_time": "2023-06-11T22:02:42.038Z"
   },
   {
    "duration": 0,
    "start_time": "2023-06-11T22:02:42.039Z"
   },
   {
    "duration": 0,
    "start_time": "2023-06-11T22:02:42.040Z"
   },
   {
    "duration": 0,
    "start_time": "2023-06-11T22:02:42.044Z"
   },
   {
    "duration": 0,
    "start_time": "2023-06-11T22:02:42.045Z"
   },
   {
    "duration": 0,
    "start_time": "2023-06-11T22:02:42.046Z"
   },
   {
    "duration": 0,
    "start_time": "2023-06-11T22:02:42.047Z"
   },
   {
    "duration": 5,
    "start_time": "2023-06-11T22:02:50.203Z"
   },
   {
    "duration": 3,
    "start_time": "2023-06-11T22:02:50.729Z"
   },
   {
    "duration": 824,
    "start_time": "2023-06-11T22:02:51.888Z"
   },
   {
    "duration": 43,
    "start_time": "2023-06-11T22:02:52.714Z"
   },
   {
    "duration": 5,
    "start_time": "2023-06-11T22:02:54.274Z"
   },
   {
    "duration": 4296,
    "start_time": "2023-06-11T22:02:54.813Z"
   },
   {
    "duration": 262,
    "start_time": "2023-06-11T22:02:59.111Z"
   },
   {
    "duration": 4,
    "start_time": "2023-06-11T22:02:59.375Z"
   },
   {
    "duration": 11,
    "start_time": "2023-06-11T22:02:59.381Z"
   },
   {
    "duration": 16,
    "start_time": "2023-06-11T22:03:02.955Z"
   },
   {
    "duration": 5574,
    "start_time": "2023-06-11T22:03:06.527Z"
   },
   {
    "duration": 2966,
    "start_time": "2023-06-11T22:03:12.103Z"
   },
   {
    "duration": 4,
    "start_time": "2023-06-11T22:03:15.071Z"
   },
   {
    "duration": 324,
    "start_time": "2023-06-11T22:03:15.076Z"
   },
   {
    "duration": 16,
    "start_time": "2023-06-11T22:03:15.401Z"
   },
   {
    "duration": 260203,
    "start_time": "2023-06-11T22:03:17.674Z"
   },
   {
    "duration": 5,
    "start_time": "2023-06-11T22:07:37.880Z"
   },
   {
    "duration": 20,
    "start_time": "2023-06-11T22:07:37.887Z"
   },
   {
    "duration": 2,
    "start_time": "2023-06-11T22:10:10.373Z"
   },
   {
    "duration": 1832,
    "start_time": "2023-06-11T22:10:12.084Z"
   },
   {
    "duration": 0,
    "start_time": "2023-06-11T22:10:13.917Z"
   },
   {
    "duration": 6,
    "start_time": "2023-06-11T22:11:28.370Z"
   },
   {
    "duration": 3,
    "start_time": "2023-06-11T22:11:30.486Z"
   },
   {
    "duration": 5783,
    "start_time": "2023-06-11T22:11:33.076Z"
   },
   {
    "duration": 614,
    "start_time": "2023-06-11T22:11:42.056Z"
   },
   {
    "duration": 8,
    "start_time": "2023-06-11T22:11:43.221Z"
   },
   {
    "duration": 3,
    "start_time": "2023-06-11T22:11:52.269Z"
   },
   {
    "duration": 4,
    "start_time": "2023-06-11T22:11:53.444Z"
   },
   {
    "duration": 856799,
    "start_time": "2023-06-11T22:12:00.024Z"
   },
   {
    "duration": 141544,
    "start_time": "2023-06-11T22:28:36.572Z"
   },
   {
    "duration": 14,
    "start_time": "2023-06-11T22:30:58.119Z"
   },
   {
    "duration": 43,
    "start_time": "2023-06-11T22:30:58.135Z"
   },
   {
    "duration": 9,
    "start_time": "2023-06-11T22:30:58.180Z"
   },
   {
    "duration": 9,
    "start_time": "2023-06-11T22:30:58.191Z"
   },
   {
    "duration": 579,
    "start_time": "2023-06-11T22:30:58.202Z"
   },
   {
    "duration": 24506,
    "start_time": "2023-06-11T22:30:58.785Z"
   },
   {
    "duration": 599,
    "start_time": "2023-06-11T22:31:23.293Z"
   },
   {
    "duration": 18,
    "start_time": "2023-06-11T22:31:23.894Z"
   },
   {
    "duration": 34,
    "start_time": "2023-06-11T22:31:23.913Z"
   },
   {
    "duration": 11,
    "start_time": "2023-06-11T22:34:04.863Z"
   },
   {
    "duration": 6,
    "start_time": "2023-06-11T22:34:06.044Z"
   },
   {
    "duration": 4,
    "start_time": "2023-06-11T22:34:07.000Z"
   },
   {
    "duration": 8,
    "start_time": "2023-06-11T22:34:07.581Z"
   },
   {
    "duration": 6,
    "start_time": "2023-06-11T22:34:08.413Z"
   },
   {
    "duration": 10,
    "start_time": "2023-06-11T22:34:11.329Z"
   },
   {
    "duration": 11,
    "start_time": "2023-06-11T22:34:12.893Z"
   },
   {
    "duration": 29,
    "start_time": "2023-06-11T22:34:14.490Z"
   },
   {
    "duration": 7,
    "start_time": "2023-06-11T22:34:15.773Z"
   },
   {
    "duration": 7,
    "start_time": "2023-06-11T22:34:16.520Z"
   },
   {
    "duration": 9,
    "start_time": "2023-06-11T22:34:17.460Z"
   },
   {
    "duration": 4852,
    "start_time": "2023-06-11T22:35:30.355Z"
   },
   {
    "duration": 2,
    "start_time": "2023-06-11T22:35:35.209Z"
   },
   {
    "duration": 858,
    "start_time": "2023-06-11T22:35:35.213Z"
   },
   {
    "duration": 37,
    "start_time": "2023-06-11T22:35:36.075Z"
   },
   {
    "duration": 16,
    "start_time": "2023-06-11T22:35:36.116Z"
   },
   {
    "duration": 4666,
    "start_time": "2023-06-11T22:35:36.134Z"
   },
   {
    "duration": 221,
    "start_time": "2023-06-11T22:35:40.802Z"
   },
   {
    "duration": 4,
    "start_time": "2023-06-11T22:35:41.024Z"
   },
   {
    "duration": 57,
    "start_time": "2023-06-11T22:35:41.030Z"
   },
   {
    "duration": 18,
    "start_time": "2023-06-11T22:35:41.089Z"
   },
   {
    "duration": 3338,
    "start_time": "2023-06-11T22:35:41.108Z"
   },
   {
    "duration": 2801,
    "start_time": "2023-06-11T22:35:44.448Z"
   },
   {
    "duration": 6,
    "start_time": "2023-06-11T22:35:47.250Z"
   },
   {
    "duration": 397,
    "start_time": "2023-06-11T22:35:47.259Z"
   },
   {
    "duration": 25,
    "start_time": "2023-06-11T22:35:47.659Z"
   },
   {
    "duration": 395187,
    "start_time": "2023-06-11T22:35:47.686Z"
   },
   {
    "duration": 8,
    "start_time": "2023-06-11T22:42:22.874Z"
   },
   {
    "duration": 94,
    "start_time": "2023-06-11T22:42:22.889Z"
   },
   {
    "duration": 27,
    "start_time": "2023-06-11T22:42:22.984Z"
   },
   {
    "duration": 23,
    "start_time": "2023-06-11T22:42:23.013Z"
   },
   {
    "duration": 5616,
    "start_time": "2023-06-11T22:42:23.038Z"
   },
   {
    "duration": 874,
    "start_time": "2023-06-11T22:42:28.677Z"
   },
   {
    "duration": 27,
    "start_time": "2023-06-11T22:42:29.552Z"
   },
   {
    "duration": 107,
    "start_time": "2023-06-11T22:42:29.642Z"
   },
   {
    "duration": 912262,
    "start_time": "2023-06-11T22:42:29.751Z"
   },
   {
    "duration": 155922,
    "start_time": "2023-06-11T22:57:42.015Z"
   },
   {
    "duration": 72,
    "start_time": "2023-06-11T23:00:17.939Z"
   },
   {
    "duration": 33,
    "start_time": "2023-06-11T23:00:18.012Z"
   },
   {
    "duration": 2,
    "start_time": "2023-06-11T23:00:18.048Z"
   },
   {
    "duration": 58,
    "start_time": "2023-06-11T23:00:18.054Z"
   },
   {
    "duration": 583,
    "start_time": "2023-06-11T23:00:18.114Z"
   },
   {
    "duration": 27385,
    "start_time": "2023-06-11T23:00:18.698Z"
   },
   {
    "duration": 762,
    "start_time": "2023-06-11T23:00:46.085Z"
   },
   {
    "duration": 36,
    "start_time": "2023-06-11T23:00:46.853Z"
   },
   {
    "duration": 40,
    "start_time": "2023-06-11T23:00:46.890Z"
   },
   {
    "duration": 81,
    "start_time": "2023-06-11T23:00:46.933Z"
   },
   {
    "duration": 14,
    "start_time": "2023-06-11T23:00:47.016Z"
   },
   {
    "duration": 63,
    "start_time": "2023-06-11T23:00:47.032Z"
   },
   {
    "duration": 30,
    "start_time": "2023-06-11T23:00:47.098Z"
   },
   {
    "duration": 14,
    "start_time": "2023-06-11T23:00:47.129Z"
   },
   {
    "duration": 78,
    "start_time": "2023-06-11T23:00:47.153Z"
   },
   {
    "duration": 118,
    "start_time": "2023-06-11T23:00:47.233Z"
   },
   {
    "duration": 104,
    "start_time": "2023-06-11T23:00:47.353Z"
   },
   {
    "duration": 11,
    "start_time": "2023-06-11T23:00:47.459Z"
   },
   {
    "duration": 42,
    "start_time": "2023-06-11T23:00:47.473Z"
   },
   {
    "duration": 9,
    "start_time": "2023-06-11T23:00:47.520Z"
   },
   {
    "duration": 805,
    "start_time": "2023-06-11T23:36:21.494Z"
   },
   {
    "duration": 6098,
    "start_time": "2023-06-11T23:38:29.903Z"
   },
   {
    "duration": 5,
    "start_time": "2023-06-11T23:42:37.995Z"
   },
   {
    "duration": 5,
    "start_time": "2023-06-11T23:42:38.913Z"
   },
   {
    "duration": 9,
    "start_time": "2023-06-11T23:42:46.494Z"
   },
   {
    "duration": 7,
    "start_time": "2023-06-11T23:42:47.417Z"
   },
   {
    "duration": 4925,
    "start_time": "2023-06-11T23:47:23.376Z"
   },
   {
    "duration": 8,
    "start_time": "2023-06-11T23:47:28.312Z"
   },
   {
    "duration": 975,
    "start_time": "2023-06-11T23:47:28.325Z"
   },
   {
    "duration": 51,
    "start_time": "2023-06-11T23:47:29.302Z"
   },
   {
    "duration": 11,
    "start_time": "2023-06-11T23:47:29.366Z"
   },
   {
    "duration": 5746,
    "start_time": "2023-06-11T23:47:29.387Z"
   },
   {
    "duration": 275,
    "start_time": "2023-06-11T23:47:35.135Z"
   },
   {
    "duration": 4,
    "start_time": "2023-06-11T23:47:35.412Z"
   },
   {
    "duration": 24,
    "start_time": "2023-06-11T23:47:35.418Z"
   },
   {
    "duration": 68,
    "start_time": "2023-06-11T23:47:35.448Z"
   },
   {
    "duration": 4315,
    "start_time": "2023-06-11T23:47:35.518Z"
   },
   {
    "duration": 3333,
    "start_time": "2023-06-11T23:47:39.835Z"
   },
   {
    "duration": 425,
    "start_time": "2023-06-11T23:47:43.170Z"
   },
   {
    "duration": 19,
    "start_time": "2023-06-11T23:47:43.599Z"
   },
   {
    "duration": 581358,
    "start_time": "2023-06-11T23:47:43.620Z"
   },
   {
    "duration": 6,
    "start_time": "2023-06-11T23:57:24.980Z"
   },
   {
    "duration": 101,
    "start_time": "2023-06-11T23:57:24.988Z"
   },
   {
    "duration": 13,
    "start_time": "2023-06-11T23:57:25.098Z"
   },
   {
    "duration": 9,
    "start_time": "2023-06-11T23:57:25.112Z"
   },
   {
    "duration": 7367,
    "start_time": "2023-06-11T23:57:25.122Z"
   },
   {
    "duration": 1127,
    "start_time": "2023-06-11T23:57:32.547Z"
   },
   {
    "duration": 168,
    "start_time": "2023-06-11T23:57:33.682Z"
   },
   {
    "duration": 196229,
    "start_time": "2023-06-11T23:57:33.863Z"
   },
   {
    "duration": 0,
    "start_time": "2023-06-12T00:00:50.095Z"
   },
   {
    "duration": 0,
    "start_time": "2023-06-12T00:00:50.097Z"
   },
   {
    "duration": 0,
    "start_time": "2023-06-12T00:00:50.100Z"
   },
   {
    "duration": 0,
    "start_time": "2023-06-12T00:00:50.100Z"
   },
   {
    "duration": 1,
    "start_time": "2023-06-12T00:00:50.102Z"
   },
   {
    "duration": 0,
    "start_time": "2023-06-12T00:00:50.104Z"
   },
   {
    "duration": 0,
    "start_time": "2023-06-12T00:00:50.123Z"
   },
   {
    "duration": 0,
    "start_time": "2023-06-12T00:00:50.126Z"
   },
   {
    "duration": 0,
    "start_time": "2023-06-12T00:00:50.127Z"
   },
   {
    "duration": 0,
    "start_time": "2023-06-12T00:00:50.129Z"
   },
   {
    "duration": 0,
    "start_time": "2023-06-12T00:00:50.131Z"
   },
   {
    "duration": 0,
    "start_time": "2023-06-12T00:00:50.132Z"
   },
   {
    "duration": 0,
    "start_time": "2023-06-12T00:00:50.134Z"
   },
   {
    "duration": 0,
    "start_time": "2023-06-12T00:00:50.135Z"
   },
   {
    "duration": 0,
    "start_time": "2023-06-12T00:00:50.137Z"
   },
   {
    "duration": 0,
    "start_time": "2023-06-12T00:00:50.138Z"
   },
   {
    "duration": 0,
    "start_time": "2023-06-12T00:00:50.140Z"
   },
   {
    "duration": 0,
    "start_time": "2023-06-12T00:00:50.141Z"
   },
   {
    "duration": 0,
    "start_time": "2023-06-12T00:00:50.150Z"
   },
   {
    "duration": 0,
    "start_time": "2023-06-12T00:00:50.151Z"
   },
   {
    "duration": 0,
    "start_time": "2023-06-12T00:00:50.153Z"
   },
   {
    "duration": 6883,
    "start_time": "2023-06-12T00:01:03.036Z"
   },
   {
    "duration": 3,
    "start_time": "2023-06-12T00:01:09.923Z"
   },
   {
    "duration": 1005,
    "start_time": "2023-06-12T00:01:09.928Z"
   },
   {
    "duration": 70,
    "start_time": "2023-06-12T00:01:10.935Z"
   },
   {
    "duration": 5,
    "start_time": "2023-06-12T00:01:11.009Z"
   },
   {
    "duration": 5678,
    "start_time": "2023-06-12T00:01:11.015Z"
   },
   {
    "duration": 234,
    "start_time": "2023-06-12T00:01:16.696Z"
   },
   {
    "duration": 4,
    "start_time": "2023-06-12T00:01:16.931Z"
   },
   {
    "duration": 68,
    "start_time": "2023-06-12T00:01:16.942Z"
   },
   {
    "duration": 18,
    "start_time": "2023-06-12T00:01:17.012Z"
   },
   {
    "duration": 4291,
    "start_time": "2023-06-12T00:01:17.031Z"
   },
   {
    "duration": 3615,
    "start_time": "2023-06-12T00:01:21.324Z"
   },
   {
    "duration": 420,
    "start_time": "2023-06-12T00:01:24.941Z"
   },
   {
    "duration": 25,
    "start_time": "2023-06-12T00:01:25.369Z"
   },
   {
    "duration": 421757,
    "start_time": "2023-06-12T00:01:25.399Z"
   },
   {
    "duration": 30,
    "start_time": "2023-06-12T00:08:27.162Z"
   },
   {
    "duration": 34,
    "start_time": "2023-06-12T00:08:27.194Z"
   },
   {
    "duration": 6,
    "start_time": "2023-06-12T00:08:27.230Z"
   },
   {
    "duration": 47,
    "start_time": "2023-06-12T00:08:27.237Z"
   },
   {
    "duration": 3794,
    "start_time": "2023-06-12T00:08:27.285Z"
   },
   {
    "duration": 1038,
    "start_time": "2023-06-12T00:08:31.155Z"
   },
   {
    "duration": 101,
    "start_time": "2023-06-12T00:08:32.248Z"
   },
   {
    "duration": 886640,
    "start_time": "2023-06-12T00:08:32.351Z"
   },
   {
    "duration": 147320,
    "start_time": "2023-06-12T00:23:18.992Z"
   },
   {
    "duration": 59,
    "start_time": "2023-06-12T00:25:46.314Z"
   },
   {
    "duration": 36,
    "start_time": "2023-06-12T00:25:46.380Z"
   },
   {
    "duration": 5,
    "start_time": "2023-06-12T00:25:46.418Z"
   },
   {
    "duration": 7,
    "start_time": "2023-06-12T00:25:46.425Z"
   },
   {
    "duration": 554,
    "start_time": "2023-06-12T00:25:46.434Z"
   },
   {
    "duration": 3603,
    "start_time": "2023-06-12T00:25:46.990Z"
   },
   {
    "duration": 699,
    "start_time": "2023-06-12T00:25:50.595Z"
   },
   {
    "duration": 23,
    "start_time": "2023-06-12T00:25:51.296Z"
   },
   {
    "duration": 42,
    "start_time": "2023-06-12T00:25:51.321Z"
   },
   {
    "duration": 9,
    "start_time": "2023-06-12T00:25:51.365Z"
   },
   {
    "duration": 22,
    "start_time": "2023-06-12T00:25:51.376Z"
   },
   {
    "duration": 9,
    "start_time": "2023-06-12T00:25:51.400Z"
   },
   {
    "duration": 19,
    "start_time": "2023-06-12T00:25:51.411Z"
   },
   {
    "duration": 8,
    "start_time": "2023-06-12T00:25:51.432Z"
   },
   {
    "duration": 60,
    "start_time": "2023-06-12T00:25:51.441Z"
   },
   {
    "duration": 16,
    "start_time": "2023-06-12T00:25:51.502Z"
   },
   {
    "duration": 57,
    "start_time": "2023-06-12T00:25:51.522Z"
   },
   {
    "duration": 16,
    "start_time": "2023-06-12T00:25:51.584Z"
   },
   {
    "duration": 11,
    "start_time": "2023-06-12T00:25:51.601Z"
   },
   {
    "duration": 4,
    "start_time": "2023-06-12T00:25:51.614Z"
   },
   {
    "duration": 2748,
    "start_time": "2023-06-12T06:50:28.305Z"
   },
   {
    "duration": 1857,
    "start_time": "2023-06-12T07:05:36.428Z"
   },
   {
    "duration": 5,
    "start_time": "2023-06-12T07:06:53.539Z"
   },
   {
    "duration": 2,
    "start_time": "2023-06-12T07:06:54.803Z"
   },
   {
    "duration": 2399,
    "start_time": "2023-06-12T07:06:56.739Z"
   },
   {
    "duration": 38,
    "start_time": "2023-06-12T07:06:59.140Z"
   },
   {
    "duration": 4,
    "start_time": "2023-06-12T07:07:01.027Z"
   },
   {
    "duration": 3850,
    "start_time": "2023-06-12T07:07:03.613Z"
   },
   {
    "duration": 143,
    "start_time": "2023-06-12T07:07:07.476Z"
   },
   {
    "duration": 7,
    "start_time": "2023-06-12T07:07:15.122Z"
   },
   {
    "duration": 12,
    "start_time": "2023-06-12T07:07:16.193Z"
   },
   {
    "duration": 3834,
    "start_time": "2023-06-12T07:07:25.889Z"
   },
   {
    "duration": 9531,
    "start_time": "2023-06-12T07:07:29.725Z"
   },
   {
    "duration": 385,
    "start_time": "2023-06-12T07:07:39.258Z"
   },
   {
    "duration": 29,
    "start_time": "2023-06-12T07:07:39.645Z"
   },
   {
    "duration": 8,
    "start_time": "2023-06-12T07:07:39.677Z"
   },
   {
    "duration": 10,
    "start_time": "2023-06-12T07:07:45.793Z"
   },
   {
    "duration": 177986,
    "start_time": "2023-06-12T07:07:48.218Z"
   },
   {
    "duration": 5,
    "start_time": "2023-06-12T07:10:46.207Z"
   },
   {
    "duration": 65,
    "start_time": "2023-06-12T07:10:46.214Z"
   },
   {
    "duration": 6,
    "start_time": "2023-06-12T07:10:46.282Z"
   },
   {
    "duration": 22,
    "start_time": "2023-06-12T07:10:46.290Z"
   },
   {
    "duration": 5776,
    "start_time": "2023-06-12T07:10:46.314Z"
   },
   {
    "duration": 4,
    "start_time": "2023-06-12T13:12:45.763Z"
   },
   {
    "duration": 3,
    "start_time": "2023-06-12T13:12:46.153Z"
   },
   {
    "duration": 762,
    "start_time": "2023-06-12T13:12:47.110Z"
   },
   {
    "duration": 32,
    "start_time": "2023-06-12T13:12:48.566Z"
   },
   {
    "duration": 4,
    "start_time": "2023-06-12T13:12:54.360Z"
   },
   {
    "duration": 3591,
    "start_time": "2023-06-12T13:12:56.215Z"
   },
   {
    "duration": 140,
    "start_time": "2023-06-12T13:12:59.808Z"
   },
   {
    "duration": 5,
    "start_time": "2023-06-12T13:13:04.916Z"
   },
   {
    "duration": 12,
    "start_time": "2023-06-12T13:13:07.490Z"
   },
   {
    "duration": 3379,
    "start_time": "2023-06-12T13:13:12.565Z"
   },
   {
    "duration": 1983,
    "start_time": "2023-06-12T13:13:15.945Z"
   },
   {
    "duration": 327,
    "start_time": "2023-06-12T13:13:17.929Z"
   },
   {
    "duration": 26,
    "start_time": "2023-06-12T13:13:18.258Z"
   },
   {
    "duration": 6,
    "start_time": "2023-06-12T13:13:18.286Z"
   },
   {
    "duration": 9,
    "start_time": "2023-06-12T13:13:19.769Z"
   },
   {
    "duration": 216553,
    "start_time": "2023-06-12T13:13:21.557Z"
   },
   {
    "duration": 4,
    "start_time": "2023-06-12T13:16:58.112Z"
   },
   {
    "duration": 31,
    "start_time": "2023-06-12T13:16:58.174Z"
   },
   {
    "duration": 5,
    "start_time": "2023-06-12T13:16:58.207Z"
   },
   {
    "duration": 9,
    "start_time": "2023-06-12T13:16:58.213Z"
   },
   {
    "duration": 3264,
    "start_time": "2023-06-12T13:16:58.223Z"
   },
   {
    "duration": 227,
    "start_time": "2023-06-12T13:17:10.649Z"
   },
   {
    "duration": 3,
    "start_time": "2023-06-12T13:17:53.764Z"
   },
   {
    "duration": 2163,
    "start_time": "2023-06-12T13:18:07.612Z"
   },
   {
    "duration": 4,
    "start_time": "2023-06-12T13:18:32.887Z"
   },
   {
    "duration": 3,
    "start_time": "2023-06-12T13:18:34.677Z"
   },
   {
    "duration": 646,
    "start_time": "2023-06-12T13:18:35.803Z"
   },
   {
    "duration": 32,
    "start_time": "2023-06-12T13:18:37.157Z"
   },
   {
    "duration": 4,
    "start_time": "2023-06-12T13:18:40.400Z"
   },
   {
    "duration": 3806,
    "start_time": "2023-06-12T13:18:43.757Z"
   },
   {
    "duration": 138,
    "start_time": "2023-06-12T13:18:53.505Z"
   },
   {
    "duration": 5,
    "start_time": "2023-06-12T13:19:06.863Z"
   },
   {
    "duration": 10,
    "start_time": "2023-06-12T13:19:07.682Z"
   },
   {
    "duration": 3266,
    "start_time": "2023-06-12T13:19:14.217Z"
   },
   {
    "duration": 1997,
    "start_time": "2023-06-12T13:19:17.486Z"
   },
   {
    "duration": 34506,
    "start_time": "2023-06-12T13:19:25.763Z"
   },
   {
    "duration": 0,
    "start_time": "2023-06-12T13:20:00.272Z"
   },
   {
    "duration": 0,
    "start_time": "2023-06-12T13:20:00.274Z"
   },
   {
    "duration": 0,
    "start_time": "2023-06-12T13:20:00.275Z"
   },
   {
    "duration": 0,
    "start_time": "2023-06-12T13:20:00.277Z"
   },
   {
    "duration": 0,
    "start_time": "2023-06-12T13:20:00.278Z"
   },
   {
    "duration": 0,
    "start_time": "2023-06-12T13:20:00.279Z"
   },
   {
    "duration": 0,
    "start_time": "2023-06-12T13:20:00.281Z"
   },
   {
    "duration": 0,
    "start_time": "2023-06-12T13:20:00.282Z"
   },
   {
    "duration": 0,
    "start_time": "2023-06-12T13:20:00.283Z"
   },
   {
    "duration": 5,
    "start_time": "2023-06-12T13:20:21.087Z"
   },
   {
    "duration": 2,
    "start_time": "2023-06-12T13:20:21.562Z"
   },
   {
    "duration": 653,
    "start_time": "2023-06-12T13:20:21.874Z"
   },
   {
    "duration": 43,
    "start_time": "2023-06-12T13:20:22.529Z"
   },
   {
    "duration": 4,
    "start_time": "2023-06-12T13:20:22.665Z"
   },
   {
    "duration": 3771,
    "start_time": "2023-06-12T13:20:23.065Z"
   },
   {
    "duration": 152,
    "start_time": "2023-06-12T13:20:26.838Z"
   },
   {
    "duration": 5,
    "start_time": "2023-06-12T13:20:26.992Z"
   },
   {
    "duration": 19,
    "start_time": "2023-06-12T13:20:27.000Z"
   },
   {
    "duration": 2783,
    "start_time": "2023-06-12T13:20:30.397Z"
   },
   {
    "duration": 2118,
    "start_time": "2023-06-12T13:20:33.182Z"
   },
   {
    "duration": 3059,
    "start_time": "2023-06-12T13:20:35.303Z"
   },
   {
    "duration": 20,
    "start_time": "2023-06-12T13:20:38.365Z"
   },
   {
    "duration": 6,
    "start_time": "2023-06-12T13:20:38.387Z"
   },
   {
    "duration": 16,
    "start_time": "2023-06-12T13:20:38.395Z"
   },
   {
    "duration": 4518,
    "start_time": "2023-06-12T13:43:34.180Z"
   },
   {
    "duration": 3,
    "start_time": "2023-06-12T13:43:38.700Z"
   },
   {
    "duration": 2389,
    "start_time": "2023-06-12T13:43:38.704Z"
   },
   {
    "duration": 33,
    "start_time": "2023-06-12T13:43:41.095Z"
   },
   {
    "duration": 6,
    "start_time": "2023-06-12T13:43:41.129Z"
   },
   {
    "duration": 4210,
    "start_time": "2023-06-12T13:43:41.137Z"
   },
   {
    "duration": 176,
    "start_time": "2023-06-12T13:43:45.349Z"
   },
   {
    "duration": 6,
    "start_time": "2023-06-12T13:43:45.527Z"
   },
   {
    "duration": 49,
    "start_time": "2023-06-12T13:43:45.534Z"
   },
   {
    "duration": 4248,
    "start_time": "2023-06-12T13:43:45.587Z"
   },
   {
    "duration": 9103,
    "start_time": "2023-06-12T13:43:49.837Z"
   },
   {
    "duration": 3245,
    "start_time": "2023-06-12T13:43:58.942Z"
   },
   {
    "duration": 15,
    "start_time": "2023-06-12T13:44:02.188Z"
   },
   {
    "duration": 14,
    "start_time": "2023-06-12T13:44:02.204Z"
   },
   {
    "duration": 29,
    "start_time": "2023-06-12T13:44:02.219Z"
   },
   {
    "duration": 2808122,
    "start_time": "2023-06-12T13:44:02.250Z"
   },
   {
    "duration": 9,
    "start_time": "2023-06-12T14:30:50.374Z"
   },
   {
    "duration": 61,
    "start_time": "2023-06-12T14:30:50.384Z"
   },
   {
    "duration": 11,
    "start_time": "2023-06-12T14:30:50.447Z"
   },
   {
    "duration": 44,
    "start_time": "2023-06-12T14:30:50.459Z"
   },
   {
    "duration": 5,
    "start_time": "2023-06-12T14:30:50.505Z"
   },
   {
    "duration": 13063,
    "start_time": "2023-06-12T14:30:50.512Z"
   },
   {
    "duration": 2501,
    "start_time": "2023-06-12T14:31:03.587Z"
   },
   {
    "duration": 99,
    "start_time": "2023-06-12T14:31:06.092Z"
   },
   {
    "duration": 769179,
    "start_time": "2023-06-12T14:31:06.197Z"
   },
   {
    "duration": 126119,
    "start_time": "2023-06-12T14:43:55.378Z"
   },
   {
    "duration": 58,
    "start_time": "2023-06-12T14:46:01.499Z"
   },
   {
    "duration": 27,
    "start_time": "2023-06-12T14:46:01.560Z"
   },
   {
    "duration": 28,
    "start_time": "2023-06-12T14:46:01.588Z"
   },
   {
    "duration": 40,
    "start_time": "2023-06-12T14:46:01.618Z"
   },
   {
    "duration": 32050,
    "start_time": "2023-06-12T14:46:01.660Z"
   },
   {
    "duration": 6375,
    "start_time": "2023-06-12T14:46:33.713Z"
   },
   {
    "duration": 56,
    "start_time": "2023-06-12T14:46:40.090Z"
   },
   {
    "duration": 28,
    "start_time": "2023-06-12T14:46:40.148Z"
   },
   {
    "duration": 328,
    "start_time": "2023-06-12T14:46:40.177Z"
   },
   {
    "duration": 0,
    "start_time": "2023-06-12T14:46:40.508Z"
   },
   {
    "duration": 0,
    "start_time": "2023-06-12T14:46:40.509Z"
   },
   {
    "duration": 0,
    "start_time": "2023-06-12T14:46:40.510Z"
   },
   {
    "duration": 0,
    "start_time": "2023-06-12T14:46:40.511Z"
   },
   {
    "duration": 0,
    "start_time": "2023-06-12T14:46:40.513Z"
   },
   {
    "duration": 0,
    "start_time": "2023-06-12T14:46:40.514Z"
   },
   {
    "duration": 0,
    "start_time": "2023-06-12T14:46:40.516Z"
   },
   {
    "duration": 0,
    "start_time": "2023-06-12T14:46:40.517Z"
   },
   {
    "duration": 0,
    "start_time": "2023-06-12T14:46:40.518Z"
   },
   {
    "duration": 202439,
    "start_time": "2023-06-12T15:09:54.149Z"
   },
   {
    "duration": 1783,
    "start_time": "2023-06-12T15:13:16.591Z"
   },
   {
    "duration": 19,
    "start_time": "2023-06-12T15:16:04.937Z"
   },
   {
    "duration": 24,
    "start_time": "2023-06-12T15:16:28.211Z"
   },
   {
    "duration": 25,
    "start_time": "2023-06-12T15:17:01.961Z"
   },
   {
    "duration": 18,
    "start_time": "2023-06-12T15:17:18.481Z"
   },
   {
    "duration": 23,
    "start_time": "2023-06-12T15:20:14.266Z"
   },
   {
    "duration": 27641,
    "start_time": "2023-06-12T15:20:23.038Z"
   },
   {
    "duration": 2611,
    "start_time": "2023-06-12T15:21:30.674Z"
   },
   {
    "duration": 19,
    "start_time": "2023-06-12T15:22:32.790Z"
   },
   {
    "duration": 8014,
    "start_time": "2023-06-12T15:22:54.959Z"
   },
   {
    "duration": 4138165,
    "start_time": "2023-06-12T15:40:37.761Z"
   },
   {
    "duration": 4,
    "start_time": "2023-06-13T03:32:33.358Z"
   }
  ],
  "colab": {
   "provenance": [],
   "gpuType": "T4"
  },
  "kernelspec": {
   "name": "python3",
   "language": "python",
   "display_name": "Python 3 (ipykernel)"
  },
  "language_info": {
   "codemirror_mode": {
    "name": "ipython",
    "version": 3
   },
   "file_extension": ".py",
   "mimetype": "text/x-python",
   "name": "python",
   "nbconvert_exporter": "python",
   "pygments_lexer": "ipython3",
   "version": "3.9.5"
  },
  "toc": {
   "base_numbering": 1,
   "nav_menu": {},
   "number_sections": true,
   "sideBar": true,
   "skip_h1_title": true,
   "title_cell": "Table of Contents",
   "title_sidebar": "Contents",
   "toc_cell": false,
   "toc_position": {},
   "toc_section_display": true,
   "toc_window_display": true
  },
  "accelerator": "GPU"
 },
 "nbformat": 4,
 "nbformat_minor": 0
}
