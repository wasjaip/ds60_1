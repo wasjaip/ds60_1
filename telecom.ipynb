{
 "cells": [
  {
   "cell_type": "markdown",
   "metadata": {
    "id": "cPTi7Dm0jTNA"
   },
   "source": [
    "## Телеком: прогнозирование оттока клиентов\n",
    "\n",
    "Оператор связи «Ниединогоразрыва.ком» хочет научиться прогнозировать отток клиентов. Если выяснится, что пользователь планирует уйти, ему будут предложены промокоды и специальные условия. Команда оператора собрала персональные данные о некоторых клиентах, информацию об их тарифах и договорах.\n",
    "\n",
    "### Описание услуг\n",
    "**Оператор предоставляет два основных типа услуг: **\n",
    "* Стационарную телефонную связь. Возможно подключение телефонного аппарата к нескольким линиям одновременно.\n",
    "* Интернет. Подключение может быть двух типов: через телефонную линию (DSL, от англ. digital subscriber line, «цифровая абонентская линия») или оптоволоконный кабель (Fiber optic).\n",
    "\n",
    "**Также доступны такие услуги:**\n",
    "* Интернет-безопасность: антивирус (DeviceProtection) и блокировка небезопасных сайтов (OnlineSecurity);\n",
    "* Выделенная линия технической поддержки (TechSupport);\n",
    "* Облачное хранилище файлов для резервного копирования данных (OnlineBackup);\n",
    "* Стриминговое телевидение (StreamingTV) и каталог фильмов (StreamingMovies).\n",
    "\n",
    "За услуги клиенты могут платить каждый месяц или заключить договор на 1–2 года. Доступны различные способы расчёта и возможность получения электронного чека.\n",
    "\n",
    "\n",
    "\n",
    "\n",
    "С помощью этих данных необходимо построить модель, которая будет качественно прогнозировать отток клиентов."
   ]
  },
  {
   "cell_type": "markdown",
   "metadata": {
    "id": "ZJoqGgAhjTNA"
   },
   "source": [
    "### План работы\n",
    "\n",
    "1. **Загрузка и изучение данных**\n",
    "    - Импорт библиотек\n",
    "    - Загрузка доступных данных\n",
    "    - Описание загруженных данных\n",
    "    - Сложный анализ и обработка данных (поиск аномалий, обработка дубликатов, обработка категориальных признаков, приведение данных к желаемому формату и т. д.)\n",
    "2. **Объединение данных**\n",
    "3. **Подготовка данных для обучения**\n",
    "    - Определение целевого атрибута\n",
    "    - Объединение данных в единый датафрейм\n",
    "    - Подготовка признаков для обучения модели (удаление очевидно ненужных признаков, создание нового признака на основе существующих признаков, масштабирование признаков)\n",
    "    - Разделение датафрейма на обучающие и тестовые выборки\n",
    "    - Оценка наличия дисбаланса классов и, при необходимости, его устранение\n",
    "4. **Обучение модели**\n",
    "    - Выбор нескольких типов моделей (случайный лес, градиентный бустинг и т. д.)\n",
    "    - На обучающей выборке обучить модель с использованием метода GridSearchCV, выбрать оптимальные гиперпараметры и оценить качество моделей с помощью метрики ROC-AUC\n",
    "    - На основе полученных метрик мы можем сделать вывод о эффективности обученных моделей и выбрать оптимальную для дальнейшего тестирования\n",
    "5. **Тестирование модели**\n",
    "    - Построение кривых ROC-AUC\n",
    "    - Для проведения теста на выбранной оптимальной модели полученная метрика AUC-ROC должна быть не менее 0.85\n",
    "    - Сделать вывод об эффективности полученной модели\n",
    "    - Оценка важности признаков и матрица ошибок\n",
    "6. **Результаты**\n",
    "    - Подвести итоги и представить полученные результаты\n",
    "    - Сделать общий вывод об эффективности полученных результатов"
   ]
  },
  {
   "cell_type": "markdown",
   "metadata": {
    "id": "bY4X2Pq2jTNB"
   },
   "source": [
    "### Загрузка и исследование данных\n",
    "\n",
    "\n",
    "**Данные состоят из файлов, полученных из разных источников:**\n",
    "\n",
    "* contract_new.csv — информация о договоре;\n",
    "* personal_new.csv — персональные данные клиента;\n",
    "* internet_new.csv — информация об интернет-услугах;\n",
    "* phone_new.csv — информация об услугах телефонии.\n",
    "\n",
    "**Во всех файлах столбец customerID содержит код клиента.**\n",
    "\n",
    "Информация о договорах актуальна на 1 февраля 2020.\n",
    "\n",
    "### Данные\n",
    "* contract_new.csv\n",
    "* personal_new.csv\n",
    "* internet_new.csv\n",
    "* phone_new.csv\n",
    "\n",
    "\n",
    "Описание данных:\n",
    "* BeginDate – дата начала пользования услугами,\n",
    "* EndDate – дата окончания пользования услугами,\n",
    "* Type – тип оплаты: ежемесячный, годовой и тд,\n",
    "* PaperlessBilling – электронный платёжный документ,\n",
    "* PaymentMethod – способ оплаты,\n",
    "* MonthlyCharges – ежемесячные траты на услуги по договору,\n",
    "* TotalCharges – всего потрачено денег на услуги,\n",
    "* Dependents – наличие иждивенцев,\n",
    "* Senior Citizen – наличие пенсионного статуса по возрасту,\n",
    "* Partner – наличие супруга(и),\n",
    "* MultipleLines – наличие возможности ведения параллельных линий во время звонка"
   ]
  },
  {
   "cell_type": "markdown",
   "metadata": {
    "id": "ybQo7LLLjTNB"
   },
   "source": [
    "### Импорт библиотек"
   ]
  },
  {
   "cell_type": "code",
   "execution_count": null,
   "metadata": {
    "ExecuteTime": {
     "end_time": "2023-08-10T10:28:19.636547300Z",
     "start_time": "2023-08-10T10:28:14.983775500Z"
    },
    "id": "LD1ztC3ajTNC"
   },
   "outputs": [],
   "source": [
    "# Установка необходимых библиотек. CatBoost - это библиотека для работы с градиентным бустингом над деревьями\n",
    "# !pip install catboost\n",
    "# !pip install statsmodels\n",
    "# !pip install sortedcontainers\n",
    "#\n",
    "# # Установка библиотеки phik\n",
    "# !pip install phik"
   ]
  },
  {
   "cell_type": "code",
   "execution_count": null,
   "metadata": {
    "ExecuteTime": {
     "end_time": "2023-08-10T10:28:19.636547300Z",
     "start_time": "2023-08-10T10:28:14.992782200Z"
    },
    "id": "i4lBOoisjTND"
   },
   "outputs": [],
   "source": [
    "# !pip install scikit-learn\n",
    "# !pip install imbalanced-learn\n",
    "# !pip install optuna"
   ]
  },
  {
   "cell_type": "code",
   "execution_count": null,
   "metadata": {
    "ExecuteTime": {
     "end_time": "2023-08-10T10:28:20.749520400Z",
     "start_time": "2023-08-10T10:28:14.995748500Z"
    },
    "id": "hByO_tv6jTND"
   },
   "outputs": [],
   "source": [
    "# !pip install --upgrade scikit-learn\n",
    "# !pip install --upgrade imbalanced-learn\n"
   ]
  },
  {
   "cell_type": "code",
   "execution_count": null,
   "metadata": {
    "ExecuteTime": {
     "end_time": "2023-08-10T10:28:20.749520400Z",
     "start_time": "2023-08-10T10:28:15.009496300Z"
    },
    "id": "Hx4dh1xGjTND",
    "outputId": "bb715632-d319-4260-8728-258acbfdf18d"
   },
   "outputs": [
    {
     "ename": "ModuleNotFoundError",
     "evalue": "No module named 'phik'",
     "output_type": "error",
     "traceback": [
      "\u001B[0;31m---------------------------------------------------------------------------\u001B[0m",
      "\u001B[0;31mModuleNotFoundError\u001B[0m                       Traceback (most recent call last)",
      "\u001B[0;32m/tmp/ipykernel_48/1552405060.py\u001B[0m in \u001B[0;36m<module>\u001B[0;34m\u001B[0m\n\u001B[1;32m     26\u001B[0m \u001B[0;34m\u001B[0m\u001B[0m\n\u001B[1;32m     27\u001B[0m \u001B[0;31m# Импорт библиотек\u001B[0m\u001B[0;34m\u001B[0m\u001B[0;34m\u001B[0m\u001B[0;34m\u001B[0m\u001B[0m\n\u001B[0;32m---> 28\u001B[0;31m \u001B[0;32mimport\u001B[0m \u001B[0mphik\u001B[0m\u001B[0;34m\u001B[0m\u001B[0;34m\u001B[0m\u001B[0m\n\u001B[0m\u001B[1;32m     29\u001B[0m \u001B[0;34m\u001B[0m\u001B[0m\n\u001B[1;32m     30\u001B[0m \u001B[0;32mimport\u001B[0m \u001B[0mseaborn\u001B[0m \u001B[0;32mas\u001B[0m \u001B[0msns\u001B[0m  \u001B[0;31m# Библиотека для создания статистических графиков\u001B[0m\u001B[0;34m\u001B[0m\u001B[0;34m\u001B[0m\u001B[0m\n",
      "\u001B[0;31mModuleNotFoundError\u001B[0m: No module named 'phik'"
     ]
    }
   ],
   "source": [
    "# Импортирование необходимых библиотек\n",
    "import pandas as pd  # Библиотека для работы с табличными данными\n",
    "import numpy as np  # Библиотека для работы с числовыми массивами\n",
    "import glob\n",
    "import os\n",
    "\n",
    "%matplotlib inline\n",
    "import matplotlib.pyplot as plt  # Библиотека для графического отображения данных\n",
    "\n",
    "# Задание начального числа для генерации случайных чисел\n",
    "import random\n",
    "random_state=310723\n",
    "random.seed(random_state)\n",
    "np.random.seed(random_state)\n",
    "\n",
    "# Подавление предупреждений\n",
    "import warnings\n",
    "warnings.filterwarnings('ignore')\n",
    "import logging\n",
    "logger = logging.getLogger()\n",
    "logger.setLevel(logging.CRITICAL)\n",
    "# Объединяем все датафреймы в один по 'customerID'\n",
    "from functools import reduce\n",
    "import re\n",
    "\n",
    "\n",
    "# Импорт библиотек\n",
    "import phik\n",
    "\n",
    "import seaborn as sns  # Библиотека для создания статистических графиков\n",
    "import statsmodels as sm  # Библиотека для оценки статистических моделей\n",
    "from scipy import stats  # Библиотека для научных и инженерных вычислений\n",
    "from sortedcontainers import SortedList\n",
    "\n",
    "# Импортируем необходимые библиотеки\n",
    "\n",
    "import collections\n",
    "from itertools import product,chain\n",
    "import copy"
   ]
  },
  {
   "cell_type": "code",
   "execution_count": null,
   "metadata": {
    "ExecuteTime": {
     "end_time": "2023-08-10T10:28:20.749520400Z",
     "start_time": "2023-08-10T10:28:15.022381300Z"
    },
    "id": "v32fQZ2pjTND"
   },
   "outputs": [],
   "source": [
    "# Библиотеки sklearn для создания и оценки моделей машинного обучения\n",
    "\n",
    "from lightgbm import LGBMClassifier\n",
    "from xgboost import XGBClassifier\n",
    "from sklearn.model_selection import GridSearchCV,cross_val_score\n",
    "from sklearn.ensemble import RandomForestClassifier\n",
    "# Библиотека CatBoost для классификации, обучения и кросс-валидации\n",
    "from catboost import CatBoostClassifier, Pool, cv as catboost_cv\n",
    "# Дополнительные библиотеки sklearn\n",
    "from sklearn.utils import shuffle\n",
    "from sklearn.dummy import DummyClassifier\n",
    "from sklearn.preprocessing import StandardScaler, OneHotEncoder\n",
    "# Импорт SMOTE из библиотеки imbalanced-learn\n",
    "from imblearn.over_sampling import SMOTE\n",
    "from sklearn.compose import ColumnTransformer\n",
    "from sklearn.pipeline import Pipeline\n",
    "from sklearn.model_selection import train_test_split\n",
    "from sklearn.linear_model import LogisticRegression\n",
    "from sklearn.metrics import roc_auc_score,accuracy_score,roc_curve, auc,confusion_matrix, make_scorer, recall_score, precision_score, f1_score\n",
    "\n",
    "from sklearn.model_selection import learning_curve\n",
    "from sklearn.metrics import precision_recall_curve\n",
    "#ДОПОЛНИТЕЛЬНО\n",
    "# Импортируем необходимые библиотеки и инструменты\n",
    "from sklearn.ensemble import BaggingClassifier, StackingClassifier\n",
    "from sklearn.neighbors import KNeighborsClassifier\n",
    "from sklearn.svm import SVC\n",
    "import optuna\n",
    "from imblearn.pipeline import make_pipeline\n",
    "from sklearn.model_selection import cross_val_predict\n",
    "from sklearn.preprocessing import OrdinalEncoder\n",
    "\n",
    "# Задаем максимальное количество отображаемых строк и столбцов в pandas DataFrame\n",
    "pd.set_option('display.max_rows', 100)\n",
    "pd.set_option('display.max_columns', 100)\n",
    "'Библиотеки загружены'"
   ]
  },
  {
   "cell_type": "markdown",
   "metadata": {
    "id": "SGvBUGtkjTNE"
   },
   "source": [
    "### Загрузка доступных данных"
   ]
  },
  {
   "cell_type": "code",
   "execution_count": null,
   "metadata": {
    "ExecuteTime": {
     "end_time": "2023-08-10T10:28:21.123544700Z",
     "start_time": "2023-08-10T10:28:15.176530Z"
    },
    "id": "GDEwAl1VjTNE"
   },
   "outputs": [],
   "source": [
    "# Загрузим данные в отдельные pandas DataFrame\n",
    "# contract_new.csv\n",
    "# personal_new.csv\n",
    "# internet_new.csv\n",
    "# phone_new.csv\n",
    "\n",
    "\n",
    "try:\n",
    "    contract = pd.read_csv('https://code.s3.yandex.net/datasets/contract_new.csv')\n",
    "    internet = pd.read_csv('https://code.s3.yandex.net/datasets/internet_new.csv')\n",
    "    personal = pd.read_csv('https://code.s3.yandex.net/datasets/personal_new.csv')\n",
    "    phone = pd.read_csv('https://code.s3.yandex.net/datasets/phone_new.csv')\n",
    "except:\n",
    "    contract = pd.read_csv('/datasets/contract_new.csv')\n",
    "    personal = pd.read_csv('/datasets/personal_new.csv')\n",
    "    internet = pd.read_csv('/datasets/internet_new.csv')\n",
    "    phone = pd.read_csv('/datasets/phone_new.csv')"
   ]
  },
  {
   "cell_type": "markdown",
   "metadata": {
    "id": "uIaKbwdfjTNE"
   },
   "source": [
    "### EDA, заполнение недостающих данных, анализ"
   ]
  },
  {
   "cell_type": "code",
   "execution_count": null,
   "metadata": {
    "ExecuteTime": {
     "end_time": "2023-08-10T10:28:21.159554Z",
     "start_time": "2023-08-10T10:28:15.788898100Z"
    },
    "id": "20YbdYudjTNE"
   },
   "outputs": [],
   "source": [
    "# Создадим словарь из этих DataFrame\n",
    "dfs = {'contract': contract, 'internet': internet, 'phone': phone, 'personal': personal}"
   ]
  },
  {
   "cell_type": "code",
   "execution_count": null,
   "metadata": {
    "ExecuteTime": {
     "end_time": "2023-08-10T10:28:21.160553200Z",
     "start_time": "2023-08-10T10:28:15.794898700Z"
    },
    "id": "JCeSlsexjTNE"
   },
   "outputs": [],
   "source": [
    "#проверка\n",
    "dfs[\"internet\"].head()"
   ]
  },
  {
   "cell_type": "code",
   "execution_count": null,
   "metadata": {
    "ExecuteTime": {
     "end_time": "2023-08-10T10:28:21.160553200Z",
     "start_time": "2023-08-10T10:28:15.812955300Z"
    },
    "id": "oVdEIGwajTNE"
   },
   "outputs": [],
   "source": [
    "#размерность\n",
    "for name, ds in dfs.items():\n",
    "    print(f\"Размер {name} {ds.shape}\")"
   ]
  },
  {
   "cell_type": "code",
   "execution_count": null,
   "metadata": {
    "ExecuteTime": {
     "end_time": "2023-08-10T10:28:21.171553200Z",
     "start_time": "2023-08-10T10:28:15.818943200Z"
    },
    "id": "nlLmDmIzjTNE"
   },
   "outputs": [],
   "source": [
    "# Итерация по каждому элементу в словаре dfs.\n",
    "# 'name' - это ключ (название датасета), 'ds' - это значение (сам датасет в виде DataFrame)\n",
    "for name, ds in dfs.items():\n",
    "    # Выводим название датасета в верхнем регистре\n",
    "    print(f\"{name}\".upper())\n",
    "    # Выводим общую информацию о датасете, включая количество строк и столбцов, типы данных и пр.\n",
    "    ds.info()\n",
    "    # Выводим разделитель для удобства восприятия информации\n",
    "    print(\"-\"*50)\n"
   ]
  },
  {
   "cell_type": "code",
   "execution_count": null,
   "metadata": {
    "ExecuteTime": {
     "end_time": "2023-08-10T10:28:21.172552Z",
     "start_time": "2023-08-10T10:28:15.862234700Z"
    },
    "id": "4QO-sD05jTNF"
   },
   "outputs": [],
   "source": [
    "# Итерация по каждому элементу в словаре dfs.\n",
    "# 'name' - это ключ (название датасета), 'ds' - это значение (сам датасет в виде DataFrame)\n",
    "for name, ds in dfs.items():\n",
    "    # Выводим название датасета в верхнем регистре\n",
    "    print(f\"{name}\".upper())\n",
    "    # Отображаем две случайные строки из датасета для предварительного просмотра данных\n",
    "    display(ds.sample(2))\n"
   ]
  },
  {
   "cell_type": "markdown",
   "metadata": {
    "id": "-7A29RljjTNF"
   },
   "source": [
    "получения информации о пропущенных значениях в DataFrame"
   ]
  },
  {
   "cell_type": "markdown",
   "metadata": {
    "id": "KUV0kGrUjTNF"
   },
   "source": [
    "**Функция describe_full(df)  для получения развернутого статистического описания DataFrame.**"
   ]
  },
  {
   "cell_type": "code",
   "execution_count": null,
   "metadata": {
    "ExecuteTime": {
     "end_time": "2023-08-10T10:28:21.172552Z",
     "start_time": "2023-08-10T10:28:15.899230600Z"
    },
    "id": "KDmSvep_jTNF"
   },
   "outputs": [],
   "source": [
    "def describe_full(df):\n",
    "    # Создаем DataFrame с базовым статистическим описанием каждого числового столбца\n",
    "    data_describe = df.describe().T\n",
    "\n",
    "    # Отбираем только числовые столбцы\n",
    "    df_numeric = df._get_numeric_data()\n",
    "\n",
    "    # Добавляем информацию о типах данных\n",
    "    data_describe['типах данных'] = df_numeric.dtypes\n",
    "\n",
    "    # Добавляем информацию о доле пропущенных значений\n",
    "    data_describe['пропущенных значений %'] = df_numeric.isnull().sum()/len(df) * 100\n",
    "\n",
    "    # Добавляем информацию о количестве уникальных значений\n",
    "    data_describe['уникальных значений'] = df_numeric.apply(pd.Series.nunique)\n",
    "\n",
    "    # Добавляем информацию об асимметрии\n",
    "    data_describe['асимметрия'] = df_numeric.skew(axis = 0, skipna = True)\n",
    "\n",
    "    # Возвращаем полученный DataFrame\n",
    "    return data_describe"
   ]
  },
  {
   "cell_type": "code",
   "execution_count": null,
   "metadata": {
    "ExecuteTime": {
     "end_time": "2023-08-10T10:28:21.206525400Z",
     "start_time": "2023-08-10T10:28:15.904253500Z"
    },
    "id": "wBPrsOp7jTNF"
   },
   "outputs": [],
   "source": [
    "# Проходим через все DataFrame в словаре dfs\n",
    "for name, ds in dfs.items():\n",
    "    # Печатаем разделитель и имя DataFrame\n",
    "    print(50*\"-\"+name.upper()+50*\"-\")\n",
    "    # Выводим развернутое статистическое описание числовых столбцов DataFrame\n",
    "    display(describe_full(ds))\n",
    "    # Печатаем два символа новой строки для удобства чтения\n",
    "    print(\"\\n\\n\")"
   ]
  },
  {
   "cell_type": "markdown",
   "metadata": {
    "id": "R2DCUSSgjTNG"
   },
   "source": [
    "### Обзор данных\n",
    "\n",
    "Данные представлены в нескольких датафреймах:\n",
    "\n",
    "1. **Contract:** Этот датафрейм содержит информацию о договорах. Всего в нем 7043 записи, пропущенных значений нет. Однако стоит отметить, что столбец TotalCharges имеет тип данных object, хотя предположительно должен быть числовым.\n",
    "\n",
    "2. **Internet:** Этот датафрейм содержит информацию об интернет-услугах. Всего в нем 5517 записей, пропущенных значений нет. Все столбцы имеют тип данных object, что соответствует описанию.\n",
    "\n",
    "3. **Personal:** Этот датафрейм содержит персональные данные клиентов. Всего в нем 7043 записи, пропущенных значений нет. Типы данных столбцов соответствуют описанию.\n",
    "\n",
    "4. **Phone:** Этот датафрейм содержит информацию об услугах телефонии. Всего в нем 6361 записи, пропущенных значений нет. Все столбцы имеют тип данных object, что соответствует описанию."
   ]
  },
  {
   "cell_type": "markdown",
   "metadata": {
    "id": "UMwnl5VGjTNG"
   },
   "source": [
    "Следующим шагом будет объединение этих датафреймов для дальнейшего анализа."
   ]
  },
  {
   "cell_type": "code",
   "execution_count": null,
   "metadata": {
    "ExecuteTime": {
     "end_time": "2023-08-10T10:28:21.207551500Z",
     "start_time": "2023-08-10T10:28:16.000843900Z"
    },
    "id": "7fbqdItPjTNO"
   },
   "outputs": [],
   "source": [
    "# Создаём список всех датафреймов\n",
    "dataframes = [contract, internet, personal, phone]\n",
    "\n",
    "# Функция для слияния двух датафреймов\n",
    "def merge_dataframes(df1, df2):\n",
    "    return pd.merge(df1, df2, on='customerID', how='outer')\n",
    "\n",
    "# Объединяем все датафреймы в один с помощью функции reduce\n",
    "df = reduce(merge_dataframes, dataframes)\n",
    "\n",
    "# Проверяем результат\n",
    "df.head()"
   ]
  },
  {
   "cell_type": "markdown",
   "metadata": {
    "id": "8aWeOUHkjTNO"
   },
   "source": [
    "### Объединенные данные\n",
    "\n",
    "После объединения датафреймов получили следующую общую информацию:\n",
    "\n",
    "- **Записи:** 7043\n",
    "- **Столбцы:** 20 (customerID, BeginDate, EndDate, Type, PaperlessBilling, PaymentMethod, MonthlyCharges, TotalCharges, InternetService, OnlineSecurity, OnlineBackup, DeviceProtection, TechSupport, StreamingTV, StreamingMovies, gender, SeniorCitizen, Partner, Dependents, MultipleLines)\n",
    "- **Пропущенные значения:** есть в столбцах InternetService, OnlineSecurity, OnlineBackup, DeviceProtection, TechSupport, StreamingTV, StreamingMovies и MultipleLines. Это может быть связано с тем, что не все клиенты пользуются всеми видами услуг.\n",
    "- **Примечание:** столбец TotalCharges имеет тип данных object, хотя предполагалось, что он будет числовым. Необходимо будет преобразовать его в числовой тип.\n",
    "\n",
    "Следующим шагом будет обработка пропущенных значений и преобразование типов данных, где это необходимо.\n"
   ]
  },
  {
   "cell_type": "code",
   "execution_count": null,
   "metadata": {
    "ExecuteTime": {
     "end_time": "2023-08-10T10:28:21.207551500Z",
     "start_time": "2023-08-10T10:28:16.050122700Z"
    },
    "id": "IbMC48c2fvML"
   },
   "outputs": [],
   "source": [
    "# новый признак+\n",
    "df['EndDate1']=df['EndDate']\n",
    "df.loc[df['EndDate1'] == 'No',  'EndDate1'] = pd.to_datetime('2020-02-01 00:00:00')\n",
    "df[\"days\"] =  (pd.to_datetime(df['EndDate1']) - pd.to_datetime(df['BeginDate'])).dt.days\n",
    "df= df.drop(['EndDate1'], axis=1)"
   ]
  },
  {
   "cell_type": "code",
   "execution_count": null,
   "metadata": {
    "ExecuteTime": {
     "end_time": "2023-08-10T10:28:21.284553100Z",
     "start_time": "2023-08-10T10:28:16.079169300Z"
    },
    "id": "Z_5eg0KEjTNO"
   },
   "outputs": [],
   "source": [
    "# Проверка на дубликаты\n",
    "print(f\"ДУбликаты : {df.duplicated().sum()}\")"
   ]
  },
  {
   "cell_type": "markdown",
   "metadata": {
    "id": "leJbG7hNjTNP"
   },
   "source": [
    "**Не содержит дубликатов. Это хороший знак, так как мы не должны заниматься удалением дублирующихся данных.**"
   ]
  },
  {
   "cell_type": "markdown",
   "metadata": {
    "id": "5DKwjMcSjTNP"
   },
   "source": [
    "### Категориальные признаки\n",
    "\n",
    "Ниже приведен список категориальных признаков в наших данных:\n",
    "\n",
    "1. **customerID** - идентификатор клиента\n",
    "2. **BeginDate** - дата начала пользования услугами\n",
    "3. **EndDate** - дата окончания пользования услугами\n",
    "4. **Type** - тип оплаты (ежемесячный, годовой и т.д.)\n",
    "5. **PaperlessBilling** - электронный платёжный документ\n",
    "6. **PaymentMethod** - способ оплаты\n",
    "7. **gender** - пол клиента\n",
    "8. **SeniorCitizen** - пенсионный статус клиента (1 - пенсионер, 0 - не пенсионер)\n",
    "9. **Partner** - наличие супруга(и)\n",
    "10. **Dependents** - наличие иждивенцев\n",
    "11. **InternetService** - тип интернет-соединения (DSL, Fiber optic, No)\n",
    "12. **OnlineSecurity** - наличие услуги онлайн-безопасности\n",
    "13. **OnlineBackup** - наличие услуги онлайн-резервного копирования\n",
    "14. **DeviceProtection** - наличие услуги защиты устройства\n",
    "15. **TechSupport** - наличие услуги технической поддержки\n",
    "16. **StreamingTV** - наличие услуги потокового телевидения\n",
    "17. **StreamingMovies** - наличие услуги потокового кино\n",
    "18. **MultipleLines** - наличие возможности ведения параллельных линий во время звонка\n"
   ]
  },
  {
   "cell_type": "code",
   "execution_count": null,
   "metadata": {
    "ExecuteTime": {
     "end_time": "2023-08-10T10:28:21.284553100Z",
     "start_time": "2023-08-10T10:28:16.100168Z"
    },
    "id": "4dg0PBQvjTNP"
   },
   "outputs": [],
   "source": [
    "len(df)"
   ]
  },
  {
   "cell_type": "code",
   "execution_count": null,
   "metadata": {
    "ExecuteTime": {
     "end_time": "2023-08-10T10:28:21.284553100Z",
     "start_time": "2023-08-10T10:28:16.104170400Z"
    },
    "id": "RDWCvHrejTNP"
   },
   "outputs": [],
   "source": [
    "# Преобразуем 'TotalCharges' в числовой тип, пропущенные значения заменим на 0\n",
    "df['TotalCharges'] = pd.to_numeric(df['TotalCharges'], errors='coerce').fillna(0)\n",
    "# Проверка пропущенных значений в 'totalcharges'\n",
    "df[df['TotalCharges'].isnull()]"
   ]
  },
  {
   "cell_type": "code",
   "execution_count": null,
   "metadata": {
    "ExecuteTime": {
     "end_time": "2023-08-10T10:28:21.318519100Z",
     "start_time": "2023-08-10T10:28:16.122761700Z"
    },
    "id": "DflolD5pjTNP"
   },
   "outputs": [],
   "source": [
    "# Нахождение признаков с пропущенными значениями\n",
    "missing_values_features = df.columns[df.isnull().any()].tolist()\n",
    "\n",
    "# Просмотр пропущенных значений\n",
    "df[missing_values_features].isnull().sum()"
   ]
  },
  {
   "cell_type": "markdown",
   "metadata": {
    "id": "gd6TdgP3jTNQ"
   },
   "source": [
    "### Обработка пропущенных значений\n",
    "\n",
    "В данных есть несколько столбцов с пропущенными значениями:\n",
    "\n",
    "1. **InternetService**, **OnlineSecurity**, **OnlineBackup**, **DeviceProtection**, **TechSupport**, **StreamingTV**, **StreamingMovies**: каждый из этих столбцов имеет 1526 пропущенных значений.\n",
    "2. **MultipleLines**: этот столбец содержит 682 пропущенных значения.\n",
    "\n",
    "Для всех этих признаков, мы предлагаем заменить пропущенные значения на \"NotUsed\". В нашем контексте это означает отсутствие определенной услуги.\n",
    "\n"
   ]
  },
  {
   "cell_type": "code",
   "execution_count": null,
   "metadata": {
    "ExecuteTime": {
     "end_time": "2023-08-10T10:28:21.318519100Z",
     "start_time": "2023-08-10T10:28:16.165930500Z"
    },
    "id": "EvDfs5hKjTNQ"
   },
   "outputs": [],
   "source": [
    "# Исправил по коментариям!!!\n",
    "# Замена пропущенных значений в 'multiplelines', 'techsupport', 'streamingtv', 'streamingmovies' на 'NotUsed'\n",
    "features_replace_no = ['InternetService', 'OnlineSecurity', 'OnlineBackup', 'DeviceProtection',\n",
    "       'TechSupport', 'StreamingTV', 'StreamingMovies', 'MultipleLines']\n",
    "for feature in features_replace_no:\n",
    "    df[feature].fillna('NotUsed', inplace=True)"
   ]
  },
  {
   "cell_type": "code",
   "execution_count": null,
   "metadata": {
    "ExecuteTime": {
     "end_time": "2023-08-10T10:28:21.319547600Z",
     "start_time": "2023-08-10T10:28:16.170909200Z"
    },
    "id": "YBhbFTJkjTNQ"
   },
   "outputs": [],
   "source": [
    "# Просмотр пропущенных значений\n",
    "df[missing_values_features].isnull().sum()"
   ]
  },
  {
   "cell_type": "markdown",
   "metadata": {
    "id": "_SoXyezRjTNQ"
   },
   "source": [
    "Дополнительно! добавим новый признак. Данные которые имеют большое количество пропусков будут дополнительными"
   ]
  },
  {
   "cell_type": "code",
   "execution_count": null,
   "metadata": {
    "ExecuteTime": {
     "end_time": "2023-08-10T10:28:21.319547600Z",
     "start_time": "2023-08-10T10:28:16.186671300Z"
    },
    "id": "CkdBWFeZfvMQ"
   },
   "outputs": [],
   "source": [
    "df"
   ]
  },
  {
   "cell_type": "code",
   "execution_count": null,
   "metadata": {
    "ExecuteTime": {
     "end_time": "2023-08-10T10:28:21.774746400Z",
     "start_time": "2023-08-10T10:28:16.213611800Z"
    },
    "id": "lrN8Wq6kjTNR"
   },
   "outputs": [],
   "source": [
    "\n",
    "# Столбцы с большим количеством пропусков будут считаться дополнительными услугами\n",
    "features_dop = ['OnlineSecurity', 'OnlineBackup', 'DeviceProtection',\n",
    "       'TechSupport', 'StreamingTV', 'StreamingMovies', 'MultipleLines']\n",
    "# Пересчитаем признак \"TotalServices\" с учётом только бинарных столбцов\n",
    "df['TotalServices'] = df[features_dop].apply(lambda row: sum(row == 'Yes'), axis=1)\n",
    "df['TotalServices'].unique()"
   ]
  },
  {
   "cell_type": "code",
   "execution_count": null,
   "metadata": {
    "ExecuteTime": {
     "end_time": "2023-08-10T10:28:21.775748100Z",
     "start_time": "2023-08-10T10:28:17.076398Z"
    },
    "id": "_Qs-HMfvjTNR"
   },
   "outputs": [],
   "source": [
    "#проверка не потеряли чего=)\n",
    "len(df)"
   ]
  },
  {
   "cell_type": "markdown",
   "metadata": {
    "id": "iNuRNVe6jTNR"
   },
   "source": [
    "### Обработка данных завершена\n",
    "\n",
    "Мы успешно обработали пропущенные значения и преобразовали столбец 'TotalCharges' в числовой тип. Теперь все признаки в нашем датафрейме имеют ожидаемые типы данных и нет пропущенных значений.\n",
    "\n",
    "Вот обновленная информация о датафрейме:\n",
    "\n",
    "- Записи: 7043\n",
    "- Столбцы: 20 (customerID, BeginDate, EndDate, Type, PaperlessBilling, PaymentMethod, MonthlyCharges, TotalCharges, InternetService, OnlineSecurity, OnlineBackup, DeviceProtection, TechSupport, StreamingTV, StreamingMovies, gender, SeniorCitizen, Partner, Dependents, MultipleLines)\n",
    "- Пропущенные значения: нет\n",
    "\n",
    "Следующим шагом будет исследование данных и их визуализация для более глубокого понимания.\n",
    "\n",
    "\n"
   ]
  },
  {
   "cell_type": "code",
   "execution_count": null,
   "metadata": {
    "ExecuteTime": {
     "end_time": "2023-08-10T10:28:23.470825900Z",
     "start_time": "2023-08-10T10:28:17.082547700Z"
    },
    "id": "e-jBqpzxjTNR"
   },
   "outputs": [],
   "source": [
    "# Визуализация распределения числовых признаков\n",
    "numeric_features = ['MonthlyCharges', 'TotalCharges']\n",
    "\n",
    "for feature in numeric_features:\n",
    "    plt.figure(figsize=(10, 4))\n",
    "\n",
    "    plt.subplot(1, 2, 1)\n",
    "    sns.histplot(df[feature], bins=30, kde=False)\n",
    "    plt.title('Распределение ' + feature)\n",
    "\n",
    "    plt.subplot(1, 2, 2)\n",
    "    sns.boxplot(x=df[feature])\n",
    "    plt.title('Ящик с усами ' + feature)\n",
    "\n",
    "    plt.tight_layout()\n",
    "    plt.show()\n",
    "\n",
    "# Визуализация бинарных и категориальных признаков\n",
    "binary_features = ['Type', 'PaperlessBilling', 'PaymentMethod', 'InternetService', 'OnlineSecurity',\n",
    "                   'OnlineBackup', 'DeviceProtection', 'TechSupport', 'StreamingTV', 'StreamingMovies',\n",
    "                   'gender', 'SeniorCitizen', 'Partner', 'Dependents', 'MultipleLines','TotalServices']\n",
    "\n",
    "for feature in binary_features:\n",
    "    plt.figure(figsize=(6, 4))\n",
    "    sns.countplot(x=df[feature])\n",
    "    plt.title('Распределение ' + feature)\n",
    "    plt.xticks(rotation=90)\n",
    "    plt.tight_layout()\n",
    "    plt.show()\n"
   ]
  },
  {
   "cell_type": "markdown",
   "metadata": {
    "id": "_5JarC_HjTNS"
   },
   "source": [
    "### Анализ признаков\n",
    "\n",
    "#### Числовые признаки:\n",
    "\n",
    "**'MonthlyCharges'**:\n",
    "Большинство ежемесячных платежей находятся в диапазоне от 20 до 30 и от 70 до 100. Есть меньшее количество клиентов с ежемесячными платежами в диапазоне от 30 до 70.\n",
    "\n",
    "**'TotalCharges'**:\n",
    "Большинство общих платежей находятся в диапазоне от 0 до 5000. Есть некоторое количество клиентов с общими платежами более 5000.\n",
    "\n",
    "#### Бинарные и категориальные признаки:\n",
    "\n",
    "**'Type'**:\n",
    "Большинство клиентов предпочитают платить по месячной системе.\n",
    "\n",
    "**'PaperlessBilling'**:\n",
    "Большинство клиентов предпочитают безбумажную систему оплаты.\n",
    "\n",
    "**'PaymentMethod'**:\n",
    "Большинство клиентов предпочитают автоматический способ оплаты через банк или электронную систему оплаты. Меньшинство клиентов предпочитают оплату чеком.\n",
    "\n",
    "**'InternetService'**:\n",
    "Большинство клиентов используют оптоволоконный интернет, в то время как некоторые клиенты используют DSL. Есть также некоторое количество клиентов, которые не используют интернет-услуги.\n",
    "\n",
    "**'OnlineSecurity', 'OnlineBackup', 'DeviceProtection', 'TechSupport'**:\n",
    "Большинство клиентов не используют эти услуги.\n",
    "\n",
    "**'StreamingTV', 'StreamingMovies'**:\n",
    "Распределение клиентов примерно одинаково между теми, кто использует эти услуги, и теми, кто их не использует.\n",
    "\n",
    "**'gender'**:\n",
    "Количество мужчин и женщин примерно одинаково.\n",
    "\n",
    "**'SeniorCitizen'**:\n",
    "Большинство клиентов не являются пенсионерами.\n",
    "\n",
    "**'Partner', 'Dependents'**:\n",
    "Распределение клиентов примерно одинаково между теми, у кого есть партнеры или иждивенцы, и теми, у кого их нет.\n",
    "\n",
    "**'MultipleLines'**:\n",
    "Большинство клиентов не имеют возможности использования нескольких линий.\n",
    "\n",
    "В следующем шаге мы обработаем категориальные признаки и подготовим данные к моделированию.\n"
   ]
  },
  {
   "cell_type": "code",
   "execution_count": null,
   "metadata": {
    "ExecuteTime": {
     "end_time": "2023-08-10T10:28:23.608825400Z",
     "start_time": "2023-08-10T10:28:21.569358300Z"
    },
    "id": "--oKN1pKjTNS"
   },
   "outputs": [],
   "source": [
    "df.head()"
   ]
  },
  {
   "cell_type": "code",
   "execution_count": null,
   "metadata": {
    "ExecuteTime": {
     "end_time": "2023-08-10T10:28:23.608825400Z",
     "start_time": "2023-08-10T10:28:21.602023600Z"
    },
    "id": "ejG2u_RgjTNS"
   },
   "outputs": [],
   "source": [
    "# Кодируем 'EndDate' в бинарный формат\n",
    "df['EndDate'] = df['EndDate'].apply(lambda x: 0 if x == \"No\" else 1)"
   ]
  },
  {
   "cell_type": "markdown",
   "metadata": {
    "id": "xchMsXVWjTNS"
   },
   "source": [
    "### временное распределение клиентов ( тренд по уходу)"
   ]
  },
  {
   "cell_type": "code",
   "execution_count": null,
   "metadata": {
    "ExecuteTime": {
     "end_time": "2023-08-10T10:28:23.609825700Z",
     "start_time": "2023-08-10T10:28:21.608686200Z"
    },
    "id": "FHYTU4tmjTNS"
   },
   "outputs": [],
   "source": [
    "# # Преобразуем 'BeginDate' в формат datetime\n",
    "df['BeginDate'] = pd.to_datetime(df['BeginDate'])"
   ]
  },
  {
   "cell_type": "code",
   "execution_count": null,
   "metadata": {
    "ExecuteTime": {
     "end_time": "2023-08-10T10:28:23.611826200Z",
     "start_time": "2023-08-10T10:28:21.619724700Z"
    },
    "id": "axGi4ESGjTNT"
   },
   "outputs": [],
   "source": [
    "# Создаем новые датафреймы, группируя данные по месяцам начала пользования услугами и считая средний ежемесячный платеж для ушедших и не ушедших клиентов\n",
    "churn_monthly_charges = df[df['EndDate'] == 1].groupby(df['BeginDate'].dt.to_period('M'))['MonthlyCharges'].mean()\n",
    "not_churn_monthly_charges = df[df['EndDate'] == 0].groupby(df['BeginDate'].dt.to_period('M'))['MonthlyCharges'].mean()\n",
    "\n",
    "# Выводим тренд среднего ежемесячного платежа ушедших и не ушедших клиентов\n",
    "plt.figure(figsize=(12, 6))\n",
    "churn_monthly_charges.plot(kind='line', label='Ушедшие клиенты')\n",
    "not_churn_monthly_charges.plot(kind='line', label='Не ушедшие клиенты')\n",
    "plt.title('Тренд среднего ежемесячного платежа ушедших и не ушедших клиентов')\n",
    "plt.xlabel('Дата начала пользования услугами')\n",
    "plt.ylabel('Средний ежемесячный платеж')\n",
    "plt.legend()\n",
    "plt.show()\n",
    "\n"
   ]
  },
  {
   "cell_type": "markdown",
   "metadata": {
    "id": "tpf0SqdLjTNT"
   },
   "source": [
    "* На графике представлен тренд ухода клиентов в зависимости от даты начала использования услуг. Мы видим, что количество ушедших клиентов варьируется в зависимости от месяца начала использования услуг, но нет явного общего тренда роста или снижения.\n",
    "\n",
    "* Важно отметить, что эти данные не предоставляют полной информации о причинах ухода клиентов и могут включать факторы, которые мы не учли в нашем анализе, такие как изменения в условиях услуг, конкуренция на рынке и так далее.\n",
    "\n",
    "* В целом, поиск способов снижения оттока клиентов будет полезным для бизнеса, и модель прогнозирования, которую мы разработали, может помочь в этом."
   ]
  },
  {
   "cell_type": "code",
   "execution_count": null,
   "metadata": {
    "ExecuteTime": {
     "end_time": "2023-08-10T10:28:23.628825500Z",
     "start_time": "2023-08-10T10:28:22.054737500Z"
    },
    "id": "yCq0K6XMjTNT"
   },
   "outputs": [],
   "source": [
    "# Создаем новые датафреймы, группируя данные по месяцам начала пользования услугами и считая стандартное отклонение ежемесячного платежа для ушедших и не ушедших клиентов\n",
    "churn_monthly_charges_std = df[df['EndDate'] == 1].groupby(df['BeginDate'].dt.to_period('M'))['MonthlyCharges'].std()\n",
    "not_churn_monthly_charges_std = df[df['EndDate'] == 0].groupby(df['BeginDate'].dt.to_period('M'))['MonthlyCharges'].std()\n",
    "\n",
    "# Выводим тренд изменения стандартного отклонения ежемесячного платежа ушедших и не ушедших клиентов\n",
    "plt.figure(figsize=(12, 6))\n",
    "churn_monthly_charges_std.plot(kind='line', label='Ушедшие клиенты')\n",
    "not_churn_monthly_charges_std.plot(kind='line', label='Не ушедшие клиенты')\n",
    "plt.title('Тренд изменения стандартного отклонения ежемесячного платежа ушедших и не ушедших клиентов')\n",
    "plt.xlabel('Дата начала пользования услугами')\n",
    "plt.ylabel('Стандартное отклонение ежемесячного платежа')\n",
    "plt.legend()\n",
    "plt.show()"
   ]
  },
  {
   "cell_type": "markdown",
   "metadata": {
    "id": "UJ9kpwAUjTNT"
   },
   "source": [
    "* На графике представлен тренд среднего ежемесячного платежа для ушедших (синий) и не ушедших (оранжевый) клиентов.\n",
    "\n",
    "* Мы видим, что средний ежемесячный платеж ушедших клиентов, в целом, выше, чем у клиентов, которые остались. Это может указывать на то, что цена является одним из факторов, которые влияют на решение клиента уйти.\n",
    "\n",
    "* В то же время, мы видим, что с течением времени средний ежемесячный платеж как у ушедших, так и у не ушедших клиентов имеет тенденцию к росту. Это может быть связано с повышением цен на услуги или с тем, что клиенты со временем начинают пользоваться большим количеством услуг, что увеличивает их ежемесячный платеж.\n",
    "\n",
    "* Также стоит отметить, что в начале периода (с 2014 по 2015 год) у нас мало данных, поэтому в этот период могут наблюдаться значительные колебания в среднем ежемесячном платеже.\n",
    "\n",
    "* Эти выводы могут быть полезными для бизнеса при разработке стратегий удержания клиентов.\n",
    "\n"
   ]
  },
  {
   "cell_type": "code",
   "execution_count": null,
   "metadata": {
    "ExecuteTime": {
     "end_time": "2023-08-10T10:28:29.979239700Z",
     "start_time": "2023-08-10T10:28:22.484823800Z"
    },
    "id": "FcXNPk7cfvMW"
   },
   "outputs": [],
   "source": [
    "# Явно задаем интервальные столбцы(исправлено)\n",
    "interval_columns = ['MonthlyCharges', 'days', 'TotalCharges']"
   ]
  },
  {
   "cell_type": "code",
   "execution_count": null,
   "metadata": {
    "ExecuteTime": {
     "end_time": "2023-08-10T10:28:29.979239700Z",
     "start_time": "2023-08-10T10:28:22.484823800Z"
    },
    "id": "XHJCX7SOfvMa"
   },
   "outputs": [],
   "source": [
    "dfc = df.drop(['customerID'], axis=1)\n",
    "# Вычисление матрицы корреляции phik с учетом интервальных столбцов\n",
    "correlation_matrix = dfc.phik_matrix(interval_cols=interval_columns)\n",
    "# Визуализация матрицы корреляции с помощью heatmap\n",
    "plt.figure(figsize=(12, 10))\n",
    "sns.heatmap(correlation_matrix, annot=True, cmap='coolwarm', vmin=-1, vmax=1)\n",
    "plt.title('Phik матрица корреляции')\n",
    "plt.show()"
   ]
  },
  {
   "cell_type": "markdown",
   "metadata": {
    "id": "aOWudF0vfvMa"
   },
   "source": [
    "Обнаружили высокую мультиколлинеарность, вот несколько способов её устранения:\n",
    "выше  0,9 у 'InternetService','OnlineSecurity', 'OnlineBackup', 'DeviceProtection', 'TechSupport','StreamingTV', 'StreamingMovies',days.\n",
    "\n",
    "* Удалите одну из высококоррелированных переменных.\n",
    "* Сделайте комбинированную переменную из двух или более переменных.\n",
    "* Используйте методы регуляризации, такие как Ridge или Lasso регрессия.**(используем это)**\n",
    "для скорости можно оставить 'InternetService', остальное удалить"
   ]
  },
  {
   "cell_type": "code",
   "execution_count": null,
   "metadata": {
    "ExecuteTime": {
     "end_time": "2023-08-10T10:28:30.011272800Z",
     "start_time": "2023-08-10T10:28:29.979239700Z"
    },
    "id": "smfDSg14fvMa"
   },
   "outputs": [],
   "source": [
    "df['EndDate'].unique()"
   ]
  },
  {
   "cell_type": "code",
   "execution_count": null,
   "metadata": {
    "ExecuteTime": {
     "end_time": "2023-08-10T10:28:30.011272800Z",
     "start_time": "2023-08-10T10:28:29.979239700Z"
    },
    "id": "p8Or_lyLfvMb"
   },
   "outputs": [],
   "source": [
    "df = df.drop(['InternetService','OnlineSecurity', 'OnlineBackup', 'DeviceProtection', 'TechSupport','StreamingTV', 'StreamingMovies'], axis=1)"
   ]
  },
  {
   "cell_type": "markdown",
   "metadata": {
    "id": "GS1TmF6zjTNU"
   },
   "source": [
    "### Разделяем датафрейм на признаки и целевую переменную\n",
    "кодируем"
   ]
  },
  {
   "cell_type": "code",
   "execution_count": null,
   "metadata": {
    "ExecuteTime": {
     "end_time": "2023-08-10T10:28:30.011272800Z",
     "start_time": "2023-08-10T10:28:29.979239700Z"
    },
    "id": "HkBgyjzujTNU"
   },
   "outputs": [],
   "source": [
    "# Разделяем датафрейм на признаки и целевую переменную(исправил)\n",
    "X = df.drop(['customerID', 'EndDate','BeginDate'], axis=1)\n",
    "y = df['EndDate']"
   ]
  },
  {
   "cell_type": "code",
   "execution_count": null,
   "metadata": {
    "ExecuteTime": {
     "end_time": "2023-08-10T10:28:30.011272800Z",
     "start_time": "2023-08-10T10:28:29.981264400Z"
    },
    "id": "78BX8Za0fvMc"
   },
   "outputs": [],
   "source": [
    "# Разделяем данные на обучающую и тестовую выборки\n",
    "X_train, X_test, y_train, y_test = train_test_split(X, y, test_size=0.25, random_state=random_state, stratify=y)"
   ]
  },
  {
   "cell_type": "code",
   "execution_count": null,
   "metadata": {
    "ExecuteTime": {
     "end_time": "2023-08-10T10:28:30.011272800Z",
     "start_time": "2023-08-10T10:28:29.995053700Z"
    },
    "id": "RtDmYjmPfvMc"
   },
   "outputs": [],
   "source": [
    "# Создаем списки числовых и категориальных признаков\n",
    "numeric_features = ['MonthlyCharges', 'TotalCharges','days']\n",
    "categorical_features = list(set(X.columns) - set(numeric_features))"
   ]
  },
  {
   "cell_type": "code",
   "execution_count": null,
   "metadata": {
    "ExecuteTime": {
     "end_time": "2023-08-10T10:28:30.012275200Z",
     "start_time": "2023-08-10T10:28:30.001342800Z"
    },
    "id": "_Lpe9_FAfvMd"
   },
   "outputs": [],
   "source": [
    "#Преобразуем имена столбцов в индексы:\n",
    "numeric_feature_indices = [X.columns.get_loc(col) for col in numeric_features]\n",
    "categorical_feature_indices = [X.columns.get_loc(col) for col in categorical_features]\n"
   ]
  },
  {
   "cell_type": "code",
   "execution_count": null,
   "metadata": {
    "ExecuteTime": {
     "end_time": "2023-08-10T10:28:30.283344900Z",
     "start_time": "2023-08-10T10:28:30.008530200Z"
    },
    "id": "vc_KNCt_fvMd"
   },
   "outputs": [],
   "source": [
    "\n",
    "# Создаем трансформеры для числовых и категориальных признаков\n",
    "numeric_transformer = StandardScaler()\n",
    "\n",
    "\n",
    "\n",
    "# Трансформер для линейных моделей\n",
    "linear_preprocessor = ColumnTransformer(\n",
    "    transformers=[\n",
    "        ('num', numeric_transformer, numeric_feature_indices),\n",
    "        ('cat', OneHotEncoder(handle_unknown='ignore',drop='first'), categorical_feature_indices)\n",
    "    ])\n",
    "\n",
    "# Для OrdinalEncoder добавим обработку неизвестных категорий(доработка)\n",
    "# Установим handle_unknown='use_encoded_value' и unknown_value=-1 (или любое другое значение, которое вы посчитаете подходящим)\n",
    "ordinal_encoder = OrdinalEncoder(handle_unknown='use_encoded_value', unknown_value=-1)\n",
    "\n",
    "# Трансформер для древовидных моделей\n",
    "tree_preprocessor = ColumnTransformer(\n",
    "    transformers=[\n",
    "        ('num', numeric_transformer, numeric_feature_indices),\n",
    "        ('cat', ordinal_encoder, categorical_feature_indices)\n",
    "    ])\n",
    "\n",
    "\n",
    "# # Трансформер для древовидных моделей\n",
    "# tree_preprocessor = ColumnTransformer(\n",
    "#     transformers=[\n",
    "#         ('num', numeric_transformer, numeric_feature_indices),\n",
    "#         ('cat', OrdinalEncoder(), categorical_feature_indices)\n",
    "#     ])\n"
   ]
  },
  {
   "cell_type": "code",
   "execution_count": null,
   "metadata": {
    "ExecuteTime": {
     "end_time": "2023-08-10T10:28:30.284345700Z",
     "start_time": "2023-08-10T10:28:30.013248Z"
    },
    "id": "I8APHjYkfvMf"
   },
   "outputs": [],
   "source": [
    " # Преобразуем данные (перенес  в pipline ниже)\n",
    "# X_train = preprocessor.fit_transform(X_train)\n",
    "# X_test = preprocessor.transform(X_test)"
   ]
  },
  {
   "cell_type": "code",
   "execution_count": null,
   "metadata": {
    "ExecuteTime": {
     "end_time": "2023-08-10T10:28:30.285345100Z",
     "start_time": "2023-08-10T10:28:30.019256600Z"
    },
    "id": "Su82Gxu7jTNU"
   },
   "outputs": [],
   "source": [
    "X_train.shape, X_test.shape\n"
   ]
  },
  {
   "cell_type": "code",
   "execution_count": null,
   "metadata": {
    "ExecuteTime": {
     "end_time": "2023-08-10T10:28:30.285345100Z",
     "start_time": "2023-08-10T10:28:30.025330300Z"
    },
    "id": "Bhu_pipEjTNU"
   },
   "outputs": [],
   "source": [
    "# Проверка баланса классов\n",
    "class_balance = y_train.value_counts(normalize=True)\n",
    "print(\"Class balance:\")\n",
    "print(class_balance)"
   ]
  },
  {
   "cell_type": "markdown",
   "metadata": {
    "id": "MNivi25AjTNV"
   },
   "source": [
    "### Разделение данных и баланс классов\n",
    "\n",
    "**Разделение данных**: Данные были успешно разделены на обучающую и тестовую выборки.\n",
    "\n",
    "**Баланс классов**: Проверка баланса классов показывает, что у нас имеется дисбаланс классов:\n",
    "\n",
    "- Класс \"0\" (клиенты, которые остаются) составляет примерно 84% от обучающей выборки.\n",
    "- Класс \"1\" (клиенты, которые ушли) составляет только около 16%.\n",
    "\n",
    "**Проблема дисбаланса классов**: Это может привести к тому, что модель будет предсказывать большинственный класс лучше, чем миноритарный, что может быть проблемой, поскольку нас интересует именно прогнозирование оттока клиентов.\n",
    "\n",
    "**Возможные решения**: Есть несколько способов устранения дисбаланса классов, включая:\n",
    "\n",
    "- **Undersampling** - случайное удаление примеров из большинственного класса.\n",
    "- **Oversampling** - случайное дублирование примеров из миноритарного класса.\n",
    "- **SMOTE** (Synthetic Minority Over-sampling Technique) - создание синтетических примеров миноритарного класса.\n",
    "\n",
    "Важно отметить, что эти техники должны применяться только к обучающей выборке, чтобы избежать утечки информации из тестовой выборки.\n",
    "НО что целевая метрика проекта - `AUC-ROC`,нечувствительна к дисбалансу."
   ]
  },
  {
   "cell_type": "code",
   "execution_count": null,
   "metadata": {
    "ExecuteTime": {
     "end_time": "2023-08-10T10:28:30.285345100Z",
     "start_time": "2023-08-10T10:28:30.033553200Z"
    },
    "id": "pwbINrFDjTNV"
   },
   "outputs": [],
   "source": [
    "# # Инициализация SMOTE( ненужно)\n",
    "# smote = SMOTE(random_state=random_state)\n",
    "\n",
    "# # Применение SMOTE к обучающей выборке\n",
    "# X_train, y_train = smote.fit_resample(X_train, y_train)\n",
    "\n",
    "# # Проверка баланса классов после применения SMOTE\n",
    "# class_balance = y_train.value_counts(normalize=True)\n",
    "# print(\"Class balance after SMOTE:\")\n",
    "# print(class_balance)\n"
   ]
  },
  {
   "cell_type": "code",
   "execution_count": null,
   "metadata": {
    "ExecuteTime": {
     "end_time": "2023-08-10T10:28:30.289345100Z",
     "start_time": "2023-08-10T10:28:30.038045300Z"
    },
    "id": "kpoQvYTVjTNV"
   },
   "outputs": [],
   "source": [
    "\n",
    "# Задаем параметры для инициализации моделей\n",
    "logistic_params = {'random_state': random_state, 'penalty': 'elasticnet', 'solver': 'saga', 'l1_ratio': 0.5}\n",
    "lgbm_params = {'random_state': random_state, 'n_jobs': -1}\n",
    "xgb_params = {'random_state': random_state, 'use_label_encoder': False, 'eval_metric': 'logloss', 'n_jobs': -1}"
   ]
  },
  {
   "cell_type": "code",
   "execution_count": null,
   "metadata": {
    "ExecuteTime": {
     "end_time": "2023-08-10T10:28:30.398344800Z",
     "start_time": "2023-08-10T10:28:30.045851400Z"
    },
    "id": "QhbUv7WDfvMj"
   },
   "outputs": [],
   "source": [
    "\n",
    "# Задаем гиперпараметры для каждой модели\n",
    "logistic_grid = {\n",
    "    'model__C': [0.001, 0.01, 0.1, 1, 10],\n",
    "    'model__l1_ratio': [0.1, 0.5, 0.9]\n",
    "}\n",
    "\n",
    "lgbm_grid = {\n",
    "    'model__n_estimators': [200, 250,400,500,800],\n",
    "    'model__learning_rate': [0.001, 0.01, 0.1],\n",
    "    'model__max_depth': [3, 5, 7, 10, 14, 20],\n",
    "    'model__num_leaves': [31, 50, 100, 150]\n",
    "}\n",
    "\n",
    "xgb_grid = {\n",
    "    'model__n_estimators': [200, 250,400,500,800],\n",
    "    'model__learning_rate': [0.001, 0.01, 0.1],\n",
    "    'model__max_depth': [3, 5, 7, 10, 14, 20]\n",
    "\n",
    "}"
   ]
  },
  {
   "cell_type": "code",
   "execution_count": null,
   "metadata": {
    "ExecuteTime": {
     "end_time": "2023-08-10T10:32:22.521945500Z",
     "start_time": "2023-08-10T10:28:30.051343900Z"
    },
    "id": "fxWC2HvBfvMj"
   },
   "outputs": [],
   "source": [
    "\n",
    "# Создание пайплайнов преобразования и обучения для разных типов моделей\n",
    "logistic_pipeline = Pipeline(steps=[\n",
    "    ('preprocessor', linear_preprocessor),\n",
    "    ('model', LogisticRegression(**logistic_params))\n",
    "])\n",
    "\n",
    "lgbm_pipeline = Pipeline(steps=[\n",
    "    ('preprocessor', tree_preprocessor),\n",
    "    ('model', LGBMClassifier(**lgbm_params))\n",
    "])\n",
    "\n",
    "xgb_pipeline = Pipeline(steps=[\n",
    "    ('preprocessor', tree_preprocessor),\n",
    "    ('model', XGBClassifier(**xgb_params))\n",
    "])\n",
    "\n",
    "# Создаем список с моделями и их гиперпараметрами\n",
    "models = [\n",
    "    ('LogisticRegression', logistic_pipeline, logistic_grid),\n",
    "    ('LightGBM', lgbm_pipeline, lgbm_grid),\n",
    "    ('XGBoost', xgb_pipeline, xgb_grid)\n",
    "]\n",
    "\n",
    "# Задаем параметры для кросс-валидации\n",
    "cv = 5  # количество блоков для кросс-валидации\n",
    "# Словарь для хранения лучших моделей\n",
    "best_models = {}\n",
    "\n",
    "# Обучаем модели, выполняем кросс-валидацию и выводим результаты\n",
    "for name, pipeline, grid in models:\n",
    "    # Инициализируем GridSearchCV с пайплайном\n",
    "    grid_search = GridSearchCV(pipeline, grid, cv=cv, scoring='roc_auc', n_jobs=-1)\n",
    "\n",
    "    # Обучаем модель и ищем лучшие параметры\n",
    "    grid_search.fit(X_train, y_train)\n",
    "\n",
    "    # Получаем и сохраняем лучшие параметры и модель\n",
    "    best_params = grid_search.best_params_\n",
    "    best_model = grid_search.best_estimator_\n",
    "\n",
    "    # Сохраняем лучшую модель в словаре\n",
    "    best_models[name] = best_model\n",
    "\n",
    "    # Извлекаем ROC-AUC на кросс-валидации\n",
    "    cv_roc_auc = grid_search.best_score_\n",
    "\n",
    "    # Выводим метрики и лучшие параметры\n",
    "    print(f\"Модель: {name}\")\n",
    "    print(f\"Лучшие параметры: {best_params}\")\n",
    "    print(f\"ROC-AUC на кросс-валидации: {cv_roc_auc:.3f}\")\n",
    "    print('-------------------------------------------')\n"
   ]
  },
  {
   "cell_type": "markdown",
   "metadata": {
    "id": "ZxyLetmPjTNW"
   },
   "source": [
    "### ДОПОЛНИТЕЛЬНО\n"
   ]
  },
  {
   "cell_type": "markdown",
   "metadata": {
    "id": "4ba2x28OjTNW"
   },
   "source": [
    "#### OPTUNA"
   ]
  },
  {
   "cell_type": "code",
   "execution_count": null,
   "metadata": {
    "ExecuteTime": {
     "end_time": "2023-08-10T10:32:22.521945500Z",
     "start_time": "2023-08-10T10:32:22.521945500Z"
    },
    "id": "2vLKNr9tjTNW"
   },
   "outputs": [],
   "source": [
    "def objective(trial):\n",
    "    # Определите параметры, которые вы хотите оптимизировать\n",
    "    params = {\n",
    "        'model__n_estimators': trial.suggest_int('n_estimators', 50, 800),\n",
    "        'model__learning_rate': trial.suggest_float('learning_rate', 0.01, 1, log=True),\n",
    "        'model__max_depth': trial.suggest_int('max_depth', 3,20),\n",
    "        'model__use_label_encoder': False,\n",
    "        'model__eval_metric': 'logloss',\n",
    "        'model__n_jobs': -1,\n",
    "        'model__random_state': random_state\n",
    "    }\n",
    "\n",
    "    # Создайте пайплайн с текущими параметрами\n",
    "    xgb_pipeline = Pipeline(steps=[\n",
    "        ('preprocessor', tree_preprocessor),\n",
    "        ('model', XGBClassifier())\n",
    "    ])\n",
    "\n",
    "    # Обновите пайплайн с помощью заданных параметров\n",
    "    xgb_pipeline.set_params(**params)\n",
    "\n",
    "    # Выполняйте кросс-валидацию и получайте средний ROC-AUC\n",
    "    roc_auc_scores = cross_val_score(xgb_pipeline, X_train, y_train, cv=5, scoring='roc_auc', n_jobs=-1)\n",
    "    mean_roc_auc = roc_auc_scores.mean()\n",
    "\n",
    "    return mean_roc_auc\n"
   ]
  },
  {
   "cell_type": "code",
   "execution_count": null,
   "metadata": {
    "ExecuteTime": {
     "end_time": "2023-08-10T10:34:48.490301400Z",
     "start_time": "2023-08-10T10:32:22.521945500Z"
    },
    "id": "0Sd-mA16fvMm"
   },
   "outputs": [],
   "source": [
    "# Инициализируем процесс оптимизации: хотим максимизировать метрику\n",
    "study = optuna.create_study(direction='maximize')\n",
    "# Запускаем оптимизацию для 50 итераций (можно изменить)\n",
    "study.optimize(objective, n_trials=50)\n",
    "\n",
    "# Выводим лучшие найденные параметры и соответствующее им значение ROC-AUC\n",
    "print(f\"Лучшие параметры: {study.best_params}\")\n",
    "print(f\"Лучший ROC-AUC: {study.best_value}\")"
   ]
  },
  {
   "cell_type": "markdown",
   "metadata": {
    "id": "QaXRdBjjjTNW"
   },
   "source": [
    "#### При использовании GridSearchCV в scoring, помимо AUC-ROC, передай также метрики accuracy, recall, precision и f1 с переобучением по AUC-ROC. Результаты кросс-валидации оформи в виде таблицы, где по каждой модели будут значения соответствующих метрик. Результаты извлеки из cv_results_ с помощью best_index_."
   ]
  },
  {
   "cell_type": "code",
   "execution_count": null,
   "metadata": {
    "ExecuteTime": {
     "end_time": "2023-08-10T10:38:51.165510Z",
     "start_time": "2023-08-10T10:34:48.489326300Z"
    },
    "colab": {
     "background_save": true
    },
    "id": "h3hNqnwHjTNW"
   },
   "outputs": [],
   "source": [
    "# Определяем словарь с метриками, которые мы хотим использовать\n",
    "scorers = {\n",
    "    'roc_auc': 'roc_auc',  # ROC-AUC\n",
    "    'accuracy': make_scorer(accuracy_score),  # Точность\n",
    "    'recall': make_scorer(recall_score),  # Полнота\n",
    "    'precision': make_scorer(precision_score),  # Точность (прецизионность)\n",
    "    'f1': make_scorer(f1_score)}  # F1-мера\n",
    "\n",
    "\n",
    "#  список моделей, чтобы он включал пайплайны, а не отдельные модели:\n",
    "\n",
    "\n",
    "# Создаем список с моделями и их гиперпараметрами\n",
    "models = [\n",
    "    ('LogisticRegression', logistic_pipeline, logistic_grid),\n",
    "    ('LightGBM', lgbm_pipeline, lgbm_grid),\n",
    "    ('XGBoost', xgb_pipeline, xgb_grid)\n",
    "]\n",
    "\n",
    "# Соберем результаты в список для дальнейшего преобразования в DataFrame\n",
    "results_df = []\n",
    "\n",
    "# Проходим по списку моделей и их гиперпараметрам для оптимизации\n",
    "for name, model, grid in models:\n",
    "    # Инициализируем GridSearchCV с множественными метриками\n",
    "    grid_search = GridSearchCV(model, grid, cv=cv, scoring=scorers, refit='roc_auc', n_jobs=-1)\n",
    "    grid_search.fit(X_train, y_train)  # Обучаем модели\n",
    "\n",
    "    # Извлекаем результаты для лучших параметров\n",
    "    best_idx = grid_search.best_index_\n",
    "    results = {\n",
    "        'Model': name,\n",
    "        'Best Params': grid_search.best_params_,\n",
    "        'ROC-AUC': grid_search.cv_results_['mean_test_roc_auc'][best_idx],\n",
    "        'Accuracy': grid_search.cv_results_['mean_test_accuracy'][best_idx],\n",
    "        'Recall': grid_search.cv_results_['mean_test_recall'][best_idx],\n",
    "        'Precision': grid_search.cv_results_['mean_test_precision'][best_idx],\n",
    "        'F1 Score': grid_search.cv_results_['mean_test_f1'][best_idx]\n",
    "    }\n",
    "\n",
    "    results_df.append(results)  # Добавляем результаты в список\n",
    "\n",
    "# Преобразуем список результатов в DataFrame для удобства представления\n",
    "\n",
    "results_df = pd.DataFrame(results_df)\n",
    "\n",
    "# Выводим результаты\n",
    "results_df\n",
    "\n"
   ]
  },
  {
   "cell_type": "markdown",
   "metadata": {
    "id": "2W9ecno-jTNX"
   },
   "source": [
    "#### Сделай бэгинг и стэкниг из моделей KNN, SVM и CatBoost в качестве дополнительной модели.\n",
    "* CatBoost используй в качестве мета-модели при стэкнге\n",
    "* Гиперпараметры для них подбирать не нужно - оценку можно выполнить просто на кросс-валидации или с помощью GridSearchCV и пустого словаря гиперпараметров.\n",
    "\n",
    "* Бэггинг :\n",
    "Основан на принципе усреднения ответов нескольких моделей машинного обучения для уменьшения дисперсии.\n",
    "\n",
    "* Стэкинг :\n",
    "Комбинирует прогнозы из нескольких моделей машинного обучения для генерации нового набора данных, который затем используется для обучения так называемой мета-модели."
   ]
  },
  {
   "cell_type": "code",
   "execution_count": null,
   "metadata": {
    "ExecuteTime": {
     "end_time": "2023-08-10T10:38:51.165510Z",
     "start_time": "2023-08-10T10:38:51.164511300Z"
    },
    "id": "F_xhyzfTfvMn"
   },
   "outputs": [],
   "source": [
    "# Бэггинг для KNN\n",
    "knn_pipeline = Pipeline(steps=[\n",
    "        ('preprocessor', linear_preprocessor),\n",
    "        ('model', KNeighborsClassifier())\n",
    "    ])\n",
    "\n",
    "# Бэггинг для SVM\n",
    "svm_pipeline = Pipeline(steps=[\n",
    "        ('preprocessor', linear_preprocessor),\n",
    "        ('model', SVC(probability=True,random_state=random_state))# Включаем опцию probability и задаем random_state\n",
    "    ])"
   ]
  },
  {
   "cell_type": "code",
   "execution_count": null,
   "metadata": {
    "ExecuteTime": {
     "end_time": "2023-08-10T10:39:12.828028300Z",
     "start_time": "2023-08-10T10:38:51.165510Z"
    },
    "id": "awMi3TTjjTNX"
   },
   "outputs": [],
   "source": [
    "bagged_knn = BaggingClassifier(base_estimator=knn_pipeline, n_estimators=100, random_state=random_state)\n",
    "\n",
    "# Определим параметры для GridSearchCV (пустой, потому что вы не хотели подбирать гиперпараметры)\n",
    "params = {}\n",
    "\n",
    "# Определим GridSearchCV\n",
    "grid_search = GridSearchCV(bagged_knn, param_grid=params, cv=5, scoring='roc_auc', n_jobs=-1)\n",
    "grid_search.fit(X_train, y_train)\n",
    "\n",
    "# Получим ROC-AUC из лучшего оценщика\n",
    "predicted_probs_knn = grid_search.best_estimator_.predict_proba(X_train)[:, 1]\n",
    "roc_auc_knn = roc_auc_score(y_train, predicted_probs_knn)\n",
    "print(f\"ROC-AUC for bagged KNN: {roc_auc_knn:.3f}\")\n",
    "\n"
   ]
  },
  {
   "cell_type": "code",
   "execution_count": null,
   "metadata": {
    "ExecuteTime": {
     "end_time": "2023-08-10T10:56:27.991156600Z",
     "start_time": "2023-08-10T10:39:12.827025700Z"
    },
    "id": "zE2TrMkNfvMo"
   },
   "outputs": [],
   "source": [
    "\n",
    "# Бэггинг для модели SVM\n",
    "bagged_svm = BaggingClassifier(base_estimator=svm_pipeline, n_estimators=50, random_state=random_state)\n",
    "\n",
    "# Определим параметры для GridSearchCV (пустой, потому что вы не хотели подбирать гиперпараметры)\n",
    "params = {}\n",
    "\n",
    "# Определим GridSearchCV\n",
    "grid_search_svm = GridSearchCV(bagged_svm, param_grid=params, cv=5, scoring='roc_auc', n_jobs=-1)\n",
    "grid_search_svm.fit(X_train, y_train)\n"
   ]
  },
  {
   "cell_type": "code",
   "execution_count": null,
   "metadata": {
    "ExecuteTime": {
     "end_time": "2023-08-10T10:59:13.406454Z",
     "start_time": "2023-08-10T10:56:27.988156200Z"
    },
    "id": "OWhYnTnVfvMp"
   },
   "outputs": [],
   "source": [
    "# Получим ROC-AUC из лучшего оценщика\n",
    "predicted_probs_svm = grid_search_svm.best_estimator_.predict_proba(X_train)[:, 1]\n",
    "roc_auc_svm = roc_auc_score(y_train, predicted_probs_svm)\n",
    "print(f\"ROC-AUC for bagged SVM: {roc_auc_svm:.3f}\")\n"
   ]
  },
  {
   "cell_type": "code",
   "execution_count": null,
   "metadata": {
    "ExecuteTime": {
     "end_time": "2023-08-10T10:59:13.406454Z",
     "start_time": "2023-08-10T10:59:13.178475400Z"
    },
    "id": "rNaCrNh6fvMq"
   },
   "outputs": [],
   "source": [
    "\n",
    "# Определяем базовые модели для стекинга\n",
    "base_learners = [\n",
    "    ('knn', knn_pipeline),\n",
    "    ('svm', svm_pipeline)\n",
    "]\n",
    "\n",
    "# Создаем стэкинг на основе базовых моделей с CatBoost как финальным оценщиком и заданным random_state\n",
    "stack = StackingClassifier(estimators=base_learners, final_estimator=CatBoostClassifier(verbose=0, random_seed=random_state), cv=5)\n"
   ]
  },
  {
   "cell_type": "code",
   "execution_count": null,
   "metadata": {
    "ExecuteTime": {
     "end_time": "2023-08-10T11:00:15.053552300Z",
     "start_time": "2023-08-10T10:59:13.178475400Z"
    },
    "id": "HjlVepm0fvMr"
   },
   "outputs": [],
   "source": [
    "# Определяем GridSearchCV для стэкинга\n",
    "grid_search_stack = GridSearchCV(stack, param_grid=params, cv=5, scoring='roc_auc', n_jobs=-1)\n",
    "grid_search_stack.fit(X_train, y_train)\n",
    "\n",
    "\n",
    "# Получаем ROC-AUC из лучшего оценщика на кросс-валидации(исправление)\n",
    "roc_auc_stacked_cv = grid_search_stack.best_score_\n",
    "print(f\"ROC-AUC for stacked models on cross-validation: {roc_auc_stacked_cv:.3f}\")\n"
   ]
  },
  {
   "cell_type": "code",
   "execution_count": null,
   "metadata": {
    "ExecuteTime": {
     "end_time": "2023-08-10T11:04:37.255210900Z",
     "start_time": "2023-08-10T11:04:37.045216500Z"
    },
    "id": "3FbJZ7mIfvMr"
   },
   "outputs": [],
   "source": [
    "# # Примените лучшие модели на тестовых данных\n",
    "# for name, model in best_models.items():\n",
    "#     test_preds = model.predict_proba(X_test)[:, 1]\n",
    "#     test_roc_auc = roc_auc_score(y_test, test_preds)\n",
    "#     test_accuracy = accuracy_score(y_test, test_preds.round())\n",
    "#\n",
    "#     print(f\"Модель: {name}\")\n",
    "#     print(f\"ROC-AUC на тестовой выборке: {test_roc_auc:.4f}\")\n",
    "#     print(f\"Accuracy на тестовой выборке: {test_accuracy:.4f}\")\n",
    "#     print('-------------------------------------------')\n",
    "last_model_name = list(best_models.keys())[-1]\n",
    "last_model = best_models[last_model_name]\n",
    "\n",
    "test_preds = last_model.predict_proba(X_test)[:, 1]\n",
    "test_roc_auc = roc_auc_score(y_test, test_preds)\n",
    "test_accuracy = accuracy_score(y_test, test_preds.round())\n",
    "\n",
    "print(f\"Модель: {last_model_name}\")\n",
    "print(f\"ROC-AUC на тестовой выборке: {test_roc_auc:.4f}\")\n",
    "print(f\"Accuracy на тестовой выборке: {test_accuracy:.4f}\")\n",
    "print('-------------------------------------------')"
   ]
  },
  {
   "cell_type": "markdown",
   "metadata": {
    "id": "1doHCXUUfvMt"
   },
   "source": [
    "#### Precision-Recall кривая: Этот график очень полезен, когда классы в ваших данных несбалансированы. Он показывает trade-off между precision (точность) и recall (полнота)."
   ]
  },
  {
   "cell_type": "code",
   "execution_count": null,
   "metadata": {
    "ExecuteTime": {
     "end_time": "2023-08-10T11:04:50.954258400Z",
     "start_time": "2023-08-10T11:04:50.550018100Z"
    },
    "id": "by4Lult_jTNX"
   },
   "outputs": [],
   "source": [
    "# Вычисляем значения для Precision-Recall кривой (точность-полнота)\n",
    "precision, recall, thresholds = precision_recall_curve(y_test, test_preds)\n",
    "\n",
    "# Строим Precision-Recall кривую\n",
    "plt.figure(figsize=(10,6))\n",
    "plt.plot(recall, precision, label='Кривая точность-полнота')\n",
    "plt.xlabel('Полнота')\n",
    "plt.ylabel('Точность')\n",
    "plt.title('Кривая точность-полнота')\n",
    "plt.legend(loc='best')\n",
    "plt.show()"
   ]
  },
  {
   "cell_type": "markdown",
   "metadata": {
    "id": "wzPvwlM6jTNY"
   },
   "source": [
    "*Интерпретация:** (исправленная)\n",
    "\n",
    "#### Кривая для задачи ухода клиентов\n",
    "\n",
    "В контексте задачи ухода клиентов **Precision-Recall кривая** особенно полезна, так как позволяет понять эффективность модели в предсказании действительно уходящих клиентов.\n",
    "\n",
    "### Определения:\n",
    "\n",
    "1. **Точность (Precision)**: Отражает, какой процент клиентов, которых модель определила как \"уходящие\", действительно ушли.\n",
    "\n",
    "2. **Полнота (Recall)**: Показывает, какой процент всех ушедших клиентов был корректно идентифицирован моделью.\n",
    "\n",
    "\n",
    "### Как интерпретировать в контексте ухода клиентов?\n",
    "\n",
    "Идеальная модель будет иметь точку в правом верхнем углу графика (точность и полнота равны 1). Однако на практике это редко достижимо, и важно выбрать оптимальный баланс между точностью и полнотой в зависимости от бизнес-требований.\n",
    "\n",
    "- **Высокая Точность**: Это означает, что модель правильно определяет большую часть клиентов, которые действительно уходят, но при этом может пропускать некоторых других уходящих клиентов. Такой подход может быть оптимален, если ресурсы компании ограничены, и она может предпринять действия только по небольшому числу клиентов.\n",
    "\n",
    "- **Высокая Полнота**: Это означает, что модель определяет большую часть уходящих клиентов, но при этом также может \"подозревать\" в уходе тех, кто на самом деле не собирается уходить. Этот вариант может быть предпочтителен, если стоимость привлечения клиента обратно или предотвращение его ухода низкая по сравнению с потерянной прибылью от ухода.\n",
    "\n",
    "Выбор оптимальной точки на кривой зависит от бизнес-стратегии компании: если компания готова потратить больше ресурсов, чтобы удержать как можно больше клиентов, она может выбрать модель с высокой полнотой. Если же ресурсы ограничены, и важнее минимизировать \"ложные тревоги\", стоит ориентироваться на модели с высокой точностью.\n"
   ]
  },
  {
   "cell_type": "code",
   "execution_count": null,
   "metadata": {
    "ExecuteTime": {
     "end_time": "2023-08-10T11:06:26.620779700Z",
     "start_time": "2023-08-10T11:04:52.947519Z"
    },
    "id": "jgnDAwFojTNY"
   },
   "outputs": [],
   "source": [
    "# Вычисляем кривые обучения\n",
    "train_sizes, train_scores, validation_scores = learning_curve(\n",
    "    # Модель, которую мы хотим исследовать\n",
    "    estimator = best_model,\n",
    "    # Обучающие данные и метки\n",
    "    X = X_train,\n",
    "    y = y_train,\n",
    "    # Размеры обучающих выборок, которые мы хотим исследовать\n",
    "    train_sizes = np.linspace(0.1,1,20),\n",
    "    # Количество фолдов в кросс-валидации\n",
    "    cv = 5\n",
    ")\n",
    "\n",
    "# Вычисляем средние значения для оценок обучения и валидации\n",
    "train_scores_mean = train_scores.mean(axis = 1)\n",
    "validation_scores_mean = validation_scores.mean(axis = 1)\n",
    "\n",
    "# Строим график\n",
    "plt.figure(figsize=(10,6))\n",
    "plt.plot(train_sizes, train_scores_mean, label = 'Ошибка обучения')\n",
    "plt.plot(train_sizes, validation_scores_mean, label = 'Ошибка валидации')\n",
    "plt.ylabel('Производительность')\n",
    "plt.xlabel('Размер обучающей выборки')\n",
    "plt.title('Кривые обучения')\n",
    "plt.legend()\n",
    "plt.show()"
   ]
  },
  {
   "cell_type": "markdown",
   "metadata": {
    "id": "s1eOimDLjTNY"
   },
   "source": [
    "**Интерпретация:**\n",
    "* Ошибка обучения: Ошибка обучения начинается с низкого значения, что указывает на то, что модель хорошо обучается на небольших объемах данных. Но по мере увеличения размера обучающей выборки, модель теряет способность идеально соответствовать данным, что приводит к увеличению ошибки обучения.\n",
    "\n",
    "* Ошибка валидации: Когда размер обучающей выборки небольшой, модель плохо обобщает новые данные, и ошибка валидации высока. Но по мере увеличения размера обучающей выборки модель лучше обучается, и ошибка валидации снижается.\n",
    "\n",
    "* Если ошибка обучения и валидации начинают сходиться и ошибка валидации начинает уменьшаться, это хороший знак. Это говорит о том, что модель обучается и с каждым новым наблюдением ошибка на валидации уменьшается.\n",
    "\n",
    "* Если ошибка обучения и валидации начинают сходиться, но ошибка валидации остается высокой, это может указывать на недообучение.\n",
    "\n",
    "* Если ошибка обучения низкая, а ошибка валидации высокая и они не сходятся при увеличении размера обучающего набора, это может указывать на переобучение."
   ]
  },
  {
   "cell_type": "markdown",
   "metadata": {
    "id": "b6flzXZIjTNY"
   },
   "source": [
    "Модель XGBoost показала на тесте результат по метрике ROC-AUC , достигнув значения 0.9 , что выше порогового значения 0.85.\n",
    "\n",
    "Accuracy на тестовой выборке:0.916\n"
   ]
  },
  {
   "cell_type": "code",
   "execution_count": null,
   "metadata": {
    "ExecuteTime": {
     "end_time": "2023-08-10T11:06:26.792776100Z",
     "start_time": "2023-08-10T11:06:26.619774700Z"
    },
    "id": "b1lBGOOXjTNY"
   },
   "outputs": [],
   "source": [
    "# Вычисляем кривую ROC\n",
    "fpr, tpr, thresholds = roc_curve(y_test, test_preds)\n",
    "roc_auc = auc(fpr, tpr)\n",
    "# Построение графика\n",
    "plt.figure()\n",
    "plt.plot(fpr, tpr, color='darkorange', lw=2, label=f'ROC curve (area = {roc_auc:.2f})')\n",
    "plt.plot([0, 1], [0, 1], color='navy', lw=2, linestyle='--')\n",
    "plt.xlim([0.0, 1.0])\n",
    "plt.ylim([0.0, 1.05])\n",
    "plt.xlabel('False Positive Rate')\n",
    "plt.ylabel('True Positive Rate')\n",
    "plt.title(f'ROC-AUC curve for {name}')\n",
    "plt.legend(loc=\"lower right\")\n",
    "plt.show()"
   ]
  },
  {
   "cell_type": "code",
   "execution_count": null,
   "metadata": {
    "ExecuteTime": {
     "end_time": "2023-08-10T11:09:17.500073100Z",
     "start_time": "2023-08-10T11:09:17.383357100Z"
    },
    "id": "aFCT1gGSfvMw"
   },
   "outputs": [],
   "source": [
    "df = feature_importances.sort_values('importance', ascending=False).head(10)\n",
    "df"
   ]
  },
  {
   "cell_type": "code",
   "execution_count": null,
   "metadata": {
    "ExecuteTime": {
     "end_time": "2023-08-10T11:08:17.743471700Z",
     "start_time": "2023-08-10T11:08:17.427446700Z"
    },
    "id": "pzflnhHcjTNZ",
    "scrolled": false
   },
   "outputs": [],
   "source": [
    "# предполагаем, что df - ваш датафрейм\n",
    "df = feature_importances.sort_values('importance', ascending=False).head(10)\n",
    "\n",
    "plt.figure(figsize=(10, 8))\n",
    "plt.barh(df['feature'], df['importance'])\n",
    "plt.xlabel('Важность')\n",
    "plt.ylabel('Признаки')\n",
    "plt.title('Важность признаков')\n",
    "plt.gca().invert_yaxis()  # чтобы наиболее важные признаки были сверху\n",
    "plt.show()\n"
   ]
  },
  {
   "cell_type": "markdown",
   "metadata": {
    "id": "z61Oae_ajTNZ"
   },
   "source": [
    "### Важность признаков (дописал)\n",
    "\n",
    "Важность признаков в модели позволяет нам оценить, какой вклад вносит каждый признак в прогнозируемый результат. Понимание этого вклада помогает выявить ключевые факторы, которые влияют на результаты прогнозирования, и может дать подсказки о том, на какие аспекты данных стоит обратить особое внимание при интерпретации результатов.\n",
    "\n",
    "Ниже представлены 10 наиболее важных признаков:\n",
    "**Важность признаков модели:**\n",
    "\n",
    "1. **cat__MultipleLines_Yes (0.097696)**:\n",
    "   - **Описание**: У клиента активирована услуга многоканальной связи.\n",
    "   - **Интерпретация**: Наличие многоканальной связи может быть важным индикатором для прогнозирования ухода клиента.\n",
    "\n",
    "2. **cat__PaymentMethod_Bank transfer (automatic) (0.063979)**:\n",
    "   - **Описание**: Клиент использует автоматический банковский перевод для оплаты.\n",
    "   - **Интерпретация**: Метод оплаты может быть связан с уровнем доверия или удобством использования услуги.\n",
    "\n",
    "3. **cat__Type_One year (0.046754)**:\n",
    "   - **Описание**: Длительность контракта с клиентом составляет один год.\n",
    "   - **Интерпретация**: Клиенты с годовым контрактом, возможно, менее склонны уходить.\n",
    "\n",
    "4. **cat__Type_Month-to-month (0.039739)**:\n",
    "   - **Описание**: Длительность контракта с клиентом составляет один месяц.\n",
    "   - **Интерпретация**: Месячные контракты могут указывать на неустойчивость отношений с клиентом.\n",
    "\n",
    "5. **cat__DeviceProtection_Yes (0.038321)**:\n",
    "   - **Описание**: У клиента есть защита устройства.\n",
    "   - **Интерпретация**: Защита устройства может коррелировать с уровнем удовлетворенности или инвестициями клиента в услугу.\n",
    "\n",
    "6. **cat__Partner_No (0.032018)**:\n",
    "   - **Описание**: У клиента нет партнера.\n",
    "   - **Интерпретация**: Наличие или отсутствие партнера может влиять на решения, связанные с продолжением или прекращением услуги.\n",
    "\n",
    "7. **cat__gender_Female (0.030832)**:\n",
    "   - **Описание**: Пол клиента — женский.\n",
    "   - **Интерпретация**: Пол может иметь влияние на принятие решений, хотя это зависит от контекста и демографии клиентов.\n",
    "\n",
    "8. **cat__Dependents_No (0.025032)**:\n",
    "   - **Описание**: У клиента нет иждивенцев.\n",
    "   - **Интерпретация**: Наличие иждивенцев может влиять на финансовые решения или потребности в услугах.\n",
    "\n",
    "9. **cat__PaymentMethod_Mailed check (0.024882)**:\n",
    "   - **Описание**: Клиент использует почтовый чек для оплаты.\n",
    "   - **Интерпретация**: Этот способ оплаты может указывать на предпочтения клиента в плане удобства и традиций.\n",
    "\n",
    "10. **cat__OnlineSecurity_No (0.019318)**:\n",
    "   - **Описание**: У клиента нет онлайн-безопасности.\n",
    "   - **Интерпретация**: Отсутствие онлайн-безопасности может указывать на менее защищенный или менее инвестированный профиль клиента.\n",
    "\n",
    "\n",
    "\n",
    "\n",
    "\n",
    "Эти признаки, судя по их важности, играют ключевую роль в прогнозировании оттока клиентов. На их основе можно строить бизнес-стратегии для удержания клиентов и улучшения качества обслуживания.\n",
    "\n",
    "\n"
   ]
  },
  {
   "cell_type": "code",
   "execution_count": null,
   "metadata": {
    "ExecuteTime": {
     "end_time": "2023-08-10T11:12:29.162619600Z",
     "start_time": "2023-08-10T11:12:28.936078Z"
    },
    "id": "y7DCKkYsjTNZ"
   },
   "outputs": [],
   "source": [
    "# Обучаем модели и ищем лучшие гиперпараметры\n",
    "for name, model, grid in models[-1:]:\n",
    "\n",
    "    # Получаем предсказания\n",
    "    test_preds = best_model.predict(X_test)\n",
    "\n",
    "    # Вычисляем матрицу ошибок\n",
    "    cm = confusion_matrix(y_test, test_preds)\n",
    "\n",
    "    # Выводим матрицу ошибок\n",
    "    plt.figure(figsize=(6, 6))\n",
    "    sns.heatmap(cm, annot=True, fmt='d', cmap='Blues', cbar=False)\n",
    "    plt.title(f\"Матрица ошибок для {name}\")\n",
    "    plt.xlabel('Предсказанное значение')\n",
    "    plt.ylabel('Истинное значение')\n",
    "    plt.show()\n"
   ]
  },
  {
   "cell_type": "markdown",
   "metadata": {
    "id": "0odZ7lL7jTNa"
   },
   "source": [
    "Матрица ошибок (confusion matrix) - это таблица, которая позволяет визуализировать производительность алгоритма классификации.\n",
    "На основании матрицы ошибок можно сделать следующие выводы:\n",
    "\n",
    "- 1461 - количество истинно отрицательных предсказаний (True Negatives, TN): Модель правильно предсказала, что эти примеры были отрицательными.\n",
    "- 25 - количество ложно положительных предсказаний (False Positives, FP): Модель неправильно предсказала, что эти примеры были положительными.\n",
    "- 141 - количество ложно отрицательных предсказаний (False Negatives, FN): Модель неправильно предсказала, что эти примеры были отрицательными.\n",
    "- 134 - количество истинно положительных предсказаний (True Positives, TP): Модель правильно предсказала, что эти примеры были положительными.\n",
    "\n",
    "## Анализ матрицы ошибок в контексте бизнеса\n",
    "\n",
    "### 1. Истинно отрицательные (TN: 1461)\n",
    "- **Бизнес-интерпретация**: Это клиенты, которых модель правильно идентифицировала как не склонных к конкретному действию (например, уходу). С точки зрения бизнеса, ресурсы на их удержание можно было бы сохранить или перераспределить.\n",
    "\n",
    "### 2. Ложноположительные (FP: 25)\n",
    "- **Бизнес-интерпретация**: Это клиенты, которых модель неправильно классифицировала как склонных к определенному действию, хотя на самом деле они не были. Это может означать потраченные впустую ресурсы, если бизнес пытался применять стратегии удержания к этим клиентам.\n",
    "\n",
    "### 3. Ложноотрицательные (FN: 141)\n",
    "- **Бизнес-интерпретация**: Это клиенты, которые, по мнению модели, не склонны к определенному действию, но на самом деле они склонны. Это может быть наиболее критичной ошибкой, так как бизнес может потерять этих клиентов, не предприняв попыток их удержать.\n",
    "\n",
    "### 4. Истинноположительные (TP: 134)\n",
    "- **Бизнес-интерпретация**: Это клиенты, которых модель правильно идентифицировала как склонных к определенному действию. Стратегии удержания, применяемые к этим клиентам, должны быть наиболее эффективными.\n",
    "\n",
    "**На практике**: С точки зрения бизнеса, особое внимание стоит уделять FN (ложноотрицательным). Например, если речь идет о прогнозировании ухода клиентов, FN означает, что компания может потерять клиентов, даже не пытаясь их удержать.\n",
    "\n"
   ]
  },
  {
   "cell_type": "markdown",
   "metadata": {
    "id": "fLNRn8bbjTNa"
   },
   "source": [
    "# Общий вывод:\n",
    "**1. Ключевые шаги работы над проектом**\n",
    "1. В рамках этого проекта мы провели загрузку и  анализ данных, построили несколько моделей машинного обучения и оценили их производительность с целью прогнозирования оттока клиентов.\n",
    "\n",
    "2. Изначально данные были представлены в виде четырех отдельных таблиц. Мы объединили их в один датафрейм, выполнили первичный анализ и подготовили данные для моделирования.\n",
    "\n",
    "3. Мы обучили 6  моделей машинного обучения: логистическую регрессию, LightGBM и XGBoost,KNN, SVM и CatBoost. На основании метрики ROC-AUC, XGBoost показала себя лучше на тестовой выборке с результатом 0.9 , что выше установленного порогового значения 0.85. Accuracy на тестовой выборке: 0.916\n",
    "\n",
    "4. На основании вышеуказанного, для прогнозирования оттока клиентов рекомендуется использовать модель XGBoost. Эта модель не только показала лучшие результаты по сравнению с остальными, но и является более простой и интерпретируемой.\n",
    "\n",
    "5. Матрица ошибок: 1461 клиенты, которых модель правильно идентифицировала как не склонных к конкретному действию (например, уходу). 134 Это клиенты, которых модель правильно идентифицировала как склонных к определенному действию.\n",
    "\n",
    "\n",
    "\n"
   ]
  },
  {
   "cell_type": "markdown",
   "source": [
    "**2. Анализ соответствия фактической работы запланированным шагам.**\n",
    "\n",
    "Все работы были выполены в соответствие с планом"
   ],
   "metadata": {
    "id": "K7dW78NW8bOU"
   }
  },
  {
   "cell_type": "markdown",
   "source": [
    "**3. Рефлексия над сложностями и описание путей их решения.**\n",
    "\n",
    "В большей части сложностей в проекте не возникло. Обнаружили высокую мультиколлинеарность, использовали регуляризацию\n"
   ],
   "metadata": {
    "id": "M_IILG0g78Jj"
   }
  },
  {
   "cell_type": "markdown",
   "source": [
    "**4. Итоговый список признаков (с расшифровкой) для обучения модели, способы их обработки (как\n",
    "кодировали/стандартизировали/преобразовывали).**\n",
    "\n",
    "**Описание данных:**\n",
    "\n",
    "* EndDate – дата окончания пользования услугами взят целевым ( преобразован в 0,1)\n",
    "\n",
    "\n",
    "* Type – тип оплаты: ежемесячный, годовой и тд,\n",
    "* PaperlessBilling – электронный платёжный документ,\n",
    "* PaymentMethod – способ оплаты,\n",
    "* MonthlyCharges – ежемесячные траты на услуги по договору,\n",
    "* TotalCharges – всего потрачено денег на услуги,\n",
    "* Dependents – наличие иждивенцев,\n",
    "* Senior Citizen – наличие пенсионного статуса по возрасту,\n",
    "* Partner – наличие супруга(и),\n",
    "* MultipleLines – наличие возможности ведения параллельных линий во время звонка\n",
    "* gender- пол\n",
    "\n",
    "добавлен признак\n",
    "* days - количество дней контракта ( конец контракта минус начало)\n",
    "* TotalServices - количество доп услуг у клиента ( услуги кторые при * обьединениетаблиц отсутстовали)\n",
    "\n",
    "удален признак\n",
    "* 'InternetService','OnlineSecurity', 'OnlineBackup', 'DeviceProtection', 'TechSupport','StreamingTV', 'StreamingMovies'- сервисы , оставлен только 1 ,'InternetService'.\n",
    "* BeginDate – дата начала пользования услугами. (признак временно, и в будущем модель не будет его знать)\n",
    "* 'customerID' -ИД клиента ( удален после обьединения таблиц)\n",
    "\n",
    "\n",
    "для линейной модели использовали трансформеры и OneHotEncoder с парметром (handle_unknown='ignore',drop='first' )\n",
    "для все остальных OrdinalEncoder с параметром (handle_unknown='use_encoded_value', unknown_value=-1)"
   ],
   "metadata": {
    "id": "3IIlTFsE775b"
   }
  },
  {
   "cell_type": "markdown",
   "source": [
    "\n",
    "**5. Краткое описание предобработки данных (проблема - что делали).**\n",
    "\n",
    "* Загрузка данных\n",
    "* Обьединение таблиц через customerID\n",
    "* Обработка пропусков( замена на NotUsed)\n",
    "* проверка на дубликаты\n",
    "* создание двух новых признаков (days, TotalServices)\n",
    "* Проверка данных, построение диаграмм\n",
    "* кодирование признака EndDate (0 и 1)\n",
    "* Построение матрицы корреляции\n",
    "* удаление лишних признаков - сервисов\n"
   ],
   "metadata": {
    "id": "BWsVOWld77uz"
   }
  },
  {
   "cell_type": "markdown",
   "source": [
    "\n",
    "**6. Сводная таблица исследованных моделей и их метрика на кросс-валидации.**\n",
    "\n",
    "| Model                                   | ROC-AUC     |\n",
    "|-----------------------------------------|-------------|\n",
    "| Logistic Regression                     | 0.773193    |\n",
    "| LightGBM                                | 0.900233    |\n",
    "| XGBoost                                 | 0.901014    |\n",
    "| Bagged KNN                              | 0.932       |\n",
    "| XGBoost (optuna)                        | 0.900605    |\n",
    "| Bagged SVM                              | 0.880       |\n",
    "| StackingClassifier (CatBoostClassifier) | 0.764       |\n",
    "\n"
   ],
   "metadata": {
    "id": "Ic5uY4t077eD"
   }
  },
  {
   "cell_type": "markdown",
   "source": [
    "\n",
    "**7. Лучшая модель - название, гиперпараметры, метрика на кросс-валидации.**\n",
    "\n",
    "Модель: XGBoost\n",
    "Лучшие параметры: {'model__learning_rate': 0.1, 'model__max_depth': 3, 'model__n_estimators': 800}\n",
    "ROC-AUC на кросс-валидации: 0.901\n"
   ],
   "metadata": {
    "id": "CBmMOV-177U7"
   }
  },
  {
   "cell_type": "markdown",
   "source": [
    "\n",
    "**8. Итоговая метрика на test (AUC-ROC и Accuracy).**\n",
    "\n",
    "\n",
    "Модель: XGBoost\n",
    "ROC-AUC на тестовой выборке: 0.9102\n",
    "Accuracy на тестовой выборке: 0.9057"
   ],
   "metadata": {
    "id": "yTwzCj3T77LD"
   }
  },
  {
   "cell_type": "markdown",
   "source": [
    "**9. Матрица ошибок (таблица или график + интерпретация).**\n",
    "\n",
    "Анализ матрицы ошибок в контексте бизнеса\n",
    "1. Истинно отрицательные (TN: 1461)\n",
    "Бизнес-интерпретация: Это клиенты, которых модель правильно идентифицировала как не склонных к конкретному действию (например, уходу). С точки зрения бизнеса, ресурсы на их удержание можно было бы сохранить или перераспределить.\n",
    "2. Ложноположительные (FP: 25)\n",
    "Бизнес-интерпретация: Это клиенты, которых модель неправильно классифицировала как склонных к определенному действию, хотя на самом деле они не были. Это может означать потраченные впустую ресурсы, если бизнес пытался применять стратегии удержания к этим клиентам.\n",
    "3. Ложноотрицательные (FN: 141)\n",
    "Бизнес-интерпретация: Это клиенты, которые, по мнению модели, не склонны к определенному действию, но на самом деле они склонны. Это может быть наиболее критичной ошибкой, так как бизнес может потерять этих клиентов, не предприняв попыток их удержать.\n",
    "4. Истинноположительные (TP: 134)\n",
    "Бизнес-интерпретация: Это клиенты, которых модель правильно идентифицировала как склонных к определенному действию. Стратегии удержания, применяемые к этим клиентам, должны быть наиболее эффективными.\n",
    "На практике: С точки зрения бизнеса, особое внимание стоит уделять FN (ложноотрицательным). Например, если речь идет о прогнозировании ухода клиентов, FN означает, что компания может потерять клиентов, даже не пытаясь их удержать."
   ],
   "metadata": {
    "id": "QHCwlPqH7YkL"
   }
  },
  {
   "cell_type": "markdown",
   "source": [
    "**10. Важность признаков (график + комментарии)**\n",
    "\n",
    "В результате анализа важности признаков для  XGBoost мы выяснили, что наиболее важными признаками являются:\n",
    "**Анализ важности признаков**\n",
    "\n",
    "1. **cat__MultipleLines_Yes (0.097696)**:\n",
    "   - **Описание**: У клиента активирована услуга многоканальной связи.\n",
    "   - **Интерпретация**: Наличие многоканальной связи может быть важным индикатором для прогнозирования ухода клиента.\n",
    "\n",
    "2. **cat__PaymentMethod_Bank transfer (automatic) (0.063979)**:\n",
    "   - **Описание**: Клиент использует автоматический банковский перевод для оплаты.\n",
    "   - **Интерпретация**: Метод оплаты может быть связан с уровнем доверия или удобством использования услуги.\n",
    "\n",
    "3. **cat__Type_One year (0.046754)**:\n",
    "   - **Описание**: Длительность контракта с клиентом составляет один год.\n",
    "   - **Интерпретация**: Клиенты с годовым контрактом, возможно, менее склонны уходить.\n",
    "\n",
    "4. **cat__Type_Month-to-month (0.039739)**:\n",
    "   - **Описание**: Длительность контракта с клиентом составляет один месяц.\n",
    "   - **Интерпретация**: Месячные контракты могут указывать на неустойчивость отношений с клиентом.\n",
    "\n",
    "5. **cat__DeviceProtection_Yes (0.038321)**:\n",
    "   - **Описание**: У клиента есть защита устройства.\n",
    "   - **Интерпретация**: Защита устройства может коррелировать с уровнем удовлетворенности или инвестициями клиента в услугу.\n",
    "\n",
    "6. **cat__Partner_No (0.032018)**:\n",
    "   - **Описание**: У клиента нет партнера.\n",
    "   - **Интерпретация**: Наличие или отсутствие партнера может влиять на решения, связанные с продолжением или прекращением услуги.\n",
    "\n",
    "7. **cat__gender_Female (0.030832)**:\n",
    "   - **Описание**: Пол клиента — женский.\n",
    "   - **Интерпретация**: Пол может иметь влияние на принятие решений, хотя это зависит от контекста и демографии клиентов.\n",
    "\n",
    "8. **cat__Dependents_No (0.025032)**:\n",
    "   - **Описание**: У клиента нет иждивенцев.\n",
    "   - **Интерпретация**: Наличие иждивенцев может влиять на финансовые решения или потребности в услугах.\n",
    "\n",
    "9. **cat__PaymentMethod_Mailed check (0.024882)**:\n",
    "   - **Описание**: Клиент использует почтовый чек для оплаты.\n",
    "   - **Интерпретация**: Этот способ оплаты может указывать на предпочтения клиента в плане удобства и традиций.\n",
    "\n",
    "10. **cat__OnlineSecurity_No (0.019318)**:\n",
    "   - **Описание**: У клиента нет онлайн-безопасности.\n",
    "   - **Интерпретация**: Отсутствие онлайн-безопасности может указывать на менее защищенный или менее инвестированный профиль клиента."
   ],
   "metadata": {
    "id": "LEOsyXo37Gh8"
   }
  },
  {
   "cell_type": "code",
   "source": [
    "%matplotlib inline\n",
    "import matplotlib.pyplot as plt  # Библиотека для графического отображения данных\n",
    "\n",
    "features_russian = [\n",
    "    \"Многоканальная связь (Да)\",\n",
    "    \"Способ оплаты (Авт. банковский перевод)\",\n",
    "    \"Тип контракта (1 год)\",\n",
    "    \"Тип контракта (Помесячно)\",\n",
    "    \"Защита устройства (Да)\",\n",
    "    \"Наличие партнера (Нет)\",\n",
    "    \"Пол (Женский)\",\n",
    "    \"Наличие иждивенцев (Нет)\",\n",
    "    \"Способ оплаты (Почтовый чек)\",\n",
    "    \"Онлайн безопасность (Нет)\"\n",
    "]\n",
    "importance_values = [\n",
    "    0.097696,\n",
    "    0.063979,\n",
    "    0.046754,\n",
    "    0.039739,\n",
    "    0.038321,\n",
    "    0.032018,\n",
    "    0.030832,\n",
    "    0.025032,\n",
    "    0.024882,\n",
    "    0.019318\n",
    "]\n",
    "\n",
    "\n",
    "plt.figure(figsize=(12, 8))\n",
    "plt.barh(features_russian, importance_values, color='lightcoral')\n",
    "plt.xlabel('Важность признака')\n",
    "plt.title('Важность признаков для модели XGBoost')\n",
    "plt.grid(axis='x', linestyle='--', alpha=0.7)\n",
    "plt.gca().invert_yaxis()\n",
    "plt.tight_layout()\n",
    "plt.show()\n"
   ],
   "metadata": {
    "colab": {
     "base_uri": "https://localhost:8080/",
     "height": 807
    },
    "id": "pdCk47qGHAeX",
    "outputId": "3b2e503c-fde1-4f44-c868-439812c40a0d"
   },
   "execution_count": 4,
   "outputs": [
    {
     "output_type": "display_data",
     "data": {
      "text/plain": [
       "<Figure size 1200x800 with 1 Axes>"
      ],
      "image/png": "[encoded data removed]"
     },
     "metadata": {}
    }
   ]
  },
  {
   "cell_type": "markdown",
   "source": [
    "## Рекомендации:\n",
    "\n",
    "На основании проведённого анализа, следующие меры могут быть предложены для улучшения удержания клиентов:\n",
    "\n",
    "1. **Контракты с ежемесячной оплатой:** Клиенты, выбравшие ежемесячный тип оплаты, более склонны к оттоку. Возможно, стоит пересмотреть условия ежемесячных контрактов или предлагать дополнительные преимущества для клиентов, выбирающих долгосрочные контракты.\n",
    "\n",
    "2. **Электронные счета:** Клиенты, использующие электронные счета, также более склонны к оттоку. Возможно, стоит улучшить пользовательский интерфейс или предложить дополнительные услуги для таких клиентов.\n",
    "\n",
    "3. **Техническая поддержка:** Наши данные показали, что отсутствие технической поддержки увеличивает вероятность оттока. Компания может рассмотреть возможность расширения службы поддержки или улучшения качества предоставляемой поддержки.\n",
    "\n",
    "4. **Услуги интернета:** Клиенты, использующие оптоволоконный интернет, более склонны к оттоку. Это может указывать на проблемы с качеством этой услуги. Компания может провести дополнительное исследование в этой области.\n",
    "\n",
    "5. **Социально-демографические факторы:** Клиенты без партнёра и без иждивенцев также более склонны к оттоку. Это может быть связано с более высокой мобильностью таких клиентов. Компания может разработать специальные предложения для такой аудитории.\n",
    "\n",
    "6. **Время пользования услугами:** Наши данные показывают, что новые клиенты более склонны к оттоку. Возможно, стоит усилить усилия по удержанию в течение первых месяцев использования услуг.\n",
    "\n",
    "7. **Стоимость услуг:** Важно обратить внимание на ежемесячные расходы клиентов. Наши данные показывают, что более высокие расходы связаны с большей вероятностью оттока.\n",
    "\n",
    "Эти рекомендации могут быть использованы компанией для разработки эффективных стратегий по удержанию клиентов и улучшению их опыта пользования услугами."
   ],
   "metadata": {
    "id": "DnFMyri987ot"
   }
  },
  {
   "cell_type": "markdown",
   "metadata": {
    "id": "RpOPCD-tjTNa"
   },
   "source": [
    "## Дополнительные возможности для улучшения модели\n",
    "\n",
    "Данные, которыми вы располагаете, уже содержат множество полезных признаков, однако можно рассмотреть следующие возможные дополнения, которые могут помочь в предсказании оттока клиентов:\n",
    "\n",
    "1. **Длительность контракта:** Ваши данные уже содержат информацию о дате начала контракта. Однако, можно добавить признак, который представляет собой длительность контракта. Клиенты с более долгосрочными контрактами могут быть менее склонны к оттоку.\n",
    "\n",
    "2. **Количество продуктов:** (сделано) Вы можете добавить признак, который представляет собой общее количество продуктов или услуг, которые клиент использует. Это может включать услуги телефонии, интернета, телевидения и т.д. Клиенты, использующие большее количество услуг, могут быть менее склонны к оттоку.\n",
    "\n",
    "3. **История взаимодействия с клиентом:** Если у вас есть доступ к этим данным, можно добавить признаки, связанные с историей взаимодействия с клиентом. Это может включать количество обращений в службу поддержки, уровень удовлетворенности от предыдущих взаимодействий и т.д.\n",
    "\n",
    "4. **Уровень использования услуг:** Если у вас есть данные об использовании услуг клиентами (например, количество сделанных звонков, объем потребляемого трафика), вы можете добавить эти признаки в свою модель. Клиенты, которые активно используют ваши услуги, могут быть менее склонны к оттоку.\n",
    "\n",
    "5. **Демографическая информация:** Если у вас есть доступ к дополнительной демографической информации о ваших клиентах (например, возраст, образование, доход), это также может быть полезно для предсказания оттока.\n",
    "\n",
    "Помните, что добавление новых признаков может потребовать дополнительной предобработки и может увеличить сложность вашей модели. Всегда важно проверять, улучшают ли новые признаки качество вашей модели.\n",
    "\n"
   ]
  }
 ],
 "metadata": {
  "ExecuteTimeLog": [
   {
    "duration": 1470,
    "start_time": "2023-07-31T21:51:51.497Z"
   },
   {
    "duration": 386,
    "start_time": "2023-07-31T21:51:52.969Z"
   },
   {
    "duration": 342,
    "start_time": "2023-07-31T21:52:05.961Z"
   },
   {
    "duration": 160,
    "start_time": "2023-07-31T21:54:52.426Z"
   },
   {
    "duration": 4,
    "start_time": "2023-07-31T21:55:08.202Z"
   },
   {
    "duration": 242,
    "start_time": "2023-07-31T22:00:39.293Z"
   },
   {
    "duration": 10,
    "start_time": "2023-07-31T22:06:47.385Z"
   },
   {
    "duration": 9,
    "start_time": "2023-07-31T22:07:12.808Z"
   },
   {
    "duration": 9,
    "start_time": "2023-07-31T22:08:02.803Z"
   },
   {
    "duration": 6,
    "start_time": "2023-07-31T22:08:09.395Z"
   },
   {
    "duration": 4,
    "start_time": "2023-07-31T22:08:09.799Z"
   },
   {
    "duration": 170,
    "start_time": "2023-07-31T22:08:11.097Z"
   },
   {
    "duration": 3,
    "start_time": "2023-07-31T22:08:15.326Z"
   },
   {
    "duration": 14,
    "start_time": "2023-07-31T22:08:17.201Z"
   },
   {
    "duration": 4,
    "start_time": "2023-07-31T22:08:18.703Z"
   },
   {
    "duration": 3,
    "start_time": "2023-07-31T22:08:35.722Z"
   },
   {
    "duration": 2,
    "start_time": "2023-07-31T22:11:42.695Z"
   },
   {
    "duration": 37,
    "start_time": "2023-07-31T22:12:40.747Z"
   },
   {
    "duration": 31,
    "start_time": "2023-07-31T22:13:39.257Z"
   },
   {
    "duration": 31,
    "start_time": "2023-07-31T22:14:28.120Z"
   },
   {
    "duration": 4,
    "start_time": "2023-07-31T22:15:37.300Z"
   },
   {
    "duration": 4,
    "start_time": "2023-07-31T22:19:20.438Z"
   },
   {
    "duration": 4,
    "start_time": "2023-07-31T22:19:21.342Z"
   },
   {
    "duration": 4,
    "start_time": "2023-07-31T22:20:57.203Z"
   },
   {
    "duration": 4,
    "start_time": "2023-07-31T22:20:58.674Z"
   },
   {
    "duration": 9,
    "start_time": "2023-07-31T22:23:55.705Z"
   },
   {
    "duration": 85,
    "start_time": "2023-07-31T22:25:06.930Z"
   },
   {
    "duration": 23,
    "start_time": "2023-07-31T22:26:31.729Z"
   },
   {
    "duration": 42,
    "start_time": "2023-07-31T22:26:49.343Z"
   },
   {
    "duration": 9,
    "start_time": "2023-07-31T22:28:57.418Z"
   },
   {
    "duration": 24,
    "start_time": "2023-07-31T22:29:05.885Z"
   },
   {
    "duration": 43,
    "start_time": "2023-07-31T22:35:36.046Z"
   },
   {
    "duration": 315,
    "start_time": "2023-07-31T22:37:11.987Z"
   },
   {
    "duration": 24,
    "start_time": "2023-07-31T22:37:48.567Z"
   },
   {
    "duration": 108,
    "start_time": "2023-07-31T22:38:54.583Z"
   },
   {
    "duration": 225,
    "start_time": "2023-07-31T22:40:22.313Z"
   },
   {
    "duration": 143,
    "start_time": "2023-07-31T22:40:26.094Z"
   },
   {
    "duration": 202,
    "start_time": "2023-07-31T22:41:38.159Z"
   },
   {
    "duration": 190,
    "start_time": "2023-07-31T22:42:00.991Z"
   },
   {
    "duration": 197,
    "start_time": "2023-07-31T22:42:59.460Z"
   },
   {
    "duration": 236,
    "start_time": "2023-07-31T22:44:02.706Z"
   },
   {
    "duration": 6,
    "start_time": "2023-07-31T22:45:14.989Z"
   },
   {
    "duration": 4,
    "start_time": "2023-07-31T22:46:16.086Z"
   },
   {
    "duration": 3487,
    "start_time": "2023-07-31T22:46:22.222Z"
   },
   {
    "duration": 3385,
    "start_time": "2023-07-31T22:47:43.497Z"
   },
   {
    "duration": 2249,
    "start_time": "2023-07-31T22:49:24.429Z"
   },
   {
    "duration": 2280,
    "start_time": "2023-07-31T22:50:20.547Z"
   },
   {
    "duration": 2624,
    "start_time": "2023-07-31T22:50:58.027Z"
   },
   {
    "duration": 3130,
    "start_time": "2023-07-31T22:52:13.967Z"
   },
   {
    "duration": 11375,
    "start_time": "2023-07-31T22:52:24.055Z"
   },
   {
    "duration": 10705,
    "start_time": "2023-07-31T22:53:27.430Z"
   },
   {
    "duration": 5642,
    "start_time": "2023-07-31T22:53:51.468Z"
   },
   {
    "duration": 7278,
    "start_time": "2023-07-31T22:54:09.748Z"
   },
   {
    "duration": 5385,
    "start_time": "2023-07-31T22:54:32.939Z"
   },
   {
    "duration": 2305,
    "start_time": "2023-07-31T22:55:48.027Z"
   },
   {
    "duration": 3756,
    "start_time": "2023-07-31T22:56:10.382Z"
   },
   {
    "duration": 2317,
    "start_time": "2023-07-31T22:57:41.236Z"
   },
   {
    "duration": 3812,
    "start_time": "2023-07-31T22:57:59.523Z"
   },
   {
    "duration": 3967,
    "start_time": "2023-07-31T22:58:20.353Z"
   },
   {
    "duration": 3567,
    "start_time": "2023-07-31T23:01:37.314Z"
   },
   {
    "duration": 8,
    "start_time": "2023-07-31T23:01:40.884Z"
   },
   {
    "duration": 15,
    "start_time": "2023-07-31T23:01:40.894Z"
   },
   {
    "duration": 3601,
    "start_time": "2023-07-31T23:02:21.267Z"
   },
   {
    "duration": 5439,
    "start_time": "2023-07-31T23:02:49.328Z"
   },
   {
    "duration": 8015,
    "start_time": "2023-07-31T23:03:19.399Z"
   },
   {
    "duration": 3835,
    "start_time": "2023-07-31T23:03:34.743Z"
   },
   {
    "duration": 7476,
    "start_time": "2023-07-31T23:03:51.020Z"
   },
   {
    "duration": 10226,
    "start_time": "2023-07-31T23:04:26.357Z"
   },
   {
    "duration": 10048,
    "start_time": "2023-07-31T23:04:50.180Z"
   },
   {
    "duration": 6099,
    "start_time": "2023-07-31T23:05:14.451Z"
   },
   {
    "duration": 5449,
    "start_time": "2023-07-31T23:05:30.339Z"
   },
   {
    "duration": 5679,
    "start_time": "2023-07-31T23:05:48.993Z"
   },
   {
    "duration": 5850,
    "start_time": "2023-07-31T23:06:07.984Z"
   },
   {
    "duration": 8365,
    "start_time": "2023-07-31T23:06:21.783Z"
   },
   {
    "duration": 5572,
    "start_time": "2023-07-31T23:06:39.391Z"
   },
   {
    "duration": 5804,
    "start_time": "2023-07-31T23:07:25.766Z"
   },
   {
    "duration": 13,
    "start_time": "2023-07-31T23:09:13.794Z"
   },
   {
    "duration": 4,
    "start_time": "2023-07-31T23:19:31.599Z"
   },
   {
    "duration": 100,
    "start_time": "2023-07-31T23:20:45.204Z"
   },
   {
    "duration": 13,
    "start_time": "2023-07-31T23:22:43.247Z"
   },
   {
    "duration": 114,
    "start_time": "2023-07-31T23:24:36.104Z"
   },
   {
    "duration": 13,
    "start_time": "2023-07-31T23:25:00.128Z"
   },
   {
    "duration": 47,
    "start_time": "2023-07-31T23:25:08.055Z"
   },
   {
    "duration": 10,
    "start_time": "2023-07-31T23:30:53.691Z"
   },
   {
    "duration": 20,
    "start_time": "2023-07-31T23:32:33.533Z"
   },
   {
    "duration": 10,
    "start_time": "2023-07-31T23:32:42.504Z"
   },
   {
    "duration": 10,
    "start_time": "2023-07-31T23:32:47.142Z"
   },
   {
    "duration": 23,
    "start_time": "2023-07-31T23:33:38.849Z"
   },
   {
    "duration": 13,
    "start_time": "2023-07-31T23:35:56.045Z"
   },
   {
    "duration": 3,
    "start_time": "2023-07-31T23:36:02.384Z"
   },
   {
    "duration": 12,
    "start_time": "2023-07-31T23:36:29.736Z"
   },
   {
    "duration": 12,
    "start_time": "2023-07-31T23:36:35.269Z"
   },
   {
    "duration": 11,
    "start_time": "2023-07-31T23:36:37.468Z"
   },
   {
    "duration": 13,
    "start_time": "2023-07-31T23:38:07.020Z"
   },
   {
    "duration": 101,
    "start_time": "2023-07-31T23:38:11.334Z"
   },
   {
    "duration": 9211,
    "start_time": "2023-07-31T23:38:13.906Z"
   },
   {
    "duration": 100,
    "start_time": "2023-07-31T23:38:23.210Z"
   },
   {
    "duration": 0,
    "start_time": "2023-07-31T23:38:23.312Z"
   },
   {
    "duration": 9,
    "start_time": "2023-07-31T23:38:35.562Z"
   },
   {
    "duration": 16,
    "start_time": "2023-07-31T23:38:41.226Z"
   },
   {
    "duration": 653,
    "start_time": "2023-07-31T23:38:45.704Z"
   },
   {
    "duration": 285,
    "start_time": "2023-07-31T23:39:06.279Z"
   },
   {
    "duration": 11,
    "start_time": "2023-07-31T23:39:50.448Z"
   },
   {
    "duration": 99,
    "start_time": "2023-07-31T23:39:53.682Z"
   },
   {
    "duration": 9523,
    "start_time": "2023-07-31T23:39:54.895Z"
   },
   {
    "duration": 101,
    "start_time": "2023-07-31T23:40:04.511Z"
   },
   {
    "duration": 300,
    "start_time": "2023-07-31T23:40:04.613Z"
   },
   {
    "duration": 1087,
    "start_time": "2023-07-31T23:45:14.572Z"
   },
   {
    "duration": 323,
    "start_time": "2023-07-31T23:47:28.694Z"
   },
   {
    "duration": 167,
    "start_time": "2023-07-31T23:50:08.654Z"
   },
   {
    "duration": 158,
    "start_time": "2023-07-31T23:50:43.879Z"
   },
   {
    "duration": 192,
    "start_time": "2023-07-31T23:51:42.412Z"
   },
   {
    "duration": 193,
    "start_time": "2023-07-31T23:51:57.620Z"
   },
   {
    "duration": 16,
    "start_time": "2023-07-31T23:53:22.649Z"
   },
   {
    "duration": 16,
    "start_time": "2023-07-31T23:53:40.275Z"
   },
   {
    "duration": 158,
    "start_time": "2023-07-31T23:54:44.991Z"
   },
   {
    "duration": 284,
    "start_time": "2023-07-31T23:55:04.286Z"
   },
   {
    "duration": 201,
    "start_time": "2023-07-31T23:57:14.178Z"
   },
   {
    "duration": 338,
    "start_time": "2023-07-31T23:58:29.944Z"
   },
   {
    "duration": 327,
    "start_time": "2023-08-01T00:00:03.342Z"
   },
   {
    "duration": 9,
    "start_time": "2023-08-01T00:04:48.693Z"
   },
   {
    "duration": 7,
    "start_time": "2023-08-01T00:04:56.684Z"
   },
   {
    "duration": 105,
    "start_time": "2023-08-01T00:05:01.166Z"
   },
   {
    "duration": 9118,
    "start_time": "2023-08-01T00:05:01.797Z"
   },
   {
    "duration": 192,
    "start_time": "2023-08-01T00:05:10.918Z"
   },
   {
    "duration": 332,
    "start_time": "2023-08-01T00:05:16.311Z"
   },
   {
    "duration": 3185,
    "start_time": "2023-08-01T00:06:57.480Z"
   },
   {
    "duration": 1150,
    "start_time": "2023-08-01T00:07:00.668Z"
   },
   {
    "duration": 271,
    "start_time": "2023-08-01T00:07:01.819Z"
   },
   {
    "duration": 187,
    "start_time": "2023-08-01T00:07:02.092Z"
   },
   {
    "duration": 3,
    "start_time": "2023-08-01T00:07:02.281Z"
   },
   {
    "duration": 54,
    "start_time": "2023-08-01T00:07:02.285Z"
   },
   {
    "duration": 13,
    "start_time": "2023-08-01T00:07:02.340Z"
   },
   {
    "duration": 43,
    "start_time": "2023-08-01T00:07:02.355Z"
   },
   {
    "duration": 33,
    "start_time": "2023-08-01T00:07:02.399Z"
   },
   {
    "duration": 16,
    "start_time": "2023-08-01T00:07:02.435Z"
   },
   {
    "duration": 33,
    "start_time": "2023-08-01T00:07:02.453Z"
   },
   {
    "duration": 34,
    "start_time": "2023-08-01T00:07:02.488Z"
   },
   {
    "duration": 118,
    "start_time": "2023-08-01T00:07:02.523Z"
   },
   {
    "duration": 34,
    "start_time": "2023-08-01T00:07:02.643Z"
   },
   {
    "duration": 31,
    "start_time": "2023-08-01T00:07:02.679Z"
   },
   {
    "duration": 38,
    "start_time": "2023-08-01T00:07:02.712Z"
   },
   {
    "duration": 55,
    "start_time": "2023-08-01T00:07:02.751Z"
   },
   {
    "duration": 14,
    "start_time": "2023-08-01T00:07:02.808Z"
   },
   {
    "duration": 123,
    "start_time": "2023-08-01T00:07:02.824Z"
   },
   {
    "duration": 189,
    "start_time": "2023-08-01T00:07:02.948Z"
   },
   {
    "duration": 277,
    "start_time": "2023-08-01T00:07:03.139Z"
   },
   {
    "duration": 4,
    "start_time": "2023-08-01T00:07:03.418Z"
   },
   {
    "duration": 131,
    "start_time": "2023-08-01T00:07:03.424Z"
   },
   {
    "duration": 0,
    "start_time": "2023-08-01T00:07:03.557Z"
   },
   {
    "duration": 0,
    "start_time": "2023-08-01T00:07:03.558Z"
   },
   {
    "duration": 0,
    "start_time": "2023-08-01T00:07:03.559Z"
   },
   {
    "duration": 0,
    "start_time": "2023-08-01T00:07:03.560Z"
   },
   {
    "duration": 0,
    "start_time": "2023-08-01T00:07:03.561Z"
   },
   {
    "duration": 0,
    "start_time": "2023-08-01T00:07:03.562Z"
   },
   {
    "duration": 0,
    "start_time": "2023-08-01T00:07:03.563Z"
   },
   {
    "duration": 0,
    "start_time": "2023-08-01T00:07:03.563Z"
   },
   {
    "duration": 0,
    "start_time": "2023-08-01T00:07:03.564Z"
   },
   {
    "duration": 5539,
    "start_time": "2023-08-01T00:11:40.953Z"
   },
   {
    "duration": 5478,
    "start_time": "2023-08-01T00:12:01.810Z"
   },
   {
    "duration": 4043,
    "start_time": "2023-08-01T00:12:07.290Z"
   },
   {
    "duration": 11,
    "start_time": "2023-08-01T00:12:11.335Z"
   },
   {
    "duration": 12,
    "start_time": "2023-08-01T00:12:11.348Z"
   },
   {
    "duration": 12,
    "start_time": "2023-08-01T00:12:11.362Z"
   },
   {
    "duration": 119,
    "start_time": "2023-08-01T00:12:11.375Z"
   },
   {
    "duration": 9713,
    "start_time": "2023-08-01T00:12:11.496Z"
   },
   {
    "duration": 99,
    "start_time": "2023-08-01T00:12:21.215Z"
   },
   {
    "duration": 1,
    "start_time": "2023-08-01T00:12:21.316Z"
   },
   {
    "duration": 3,
    "start_time": "2023-08-01T00:13:21.661Z"
   },
   {
    "duration": 7,
    "start_time": "2023-08-01T00:13:22.332Z"
   },
   {
    "duration": 106,
    "start_time": "2023-08-01T00:13:23.444Z"
   },
   {
    "duration": 9512,
    "start_time": "2023-08-01T00:13:23.997Z"
   },
   {
    "duration": 106,
    "start_time": "2023-08-01T00:13:33.515Z"
   },
   {
    "duration": 360,
    "start_time": "2023-08-01T00:13:33.623Z"
   },
   {
    "duration": 7,
    "start_time": "2023-08-01T00:14:58.489Z"
   },
   {
    "duration": 298,
    "start_time": "2023-08-01T00:15:01.322Z"
   },
   {
    "duration": 8,
    "start_time": "2023-08-01T00:15:13.835Z"
   },
   {
    "duration": 273,
    "start_time": "2023-08-01T00:15:16.786Z"
   },
   {
    "duration": 3341,
    "start_time": "2023-08-01T00:16:53.517Z"
   },
   {
    "duration": 1161,
    "start_time": "2023-08-01T00:16:56.860Z"
   },
   {
    "duration": 543,
    "start_time": "2023-08-01T00:16:58.023Z"
   },
   {
    "duration": 152,
    "start_time": "2023-08-01T00:16:58.568Z"
   },
   {
    "duration": 2,
    "start_time": "2023-08-01T00:16:58.722Z"
   },
   {
    "duration": 22,
    "start_time": "2023-08-01T00:16:58.726Z"
   },
   {
    "duration": 9,
    "start_time": "2023-08-01T00:16:58.750Z"
   },
   {
    "duration": 49,
    "start_time": "2023-08-01T00:16:58.760Z"
   },
   {
    "duration": 43,
    "start_time": "2023-08-01T00:16:58.811Z"
   },
   {
    "duration": 4,
    "start_time": "2023-08-01T00:16:58.856Z"
   },
   {
    "duration": 19,
    "start_time": "2023-08-01T00:16:58.862Z"
   },
   {
    "duration": 13,
    "start_time": "2023-08-01T00:16:58.883Z"
   },
   {
    "duration": 113,
    "start_time": "2023-08-01T00:16:58.898Z"
   },
   {
    "duration": 40,
    "start_time": "2023-08-01T00:16:59.012Z"
   },
   {
    "duration": 9,
    "start_time": "2023-08-01T00:16:59.054Z"
   },
   {
    "duration": 25,
    "start_time": "2023-08-01T00:16:59.065Z"
   },
   {
    "duration": 72,
    "start_time": "2023-08-01T00:16:59.091Z"
   },
   {
    "duration": 17,
    "start_time": "2023-08-01T00:16:59.164Z"
   },
   {
    "duration": 131,
    "start_time": "2023-08-01T00:16:59.183Z"
   },
   {
    "duration": 236,
    "start_time": "2023-08-01T00:16:59.315Z"
   },
   {
    "duration": 311,
    "start_time": "2023-08-01T00:16:59.553Z"
   },
   {
    "duration": 6,
    "start_time": "2023-08-01T00:16:59.865Z"
   },
   {
    "duration": 5965,
    "start_time": "2023-08-01T00:16:59.872Z"
   },
   {
    "duration": 5598,
    "start_time": "2023-08-01T00:17:05.839Z"
   },
   {
    "duration": 4002,
    "start_time": "2023-08-01T00:17:11.439Z"
   },
   {
    "duration": 12,
    "start_time": "2023-08-01T00:17:15.443Z"
   },
   {
    "duration": 26,
    "start_time": "2023-08-01T00:17:15.457Z"
   },
   {
    "duration": 21,
    "start_time": "2023-08-01T00:17:15.487Z"
   },
   {
    "duration": 13,
    "start_time": "2023-08-01T00:17:15.510Z"
   },
   {
    "duration": 106,
    "start_time": "2023-08-01T00:17:15.525Z"
   },
   {
    "duration": 9583,
    "start_time": "2023-08-01T00:17:15.633Z"
   },
   {
    "duration": 191,
    "start_time": "2023-08-01T00:17:25.218Z"
   },
   {
    "duration": 301,
    "start_time": "2023-08-01T00:17:25.411Z"
   },
   {
    "duration": 124,
    "start_time": "2023-08-01T00:39:16.590Z"
   },
   {
    "duration": 4971,
    "start_time": "2023-08-01T00:40:13.434Z"
   },
   {
    "duration": 4442,
    "start_time": "2023-08-01T00:40:23.243Z"
   },
   {
    "duration": 80,
    "start_time": "2023-08-01T00:40:30.501Z"
   },
   {
    "duration": 5902,
    "start_time": "2023-08-01T00:40:39.394Z"
   },
   {
    "duration": 12,
    "start_time": "2023-08-01T00:40:54.235Z"
   },
   {
    "duration": 4,
    "start_time": "2023-08-01T00:40:59.162Z"
   },
   {
    "duration": 10,
    "start_time": "2023-08-01T00:41:07.250Z"
   },
   {
    "duration": 3,
    "start_time": "2023-08-01T00:42:38.351Z"
   },
   {
    "duration": 8,
    "start_time": "2023-08-01T00:43:42.268Z"
   },
   {
    "duration": 5203,
    "start_time": "2023-08-01T00:43:49.628Z"
   },
   {
    "duration": 104,
    "start_time": "2023-08-01T00:49:56.198Z"
   },
   {
    "duration": 5,
    "start_time": "2023-08-01T00:50:12.198Z"
   },
   {
    "duration": 9221,
    "start_time": "2023-08-01T00:50:20.796Z"
   },
   {
    "duration": 105,
    "start_time": "2023-08-01T00:50:30.110Z"
   },
   {
    "duration": 283,
    "start_time": "2023-08-01T00:50:30.216Z"
   },
   {
    "duration": 15,
    "start_time": "2023-08-01T00:50:30.501Z"
   },
   {
    "duration": 4991,
    "start_time": "2023-08-01T00:50:32.367Z"
   },
   {
    "duration": 19,
    "start_time": "2023-08-01T00:51:19.099Z"
   },
   {
    "duration": 4,
    "start_time": "2023-08-01T00:51:28.187Z"
   },
   {
    "duration": 4,
    "start_time": "2023-08-01T00:51:52.569Z"
   },
   {
    "duration": 6,
    "start_time": "2023-08-01T00:52:05.122Z"
   },
   {
    "duration": 4,
    "start_time": "2023-08-01T00:52:23.824Z"
   },
   {
    "duration": 4739,
    "start_time": "2023-08-01T00:52:34.897Z"
   },
   {
    "duration": 2,
    "start_time": "2023-08-01T00:55:45.624Z"
   },
   {
    "duration": 8,
    "start_time": "2023-08-01T00:55:50.201Z"
   },
   {
    "duration": 3,
    "start_time": "2023-08-01T00:55:51.074Z"
   },
   {
    "duration": 3,
    "start_time": "2023-08-01T00:55:51.668Z"
   },
   {
    "duration": 4,
    "start_time": "2023-08-01T00:55:52.208Z"
   },
   {
    "duration": 6,
    "start_time": "2023-08-01T00:55:52.967Z"
   },
   {
    "duration": 4,
    "start_time": "2023-08-01T00:55:53.696Z"
   },
   {
    "duration": 5292,
    "start_time": "2023-08-01T00:55:54.944Z"
   },
   {
    "duration": 5,
    "start_time": "2023-08-01T02:25:30.043Z"
   },
   {
    "duration": 36149,
    "start_time": "2023-08-01T02:25:32.031Z"
   },
   {
    "duration": 9588,
    "start_time": "2023-08-01T02:26:24.896Z"
   },
   {
    "duration": 5,
    "start_time": "2023-08-01T02:26:35.320Z"
   },
   {
    "duration": 5,
    "start_time": "2023-08-01T02:26:39.167Z"
   },
   {
    "duration": 38923,
    "start_time": "2023-08-01T02:26:42.017Z"
   },
   {
    "duration": 4,
    "start_time": "2023-08-01T02:27:54.574Z"
   },
   {
    "duration": 6,
    "start_time": "2023-08-01T02:27:55.724Z"
   },
   {
    "duration": 5,
    "start_time": "2023-08-01T02:27:57.317Z"
   },
   {
    "duration": 43112,
    "start_time": "2023-08-01T02:27:58.359Z"
   },
   {
    "duration": 11,
    "start_time": "2023-08-01T02:28:41.473Z"
   },
   {
    "duration": 0,
    "start_time": "2023-08-01T02:28:41.485Z"
   },
   {
    "duration": 34,
    "start_time": "2023-08-01T02:30:01.409Z"
   },
   {
    "duration": 2315,
    "start_time": "2023-08-01T02:30:03.058Z"
   },
   {
    "duration": 40,
    "start_time": "2023-08-01T02:33:25.039Z"
   },
   {
    "duration": 1884,
    "start_time": "2023-08-01T02:33:25.600Z"
   },
   {
    "duration": 4,
    "start_time": "2023-08-01T02:33:30.175Z"
   },
   {
    "duration": 5,
    "start_time": "2023-08-01T02:36:20.259Z"
   },
   {
    "duration": 6,
    "start_time": "2023-08-01T02:36:20.834Z"
   },
   {
    "duration": 4,
    "start_time": "2023-08-01T02:36:21.781Z"
   },
   {
    "duration": 743642,
    "start_time": "2023-08-01T02:36:23.700Z"
   },
   {
    "duration": 0,
    "start_time": "2023-08-01T02:48:47.344Z"
   },
   {
    "duration": 0,
    "start_time": "2023-08-01T02:48:47.345Z"
   },
   {
    "duration": 0,
    "start_time": "2023-08-01T02:48:47.346Z"
   },
   {
    "duration": 4,
    "start_time": "2023-08-01T02:52:11.785Z"
   },
   {
    "duration": 6,
    "start_time": "2023-08-01T02:52:12.312Z"
   },
   {
    "duration": 5,
    "start_time": "2023-08-01T02:52:12.927Z"
   },
   {
    "duration": 760549,
    "start_time": "2023-08-01T02:52:13.953Z"
   },
   {
    "duration": 42,
    "start_time": "2023-08-01T03:04:54.503Z"
   },
   {
    "duration": 181971,
    "start_time": "2023-08-01T03:04:54.547Z"
   },
   {
    "duration": 3,
    "start_time": "2023-08-01T03:07:56.520Z"
   },
   {
    "duration": 6,
    "start_time": "2023-08-01T14:02:00.951Z"
   },
   {
    "duration": 7,
    "start_time": "2023-08-01T14:02:01.783Z"
   },
   {
    "duration": 894364,
    "start_time": "2023-08-01T14:02:03.591Z"
   },
   {
    "duration": 52,
    "start_time": "2023-08-01T14:16:57.957Z"
   },
   {
    "duration": 198641,
    "start_time": "2023-08-01T14:16:58.011Z"
   },
   {
    "duration": 6,
    "start_time": "2023-08-01T14:20:16.654Z"
   },
   {
    "duration": 6874,
    "start_time": "2023-08-01T14:48:06.188Z"
   },
   {
    "duration": 1285,
    "start_time": "2023-08-01T14:48:13.065Z"
   },
   {
    "duration": 315,
    "start_time": "2023-08-01T14:48:14.352Z"
   },
   {
    "duration": 163,
    "start_time": "2023-08-01T14:48:14.669Z"
   },
   {
    "duration": 4,
    "start_time": "2023-08-01T14:48:14.834Z"
   },
   {
    "duration": 47,
    "start_time": "2023-08-01T14:48:14.839Z"
   },
   {
    "duration": 10,
    "start_time": "2023-08-01T14:48:14.889Z"
   },
   {
    "duration": 51,
    "start_time": "2023-08-01T14:48:14.901Z"
   },
   {
    "duration": 39,
    "start_time": "2023-08-01T14:48:14.954Z"
   },
   {
    "duration": 6,
    "start_time": "2023-08-01T14:48:15.013Z"
   },
   {
    "duration": 33,
    "start_time": "2023-08-01T14:48:15.022Z"
   },
   {
    "duration": 21,
    "start_time": "2023-08-01T14:48:15.057Z"
   },
   {
    "duration": 146,
    "start_time": "2023-08-01T14:48:15.080Z"
   },
   {
    "duration": 47,
    "start_time": "2023-08-01T14:48:15.227Z"
   },
   {
    "duration": 12,
    "start_time": "2023-08-01T14:48:15.275Z"
   },
   {
    "duration": 41,
    "start_time": "2023-08-01T14:48:15.289Z"
   },
   {
    "duration": 55,
    "start_time": "2023-08-01T14:48:15.333Z"
   },
   {
    "duration": 37,
    "start_time": "2023-08-01T14:48:15.390Z"
   },
   {
    "duration": 144,
    "start_time": "2023-08-01T14:48:15.430Z"
   },
   {
    "duration": 231,
    "start_time": "2023-08-01T14:48:15.576Z"
   },
   {
    "duration": 399,
    "start_time": "2023-08-01T14:48:15.810Z"
   },
   {
    "duration": 17,
    "start_time": "2023-08-01T14:48:16.213Z"
   },
   {
    "duration": 6767,
    "start_time": "2023-08-01T14:48:16.232Z"
   },
   {
    "duration": 6643,
    "start_time": "2023-08-01T14:48:23.001Z"
   },
   {
    "duration": 4618,
    "start_time": "2023-08-01T14:48:29.646Z"
   },
   {
    "duration": 13,
    "start_time": "2023-08-01T14:48:34.266Z"
   },
   {
    "duration": 55,
    "start_time": "2023-08-01T14:48:34.281Z"
   },
   {
    "duration": 164,
    "start_time": "2023-08-01T14:48:34.339Z"
   },
   {
    "duration": 223,
    "start_time": "2023-08-01T14:48:34.506Z"
   },
   {
    "duration": 207,
    "start_time": "2023-08-01T14:48:34.732Z"
   },
   {
    "duration": 6,
    "start_time": "2023-08-01T14:48:34.941Z"
   },
   {
    "duration": 18678,
    "start_time": "2023-08-01T14:48:34.948Z"
   },
   {
    "duration": 188,
    "start_time": "2023-08-01T14:48:53.628Z"
   },
   {
    "duration": 327,
    "start_time": "2023-08-01T14:48:53.819Z"
   },
   {
    "duration": 133,
    "start_time": "2023-08-01T14:48:54.148Z"
   },
   {
    "duration": 0,
    "start_time": "2023-08-01T14:48:54.283Z"
   },
   {
    "duration": 0,
    "start_time": "2023-08-01T14:48:54.284Z"
   },
   {
    "duration": 0,
    "start_time": "2023-08-01T14:48:54.285Z"
   },
   {
    "duration": 0,
    "start_time": "2023-08-01T14:48:54.287Z"
   },
   {
    "duration": 0,
    "start_time": "2023-08-01T14:48:54.288Z"
   },
   {
    "duration": 0,
    "start_time": "2023-08-01T14:48:54.290Z"
   },
   {
    "duration": 0,
    "start_time": "2023-08-01T14:48:54.292Z"
   },
   {
    "duration": 0,
    "start_time": "2023-08-01T14:48:54.292Z"
   },
   {
    "duration": 0,
    "start_time": "2023-08-01T14:48:54.312Z"
   },
   {
    "duration": 0,
    "start_time": "2023-08-01T14:48:54.313Z"
   },
   {
    "duration": 0,
    "start_time": "2023-08-01T14:48:54.314Z"
   },
   {
    "duration": 8604,
    "start_time": "2023-08-01T14:54:45.283Z"
   },
   {
    "duration": 1320,
    "start_time": "2023-08-01T14:54:53.890Z"
   },
   {
    "duration": 365,
    "start_time": "2023-08-01T14:54:55.218Z"
   },
   {
    "duration": 194,
    "start_time": "2023-08-01T14:54:55.586Z"
   },
   {
    "duration": 4,
    "start_time": "2023-08-01T14:54:55.783Z"
   },
   {
    "duration": 42,
    "start_time": "2023-08-01T14:54:55.789Z"
   },
   {
    "duration": 15,
    "start_time": "2023-08-01T14:54:55.833Z"
   },
   {
    "duration": 85,
    "start_time": "2023-08-01T14:54:55.850Z"
   },
   {
    "duration": 52,
    "start_time": "2023-08-01T14:54:55.940Z"
   },
   {
    "duration": 14,
    "start_time": "2023-08-01T14:54:56.011Z"
   },
   {
    "duration": 30,
    "start_time": "2023-08-01T14:54:56.027Z"
   },
   {
    "duration": 42,
    "start_time": "2023-08-01T14:54:56.060Z"
   },
   {
    "duration": 174,
    "start_time": "2023-08-01T14:54:56.105Z"
   },
   {
    "duration": 70,
    "start_time": "2023-08-01T14:54:56.282Z"
   },
   {
    "duration": 23,
    "start_time": "2023-08-01T14:54:56.355Z"
   },
   {
    "duration": 96,
    "start_time": "2023-08-01T14:54:56.380Z"
   },
   {
    "duration": 103,
    "start_time": "2023-08-01T14:54:56.478Z"
   },
   {
    "duration": 32,
    "start_time": "2023-08-01T14:54:56.583Z"
   },
   {
    "duration": 174,
    "start_time": "2023-08-01T14:54:56.619Z"
   },
   {
    "duration": 244,
    "start_time": "2023-08-01T14:54:56.795Z"
   },
   {
    "duration": 343,
    "start_time": "2023-08-01T14:54:57.042Z"
   },
   {
    "duration": 13,
    "start_time": "2023-08-01T14:54:57.387Z"
   },
   {
    "duration": 7468,
    "start_time": "2023-08-01T14:54:57.402Z"
   },
   {
    "duration": 6693,
    "start_time": "2023-08-01T14:55:04.873Z"
   },
   {
    "duration": 4887,
    "start_time": "2023-08-01T14:55:11.568Z"
   },
   {
    "duration": 13,
    "start_time": "2023-08-01T14:55:16.457Z"
   },
   {
    "duration": 100,
    "start_time": "2023-08-01T14:55:16.472Z"
   },
   {
    "duration": 0,
    "start_time": "2023-08-01T14:55:16.575Z"
   },
   {
    "duration": 0,
    "start_time": "2023-08-01T14:55:16.576Z"
   },
   {
    "duration": 0,
    "start_time": "2023-08-01T14:55:16.578Z"
   },
   {
    "duration": 0,
    "start_time": "2023-08-01T14:55:16.579Z"
   },
   {
    "duration": 0,
    "start_time": "2023-08-01T14:55:16.580Z"
   },
   {
    "duration": 0,
    "start_time": "2023-08-01T14:55:16.582Z"
   },
   {
    "duration": 0,
    "start_time": "2023-08-01T14:55:16.583Z"
   },
   {
    "duration": 0,
    "start_time": "2023-08-01T14:55:16.584Z"
   },
   {
    "duration": 0,
    "start_time": "2023-08-01T14:55:16.585Z"
   },
   {
    "duration": 0,
    "start_time": "2023-08-01T14:55:16.587Z"
   },
   {
    "duration": 0,
    "start_time": "2023-08-01T14:55:16.589Z"
   },
   {
    "duration": 0,
    "start_time": "2023-08-01T14:55:16.589Z"
   },
   {
    "duration": 0,
    "start_time": "2023-08-01T14:55:16.591Z"
   },
   {
    "duration": 0,
    "start_time": "2023-08-01T14:55:16.592Z"
   },
   {
    "duration": 0,
    "start_time": "2023-08-01T14:55:16.593Z"
   },
   {
    "duration": 0,
    "start_time": "2023-08-01T14:55:16.596Z"
   },
   {
    "duration": 0,
    "start_time": "2023-08-01T14:55:16.597Z"
   },
   {
    "duration": 0,
    "start_time": "2023-08-01T14:55:16.598Z"
   },
   {
    "duration": 1593,
    "start_time": "2023-08-01T14:55:35.634Z"
   },
   {
    "duration": 11411,
    "start_time": "2023-08-01T14:56:04.841Z"
   },
   {
    "duration": 18,
    "start_time": "2023-08-01T14:56:23.848Z"
   },
   {
    "duration": 6,
    "start_time": "2023-08-01T14:56:24.611Z"
   },
   {
    "duration": 8,
    "start_time": "2023-08-01T14:56:25.486Z"
   },
   {
    "duration": 127,
    "start_time": "2023-08-01T14:56:26.665Z"
   },
   {
    "duration": 9,
    "start_time": "2023-08-01T14:56:27.213Z"
   },
   {
    "duration": 17415,
    "start_time": "2023-08-01T14:56:27.703Z"
   },
   {
    "duration": 87,
    "start_time": "2023-08-01T14:56:45.138Z"
   },
   {
    "duration": 398,
    "start_time": "2023-08-01T14:56:45.232Z"
   },
   {
    "duration": 11,
    "start_time": "2023-08-01T14:56:45.635Z"
   },
   {
    "duration": 25,
    "start_time": "2023-08-01T14:56:45.648Z"
   },
   {
    "duration": 5,
    "start_time": "2023-08-01T14:56:45.789Z"
   },
   {
    "duration": 11,
    "start_time": "2023-08-01T14:56:46.722Z"
   },
   {
    "duration": 5,
    "start_time": "2023-08-01T14:56:47.376Z"
   },
   {
    "duration": 906601,
    "start_time": "2023-08-01T14:56:48.015Z"
   },
   {
    "duration": 53,
    "start_time": "2023-08-01T15:11:54.618Z"
   },
   {
    "duration": 209953,
    "start_time": "2023-08-01T15:11:54.673Z"
   },
   {
    "duration": 6,
    "start_time": "2023-08-01T15:15:24.630Z"
   },
   {
    "duration": 19,
    "start_time": "2023-08-01T16:05:45.454Z"
   },
   {
    "duration": 7449,
    "start_time": "2023-08-01T16:05:55.152Z"
   },
   {
    "duration": 1395,
    "start_time": "2023-08-01T16:06:02.604Z"
   },
   {
    "duration": 365,
    "start_time": "2023-08-01T16:06:04.001Z"
   },
   {
    "duration": 194,
    "start_time": "2023-08-01T16:06:04.368Z"
   },
   {
    "duration": 3,
    "start_time": "2023-08-01T16:06:04.565Z"
   },
   {
    "duration": 33,
    "start_time": "2023-08-01T16:06:04.570Z"
   },
   {
    "duration": 34,
    "start_time": "2023-08-01T16:06:04.605Z"
   },
   {
    "duration": 51,
    "start_time": "2023-08-01T16:06:04.642Z"
   },
   {
    "duration": 46,
    "start_time": "2023-08-01T16:06:04.695Z"
   },
   {
    "duration": 4,
    "start_time": "2023-08-01T16:06:04.743Z"
   },
   {
    "duration": 32,
    "start_time": "2023-08-01T16:06:04.749Z"
   },
   {
    "duration": 32,
    "start_time": "2023-08-01T16:06:04.783Z"
   },
   {
    "duration": 143,
    "start_time": "2023-08-01T16:06:04.820Z"
   },
   {
    "duration": 78,
    "start_time": "2023-08-01T16:06:04.967Z"
   },
   {
    "duration": 14,
    "start_time": "2023-08-01T16:06:05.047Z"
   },
   {
    "duration": 34,
    "start_time": "2023-08-01T16:06:05.063Z"
   },
   {
    "duration": 78,
    "start_time": "2023-08-01T16:06:05.099Z"
   },
   {
    "duration": 18,
    "start_time": "2023-08-01T16:06:05.179Z"
   },
   {
    "duration": 137,
    "start_time": "2023-08-01T16:06:05.199Z"
   },
   {
    "duration": 232,
    "start_time": "2023-08-01T16:06:05.338Z"
   },
   {
    "duration": 421,
    "start_time": "2023-08-01T16:06:05.572Z"
   },
   {
    "duration": 25,
    "start_time": "2023-08-01T16:06:05.995Z"
   },
   {
    "duration": 6927,
    "start_time": "2023-08-01T16:06:06.024Z"
   },
   {
    "duration": 6490,
    "start_time": "2023-08-01T16:06:12.953Z"
   },
   {
    "duration": 4480,
    "start_time": "2023-08-01T16:06:19.445Z"
   },
   {
    "duration": 14,
    "start_time": "2023-08-01T16:06:23.930Z"
   },
   {
    "duration": 11726,
    "start_time": "2023-08-01T16:06:23.946Z"
   },
   {
    "duration": 12,
    "start_time": "2023-08-01T16:06:35.674Z"
   },
   {
    "duration": 63,
    "start_time": "2023-08-01T16:06:35.687Z"
   },
   {
    "duration": 46,
    "start_time": "2023-08-01T16:06:35.752Z"
   },
   {
    "duration": 197,
    "start_time": "2023-08-01T16:06:35.801Z"
   },
   {
    "duration": 6,
    "start_time": "2023-08-01T16:06:36.001Z"
   },
   {
    "duration": 22512,
    "start_time": "2023-08-01T16:06:36.012Z"
   },
   {
    "duration": 183,
    "start_time": "2023-08-01T16:06:58.526Z"
   },
   {
    "duration": 325,
    "start_time": "2023-08-01T16:06:58.711Z"
   },
   {
    "duration": 10,
    "start_time": "2023-08-01T16:06:59.038Z"
   },
   {
    "duration": 15,
    "start_time": "2023-08-01T16:06:59.050Z"
   },
   {
    "duration": 18,
    "start_time": "2023-08-01T16:06:59.067Z"
   },
   {
    "duration": 15,
    "start_time": "2023-08-01T16:06:59.087Z"
   },
   {
    "duration": 28,
    "start_time": "2023-08-01T16:06:59.104Z"
   },
   {
    "duration": 912274,
    "start_time": "2023-08-01T16:06:59.136Z"
   },
   {
    "duration": 59,
    "start_time": "2023-08-01T16:22:11.412Z"
   },
   {
    "duration": 215294,
    "start_time": "2023-08-01T16:22:11.473Z"
   },
   {
    "duration": 5,
    "start_time": "2023-08-01T16:25:46.770Z"
   },
   {
    "duration": 170,
    "start_time": "2023-08-01T16:25:46.778Z"
   },
   {
    "duration": 0,
    "start_time": "2023-08-01T16:25:46.950Z"
   },
   {
    "duration": 25,
    "start_time": "2023-08-01T16:26:26.041Z"
   },
   {
    "duration": 5,
    "start_time": "2023-08-01T16:27:42.187Z"
   },
   {
    "duration": 6933,
    "start_time": "2023-08-01T16:40:05.101Z"
   },
   {
    "duration": 1248,
    "start_time": "2023-08-01T16:40:12.037Z"
   },
   {
    "duration": 356,
    "start_time": "2023-08-01T16:40:13.287Z"
   },
   {
    "duration": 181,
    "start_time": "2023-08-01T16:40:13.645Z"
   },
   {
    "duration": 3,
    "start_time": "2023-08-01T16:40:13.828Z"
   },
   {
    "duration": 20,
    "start_time": "2023-08-01T16:40:13.833Z"
   },
   {
    "duration": 30,
    "start_time": "2023-08-01T16:40:13.855Z"
   },
   {
    "duration": 45,
    "start_time": "2023-08-01T16:40:13.887Z"
   },
   {
    "duration": 30,
    "start_time": "2023-08-01T16:40:13.934Z"
   },
   {
    "duration": 12,
    "start_time": "2023-08-01T16:40:13.967Z"
   },
   {
    "duration": 37,
    "start_time": "2023-08-01T16:40:13.981Z"
   },
   {
    "duration": 36,
    "start_time": "2023-08-01T16:40:14.019Z"
   },
   {
    "duration": 131,
    "start_time": "2023-08-01T16:40:14.057Z"
   },
   {
    "duration": 61,
    "start_time": "2023-08-01T16:40:14.190Z"
   },
   {
    "duration": 10,
    "start_time": "2023-08-01T16:40:14.253Z"
   },
   {
    "duration": 28,
    "start_time": "2023-08-01T16:40:14.265Z"
   },
   {
    "duration": 67,
    "start_time": "2023-08-01T16:40:14.295Z"
   },
   {
    "duration": 18,
    "start_time": "2023-08-01T16:40:14.364Z"
   },
   {
    "duration": 151,
    "start_time": "2023-08-01T16:40:14.384Z"
   },
   {
    "duration": 227,
    "start_time": "2023-08-01T16:40:14.537Z"
   },
   {
    "duration": 332,
    "start_time": "2023-08-01T16:40:14.765Z"
   },
   {
    "duration": 15,
    "start_time": "2023-08-01T16:40:15.099Z"
   },
   {
    "duration": 6669,
    "start_time": "2023-08-01T16:40:15.122Z"
   },
   {
    "duration": 6168,
    "start_time": "2023-08-01T16:40:21.793Z"
   },
   {
    "duration": 4506,
    "start_time": "2023-08-01T16:40:27.963Z"
   },
   {
    "duration": 12,
    "start_time": "2023-08-01T16:40:32.471Z"
   },
   {
    "duration": 10093,
    "start_time": "2023-08-01T16:40:32.485Z"
   },
   {
    "duration": 13,
    "start_time": "2023-08-01T16:40:42.581Z"
   },
   {
    "duration": 32,
    "start_time": "2023-08-01T16:40:42.596Z"
   },
   {
    "duration": 10,
    "start_time": "2023-08-01T16:40:42.630Z"
   },
   {
    "duration": 109,
    "start_time": "2023-08-01T16:40:42.642Z"
   },
   {
    "duration": 5,
    "start_time": "2023-08-01T16:40:42.753Z"
   },
   {
    "duration": 20776,
    "start_time": "2023-08-01T16:40:42.759Z"
   },
   {
    "duration": 185,
    "start_time": "2023-08-01T16:41:03.536Z"
   },
   {
    "duration": 437,
    "start_time": "2023-08-01T16:41:03.723Z"
   },
   {
    "duration": 9,
    "start_time": "2023-08-01T16:41:04.162Z"
   },
   {
    "duration": 20,
    "start_time": "2023-08-01T16:41:04.173Z"
   },
   {
    "duration": 36,
    "start_time": "2023-08-01T16:41:04.195Z"
   },
   {
    "duration": 22,
    "start_time": "2023-08-01T16:41:04.233Z"
   },
   {
    "duration": 50,
    "start_time": "2023-08-01T16:41:04.257Z"
   },
   {
    "duration": 741438,
    "start_time": "2023-08-01T16:41:04.309Z"
   },
   {
    "duration": 37,
    "start_time": "2023-08-01T16:53:25.749Z"
   },
   {
    "duration": 3910,
    "start_time": "2023-08-01T16:53:25.789Z"
   },
   {
    "duration": 4,
    "start_time": "2023-08-01T16:53:29.701Z"
   },
   {
    "duration": 140,
    "start_time": "2023-08-01T16:53:29.707Z"
   },
   {
    "duration": 0,
    "start_time": "2023-08-01T16:53:29.848Z"
   },
   {
    "duration": 7497,
    "start_time": "2023-08-03T05:55:53.071Z"
   },
   {
    "duration": 1265,
    "start_time": "2023-08-03T05:56:00.570Z"
   },
   {
    "duration": 289,
    "start_time": "2023-08-03T05:56:01.836Z"
   },
   {
    "duration": 183,
    "start_time": "2023-08-03T05:56:02.127Z"
   },
   {
    "duration": 3,
    "start_time": "2023-08-03T05:56:02.312Z"
   },
   {
    "duration": 33,
    "start_time": "2023-08-03T05:56:02.317Z"
   },
   {
    "duration": 14,
    "start_time": "2023-08-03T05:56:02.352Z"
   },
   {
    "duration": 56,
    "start_time": "2023-08-03T05:56:02.368Z"
   },
   {
    "duration": 30,
    "start_time": "2023-08-03T05:56:02.426Z"
   },
   {
    "duration": 3,
    "start_time": "2023-08-03T05:56:02.459Z"
   },
   {
    "duration": 20,
    "start_time": "2023-08-03T05:56:02.464Z"
   },
   {
    "duration": 24,
    "start_time": "2023-08-03T05:56:02.485Z"
   },
   {
    "duration": 117,
    "start_time": "2023-08-03T05:56:02.512Z"
   },
   {
    "duration": 40,
    "start_time": "2023-08-03T05:56:02.630Z"
   },
   {
    "duration": 9,
    "start_time": "2023-08-03T05:56:02.672Z"
   },
   {
    "duration": 41,
    "start_time": "2023-08-03T05:56:02.683Z"
   },
   {
    "duration": 70,
    "start_time": "2023-08-03T05:56:02.726Z"
   },
   {
    "duration": 16,
    "start_time": "2023-08-03T05:56:02.797Z"
   },
   {
    "duration": 129,
    "start_time": "2023-08-03T05:56:02.815Z"
   },
   {
    "duration": 209,
    "start_time": "2023-08-03T05:56:02.946Z"
   },
   {
    "duration": 303,
    "start_time": "2023-08-03T05:56:03.157Z"
   },
   {
    "duration": 5,
    "start_time": "2023-08-03T05:56:03.462Z"
   },
   {
    "duration": 6050,
    "start_time": "2023-08-03T05:56:03.469Z"
   },
   {
    "duration": 5744,
    "start_time": "2023-08-03T05:56:09.520Z"
   },
   {
    "duration": 4103,
    "start_time": "2023-08-03T05:56:15.266Z"
   },
   {
    "duration": 14,
    "start_time": "2023-08-03T05:56:19.372Z"
   },
   {
    "duration": 9365,
    "start_time": "2023-08-03T05:56:19.388Z"
   },
   {
    "duration": 12,
    "start_time": "2023-08-03T05:56:28.756Z"
   },
   {
    "duration": 10,
    "start_time": "2023-08-03T05:56:28.769Z"
   },
   {
    "duration": 9,
    "start_time": "2023-08-03T05:56:28.781Z"
   },
   {
    "duration": 103,
    "start_time": "2023-08-03T05:56:28.791Z"
   },
   {
    "duration": 4,
    "start_time": "2023-08-03T05:56:28.896Z"
   },
   {
    "duration": 7510,
    "start_time": "2023-08-03T05:56:28.908Z"
   },
   {
    "duration": 100,
    "start_time": "2023-08-03T05:56:36.511Z"
   },
   {
    "duration": 297,
    "start_time": "2023-08-03T05:56:36.612Z"
   },
   {
    "duration": 9,
    "start_time": "2023-08-03T05:56:36.910Z"
   },
   {
    "duration": 13,
    "start_time": "2023-08-03T05:56:36.920Z"
   },
   {
    "duration": 12,
    "start_time": "2023-08-03T05:56:36.934Z"
   },
   {
    "duration": 14,
    "start_time": "2023-08-03T05:56:36.948Z"
   },
   {
    "duration": 15,
    "start_time": "2023-08-03T05:56:36.963Z"
   },
   {
    "duration": 731611,
    "start_time": "2023-08-03T05:56:36.979Z"
   },
   {
    "duration": 37,
    "start_time": "2023-08-03T06:08:48.592Z"
   },
   {
    "duration": 3730,
    "start_time": "2023-08-03T06:08:48.631Z"
   },
   {
    "duration": 5,
    "start_time": "2023-08-03T06:08:52.363Z"
   },
   {
    "duration": 124,
    "start_time": "2023-08-03T06:08:52.369Z"
   },
   {
    "duration": 0,
    "start_time": "2023-08-03T06:08:52.494Z"
   },
   {
    "duration": 0,
    "start_time": "2023-08-03T06:08:52.495Z"
   },
   {
    "duration": 1468,
    "start_time": "2023-08-04T09:05:45.202Z"
   },
   {
    "duration": 762,
    "start_time": "2023-08-04T09:05:48.323Z"
   },
   {
    "duration": 153,
    "start_time": "2023-08-04T09:05:53.148Z"
   },
   {
    "duration": 294,
    "start_time": "2023-08-04T09:06:40.155Z"
   },
   {
    "duration": 8981,
    "start_time": "2023-08-04T09:07:09.802Z"
   },
   {
    "duration": 33,
    "start_time": "2023-08-04T09:07:18.786Z"
   },
   {
    "duration": 76,
    "start_time": "2023-08-04T09:07:18.821Z"
   },
   {
    "duration": 132,
    "start_time": "2023-08-04T09:07:19.769Z"
   },
   {
    "duration": 499,
    "start_time": "2023-08-04T09:10:36.799Z"
   },
   {
    "duration": 3,
    "start_time": "2023-08-04T09:10:41.833Z"
   },
   {
    "duration": 15,
    "start_time": "2023-08-04T09:10:42.400Z"
   },
   {
    "duration": 3,
    "start_time": "2023-08-04T09:10:43.450Z"
   },
   {
    "duration": 35,
    "start_time": "2023-08-04T09:10:44.250Z"
   },
   {
    "duration": 42,
    "start_time": "2023-08-04T09:10:44.779Z"
   },
   {
    "duration": 4,
    "start_time": "2023-08-04T09:10:46.203Z"
   },
   {
    "duration": 4,
    "start_time": "2023-08-04T09:10:47.804Z"
   },
   {
    "duration": 7,
    "start_time": "2023-08-04T09:10:49.570Z"
   },
   {
    "duration": 103,
    "start_time": "2023-08-04T09:10:50.659Z"
   },
   {
    "duration": 48,
    "start_time": "2023-08-04T09:10:59.738Z"
   },
   {
    "duration": 13,
    "start_time": "2023-08-04T09:11:06.501Z"
   },
   {
    "duration": 41,
    "start_time": "2023-08-04T09:11:06.515Z"
   },
   {
    "duration": 57,
    "start_time": "2023-08-04T09:11:08.450Z"
   },
   {
    "duration": 17,
    "start_time": "2023-08-04T09:11:10.553Z"
   },
   {
    "duration": 210,
    "start_time": "2023-08-04T09:11:14.300Z"
   },
   {
    "duration": 198,
    "start_time": "2023-08-04T09:11:20.336Z"
   },
   {
    "duration": 195,
    "start_time": "2023-08-04T09:11:30.369Z"
   },
   {
    "duration": 5,
    "start_time": "2023-08-04T09:11:38.360Z"
   },
   {
    "duration": 6084,
    "start_time": "2023-08-04T09:11:39.586Z"
   },
   {
    "duration": 5647,
    "start_time": "2023-08-04T09:11:45.672Z"
   },
   {
    "duration": 4184,
    "start_time": "2023-08-04T09:11:51.322Z"
   },
   {
    "duration": 12,
    "start_time": "2023-08-04T09:11:55.508Z"
   },
   {
    "duration": 58,
    "start_time": "2023-08-04T09:11:55.521Z"
   },
   {
    "duration": 11699,
    "start_time": "2023-08-04T09:11:55.580Z"
   },
   {
    "duration": 20,
    "start_time": "2023-08-04T09:12:07.281Z"
   },
   {
    "duration": 25,
    "start_time": "2023-08-04T09:12:07.302Z"
   },
   {
    "duration": 56,
    "start_time": "2023-08-04T09:12:07.329Z"
   },
   {
    "duration": 126,
    "start_time": "2023-08-04T09:12:07.387Z"
   },
   {
    "duration": 4,
    "start_time": "2023-08-04T09:12:07.515Z"
   },
   {
    "duration": 29183,
    "start_time": "2023-08-04T09:12:07.520Z"
   },
   {
    "duration": 103,
    "start_time": "2023-08-04T09:12:36.706Z"
   },
   {
    "duration": 321,
    "start_time": "2023-08-04T09:12:36.887Z"
   },
   {
    "duration": 9,
    "start_time": "2023-08-04T09:12:37.210Z"
   },
   {
    "duration": 35,
    "start_time": "2023-08-04T09:12:37.220Z"
   },
   {
    "duration": 27,
    "start_time": "2023-08-04T09:12:37.256Z"
   },
   {
    "duration": 51,
    "start_time": "2023-08-04T09:12:37.284Z"
   },
   {
    "duration": 36,
    "start_time": "2023-08-04T09:12:37.336Z"
   },
   {
    "duration": 994979,
    "start_time": "2023-08-04T09:12:37.373Z"
   },
   {
    "duration": 42,
    "start_time": "2023-08-04T09:29:12.354Z"
   },
   {
    "duration": 5847,
    "start_time": "2023-08-04T09:29:12.398Z"
   },
   {
    "duration": 5,
    "start_time": "2023-08-04T09:29:18.247Z"
   },
   {
    "duration": 6,
    "start_time": "2023-08-06T01:56:30.586Z"
   },
   {
    "duration": 20,
    "start_time": "2023-08-06T02:00:20.756Z"
   },
   {
    "duration": 3,
    "start_time": "2023-08-06T02:02:36.031Z"
   },
   {
    "duration": 635,
    "start_time": "2023-08-06T02:02:36.036Z"
   },
   {
    "duration": 0,
    "start_time": "2023-08-06T02:02:36.673Z"
   },
   {
    "duration": 0,
    "start_time": "2023-08-06T02:02:36.674Z"
   },
   {
    "duration": 0,
    "start_time": "2023-08-06T02:02:36.675Z"
   },
   {
    "duration": 0,
    "start_time": "2023-08-06T02:02:36.676Z"
   },
   {
    "duration": 0,
    "start_time": "2023-08-06T02:02:36.687Z"
   },
   {
    "duration": 1,
    "start_time": "2023-08-06T02:02:36.687Z"
   },
   {
    "duration": 0,
    "start_time": "2023-08-06T02:02:36.688Z"
   },
   {
    "duration": 0,
    "start_time": "2023-08-06T02:02:36.690Z"
   },
   {
    "duration": 1,
    "start_time": "2023-08-06T02:02:36.690Z"
   },
   {
    "duration": 0,
    "start_time": "2023-08-06T02:02:36.692Z"
   },
   {
    "duration": 0,
    "start_time": "2023-08-06T02:02:36.692Z"
   },
   {
    "duration": 0,
    "start_time": "2023-08-06T02:02:36.693Z"
   },
   {
    "duration": 0,
    "start_time": "2023-08-06T02:02:36.694Z"
   },
   {
    "duration": 0,
    "start_time": "2023-08-06T02:02:36.695Z"
   },
   {
    "duration": 0,
    "start_time": "2023-08-06T02:02:36.696Z"
   },
   {
    "duration": 0,
    "start_time": "2023-08-06T02:02:36.697Z"
   },
   {
    "duration": 0,
    "start_time": "2023-08-06T02:02:36.698Z"
   },
   {
    "duration": 0,
    "start_time": "2023-08-06T02:02:36.699Z"
   },
   {
    "duration": 0,
    "start_time": "2023-08-06T02:02:36.700Z"
   },
   {
    "duration": 0,
    "start_time": "2023-08-06T02:02:36.701Z"
   },
   {
    "duration": 0,
    "start_time": "2023-08-06T02:02:36.702Z"
   },
   {
    "duration": 0,
    "start_time": "2023-08-06T02:02:36.703Z"
   },
   {
    "duration": 0,
    "start_time": "2023-08-06T02:02:36.704Z"
   },
   {
    "duration": 0,
    "start_time": "2023-08-06T02:02:36.705Z"
   },
   {
    "duration": 0,
    "start_time": "2023-08-06T02:02:36.707Z"
   },
   {
    "duration": 0,
    "start_time": "2023-08-06T02:02:36.709Z"
   },
   {
    "duration": 0,
    "start_time": "2023-08-06T02:02:36.710Z"
   },
   {
    "duration": 0,
    "start_time": "2023-08-06T02:02:36.711Z"
   },
   {
    "duration": 0,
    "start_time": "2023-08-06T02:02:36.712Z"
   },
   {
    "duration": 0,
    "start_time": "2023-08-06T02:02:36.714Z"
   },
   {
    "duration": 0,
    "start_time": "2023-08-06T02:02:36.715Z"
   },
   {
    "duration": 0,
    "start_time": "2023-08-06T02:02:36.716Z"
   },
   {
    "duration": 0,
    "start_time": "2023-08-06T02:02:36.717Z"
   },
   {
    "duration": 8600,
    "start_time": "2023-08-06T02:02:54.999Z"
   },
   {
    "duration": 480,
    "start_time": "2023-08-06T02:03:03.601Z"
   },
   {
    "duration": 311,
    "start_time": "2023-08-06T02:03:04.082Z"
   },
   {
    "duration": 14275,
    "start_time": "2023-08-06T02:03:55.232Z"
   },
   {
    "duration": 9,
    "start_time": "2023-08-06T02:04:09.510Z"
   },
   {
    "duration": 40,
    "start_time": "2023-08-06T02:04:09.521Z"
   },
   {
    "duration": 7,
    "start_time": "2023-08-06T02:04:47.030Z"
   },
   {
    "duration": 15,
    "start_time": "2023-08-06T02:04:50.293Z"
   },
   {
    "duration": 13551,
    "start_time": "2023-08-06T02:05:10.174Z"
   },
   {
    "duration": 7,
    "start_time": "2023-08-06T02:05:26.194Z"
   },
   {
    "duration": 19,
    "start_time": "2023-08-06T02:05:27.134Z"
   },
   {
    "duration": 12387,
    "start_time": "2023-08-06T02:05:42.584Z"
   },
   {
    "duration": 8,
    "start_time": "2023-08-06T02:05:59.973Z"
   },
   {
    "duration": 19,
    "start_time": "2023-08-06T02:06:03.704Z"
   },
   {
    "duration": 3,
    "start_time": "2023-08-06T02:06:28.716Z"
   },
   {
    "duration": 13,
    "start_time": "2023-08-06T02:06:53.881Z"
   },
   {
    "duration": 3,
    "start_time": "2023-08-06T02:07:02.253Z"
   },
   {
    "duration": 14,
    "start_time": "2023-08-06T02:07:10.131Z"
   },
   {
    "duration": 186,
    "start_time": "2023-08-06T02:07:31.081Z"
   },
   {
    "duration": 3,
    "start_time": "2023-08-06T02:07:39.637Z"
   },
   {
    "duration": 15,
    "start_time": "2023-08-06T02:07:57.318Z"
   },
   {
    "duration": 11,
    "start_time": "2023-08-06T02:08:07.648Z"
   },
   {
    "duration": 4,
    "start_time": "2023-08-06T02:08:16.751Z"
   },
   {
    "duration": 19,
    "start_time": "2023-08-06T02:08:36.703Z"
   },
   {
    "duration": 3,
    "start_time": "2023-08-06T02:08:46.983Z"
   },
   {
    "duration": 7,
    "start_time": "2023-08-06T02:08:57.023Z"
   },
   {
    "duration": 14,
    "start_time": "2023-08-06T02:09:25.967Z"
   },
   {
    "duration": 10,
    "start_time": "2023-08-06T02:10:24.248Z"
   },
   {
    "duration": 7,
    "start_time": "2023-08-06T02:10:34.392Z"
   },
   {
    "duration": 6,
    "start_time": "2023-08-06T02:10:35.350Z"
   },
   {
    "duration": 12,
    "start_time": "2023-08-06T02:10:37.897Z"
   },
   {
    "duration": 2,
    "start_time": "2023-08-06T02:10:41.753Z"
   },
   {
    "duration": 11,
    "start_time": "2023-08-06T02:10:43.395Z"
   },
   {
    "duration": 5,
    "start_time": "2023-08-06T02:10:51.682Z"
   },
   {
    "duration": 9453,
    "start_time": "2023-08-06T02:11:16.904Z"
   },
   {
    "duration": 6011,
    "start_time": "2023-08-06T02:11:41.998Z"
   },
   {
    "duration": 7975,
    "start_time": "2023-08-06T02:11:53.522Z"
   },
   {
    "duration": 1106,
    "start_time": "2023-08-06T02:12:07.737Z"
   },
   {
    "duration": 2125,
    "start_time": "2023-08-06T02:13:18.685Z"
   },
   {
    "duration": 16,
    "start_time": "2023-08-06T02:13:29.692Z"
   },
   {
    "duration": 3953,
    "start_time": "2023-08-06T02:14:28.626Z"
   },
   {
    "duration": 100,
    "start_time": "2023-08-06T02:14:39.090Z"
   },
   {
    "duration": 4730,
    "start_time": "2023-08-06T02:14:45.580Z"
   },
   {
    "duration": 8,
    "start_time": "2023-08-06T02:14:54.926Z"
   },
   {
    "duration": 5,
    "start_time": "2023-08-06T02:14:55.980Z"
   },
   {
    "duration": 17,
    "start_time": "2023-08-06T02:14:59.593Z"
   },
   {
    "duration": 5,
    "start_time": "2023-08-06T02:15:29.497Z"
   },
   {
    "duration": 12,
    "start_time": "2023-08-06T02:15:31.776Z"
   },
   {
    "duration": 7941,
    "start_time": "2023-08-06T02:15:52.703Z"
   },
   {
    "duration": 3992,
    "start_time": "2023-08-06T02:16:00.646Z"
   },
   {
    "duration": 4722,
    "start_time": "2023-08-06T02:16:04.640Z"
   },
   {
    "duration": 1092,
    "start_time": "2023-08-06T02:16:31.695Z"
   },
   {
    "duration": 375,
    "start_time": "2023-08-06T02:16:42.029Z"
   },
   {
    "duration": 102,
    "start_time": "2023-08-06T02:16:44.140Z"
   },
   {
    "duration": 5,
    "start_time": "2023-08-06T02:16:47.301Z"
   },
   {
    "duration": 2,
    "start_time": "2023-08-06T02:16:48.812Z"
   },
   {
    "duration": 164,
    "start_time": "2023-08-06T02:17:10.554Z"
   },
   {
    "duration": 2,
    "start_time": "2023-08-06T02:17:12.129Z"
   },
   {
    "duration": 11,
    "start_time": "2023-08-06T02:17:13.158Z"
   },
   {
    "duration": 11,
    "start_time": "2023-08-06T02:17:13.186Z"
   },
   {
    "duration": 34,
    "start_time": "2023-08-06T02:17:13.857Z"
   },
   {
    "duration": 28,
    "start_time": "2023-08-06T02:17:15.171Z"
   },
   {
    "duration": 4,
    "start_time": "2023-08-06T02:17:17.396Z"
   },
   {
    "duration": 82,
    "start_time": "2023-08-06T02:17:17.979Z"
   },
   {
    "duration": 33,
    "start_time": "2023-08-06T02:17:19.570Z"
   },
   {
    "duration": 15,
    "start_time": "2023-08-06T02:17:21.322Z"
   },
   {
    "duration": 3,
    "start_time": "2023-08-06T02:17:24.106Z"
   },
   {
    "duration": 14,
    "start_time": "2023-08-06T02:17:24.771Z"
   },
   {
    "duration": 13,
    "start_time": "2023-08-06T02:17:27.035Z"
   },
   {
    "duration": 8,
    "start_time": "2023-08-06T02:17:30.594Z"
   },
   {
    "duration": 8,
    "start_time": "2023-08-06T02:17:31.699Z"
   },
   {
    "duration": 491,
    "start_time": "2023-08-06T02:17:33.783Z"
   },
   {
    "duration": 3,
    "start_time": "2023-08-06T02:17:35.275Z"
   },
   {
    "duration": 4044,
    "start_time": "2023-08-06T02:17:37.571Z"
   },
   {
    "duration": 16,
    "start_time": "2023-08-06T02:17:47.562Z"
   },
   {
    "duration": 6,
    "start_time": "2023-08-06T02:17:49.452Z"
   },
   {
    "duration": 8,
    "start_time": "2023-08-06T02:17:55.345Z"
   },
   {
    "duration": 248,
    "start_time": "2023-08-06T02:17:56.074Z"
   },
   {
    "duration": 217,
    "start_time": "2023-08-06T02:17:58.796Z"
   },
   {
    "duration": 115,
    "start_time": "2023-08-06T02:18:03.432Z"
   },
   {
    "duration": 5,
    "start_time": "2023-08-06T02:18:42.966Z"
   },
   {
    "duration": 53,
    "start_time": "2023-08-06T02:18:49.340Z"
   },
   {
    "duration": 4,
    "start_time": "2023-08-06T02:18:51.359Z"
   },
   {
    "duration": 5,
    "start_time": "2023-08-06T02:18:52.320Z"
   },
   {
    "duration": 531,
    "start_time": "2023-08-06T02:18:55.807Z"
   },
   {
    "duration": 18,
    "start_time": "2023-08-06T02:19:07.168Z"
   },
   {
    "duration": 17,
    "start_time": "2023-08-06T02:19:28.433Z"
   },
   {
    "duration": 15,
    "start_time": "2023-08-06T02:20:02.636Z"
   },
   {
    "duration": 6,
    "start_time": "2023-08-06T02:20:23.734Z"
   },
   {
    "duration": 52,
    "start_time": "2023-08-06T02:20:38.359Z"
   },
   {
    "duration": 4,
    "start_time": "2023-08-06T02:20:39.603Z"
   },
   {
    "duration": 5,
    "start_time": "2023-08-06T02:20:41.060Z"
   },
   {
    "duration": 235,
    "start_time": "2023-08-06T02:20:45.092Z"
   },
   {
    "duration": 5658,
    "start_time": "2023-08-06T02:20:48.419Z"
   },
   {
    "duration": 6,
    "start_time": "2023-08-06T02:21:34.985Z"
   },
   {
    "duration": 5655,
    "start_time": "2023-08-06T02:21:45.985Z"
   },
   {
    "duration": 6,
    "start_time": "2023-08-06T02:22:34.172Z"
   },
   {
    "duration": 788114,
    "start_time": "2023-08-06T02:22:42.182Z"
   },
   {
    "duration": 13,
    "start_time": "2023-08-06T02:35:50.298Z"
   },
   {
    "duration": 19,
    "start_time": "2023-08-06T02:35:50.312Z"
   },
   {
    "duration": 20,
    "start_time": "2023-08-06T02:35:57.941Z"
   },
   {
    "duration": 15,
    "start_time": "2023-08-06T02:36:41.275Z"
   },
   {
    "duration": 18,
    "start_time": "2023-08-06T02:37:12.641Z"
   },
   {
    "duration": 181,
    "start_time": "2023-08-06T02:37:15.743Z"
   },
   {
    "duration": 11,
    "start_time": "2023-08-06T02:38:03.209Z"
   },
   {
    "duration": 18,
    "start_time": "2023-08-06T02:40:33.504Z"
   },
   {
    "duration": 21,
    "start_time": "2023-08-06T02:40:48.985Z"
   },
   {
    "duration": 21,
    "start_time": "2023-08-06T02:41:02.544Z"
   },
   {
    "duration": 14,
    "start_time": "2023-08-06T02:41:04.610Z"
   },
   {
    "duration": 174,
    "start_time": "2023-08-06T02:41:05.664Z"
   },
   {
    "duration": 13,
    "start_time": "2023-08-06T02:41:22.481Z"
   },
   {
    "duration": 71,
    "start_time": "2023-08-06T02:42:39.710Z"
   },
   {
    "duration": 11,
    "start_time": "2023-08-06T02:42:52.882Z"
   },
   {
    "duration": 6,
    "start_time": "2023-08-06T02:43:14.069Z"
   },
   {
    "duration": 125,
    "start_time": "2023-08-06T02:43:21.730Z"
   },
   {
    "duration": 6,
    "start_time": "2023-08-06T02:45:02.182Z"
   },
   {
    "duration": 321,
    "start_time": "2023-08-06T02:45:21.477Z"
   },
   {
    "duration": 8534,
    "start_time": "2023-08-06T02:55:52.043Z"
   },
   {
    "duration": 4142,
    "start_time": "2023-08-06T02:56:00.579Z"
   },
   {
    "duration": 5063,
    "start_time": "2023-08-06T02:56:04.724Z"
   },
   {
    "duration": 1108,
    "start_time": "2023-08-06T02:56:09.789Z"
   },
   {
    "duration": 510,
    "start_time": "2023-08-06T02:56:10.899Z"
   },
   {
    "duration": 141,
    "start_time": "2023-08-06T02:56:11.410Z"
   },
   {
    "duration": 2,
    "start_time": "2023-08-06T02:56:11.553Z"
   },
   {
    "duration": 14,
    "start_time": "2023-08-06T02:56:11.557Z"
   },
   {
    "duration": 3,
    "start_time": "2023-08-06T02:56:11.573Z"
   },
   {
    "duration": 33,
    "start_time": "2023-08-06T02:56:11.577Z"
   },
   {
    "duration": 27,
    "start_time": "2023-08-06T02:56:11.612Z"
   },
   {
    "duration": 5,
    "start_time": "2023-08-06T02:56:11.641Z"
   },
   {
    "duration": 118,
    "start_time": "2023-08-06T02:56:11.647Z"
   },
   {
    "duration": 55,
    "start_time": "2023-08-06T02:56:11.767Z"
   },
   {
    "duration": 17,
    "start_time": "2023-08-06T02:56:11.823Z"
   },
   {
    "duration": 4,
    "start_time": "2023-08-06T02:56:11.841Z"
   },
   {
    "duration": 27,
    "start_time": "2023-08-06T02:56:11.847Z"
   },
   {
    "duration": 15,
    "start_time": "2023-08-06T02:56:11.886Z"
   },
   {
    "duration": 10,
    "start_time": "2023-08-06T02:56:11.903Z"
   },
   {
    "duration": 31,
    "start_time": "2023-08-06T02:56:11.915Z"
   },
   {
    "duration": 505,
    "start_time": "2023-08-06T02:56:11.948Z"
   },
   {
    "duration": 4,
    "start_time": "2023-08-06T02:56:12.455Z"
   },
   {
    "duration": 4067,
    "start_time": "2023-08-06T02:56:12.461Z"
   },
   {
    "duration": 18,
    "start_time": "2023-08-06T02:56:16.530Z"
   },
   {
    "duration": 16,
    "start_time": "2023-08-06T02:56:16.550Z"
   },
   {
    "duration": 23,
    "start_time": "2023-08-06T02:56:16.567Z"
   },
   {
    "duration": 271,
    "start_time": "2023-08-06T02:56:16.591Z"
   },
   {
    "duration": 249,
    "start_time": "2023-08-06T02:56:16.864Z"
   },
   {
    "duration": 59,
    "start_time": "2023-08-06T02:56:17.115Z"
   },
   {
    "duration": 5,
    "start_time": "2023-08-06T02:56:17.188Z"
   },
   {
    "duration": 32,
    "start_time": "2023-08-06T02:56:17.194Z"
   },
   {
    "duration": 527,
    "start_time": "2023-08-06T02:56:17.228Z"
   },
   {
    "duration": 810441,
    "start_time": "2023-08-06T02:56:17.757Z"
   },
   {
    "duration": 95,
    "start_time": "2023-08-06T03:09:48.200Z"
   },
   {
    "duration": 148,
    "start_time": "2023-08-06T03:09:48.296Z"
   },
   {
    "duration": 12,
    "start_time": "2023-08-06T03:09:48.446Z"
   },
   {
    "duration": 189,
    "start_time": "2023-08-06T03:09:48.460Z"
   },
   {
    "duration": 243,
    "start_time": "2023-08-06T03:09:48.651Z"
   },
   {
    "duration": 16853,
    "start_time": "2023-08-08T17:26:05.052Z"
   },
   {
    "duration": 19897,
    "start_time": "2023-08-08T17:26:21.908Z"
   },
   {
    "duration": 7213,
    "start_time": "2023-08-08T17:26:41.809Z"
   },
   {
    "duration": 1679,
    "start_time": "2023-08-08T17:26:49.026Z"
   },
   {
    "duration": 990,
    "start_time": "2023-08-08T17:26:50.707Z"
   },
   {
    "duration": 504,
    "start_time": "2023-08-08T17:26:51.701Z"
   },
   {
    "duration": 9,
    "start_time": "2023-08-08T17:26:52.209Z"
   },
   {
    "duration": 25,
    "start_time": "2023-08-08T17:26:52.229Z"
   },
   {
    "duration": 51,
    "start_time": "2023-08-08T17:26:52.256Z"
   },
   {
    "duration": 72,
    "start_time": "2023-08-08T17:26:52.310Z"
   },
   {
    "duration": 54,
    "start_time": "2023-08-08T17:26:52.384Z"
   },
   {
    "duration": 56,
    "start_time": "2023-08-08T17:26:52.442Z"
   },
   {
    "duration": 171,
    "start_time": "2023-08-08T17:26:52.502Z"
   },
   {
    "duration": 54,
    "start_time": "2023-08-08T17:26:52.675Z"
   },
   {
    "duration": 27,
    "start_time": "2023-08-08T17:26:52.735Z"
   },
   {
    "duration": 5,
    "start_time": "2023-08-08T17:26:52.765Z"
   },
   {
    "duration": 44,
    "start_time": "2023-08-08T17:26:52.772Z"
   },
   {
    "duration": 28,
    "start_time": "2023-08-08T17:26:52.818Z"
   },
   {
    "duration": 10,
    "start_time": "2023-08-08T17:26:52.849Z"
   },
   {
    "duration": 44,
    "start_time": "2023-08-08T17:26:52.861Z"
   },
   {
    "duration": 707,
    "start_time": "2023-08-08T17:26:52.912Z"
   },
   {
    "duration": 13,
    "start_time": "2023-08-08T17:26:53.622Z"
   },
   {
    "duration": 5140,
    "start_time": "2023-08-08T17:26:53.638Z"
   },
   {
    "duration": 31,
    "start_time": "2023-08-08T17:26:58.781Z"
   },
   {
    "duration": 27,
    "start_time": "2023-08-08T17:26:58.814Z"
   },
   {
    "duration": 39,
    "start_time": "2023-08-08T17:26:58.843Z"
   },
   {
    "duration": 469,
    "start_time": "2023-08-08T17:26:58.884Z"
   },
   {
    "duration": 452,
    "start_time": "2023-08-08T17:26:59.359Z"
   },
   {
    "duration": 276,
    "start_time": "2023-08-08T17:26:59.816Z"
   },
   {
    "duration": 24,
    "start_time": "2023-08-08T17:27:00.099Z"
   },
   {
    "duration": 69,
    "start_time": "2023-08-08T17:27:00.131Z"
   },
   {
    "duration": 773,
    "start_time": "2023-08-08T17:27:00.206Z"
   },
   {
    "duration": 2870275,
    "start_time": "2023-08-08T17:27:00.983Z"
   },
   {
    "duration": 0,
    "start_time": "2023-08-08T18:14:51.260Z"
   },
   {
    "duration": 0,
    "start_time": "2023-08-08T18:14:51.261Z"
   },
   {
    "duration": 0,
    "start_time": "2023-08-08T18:14:51.262Z"
   },
   {
    "duration": 0,
    "start_time": "2023-08-08T18:14:51.264Z"
   },
   {
    "duration": 0,
    "start_time": "2023-08-08T18:14:51.265Z"
   },
   {
    "duration": 0,
    "start_time": "2023-08-08T18:14:51.266Z"
   },
   {
    "duration": 0,
    "start_time": "2023-08-08T18:14:51.267Z"
   },
   {
    "duration": 0,
    "start_time": "2023-08-08T18:14:51.268Z"
   },
   {
    "duration": 0,
    "start_time": "2023-08-08T18:14:51.269Z"
   },
   {
    "duration": 0,
    "start_time": "2023-08-08T18:14:51.293Z"
   },
   {
    "duration": 15,
    "start_time": "2023-08-09T18:14:58.654Z"
   },
   {
    "duration": 4,
    "start_time": "2023-08-09T18:15:01.718Z"
   },
   {
    "duration": 4,
    "start_time": "2023-08-09T18:15:05.623Z"
   },
   {
    "duration": 4,
    "start_time": "2023-08-09T18:15:08.223Z"
   },
   {
    "duration": 11454,
    "start_time": "2023-08-09T18:27:25.548Z"
   },
   {
    "duration": 18769,
    "start_time": "2023-08-09T18:27:37.005Z"
   },
   {
    "duration": 5958,
    "start_time": "2023-08-09T18:27:55.777Z"
   },
   {
    "duration": 1427,
    "start_time": "2023-08-09T18:28:01.740Z"
   },
   {
    "duration": 3031,
    "start_time": "2023-08-09T18:28:03.169Z"
   },
   {
    "duration": 503,
    "start_time": "2023-08-09T18:28:06.201Z"
   },
   {
    "duration": 9,
    "start_time": "2023-08-09T18:28:06.706Z"
   },
   {
    "duration": 132,
    "start_time": "2023-08-09T18:28:06.717Z"
   },
   {
    "duration": 11,
    "start_time": "2023-08-09T18:28:06.850Z"
   },
   {
    "duration": 33,
    "start_time": "2023-08-09T18:28:06.865Z"
   },
   {
    "duration": 42,
    "start_time": "2023-08-09T18:28:06.900Z"
   },
   {
    "duration": 46,
    "start_time": "2023-08-09T18:28:06.944Z"
   },
   {
    "duration": 159,
    "start_time": "2023-08-09T18:28:06.992Z"
   },
   {
    "duration": 37,
    "start_time": "2023-08-09T18:28:07.152Z"
   },
   {
    "duration": 34,
    "start_time": "2023-08-09T18:28:07.190Z"
   },
   {
    "duration": 8,
    "start_time": "2023-08-09T18:28:07.225Z"
   },
   {
    "duration": 21,
    "start_time": "2023-08-09T18:28:07.237Z"
   },
   {
    "duration": 13,
    "start_time": "2023-08-09T18:28:07.259Z"
   },
   {
    "duration": 12,
    "start_time": "2023-08-09T18:28:07.273Z"
   },
   {
    "duration": 28,
    "start_time": "2023-08-09T18:28:07.287Z"
   },
   {
    "duration": 602,
    "start_time": "2023-08-09T18:28:07.318Z"
   },
   {
    "duration": 5,
    "start_time": "2023-08-09T18:28:07.922Z"
   },
   {
    "duration": 4651,
    "start_time": "2023-08-09T18:28:07.929Z"
   },
   {
    "duration": 24,
    "start_time": "2023-08-09T18:28:12.609Z"
   },
   {
    "duration": 13,
    "start_time": "2023-08-09T18:28:12.637Z"
   },
   {
    "duration": 8,
    "start_time": "2023-08-09T18:28:12.652Z"
   },
   {
    "duration": 314,
    "start_time": "2023-08-09T18:28:12.662Z"
   },
   {
    "duration": 325,
    "start_time": "2023-08-09T18:28:12.981Z"
   },
   {
    "duration": 16,
    "start_time": "2023-08-09T18:28:13.309Z"
   },
   {
    "duration": 25,
    "start_time": "2023-08-09T18:28:13.327Z"
   },
   {
    "duration": 237,
    "start_time": "2023-08-09T18:28:13.354Z"
   },
   {
    "duration": 5,
    "start_time": "2023-08-09T18:28:21.905Z"
   },
   {
    "duration": 10851,
    "start_time": "2023-08-09T18:28:39.290Z"
   },
   {
    "duration": 7686,
    "start_time": "2023-08-09T18:28:50.144Z"
   },
   {
    "duration": 6063,
    "start_time": "2023-08-09T18:28:57.832Z"
   },
   {
    "duration": 1262,
    "start_time": "2023-08-09T18:29:03.897Z"
   },
   {
    "duration": 2860,
    "start_time": "2023-08-09T18:29:05.162Z"
   },
   {
    "duration": 273,
    "start_time": "2023-08-09T18:29:08.026Z"
   },
   {
    "duration": 3,
    "start_time": "2023-08-09T18:29:08.301Z"
   },
   {
    "duration": 41,
    "start_time": "2023-08-09T18:29:08.306Z"
   },
   {
    "duration": 7,
    "start_time": "2023-08-09T18:29:08.350Z"
   },
   {
    "duration": 66,
    "start_time": "2023-08-09T18:29:08.358Z"
   },
   {
    "duration": 35,
    "start_time": "2023-08-09T18:29:08.426Z"
   },
   {
    "duration": 4,
    "start_time": "2023-08-09T18:29:08.463Z"
   },
   {
    "duration": 163,
    "start_time": "2023-08-09T18:29:08.468Z"
   },
   {
    "duration": 40,
    "start_time": "2023-08-09T18:29:08.634Z"
   },
   {
    "duration": 49,
    "start_time": "2023-08-09T18:29:08.676Z"
   },
   {
    "duration": 4,
    "start_time": "2023-08-09T18:29:08.727Z"
   },
   {
    "duration": 36,
    "start_time": "2023-08-09T18:29:08.733Z"
   },
   {
    "duration": 19,
    "start_time": "2023-08-09T18:29:08.771Z"
   },
   {
    "duration": 29,
    "start_time": "2023-08-09T18:29:08.791Z"
   },
   {
    "duration": 31,
    "start_time": "2023-08-09T18:29:08.821Z"
   },
   {
    "duration": 579,
    "start_time": "2023-08-09T18:29:08.854Z"
   },
   {
    "duration": 5,
    "start_time": "2023-08-09T18:29:09.435Z"
   },
   {
    "duration": 4829,
    "start_time": "2023-08-09T18:29:09.443Z"
   },
   {
    "duration": 36,
    "start_time": "2023-08-09T18:29:14.275Z"
   },
   {
    "duration": 26,
    "start_time": "2023-08-09T18:29:14.322Z"
   },
   {
    "duration": 52,
    "start_time": "2023-08-09T18:29:14.351Z"
   },
   {
    "duration": 353,
    "start_time": "2023-08-09T18:29:14.405Z"
   },
   {
    "duration": 282,
    "start_time": "2023-08-09T18:29:14.761Z"
   },
   {
    "duration": 11,
    "start_time": "2023-08-09T18:29:15.044Z"
   },
   {
    "duration": 31,
    "start_time": "2023-08-09T18:29:15.057Z"
   },
   {
    "duration": 38,
    "start_time": "2023-08-09T18:29:25.939Z"
   },
   {
    "duration": 60,
    "start_time": "2023-08-09T20:14:43.256Z"
   },
   {
    "duration": 9,
    "start_time": "2023-08-10T11:17:03.478Z"
   },
   {
    "duration": 26,
    "start_time": "2023-08-10T11:17:03.495Z"
   },
   {
    "duration": 9,
    "start_time": "2023-08-10T11:17:03.531Z"
   },
   {
    "duration": 1349,
    "start_time": "2023-08-10T11:17:03.542Z"
   },
   {
    "duration": 963,
    "start_time": "2023-08-10T11:17:04.894Z"
   },
   {
    "duration": 487,
    "start_time": "2023-08-10T11:17:05.859Z"
   },
   {
    "duration": 3,
    "start_time": "2023-08-10T11:17:06.348Z"
   },
   {
    "duration": 61,
    "start_time": "2023-08-10T11:17:06.352Z"
   },
   {
    "duration": 18,
    "start_time": "2023-08-10T11:17:06.414Z"
   },
   {
    "duration": 68,
    "start_time": "2023-08-10T11:17:06.434Z"
   },
   {
    "duration": 54,
    "start_time": "2023-08-10T11:17:06.512Z"
   },
   {
    "duration": 5,
    "start_time": "2023-08-10T11:17:06.567Z"
   },
   {
    "duration": 174,
    "start_time": "2023-08-10T11:17:06.578Z"
   },
   {
    "duration": 80,
    "start_time": "2023-08-10T11:17:06.754Z"
   },
   {
    "duration": 24,
    "start_time": "2023-08-10T11:17:06.840Z"
   },
   {
    "duration": 27,
    "start_time": "2023-08-10T11:17:06.865Z"
   },
   {
    "duration": 6,
    "start_time": "2023-08-10T11:17:06.899Z"
   },
   {
    "duration": 34,
    "start_time": "2023-08-10T11:17:06.908Z"
   },
   {
    "duration": 28,
    "start_time": "2023-08-10T11:17:06.943Z"
   },
   {
    "duration": 23,
    "start_time": "2023-08-10T11:17:06.972Z"
   },
   {
    "duration": 19,
    "start_time": "2023-08-10T11:17:06.999Z"
   },
   {
    "duration": 27,
    "start_time": "2023-08-10T11:17:07.020Z"
   },
   {
    "duration": 941,
    "start_time": "2023-08-10T11:17:07.048Z"
   },
   {
    "duration": 10,
    "start_time": "2023-08-10T11:17:07.992Z"
   },
   {
    "duration": 5915,
    "start_time": "2023-08-10T11:17:08.006Z"
   },
   {
    "duration": 32,
    "start_time": "2023-08-10T11:17:13.926Z"
   },
   {
    "duration": 14,
    "start_time": "2023-08-10T11:17:13.959Z"
   },
   {
    "duration": 22,
    "start_time": "2023-08-10T11:17:13.982Z"
   },
   {
    "duration": 357,
    "start_time": "2023-08-10T11:17:14.006Z"
   },
   {
    "duration": 298,
    "start_time": "2023-08-10T11:17:14.365Z"
   },
   {
    "duration": 7256,
    "start_time": "2023-08-10T11:17:14.665Z"
   },
   {
    "duration": 9,
    "start_time": "2023-08-10T11:17:21.928Z"
   },
   {
    "duration": 11,
    "start_time": "2023-08-10T11:17:21.942Z"
   },
   {
    "duration": 45,
    "start_time": "2023-08-10T11:17:21.955Z"
   },
   {
    "duration": 24,
    "start_time": "2023-08-10T11:17:22.007Z"
   },
   {
    "duration": 20,
    "start_time": "2023-08-10T11:17:22.033Z"
   },
   {
    "duration": 35,
    "start_time": "2023-08-10T11:17:22.055Z"
   },
   {
    "duration": 43,
    "start_time": "2023-08-10T11:17:22.091Z"
   },
   {
    "duration": 15,
    "start_time": "2023-08-10T11:17:22.137Z"
   },
   {
    "duration": 37,
    "start_time": "2023-08-10T11:17:22.154Z"
   },
   {
    "duration": 38,
    "start_time": "2023-08-10T11:17:22.192Z"
   },
   {
    "duration": 15,
    "start_time": "2023-08-10T11:17:22.234Z"
   },
   {
    "duration": 14,
    "start_time": "2023-08-10T11:17:22.251Z"
   },
   {
    "duration": 39,
    "start_time": "2023-08-10T11:17:22.267Z"
   },
   {
    "duration": 10,
    "start_time": "2023-08-11T11:59:52.851Z"
   },
   {
    "duration": 4,
    "start_time": "2023-08-11T12:10:38.470Z"
   },
   {
    "duration": 9,
    "start_time": "2023-08-11T12:10:38.476Z"
   },
   {
    "duration": 7,
    "start_time": "2023-08-11T12:10:38.487Z"
   },
   {
    "duration": 920,
    "start_time": "2023-08-11T12:10:38.496Z"
   },
   {
    "duration": 0,
    "start_time": "2023-08-11T12:10:39.419Z"
   },
   {
    "duration": 0,
    "start_time": "2023-08-11T12:10:39.420Z"
   },
   {
    "duration": 0,
    "start_time": "2023-08-11T12:10:39.421Z"
   },
   {
    "duration": 0,
    "start_time": "2023-08-11T12:10:39.422Z"
   },
   {
    "duration": 0,
    "start_time": "2023-08-11T12:10:39.423Z"
   },
   {
    "duration": 0,
    "start_time": "2023-08-11T12:10:39.424Z"
   },
   {
    "duration": 0,
    "start_time": "2023-08-11T12:10:39.425Z"
   },
   {
    "duration": 0,
    "start_time": "2023-08-11T12:10:39.426Z"
   },
   {
    "duration": 0,
    "start_time": "2023-08-11T12:10:39.438Z"
   },
   {
    "duration": 0,
    "start_time": "2023-08-11T12:10:39.440Z"
   },
   {
    "duration": 0,
    "start_time": "2023-08-11T12:10:39.441Z"
   },
   {
    "duration": 0,
    "start_time": "2023-08-11T12:10:39.442Z"
   },
   {
    "duration": 0,
    "start_time": "2023-08-11T12:10:39.443Z"
   },
   {
    "duration": 0,
    "start_time": "2023-08-11T12:10:39.445Z"
   },
   {
    "duration": 0,
    "start_time": "2023-08-11T12:10:39.446Z"
   },
   {
    "duration": 0,
    "start_time": "2023-08-11T12:10:39.447Z"
   },
   {
    "duration": 0,
    "start_time": "2023-08-11T12:10:39.449Z"
   },
   {
    "duration": 0,
    "start_time": "2023-08-11T12:10:39.450Z"
   },
   {
    "duration": 0,
    "start_time": "2023-08-11T12:10:39.451Z"
   },
   {
    "duration": 0,
    "start_time": "2023-08-11T12:10:39.452Z"
   },
   {
    "duration": 0,
    "start_time": "2023-08-11T12:10:39.454Z"
   },
   {
    "duration": 0,
    "start_time": "2023-08-11T12:10:39.455Z"
   },
   {
    "duration": 0,
    "start_time": "2023-08-11T12:10:39.457Z"
   },
   {
    "duration": 0,
    "start_time": "2023-08-11T12:10:39.459Z"
   },
   {
    "duration": 0,
    "start_time": "2023-08-11T12:10:39.460Z"
   },
   {
    "duration": 0,
    "start_time": "2023-08-11T12:10:39.462Z"
   },
   {
    "duration": 0,
    "start_time": "2023-08-11T12:10:39.463Z"
   },
   {
    "duration": 0,
    "start_time": "2023-08-11T12:10:39.464Z"
   },
   {
    "duration": 0,
    "start_time": "2023-08-11T12:10:39.465Z"
   },
   {
    "duration": 0,
    "start_time": "2023-08-11T12:10:39.466Z"
   },
   {
    "duration": 0,
    "start_time": "2023-08-11T12:10:39.467Z"
   },
   {
    "duration": 0,
    "start_time": "2023-08-11T12:10:39.468Z"
   },
   {
    "duration": 0,
    "start_time": "2023-08-11T12:10:39.469Z"
   },
   {
    "duration": 0,
    "start_time": "2023-08-11T12:10:39.470Z"
   },
   {
    "duration": 0,
    "start_time": "2023-08-11T12:10:39.470Z"
   },
   {
    "duration": 0,
    "start_time": "2023-08-11T12:10:39.471Z"
   },
   {
    "duration": 0,
    "start_time": "2023-08-11T12:10:39.472Z"
   },
   {
    "duration": 0,
    "start_time": "2023-08-11T12:10:39.473Z"
   },
   {
    "duration": 0,
    "start_time": "2023-08-11T12:10:39.474Z"
   },
   {
    "duration": 0,
    "start_time": "2023-08-11T12:10:39.474Z"
   },
   {
    "duration": 0,
    "start_time": "2023-08-11T12:10:39.475Z"
   },
   {
    "duration": 0,
    "start_time": "2023-08-11T12:10:39.476Z"
   },
   {
    "duration": 0,
    "start_time": "2023-08-11T12:10:39.477Z"
   },
   {
    "duration": 0,
    "start_time": "2023-08-11T12:10:39.478Z"
   },
   {
    "duration": 0,
    "start_time": "2023-08-11T12:10:39.479Z"
   },
   {
    "duration": 0,
    "start_time": "2023-08-11T12:10:39.480Z"
   },
   {
    "duration": 0,
    "start_time": "2023-08-11T12:10:39.481Z"
   },
   {
    "duration": 0,
    "start_time": "2023-08-11T12:10:39.482Z"
   },
   {
    "duration": 0,
    "start_time": "2023-08-11T12:10:39.538Z"
   },
   {
    "duration": 0,
    "start_time": "2023-08-11T12:10:39.540Z"
   },
   {
    "duration": 0,
    "start_time": "2023-08-11T12:10:39.540Z"
   },
   {
    "duration": 0,
    "start_time": "2023-08-11T12:10:39.541Z"
   },
   {
    "duration": 0,
    "start_time": "2023-08-11T12:10:39.541Z"
   },
   {
    "duration": 0,
    "start_time": "2023-08-11T12:10:39.542Z"
   },
   {
    "duration": 0,
    "start_time": "2023-08-11T12:10:39.543Z"
   },
   {
    "duration": 0,
    "start_time": "2023-08-11T12:10:39.543Z"
   },
   {
    "duration": 0,
    "start_time": "2023-08-11T12:10:39.545Z"
   },
   {
    "duration": 0,
    "start_time": "2023-08-11T12:10:39.545Z"
   },
   {
    "duration": 2,
    "start_time": "2023-08-11T12:16:47.288Z"
   }
  ],
  "colab": {
   "provenance": []
  },
  "kernelspec": {
   "display_name": "Python 3 (ipykernel)",
   "language": "python",
   "name": "python3"
  },
  "language_info": {
   "codemirror_mode": {
    "name": "ipython",
    "version": 3
   },
   "file_extension": ".py",
   "mimetype": "text/x-python",
   "name": "python",
   "nbconvert_exporter": "python",
   "pygments_lexer": "ipython3",
   "version": "3.9.5"
  },
  "toc": {
   "base_numbering": 1,
   "nav_menu": {},
   "number_sections": true,
   "sideBar": true,
   "skip_h1_title": true,
   "title_cell": "Table of Contents",
   "title_sidebar": "Contents",
   "toc_cell": false,
   "toc_position": {
    "height": "calc(100% - 180px)",
    "left": "10px",
    "top": "150px",
    "width": "311.227px"
   },
   "toc_section_display": true,
   "toc_window_display": true
  }
 },
 "nbformat": 4,
 "nbformat_minor": 0
}
