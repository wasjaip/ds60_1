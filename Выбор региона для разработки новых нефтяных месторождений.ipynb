{
 "cells": [
  {
   "cell_type": "markdown",
   "metadata": {},
   "source": [
    "# Выбор локации для скважины"
   ]
  },
  {
   "cell_type": "markdown",
   "metadata": {},
   "source": [
    "Предоставлены данные проб нефти из трех регионов с измерениями качества нефти и объем ее запасов.\n",
    "Необходимо построить модель способную помочь определить регион в котором добыча принесет большую прибыль.\n",
    "Проанализировать риски.\n"
   ]
  },
  {
   "cell_type": "markdown",
   "metadata": {},
   "source": [
    "## Загрузка и подготовка данных"
   ]
  },
  {
   "cell_type": "code",
   "execution_count": 1,
   "metadata": {},
   "outputs": [],
   "source": [
    "import pandas as pd\n",
    "import numpy as np\n",
    "import matplotlib.pyplot as plt\n",
    "import seaborn as sns\n",
    "from tqdm.notebook import trange\n",
    "from sklearn.model_selection import train_test_split\n",
    "from sklearn.metrics import mean_squared_error\n",
    "from sklearn.preprocessing import StandardScaler\n",
    "from sklearn.linear_model import LinearRegression"
   ]
  },
  {
   "cell_type": "code",
   "execution_count": 2,
   "metadata": {},
   "outputs": [],
   "source": [
    "geo_data_0 = pd.read_csv('/datasets/geo_data_0.csv')\n",
    "geo_data_1 = pd.read_csv('/datasets/geo_data_1.csv')\n",
    "geo_data_2 = pd.read_csv('/datasets/geo_data_2.csv')\n",
    "\n",
    "datasets = [geo_data_0, geo_data_1, geo_data_2]"
   ]
  },
  {
   "cell_type": "code",
   "execution_count": 3,
   "metadata": {},
   "outputs": [],
   "source": [
    "def view(data):\n",
    "    print('Обзор данных', '\\n')\n",
    "    print(data.sample(10))\n",
    "    print('\\n')\n",
    "    print('Информация о формате, количестве строк и пропусках', '\\n')\n",
    "    print(data.info())\n",
    "    print('\\n')\n",
    "    print('Описательная статистика', '\\n')\n",
    "    print(data.describe())\n",
    "    print('\\n')\n",
    "    print('Дубикаты', '\\n')\n",
    "    print(data.duplicated().sum())\n",
    "    print('-' * 65)\n",
    "    print('\\n' * 3)"
   ]
  },
  {
   "cell_type": "code",
   "execution_count": 4,
   "metadata": {
    "scrolled": false
   },
   "outputs": [
    {
     "name": "stdout",
     "output_type": "stream",
     "text": [
      "Обзор данных \n",
      "\n",
      "          id        f0        f1         f2     product\n",
      "38098  x1v6F  1.253580 -0.425610   2.997920  152.238996\n",
      "32680  3vYJI  1.494916 -0.304379   1.808266   62.629610\n",
      "75581  5YS24  0.441655 -0.211485   5.058859   68.119409\n",
      "57001  n4yBa  1.985609  0.018079  -1.330941   90.244645\n",
      "62971  9m96B  0.964835  0.456697   1.306415   61.855492\n",
      "15626  NCKpK  0.094510  0.969787   2.327410   67.256365\n",
      "2538   djeNs  0.114317 -0.137967  -3.549942  105.579559\n",
      "49307  e0rVC  1.282734 -0.487550  -0.119801   77.450741\n",
      "80487  Xu4hv  0.155506  0.012526  11.849611  181.998232\n",
      "72308  gmMrZ  0.976478  0.403085   3.613069  118.520067\n",
      "\n",
      "\n",
      "Информация о формате, количестве строк и пропусках \n",
      "\n",
      "<class 'pandas.core.frame.DataFrame'>\n",
      "RangeIndex: 100000 entries, 0 to 99999\n",
      "Data columns (total 5 columns):\n",
      "id         100000 non-null object\n",
      "f0         100000 non-null float64\n",
      "f1         100000 non-null float64\n",
      "f2         100000 non-null float64\n",
      "product    100000 non-null float64\n",
      "dtypes: float64(4), object(1)\n",
      "memory usage: 3.8+ MB\n",
      "None\n",
      "\n",
      "\n",
      "Описательная статистика \n",
      "\n",
      "                  f0             f1             f2        product\n",
      "count  100000.000000  100000.000000  100000.000000  100000.000000\n",
      "mean        0.500419       0.250143       2.502647      92.500000\n",
      "std         0.871832       0.504433       3.248248      44.288691\n",
      "min        -1.408605      -0.848218     -12.088328       0.000000\n",
      "25%        -0.072580      -0.200881       0.287748      56.497507\n",
      "50%         0.502360       0.250252       2.515969      91.849972\n",
      "75%         1.073581       0.700646       4.715088     128.564089\n",
      "max         2.362331       1.343769      16.003790     185.364347\n",
      "\n",
      "\n",
      "Дубикаты \n",
      "\n",
      "0\n",
      "-----------------------------------------------------------------\n",
      "\n",
      "\n",
      "\n",
      "\n",
      "Обзор данных \n",
      "\n",
      "          id         f0        f1        f2     product\n",
      "3048   d2xx8   1.479877 -5.699625  1.996032   57.085625\n",
      "7392   U5jkI  11.418455  4.737039  5.001874  134.766305\n",
      "54207  awov0  -6.096421 -9.147040  3.004817   84.038886\n",
      "76373  M6nHZ -13.530663 -0.760083  3.999573  110.992147\n",
      "59678  hExOS   8.003307 -5.475003  1.011881   26.953261\n",
      "26610  OlPmG -13.384826 -3.589437  2.995172   84.038886\n",
      "95612  iycbk  11.111151 -5.417524  2.002123   53.906522\n",
      "46438  dCUk6  14.457911  1.358337  2.004689   53.906522\n",
      "29690  sbs0B  10.913710 -3.322774  0.996179   26.953261\n",
      "58895  mhS32 -12.015046 -8.503316  5.005329  137.945408\n",
      "\n",
      "\n",
      "Информация о формате, количестве строк и пропусках \n",
      "\n",
      "<class 'pandas.core.frame.DataFrame'>\n",
      "RangeIndex: 100000 entries, 0 to 99999\n",
      "Data columns (total 5 columns):\n",
      "id         100000 non-null object\n",
      "f0         100000 non-null float64\n",
      "f1         100000 non-null float64\n",
      "f2         100000 non-null float64\n",
      "product    100000 non-null float64\n",
      "dtypes: float64(4), object(1)\n",
      "memory usage: 3.8+ MB\n",
      "None\n",
      "\n",
      "\n",
      "Описательная статистика \n",
      "\n",
      "                  f0             f1             f2        product\n",
      "count  100000.000000  100000.000000  100000.000000  100000.000000\n",
      "mean        1.141296      -4.796579       2.494541      68.825000\n",
      "std         8.965932       5.119872       1.703572      45.944423\n",
      "min       -31.609576     -26.358598      -0.018144       0.000000\n",
      "25%        -6.298551      -8.267985       1.000021      26.953261\n",
      "50%         1.153055      -4.813172       2.011479      57.085625\n",
      "75%         8.621015      -1.332816       3.999904     107.813044\n",
      "max        29.421755      18.734063       5.019721     137.945408\n",
      "\n",
      "\n",
      "Дубикаты \n",
      "\n",
      "0\n",
      "-----------------------------------------------------------------\n",
      "\n",
      "\n",
      "\n",
      "\n",
      "Обзор данных \n",
      "\n",
      "          id        f0        f1        f2     product\n",
      "99767  Wmdpf -0.725697  0.214381 -2.192454  124.380585\n",
      "67849  ZwQ7o -2.616667  0.131700 -3.183037   59.048026\n",
      "15704  nBKvC  0.104751  0.017274  9.835177  100.970219\n",
      "2056   D1VRC -2.194754  0.453193  0.872538   59.605896\n",
      "97978  yqYgB  3.875300  1.095051  4.100388   83.452811\n",
      "27753  STqnM  1.773707  1.021881 -0.945332   59.161910\n",
      "4279   JjFRJ  0.532386 -3.074994 -2.725654   74.987596\n",
      "90395  0YrSa -1.774515 -0.625782 -0.798650   26.256880\n",
      "46040  aPK46 -0.488097  2.148614  6.659804  107.714199\n",
      "26429  ZpaZ9  0.055493 -0.523243  2.891210  131.222733\n",
      "\n",
      "\n",
      "Информация о формате, количестве строк и пропусках \n",
      "\n",
      "<class 'pandas.core.frame.DataFrame'>\n",
      "RangeIndex: 100000 entries, 0 to 99999\n",
      "Data columns (total 5 columns):\n",
      "id         100000 non-null object\n",
      "f0         100000 non-null float64\n",
      "f1         100000 non-null float64\n",
      "f2         100000 non-null float64\n",
      "product    100000 non-null float64\n",
      "dtypes: float64(4), object(1)\n",
      "memory usage: 3.8+ MB\n",
      "None\n",
      "\n",
      "\n",
      "Описательная статистика \n",
      "\n",
      "                  f0             f1             f2        product\n",
      "count  100000.000000  100000.000000  100000.000000  100000.000000\n",
      "mean        0.002023      -0.002081       2.495128      95.000000\n",
      "std         1.732045       1.730417       3.473445      44.749921\n",
      "min        -8.760004      -7.084020     -11.970335       0.000000\n",
      "25%        -1.162288      -1.174820       0.130359      59.450441\n",
      "50%         0.009424      -0.009482       2.484236      94.925613\n",
      "75%         1.158535       1.163678       4.858794     130.595027\n",
      "max         7.238262       7.844801      16.739402     190.029838\n",
      "\n",
      "\n",
      "Дубикаты \n",
      "\n",
      "0\n",
      "-----------------------------------------------------------------\n",
      "\n",
      "\n",
      "\n",
      "\n"
     ]
    }
   ],
   "source": [
    "for data in datasets:\n",
    "    view(data)"
   ]
  },
  {
   "cell_type": "markdown",
   "metadata": {},
   "source": [
    "Пропусков нет, дубликатов нет, форматы колонок подходящие."
   ]
  },
  {
   "cell_type": "code",
   "execution_count": 5,
   "metadata": {},
   "outputs": [
    {
     "name": "stdout",
     "output_type": "stream",
     "text": [
      "               f0        f1        f2   product\n",
      "f0       1.000000 -0.440723 -0.003153  0.143536\n",
      "f1      -0.440723  1.000000  0.001724 -0.192356\n",
      "f2      -0.003153  0.001724  1.000000  0.483663\n",
      "product  0.143536 -0.192356  0.483663  1.000000 \n",
      "\n",
      "               f0        f1        f2   product\n",
      "f0       1.000000  0.182287 -0.001777 -0.030491\n",
      "f1       0.182287  1.000000 -0.002595 -0.010155\n",
      "f2      -0.001777 -0.002595  1.000000  0.999397\n",
      "product -0.030491 -0.010155  0.999397  1.000000 \n",
      "\n",
      "               f0        f1        f2   product\n",
      "f0       1.000000  0.000528 -0.000448 -0.001987\n",
      "f1       0.000528  1.000000  0.000779 -0.001012\n",
      "f2      -0.000448  0.000779  1.000000  0.445871\n",
      "product -0.001987 -0.001012  0.445871  1.000000 \n",
      "\n"
     ]
    }
   ],
   "source": [
    "for data in datasets:\n",
    "    print(data.corr(), '\\n')"
   ]
  },
  {
   "cell_type": "markdown",
   "metadata": {},
   "source": [
    " Во второй таблице высокая линейная зависимость между признаком в колонке 'f2' и целевым признаком."
   ]
  },
  {
   "cell_type": "code",
   "execution_count": 6,
   "metadata": {},
   "outputs": [
    {
     "name": "stdout",
     "output_type": "stream",
     "text": [
      "Index(['f0', 'f1', 'f2', 'product'], dtype='object')\n",
      "Index(['f0', 'f1', 'f2', 'product'], dtype='object')\n",
      "Index(['f0', 'f1', 'f2', 'product'], dtype='object')\n"
     ]
    }
   ],
   "source": [
    "for i in range(len(datasets)):\n",
    "    datasets[i] = datasets[i].drop(columns=['id'], axis=0)\n",
    "    print(datasets[i].columns)"
   ]
  },
  {
   "cell_type": "markdown",
   "metadata": {},
   "source": [
    "Удалим колонку 'id' из-за неинформативности."
   ]
  },
  {
   "cell_type": "markdown",
   "metadata": {},
   "source": [
    "### Вывод:"
   ]
  },
  {
   "cell_type": "markdown",
   "metadata": {},
   "source": [
    "Данные хорошего качества, большой предварительной обработки не требуют\n",
    "* в таблицах удален признак id"
   ]
  },
  {
   "cell_type": "markdown",
   "metadata": {},
   "source": [
    "## Обучение и проверка модели"
   ]
  },
  {
   "cell_type": "code",
   "execution_count": 7,
   "metadata": {},
   "outputs": [],
   "source": [
    "def splitting(data): # разбивает на тренировочные и тестовые выборки и отделяет целевой признак\n",
    "    train, test = train_test_split(data, test_size=0.25, random_state=42)\n",
    "    features_train = train.drop(columns=['product'], axis=0)\n",
    "    target_train = train['product']\n",
    "    features_test = test.drop(columns=['product'], axis=0)\n",
    "    target_test= test['product']\n",
    "    return features_train, target_train, features_test, target_test"
   ]
  },
  {
   "cell_type": "code",
   "execution_count": 8,
   "metadata": {},
   "outputs": [],
   "source": [
    "features_train_0, target_train_0, features_test_0, target_test_0 = splitting(datasets[0])\n",
    "features_train_1, target_train_1, features_test_1, target_test_1 = splitting(datasets[1])\n",
    "features_train_2, target_train_2, features_test_2, target_test_2 = splitting(datasets[2])"
   ]
  },
  {
   "cell_type": "markdown",
   "metadata": {},
   "source": [
    "Разделили наборы данных на выборки"
   ]
  },
  {
   "cell_type": "code",
   "execution_count": 9,
   "metadata": {},
   "outputs": [],
   "source": [
    "scaler = StandardScaler()\n",
    "scaler.fit(features_train_0)\n",
    "features_train_0 = scaler.transform(features_train_0)\n",
    "features_test_0 = scaler.transform(features_test_0)\n",
    "\n",
    "scaler.fit(features_train_1)\n",
    "features_train_1 = scaler.transform(features_train_1)\n",
    "features_test_1 = scaler.transform(features_test_1)\n",
    "\n",
    "scaler.fit(features_train_2)\n",
    "features_train_2 = scaler.transform(features_train_2)\n",
    "features_test_2 = scaler.transform(features_test_2)"
   ]
  },
  {
   "cell_type": "markdown",
   "metadata": {},
   "source": [
    "Нормализовали признаки"
   ]
  },
  {
   "cell_type": "code",
   "execution_count": 10,
   "metadata": {},
   "outputs": [],
   "source": [
    "model = LinearRegression()\n",
    "def learning_and_predicted(features_train, target_train, features_test, target_test):# Обучаем и предсказываем\n",
    "    model.fit(features_train, target_train)\n",
    "    predict = pd.Series(model.predict(features_test), target_test.index)\n",
    "    return predict"
   ]
  },
  {
   "cell_type": "code",
   "execution_count": 11,
   "metadata": {},
   "outputs": [],
   "source": [
    "predict_0 = learning_and_predicted(features_train_0, target_train_0, features_test_0, target_test_0)\n",
    "predict_1 = learning_and_predicted(features_train_1, target_train_1, features_test_1, target_test_1)\n",
    "predict_2 = learning_and_predicted(features_train_2, target_train_2, features_test_2, target_test_2)"
   ]
  },
  {
   "cell_type": "markdown",
   "metadata": {},
   "source": [
    "Предсказали результаты по тестовым выборкам"
   ]
  },
  {
   "cell_type": "code",
   "execution_count": 12,
   "metadata": {},
   "outputs": [
    {
     "name": "stdout",
     "output_type": "stream",
     "text": [
      "Регион 0\n",
      "Предсказанный средний запас: 92.40\n",
      "RMSE: 37.76 \n",
      "\n",
      "Регион 1\n",
      "Предсказанный средний запас: 68.71\n",
      "RMSE: 0.89 \n",
      "\n",
      "Регион 2\n",
      "Предсказанный средний запас: 94.77\n",
      "RMSE: 40.15 \n",
      "\n"
     ]
    }
   ],
   "source": [
    "predictions = [predict_0, predict_1, predict_2]\n",
    "targets_test = [target_test_0, target_test_1, target_test_2]\n",
    "for i in range(len(predictions)):\n",
    "    print('Регион', i)\n",
    "    mse = mean_squared_error(predictions[i], targets_test[i])\n",
    "    print('Предсказанный средний запас: {:,.2f}'.format(predictions[i].mean()))\n",
    "    print('RMSE: {:,.2f}'.format(mse ** 0.5), '\\n')"
   ]
  },
  {
   "cell_type": "markdown",
   "metadata": {},
   "source": [
    "### Вывод"
   ]
  },
  {
   "cell_type": "markdown",
   "metadata": {},
   "source": [
    "В нулевом и втором регионе модель достаточно сильно ошибается, зато в первом регионе благодаря сильной зависимости целевого признака от одной из фичей, мы имеем достаточно точные предсказания."
   ]
  },
  {
   "cell_type": "markdown",
   "metadata": {},
   "source": [
    "## Подготовка к расчёту прибыли"
   ]
  },
  {
   "cell_type": "code",
   "execution_count": 13,
   "metadata": {},
   "outputs": [
    {
     "name": "stdout",
     "output_type": "stream",
     "text": [
      "Цена одной скважины: 50000000.00\n",
      "Минимальный объем в скважине, для окупаемости: 111.11 bar\n"
     ]
    }
   ],
   "source": [
    "total_budget = 10e9 # бюджет всего\n",
    "total_wells = 200 # вышек всего\n",
    "cost_thousand_barrel = 450e3 # цена за 1000 баррелей\n",
    "risk = 0.025 # допустимый риск\n",
    "well_cost = total_budget / total_wells # цена за скважину\n",
    "min_bulk = well_cost/ cost_thousand_barrel # минимальный объем для окупаемости\n",
    "\n",
    "print('Цена одной скважины: {:.2f}'.format(well_cost))\n",
    "print('Минимальный объем в скважине, для окупаемости: {:.2f} bar'.format(min_bulk))"
   ]
  },
  {
   "cell_type": "markdown",
   "metadata": {},
   "source": [
    "## Расчёт прибыли и рисков "
   ]
  },
  {
   "cell_type": "code",
   "execution_count": 14,
   "metadata": {
    "raw_mimetype": "text/x-python",
    "scrolled": false
   },
   "outputs": [
    {
     "data": {
      "application/vnd.jupyter.widget-view+json": {
       "model_id": "c9c1b01f880c40ba811b6d4787f82ff4",
       "version_major": 2,
       "version_minor": 0
      },
      "text/plain": [
       "HBox(children=(FloatProgress(value=0.0, max=3.0), HTML(value='')))"
      ]
     },
     "metadata": {},
     "output_type": "display_data"
    },
    {
     "name": "stdout",
     "output_type": "stream",
     "text": [
      "регион №0\n",
      "Средняя выручка:428725962.94\n",
      "95% доверительный интервал: -97249829.57 - 954215192.71\n",
      "Риск убытков: 5.50%\n",
      "\n",
      "\n"
     ]
    },
    {
     "data": {
      "image/png": "[encoded data removed]",
      "text/plain": [
       "<Figure size 936x576 with 1 Axes>"
      ]
     },
     "metadata": {
      "needs_background": "light"
     },
     "output_type": "display_data"
    },
    {
     "name": "stdout",
     "output_type": "stream",
     "text": [
      "регион №1\n",
      "Средняя выручка:511042558.36\n",
      "95% доверительный интервал: 91700564.14 - 921455668.33\n",
      "Риск убытков: 0.60%\n",
      "\n",
      "\n"
     ]
    },
    {
     "data": {
      "image/png": "[encoded data removed]",
      "text/plain": [
       "<Figure size 936x576 with 1 Axes>"
      ]
     },
     "metadata": {
      "needs_background": "light"
     },
     "output_type": "display_data"
    },
    {
     "name": "stdout",
     "output_type": "stream",
     "text": [
      "регион №2\n",
      "Средняя выручка:407505043.48\n",
      "95% доверительный интервал: -120624872.94 - 960859440.73\n",
      "Риск убытков: 7.50%\n",
      "\n",
      "\n"
     ]
    },
    {
     "data": {
      "image/png": "[encoded data removed]",
      "text/plain": [
       "<Figure size 936x576 with 1 Axes>"
      ]
     },
     "metadata": {
      "needs_background": "light"
     },
     "output_type": "display_data"
    },
    {
     "name": "stdout",
     "output_type": "stream",
     "text": [
      "\n"
     ]
    }
   ],
   "source": [
    "def revenue(target, probabilities, count): # Считаем прибыль\n",
    "    probs_sorted = probabilities.sort_values(ascending=False)\n",
    "    selected = target[probs_sorted.index][:count]\n",
    "    return selected.sum() * cost_thousand_barrel - total_budget\n",
    "\n",
    "state = np.random.RandomState(42)\n",
    "    \n",
    "\n",
    "for i in trange(len(targets_test)):\n",
    "    values = []\n",
    "    counter = 0\n",
    "    for _ in range(1000):\n",
    "        target_subsample = targets_test[i].sample(n = 500, replace=True, random_state=state)\n",
    "        probs_subsample = predictions[i][target_subsample.index] \n",
    "        reven = revenue(target_subsample, probs_subsample, total_wells)\n",
    "        values.append(reven)\n",
    "        if reven < 0:\n",
    "            counter += 1\n",
    "    name = 'регион №' + str(i)\n",
    "    values = pd.Series(values)\n",
    "    lower = values.quantile(risk)\n",
    "    upper = values.quantile(0.975)\n",
    "    mean =  values[(lower < values) & (values < upper)].mean()\n",
    "    colors = ['blue', 'green', 'orange']\n",
    "    print(name)\n",
    "    print(\"Средняя выручка:{:.2f}\".format(mean))\n",
    "    print ('95% доверительный интервал: {:.2f} - {:.2f}'.format(lower, upper))\n",
    "    print('Риск убытков: {:.2%}'.format(counter / 1000))\n",
    "    print('\\n')\n",
    "    \n",
    "    plt.figure(figsize=(13,8))\n",
    "    sns.distplot(values, color=colors[i])\n",
    "    plt.axvline(lower, color='r')\n",
    "    plt.axvline(mean, color='black', linestyle=':')\n",
    "    plt.axvline(upper, color='r')\n",
    "    plt.title('Выручка ' + name, fontsize=22)\n",
    "    plt.xlabel('выручка в рублях')\n",
    "    plt.ylabel('количество скважин')\n",
    "\n",
    "\n",
    "    plt.show()"
   ]
  },
  {
   "cell_type": "markdown",
   "metadata": {},
   "source": [
    "### Вывод"
   ]
  },
  {
   "cell_type": "markdown",
   "metadata": {
    "pycharm": {
     "name": "#%% md\n"
    }
   },
   "source": [
    "Условиям заказчика отвечает только район под номером 1.\n",
    "* риск убытков 0.6%\n",
    "* средняя предполагаемая выручка составляет пол триллиона рублей\n",
    "* в этом районе есть очень хороший признак, позволяющий нам строить эффективную модель предсказания \n",
    "  (RMSE = 0.89)\n",
    "\n",
    "Данные с других регионов не позволили построить нам надежные модели. И по данным что у нас есть, мы можем предполагать что риски убытков в этих регионах выше чем допускает заказчик"
   ]
  }
 ],
 "metadata": {
  "celltoolbar": "Raw Cell Format",
  "kernelspec": {
   "display_name": "Python 3",
   "language": "python",
   "name": "python3"
  },
  "language_info": {
   "codemirror_mode": {
    "name": "ipython",
    "version": 3
   },
   "file_extension": ".py",
   "mimetype": "text/x-python",
   "name": "python",
   "nbconvert_exporter": "python",
   "pygments_lexer": "ipython3",
   "version": "3.7.8"
  },
  "toc": {
   "base_numbering": 1,
   "nav_menu": {},
   "number_sections": true,
   "sideBar": true,
   "skip_h1_title": true,
   "title_cell": "Table of Contents",
   "title_sidebar": "Contents",
   "toc_cell": false,
   "toc_position": {},
   "toc_section_display": true,
   "toc_window_display": false
  }
 },
 "nbformat": 4,
 "nbformat_minor": 2
}