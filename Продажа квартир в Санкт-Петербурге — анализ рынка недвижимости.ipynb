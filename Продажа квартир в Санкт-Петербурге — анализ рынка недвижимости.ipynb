{
 "cells": [
  {
   "cell_type": "markdown",
   "metadata": {},
   "source": [
    "# Исследование объявлений о продаже квартир\n",
    "\n",
    "Используя архив объявлений о продаже квартир Яндекс.Недвижимость в Санкт-Петербурге и соседних населенных пунктах. Выделить факторы влияющие на стоимость и продажи квартир."
   ]
  },
  {
   "cell_type": "markdown",
   "metadata": {},
   "source": [
    "#### Описание данных\n",
    "* airports_nearest — расстояние до ближайшего аэропорта в метрах (м)\n",
    "* balcony — число балконов\n",
    "* ceiling_height — высота потолков (м)\n",
    "* cityCenters_nearest — расстояние до центра города (м)\n",
    "* days_exposition — сколько дней было размещено объявление (от публикации до снятия)\n",
    "* first_day_exposition — дата публикации\n",
    "* floor — этаж\n",
    "* floors_total — всего этажей в доме\n",
    "* is_apartment — апартаменты (булев тип)\n",
    "* kitchen_area — площадь кухни в квадратных метрах (м²)\n",
    "* last_price — цена на момент снятия с публикации\n",
    "* living_area — жилая площадь в квадратных метрах(м²)\n",
    "* locality_name — название населённого пункта\n",
    "* open_plan — свободная планировка (булев тип)\n",
    "* parks_around3000 — число парков в радиусе 3 км\n",
    "* parks_nearest — расстояние до ближайшего парка (м)\n",
    "* ponds_around3000 — число водоёмов в радиусе 3 км\n",
    "* ponds_nearest — расстояние до ближайшего водоёма (м)\n",
    "* rooms — число комнат\n",
    "* studio — квартира-студия (булев тип)\n",
    "* total_area — площадь квартиры в квадратных метрах (м²)\n",
    "* total_images — число фотографий квартиры в объявлении\n"
   ]
  },
  {
   "cell_type": "markdown",
   "metadata": {},
   "source": [
    "### Шаг 1. Откроем файл с данными и изучим общую информацию."
   ]
  },
  {
   "cell_type": "code",
   "execution_count": 1,
   "metadata": {},
   "outputs": [],
   "source": [
    "import pandas as pd\n",
    "import matplotlib.pyplot as plt\n",
    "\n",
    "realty = pd.read_csv('/datasets/real_estate_data.csv', sep='\\t')"
   ]
  },
  {
   "cell_type": "code",
   "execution_count": 2,
   "metadata": {
    "scrolled": false
   },
   "outputs": [
    {
     "name": "stdout",
     "output_type": "stream",
     "text": [
      "<class 'pandas.core.frame.DataFrame'>\n",
      "RangeIndex: 23699 entries, 0 to 23698\n",
      "Data columns (total 22 columns):\n",
      "total_images            23699 non-null int64\n",
      "last_price              23699 non-null float64\n",
      "total_area              23699 non-null float64\n",
      "first_day_exposition    23699 non-null object\n",
      "rooms                   23699 non-null int64\n",
      "ceiling_height          14504 non-null float64\n",
      "floors_total            23613 non-null float64\n",
      "living_area             21796 non-null float64\n",
      "floor                   23699 non-null int64\n",
      "is_apartment            2775 non-null object\n",
      "studio                  23699 non-null bool\n",
      "open_plan               23699 non-null bool\n",
      "kitchen_area            21421 non-null float64\n",
      "balcony                 12180 non-null float64\n",
      "locality_name           23650 non-null object\n",
      "airports_nearest        18157 non-null float64\n",
      "cityCenters_nearest     18180 non-null float64\n",
      "parks_around3000        18181 non-null float64\n",
      "parks_nearest           8079 non-null float64\n",
      "ponds_around3000        18181 non-null float64\n",
      "ponds_nearest           9110 non-null float64\n",
      "days_exposition         20518 non-null float64\n",
      "dtypes: bool(2), float64(14), int64(3), object(3)\n",
      "memory usage: 3.7+ MB\n"
     ]
    }
   ],
   "source": [
    "realty.info()"
   ]
  },
  {
   "cell_type": "code",
   "execution_count": 3,
   "metadata": {
    "scrolled": true
   },
   "outputs": [
    {
     "data": {
      "text/html": [
       "<div>\n",
       "<style scoped>\n",
       "    .dataframe tbody tr th:only-of-type {\n",
       "        vertical-align: middle;\n",
       "    }\n",
       "\n",
       "    .dataframe tbody tr th {\n",
       "        vertical-align: top;\n",
       "    }\n",
       "\n",
       "    .dataframe thead th {\n",
       "        text-align: right;\n",
       "    }\n",
       "</style>\n",
       "<table border=\"1\" class=\"dataframe\">\n",
       "  <thead>\n",
       "    <tr style=\"text-align: right;\">\n",
       "      <th></th>\n",
       "      <th>last_price</th>\n",
       "      <th>total_area</th>\n",
       "      <th>rooms</th>\n",
       "      <th>ceiling_height</th>\n",
       "      <th>floors_total</th>\n",
       "      <th>living_area</th>\n",
       "      <th>floor</th>\n",
       "      <th>kitchen_area</th>\n",
       "    </tr>\n",
       "  </thead>\n",
       "  <tbody>\n",
       "    <tr>\n",
       "      <td>count</td>\n",
       "      <td>2.369900e+04</td>\n",
       "      <td>23699.000000</td>\n",
       "      <td>23699.000000</td>\n",
       "      <td>14504.000000</td>\n",
       "      <td>23613.000000</td>\n",
       "      <td>21796.000000</td>\n",
       "      <td>23699.000000</td>\n",
       "      <td>21421.000000</td>\n",
       "    </tr>\n",
       "    <tr>\n",
       "      <td>mean</td>\n",
       "      <td>6.541549e+06</td>\n",
       "      <td>60.348651</td>\n",
       "      <td>2.070636</td>\n",
       "      <td>2.771499</td>\n",
       "      <td>10.673824</td>\n",
       "      <td>34.457852</td>\n",
       "      <td>5.892358</td>\n",
       "      <td>10.569807</td>\n",
       "    </tr>\n",
       "    <tr>\n",
       "      <td>std</td>\n",
       "      <td>1.088701e+07</td>\n",
       "      <td>35.654083</td>\n",
       "      <td>1.078405</td>\n",
       "      <td>1.261056</td>\n",
       "      <td>6.597173</td>\n",
       "      <td>22.030445</td>\n",
       "      <td>4.885249</td>\n",
       "      <td>5.905438</td>\n",
       "    </tr>\n",
       "    <tr>\n",
       "      <td>min</td>\n",
       "      <td>1.219000e+04</td>\n",
       "      <td>12.000000</td>\n",
       "      <td>0.000000</td>\n",
       "      <td>1.000000</td>\n",
       "      <td>1.000000</td>\n",
       "      <td>2.000000</td>\n",
       "      <td>1.000000</td>\n",
       "      <td>1.300000</td>\n",
       "    </tr>\n",
       "    <tr>\n",
       "      <td>25%</td>\n",
       "      <td>3.400000e+06</td>\n",
       "      <td>40.000000</td>\n",
       "      <td>1.000000</td>\n",
       "      <td>2.520000</td>\n",
       "      <td>5.000000</td>\n",
       "      <td>18.600000</td>\n",
       "      <td>2.000000</td>\n",
       "      <td>7.000000</td>\n",
       "    </tr>\n",
       "    <tr>\n",
       "      <td>50%</td>\n",
       "      <td>4.650000e+06</td>\n",
       "      <td>52.000000</td>\n",
       "      <td>2.000000</td>\n",
       "      <td>2.650000</td>\n",
       "      <td>9.000000</td>\n",
       "      <td>30.000000</td>\n",
       "      <td>4.000000</td>\n",
       "      <td>9.100000</td>\n",
       "    </tr>\n",
       "    <tr>\n",
       "      <td>75%</td>\n",
       "      <td>6.800000e+06</td>\n",
       "      <td>69.900000</td>\n",
       "      <td>3.000000</td>\n",
       "      <td>2.800000</td>\n",
       "      <td>16.000000</td>\n",
       "      <td>42.300000</td>\n",
       "      <td>8.000000</td>\n",
       "      <td>12.000000</td>\n",
       "    </tr>\n",
       "    <tr>\n",
       "      <td>max</td>\n",
       "      <td>7.630000e+08</td>\n",
       "      <td>900.000000</td>\n",
       "      <td>19.000000</td>\n",
       "      <td>100.000000</td>\n",
       "      <td>60.000000</td>\n",
       "      <td>409.700000</td>\n",
       "      <td>33.000000</td>\n",
       "      <td>112.000000</td>\n",
       "    </tr>\n",
       "  </tbody>\n",
       "</table>\n",
       "</div>"
      ],
      "text/plain": [
       "         last_price    total_area         rooms  ceiling_height  floors_total  \\\n",
       "count  2.369900e+04  23699.000000  23699.000000    14504.000000  23613.000000   \n",
       "mean   6.541549e+06     60.348651      2.070636        2.771499     10.673824   \n",
       "std    1.088701e+07     35.654083      1.078405        1.261056      6.597173   \n",
       "min    1.219000e+04     12.000000      0.000000        1.000000      1.000000   \n",
       "25%    3.400000e+06     40.000000      1.000000        2.520000      5.000000   \n",
       "50%    4.650000e+06     52.000000      2.000000        2.650000      9.000000   \n",
       "75%    6.800000e+06     69.900000      3.000000        2.800000     16.000000   \n",
       "max    7.630000e+08    900.000000     19.000000      100.000000     60.000000   \n",
       "\n",
       "        living_area         floor  kitchen_area  \n",
       "count  21796.000000  23699.000000  21421.000000  \n",
       "mean      34.457852      5.892358     10.569807  \n",
       "std       22.030445      4.885249      5.905438  \n",
       "min        2.000000      1.000000      1.300000  \n",
       "25%       18.600000      2.000000      7.000000  \n",
       "50%       30.000000      4.000000      9.100000  \n",
       "75%       42.300000      8.000000     12.000000  \n",
       "max      409.700000     33.000000    112.000000  "
      ]
     },
     "execution_count": 3,
     "metadata": {},
     "output_type": "execute_result"
    }
   ],
   "source": [
    "realty[['last_price','total_area','rooms','ceiling_height','floors_total','living_area','floor','kitchen_area']].describe()"
   ]
  },
  {
   "cell_type": "markdown",
   "metadata": {},
   "source": [
    "- Площадь в  900 квадратных метров, проверю.\n",
    "- Высота потолков в 1 и 100 метров, нужно проверить.\n",
    "- Зданий с высотой 60 этажей нет в СПБ."
   ]
  },
  {
   "cell_type": "code",
   "execution_count": 4,
   "metadata": {
    "scrolled": false
   },
   "outputs": [
    {
     "data": {
      "text/html": [
       "<div>\n",
       "<style scoped>\n",
       "    .dataframe tbody tr th:only-of-type {\n",
       "        vertical-align: middle;\n",
       "    }\n",
       "\n",
       "    .dataframe tbody tr th {\n",
       "        vertical-align: top;\n",
       "    }\n",
       "\n",
       "    .dataframe thead th {\n",
       "        text-align: right;\n",
       "    }\n",
       "</style>\n",
       "<table border=\"1\" class=\"dataframe\">\n",
       "  <thead>\n",
       "    <tr style=\"text-align: right;\">\n",
       "      <th></th>\n",
       "      <th>total_images</th>\n",
       "      <th>last_price</th>\n",
       "      <th>total_area</th>\n",
       "      <th>first_day_exposition</th>\n",
       "      <th>rooms</th>\n",
       "      <th>ceiling_height</th>\n",
       "      <th>floors_total</th>\n",
       "      <th>living_area</th>\n",
       "      <th>floor</th>\n",
       "      <th>is_apartment</th>\n",
       "      <th>...</th>\n",
       "      <th>kitchen_area</th>\n",
       "      <th>balcony</th>\n",
       "      <th>locality_name</th>\n",
       "      <th>airports_nearest</th>\n",
       "      <th>cityCenters_nearest</th>\n",
       "      <th>parks_around3000</th>\n",
       "      <th>parks_nearest</th>\n",
       "      <th>ponds_around3000</th>\n",
       "      <th>ponds_nearest</th>\n",
       "      <th>days_exposition</th>\n",
       "    </tr>\n",
       "  </thead>\n",
       "  <tbody>\n",
       "    <tr>\n",
       "      <td>0</td>\n",
       "      <td>20</td>\n",
       "      <td>13000000.0</td>\n",
       "      <td>108.00</td>\n",
       "      <td>2019-03-07T00:00:00</td>\n",
       "      <td>3</td>\n",
       "      <td>2.70</td>\n",
       "      <td>16.0</td>\n",
       "      <td>51.00</td>\n",
       "      <td>8</td>\n",
       "      <td>NaN</td>\n",
       "      <td>...</td>\n",
       "      <td>25.00</td>\n",
       "      <td>NaN</td>\n",
       "      <td>Санкт-Петербург</td>\n",
       "      <td>18863.0</td>\n",
       "      <td>16028.0</td>\n",
       "      <td>1.0</td>\n",
       "      <td>482.0</td>\n",
       "      <td>2.0</td>\n",
       "      <td>755.0</td>\n",
       "      <td>NaN</td>\n",
       "    </tr>\n",
       "    <tr>\n",
       "      <td>1</td>\n",
       "      <td>7</td>\n",
       "      <td>3350000.0</td>\n",
       "      <td>40.40</td>\n",
       "      <td>2018-12-04T00:00:00</td>\n",
       "      <td>1</td>\n",
       "      <td>NaN</td>\n",
       "      <td>11.0</td>\n",
       "      <td>18.60</td>\n",
       "      <td>1</td>\n",
       "      <td>NaN</td>\n",
       "      <td>...</td>\n",
       "      <td>11.00</td>\n",
       "      <td>2.0</td>\n",
       "      <td>посёлок Шушары</td>\n",
       "      <td>12817.0</td>\n",
       "      <td>18603.0</td>\n",
       "      <td>0.0</td>\n",
       "      <td>NaN</td>\n",
       "      <td>0.0</td>\n",
       "      <td>NaN</td>\n",
       "      <td>81.0</td>\n",
       "    </tr>\n",
       "    <tr>\n",
       "      <td>2</td>\n",
       "      <td>10</td>\n",
       "      <td>5196000.0</td>\n",
       "      <td>56.00</td>\n",
       "      <td>2015-08-20T00:00:00</td>\n",
       "      <td>2</td>\n",
       "      <td>NaN</td>\n",
       "      <td>5.0</td>\n",
       "      <td>34.30</td>\n",
       "      <td>4</td>\n",
       "      <td>NaN</td>\n",
       "      <td>...</td>\n",
       "      <td>8.30</td>\n",
       "      <td>0.0</td>\n",
       "      <td>Санкт-Петербург</td>\n",
       "      <td>21741.0</td>\n",
       "      <td>13933.0</td>\n",
       "      <td>1.0</td>\n",
       "      <td>90.0</td>\n",
       "      <td>2.0</td>\n",
       "      <td>574.0</td>\n",
       "      <td>558.0</td>\n",
       "    </tr>\n",
       "    <tr>\n",
       "      <td>3</td>\n",
       "      <td>0</td>\n",
       "      <td>64900000.0</td>\n",
       "      <td>159.00</td>\n",
       "      <td>2015-07-24T00:00:00</td>\n",
       "      <td>3</td>\n",
       "      <td>NaN</td>\n",
       "      <td>14.0</td>\n",
       "      <td>NaN</td>\n",
       "      <td>9</td>\n",
       "      <td>NaN</td>\n",
       "      <td>...</td>\n",
       "      <td>NaN</td>\n",
       "      <td>0.0</td>\n",
       "      <td>Санкт-Петербург</td>\n",
       "      <td>28098.0</td>\n",
       "      <td>6800.0</td>\n",
       "      <td>2.0</td>\n",
       "      <td>84.0</td>\n",
       "      <td>3.0</td>\n",
       "      <td>234.0</td>\n",
       "      <td>424.0</td>\n",
       "    </tr>\n",
       "    <tr>\n",
       "      <td>4</td>\n",
       "      <td>2</td>\n",
       "      <td>10000000.0</td>\n",
       "      <td>100.00</td>\n",
       "      <td>2018-06-19T00:00:00</td>\n",
       "      <td>2</td>\n",
       "      <td>3.03</td>\n",
       "      <td>14.0</td>\n",
       "      <td>32.00</td>\n",
       "      <td>13</td>\n",
       "      <td>NaN</td>\n",
       "      <td>...</td>\n",
       "      <td>41.00</td>\n",
       "      <td>NaN</td>\n",
       "      <td>Санкт-Петербург</td>\n",
       "      <td>31856.0</td>\n",
       "      <td>8098.0</td>\n",
       "      <td>2.0</td>\n",
       "      <td>112.0</td>\n",
       "      <td>1.0</td>\n",
       "      <td>48.0</td>\n",
       "      <td>121.0</td>\n",
       "    </tr>\n",
       "    <tr>\n",
       "      <td>5</td>\n",
       "      <td>10</td>\n",
       "      <td>2890000.0</td>\n",
       "      <td>30.40</td>\n",
       "      <td>2018-09-10T00:00:00</td>\n",
       "      <td>1</td>\n",
       "      <td>NaN</td>\n",
       "      <td>12.0</td>\n",
       "      <td>14.40</td>\n",
       "      <td>5</td>\n",
       "      <td>NaN</td>\n",
       "      <td>...</td>\n",
       "      <td>9.10</td>\n",
       "      <td>NaN</td>\n",
       "      <td>городской посёлок Янино-1</td>\n",
       "      <td>NaN</td>\n",
       "      <td>NaN</td>\n",
       "      <td>NaN</td>\n",
       "      <td>NaN</td>\n",
       "      <td>NaN</td>\n",
       "      <td>NaN</td>\n",
       "      <td>55.0</td>\n",
       "    </tr>\n",
       "    <tr>\n",
       "      <td>6</td>\n",
       "      <td>6</td>\n",
       "      <td>3700000.0</td>\n",
       "      <td>37.30</td>\n",
       "      <td>2017-11-02T00:00:00</td>\n",
       "      <td>1</td>\n",
       "      <td>NaN</td>\n",
       "      <td>26.0</td>\n",
       "      <td>10.60</td>\n",
       "      <td>6</td>\n",
       "      <td>NaN</td>\n",
       "      <td>...</td>\n",
       "      <td>14.40</td>\n",
       "      <td>1.0</td>\n",
       "      <td>посёлок Парголово</td>\n",
       "      <td>52996.0</td>\n",
       "      <td>19143.0</td>\n",
       "      <td>0.0</td>\n",
       "      <td>NaN</td>\n",
       "      <td>0.0</td>\n",
       "      <td>NaN</td>\n",
       "      <td>155.0</td>\n",
       "    </tr>\n",
       "    <tr>\n",
       "      <td>7</td>\n",
       "      <td>5</td>\n",
       "      <td>7915000.0</td>\n",
       "      <td>71.60</td>\n",
       "      <td>2019-04-18T00:00:00</td>\n",
       "      <td>2</td>\n",
       "      <td>NaN</td>\n",
       "      <td>24.0</td>\n",
       "      <td>NaN</td>\n",
       "      <td>22</td>\n",
       "      <td>NaN</td>\n",
       "      <td>...</td>\n",
       "      <td>18.90</td>\n",
       "      <td>2.0</td>\n",
       "      <td>Санкт-Петербург</td>\n",
       "      <td>23982.0</td>\n",
       "      <td>11634.0</td>\n",
       "      <td>0.0</td>\n",
       "      <td>NaN</td>\n",
       "      <td>0.0</td>\n",
       "      <td>NaN</td>\n",
       "      <td>NaN</td>\n",
       "    </tr>\n",
       "    <tr>\n",
       "      <td>8</td>\n",
       "      <td>20</td>\n",
       "      <td>2900000.0</td>\n",
       "      <td>33.16</td>\n",
       "      <td>2018-05-23T00:00:00</td>\n",
       "      <td>1</td>\n",
       "      <td>NaN</td>\n",
       "      <td>27.0</td>\n",
       "      <td>15.43</td>\n",
       "      <td>26</td>\n",
       "      <td>NaN</td>\n",
       "      <td>...</td>\n",
       "      <td>8.81</td>\n",
       "      <td>NaN</td>\n",
       "      <td>посёлок Мурино</td>\n",
       "      <td>NaN</td>\n",
       "      <td>NaN</td>\n",
       "      <td>NaN</td>\n",
       "      <td>NaN</td>\n",
       "      <td>NaN</td>\n",
       "      <td>NaN</td>\n",
       "      <td>189.0</td>\n",
       "    </tr>\n",
       "    <tr>\n",
       "      <td>9</td>\n",
       "      <td>18</td>\n",
       "      <td>5400000.0</td>\n",
       "      <td>61.00</td>\n",
       "      <td>2017-02-26T00:00:00</td>\n",
       "      <td>3</td>\n",
       "      <td>2.50</td>\n",
       "      <td>9.0</td>\n",
       "      <td>43.60</td>\n",
       "      <td>7</td>\n",
       "      <td>NaN</td>\n",
       "      <td>...</td>\n",
       "      <td>6.50</td>\n",
       "      <td>2.0</td>\n",
       "      <td>Санкт-Петербург</td>\n",
       "      <td>50898.0</td>\n",
       "      <td>15008.0</td>\n",
       "      <td>0.0</td>\n",
       "      <td>NaN</td>\n",
       "      <td>0.0</td>\n",
       "      <td>NaN</td>\n",
       "      <td>289.0</td>\n",
       "    </tr>\n",
       "    <tr>\n",
       "      <td>10</td>\n",
       "      <td>5</td>\n",
       "      <td>5050000.0</td>\n",
       "      <td>39.60</td>\n",
       "      <td>2017-11-16T00:00:00</td>\n",
       "      <td>1</td>\n",
       "      <td>2.67</td>\n",
       "      <td>12.0</td>\n",
       "      <td>20.30</td>\n",
       "      <td>3</td>\n",
       "      <td>NaN</td>\n",
       "      <td>...</td>\n",
       "      <td>8.50</td>\n",
       "      <td>NaN</td>\n",
       "      <td>Санкт-Петербург</td>\n",
       "      <td>38357.0</td>\n",
       "      <td>13878.0</td>\n",
       "      <td>1.0</td>\n",
       "      <td>310.0</td>\n",
       "      <td>2.0</td>\n",
       "      <td>553.0</td>\n",
       "      <td>137.0</td>\n",
       "    </tr>\n",
       "    <tr>\n",
       "      <td>11</td>\n",
       "      <td>9</td>\n",
       "      <td>3300000.0</td>\n",
       "      <td>44.00</td>\n",
       "      <td>2018-08-27T00:00:00</td>\n",
       "      <td>2</td>\n",
       "      <td>NaN</td>\n",
       "      <td>5.0</td>\n",
       "      <td>31.00</td>\n",
       "      <td>4</td>\n",
       "      <td>False</td>\n",
       "      <td>...</td>\n",
       "      <td>6.00</td>\n",
       "      <td>1.0</td>\n",
       "      <td>Ломоносов</td>\n",
       "      <td>48252.0</td>\n",
       "      <td>51677.0</td>\n",
       "      <td>0.0</td>\n",
       "      <td>NaN</td>\n",
       "      <td>0.0</td>\n",
       "      <td>NaN</td>\n",
       "      <td>7.0</td>\n",
       "    </tr>\n",
       "    <tr>\n",
       "      <td>12</td>\n",
       "      <td>10</td>\n",
       "      <td>3890000.0</td>\n",
       "      <td>54.00</td>\n",
       "      <td>2016-06-30T00:00:00</td>\n",
       "      <td>2</td>\n",
       "      <td>NaN</td>\n",
       "      <td>5.0</td>\n",
       "      <td>30.00</td>\n",
       "      <td>5</td>\n",
       "      <td>NaN</td>\n",
       "      <td>...</td>\n",
       "      <td>9.00</td>\n",
       "      <td>0.0</td>\n",
       "      <td>Сертолово</td>\n",
       "      <td>NaN</td>\n",
       "      <td>NaN</td>\n",
       "      <td>NaN</td>\n",
       "      <td>NaN</td>\n",
       "      <td>NaN</td>\n",
       "      <td>NaN</td>\n",
       "      <td>90.0</td>\n",
       "    </tr>\n",
       "    <tr>\n",
       "      <td>13</td>\n",
       "      <td>20</td>\n",
       "      <td>3550000.0</td>\n",
       "      <td>42.80</td>\n",
       "      <td>2017-07-01T00:00:00</td>\n",
       "      <td>2</td>\n",
       "      <td>2.56</td>\n",
       "      <td>5.0</td>\n",
       "      <td>27.00</td>\n",
       "      <td>5</td>\n",
       "      <td>NaN</td>\n",
       "      <td>...</td>\n",
       "      <td>5.20</td>\n",
       "      <td>1.0</td>\n",
       "      <td>Петергоф</td>\n",
       "      <td>37868.0</td>\n",
       "      <td>33058.0</td>\n",
       "      <td>1.0</td>\n",
       "      <td>294.0</td>\n",
       "      <td>3.0</td>\n",
       "      <td>298.0</td>\n",
       "      <td>366.0</td>\n",
       "    </tr>\n",
       "    <tr>\n",
       "      <td>14</td>\n",
       "      <td>1</td>\n",
       "      <td>4400000.0</td>\n",
       "      <td>36.00</td>\n",
       "      <td>2016-06-23T00:00:00</td>\n",
       "      <td>1</td>\n",
       "      <td>NaN</td>\n",
       "      <td>6.0</td>\n",
       "      <td>17.00</td>\n",
       "      <td>1</td>\n",
       "      <td>NaN</td>\n",
       "      <td>...</td>\n",
       "      <td>8.00</td>\n",
       "      <td>0.0</td>\n",
       "      <td>Пушкин</td>\n",
       "      <td>20782.0</td>\n",
       "      <td>30759.0</td>\n",
       "      <td>0.0</td>\n",
       "      <td>NaN</td>\n",
       "      <td>1.0</td>\n",
       "      <td>96.0</td>\n",
       "      <td>203.0</td>\n",
       "    </tr>\n",
       "    <tr>\n",
       "      <td>15</td>\n",
       "      <td>16</td>\n",
       "      <td>4650000.0</td>\n",
       "      <td>39.00</td>\n",
       "      <td>2017-11-18T00:00:00</td>\n",
       "      <td>1</td>\n",
       "      <td>NaN</td>\n",
       "      <td>14.0</td>\n",
       "      <td>20.50</td>\n",
       "      <td>5</td>\n",
       "      <td>NaN</td>\n",
       "      <td>...</td>\n",
       "      <td>7.60</td>\n",
       "      <td>1.0</td>\n",
       "      <td>Санкт-Петербург</td>\n",
       "      <td>12900.0</td>\n",
       "      <td>14259.0</td>\n",
       "      <td>1.0</td>\n",
       "      <td>590.0</td>\n",
       "      <td>1.0</td>\n",
       "      <td>296.0</td>\n",
       "      <td>19.0</td>\n",
       "    </tr>\n",
       "    <tr>\n",
       "      <td>16</td>\n",
       "      <td>11</td>\n",
       "      <td>6700000.0</td>\n",
       "      <td>82.00</td>\n",
       "      <td>2017-11-23T00:00:00</td>\n",
       "      <td>3</td>\n",
       "      <td>3.05</td>\n",
       "      <td>5.0</td>\n",
       "      <td>55.60</td>\n",
       "      <td>1</td>\n",
       "      <td>NaN</td>\n",
       "      <td>...</td>\n",
       "      <td>9.00</td>\n",
       "      <td>NaN</td>\n",
       "      <td>Санкт-Петербург</td>\n",
       "      <td>22108.0</td>\n",
       "      <td>10698.0</td>\n",
       "      <td>3.0</td>\n",
       "      <td>420.0</td>\n",
       "      <td>0.0</td>\n",
       "      <td>NaN</td>\n",
       "      <td>397.0</td>\n",
       "    </tr>\n",
       "    <tr>\n",
       "      <td>17</td>\n",
       "      <td>6</td>\n",
       "      <td>4180000.0</td>\n",
       "      <td>36.00</td>\n",
       "      <td>2016-09-09T00:00:00</td>\n",
       "      <td>1</td>\n",
       "      <td>NaN</td>\n",
       "      <td>17.0</td>\n",
       "      <td>16.50</td>\n",
       "      <td>7</td>\n",
       "      <td>NaN</td>\n",
       "      <td>...</td>\n",
       "      <td>11.00</td>\n",
       "      <td>1.0</td>\n",
       "      <td>Санкт-Петербург</td>\n",
       "      <td>33564.0</td>\n",
       "      <td>14616.0</td>\n",
       "      <td>0.0</td>\n",
       "      <td>NaN</td>\n",
       "      <td>1.0</td>\n",
       "      <td>859.0</td>\n",
       "      <td>571.0</td>\n",
       "    </tr>\n",
       "    <tr>\n",
       "      <td>18</td>\n",
       "      <td>8</td>\n",
       "      <td>3250000.0</td>\n",
       "      <td>31.00</td>\n",
       "      <td>2017-01-27T00:00:00</td>\n",
       "      <td>1</td>\n",
       "      <td>2.50</td>\n",
       "      <td>5.0</td>\n",
       "      <td>19.40</td>\n",
       "      <td>2</td>\n",
       "      <td>NaN</td>\n",
       "      <td>...</td>\n",
       "      <td>5.60</td>\n",
       "      <td>1.0</td>\n",
       "      <td>Санкт-Петербург</td>\n",
       "      <td>44060.0</td>\n",
       "      <td>10842.0</td>\n",
       "      <td>1.0</td>\n",
       "      <td>759.0</td>\n",
       "      <td>0.0</td>\n",
       "      <td>NaN</td>\n",
       "      <td>168.0</td>\n",
       "    </tr>\n",
       "    <tr>\n",
       "      <td>19</td>\n",
       "      <td>16</td>\n",
       "      <td>14200000.0</td>\n",
       "      <td>121.00</td>\n",
       "      <td>2019-01-09T00:00:00</td>\n",
       "      <td>3</td>\n",
       "      <td>2.75</td>\n",
       "      <td>16.0</td>\n",
       "      <td>76.00</td>\n",
       "      <td>8</td>\n",
       "      <td>NaN</td>\n",
       "      <td>...</td>\n",
       "      <td>12.00</td>\n",
       "      <td>NaN</td>\n",
       "      <td>Санкт-Петербург</td>\n",
       "      <td>38900.0</td>\n",
       "      <td>12843.0</td>\n",
       "      <td>0.0</td>\n",
       "      <td>NaN</td>\n",
       "      <td>0.0</td>\n",
       "      <td>NaN</td>\n",
       "      <td>97.0</td>\n",
       "    </tr>\n",
       "  </tbody>\n",
       "</table>\n",
       "<p>20 rows × 22 columns</p>\n",
       "</div>"
      ],
      "text/plain": [
       "    total_images  last_price  total_area first_day_exposition  rooms  \\\n",
       "0             20  13000000.0      108.00  2019-03-07T00:00:00      3   \n",
       "1              7   3350000.0       40.40  2018-12-04T00:00:00      1   \n",
       "2             10   5196000.0       56.00  2015-08-20T00:00:00      2   \n",
       "3              0  64900000.0      159.00  2015-07-24T00:00:00      3   \n",
       "4              2  10000000.0      100.00  2018-06-19T00:00:00      2   \n",
       "5             10   2890000.0       30.40  2018-09-10T00:00:00      1   \n",
       "6              6   3700000.0       37.30  2017-11-02T00:00:00      1   \n",
       "7              5   7915000.0       71.60  2019-04-18T00:00:00      2   \n",
       "8             20   2900000.0       33.16  2018-05-23T00:00:00      1   \n",
       "9             18   5400000.0       61.00  2017-02-26T00:00:00      3   \n",
       "10             5   5050000.0       39.60  2017-11-16T00:00:00      1   \n",
       "11             9   3300000.0       44.00  2018-08-27T00:00:00      2   \n",
       "12            10   3890000.0       54.00  2016-06-30T00:00:00      2   \n",
       "13            20   3550000.0       42.80  2017-07-01T00:00:00      2   \n",
       "14             1   4400000.0       36.00  2016-06-23T00:00:00      1   \n",
       "15            16   4650000.0       39.00  2017-11-18T00:00:00      1   \n",
       "16            11   6700000.0       82.00  2017-11-23T00:00:00      3   \n",
       "17             6   4180000.0       36.00  2016-09-09T00:00:00      1   \n",
       "18             8   3250000.0       31.00  2017-01-27T00:00:00      1   \n",
       "19            16  14200000.0      121.00  2019-01-09T00:00:00      3   \n",
       "\n",
       "    ceiling_height  floors_total  living_area  floor is_apartment  ...  \\\n",
       "0             2.70          16.0        51.00      8          NaN  ...   \n",
       "1              NaN          11.0        18.60      1          NaN  ...   \n",
       "2              NaN           5.0        34.30      4          NaN  ...   \n",
       "3              NaN          14.0          NaN      9          NaN  ...   \n",
       "4             3.03          14.0        32.00     13          NaN  ...   \n",
       "5              NaN          12.0        14.40      5          NaN  ...   \n",
       "6              NaN          26.0        10.60      6          NaN  ...   \n",
       "7              NaN          24.0          NaN     22          NaN  ...   \n",
       "8              NaN          27.0        15.43     26          NaN  ...   \n",
       "9             2.50           9.0        43.60      7          NaN  ...   \n",
       "10            2.67          12.0        20.30      3          NaN  ...   \n",
       "11             NaN           5.0        31.00      4        False  ...   \n",
       "12             NaN           5.0        30.00      5          NaN  ...   \n",
       "13            2.56           5.0        27.00      5          NaN  ...   \n",
       "14             NaN           6.0        17.00      1          NaN  ...   \n",
       "15             NaN          14.0        20.50      5          NaN  ...   \n",
       "16            3.05           5.0        55.60      1          NaN  ...   \n",
       "17             NaN          17.0        16.50      7          NaN  ...   \n",
       "18            2.50           5.0        19.40      2          NaN  ...   \n",
       "19            2.75          16.0        76.00      8          NaN  ...   \n",
       "\n",
       "    kitchen_area  balcony              locality_name  airports_nearest  \\\n",
       "0          25.00      NaN            Санкт-Петербург           18863.0   \n",
       "1          11.00      2.0             посёлок Шушары           12817.0   \n",
       "2           8.30      0.0            Санкт-Петербург           21741.0   \n",
       "3            NaN      0.0            Санкт-Петербург           28098.0   \n",
       "4          41.00      NaN            Санкт-Петербург           31856.0   \n",
       "5           9.10      NaN  городской посёлок Янино-1               NaN   \n",
       "6          14.40      1.0          посёлок Парголово           52996.0   \n",
       "7          18.90      2.0            Санкт-Петербург           23982.0   \n",
       "8           8.81      NaN             посёлок Мурино               NaN   \n",
       "9           6.50      2.0            Санкт-Петербург           50898.0   \n",
       "10          8.50      NaN            Санкт-Петербург           38357.0   \n",
       "11          6.00      1.0                  Ломоносов           48252.0   \n",
       "12          9.00      0.0                  Сертолово               NaN   \n",
       "13          5.20      1.0                   Петергоф           37868.0   \n",
       "14          8.00      0.0                     Пушкин           20782.0   \n",
       "15          7.60      1.0            Санкт-Петербург           12900.0   \n",
       "16          9.00      NaN            Санкт-Петербург           22108.0   \n",
       "17         11.00      1.0            Санкт-Петербург           33564.0   \n",
       "18          5.60      1.0            Санкт-Петербург           44060.0   \n",
       "19         12.00      NaN            Санкт-Петербург           38900.0   \n",
       "\n",
       "   cityCenters_nearest  parks_around3000  parks_nearest  ponds_around3000  \\\n",
       "0              16028.0               1.0          482.0               2.0   \n",
       "1              18603.0               0.0            NaN               0.0   \n",
       "2              13933.0               1.0           90.0               2.0   \n",
       "3               6800.0               2.0           84.0               3.0   \n",
       "4               8098.0               2.0          112.0               1.0   \n",
       "5                  NaN               NaN            NaN               NaN   \n",
       "6              19143.0               0.0            NaN               0.0   \n",
       "7              11634.0               0.0            NaN               0.0   \n",
       "8                  NaN               NaN            NaN               NaN   \n",
       "9              15008.0               0.0            NaN               0.0   \n",
       "10             13878.0               1.0          310.0               2.0   \n",
       "11             51677.0               0.0            NaN               0.0   \n",
       "12                 NaN               NaN            NaN               NaN   \n",
       "13             33058.0               1.0          294.0               3.0   \n",
       "14             30759.0               0.0            NaN               1.0   \n",
       "15             14259.0               1.0          590.0               1.0   \n",
       "16             10698.0               3.0          420.0               0.0   \n",
       "17             14616.0               0.0            NaN               1.0   \n",
       "18             10842.0               1.0          759.0               0.0   \n",
       "19             12843.0               0.0            NaN               0.0   \n",
       "\n",
       "    ponds_nearest  days_exposition  \n",
       "0           755.0              NaN  \n",
       "1             NaN             81.0  \n",
       "2           574.0            558.0  \n",
       "3           234.0            424.0  \n",
       "4            48.0            121.0  \n",
       "5             NaN             55.0  \n",
       "6             NaN            155.0  \n",
       "7             NaN              NaN  \n",
       "8             NaN            189.0  \n",
       "9             NaN            289.0  \n",
       "10          553.0            137.0  \n",
       "11            NaN              7.0  \n",
       "12            NaN             90.0  \n",
       "13          298.0            366.0  \n",
       "14           96.0            203.0  \n",
       "15          296.0             19.0  \n",
       "16            NaN            397.0  \n",
       "17          859.0            571.0  \n",
       "18            NaN            168.0  \n",
       "19            NaN             97.0  \n",
       "\n",
       "[20 rows x 22 columns]"
      ]
     },
     "execution_count": 4,
     "metadata": {},
     "output_type": "execute_result"
    }
   ],
   "source": [
    "realty.head(20)"
   ]
  },
  {
   "cell_type": "code",
   "execution_count": 5,
   "metadata": {},
   "outputs": [
    {
     "data": {
      "text/plain": [
       "0"
      ]
     },
     "execution_count": 5,
     "metadata": {},
     "output_type": "execute_result"
    }
   ],
   "source": [
    "realty.duplicated().sum()"
   ]
  },
  {
   "cell_type": "markdown",
   "metadata": {},
   "source": [
    "### Вывод"
   ]
  },
  {
   "cell_type": "markdown",
   "metadata": {},
   "source": [
    "В таблице данные по 23699 объявлениям. Наблюдается множество пропусков, в таких колонках как: апартаметы, ближайшие аэропорт и ближайшие парки, больше половины данных отсутствует."
   ]
  },
  {
   "cell_type": "markdown",
   "metadata": {},
   "source": [
    "### Шаг 2. Предобработка данных"
   ]
  },
  {
   "cell_type": "code",
   "execution_count": 6,
   "metadata": {},
   "outputs": [],
   "source": [
    "realty['last_price'] = realty['last_price'].astype('int')\n",
    "realty['total_area'] = realty['total_area'].astype('int')\n",
    "realty['first_day_exposition'] = pd.to_datetime(realty['first_day_exposition'], format = '%Y-%m-%d')"
   ]
  },
  {
   "cell_type": "markdown",
   "metadata": {},
   "source": [
    "Меняю тип данных у цены и общей площади, большая точность нам не нужна, а целые числа читать легче."
   ]
  },
  {
   "cell_type": "code",
   "execution_count": 7,
   "metadata": {},
   "outputs": [],
   "source": [
    "realty['balcony'] = realty['balcony'].fillna(0).astype('int')"
   ]
  },
  {
   "cell_type": "markdown",
   "metadata": {},
   "source": [
    "Предполагаю что если человек не обозначил число балконов то их просто нет, меняю пропуски на 0 и меняю тип данных."
   ]
  },
  {
   "cell_type": "code",
   "execution_count": 8,
   "metadata": {},
   "outputs": [],
   "source": [
    "realty['is_apartment'] = realty['is_apartment'].fillna(False).astype('bool')"
   ]
  },
  {
   "cell_type": "markdown",
   "metadata": {},
   "source": [
    "Предполагаю что люди не указывали апартаменты, или нет, исходя из того что у них не апартамены, и поэтому указывать не нужно. Заменяю пропуски на False, и меняю тип данных."
   ]
  },
  {
   "cell_type": "code",
   "execution_count": 10,
   "metadata": {},
   "outputs": [],
   "source": [
    "realty = realty.query('ceiling_height != [1.2, 1.75, 1, 100]')"
   ]
  },
  {
   "cell_type": "markdown",
   "metadata": {},
   "source": [
    "\n",
    "Убрали аномалии.\n"
   ]
  },
  {
   "cell_type": "code",
   "execution_count": 11,
   "metadata": {},
   "outputs": [],
   "source": [
    "realty['ceiling_height'] = realty['ceiling_height'].fillna(realty['ceiling_height'].median())"
   ]
  },
  {
   "cell_type": "markdown",
   "metadata": {},
   "source": [
    "Заполнил пропуски в высоте потолков медианными значениями. Предполагаю что в пропусках нет выдающихся значений и поэтом люди не уточняли при заполнении формы."
   ]
  },
  {
   "cell_type": "code",
   "execution_count": 12,
   "metadata": {},
   "outputs": [],
   "source": [
    "realty['kitchen_area'] = realty['kitchen_area'].fillna(realty['kitchen_area'].median()).astype(int)"
   ]
  },
  {
   "cell_type": "markdown",
   "metadata": {},
   "source": [
    "Заполнил пропуски в площади кухни медианными значениями, поменял тип данных."
   ]
  },
  {
   "cell_type": "code",
   "execution_count": 13,
   "metadata": {},
   "outputs": [],
   "source": [
    "realty.dropna(subset=['floors_total'], inplace = True)\n",
    "realty.dropna(subset=['locality_name'], inplace = True)"
   ]
  },
  {
   "cell_type": "markdown",
   "metadata": {},
   "source": [
    "Удалил строки с пропусками в колонках “всего этажей” и с названием населенного пункта. Потерял 134 строки несущественно для выборки. Предполагаю что пропуски возникли в результате не внимательности при заполнении."
   ]
  },
  {
   "cell_type": "code",
   "execution_count": 14,
   "metadata": {},
   "outputs": [
    {
     "data": {
      "text/plain": [
       "0.8461069248002078"
      ]
     },
     "execution_count": 14,
     "metadata": {},
     "output_type": "execute_result"
    }
   ],
   "source": [
    "realty['living_area'].corr(realty['rooms'])"
   ]
  },
  {
   "cell_type": "markdown",
   "metadata": {},
   "source": [
    "Есть корреляция между числом комнат и жилой площадью."
   ]
  },
  {
   "cell_type": "code",
   "execution_count": 15,
   "metadata": {},
   "outputs": [
    {
     "data": {
      "text/html": [
       "<div>\n",
       "<style scoped>\n",
       "    .dataframe tbody tr th:only-of-type {\n",
       "        vertical-align: middle;\n",
       "    }\n",
       "\n",
       "    .dataframe tbody tr th {\n",
       "        vertical-align: top;\n",
       "    }\n",
       "\n",
       "    .dataframe thead th {\n",
       "        text-align: right;\n",
       "    }\n",
       "</style>\n",
       "<table border=\"1\" class=\"dataframe\">\n",
       "  <thead>\n",
       "    <tr style=\"text-align: right;\">\n",
       "      <th></th>\n",
       "      <th>median</th>\n",
       "    </tr>\n",
       "    <tr>\n",
       "      <th>rooms</th>\n",
       "      <th></th>\n",
       "    </tr>\n",
       "  </thead>\n",
       "  <tbody>\n",
       "    <tr>\n",
       "      <td>0</td>\n",
       "      <td>18.000</td>\n",
       "    </tr>\n",
       "    <tr>\n",
       "      <td>1</td>\n",
       "      <td>17.600</td>\n",
       "    </tr>\n",
       "    <tr>\n",
       "      <td>2</td>\n",
       "      <td>30.500</td>\n",
       "    </tr>\n",
       "    <tr>\n",
       "      <td>3</td>\n",
       "      <td>45.000</td>\n",
       "    </tr>\n",
       "    <tr>\n",
       "      <td>4</td>\n",
       "      <td>63.650</td>\n",
       "    </tr>\n",
       "    <tr>\n",
       "      <td>5</td>\n",
       "      <td>91.785</td>\n",
       "    </tr>\n",
       "    <tr>\n",
       "      <td>6</td>\n",
       "      <td>124.400</td>\n",
       "    </tr>\n",
       "    <tr>\n",
       "      <td>7</td>\n",
       "      <td>145.000</td>\n",
       "    </tr>\n",
       "    <tr>\n",
       "      <td>8</td>\n",
       "      <td>161.000</td>\n",
       "    </tr>\n",
       "    <tr>\n",
       "      <td>9</td>\n",
       "      <td>179.200</td>\n",
       "    </tr>\n",
       "    <tr>\n",
       "      <td>10</td>\n",
       "      <td>161.400</td>\n",
       "    </tr>\n",
       "    <tr>\n",
       "      <td>11</td>\n",
       "      <td>133.900</td>\n",
       "    </tr>\n",
       "    <tr>\n",
       "      <td>12</td>\n",
       "      <td>409.700</td>\n",
       "    </tr>\n",
       "    <tr>\n",
       "      <td>14</td>\n",
       "      <td>195.150</td>\n",
       "    </tr>\n",
       "    <tr>\n",
       "      <td>15</td>\n",
       "      <td>409.000</td>\n",
       "    </tr>\n",
       "    <tr>\n",
       "      <td>16</td>\n",
       "      <td>180.000</td>\n",
       "    </tr>\n",
       "    <tr>\n",
       "      <td>19</td>\n",
       "      <td>264.500</td>\n",
       "    </tr>\n",
       "  </tbody>\n",
       "</table>\n",
       "</div>"
      ],
      "text/plain": [
       "        median\n",
       "rooms         \n",
       "0       18.000\n",
       "1       17.600\n",
       "2       30.500\n",
       "3       45.000\n",
       "4       63.650\n",
       "5       91.785\n",
       "6      124.400\n",
       "7      145.000\n",
       "8      161.000\n",
       "9      179.200\n",
       "10     161.400\n",
       "11     133.900\n",
       "12     409.700\n",
       "14     195.150\n",
       "15     409.000\n",
       "16     180.000\n",
       "19     264.500"
      ]
     },
     "execution_count": 15,
     "metadata": {},
     "output_type": "execute_result"
    }
   ],
   "source": [
    "rooms_pivot = realty.pivot_table(index='rooms', values='living_area', aggfunc=['median'])\n",
    "rooms_pivot.columns = ['median']\n",
    "rooms_pivot"
   ]
  },
  {
   "cell_type": "markdown",
   "metadata": {},
   "source": [
    "Создал сводную таблицу с медианными значениями жилой площади в зависимости от числа комнат."
   ]
  },
  {
   "cell_type": "code",
   "execution_count": 16,
   "metadata": {},
   "outputs": [],
   "source": [
    "def living_area(data, rooms_pivot):\n",
    "    for k, v in rooms_pivot['median'].items(): \n",
    "        data.loc[(data.loc[:, 'rooms']== k) &(data.loc[:, 'living_area'].isnull()), 'living_area' ] = v\n",
    "living_area(realty, rooms_pivot)        \n",
    "realty['living_area'] = realty['living_area'].astype(int)"
   ]
  },
  {
   "cell_type": "markdown",
   "metadata": {},
   "source": [
    "Заменяю пропуски в колонке с жилой площадью на значения из ранее созданной таблицы. Предполагаю что клиенты не стали уточнять эту информацию"
   ]
  },
  {
   "cell_type": "code",
   "execution_count": 17,
   "metadata": {
    "scrolled": false
   },
   "outputs": [
    {
     "data": {
      "text/plain": [
       "array(['Санкт-Петербург', 'поселок Шушары', 'городской поселок Янино-1',\n",
       "       'поселок Парголово', 'поселок Мурино', 'Ломоносов', 'Сертолово',\n",
       "       'Петергоф', 'Пушкин', 'деревня Кудрово', 'Коммунар', 'Колпино',\n",
       "       'поселок городского типа Красный Бор', 'Гатчина',\n",
       "       'деревня Фёдоровское', 'Выборг', 'Кронштадт', 'Кировск',\n",
       "       'деревня Новое Девяткино', 'поселок Металлострой',\n",
       "       'поселок городского типа Лебяжье',\n",
       "       'поселок городского типа Сиверский', 'поселок Молодцово',\n",
       "       'поселок городского типа Кузьмоловский',\n",
       "       'садовое товарищество Новая Ропша', 'Павловск',\n",
       "       'деревня Пикколово', 'Всеволожск', 'Волхов', 'Кингисепп',\n",
       "       'Приозерск', 'Сестрорецк', 'деревня Куттузи', 'поселок Аннино',\n",
       "       'поселок городского типа Ефимовский', 'поселок Плодовое',\n",
       "       'деревня Заклинье', 'поселок Торковичи', 'поселок Первомайское',\n",
       "       'Красное Село', 'поселок Понтонный', 'Сясьстрой', 'деревня Старая',\n",
       "       'деревня Лесколово', 'поселок Новый Свет', 'Сланцы',\n",
       "       'село Путилово', 'Ивангород', 'Мурино', 'Шлиссельбург',\n",
       "       'Никольское', 'Зеленогорск', 'Сосновый Бор', 'деревня Оржицы',\n",
       "       'деревня Кальтино', 'Кудрово', 'поселок Романовка',\n",
       "       'поселок Бугры', 'поселок городского типа Рощино', 'Кириши',\n",
       "       'Луга', 'Волосово', 'Отрадное', 'село Павлово', 'поселок Оредеж',\n",
       "       'село Копорье', 'поселок Молодёжное', 'Тихвин', 'поселок Победа',\n",
       "       'деревня Нурма', 'поселок городского типа Синявино', 'Тосно',\n",
       "       'поселок Стрельна', 'Бокситогорск', 'поселок Александровская',\n",
       "       'деревня Лопухинка', 'Пикалёво', 'поселок Терволово',\n",
       "       'поселок городского типа Советский', 'Подпорожье',\n",
       "       'поселок Петровское', 'поселок городского типа Токсово',\n",
       "       'поселок Сельцо', 'поселок городского типа Вырица',\n",
       "       'деревня Кипень', 'деревня Келози', 'деревня Вартемяги',\n",
       "       'поселок Тельмана', 'поселок Севастьяново',\n",
       "       'городской поселок Большая Ижора', 'городской поселок Павлово',\n",
       "       'деревня Агалатово', 'поселок Новогорелово',\n",
       "       'городской поселок Лесогорский', 'деревня Лаголово',\n",
       "       'поселок Цвелодубово', 'поселок городского типа Рахья',\n",
       "       'деревня Белогорка', 'поселок Заводской',\n",
       "       'городской поселок Новоселье', 'деревня Большие Колпаны',\n",
       "       'деревня Горбунки', 'деревня Батово', 'деревня Заневка',\n",
       "       'деревня Иссад', 'Приморск', 'городской поселок Фёдоровское',\n",
       "       'деревня Мистолово', 'Новая Ладога', 'поселок Зимитицы',\n",
       "       'поселок Барышево', 'деревня Разметелево',\n",
       "       'поселок городского типа имени Свердлова', 'деревня Пеники',\n",
       "       'поселок Рябово', 'деревня Пудомяги', 'поселок станции Корнево',\n",
       "       'деревня Низино', 'деревня Бегуницы', 'поселок Поляны',\n",
       "       'городской поселок Мга', 'поселок Елизаветино',\n",
       "       'поселок городского типа Кузнечное', 'деревня Колтуши',\n",
       "       'поселок Запорожское', 'деревня Гостилицы',\n",
       "       'деревня Малое Карлино', 'поселок Мичуринское',\n",
       "       'поселок городского типа имени Морозова', 'поселок Песочный',\n",
       "       'поселок Сосново', 'деревня Аро', 'поселок Ильичёво',\n",
       "       'поселок городского типа Тайцы', 'деревня Малое Верево',\n",
       "       'деревня Извара', 'поселок станции Вещево', 'село Паша',\n",
       "       'деревня Калитино', 'поселок городского типа Ульяновка',\n",
       "       'деревня Чудской Бор', 'поселок городского типа Дубровка',\n",
       "       'деревня Мины', 'поселок Войсковицы', 'деревня Коркино',\n",
       "       'поселок Ропша', 'поселок городского типа Приладожский',\n",
       "       'поселок Щеглово', 'поселок Гаврилово', 'Лодейное Поле',\n",
       "       'деревня Рабитицы', 'поселок городского типа Никольский',\n",
       "       'деревня Кузьмолово', 'деревня Малые Колпаны',\n",
       "       'поселок Петро-Славянка', 'городской поселок Назия',\n",
       "       'поселок Репино', 'поселок Углово', 'поселок Старая Малукса',\n",
       "       'садовое товарищество Рахья', 'деревня Меньково',\n",
       "       'деревня Старые Бегуницы', 'поселок Сапёрный', 'поселок Семрино',\n",
       "       'поселок Глажево', 'поселок Кобринское', 'деревня Гарболово',\n",
       "       'деревня Юкки', 'поселок станции Приветнинское',\n",
       "       'деревня Мануйлово', 'деревня Пчева', 'поселок Цвылёво',\n",
       "       'поселок Мельниково', 'поселок Пудость', 'поселок Усть-Луга',\n",
       "       'Светогорск', 'Любань', 'поселок Селезнёво',\n",
       "       'поселок городского типа Рябово', 'Каменногорск', 'деревня Кривко',\n",
       "       'поселок Глебычево', 'деревня Парицы', 'поселок Жилпоселок',\n",
       "       'поселок городского типа Мга', 'поселок Войскорово',\n",
       "       'село Никольское', 'поселок Стеклянный',\n",
       "       'поселок городского типа Важины', 'поселок Мыза-Ивановка',\n",
       "       'село Русско-Высоцкое', 'поселок городского типа Форносово',\n",
       "       'село Старая Ладога', 'поселок Житково',\n",
       "       'городской поселок Виллози', 'деревня Лампово',\n",
       "       'деревня Шпаньково', 'деревня Лаврики', 'поселок Сумино',\n",
       "       'поселок Возрождение', 'деревня Старосиверская',\n",
       "       'поселок Кикерино', 'деревня Старое Хинколово',\n",
       "       'поселок Пригородный', 'поселок Торфяное',\n",
       "       'городской поселок Будогощь', 'поселок Суходолье',\n",
       "       'поселок Красная Долина', 'деревня Хапо-Ое',\n",
       "       'поселок городского типа Дружная Горка', 'поселок Лисий Нос',\n",
       "       'деревня Яльгелево', 'село Рождествено', 'деревня Старополье',\n",
       "       'поселок Левашово', 'деревня Сяськелево', 'деревня Камышовка',\n",
       "       'садоводческое некоммерческое товарищество Лесная Поляна',\n",
       "       'деревня Хязельки', 'поселок Жилгородок',\n",
       "       'поселок городского типа Павлово', 'деревня Ялгино',\n",
       "       'поселок Новый Учхоз', 'городской поселок Рощино',\n",
       "       'поселок Гончарово', 'поселок Почап', 'поселок Сапёрное',\n",
       "       'поселок Платформа 69-й километр', 'поселок Каложицы',\n",
       "       'деревня Фалилеево', 'деревня Пельгора',\n",
       "       'поселок городского типа Лесогорский', 'деревня Торошковичи',\n",
       "       'поселок Белоостров', 'поселок Алексеевка', 'поселок Серебрянский',\n",
       "       'поселок Лукаши', 'деревня Щеглово', 'деревня Тарасово',\n",
       "       'поселок Кингисеппский',\n",
       "       'поселок при железнодорожной станции Вещево', 'поселок Ушаки',\n",
       "       'деревня Котлы', 'деревня Сижно', 'деревня Торосово',\n",
       "       'поселок Форт Красная Горка', 'деревня Новолисино',\n",
       "       'поселок станции Громово', 'деревня Глинка',\n",
       "       'поселок городского типа Назия', 'деревня Старая Пустошь',\n",
       "       'поселок Коммунары', 'поселок Починок',\n",
       "       'поселок городского типа Вознесенье', 'деревня Разбегаево',\n",
       "       'поселок Гладкое',\n",
       "       'поселок при железнодорожной станции Приветнинское',\n",
       "       'поселок Тёсово-4', 'деревня Бор', 'поселок Коробицыно',\n",
       "       'деревня Большая Вруда', 'деревня Курковицы',\n",
       "       'городской поселок Советский', 'поселок Кобралово',\n",
       "       'деревня Суоранда', 'поселок городского типа Кондратьево',\n",
       "       'коттеджный поселок Счастье', 'поселок Любань', 'деревня Реброво',\n",
       "       'деревня Зимитицы', 'деревня Тойворово', 'поселок Семиозерье',\n",
       "       'поселок Лесное', 'поселок Совхозный', 'поселок Ленинское',\n",
       "       'поселок Суйда', 'деревня Нижние Осельки', 'поселок станции Свирь',\n",
       "       'поселок Перово', 'Высоцк', 'поселок Гарболово', 'село Шум',\n",
       "       'поселок Котельский', 'поселок станции Лужайка',\n",
       "       'деревня Большая Пустомержа', 'поселок Красносельское',\n",
       "       'деревня Вахнова Кара', 'деревня Пижма',\n",
       "       'коттеджный поселок Кивеннапа Север', 'поселок Ромашки',\n",
       "       'деревня Каськово', 'деревня Куровицы', 'поселок Плоское',\n",
       "       'поселок городского типа Большая Ижора', 'поселок Кирпичное',\n",
       "       'деревня Ям-Тесово', 'деревня Раздолье', 'деревня Терпилицы',\n",
       "       'поселок Шугозеро', 'деревня Ваганово', 'поселок Пушное',\n",
       "       'садовое товарищество Садко', 'поселок Усть-Ижора',\n",
       "       'деревня Выскатка', 'городской поселок Свирьстрой',\n",
       "       'поселок Громово', 'деревня Кисельня', 'деревня Трубников Бор',\n",
       "       'поселок Калитино', 'поселок Высокоключевой',\n",
       "       'садовое товарищество Приладожский',\n",
       "       'поселок Пансионат Зелёный Бор', 'деревня Ненимяки',\n",
       "       'деревня Снегирёвка', 'деревня Рапполово', 'деревня Пустынка',\n",
       "       'поселок Рабитицы', 'деревня Большой Сабск', 'деревня Русско',\n",
       "       'деревня Лупполово', 'деревня Большое Рейзино',\n",
       "       'деревня Малая Романовка', 'поселок Дружноселье', 'поселок Пчевжа',\n",
       "       'поселок Володарское', 'деревня Нижняя',\n",
       "       'коттеджный поселок Лесное', 'деревня Тихковицы',\n",
       "       'деревня Борисова Грива', 'поселок Дзержинского'], dtype=object)"
      ]
     },
     "execution_count": 17,
     "metadata": {},
     "output_type": "execute_result"
    }
   ],
   "source": [
    "realty['locality_name'] = realty['locality_name'].replace('посёлок', 'поселок', regex=True)\n",
    "realty['locality_name'].unique()                                                                              "
   ]
  },
  {
   "cell_type": "markdown",
   "metadata": {},
   "source": [
    "В колонке с названием населенных пунктов, есть двоякое написание \"поселка\" через \"е\" и через \"ё\", исправил."
   ]
  },
  {
   "cell_type": "code",
   "execution_count": 18,
   "metadata": {},
   "outputs": [],
   "source": [
    "realty['floors_total'] = realty['floors_total'].astype(int)"
   ]
  },
  {
   "cell_type": "code",
   "execution_count": 19,
   "metadata": {},
   "outputs": [
    {
     "name": "stdout",
     "output_type": "stream",
     "text": [
      "<class 'pandas.core.frame.DataFrame'>\n",
      "Int64Index: 23561 entries, 0 to 23698\n",
      "Data columns (total 22 columns):\n",
      "total_images            23561 non-null int64\n",
      "last_price              23561 non-null int64\n",
      "total_area              23561 non-null int64\n",
      "first_day_exposition    23561 non-null datetime64[ns]\n",
      "rooms                   23561 non-null int64\n",
      "ceiling_height          23561 non-null float64\n",
      "floors_total            23561 non-null int64\n",
      "living_area             23561 non-null int64\n",
      "floor                   23561 non-null int64\n",
      "is_apartment            23561 non-null bool\n",
      "studio                  23561 non-null bool\n",
      "open_plan               23561 non-null bool\n",
      "kitchen_area            23561 non-null int64\n",
      "balcony                 23561 non-null int64\n",
      "locality_name           23561 non-null object\n",
      "airports_nearest        18038 non-null float64\n",
      "cityCenters_nearest     18061 non-null float64\n",
      "parks_around3000        18062 non-null float64\n",
      "parks_nearest           8028 non-null float64\n",
      "ponds_around3000        18062 non-null float64\n",
      "ponds_nearest           9033 non-null float64\n",
      "days_exposition         20390 non-null float64\n",
      "dtypes: bool(3), datetime64[ns](1), float64(8), int64(9), object(1)\n",
      "memory usage: 3.7+ MB\n"
     ]
    }
   ],
   "source": [
    "realty.info()"
   ]
  },
  {
   "cell_type": "markdown",
   "metadata": {},
   "source": [
    "airports_nearest, cityCenters_nearest, parks_around3000, parks_nearest, ponds_around3000, ponds_nearest, days_exposition Пропуски в этих колонках оставляю, нет подходящих значений или корреляций для заполнения.\n",
    "\n",
    "days_exposition пропуски возникли возможно в связи с тем что объявления все еще размещены."
   ]
  },
  {
   "cell_type": "markdown",
   "metadata": {},
   "source": [
    "### Шаг 3. Посчитаем и добавим в таблицу, новые признаки"
   ]
  },
  {
   "cell_type": "code",
   "execution_count": 20,
   "metadata": {},
   "outputs": [],
   "source": [
    "realty['price_per_meter'] = (realty['last_price'] / realty['total_area']).astype(int)"
   ]
  },
  {
   "cell_type": "markdown",
   "metadata": {},
   "source": [
    "Добавил цену за квадратный метр."
   ]
  },
  {
   "cell_type": "code",
   "execution_count": 21,
   "metadata": {},
   "outputs": [],
   "source": [
    "realty['weekday'] = realty['first_day_exposition'].dt.weekday\n",
    "realty['month'] = realty['first_day_exposition'].dt.month\n",
    "realty['year'] = realty['first_day_exposition'].dt.year"
   ]
  },
  {
   "cell_type": "markdown",
   "metadata": {},
   "source": [
    "Добавил колонки с днем недели, месяцем и годом размещения объявления."
   ]
  },
  {
   "cell_type": "code",
   "execution_count": 22,
   "metadata": {},
   "outputs": [],
   "source": [
    "realty['living_area_and_total'] = realty['living_area'] / realty['total_area']\n",
    "realty['kitchen_area_and_total'] = realty['kitchen_area'] / realty['total_area']"
   ]
  },
  {
   "cell_type": "markdown",
   "metadata": {},
   "source": [
    "Добавил колонки отношения жилой площади к общей, и кухни к общей."
   ]
  },
  {
   "cell_type": "code",
   "execution_count": 23,
   "metadata": {},
   "outputs": [],
   "source": [
    "def floor_type(df):\n",
    "    floor = df['floor']\n",
    "    total_floors = df['floors_total']\n",
    "    if floor == 1:\n",
    "        return 'первый'\n",
    "    elif floor == total_floors:\n",
    "        return 'последний'\n",
    "    elif 1 < floor < total_floors:\n",
    "        return 'другой'\n",
    "\n",
    "realty['floor_type'] = realty.apply(floor_type, axis = 1)"
   ]
  },
  {
   "cell_type": "markdown",
   "metadata": {},
   "source": [
    "Сгруппировал этажи и добавил колонку, где указано на каком этаже расположена квартира относительно всего здания."
   ]
  },
  {
   "cell_type": "markdown",
   "metadata": {},
   "source": [
    "### Шаг 4. Проведем исследовательский анализ данных:"
   ]
  },
  {
   "cell_type": "code",
   "execution_count": 24,
   "metadata": {},
   "outputs": [
    {
     "data": {
      "text/plain": [
       "count    23561.000000\n",
       "mean        60.098553\n",
       "std         35.670603\n",
       "min         12.000000\n",
       "25%         40.000000\n",
       "50%         52.000000\n",
       "75%         69.000000\n",
       "max        900.000000\n",
       "Name: total_area, dtype: float64"
      ]
     },
     "execution_count": 24,
     "metadata": {},
     "output_type": "execute_result"
    },
    {
     "data": {
      "image/png": "[encoded data removed]",
      "text/plain": [
       "<Figure size 576x432 with 1 Axes>"
      ]
     },
     "metadata": {
      "needs_background": "light"
     },
     "output_type": "display_data"
    }
   ],
   "source": [
    "realty['total_area'].hist(bins=60, range=(0, 300), figsize=(8, 6))\n",
    "realty.boxplot('total_area')\n",
    "realty['total_area'].describe()"
   ]
  },
  {
   "cell_type": "markdown",
   "metadata": {},
   "source": [
    "Распределение больше похоже на Пуассона чем на Гаусса, совсем маленьких квартирок почти нет. Есть выбросы свыше 550, возможно значения и правдивые, но не отображают положение рынка, и вносят сильные помехи."
   ]
  },
  {
   "cell_type": "code",
   "execution_count": 25,
   "metadata": {},
   "outputs": [
    {
     "data": {
      "text/plain": [
       "<matplotlib.axes._subplots.AxesSubplot at 0x7f4b0657c090>"
      ]
     },
     "execution_count": 25,
     "metadata": {},
     "output_type": "execute_result"
    },
    {
     "data": {
      "image/png": "[encoded data removed]",
      "text/plain": [
       "<Figure size 432x288 with 1 Axes>"
      ]
     },
     "metadata": {
      "needs_background": "light"
     },
     "output_type": "display_data"
    }
   ],
   "source": [
    "good_realty = realty.query('total_area < 550')\n",
    "good_realty.boxplot('total_area')"
   ]
  },
  {
   "cell_type": "markdown",
   "metadata": {},
   "source": [
    "Отчистил от сильных выбровсов, создал новый data frame"
   ]
  },
  {
   "cell_type": "code",
   "execution_count": 26,
   "metadata": {},
   "outputs": [
    {
     "data": {
      "text/plain": [
       "count    2.355600e+04\n",
       "mean     6.496216e+06\n",
       "std      1.032069e+07\n",
       "min      1.219000e+04\n",
       "25%      3.400000e+06\n",
       "50%      4.642000e+06\n",
       "75%      6.790000e+06\n",
       "max      7.630000e+08\n",
       "Name: last_price, dtype: float64"
      ]
     },
     "execution_count": 26,
     "metadata": {},
     "output_type": "execute_result"
    },
    {
     "data": {
      "image/png": "[encoded data removed]",
      "text/plain": [
       "<Figure size 576x432 with 1 Axes>"
      ]
     },
     "metadata": {
      "needs_background": "light"
     },
     "output_type": "display_data"
    }
   ],
   "source": [
    "(good_realty['last_price'] / 1000000).hist(bins=60, range=(0, 30), figsize=(8, 6))\n",
    "good_realty['last_price'].describe()"
   ]
  },
  {
   "cell_type": "markdown",
   "metadata": {},
   "source": [
    "Распределение Гаусса с большим хвостом в большую сторону. В основном стоимость квартир колеблится в районе 4 миллионов."
   ]
  },
  {
   "cell_type": "code",
   "execution_count": 27,
   "metadata": {},
   "outputs": [
    {
     "data": {
      "text/plain": [
       "count    23556.000000\n",
       "mean         2.069154\n",
       "std          1.072066\n",
       "min          0.000000\n",
       "25%          1.000000\n",
       "50%          2.000000\n",
       "75%          3.000000\n",
       "max         19.000000\n",
       "Name: rooms, dtype: float64"
      ]
     },
     "execution_count": 27,
     "metadata": {},
     "output_type": "execute_result"
    },
    {
     "data": {
      "image/png": "[encoded data removed]",
      "text/plain": [
       "<Figure size 576x432 with 1 Axes>"
      ]
     },
     "metadata": {
      "needs_background": "light"
     },
     "output_type": "display_data"
    }
   ],
   "source": [
    "good_realty['rooms'].hist(bins=10, range=(0, 10), figsize=(8, 6))\n",
    "good_realty['rooms'].describe()"
   ]
  },
  {
   "cell_type": "markdown",
   "metadata": {},
   "source": [
    "В основном продают 1 и 2 комнатные квартиры."
   ]
  },
  {
   "cell_type": "code",
   "execution_count": 28,
   "metadata": {},
   "outputs": [
    {
     "data": {
      "text/plain": [
       "count    23556.000000\n",
       "mean         2.720468\n",
       "std          0.761841\n",
       "min          2.000000\n",
       "25%          2.600000\n",
       "50%          2.650000\n",
       "75%          2.700000\n",
       "max         32.000000\n",
       "Name: ceiling_height, dtype: float64"
      ]
     },
     "execution_count": 28,
     "metadata": {},
     "output_type": "execute_result"
    },
    {
     "data": {
      "image/png": "[encoded data removed]",
      "text/plain": [
       "<Figure size 576x432 with 1 Axes>"
      ]
     },
     "metadata": {
      "needs_background": "light"
     },
     "output_type": "display_data"
    }
   ],
   "source": [
    "good_realty['ceiling_height'].hist(bins=6, range=(2, 5), figsize=(8, 6))\n",
    "good_realty['ceiling_height'].describe()"
   ]
  },
  {
   "cell_type": "markdown",
   "metadata": {},
   "source": [
    "У большенства квартир потолки высотой в районе 2.65 метров. Есть и намного больше."
   ]
  },
  {
   "cell_type": "code",
   "execution_count": 29,
   "metadata": {},
   "outputs": [
    {
     "data": {
      "text/plain": [
       "(1, 1600)"
      ]
     },
     "execution_count": 29,
     "metadata": {},
     "output_type": "execute_result"
    },
    {
     "data": {
      "image/png": "[encoded data removed]",
      "text/plain": [
       "<Figure size 432x288 with 1 Axes>"
      ]
     },
     "metadata": {
      "needs_background": "light"
     },
     "output_type": "display_data"
    }
   ],
   "source": [
    "good_realty.boxplot('days_exposition')\n",
    "plt.ylim(1,1600)"
   ]
  },
  {
   "cell_type": "code",
   "execution_count": 30,
   "metadata": {},
   "outputs": [
    {
     "data": {
      "text/plain": [
       "count    20387.000000\n",
       "mean       180.774906\n",
       "std        219.758324\n",
       "min          1.000000\n",
       "25%         45.000000\n",
       "50%         95.000000\n",
       "75%        231.000000\n",
       "max       1580.000000\n",
       "Name: days_exposition, dtype: float64"
      ]
     },
     "execution_count": 30,
     "metadata": {},
     "output_type": "execute_result"
    }
   ],
   "source": [
    "good_realty['days_exposition'].describe()"
   ]
  },
  {
   "cell_type": "code",
   "execution_count": 31,
   "metadata": {},
   "outputs": [
    {
     "data": {
      "text/plain": [
       "<matplotlib.axes._subplots.AxesSubplot at 0x7f4b05d42e90>"
      ]
     },
     "execution_count": 31,
     "metadata": {},
     "output_type": "execute_result"
    },
    {
     "data": {
      "image/png": "[encoded data removed]",
      "text/plain": [
       "<Figure size 1152x648 with 1 Axes>"
      ]
     },
     "metadata": {
      "needs_background": "light"
     },
     "output_type": "display_data"
    },
    {
     "data": {
      "image/png": "[encoded data removed]",
      "text/plain": [
       "<Figure size 576x432 with 1 Axes>"
      ]
     },
     "metadata": {
      "needs_background": "light"
     },
     "output_type": "display_data"
    }
   ],
   "source": [
    "good_realty.plot(y='days_exposition', kind='hist', bins=400, grid=True, figsize=(16, 9))\n",
    "good_realty.plot(y='days_exposition', kind='hist', bins=200, grid=True, range=(0, 100), figsize=(8, 6))"
   ]
  },
  {
   "cell_type": "markdown",
   "metadata": {},
   "source": [
    "Половину квартир продают за 3 месяца, четверть продаж за полтора месяца. У нас длинный хвост на диаграмме, поэтому среднее значение в полгода скорее можно считать долгими продажами."
   ]
  },
  {
   "cell_type": "markdown",
   "metadata": {},
   "source": [
    "Есть выбровы на 7, 30, 60, 45 и 90 дней. Не вижу закономерности, нужно поинтересоваться у тех кто собирал данные. А пока буду удалять."
   ]
  },
  {
   "cell_type": "code",
   "execution_count": 32,
   "metadata": {},
   "outputs": [],
   "source": [
    "good_realty = good_realty.query('days_exposition not in (7,30,60,45.00000000000001, 90.00000000000001)')\n",
    "good_realty = good_realty.query('days_exposition < 730')"
   ]
  },
  {
   "cell_type": "code",
   "execution_count": 33,
   "metadata": {},
   "outputs": [
    {
     "data": {
      "text/plain": [
       "count    17581.000000\n",
       "mean       162.979523\n",
       "std        160.757038\n",
       "min          1.000000\n",
       "25%         43.000000\n",
       "50%        107.000000\n",
       "75%        229.000000\n",
       "max        729.000000\n",
       "Name: days_exposition, dtype: float64"
      ]
     },
     "execution_count": 33,
     "metadata": {},
     "output_type": "execute_result"
    }
   ],
   "source": [
    "good_realty['days_exposition'].describe()"
   ]
  },
  {
   "cell_type": "markdown",
   "metadata": {},
   "source": [
    "Удалил верхний хвост и выбивающиеся значения"
   ]
  },
  {
   "cell_type": "code",
   "execution_count": 34,
   "metadata": {
    "scrolled": false
   },
   "outputs": [
    {
     "data": {
      "text/plain": [
       "<matplotlib.axes._subplots.AxesSubplot at 0x7f4b0594fa90>"
      ]
     },
     "execution_count": 34,
     "metadata": {},
     "output_type": "execute_result"
    },
    {
     "data": {
      "image/png": "[encoded data removed]",
      "text/plain": [
       "<Figure size 1152x648 with 1 Axes>"
      ]
     },
     "metadata": {
      "needs_background": "light"
     },
     "output_type": "display_data"
    },
    {
     "data": {
      "image/png": "[encoded data removed]",
      "text/plain": [
       "<Figure size 576x432 with 1 Axes>"
      ]
     },
     "metadata": {
      "needs_background": "light"
     },
     "output_type": "display_data"
    }
   ],
   "source": [
    "good_realty.plot(y='days_exposition', kind='hist', bins=400, grid=True, figsize=(16, 9))\n",
    "good_realty.plot(y='days_exposition', kind='hist', bins=200, grid=True, range=(0, 100), figsize=(8, 6))"
   ]
  },
  {
   "cell_type": "code",
   "execution_count": 35,
   "metadata": {},
   "outputs": [
    {
     "data": {
      "text/plain": [
       "0.13776360961255518"
      ]
     },
     "execution_count": 35,
     "metadata": {},
     "output_type": "execute_result"
    }
   ],
   "source": [
    "(realty['days_exposition'].count() - good_realty['days_exposition'].count()) / realty['days_exposition'].count()"
   ]
  },
  {
   "cell_type": "markdown",
   "metadata": {},
   "source": [
    "<div class=\"alert alert-info\" role=\"alert\">\n",
    "13.8% данных потеряно\n",
    "</div>"
   ]
  },
  {
   "cell_type": "code",
   "execution_count": 36,
   "metadata": {},
   "outputs": [
    {
     "data": {
      "text/plain": [
       "0.296228017347031"
      ]
     },
     "execution_count": 36,
     "metadata": {},
     "output_type": "execute_result"
    }
   ],
   "source": [
    "good_realty['price_per_meter'].corr(good_realty['total_area'])"
   ]
  },
  {
   "cell_type": "code",
   "execution_count": 37,
   "metadata": {},
   "outputs": [],
   "source": [
    "def plot_constrctor(index):\n",
    "    (good_realty.pivot_table(index=index, values='price_per_meter',\n",
    "                             aggfunc=['median']).plot(grid=True))\n"
   ]
  },
  {
   "cell_type": "code",
   "execution_count": 38,
   "metadata": {},
   "outputs": [
    {
     "data": {
      "text/plain": [
       "<matplotlib.axes._subplots.AxesSubplot at 0x7f4b05737c10>"
      ]
     },
     "execution_count": 38,
     "metadata": {},
     "output_type": "execute_result"
    },
    {
     "data": {
      "image/png": "[encoded data removed]",
      "text/plain": [
       "<Figure size 432x288 with 1 Axes>"
      ]
     },
     "metadata": {
      "needs_background": "light"
     },
     "output_type": "display_data"
    }
   ],
   "source": [
    "good_realty.plot(kind = 'scatter', y = 'price_per_meter', x = 'total_area', alpha = 0.04)"
   ]
  },
  {
   "cell_type": "markdown",
   "metadata": {},
   "source": [
    "Прямой зависимости между общей площадью и ценой за метр нет."
   ]
  },
  {
   "cell_type": "code",
   "execution_count": 39,
   "metadata": {},
   "outputs": [
    {
     "data": {
      "text/plain": [
       "0.044031614303159945"
      ]
     },
     "execution_count": 39,
     "metadata": {},
     "output_type": "execute_result"
    }
   ],
   "source": [
    "good_realty['price_per_meter'].corr(good_realty['rooms'])"
   ]
  },
  {
   "cell_type": "code",
   "execution_count": 40,
   "metadata": {},
   "outputs": [
    {
     "data": {
      "image/png": "[encoded data removed]",
      "text/plain": [
       "<Figure size 432x288 with 1 Axes>"
      ]
     },
     "metadata": {
      "needs_background": "light"
     },
     "output_type": "display_data"
    }
   ],
   "source": [
    "plot_constrctor(good_realty['rooms'])"
   ]
  },
  {
   "cell_type": "markdown",
   "metadata": {},
   "source": [
    "Прямой корреляции нет, но по графику можно заметить что, квадратный метр дешевле в трех комнатных квартирах."
   ]
  },
  {
   "cell_type": "code",
   "execution_count": 41,
   "metadata": {},
   "outputs": [
    {
     "data": {
      "image/png": "[encoded data removed]",
      "text/plain": [
       "<Figure size 432x288 with 1 Axes>"
      ]
     },
     "metadata": {
      "needs_background": "light"
     },
     "output_type": "display_data"
    }
   ],
   "source": [
    "plot_constrctor(good_realty['floor_type'])"
   ]
  },
  {
   "cell_type": "markdown",
   "metadata": {},
   "source": [
    "Квартиры на первом этаже самые дешевые."
   ]
  },
  {
   "cell_type": "code",
   "execution_count": 42,
   "metadata": {},
   "outputs": [
    {
     "data": {
      "text/plain": [
       "-0.3159323363896825"
      ]
     },
     "execution_count": 42,
     "metadata": {},
     "output_type": "execute_result"
    }
   ],
   "source": [
    "good_realty['price_per_meter'].corr(good_realty['cityCenters_nearest'])"
   ]
  },
  {
   "cell_type": "code",
   "execution_count": 43,
   "metadata": {},
   "outputs": [
    {
     "data": {
      "text/plain": [
       "<matplotlib.axes._subplots.AxesSubplot at 0x7f4b06267c10>"
      ]
     },
     "execution_count": 43,
     "metadata": {},
     "output_type": "execute_result"
    },
    {
     "data": {
      "image/png": "[encoded data removed]",
      "text/plain": [
       "<Figure size 432x288 with 1 Axes>"
      ]
     },
     "metadata": {
      "needs_background": "light"
     },
     "output_type": "display_data"
    }
   ],
   "source": [
    "good_realty.plot(kind = 'hist', y = 'price_per_meter', x = 'cityCenters_nearest')\n"
   ]
  },
  {
   "cell_type": "markdown",
   "metadata": {},
   "source": [
    "В центре квартиры намного дороже."
   ]
  },
  {
   "cell_type": "code",
   "execution_count": 44,
   "metadata": {},
   "outputs": [
    {
     "data": {
      "text/plain": [
       "-0.0031510029324702754"
      ]
     },
     "execution_count": 44,
     "metadata": {},
     "output_type": "execute_result"
    }
   ],
   "source": [
    "good_realty['price_per_meter'].corr(good_realty['weekday'])"
   ]
  },
  {
   "cell_type": "code",
   "execution_count": 45,
   "metadata": {},
   "outputs": [
    {
     "data": {
      "image/png": "[encoded data removed]",
      "text/plain": [
       "<Figure size 432x288 with 1 Axes>"
      ]
     },
     "metadata": {
      "needs_background": "light"
     },
     "output_type": "display_data"
    }
   ],
   "source": [
    "plot_constrctor(good_realty['weekday'])"
   ]
  },
  {
   "cell_type": "markdown",
   "metadata": {},
   "source": [
    "К воскресенью цены снижаются, а в среду наоборот растут."
   ]
  },
  {
   "cell_type": "code",
   "execution_count": 46,
   "metadata": {},
   "outputs": [
    {
     "data": {
      "text/plain": [
       "-0.005421970874801046"
      ]
     },
     "execution_count": 46,
     "metadata": {},
     "output_type": "execute_result"
    }
   ],
   "source": [
    "good_realty['price_per_meter'].corr(good_realty['month'])"
   ]
  },
  {
   "cell_type": "code",
   "execution_count": 47,
   "metadata": {},
   "outputs": [
    {
     "data": {
      "image/png": "[encoded data removed]",
      "text/plain": [
       "<Figure size 432x288 with 1 Axes>"
      ]
     },
     "metadata": {
      "needs_background": "light"
     },
     "output_type": "display_data"
    }
   ],
   "source": [
    "plot_constrctor(good_realty['month'])"
   ]
  },
  {
   "cell_type": "markdown",
   "metadata": {},
   "source": [
    "В июне и декабре самые низкие цены. Январь и август самые не выгодные месяцы для покупки квартиры."
   ]
  },
  {
   "cell_type": "code",
   "execution_count": 48,
   "metadata": {},
   "outputs": [
    {
     "data": {
      "text/plain": [
       "0.012843015407447094"
      ]
     },
     "execution_count": 48,
     "metadata": {},
     "output_type": "execute_result"
    }
   ],
   "source": [
    "good_realty['price_per_meter'].corr(good_realty['year'])"
   ]
  },
  {
   "cell_type": "code",
   "execution_count": 49,
   "metadata": {},
   "outputs": [
    {
     "data": {
      "image/png": "[encoded data removed]",
      "text/plain": [
       "<Figure size 432x288 with 1 Axes>"
      ]
     },
     "metadata": {
      "needs_background": "light"
     },
     "output_type": "display_data"
    }
   ],
   "source": [
    "plot_constrctor(good_realty['year'])"
   ]
  },
  {
   "cell_type": "code",
   "execution_count": 50,
   "metadata": {},
   "outputs": [
    {
     "data": {
      "text/plain": [
       "2017    7158\n",
       "2018    6457\n",
       "2016    2293\n",
       "2019     928\n",
       "2015     701\n",
       "2014      44\n",
       "Name: year, dtype: int64"
      ]
     },
     "execution_count": 50,
     "metadata": {},
     "output_type": "execute_result"
    }
   ],
   "source": [
    "good_realty['year'].value_counts()"
   ]
  },
  {
   "cell_type": "markdown",
   "metadata": {},
   "source": [
    "В 2014 году объявлений совсем мало, выборка не валидна.\n"
   ]
  },
  {
   "cell_type": "code",
   "execution_count": 51,
   "metadata": {},
   "outputs": [
    {
     "data": {
      "text/html": [
       "<div>\n",
       "<style scoped>\n",
       "    .dataframe tbody tr th:only-of-type {\n",
       "        vertical-align: middle;\n",
       "    }\n",
       "\n",
       "    .dataframe tbody tr th {\n",
       "        vertical-align: top;\n",
       "    }\n",
       "\n",
       "    .dataframe thead th {\n",
       "        text-align: right;\n",
       "    }\n",
       "</style>\n",
       "<table border=\"1\" class=\"dataframe\">\n",
       "  <thead>\n",
       "    <tr style=\"text-align: right;\">\n",
       "      <th></th>\n",
       "      <th>mean</th>\n",
       "      <th>count</th>\n",
       "    </tr>\n",
       "    <tr>\n",
       "      <th>locality_name</th>\n",
       "      <th></th>\n",
       "      <th></th>\n",
       "    </tr>\n",
       "  </thead>\n",
       "  <tbody>\n",
       "    <tr>\n",
       "      <td>Санкт-Петербург</td>\n",
       "      <td>112302.387664</td>\n",
       "      <td>11835</td>\n",
       "    </tr>\n",
       "    <tr>\n",
       "      <td>поселок Мурино</td>\n",
       "      <td>86251.395010</td>\n",
       "      <td>481</td>\n",
       "    </tr>\n",
       "    <tr>\n",
       "      <td>поселок Шушары</td>\n",
       "      <td>78373.504323</td>\n",
       "      <td>347</td>\n",
       "    </tr>\n",
       "    <tr>\n",
       "      <td>Всеволожск</td>\n",
       "      <td>69094.491468</td>\n",
       "      <td>293</td>\n",
       "    </tr>\n",
       "    <tr>\n",
       "      <td>Пушкин</td>\n",
       "      <td>103131.335821</td>\n",
       "      <td>268</td>\n",
       "    </tr>\n",
       "    <tr>\n",
       "      <td>Колпино</td>\n",
       "      <td>75380.018727</td>\n",
       "      <td>267</td>\n",
       "    </tr>\n",
       "    <tr>\n",
       "      <td>поселок Парголово</td>\n",
       "      <td>90054.291339</td>\n",
       "      <td>254</td>\n",
       "    </tr>\n",
       "    <tr>\n",
       "      <td>деревня Кудрово</td>\n",
       "      <td>92892.752033</td>\n",
       "      <td>246</td>\n",
       "    </tr>\n",
       "    <tr>\n",
       "      <td>Гатчина</td>\n",
       "      <td>67668.524229</td>\n",
       "      <td>227</td>\n",
       "    </tr>\n",
       "    <tr>\n",
       "      <td>Выборг</td>\n",
       "      <td>57213.964706</td>\n",
       "      <td>170</td>\n",
       "    </tr>\n",
       "  </tbody>\n",
       "</table>\n",
       "</div>"
      ],
      "text/plain": [
       "                            mean  count\n",
       "locality_name                          \n",
       "Санкт-Петербург    112302.387664  11835\n",
       "поселок Мурино      86251.395010    481\n",
       "поселок Шушары      78373.504323    347\n",
       "Всеволожск          69094.491468    293\n",
       "Пушкин             103131.335821    268\n",
       "Колпино             75380.018727    267\n",
       "поселок Парголово   90054.291339    254\n",
       "деревня Кудрово     92892.752033    246\n",
       "Гатчина             67668.524229    227\n",
       "Выборг              57213.964706    170"
      ]
     },
     "execution_count": 51,
     "metadata": {},
     "output_type": "execute_result"
    }
   ],
   "source": [
    "good_realty_ten = good_realty.pivot_table(index='locality_name', values='price_per_meter', aggfunc=['mean', 'count'])\n",
    "good_realty_ten.columns = ['mean', 'count']\n",
    "good_realty_ten = good_realty_ten.sort_values('count', ascending=False).head(10)\n",
    "good_realty_ten"
   ]
  },
  {
   "cell_type": "code",
   "execution_count": 52,
   "metadata": {},
   "outputs": [
    {
     "data": {
      "text/html": [
       "<div>\n",
       "<style scoped>\n",
       "    .dataframe tbody tr th:only-of-type {\n",
       "        vertical-align: middle;\n",
       "    }\n",
       "\n",
       "    .dataframe tbody tr th {\n",
       "        vertical-align: top;\n",
       "    }\n",
       "\n",
       "    .dataframe thead th {\n",
       "        text-align: right;\n",
       "    }\n",
       "</style>\n",
       "<table border=\"1\" class=\"dataframe\">\n",
       "  <thead>\n",
       "    <tr style=\"text-align: right;\">\n",
       "      <th></th>\n",
       "      <th>mean</th>\n",
       "      <th>count</th>\n",
       "    </tr>\n",
       "    <tr>\n",
       "      <th>locality_name</th>\n",
       "      <th></th>\n",
       "      <th></th>\n",
       "    </tr>\n",
       "  </thead>\n",
       "  <tbody>\n",
       "    <tr>\n",
       "      <td>Санкт-Петербург</td>\n",
       "      <td>112302.387664</td>\n",
       "      <td>11835</td>\n",
       "    </tr>\n",
       "  </tbody>\n",
       "</table>\n",
       "</div>"
      ],
      "text/plain": [
       "                          mean  count\n",
       "locality_name                        \n",
       "Санкт-Петербург  112302.387664  11835"
      ]
     },
     "execution_count": 52,
     "metadata": {},
     "output_type": "execute_result"
    }
   ],
   "source": [
    "good_realty_ten.query('mean == mean.max()')"
   ]
  },
  {
   "cell_type": "code",
   "execution_count": 53,
   "metadata": {},
   "outputs": [
    {
     "data": {
      "text/html": [
       "<div>\n",
       "<style scoped>\n",
       "    .dataframe tbody tr th:only-of-type {\n",
       "        vertical-align: middle;\n",
       "    }\n",
       "\n",
       "    .dataframe tbody tr th {\n",
       "        vertical-align: top;\n",
       "    }\n",
       "\n",
       "    .dataframe thead th {\n",
       "        text-align: right;\n",
       "    }\n",
       "</style>\n",
       "<table border=\"1\" class=\"dataframe\">\n",
       "  <thead>\n",
       "    <tr style=\"text-align: right;\">\n",
       "      <th></th>\n",
       "      <th>mean</th>\n",
       "      <th>count</th>\n",
       "    </tr>\n",
       "    <tr>\n",
       "      <th>locality_name</th>\n",
       "      <th></th>\n",
       "      <th></th>\n",
       "    </tr>\n",
       "  </thead>\n",
       "  <tbody>\n",
       "    <tr>\n",
       "      <td>Выборг</td>\n",
       "      <td>57213.964706</td>\n",
       "      <td>170</td>\n",
       "    </tr>\n",
       "  </tbody>\n",
       "</table>\n",
       "</div>"
      ],
      "text/plain": [
       "                       mean  count\n",
       "locality_name                     \n",
       "Выборг         57213.964706    170"
      ]
     },
     "execution_count": 53,
     "metadata": {},
     "output_type": "execute_result"
    }
   ],
   "source": [
    "good_realty_ten.query('mean == mean.min()')"
   ]
  },
  {
   "cell_type": "markdown",
   "metadata": {},
   "source": [
    "Сделал таблицу из 10 самых популярных населенных пунктов. Самый дорогой Санкт-Петербург, а самый дешевый из выбранных Выборг."
   ]
  },
  {
   "cell_type": "code",
   "execution_count": 54,
   "metadata": {},
   "outputs": [
    {
     "data": {
      "text/html": [
       "<div>\n",
       "<style scoped>\n",
       "    .dataframe tbody tr th:only-of-type {\n",
       "        vertical-align: middle;\n",
       "    }\n",
       "\n",
       "    .dataframe tbody tr th {\n",
       "        vertical-align: top;\n",
       "    }\n",
       "\n",
       "    .dataframe thead th {\n",
       "        text-align: right;\n",
       "    }\n",
       "</style>\n",
       "<table border=\"1\" class=\"dataframe\">\n",
       "  <thead>\n",
       "    <tr style=\"text-align: right;\">\n",
       "      <th></th>\n",
       "      <th>price_per_meter</th>\n",
       "    </tr>\n",
       "    <tr>\n",
       "      <th>to_center_in_km</th>\n",
       "      <th></th>\n",
       "    </tr>\n",
       "  </thead>\n",
       "  <tbody>\n",
       "    <tr>\n",
       "      <td>0</td>\n",
       "      <td>173519.481481</td>\n",
       "    </tr>\n",
       "    <tr>\n",
       "      <td>1</td>\n",
       "      <td>163017.325581</td>\n",
       "    </tr>\n",
       "    <tr>\n",
       "      <td>2</td>\n",
       "      <td>151691.859756</td>\n",
       "    </tr>\n",
       "    <tr>\n",
       "      <td>3</td>\n",
       "      <td>138404.902857</td>\n",
       "    </tr>\n",
       "    <tr>\n",
       "      <td>4</td>\n",
       "      <td>138114.192708</td>\n",
       "    </tr>\n",
       "    <tr>\n",
       "      <td>5</td>\n",
       "      <td>146067.794872</td>\n",
       "    </tr>\n",
       "    <tr>\n",
       "      <td>6</td>\n",
       "      <td>156486.409639</td>\n",
       "    </tr>\n",
       "    <tr>\n",
       "      <td>7</td>\n",
       "      <td>169010.720930</td>\n",
       "    </tr>\n",
       "    <tr>\n",
       "      <td>8</td>\n",
       "      <td>129391.477273</td>\n",
       "    </tr>\n",
       "    <tr>\n",
       "      <td>9</td>\n",
       "      <td>111785.616162</td>\n",
       "    </tr>\n",
       "    <tr>\n",
       "      <td>10</td>\n",
       "      <td>130642.437500</td>\n",
       "    </tr>\n",
       "    <tr>\n",
       "      <td>11</td>\n",
       "      <td>105464.786667</td>\n",
       "    </tr>\n",
       "    <tr>\n",
       "      <td>12</td>\n",
       "      <td>109447.944444</td>\n",
       "    </tr>\n",
       "    <tr>\n",
       "      <td>13</td>\n",
       "      <td>102185.717703</td>\n",
       "    </tr>\n",
       "    <tr>\n",
       "      <td>14</td>\n",
       "      <td>99433.051020</td>\n",
       "    </tr>\n",
       "    <tr>\n",
       "      <td>15</td>\n",
       "      <td>96640.435897</td>\n",
       "    </tr>\n",
       "    <tr>\n",
       "      <td>16</td>\n",
       "      <td>107371.572464</td>\n",
       "    </tr>\n",
       "    <tr>\n",
       "      <td>17</td>\n",
       "      <td>104221.341463</td>\n",
       "    </tr>\n",
       "    <tr>\n",
       "      <td>18</td>\n",
       "      <td>85766.208333</td>\n",
       "    </tr>\n",
       "    <tr>\n",
       "      <td>19</td>\n",
       "      <td>105046.666667</td>\n",
       "    </tr>\n",
       "    <tr>\n",
       "      <td>20</td>\n",
       "      <td>92834.666667</td>\n",
       "    </tr>\n",
       "    <tr>\n",
       "      <td>21</td>\n",
       "      <td>85602.714286</td>\n",
       "    </tr>\n",
       "    <tr>\n",
       "      <td>25</td>\n",
       "      <td>91410.100000</td>\n",
       "    </tr>\n",
       "    <tr>\n",
       "      <td>28</td>\n",
       "      <td>68473.000000</td>\n",
       "    </tr>\n",
       "  </tbody>\n",
       "</table>\n",
       "</div>"
      ],
      "text/plain": [
       "                 price_per_meter\n",
       "to_center_in_km                 \n",
       "0                  173519.481481\n",
       "1                  163017.325581\n",
       "2                  151691.859756\n",
       "3                  138404.902857\n",
       "4                  138114.192708\n",
       "5                  146067.794872\n",
       "6                  156486.409639\n",
       "7                  169010.720930\n",
       "8                  129391.477273\n",
       "9                  111785.616162\n",
       "10                 130642.437500\n",
       "11                 105464.786667\n",
       "12                 109447.944444\n",
       "13                 102185.717703\n",
       "14                  99433.051020\n",
       "15                  96640.435897\n",
       "16                 107371.572464\n",
       "17                 104221.341463\n",
       "18                  85766.208333\n",
       "19                 105046.666667\n",
       "20                  92834.666667\n",
       "21                  85602.714286\n",
       "25                  91410.100000\n",
       "28                  68473.000000"
      ]
     },
     "execution_count": 54,
     "metadata": {},
     "output_type": "execute_result"
    },
    {
     "data": {
      "image/png": "[encoded data removed]",
      "text/plain": [
       "<Figure size 576x432 with 1 Axes>"
      ]
     },
     "metadata": {
      "needs_background": "light"
     },
     "output_type": "display_data"
    }
   ],
   "source": [
    "good_realty_spb = good_realty.query('locality_name == \"Санкт-Петербург\"').dropna()\n",
    "good_realty_spb['to_center_in_km'] = (good_realty_spb['cityCenters_nearest']/ 1000).astype(int)\n",
    "good_realty_spb_pivot = good_realty_spb.pivot_table(index='to_center_in_km', values='price_per_meter')   \n",
    "good_realty_spb_pivot.plot(grid=True, figsize=(8, 6), title='Зависимость цены от расстояния до центра')\n",
    "good_realty_spb_pivot"
   ]
  },
  {
   "cell_type": "markdown",
   "metadata": {},
   "source": [
    "Сделал таблицу по Санкт-Петербургу, расстояние до цента, округлил до километров. На расстоянии в 3км от центра есть сильная просадка в цене. Дальше следует подъем в цене, и на расстоянии в 8 км. от центра, цены падают еще сильнее, будем считать это центром."
   ]
  },
  {
   "cell_type": "code",
   "execution_count": 55,
   "metadata": {},
   "outputs": [
    {
     "data": {
      "text/html": [
       "<div>\n",
       "<style scoped>\n",
       "    .dataframe tbody tr th:only-of-type {\n",
       "        vertical-align: middle;\n",
       "    }\n",
       "\n",
       "    .dataframe tbody tr th {\n",
       "        vertical-align: top;\n",
       "    }\n",
       "\n",
       "    .dataframe thead th {\n",
       "        text-align: right;\n",
       "    }\n",
       "</style>\n",
       "<table border=\"1\" class=\"dataframe\">\n",
       "  <thead>\n",
       "    <tr style=\"text-align: right;\">\n",
       "      <th></th>\n",
       "      <th>total_images</th>\n",
       "      <th>last_price</th>\n",
       "      <th>total_area</th>\n",
       "      <th>first_day_exposition</th>\n",
       "      <th>rooms</th>\n",
       "      <th>ceiling_height</th>\n",
       "      <th>floors_total</th>\n",
       "      <th>living_area</th>\n",
       "      <th>floor</th>\n",
       "      <th>is_apartment</th>\n",
       "      <th>...</th>\n",
       "      <th>ponds_nearest</th>\n",
       "      <th>days_exposition</th>\n",
       "      <th>price_per_meter</th>\n",
       "      <th>weekday</th>\n",
       "      <th>month</th>\n",
       "      <th>year</th>\n",
       "      <th>living_area_and_total</th>\n",
       "      <th>kitchen_area_and_total</th>\n",
       "      <th>floor_type</th>\n",
       "      <th>to_center_in_km</th>\n",
       "    </tr>\n",
       "  </thead>\n",
       "  <tbody>\n",
       "    <tr>\n",
       "      <td>3</td>\n",
       "      <td>0</td>\n",
       "      <td>64900000</td>\n",
       "      <td>159</td>\n",
       "      <td>2015-07-24</td>\n",
       "      <td>3</td>\n",
       "      <td>2.65</td>\n",
       "      <td>14</td>\n",
       "      <td>45</td>\n",
       "      <td>9</td>\n",
       "      <td>False</td>\n",
       "      <td>...</td>\n",
       "      <td>234.0</td>\n",
       "      <td>424.0</td>\n",
       "      <td>408176</td>\n",
       "      <td>4</td>\n",
       "      <td>7</td>\n",
       "      <td>2015</td>\n",
       "      <td>0.283019</td>\n",
       "      <td>0.056604</td>\n",
       "      <td>другой</td>\n",
       "      <td>6</td>\n",
       "    </tr>\n",
       "    <tr>\n",
       "      <td>24</td>\n",
       "      <td>8</td>\n",
       "      <td>6500000</td>\n",
       "      <td>97</td>\n",
       "      <td>2015-10-31</td>\n",
       "      <td>2</td>\n",
       "      <td>2.65</td>\n",
       "      <td>3</td>\n",
       "      <td>46</td>\n",
       "      <td>1</td>\n",
       "      <td>False</td>\n",
       "      <td>...</td>\n",
       "      <td>124.0</td>\n",
       "      <td>265.0</td>\n",
       "      <td>67010</td>\n",
       "      <td>5</td>\n",
       "      <td>10</td>\n",
       "      <td>2015</td>\n",
       "      <td>0.474227</td>\n",
       "      <td>0.195876</td>\n",
       "      <td>первый</td>\n",
       "      <td>2</td>\n",
       "    </tr>\n",
       "    <tr>\n",
       "      <td>63</td>\n",
       "      <td>2</td>\n",
       "      <td>20000000</td>\n",
       "      <td>118</td>\n",
       "      <td>2018-09-11</td>\n",
       "      <td>3</td>\n",
       "      <td>3.00</td>\n",
       "      <td>9</td>\n",
       "      <td>68</td>\n",
       "      <td>7</td>\n",
       "      <td>False</td>\n",
       "      <td>...</td>\n",
       "      <td>779.0</td>\n",
       "      <td>37.0</td>\n",
       "      <td>169491</td>\n",
       "      <td>1</td>\n",
       "      <td>9</td>\n",
       "      <td>2018</td>\n",
       "      <td>0.576271</td>\n",
       "      <td>0.135593</td>\n",
       "      <td>другой</td>\n",
       "      <td>4</td>\n",
       "    </tr>\n",
       "    <tr>\n",
       "      <td>136</td>\n",
       "      <td>16</td>\n",
       "      <td>6500000</td>\n",
       "      <td>51</td>\n",
       "      <td>2018-08-01</td>\n",
       "      <td>2</td>\n",
       "      <td>3.45</td>\n",
       "      <td>6</td>\n",
       "      <td>25</td>\n",
       "      <td>2</td>\n",
       "      <td>False</td>\n",
       "      <td>...</td>\n",
       "      <td>812.0</td>\n",
       "      <td>163.0</td>\n",
       "      <td>127450</td>\n",
       "      <td>2</td>\n",
       "      <td>8</td>\n",
       "      <td>2018</td>\n",
       "      <td>0.490196</td>\n",
       "      <td>0.137255</td>\n",
       "      <td>другой</td>\n",
       "      <td>3</td>\n",
       "    </tr>\n",
       "    <tr>\n",
       "      <td>137</td>\n",
       "      <td>11</td>\n",
       "      <td>13310800</td>\n",
       "      <td>85</td>\n",
       "      <td>2018-01-01</td>\n",
       "      <td>2</td>\n",
       "      <td>2.70</td>\n",
       "      <td>10</td>\n",
       "      <td>31</td>\n",
       "      <td>5</td>\n",
       "      <td>False</td>\n",
       "      <td>...</td>\n",
       "      <td>133.0</td>\n",
       "      <td>340.0</td>\n",
       "      <td>156597</td>\n",
       "      <td>0</td>\n",
       "      <td>1</td>\n",
       "      <td>2018</td>\n",
       "      <td>0.364706</td>\n",
       "      <td>0.305882</td>\n",
       "      <td>другой</td>\n",
       "      <td>4</td>\n",
       "    </tr>\n",
       "    <tr>\n",
       "      <td>...</td>\n",
       "      <td>...</td>\n",
       "      <td>...</td>\n",
       "      <td>...</td>\n",
       "      <td>...</td>\n",
       "      <td>...</td>\n",
       "      <td>...</td>\n",
       "      <td>...</td>\n",
       "      <td>...</td>\n",
       "      <td>...</td>\n",
       "      <td>...</td>\n",
       "      <td>...</td>\n",
       "      <td>...</td>\n",
       "      <td>...</td>\n",
       "      <td>...</td>\n",
       "      <td>...</td>\n",
       "      <td>...</td>\n",
       "      <td>...</td>\n",
       "      <td>...</td>\n",
       "      <td>...</td>\n",
       "      <td>...</td>\n",
       "      <td>...</td>\n",
       "    </tr>\n",
       "    <tr>\n",
       "      <td>23632</td>\n",
       "      <td>20</td>\n",
       "      <td>5000000</td>\n",
       "      <td>38</td>\n",
       "      <td>2018-06-23</td>\n",
       "      <td>1</td>\n",
       "      <td>2.55</td>\n",
       "      <td>16</td>\n",
       "      <td>17</td>\n",
       "      <td>15</td>\n",
       "      <td>False</td>\n",
       "      <td>...</td>\n",
       "      <td>230.0</td>\n",
       "      <td>113.0</td>\n",
       "      <td>131578</td>\n",
       "      <td>5</td>\n",
       "      <td>6</td>\n",
       "      <td>2018</td>\n",
       "      <td>0.447368</td>\n",
       "      <td>0.236842</td>\n",
       "      <td>другой</td>\n",
       "      <td>7</td>\n",
       "    </tr>\n",
       "    <tr>\n",
       "      <td>23644</td>\n",
       "      <td>7</td>\n",
       "      <td>4990000</td>\n",
       "      <td>62</td>\n",
       "      <td>2018-04-26</td>\n",
       "      <td>2</td>\n",
       "      <td>2.70</td>\n",
       "      <td>4</td>\n",
       "      <td>32</td>\n",
       "      <td>4</td>\n",
       "      <td>False</td>\n",
       "      <td>...</td>\n",
       "      <td>171.0</td>\n",
       "      <td>166.0</td>\n",
       "      <td>80483</td>\n",
       "      <td>3</td>\n",
       "      <td>4</td>\n",
       "      <td>2018</td>\n",
       "      <td>0.516129</td>\n",
       "      <td>0.193548</td>\n",
       "      <td>последний</td>\n",
       "      <td>4</td>\n",
       "    </tr>\n",
       "    <tr>\n",
       "      <td>23648</td>\n",
       "      <td>14</td>\n",
       "      <td>10100000</td>\n",
       "      <td>78</td>\n",
       "      <td>2017-05-12</td>\n",
       "      <td>3</td>\n",
       "      <td>3.27</td>\n",
       "      <td>5</td>\n",
       "      <td>48</td>\n",
       "      <td>5</td>\n",
       "      <td>False</td>\n",
       "      <td>...</td>\n",
       "      <td>117.0</td>\n",
       "      <td>621.0</td>\n",
       "      <td>129487</td>\n",
       "      <td>4</td>\n",
       "      <td>5</td>\n",
       "      <td>2017</td>\n",
       "      <td>0.615385</td>\n",
       "      <td>0.102564</td>\n",
       "      <td>последний</td>\n",
       "      <td>1</td>\n",
       "    </tr>\n",
       "    <tr>\n",
       "      <td>23665</td>\n",
       "      <td>11</td>\n",
       "      <td>4250000</td>\n",
       "      <td>47</td>\n",
       "      <td>2016-05-20</td>\n",
       "      <td>1</td>\n",
       "      <td>2.65</td>\n",
       "      <td>6</td>\n",
       "      <td>18</td>\n",
       "      <td>1</td>\n",
       "      <td>False</td>\n",
       "      <td>...</td>\n",
       "      <td>519.0</td>\n",
       "      <td>131.0</td>\n",
       "      <td>90425</td>\n",
       "      <td>4</td>\n",
       "      <td>5</td>\n",
       "      <td>2016</td>\n",
       "      <td>0.382979</td>\n",
       "      <td>0.297872</td>\n",
       "      <td>первый</td>\n",
       "      <td>4</td>\n",
       "    </tr>\n",
       "    <tr>\n",
       "      <td>23681</td>\n",
       "      <td>13</td>\n",
       "      <td>5250000</td>\n",
       "      <td>43</td>\n",
       "      <td>2018-05-11</td>\n",
       "      <td>2</td>\n",
       "      <td>2.50</td>\n",
       "      <td>5</td>\n",
       "      <td>29</td>\n",
       "      <td>2</td>\n",
       "      <td>False</td>\n",
       "      <td>...</td>\n",
       "      <td>660.0</td>\n",
       "      <td>80.0</td>\n",
       "      <td>122093</td>\n",
       "      <td>4</td>\n",
       "      <td>5</td>\n",
       "      <td>2018</td>\n",
       "      <td>0.674419</td>\n",
       "      <td>0.139535</td>\n",
       "      <td>другой</td>\n",
       "      <td>7</td>\n",
       "    </tr>\n",
       "  </tbody>\n",
       "</table>\n",
       "<p>1204 rows × 30 columns</p>\n",
       "</div>"
      ],
      "text/plain": [
       "       total_images  last_price  total_area first_day_exposition  rooms  \\\n",
       "3                 0    64900000         159           2015-07-24      3   \n",
       "24                8     6500000          97           2015-10-31      2   \n",
       "63                2    20000000         118           2018-09-11      3   \n",
       "136              16     6500000          51           2018-08-01      2   \n",
       "137              11    13310800          85           2018-01-01      2   \n",
       "...             ...         ...         ...                  ...    ...   \n",
       "23632            20     5000000          38           2018-06-23      1   \n",
       "23644             7     4990000          62           2018-04-26      2   \n",
       "23648            14    10100000          78           2017-05-12      3   \n",
       "23665            11     4250000          47           2016-05-20      1   \n",
       "23681            13     5250000          43           2018-05-11      2   \n",
       "\n",
       "       ceiling_height  floors_total  living_area  floor  is_apartment  ...  \\\n",
       "3                2.65            14           45      9         False  ...   \n",
       "24               2.65             3           46      1         False  ...   \n",
       "63               3.00             9           68      7         False  ...   \n",
       "136              3.45             6           25      2         False  ...   \n",
       "137              2.70            10           31      5         False  ...   \n",
       "...               ...           ...          ...    ...           ...  ...   \n",
       "23632            2.55            16           17     15         False  ...   \n",
       "23644            2.70             4           32      4         False  ...   \n",
       "23648            3.27             5           48      5         False  ...   \n",
       "23665            2.65             6           18      1         False  ...   \n",
       "23681            2.50             5           29      2         False  ...   \n",
       "\n",
       "       ponds_nearest  days_exposition  price_per_meter  weekday month  year  \\\n",
       "3              234.0            424.0           408176        4     7  2015   \n",
       "24             124.0            265.0            67010        5    10  2015   \n",
       "63             779.0             37.0           169491        1     9  2018   \n",
       "136            812.0            163.0           127450        2     8  2018   \n",
       "137            133.0            340.0           156597        0     1  2018   \n",
       "...              ...              ...              ...      ...   ...   ...   \n",
       "23632          230.0            113.0           131578        5     6  2018   \n",
       "23644          171.0            166.0            80483        3     4  2018   \n",
       "23648          117.0            621.0           129487        4     5  2017   \n",
       "23665          519.0            131.0            90425        4     5  2016   \n",
       "23681          660.0             80.0           122093        4     5  2018   \n",
       "\n",
       "       living_area_and_total  kitchen_area_and_total  floor_type  \\\n",
       "3                   0.283019                0.056604      другой   \n",
       "24                  0.474227                0.195876      первый   \n",
       "63                  0.576271                0.135593      другой   \n",
       "136                 0.490196                0.137255      другой   \n",
       "137                 0.364706                0.305882      другой   \n",
       "...                      ...                     ...         ...   \n",
       "23632               0.447368                0.236842      другой   \n",
       "23644               0.516129                0.193548   последний   \n",
       "23648               0.615385                0.102564   последний   \n",
       "23665               0.382979                0.297872      первый   \n",
       "23681               0.674419                0.139535      другой   \n",
       "\n",
       "       to_center_in_km  \n",
       "3                    6  \n",
       "24                   2  \n",
       "63                   4  \n",
       "136                  3  \n",
       "137                  4  \n",
       "...                ...  \n",
       "23632                7  \n",
       "23644                4  \n",
       "23648                1  \n",
       "23665                4  \n",
       "23681                7  \n",
       "\n",
       "[1204 rows x 30 columns]"
      ]
     },
     "execution_count": 55,
     "metadata": {},
     "output_type": "execute_result"
    }
   ],
   "source": [
    "center_spb = good_realty_spb.query('to_center_in_km < 8')\n",
    "center_spb"
   ]
  },
  {
   "cell_type": "code",
   "execution_count": 56,
   "metadata": {},
   "outputs": [
    {
     "data": {
      "text/plain": [
       "<matplotlib.axes._subplots.AxesSubplot at 0x7f4b0c7cae50>"
      ]
     },
     "execution_count": 56,
     "metadata": {},
     "output_type": "execute_result"
    },
    {
     "data": {
      "image/png": "[encoded data removed]",
      "text/plain": [
       "<Figure size 576x432 with 1 Axes>"
      ]
     },
     "metadata": {
      "needs_background": "light"
     },
     "output_type": "display_data"
    }
   ],
   "source": [
    "realty['total_area'].hist(bins=60, range=(0, 300), figsize=(8, 6))\n",
    "center_spb['total_area'].hist(bins=60, range=(0, 300), figsize=(8, 6))"
   ]
  },
  {
   "cell_type": "markdown",
   "metadata": {},
   "source": [
    "Распределение площади в центре очень схоже с распределением по остальной выборки."
   ]
  },
  {
   "cell_type": "code",
   "execution_count": 57,
   "metadata": {},
   "outputs": [
    {
     "data": {
      "text/plain": [
       "<matplotlib.axes._subplots.AxesSubplot at 0x7f4b05534650>"
      ]
     },
     "execution_count": 57,
     "metadata": {},
     "output_type": "execute_result"
    },
    {
     "data": {
      "image/png": "[encoded data removed]",
      "text/plain": [
       "<Figure size 576x432 with 1 Axes>"
      ]
     },
     "metadata": {
      "needs_background": "light"
     },
     "output_type": "display_data"
    }
   ],
   "source": [
    "(good_realty['last_price'] / 1000000).hist(bins=60, range=(0, 30), figsize=(8, 6))\n",
    "(center_spb['last_price'] / 1000000).hist(bins=60, range=(0, 30), figsize=(8, 6))"
   ]
  },
  {
   "cell_type": "markdown",
   "metadata": {},
   "source": [
    "В центре смещение к более дорогим квартирам."
   ]
  },
  {
   "cell_type": "code",
   "execution_count": 58,
   "metadata": {},
   "outputs": [
    {
     "data": {
      "text/plain": [
       "<matplotlib.axes._subplots.AxesSubplot at 0x7f4b05fe67d0>"
      ]
     },
     "execution_count": 58,
     "metadata": {},
     "output_type": "execute_result"
    },
    {
     "data": {
      "image/png": "[encoded data removed]",
      "text/plain": [
       "<Figure size 576x432 with 1 Axes>"
      ]
     },
     "metadata": {
      "needs_background": "light"
     },
     "output_type": "display_data"
    }
   ],
   "source": [
    "good_realty['rooms'].hist(bins=10, range=(0, 10), figsize=(8, 6))\n",
    "center_spb['rooms'].hist(bins=10, range=(0, 10), figsize=(8, 6))"
   ]
  },
  {
   "cell_type": "markdown",
   "metadata": {},
   "source": [
    "В центре больше многокомнатных квартир."
   ]
  },
  {
   "cell_type": "code",
   "execution_count": 59,
   "metadata": {},
   "outputs": [
    {
     "data": {
      "text/plain": [
       "<matplotlib.axes._subplots.AxesSubplot at 0x7f4b0640f610>"
      ]
     },
     "execution_count": 59,
     "metadata": {},
     "output_type": "execute_result"
    },
    {
     "data": {
      "image/png": "[encoded data removed]",
      "text/plain": [
       "<Figure size 576x432 with 1 Axes>"
      ]
     },
     "metadata": {
      "needs_background": "light"
     },
     "output_type": "display_data"
    }
   ],
   "source": [
    "good_realty['ceiling_height'].hist(bins=6, range=(2, 5), figsize=(8, 6))\n",
    "center_spb['ceiling_height'].hist(bins=6, range=(2, 5), figsize=(8, 6))"
   ]
  },
  {
   "cell_type": "markdown",
   "metadata": {},
   "source": [
    "В центре потолки выше, чем на окраинах."
   ]
  },
  {
   "cell_type": "code",
   "execution_count": 60,
   "metadata": {},
   "outputs": [],
   "source": [
    "def plot_constrctor_center(index):\n",
    "    (center_spb.pivot_table(index=index, values='price_per_meter',\n",
    "                             aggfunc=['median']).plot(grid=True))"
   ]
  },
  {
   "cell_type": "code",
   "execution_count": 61,
   "metadata": {},
   "outputs": [
    {
     "data": {
      "image/png": "[encoded data removed]",
      "text/plain": [
       "<Figure size 432x288 with 1 Axes>"
      ]
     },
     "metadata": {
      "needs_background": "light"
     },
     "output_type": "display_data"
    }
   ],
   "source": [
    "plot_constrctor_center(good_realty['rooms'])"
   ]
  },
  {
   "cell_type": "markdown",
   "metadata": {},
   "source": [
    "В центре однокомнатные квартиры стоят существенно дороже, чем в остальной части Питера."
   ]
  },
  {
   "cell_type": "code",
   "execution_count": 62,
   "metadata": {},
   "outputs": [
    {
     "data": {
      "image/png": "[encoded data removed]",
      "text/plain": [
       "<Figure size 432x288 with 1 Axes>"
      ]
     },
     "metadata": {
      "needs_background": "light"
     },
     "output_type": "display_data"
    }
   ],
   "source": [
    "plot_constrctor_center(good_realty['floor_type'])"
   ]
  },
  {
   "cell_type": "markdown",
   "metadata": {},
   "source": [
    "Картина не отличается от остального города, самые дешевые квартиры на первом этаже."
   ]
  },
  {
   "cell_type": "code",
   "execution_count": 63,
   "metadata": {
    "scrolled": false
   },
   "outputs": [
    {
     "data": {
      "text/plain": [
       "<matplotlib.axes._subplots.AxesSubplot at 0x7f4b0592da50>"
      ]
     },
     "execution_count": 63,
     "metadata": {},
     "output_type": "execute_result"
    },
    {
     "data": {
      "image/png": "[encoded data removed]",
      "text/plain": [
       "<Figure size 576x432 with 1 Axes>"
      ]
     },
     "metadata": {
      "needs_background": "light"
     },
     "output_type": "display_data"
    }
   ],
   "source": [
    "center_pivot = center_spb.pivot_table(index='to_center_in_km', values='price_per_meter')   \n",
    "center_pivot.plot(grid=True, figsize=(8, 6), title='Зависимость цены от расстояния до центра')"
   ]
  },
  {
   "cell_type": "markdown",
   "metadata": {},
   "source": [
    "Цены снижаются по мере удаления от центара."
   ]
  },
  {
   "cell_type": "code",
   "execution_count": 64,
   "metadata": {
    "scrolled": false
   },
   "outputs": [
    {
     "data": {
      "image/png": "[encoded data removed]",
      "text/plain": [
       "<Figure size 432x288 with 1 Axes>"
      ]
     },
     "metadata": {
      "needs_background": "light"
     },
     "output_type": "display_data"
    }
   ],
   "source": [
    "plot_constrctor_center(good_realty['year'])"
   ]
  },
  {
   "cell_type": "code",
   "execution_count": 65,
   "metadata": {},
   "outputs": [
    {
     "data": {
      "image/png": "[encoded data removed]",
      "text/plain": [
       "<Figure size 432x288 with 1 Axes>"
      ]
     },
     "metadata": {
      "needs_background": "light"
     },
     "output_type": "display_data"
    }
   ],
   "source": [
    "plot_constrctor_center(good_realty['month'])"
   ]
  },
  {
   "cell_type": "markdown",
   "metadata": {},
   "source": [
    "В центре картина по месяцам сильно отличается от остального города, май самый выгодный месяц для покупки квартиры в центре."
   ]
  },
  {
   "cell_type": "code",
   "execution_count": 66,
   "metadata": {
    "scrolled": true
   },
   "outputs": [
    {
     "data": {
      "image/png": "[encoded data removed]",
      "text/plain": [
       "<Figure size 432x288 with 1 Axes>"
      ]
     },
     "metadata": {
      "needs_background": "light"
     },
     "output_type": "display_data"
    }
   ],
   "source": [
    "plot_constrctor_center(good_realty['weekday'])"
   ]
  },
  {
   "cell_type": "markdown",
   "metadata": {},
   "source": [
    "Так же как и в остальной части города в воскресенье самые выгодные цены."
   ]
  },
  {
   "cell_type": "markdown",
   "metadata": {},
   "source": [
    "### Шаг 5. Общий вывод"
   ]
  },
  {
   "cell_type": "markdown",
   "metadata": {
    "pycharm": {
     "name": "#%% md\n"
    }
   },
   "source": [
    "##### Факторы влияющие на цену квартир.\n",
    "- Больше половины квартир продается по цене до 5 млн. рублей.\n",
    "- На цену м² существенное влияние оказывает общая площадь квартиры, в квартирах до 100 м² корреляция составляет 0.24, в квартирах большей площадью влияние увеличивается до 0.39.\n",
    "- м² в трехкомнатных квартирах на 6.73% цены дешевле чем в остальной выборке.\n",
    "- Этаж тоже оказывает влияние на стоимость квартиры. Самые дешевые квартиры на первом этаже, затем идут квартиры на последнем этаже, а квартиры между ними оказались самыми дорогими. В среднем квартиры на первом этаже дешевле на 13.95% чем цены  в общем на рынке.\n",
    "- Удаленность квартиры от центра существенно влияет на ее стоимость, и является одним из основных факторов влияющих на конечную цену, корреляция составляет -0.31.\n",
    "- Также наблюдается сезонность, весной - летом цены дешевле, чем осенью - зимой. И в конце недели цены ниже чем среди недели.\n",
    "\n",
    "##### Типичные параметры продающихся квартир.\n",
    "- В основном продаются квартиры площадью 40 - 69 м².\n",
    "- Типичная цена продажи 3.4 - 6.79 млн. рублей.\n",
    "- Комнаты от 1 до 3.\n",
    "- Высота потолков 2.6 - 2.7 м.\n",
    "- Время продажи составляет от 43 до 229 дней.\n",
    "\n",
    "##### Для центра параметры отличаются.\n",
    "Центральная часть города судя по графику цен, имеет диаметр примерно 16 км.\n",
    "- В центре площадь квартир больше и в основном составляет 55 - 106 м².\n",
    "- Цена от 6.45 до 14.5 млн. рублей.\n",
    "- Количество комнат в центре тоже более, здесь однокомнатных практически нет, и продаются в основном двух и трех комнатные.\n",
    "- Потолки 2.65 - 3.2 м.\n",
    "- Время продажи 61 - 299 дней."
   ]
  },
  {
   "cell_type": "code",
   "execution_count": null,
   "outputs": [],
   "source": [],
   "metadata": {
    "collapsed": false,
    "pycharm": {
     "name": "#%%\n"
    }
   }
  }
 ],
 "metadata": {
  "kernelspec": {
   "display_name": "Python 3",
   "language": "python",
   "name": "python3"
  },
  "language_info": {
   "codemirror_mode": {
    "name": "ipython",
    "version": 3
   },
   "file_extension": ".py",
   "mimetype": "text/x-python",
   "name": "python",
   "nbconvert_exporter": "python",
   "pygments_lexer": "ipython3",
   "version": "3.7.8"
  },
  "toc": {
   "base_numbering": 1,
   "nav_menu": {},
   "number_sections": true,
   "sideBar": true,
   "skip_h1_title": true,
   "title_cell": "Table of Contents",
   "title_sidebar": "Contents",
   "toc_cell": false,
   "toc_position": {},
   "toc_section_display": true,
   "toc_window_display": false
  }
 },
 "nbformat": 4,
 "nbformat_minor": 2
}